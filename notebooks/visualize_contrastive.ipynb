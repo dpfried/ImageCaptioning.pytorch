{
 "cells": [
  {
   "cell_type": "code",
   "execution_count": 1,
   "metadata": {},
   "outputs": [
    {
     "data": {
      "text/html": [
       "<style>.container { width:100% !important; }</style>"
      ],
      "text/plain": [
       "<IPython.core.display.HTML object>"
      ]
     },
     "metadata": {},
     "output_type": "display_data"
    }
   ],
   "source": [
    "from IPython.core.display import display, HTML\n",
    "display(HTML(\"<style>.container { width:100% !important; }</style>\"))"
   ]
  },
  {
   "cell_type": "code",
   "execution_count": 2,
   "metadata": {},
   "outputs": [
    {
     "name": "stdout",
     "output_type": "stream",
     "text": [
      "/home/dfried/projects/ImageCaptioning.pytorch\n"
     ]
    }
   ],
   "source": [
    "cd /home/dfried/projects/ImageCaptioning.pytorch"
   ]
  },
  {
   "cell_type": "code",
   "execution_count": 3,
   "metadata": {},
   "outputs": [],
   "source": [
    "def wrap_tag(tag, inner):\n",
    "    return f'<{tag}>{inner}</{tag}>'\n",
    "\n",
    "def image_html(image_path, width=300, border=False):\n",
    "    if border:\n",
    "        style = ' style=\"border: 5px solid #0FF\" '\n",
    "    else:\n",
    "        style = ''\n",
    "    return f'<img width={width} src=\"{image_path}\" {style}></img>'\n",
    "\n",
    "def captions_html(captions):\n",
    "    #return wrap_tag('p', '<br>'.join(' '.join(cap) for cap in captions))\n",
    "    return wrap_tag('ol', ''.join(wrap_tag('li', cap) for cap in captions))\n",
    "\n",
    "def images_html(image_paths, width=300, num_per_row=5, target=None, captions=None):\n",
    "    rows = []\n",
    "    for ix in range(0, len(image_paths), num_per_row):\n",
    "        items = [wrap_tag('td', image_html(image_paths[image_ix], width=width, border=image_ix == target)) \n",
    "                 for image_ix in range(ix, ix+num_per_row) if image_ix < len(image_paths)]\n",
    "        rows.append(wrap_tag('tr', ''.join(items)))\n",
    "        if captions is not None:\n",
    "            cap_html = [\n",
    "                wrap_tag('td', captions_html(captions[image_ix]))\n",
    "                for image_ix in range(ix, ix+num_per_row)\n",
    "                if image_ix < len(image_paths)\n",
    "            ]\n",
    "            rows.append(wrap_tag('tr', ''.join(cap_html)))\n",
    "    return wrap_tag('table', ''.join(rows))\n",
    "\n",
    "def display_images(image_paths, width=300, num_per_row=5, target=None, captions=None):\n",
    "    display(HTML(images_html(image_paths, width=width, num_per_row=num_per_row, target=target, captions=captions)))"
   ]
  },
  {
   "cell_type": "code",
   "execution_count": 6,
   "metadata": {},
   "outputs": [],
   "source": [
    "def display_neighbors(features, k=5, num_per_row=5):\n",
    "    neighbor_batch = loader.indices['train'].get_neighbor_batch(loader, features.flatten(), k)\n",
    "#     neighbor_batch = get_neighbor_batch(features.flatten(), k)\n",
    "    paths_k = [d['file_path'] for d in neighbor_batch['infos']]\n",
    "    captions_k = [[' '.join(c) for c in cs] for cs in get_captions_from_batch(neighbor_batch)]\n",
    "    display_images(paths_k, captions=captions_k, num_per_row=num_per_row)"
   ]
  },
  {
   "cell_type": "code",
   "execution_count": 7,
   "metadata": {},
   "outputs": [],
   "source": [
    "import torch"
   ]
  },
  {
   "cell_type": "code",
   "execution_count": 9,
   "metadata": {},
   "outputs": [],
   "source": [
    "def results_name(beam_size, distractors, alpha):\n",
    "    return f'eval_results/pred_verbose_pragmatic_val_cand-contrastive_beam_search-{beam_size}_distr-{distractors}_alpha-{alpha}_val.pth'"
   ]
  },
  {
   "cell_type": "code",
   "execution_count": 14,
   "metadata": {},
   "outputs": [],
   "source": [
    "def pretty_name(beam_size, distractors, alpha):\n",
    "#     return f\"bs-{beam_size}_distr-{distractors}_alpha-{alpha}\"\n",
    "    return f\"bs-{beam_size}_d-{distractors}_α-{alpha}\""
   ]
  },
  {
   "cell_type": "code",
   "execution_count": 42,
   "metadata": {},
   "outputs": [],
   "source": [
    "# beam_size, distractors, alpha\n",
    "systems = [\n",
    "    (5, 10, 0.0),\n",
    "    (5, 10, 0.1),\n",
    "    (5, 10, 0.5),\n",
    "    (5, 10, 1.0),\n",
    "    (5, 10, 5.0),\n",
    "]"
   ]
  },
  {
   "cell_type": "code",
   "execution_count": 16,
   "metadata": {},
   "outputs": [],
   "source": [
    "results = {\n",
    "    pretty_name(*t): torch.load(results_name(*t))\n",
    "    for t in systems\n",
    "}"
   ]
  },
  {
   "cell_type": "code",
   "execution_count": 17,
   "metadata": {},
   "outputs": [
    {
     "data": {
      "text/plain": [
       "dict_keys(['bs-5_d-10_α-0.0', 'bs-5_d-10_α-0.1', 'bs-5_d-10_α-0.5', 'bs-5_d-10_α-1.0', 'bs-5_d-10_α-5.0'])"
      ]
     },
     "execution_count": 17,
     "metadata": {},
     "output_type": "execute_result"
    }
   ],
   "source": [
    "results.keys()"
   ]
  },
  {
   "cell_type": "code",
   "execution_count": 18,
   "metadata": {},
   "outputs": [
    {
     "data": {
      "text/plain": [
       "{'image_id': 184613,\n",
       " 'caption': 'a group of people in a field with animals',\n",
       " 'perplexity': 0.9350448846817017,\n",
       " 'entropy': 2.3347628116607666,\n",
       " 'context_paths': ['val2014/COCO_val2014_000000184613.jpg',\n",
       "  'val2014/COCO_val2014_000000250804.jpg',\n",
       "  'train2014/COCO_train2014_000000433662.jpg',\n",
       "  'train2014/COCO_train2014_000000020966.jpg',\n",
       "  'train2014/COCO_train2014_000000063043.jpg',\n",
       "  'train2014/COCO_train2014_000000077693.jpg',\n",
       "  'train2014/COCO_train2014_000000378214.jpg',\n",
       "  'train2014/COCO_train2014_000000407590.jpg',\n",
       "  'val2014/COCO_val2014_000000031471.jpg',\n",
       "  'train2014/COCO_train2014_000000007953.jpg',\n",
       "  'train2014/COCO_train2014_000000086329.jpg'],\n",
       " 'context_ids': [184613,\n",
       "  250804,\n",
       "  433662,\n",
       "  20966,\n",
       "  63043,\n",
       "  77693,\n",
       "  378214,\n",
       "  407590,\n",
       "  31471,\n",
       "  7953,\n",
       "  86329]}"
      ]
     },
     "execution_count": 18,
     "metadata": {},
     "output_type": "execute_result"
    }
   ],
   "source": [
    "next(iter(results.values()))[0]"
   ]
  },
  {
   "cell_type": "code",
   "execution_count": 19,
   "metadata": {},
   "outputs": [],
   "source": [
    "def all_equal(xs):\n",
    "    xs = list(xs)\n",
    "    return all(xs[0] == x for x in xs)"
   ]
  },
  {
   "cell_type": "code",
   "execution_count": 55,
   "metadata": {},
   "outputs": [],
   "source": [
    "def display_index(index, results, max_distractors=None):\n",
    "    records = {k: r[index] for k, r in results.items()}\n",
    "    assert all_equal(r['image_id'] for r in records.values())\n",
    "#     assert all_equal(len(r['context_paths']) for r in records.values())\n",
    "    paths = max((d['context_paths'] for d in records.values()), key=len)\n",
    "#     paths = next(iter(records.values()))['context_paths']\n",
    "    formatted_captions = [\n",
    "        \"{} | {}\".format(r['caption'], name)\n",
    "        for name, r in records.items()\n",
    "    ]\n",
    "    display_images([paths[0]], captions=[formatted_captions], width=400)\n",
    "    distractors = paths[1:]\n",
    "    if max_distractors is not None:\n",
    "        distractors = distractors[:max_distractors]\n",
    "    display_images(distractors, num_per_row=3)"
   ]
  },
  {
   "cell_type": "code",
   "execution_count": 26,
   "metadata": {},
   "outputs": [
    {
     "data": {
      "text/html": [
       "<table><tr><td><img width=400 src=\"val2014/COCO_val2014_000000184613.jpg\" ></img></td></tr><tr><td><ol><li>a group of people in a field with animals | bs-5_d-10_α-0.0</li><li>a group of people in a field with animals | bs-5_d-10_α-0.1</li><li>a person with a hat and an umbrella | bs-5_d-10_α-0.5</li><li>a person with a umbrella on a field | bs-5_d-10_α-1.0</li><li>african animals in a field with people in the background | bs-5_d-10_α-5.0</li></ol></td></tr></table>"
      ],
      "text/plain": [
       "<IPython.core.display.HTML object>"
      ]
     },
     "metadata": {},
     "output_type": "display_data"
    },
    {
     "data": {
      "text/html": [
       "<table><tr><td><img width=300 src=\"val2014/COCO_val2014_000000250804.jpg\" ></img></td><td><img width=300 src=\"train2014/COCO_train2014_000000433662.jpg\" ></img></td><td><img width=300 src=\"train2014/COCO_train2014_000000020966.jpg\" ></img></td></tr><tr><td><img width=300 src=\"train2014/COCO_train2014_000000063043.jpg\" ></img></td><td><img width=300 src=\"train2014/COCO_train2014_000000077693.jpg\" ></img></td><td><img width=300 src=\"train2014/COCO_train2014_000000378214.jpg\" ></img></td></tr><tr><td><img width=300 src=\"train2014/COCO_train2014_000000407590.jpg\" ></img></td><td><img width=300 src=\"val2014/COCO_val2014_000000031471.jpg\" ></img></td><td><img width=300 src=\"train2014/COCO_train2014_000000007953.jpg\" ></img></td></tr><tr><td><img width=300 src=\"train2014/COCO_train2014_000000086329.jpg\" ></img></td></tr></table>"
      ],
      "text/plain": [
       "<IPython.core.display.HTML object>"
      ]
     },
     "metadata": {},
     "output_type": "display_data"
    }
   ],
   "source": [
    "display_index(0, results)"
   ]
  },
  {
   "cell_type": "code",
   "execution_count": 27,
   "metadata": {
    "scrolled": false
   },
   "outputs": [
    {
     "data": {
      "text/html": [
       "<table><tr><td><img width=400 src=\"val2014/COCO_val2014_000000403013.jpg\" ></img></td></tr><tr><td><ol><li>a kitchen with a white stove top oven | bs-5_d-10_α-0.0</li><li>a kitchen with a white stove top oven | bs-5_d-10_α-0.1</li><li>a small kitchen with white appliances and white appliances | bs-5_d-10_α-0.5</li><li>a small kitchen with white appliances and white appliances | bs-5_d-10_α-1.0</li><li>a small kitchen with white appliances and white appliances | bs-5_d-10_α-5.0</li></ol></td></tr></table>"
      ],
      "text/plain": [
       "<IPython.core.display.HTML object>"
      ]
     },
     "metadata": {},
     "output_type": "display_data"
    },
    {
     "data": {
      "text/html": [
       "<table><tr><td><img width=300 src=\"val2014/COCO_val2014_000000048910.jpg\" ></img></td><td><img width=300 src=\"train2014/COCO_train2014_000000266273.jpg\" ></img></td><td><img width=300 src=\"train2014/COCO_train2014_000000229962.jpg\" ></img></td></tr><tr><td><img width=300 src=\"train2014/COCO_train2014_000000332202.jpg\" ></img></td><td><img width=300 src=\"val2014/COCO_val2014_000000409855.jpg\" ></img></td><td><img width=300 src=\"train2014/COCO_train2014_000000312850.jpg\" ></img></td></tr><tr><td><img width=300 src=\"train2014/COCO_train2014_000000130180.jpg\" ></img></td><td><img width=300 src=\"val2014/COCO_val2014_000000553129.jpg\" ></img></td><td><img width=300 src=\"train2014/COCO_train2014_000000138536.jpg\" ></img></td></tr><tr><td><img width=300 src=\"train2014/COCO_train2014_000000524838.jpg\" ></img></td></tr></table>"
      ],
      "text/plain": [
       "<IPython.core.display.HTML object>"
      ]
     },
     "metadata": {},
     "output_type": "display_data"
    }
   ],
   "source": [
    "display_index(1, results)"
   ]
  },
  {
   "cell_type": "code",
   "execution_count": 28,
   "metadata": {
    "scrolled": false
   },
   "outputs": [
    {
     "data": {
      "text/html": [
       "<table><tr><td><img width=400 src=\"val2014/COCO_val2014_000000562150.jpg\" ></img></td></tr><tr><td><ol><li>a woman holding a cat in her arms | bs-5_d-10_α-0.0</li><li>a woman holding a cat in her arms | bs-5_d-10_α-0.1</li><li>a woman holding a cat on a leash | bs-5_d-10_α-0.5</li><li>a woman holding a cat on a leash | bs-5_d-10_α-1.0</li><li>toddler playing with a cat on a leash | bs-5_d-10_α-5.0</li></ol></td></tr></table>"
      ],
      "text/plain": [
       "<IPython.core.display.HTML object>"
      ]
     },
     "metadata": {},
     "output_type": "display_data"
    },
    {
     "data": {
      "text/html": [
       "<table><tr><td><img width=300 src=\"train2014/COCO_train2014_000000277050.jpg\" ></img></td><td><img width=300 src=\"train2014/COCO_train2014_000000184937.jpg\" ></img></td><td><img width=300 src=\"train2014/COCO_train2014_000000478675.jpg\" ></img></td></tr><tr><td><img width=300 src=\"val2014/COCO_val2014_000000361217.jpg\" ></img></td><td><img width=300 src=\"val2014/COCO_val2014_000000363321.jpg\" ></img></td><td><img width=300 src=\"val2014/COCO_val2014_000000194716.jpg\" ></img></td></tr><tr><td><img width=300 src=\"val2014/COCO_val2014_000000169690.jpg\" ></img></td><td><img width=300 src=\"train2014/COCO_train2014_000000430394.jpg\" ></img></td><td><img width=300 src=\"train2014/COCO_train2014_000000390934.jpg\" ></img></td></tr><tr><td><img width=300 src=\"train2014/COCO_train2014_000000334039.jpg\" ></img></td></tr></table>"
      ],
      "text/plain": [
       "<IPython.core.display.HTML object>"
      ]
     },
     "metadata": {},
     "output_type": "display_data"
    }
   ],
   "source": [
    "display_index(2, results)"
   ]
  },
  {
   "cell_type": "code",
   "execution_count": 29,
   "metadata": {
    "scrolled": false
   },
   "outputs": [
    {
     "data": {
      "text/html": [
       "<table><tr><td><img width=400 src=\"val2014/COCO_val2014_000000360772.jpg\" ></img></td></tr><tr><td><ol><li>a white toilet sitting in a bathroom next to a wall | bs-5_d-10_α-0.0</li><li>a white toilet sitting in a bathroom next to a wall | bs-5_d-10_α-0.1</li><li>a white toilet sitting in a bathroom next to a wall | bs-5_d-10_α-0.5</li><li>a white toilet in a bathroom next to a wall | bs-5_d-10_α-1.0</li><li>graffiti on the wall of a small bathroom | bs-5_d-10_α-5.0</li></ol></td></tr></table>"
      ],
      "text/plain": [
       "<IPython.core.display.HTML object>"
      ]
     },
     "metadata": {},
     "output_type": "display_data"
    },
    {
     "data": {
      "text/html": [
       "<table><tr><td><img width=300 src=\"val2014/COCO_val2014_000000012323.jpg\" ></img></td><td><img width=300 src=\"train2014/COCO_train2014_000000386560.jpg\" ></img></td><td><img width=300 src=\"train2014/COCO_train2014_000000567179.jpg\" ></img></td></tr><tr><td><img width=300 src=\"train2014/COCO_train2014_000000208754.jpg\" ></img></td><td><img width=300 src=\"train2014/COCO_train2014_000000005277.jpg\" ></img></td><td><img width=300 src=\"val2014/COCO_val2014_000000126941.jpg\" ></img></td></tr><tr><td><img width=300 src=\"train2014/COCO_train2014_000000472831.jpg\" ></img></td><td><img width=300 src=\"train2014/COCO_train2014_000000132454.jpg\" ></img></td><td><img width=300 src=\"train2014/COCO_train2014_000000201686.jpg\" ></img></td></tr><tr><td><img width=300 src=\"train2014/COCO_train2014_000000428120.jpg\" ></img></td></tr></table>"
      ],
      "text/plain": [
       "<IPython.core.display.HTML object>"
      ]
     },
     "metadata": {},
     "output_type": "display_data"
    }
   ],
   "source": [
    "display_index(3, results)"
   ]
  },
  {
   "cell_type": "code",
   "execution_count": 30,
   "metadata": {
    "scrolled": false
   },
   "outputs": [
    {
     "data": {
      "text/html": [
       "<table><tr><td><img width=400 src=\"val2014/COCO_val2014_000000340559.jpg\" ></img></td></tr><tr><td><ol><li>a kitchen with a sink and a sink | bs-5_d-10_α-0.0</li><li>a kitchen with a sink and a sink | bs-5_d-10_α-0.1</li><li>a kitchen with a sink and a sink | bs-5_d-10_α-0.5</li><li>a sink and a sink in a room | bs-5_d-10_α-1.0</li><li>fancy kitchen with a stainless steel sink in it | bs-5_d-10_α-5.0</li></ol></td></tr></table>"
      ],
      "text/plain": [
       "<IPython.core.display.HTML object>"
      ]
     },
     "metadata": {},
     "output_type": "display_data"
    },
    {
     "data": {
      "text/html": [
       "<table><tr><td><img width=300 src=\"train2014/COCO_train2014_000000432201.jpg\" ></img></td><td><img width=300 src=\"val2014/COCO_val2014_000000042568.jpg\" ></img></td><td><img width=300 src=\"val2014/COCO_val2014_000000229311.jpg\" ></img></td></tr><tr><td><img width=300 src=\"val2014/COCO_val2014_000000078266.jpg\" ></img></td><td><img width=300 src=\"val2014/COCO_val2014_000000070434.jpg\" ></img></td><td><img width=300 src=\"val2014/COCO_val2014_000000452793.jpg\" ></img></td></tr><tr><td><img width=300 src=\"train2014/COCO_train2014_000000504336.jpg\" ></img></td><td><img width=300 src=\"train2014/COCO_train2014_000000375728.jpg\" ></img></td><td><img width=300 src=\"train2014/COCO_train2014_000000083878.jpg\" ></img></td></tr><tr><td><img width=300 src=\"val2014/COCO_val2014_000000121828.jpg\" ></img></td></tr></table>"
      ],
      "text/plain": [
       "<IPython.core.display.HTML object>"
      ]
     },
     "metadata": {},
     "output_type": "display_data"
    }
   ],
   "source": [
    "display_index(4, results)"
   ]
  },
  {
   "cell_type": "code",
   "execution_count": 31,
   "metadata": {
    "scrolled": false
   },
   "outputs": [
    {
     "data": {
      "text/html": [
       "<table><tr><td><img width=400 src=\"val2014/COCO_val2014_000000321107.jpg\" ></img></td></tr><tr><td><ol><li>a woman riding a bike down a street | bs-5_d-10_α-0.0</li><li>a woman riding a bike down a street | bs-5_d-10_α-0.1</li><li>a woman riding a bike down a street | bs-5_d-10_α-0.5</li><li>a woman riding a bike down a street | bs-5_d-10_α-1.0</li><li>a woman riding a bike down a street | bs-5_d-10_α-5.0</li></ol></td></tr></table>"
      ],
      "text/plain": [
       "<IPython.core.display.HTML object>"
      ]
     },
     "metadata": {},
     "output_type": "display_data"
    },
    {
     "data": {
      "text/html": [
       "<table><tr><td><img width=300 src=\"train2014/COCO_train2014_000000329755.jpg\" ></img></td><td><img width=300 src=\"val2014/COCO_val2014_000000493846.jpg\" ></img></td><td><img width=300 src=\"val2014/COCO_val2014_000000016961.jpg\" ></img></td></tr><tr><td><img width=300 src=\"val2014/COCO_val2014_000000087920.jpg\" ></img></td><td><img width=300 src=\"train2014/COCO_train2014_000000304134.jpg\" ></img></td><td><img width=300 src=\"train2014/COCO_train2014_000000262967.jpg\" ></img></td></tr><tr><td><img width=300 src=\"train2014/COCO_train2014_000000489107.jpg\" ></img></td><td><img width=300 src=\"train2014/COCO_train2014_000000363455.jpg\" ></img></td><td><img width=300 src=\"train2014/COCO_train2014_000000151778.jpg\" ></img></td></tr><tr><td><img width=300 src=\"train2014/COCO_train2014_000000380820.jpg\" ></img></td></tr></table>"
      ],
      "text/plain": [
       "<IPython.core.display.HTML object>"
      ]
     },
     "metadata": {},
     "output_type": "display_data"
    }
   ],
   "source": [
    "display_index(5, results)"
   ]
  },
  {
   "cell_type": "code",
   "execution_count": 32,
   "metadata": {
    "scrolled": false
   },
   "outputs": [
    {
     "data": {
      "text/html": [
       "<table><tr><td><img width=400 src=\"val2014/COCO_val2014_000000129001.jpg\" ></img></td></tr><tr><td><ol><li>a bath room with a bath tub and a sink | bs-5_d-10_α-0.0</li><li>a bath room with a bath tub and a sink | bs-5_d-10_α-0.1</li><li>a bath room with a bath tub and a sink | bs-5_d-10_α-0.5</li><li>a bath room with a bath tub and a sink | bs-5_d-10_α-1.0</li><li>brightly colored bathroom with a sink and shower | bs-5_d-10_α-5.0</li></ol></td></tr></table>"
      ],
      "text/plain": [
       "<IPython.core.display.HTML object>"
      ]
     },
     "metadata": {},
     "output_type": "display_data"
    },
    {
     "data": {
      "text/html": [
       "<table><tr><td><img width=300 src=\"train2014/COCO_train2014_000000037126.jpg\" ></img></td><td><img width=300 src=\"train2014/COCO_train2014_000000187972.jpg\" ></img></td><td><img width=300 src=\"val2014/COCO_val2014_000000383606.jpg\" ></img></td></tr><tr><td><img width=300 src=\"val2014/COCO_val2014_000000134715.jpg\" ></img></td><td><img width=300 src=\"train2014/COCO_train2014_000000491063.jpg\" ></img></td><td><img width=300 src=\"train2014/COCO_train2014_000000042086.jpg\" ></img></td></tr><tr><td><img width=300 src=\"val2014/COCO_val2014_000000356299.jpg\" ></img></td><td><img width=300 src=\"val2014/COCO_val2014_000000303928.jpg\" ></img></td><td><img width=300 src=\"val2014/COCO_val2014_000000449731.jpg\" ></img></td></tr><tr><td><img width=300 src=\"train2014/COCO_train2014_000000522620.jpg\" ></img></td></tr></table>"
      ],
      "text/plain": [
       "<IPython.core.display.HTML object>"
      ]
     },
     "metadata": {},
     "output_type": "display_data"
    }
   ],
   "source": [
    "display_index(6, results)"
   ]
  },
  {
   "cell_type": "code",
   "execution_count": 33,
   "metadata": {
    "scrolled": false
   },
   "outputs": [
    {
     "data": {
      "text/html": [
       "<table><tr><td><img width=400 src=\"val2014/COCO_val2014_000000556616.jpg\" ></img></td></tr><tr><td><ol><li>a row of parking meters on a city street | bs-5_d-10_α-0.0</li><li>a row of parking meters on a city street | bs-5_d-10_α-0.1</li><li>a row of parking meters on a city street | bs-5_d-10_α-0.5</li><li>a row of parking meters on a city street | bs-5_d-10_α-1.0</li><li>row of parking meters lined up on a street | bs-5_d-10_α-5.0</li></ol></td></tr></table>"
      ],
      "text/plain": [
       "<IPython.core.display.HTML object>"
      ]
     },
     "metadata": {},
     "output_type": "display_data"
    },
    {
     "data": {
      "text/html": [
       "<table><tr><td><img width=300 src=\"train2014/COCO_train2014_000000253528.jpg\" ></img></td><td><img width=300 src=\"train2014/COCO_train2014_000000539767.jpg\" ></img></td><td><img width=300 src=\"val2014/COCO_val2014_000000135410.jpg\" ></img></td></tr><tr><td><img width=300 src=\"train2014/COCO_train2014_000000068789.jpg\" ></img></td><td><img width=300 src=\"val2014/COCO_val2014_000000145039.jpg\" ></img></td><td><img width=300 src=\"train2014/COCO_train2014_000000375053.jpg\" ></img></td></tr><tr><td><img width=300 src=\"val2014/COCO_val2014_000000302200.jpg\" ></img></td><td><img width=300 src=\"train2014/COCO_train2014_000000488367.jpg\" ></img></td><td><img width=300 src=\"train2014/COCO_train2014_000000172637.jpg\" ></img></td></tr><tr><td><img width=300 src=\"train2014/COCO_train2014_000000357790.jpg\" ></img></td></tr></table>"
      ],
      "text/plain": [
       "<IPython.core.display.HTML object>"
      ]
     },
     "metadata": {},
     "output_type": "display_data"
    }
   ],
   "source": [
    "display_index(7, results)"
   ]
  },
  {
   "cell_type": "code",
   "execution_count": 34,
   "metadata": {
    "scrolled": false
   },
   "outputs": [
    {
     "data": {
      "text/html": [
       "<table><tr><td><img width=400 src=\"val2014/COCO_val2014_000000472621.jpg\" ></img></td></tr><tr><td><ol><li>a bathroom with two sinks and a bathtub | bs-5_d-10_α-0.0</li><li>a bathroom with two sinks and a bathtub | bs-5_d-10_α-0.1</li><li>a bathroom with two sinks and a bathtub | bs-5_d-10_α-0.5</li><li>a bathroom with two sinks and a bathtub | bs-5_d-10_α-1.0</li><li>fancy bathroom with two sinks and a bathtub | bs-5_d-10_α-5.0</li></ol></td></tr></table>"
      ],
      "text/plain": [
       "<IPython.core.display.HTML object>"
      ]
     },
     "metadata": {},
     "output_type": "display_data"
    },
    {
     "data": {
      "text/html": [
       "<table><tr><td><img width=300 src=\"train2014/COCO_train2014_000000515287.jpg\" ></img></td><td><img width=300 src=\"train2014/COCO_train2014_000000188343.jpg\" ></img></td><td><img width=300 src=\"train2014/COCO_train2014_000000343670.jpg\" ></img></td></tr><tr><td><img width=300 src=\"train2014/COCO_train2014_000000474732.jpg\" ></img></td><td><img width=300 src=\"train2014/COCO_train2014_000000412267.jpg\" ></img></td><td><img width=300 src=\"train2014/COCO_train2014_000000175291.jpg\" ></img></td></tr><tr><td><img width=300 src=\"train2014/COCO_train2014_000000401458.jpg\" ></img></td><td><img width=300 src=\"train2014/COCO_train2014_000000371490.jpg\" ></img></td><td><img width=300 src=\"train2014/COCO_train2014_000000504907.jpg\" ></img></td></tr><tr><td><img width=300 src=\"train2014/COCO_train2014_000000155993.jpg\" ></img></td></tr></table>"
      ],
      "text/plain": [
       "<IPython.core.display.HTML object>"
      ]
     },
     "metadata": {},
     "output_type": "display_data"
    }
   ],
   "source": [
    "display_index(8, results)"
   ]
  },
  {
   "cell_type": "code",
   "execution_count": 35,
   "metadata": {
    "scrolled": false
   },
   "outputs": [
    {
     "data": {
      "text/html": [
       "<table><tr><td><img width=400 src=\"val2014/COCO_val2014_000000364521.jpg\" ></img></td></tr><tr><td><ol><li>a yellow fire hydrant sitting on top of a dirt field | bs-5_d-10_α-0.0</li><li>a yellow fire hydrant sitting on top of a pile of dirt | bs-5_d-10_α-0.1</li><li>a yellow fire hydrant sitting on top of a pile of dirt | bs-5_d-10_α-0.5</li><li>a bunch of bananas that are on the ground | bs-5_d-10_α-1.0</li><li>bananas are on the ground next to a fire hydrant | bs-5_d-10_α-5.0</li></ol></td></tr></table>"
      ],
      "text/plain": [
       "<IPython.core.display.HTML object>"
      ]
     },
     "metadata": {},
     "output_type": "display_data"
    },
    {
     "data": {
      "text/html": [
       "<table><tr><td><img width=300 src=\"val2014/COCO_val2014_000000358345.jpg\" ></img></td><td><img width=300 src=\"train2014/COCO_train2014_000000147196.jpg\" ></img></td><td><img width=300 src=\"train2014/COCO_train2014_000000086071.jpg\" ></img></td></tr><tr><td><img width=300 src=\"train2014/COCO_train2014_000000424739.jpg\" ></img></td><td><img width=300 src=\"train2014/COCO_train2014_000000108602.jpg\" ></img></td><td><img width=300 src=\"train2014/COCO_train2014_000000395703.jpg\" ></img></td></tr><tr><td><img width=300 src=\"val2014/COCO_val2014_000000052005.jpg\" ></img></td><td><img width=300 src=\"train2014/COCO_train2014_000000405630.jpg\" ></img></td><td><img width=300 src=\"train2014/COCO_train2014_000000172654.jpg\" ></img></td></tr><tr><td><img width=300 src=\"train2014/COCO_train2014_000000355647.jpg\" ></img></td></tr></table>"
      ],
      "text/plain": [
       "<IPython.core.display.HTML object>"
      ]
     },
     "metadata": {},
     "output_type": "display_data"
    }
   ],
   "source": [
    "display_index(9, results)"
   ]
  },
  {
   "cell_type": "code",
   "execution_count": 36,
   "metadata": {
    "scrolled": false
   },
   "outputs": [
    {
     "data": {
      "text/html": [
       "<table><tr><td><img width=400 src=\"val2014/COCO_val2014_000000310391.jpg\" ></img></td></tr><tr><td><ol><li>a blue truck is parked in the grass | bs-5_d-10_α-0.0</li><li>a blue truck is parked in the grass | bs-5_d-10_α-0.1</li><li>a blue truck parked on top of a green field | bs-5_d-10_α-0.5</li><li>a blue bus is parked in the grass | bs-5_d-10_α-1.0</li><li>people are standing in front of a bus | bs-5_d-10_α-5.0</li></ol></td></tr></table>"
      ],
      "text/plain": [
       "<IPython.core.display.HTML object>"
      ]
     },
     "metadata": {},
     "output_type": "display_data"
    },
    {
     "data": {
      "text/html": [
       "<table><tr><td><img width=300 src=\"train2014/COCO_train2014_000000224753.jpg\" ></img></td><td><img width=300 src=\"train2014/COCO_train2014_000000355987.jpg\" ></img></td><td><img width=300 src=\"train2014/COCO_train2014_000000496874.jpg\" ></img></td></tr><tr><td><img width=300 src=\"train2014/COCO_train2014_000000044491.jpg\" ></img></td><td><img width=300 src=\"train2014/COCO_train2014_000000079563.jpg\" ></img></td><td><img width=300 src=\"train2014/COCO_train2014_000000401235.jpg\" ></img></td></tr><tr><td><img width=300 src=\"val2014/COCO_val2014_000000235788.jpg\" ></img></td><td><img width=300 src=\"train2014/COCO_train2014_000000419645.jpg\" ></img></td><td><img width=300 src=\"val2014/COCO_val2014_000000503765.jpg\" ></img></td></tr><tr><td><img width=300 src=\"val2014/COCO_val2014_000000516798.jpg\" ></img></td></tr></table>"
      ],
      "text/plain": [
       "<IPython.core.display.HTML object>"
      ]
     },
     "metadata": {},
     "output_type": "display_data"
    }
   ],
   "source": [
    "display_index(10, results)"
   ]
  },
  {
   "cell_type": "code",
   "execution_count": 37,
   "metadata": {
    "scrolled": false
   },
   "outputs": [
    {
     "data": {
      "text/html": [
       "<table><tr><td><img width=400 src=\"val2014/COCO_val2014_000000241876.jpg\" ></img></td></tr><tr><td><ol><li>a black cat drinking water from a toilet | bs-5_d-10_α-0.0</li><li>a black cat drinking water out of a toilet | bs-5_d-10_α-0.1</li><li>a black cat sitting on top of a toilet seat | bs-5_d-10_α-0.5</li><li>a black cat sitting on top of a toilet seat | bs-5_d-10_α-1.0</li><li>black cat sitting on top of a white toilet seat | bs-5_d-10_α-5.0</li></ol></td></tr></table>"
      ],
      "text/plain": [
       "<IPython.core.display.HTML object>"
      ]
     },
     "metadata": {},
     "output_type": "display_data"
    },
    {
     "data": {
      "text/html": [
       "<table><tr><td><img width=300 src=\"train2014/COCO_train2014_000000012102.jpg\" ></img></td><td><img width=300 src=\"val2014/COCO_val2014_000000098302.jpg\" ></img></td><td><img width=300 src=\"train2014/COCO_train2014_000000473793.jpg\" ></img></td></tr><tr><td><img width=300 src=\"train2014/COCO_train2014_000000447985.jpg\" ></img></td><td><img width=300 src=\"train2014/COCO_train2014_000000382056.jpg\" ></img></td><td><img width=300 src=\"val2014/COCO_val2014_000000562289.jpg\" ></img></td></tr><tr><td><img width=300 src=\"train2014/COCO_train2014_000000126810.jpg\" ></img></td><td><img width=300 src=\"train2014/COCO_train2014_000000479780.jpg\" ></img></td><td><img width=300 src=\"train2014/COCO_train2014_000000012315.jpg\" ></img></td></tr><tr><td><img width=300 src=\"train2014/COCO_train2014_000000225713.jpg\" ></img></td></tr></table>"
      ],
      "text/plain": [
       "<IPython.core.display.HTML object>"
      ]
     },
     "metadata": {},
     "output_type": "display_data"
    }
   ],
   "source": [
    "display_index(11, results)"
   ]
  },
  {
   "cell_type": "code",
   "execution_count": 38,
   "metadata": {
    "scrolled": false
   },
   "outputs": [
    {
     "data": {
      "text/html": [
       "<table><tr><td><img width=400 src=\"val2014/COCO_val2014_000000462341.jpg\" ></img></td></tr><tr><td><ol><li>a tall clock tower with a sky background | bs-5_d-10_α-0.0</li><li>a tall clock tower with a sky background | bs-5_d-10_α-0.1</li><li>a tall clock tower with a sky background | bs-5_d-10_α-0.5</li><li>a tower with a clock on the top of it | bs-5_d-10_α-1.0</li><li>birds are on the roof of a building | bs-5_d-10_α-5.0</li></ol></td></tr></table>"
      ],
      "text/plain": [
       "<IPython.core.display.HTML object>"
      ]
     },
     "metadata": {},
     "output_type": "display_data"
    },
    {
     "data": {
      "text/html": [
       "<table><tr><td><img width=300 src=\"train2014/COCO_train2014_000000103513.jpg\" ></img></td><td><img width=300 src=\"train2014/COCO_train2014_000000452259.jpg\" ></img></td><td><img width=300 src=\"val2014/COCO_val2014_000000578786.jpg\" ></img></td></tr><tr><td><img width=300 src=\"train2014/COCO_train2014_000000450426.jpg\" ></img></td><td><img width=300 src=\"train2014/COCO_train2014_000000347312.jpg\" ></img></td><td><img width=300 src=\"train2014/COCO_train2014_000000506910.jpg\" ></img></td></tr><tr><td><img width=300 src=\"train2014/COCO_train2014_000000481042.jpg\" ></img></td><td><img width=300 src=\"val2014/COCO_val2014_000000050965.jpg\" ></img></td><td><img width=300 src=\"train2014/COCO_train2014_000000345357.jpg\" ></img></td></tr><tr><td><img width=300 src=\"train2014/COCO_train2014_000000021945.jpg\" ></img></td></tr></table>"
      ],
      "text/plain": [
       "<IPython.core.display.HTML object>"
      ]
     },
     "metadata": {},
     "output_type": "display_data"
    }
   ],
   "source": [
    "display_index(12, results)"
   ]
  },
  {
   "cell_type": "code",
   "execution_count": 39,
   "metadata": {
    "scrolled": false
   },
   "outputs": [
    {
     "data": {
      "text/html": [
       "<table><tr><td><img width=400 src=\"val2014/COCO_val2014_000000268556.jpg\" ></img></td></tr><tr><td><ol><li>a woman riding on the back of a motorcycle down a street | bs-5_d-10_α-0.0</li><li>a woman riding on the back of a motorcycle down a street | bs-5_d-10_α-0.1</li><li>a woman riding on the back of a motorcycle down a street | bs-5_d-10_α-0.5</li><li>a woman riding on the back of a motorcycle down a street | bs-5_d-10_α-1.0</li><li>woman woman riding on the back of a motorcycle down a street | bs-5_d-10_α-5.0</li></ol></td></tr></table>"
      ],
      "text/plain": [
       "<IPython.core.display.HTML object>"
      ]
     },
     "metadata": {},
     "output_type": "display_data"
    },
    {
     "data": {
      "text/html": [
       "<table><tr><td><img width=300 src=\"val2014/COCO_val2014_000000045110.jpg\" ></img></td><td><img width=300 src=\"train2014/COCO_train2014_000000482252.jpg\" ></img></td><td><img width=300 src=\"train2014/COCO_train2014_000000540840.jpg\" ></img></td></tr><tr><td><img width=300 src=\"train2014/COCO_train2014_000000174354.jpg\" ></img></td><td><img width=300 src=\"train2014/COCO_train2014_000000255604.jpg\" ></img></td><td><img width=300 src=\"val2014/COCO_val2014_000000007325.jpg\" ></img></td></tr><tr><td><img width=300 src=\"val2014/COCO_val2014_000000340778.jpg\" ></img></td><td><img width=300 src=\"val2014/COCO_val2014_000000175831.jpg\" ></img></td><td><img width=300 src=\"train2014/COCO_train2014_000000366430.jpg\" ></img></td></tr><tr><td><img width=300 src=\"train2014/COCO_train2014_000000148727.jpg\" ></img></td></tr></table>"
      ],
      "text/plain": [
       "<IPython.core.display.HTML object>"
      ]
     },
     "metadata": {},
     "output_type": "display_data"
    }
   ],
   "source": [
    "display_index(13, results)"
   ]
  },
  {
   "cell_type": "code",
   "execution_count": 40,
   "metadata": {
    "scrolled": false
   },
   "outputs": [
    {
     "data": {
      "text/html": [
       "<table><tr><td><img width=400 src=\"val2014/COCO_val2014_000000386912.jpg\" ></img></td></tr><tr><td><ol><li>a woman sitting at a desk with a laptop | bs-5_d-10_α-0.0</li><li>a woman sitting at a desk with a laptop | bs-5_d-10_α-0.1</li><li>a woman sitting at a desk with a laptop | bs-5_d-10_α-0.5</li><li>a woman sitting at a desk with a laptop | bs-5_d-10_α-1.0</li><li>woman sitting at a desk in front of a computer | bs-5_d-10_α-5.0</li></ol></td></tr></table>"
      ],
      "text/plain": [
       "<IPython.core.display.HTML object>"
      ]
     },
     "metadata": {},
     "output_type": "display_data"
    },
    {
     "data": {
      "text/html": [
       "<table><tr><td><img width=300 src=\"train2014/COCO_train2014_000000272647.jpg\" ></img></td><td><img width=300 src=\"train2014/COCO_train2014_000000336839.jpg\" ></img></td><td><img width=300 src=\"train2014/COCO_train2014_000000275997.jpg\" ></img></td></tr><tr><td><img width=300 src=\"val2014/COCO_val2014_000000121586.jpg\" ></img></td><td><img width=300 src=\"train2014/COCO_train2014_000000563391.jpg\" ></img></td><td><img width=300 src=\"train2014/COCO_train2014_000000096723.jpg\" ></img></td></tr><tr><td><img width=300 src=\"train2014/COCO_train2014_000000136185.jpg\" ></img></td><td><img width=300 src=\"train2014/COCO_train2014_000000003685.jpg\" ></img></td><td><img width=300 src=\"train2014/COCO_train2014_000000031587.jpg\" ></img></td></tr><tr><td><img width=300 src=\"train2014/COCO_train2014_000000497010.jpg\" ></img></td></tr></table>"
      ],
      "text/plain": [
       "<IPython.core.display.HTML object>"
      ]
     },
     "metadata": {},
     "output_type": "display_data"
    }
   ],
   "source": [
    "display_index(14, results)"
   ]
  },
  {
   "cell_type": "code",
   "execution_count": 41,
   "metadata": {
    "scrolled": false
   },
   "outputs": [
    {
     "data": {
      "text/html": [
       "<table><tr><td><img width=400 src=\"val2014/COCO_val2014_000000074331.jpg\" ></img></td></tr><tr><td><ol><li>a bunch of bananas that are in a basket | bs-5_d-10_α-0.0</li><li>a bunch of bananas that are in a basket | bs-5_d-10_α-0.1</li><li>a bunch of bananas that are on a table | bs-5_d-10_α-0.5</li><li>a bunch of bananas that are on a table | bs-5_d-10_α-1.0</li><li>bunches of bananas are on display in a store | bs-5_d-10_α-5.0</li></ol></td></tr></table>"
      ],
      "text/plain": [
       "<IPython.core.display.HTML object>"
      ]
     },
     "metadata": {},
     "output_type": "display_data"
    },
    {
     "data": {
      "text/html": [
       "<table><tr><td><img width=300 src=\"train2014/COCO_train2014_000000537862.jpg\" ></img></td><td><img width=300 src=\"train2014/COCO_train2014_000000110886.jpg\" ></img></td><td><img width=300 src=\"train2014/COCO_train2014_000000436354.jpg\" ></img></td></tr><tr><td><img width=300 src=\"train2014/COCO_train2014_000000259297.jpg\" ></img></td><td><img width=300 src=\"train2014/COCO_train2014_000000544687.jpg\" ></img></td><td><img width=300 src=\"train2014/COCO_train2014_000000514902.jpg\" ></img></td></tr><tr><td><img width=300 src=\"val2014/COCO_val2014_000000504541.jpg\" ></img></td><td><img width=300 src=\"train2014/COCO_train2014_000000332891.jpg\" ></img></td><td><img width=300 src=\"val2014/COCO_val2014_000000114504.jpg\" ></img></td></tr><tr><td><img width=300 src=\"train2014/COCO_train2014_000000364748.jpg\" ></img></td></tr></table>"
      ],
      "text/plain": [
       "<IPython.core.display.HTML object>"
      ]
     },
     "metadata": {},
     "output_type": "display_data"
    }
   ],
   "source": [
    "display_index(15, results)"
   ]
  },
  {
   "cell_type": "code",
   "execution_count": 54,
   "metadata": {},
   "outputs": [],
   "source": [
    "results_diff_distractors = {\n",
    "    pretty_name(*t): torch.load(results_name(*t))\n",
    "    # beam_size, distractors, alpha\n",
    "    for t in [\n",
    "    (5, 1, 0.0),\n",
    "    (5, 1, 1.0),\n",
    "    (5, 5, 1.0),\n",
    "    (5, 10, 1.0),\n",
    "    (5, 10, 5.0),\n",
    "    (5, 50, 1.0),\n",
    "#     (5, 50, 5.0),\n",
    "]}"
   ]
  },
  {
   "cell_type": "code",
   "execution_count": 56,
   "metadata": {},
   "outputs": [
    {
     "data": {
      "text/html": [
       "<table><tr><td><img width=400 src=\"val2014/COCO_val2014_000000184613.jpg\" ></img></td></tr><tr><td><ol><li>a group of people in a field with animals | bs-5_d-1_α-0.0</li><li>a woman standing next to a herd of cattle | bs-5_d-1_α-1.0</li><li>a woman standing next to a herd of cattle | bs-5_d-5_α-1.0</li><li>a person with a umbrella on a field | bs-5_d-10_α-1.0</li><li>african animals in a field with people in the background | bs-5_d-10_α-5.0</li><li>a young boy standing next to a herd of cattle | bs-5_d-50_α-1.0</li></ol></td></tr></table>"
      ],
      "text/plain": [
       "<IPython.core.display.HTML object>"
      ]
     },
     "metadata": {},
     "output_type": "display_data"
    },
    {
     "data": {
      "text/html": [
       "<table><tr><td><img width=300 src=\"val2014/COCO_val2014_000000250804.jpg\" ></img></td><td><img width=300 src=\"train2014/COCO_train2014_000000433662.jpg\" ></img></td><td><img width=300 src=\"train2014/COCO_train2014_000000020966.jpg\" ></img></td></tr><tr><td><img width=300 src=\"train2014/COCO_train2014_000000063043.jpg\" ></img></td><td><img width=300 src=\"train2014/COCO_train2014_000000077693.jpg\" ></img></td></tr></table>"
      ],
      "text/plain": [
       "<IPython.core.display.HTML object>"
      ]
     },
     "metadata": {},
     "output_type": "display_data"
    }
   ],
   "source": [
    "display_index(0, results_diff_distractors, max_distractors=5)"
   ]
  },
  {
   "cell_type": "code",
   "execution_count": 57,
   "metadata": {},
   "outputs": [
    {
     "data": {
      "text/html": [
       "<table><tr><td><img width=400 src=\"val2014/COCO_val2014_000000403013.jpg\" ></img></td></tr><tr><td><ol><li>a kitchen with a white stove top oven | bs-5_d-1_α-0.0</li><li>a small kitchen with white appliances and white appliances | bs-5_d-1_α-1.0</li><li>a kitchen with white appliances and white appliances | bs-5_d-5_α-1.0</li><li>a small kitchen with white appliances and white appliances | bs-5_d-10_α-1.0</li><li>a small kitchen with white appliances and white appliances | bs-5_d-10_α-5.0</li><li>a small kitchen with white appliances and white appliances | bs-5_d-50_α-1.0</li></ol></td></tr></table>"
      ],
      "text/plain": [
       "<IPython.core.display.HTML object>"
      ]
     },
     "metadata": {},
     "output_type": "display_data"
    },
    {
     "data": {
      "text/html": [
       "<table><tr><td><img width=300 src=\"val2014/COCO_val2014_000000048910.jpg\" ></img></td><td><img width=300 src=\"train2014/COCO_train2014_000000266273.jpg\" ></img></td><td><img width=300 src=\"train2014/COCO_train2014_000000229962.jpg\" ></img></td></tr><tr><td><img width=300 src=\"train2014/COCO_train2014_000000332202.jpg\" ></img></td><td><img width=300 src=\"val2014/COCO_val2014_000000409855.jpg\" ></img></td></tr></table>"
      ],
      "text/plain": [
       "<IPython.core.display.HTML object>"
      ]
     },
     "metadata": {},
     "output_type": "display_data"
    }
   ],
   "source": [
    "display_index(1, results_diff_distractors, max_distractors=5)"
   ]
  },
  {
   "cell_type": "code",
   "execution_count": 58,
   "metadata": {},
   "outputs": [
    {
     "data": {
      "text/html": [
       "<table><tr><td><img width=400 src=\"val2014/COCO_val2014_000000562150.jpg\" ></img></td></tr><tr><td><ol><li>a woman holding a cat in her arms | bs-5_d-1_α-0.0</li><li>a woman holding a cat in her arms | bs-5_d-1_α-1.0</li><li>a woman holding a cat on a leash | bs-5_d-5_α-1.0</li><li>a woman holding a cat on a leash | bs-5_d-10_α-1.0</li><li>toddler playing with a cat on a leash | bs-5_d-10_α-5.0</li><li>a woman holding a cat on a leash | bs-5_d-50_α-1.0</li></ol></td></tr></table>"
      ],
      "text/plain": [
       "<IPython.core.display.HTML object>"
      ]
     },
     "metadata": {},
     "output_type": "display_data"
    },
    {
     "data": {
      "text/html": [
       "<table><tr><td><img width=300 src=\"train2014/COCO_train2014_000000277050.jpg\" ></img></td><td><img width=300 src=\"train2014/COCO_train2014_000000184937.jpg\" ></img></td><td><img width=300 src=\"train2014/COCO_train2014_000000478675.jpg\" ></img></td></tr><tr><td><img width=300 src=\"val2014/COCO_val2014_000000361217.jpg\" ></img></td><td><img width=300 src=\"val2014/COCO_val2014_000000363321.jpg\" ></img></td></tr></table>"
      ],
      "text/plain": [
       "<IPython.core.display.HTML object>"
      ]
     },
     "metadata": {},
     "output_type": "display_data"
    }
   ],
   "source": [
    "display_index(2, results_diff_distractors, max_distractors=5)"
   ]
  },
  {
   "cell_type": "code",
   "execution_count": 59,
   "metadata": {},
   "outputs": [
    {
     "data": {
      "text/html": [
       "<table><tr><td><img width=400 src=\"val2014/COCO_val2014_000000360772.jpg\" ></img></td></tr><tr><td><ol><li>a white toilet sitting in a bathroom next to a wall | bs-5_d-1_α-0.0</li><li>a white toilet in a bathroom next to a wall | bs-5_d-1_α-1.0</li><li>a white toilet sitting in a bathroom next to a wall | bs-5_d-5_α-1.0</li><li>a white toilet in a bathroom next to a wall | bs-5_d-10_α-1.0</li><li>graffiti on the wall of a small bathroom | bs-5_d-10_α-5.0</li><li>a white toilet in a bathroom next to a wall | bs-5_d-50_α-1.0</li></ol></td></tr></table>"
      ],
      "text/plain": [
       "<IPython.core.display.HTML object>"
      ]
     },
     "metadata": {},
     "output_type": "display_data"
    },
    {
     "data": {
      "text/html": [
       "<table><tr><td><img width=300 src=\"val2014/COCO_val2014_000000012323.jpg\" ></img></td><td><img width=300 src=\"train2014/COCO_train2014_000000386560.jpg\" ></img></td><td><img width=300 src=\"train2014/COCO_train2014_000000567179.jpg\" ></img></td></tr><tr><td><img width=300 src=\"train2014/COCO_train2014_000000208754.jpg\" ></img></td><td><img width=300 src=\"train2014/COCO_train2014_000000005277.jpg\" ></img></td></tr></table>"
      ],
      "text/plain": [
       "<IPython.core.display.HTML object>"
      ]
     },
     "metadata": {},
     "output_type": "display_data"
    }
   ],
   "source": [
    "display_index(3, results_diff_distractors, max_distractors=5)"
   ]
  },
  {
   "cell_type": "code",
   "execution_count": 60,
   "metadata": {},
   "outputs": [
    {
     "data": {
      "text/html": [
       "<table><tr><td><img width=400 src=\"val2014/COCO_val2014_000000340559.jpg\" ></img></td></tr><tr><td><ol><li>a kitchen with a sink and a sink | bs-5_d-1_α-0.0</li><li>a bathroom with a sink and a sink | bs-5_d-1_α-1.0</li><li>a small kitchen with a stainless steel sink | bs-5_d-5_α-1.0</li><li>a sink and a sink in a room | bs-5_d-10_α-1.0</li><li>fancy kitchen with a stainless steel sink in it | bs-5_d-10_α-5.0</li><li>a large sink in a very small bathroom | bs-5_d-50_α-1.0</li></ol></td></tr></table>"
      ],
      "text/plain": [
       "<IPython.core.display.HTML object>"
      ]
     },
     "metadata": {},
     "output_type": "display_data"
    },
    {
     "data": {
      "text/html": [
       "<table><tr><td><img width=300 src=\"train2014/COCO_train2014_000000432201.jpg\" ></img></td><td><img width=300 src=\"val2014/COCO_val2014_000000042568.jpg\" ></img></td><td><img width=300 src=\"val2014/COCO_val2014_000000229311.jpg\" ></img></td></tr><tr><td><img width=300 src=\"val2014/COCO_val2014_000000078266.jpg\" ></img></td><td><img width=300 src=\"val2014/COCO_val2014_000000070434.jpg\" ></img></td></tr></table>"
      ],
      "text/plain": [
       "<IPython.core.display.HTML object>"
      ]
     },
     "metadata": {},
     "output_type": "display_data"
    }
   ],
   "source": [
    "display_index(4, results_diff_distractors, max_distractors=5)"
   ]
  },
  {
   "cell_type": "code",
   "execution_count": 61,
   "metadata": {},
   "outputs": [
    {
     "data": {
      "text/html": [
       "<table><tr><td><img width=400 src=\"val2014/COCO_val2014_000000321107.jpg\" ></img></td></tr><tr><td><ol><li>a woman riding a bike down a street | bs-5_d-1_α-0.0</li><li>a woman riding a bike down a street | bs-5_d-1_α-1.0</li><li>a woman riding a bike down a street | bs-5_d-5_α-1.0</li><li>a woman riding a bike down a street | bs-5_d-10_α-1.0</li><li>a woman riding a bike down a street | bs-5_d-10_α-5.0</li><li>a woman riding a bike down a street | bs-5_d-50_α-1.0</li></ol></td></tr></table>"
      ],
      "text/plain": [
       "<IPython.core.display.HTML object>"
      ]
     },
     "metadata": {},
     "output_type": "display_data"
    },
    {
     "data": {
      "text/html": [
       "<table><tr><td><img width=300 src=\"train2014/COCO_train2014_000000329755.jpg\" ></img></td><td><img width=300 src=\"val2014/COCO_val2014_000000493846.jpg\" ></img></td><td><img width=300 src=\"val2014/COCO_val2014_000000016961.jpg\" ></img></td></tr><tr><td><img width=300 src=\"val2014/COCO_val2014_000000087920.jpg\" ></img></td><td><img width=300 src=\"train2014/COCO_train2014_000000304134.jpg\" ></img></td></tr></table>"
      ],
      "text/plain": [
       "<IPython.core.display.HTML object>"
      ]
     },
     "metadata": {},
     "output_type": "display_data"
    }
   ],
   "source": [
    "display_index(5, results_diff_distractors, max_distractors=5)"
   ]
  },
  {
   "cell_type": "code",
   "execution_count": 62,
   "metadata": {},
   "outputs": [
    {
     "data": {
      "text/html": [
       "<table><tr><td><img width=400 src=\"val2014/COCO_val2014_000000129001.jpg\" ></img></td></tr><tr><td><ol><li>a bath room with a bath tub and a sink | bs-5_d-1_α-0.0</li><li>a bath room with a bath tub and a sink | bs-5_d-1_α-1.0</li><li>a bath room with a bath tub and a sink | bs-5_d-5_α-1.0</li><li>a bath room with a bath tub and a sink | bs-5_d-10_α-1.0</li><li>brightly colored bathroom with a sink and shower | bs-5_d-10_α-5.0</li><li>a bathroom with a blue shower curtain in it | bs-5_d-50_α-1.0</li></ol></td></tr></table>"
      ],
      "text/plain": [
       "<IPython.core.display.HTML object>"
      ]
     },
     "metadata": {},
     "output_type": "display_data"
    },
    {
     "data": {
      "text/html": [
       "<table><tr><td><img width=300 src=\"train2014/COCO_train2014_000000037126.jpg\" ></img></td><td><img width=300 src=\"train2014/COCO_train2014_000000187972.jpg\" ></img></td><td><img width=300 src=\"val2014/COCO_val2014_000000383606.jpg\" ></img></td></tr><tr><td><img width=300 src=\"val2014/COCO_val2014_000000134715.jpg\" ></img></td><td><img width=300 src=\"train2014/COCO_train2014_000000491063.jpg\" ></img></td></tr></table>"
      ],
      "text/plain": [
       "<IPython.core.display.HTML object>"
      ]
     },
     "metadata": {},
     "output_type": "display_data"
    }
   ],
   "source": [
    "display_index(6, results_diff_distractors, max_distractors=5)"
   ]
  },
  {
   "cell_type": "code",
   "execution_count": 63,
   "metadata": {},
   "outputs": [
    {
     "data": {
      "text/html": [
       "<table><tr><td><img width=400 src=\"val2014/COCO_val2014_000000556616.jpg\" ></img></td></tr><tr><td><ol><li>a row of parking meters on a city street | bs-5_d-1_α-0.0</li><li>a close up of a parking meter on a street | bs-5_d-1_α-1.0</li><li>a row of parking meters on a city street | bs-5_d-5_α-1.0</li><li>a row of parking meters on a city street | bs-5_d-10_α-1.0</li><li>row of parking meters lined up on a street | bs-5_d-10_α-5.0</li><li>a row of parking meters on a city street | bs-5_d-50_α-1.0</li></ol></td></tr></table>"
      ],
      "text/plain": [
       "<IPython.core.display.HTML object>"
      ]
     },
     "metadata": {},
     "output_type": "display_data"
    },
    {
     "data": {
      "text/html": [
       "<table><tr><td><img width=300 src=\"train2014/COCO_train2014_000000253528.jpg\" ></img></td><td><img width=300 src=\"train2014/COCO_train2014_000000539767.jpg\" ></img></td><td><img width=300 src=\"val2014/COCO_val2014_000000135410.jpg\" ></img></td></tr><tr><td><img width=300 src=\"train2014/COCO_train2014_000000068789.jpg\" ></img></td><td><img width=300 src=\"val2014/COCO_val2014_000000145039.jpg\" ></img></td></tr></table>"
      ],
      "text/plain": [
       "<IPython.core.display.HTML object>"
      ]
     },
     "metadata": {},
     "output_type": "display_data"
    }
   ],
   "source": [
    "display_index(7, results_diff_distractors, max_distractors=5)"
   ]
  },
  {
   "cell_type": "code",
   "execution_count": 64,
   "metadata": {},
   "outputs": [
    {
     "data": {
      "text/html": [
       "<table><tr><td><img width=400 src=\"val2014/COCO_val2014_000000472621.jpg\" ></img></td></tr><tr><td><ol><li>a bathroom with two sinks and a bathtub | bs-5_d-1_α-0.0</li><li>a bathroom with two sinks and a bathtub | bs-5_d-1_α-1.0</li><li>a bathroom with two sinks and a bathtub | bs-5_d-5_α-1.0</li><li>a bathroom with two sinks and a bathtub | bs-5_d-10_α-1.0</li><li>fancy bathroom with two sinks and a bathtub | bs-5_d-10_α-5.0</li><li>a bathroom with two sinks and a bathtub | bs-5_d-50_α-1.0</li></ol></td></tr></table>"
      ],
      "text/plain": [
       "<IPython.core.display.HTML object>"
      ]
     },
     "metadata": {},
     "output_type": "display_data"
    },
    {
     "data": {
      "text/html": [
       "<table><tr><td><img width=300 src=\"train2014/COCO_train2014_000000515287.jpg\" ></img></td><td><img width=300 src=\"train2014/COCO_train2014_000000188343.jpg\" ></img></td><td><img width=300 src=\"train2014/COCO_train2014_000000343670.jpg\" ></img></td></tr><tr><td><img width=300 src=\"train2014/COCO_train2014_000000474732.jpg\" ></img></td><td><img width=300 src=\"train2014/COCO_train2014_000000412267.jpg\" ></img></td></tr></table>"
      ],
      "text/plain": [
       "<IPython.core.display.HTML object>"
      ]
     },
     "metadata": {},
     "output_type": "display_data"
    }
   ],
   "source": [
    "display_index(8, results_diff_distractors, max_distractors=5)"
   ]
  },
  {
   "cell_type": "code",
   "execution_count": 65,
   "metadata": {},
   "outputs": [
    {
     "data": {
      "text/html": [
       "<table><tr><td><img width=400 src=\"val2014/COCO_val2014_000000364521.jpg\" ></img></td></tr><tr><td><ol><li>a yellow fire hydrant sitting on top of a dirt field | bs-5_d-1_α-0.0</li><li>a close up of a yellow fire hydrant | bs-5_d-1_α-1.0</li><li>there is a yellow and blue fire hydrant on the ground | bs-5_d-5_α-1.0</li><li>a bunch of bananas that are on the ground | bs-5_d-10_α-1.0</li><li>bananas are on the ground next to a fire hydrant | bs-5_d-10_α-5.0</li><li>a ripe fire hydrant sitting on top of a pile of dirt | bs-5_d-50_α-1.0</li></ol></td></tr></table>"
      ],
      "text/plain": [
       "<IPython.core.display.HTML object>"
      ]
     },
     "metadata": {},
     "output_type": "display_data"
    },
    {
     "data": {
      "text/html": [
       "<table><tr><td><img width=300 src=\"val2014/COCO_val2014_000000358345.jpg\" ></img></td><td><img width=300 src=\"train2014/COCO_train2014_000000147196.jpg\" ></img></td><td><img width=300 src=\"train2014/COCO_train2014_000000086071.jpg\" ></img></td></tr><tr><td><img width=300 src=\"train2014/COCO_train2014_000000424739.jpg\" ></img></td><td><img width=300 src=\"train2014/COCO_train2014_000000108602.jpg\" ></img></td></tr></table>"
      ],
      "text/plain": [
       "<IPython.core.display.HTML object>"
      ]
     },
     "metadata": {},
     "output_type": "display_data"
    }
   ],
   "source": [
    "display_index(9, results_diff_distractors, max_distractors=5)"
   ]
  },
  {
   "cell_type": "code",
   "execution_count": 66,
   "metadata": {},
   "outputs": [
    {
     "data": {
      "text/html": [
       "<table><tr><td><img width=400 src=\"val2014/COCO_val2014_000000310391.jpg\" ></img></td></tr><tr><td><ol><li>a blue truck is parked in the grass | bs-5_d-1_α-0.0</li><li>a large blue truck parked in a field | bs-5_d-1_α-1.0</li><li>a blue bus parked on top of a green field | bs-5_d-5_α-1.0</li><li>a blue bus is parked in the grass | bs-5_d-10_α-1.0</li><li>people are standing in front of a bus | bs-5_d-10_α-5.0</li><li>a blue bus parked on top of a green field | bs-5_d-50_α-1.0</li></ol></td></tr></table>"
      ],
      "text/plain": [
       "<IPython.core.display.HTML object>"
      ]
     },
     "metadata": {},
     "output_type": "display_data"
    },
    {
     "data": {
      "text/html": [
       "<table><tr><td><img width=300 src=\"train2014/COCO_train2014_000000224753.jpg\" ></img></td><td><img width=300 src=\"train2014/COCO_train2014_000000355987.jpg\" ></img></td><td><img width=300 src=\"train2014/COCO_train2014_000000496874.jpg\" ></img></td></tr><tr><td><img width=300 src=\"train2014/COCO_train2014_000000044491.jpg\" ></img></td><td><img width=300 src=\"train2014/COCO_train2014_000000079563.jpg\" ></img></td></tr></table>"
      ],
      "text/plain": [
       "<IPython.core.display.HTML object>"
      ]
     },
     "metadata": {},
     "output_type": "display_data"
    }
   ],
   "source": [
    "display_index(10, results_diff_distractors, max_distractors=5)"
   ]
  },
  {
   "cell_type": "code",
   "execution_count": 67,
   "metadata": {},
   "outputs": [
    {
     "data": {
      "text/html": [
       "<table><tr><td><img width=400 src=\"val2014/COCO_val2014_000000241876.jpg\" ></img></td></tr><tr><td><ol><li>a black cat drinking water from a toilet | bs-5_d-1_α-0.0</li><li>a black cat sitting on top of a white toilet seat | bs-5_d-1_α-1.0</li><li>a black cat sitting on top of a white toilet seat | bs-5_d-5_α-1.0</li><li>a black cat sitting on top of a toilet seat | bs-5_d-10_α-1.0</li><li>black cat sitting on top of a white toilet seat | bs-5_d-10_α-5.0</li><li>a black cat sitting on top of a white toilet seat | bs-5_d-50_α-1.0</li></ol></td></tr></table>"
      ],
      "text/plain": [
       "<IPython.core.display.HTML object>"
      ]
     },
     "metadata": {},
     "output_type": "display_data"
    },
    {
     "data": {
      "text/html": [
       "<table><tr><td><img width=300 src=\"train2014/COCO_train2014_000000012102.jpg\" ></img></td><td><img width=300 src=\"val2014/COCO_val2014_000000098302.jpg\" ></img></td><td><img width=300 src=\"train2014/COCO_train2014_000000473793.jpg\" ></img></td></tr><tr><td><img width=300 src=\"train2014/COCO_train2014_000000447985.jpg\" ></img></td><td><img width=300 src=\"train2014/COCO_train2014_000000382056.jpg\" ></img></td></tr></table>"
      ],
      "text/plain": [
       "<IPython.core.display.HTML object>"
      ]
     },
     "metadata": {},
     "output_type": "display_data"
    }
   ],
   "source": [
    "display_index(11, results_diff_distractors, max_distractors=5)"
   ]
  },
  {
   "cell_type": "code",
   "execution_count": 68,
   "metadata": {},
   "outputs": [
    {
     "data": {
      "text/html": [
       "<table><tr><td><img width=400 src=\"val2014/COCO_val2014_000000462341.jpg\" ></img></td></tr><tr><td><ol><li>a tall clock tower with a sky background | bs-5_d-1_α-0.0</li><li>a tall clock tower with a sky background | bs-5_d-1_α-1.0</li><li>a building with a clock on the top of it | bs-5_d-5_α-1.0</li><li>a tower with a clock on the top of it | bs-5_d-10_α-1.0</li><li>birds are on the roof of a building | bs-5_d-10_α-5.0</li><li>a building with a clock on the top of it | bs-5_d-50_α-1.0</li></ol></td></tr></table>"
      ],
      "text/plain": [
       "<IPython.core.display.HTML object>"
      ]
     },
     "metadata": {},
     "output_type": "display_data"
    },
    {
     "data": {
      "text/html": [
       "<table><tr><td><img width=300 src=\"train2014/COCO_train2014_000000103513.jpg\" ></img></td><td><img width=300 src=\"train2014/COCO_train2014_000000452259.jpg\" ></img></td><td><img width=300 src=\"val2014/COCO_val2014_000000578786.jpg\" ></img></td></tr><tr><td><img width=300 src=\"train2014/COCO_train2014_000000450426.jpg\" ></img></td><td><img width=300 src=\"train2014/COCO_train2014_000000347312.jpg\" ></img></td></tr></table>"
      ],
      "text/plain": [
       "<IPython.core.display.HTML object>"
      ]
     },
     "metadata": {},
     "output_type": "display_data"
    }
   ],
   "source": [
    "display_index(12, results_diff_distractors, max_distractors=5)"
   ]
  },
  {
   "cell_type": "code",
   "execution_count": 69,
   "metadata": {},
   "outputs": [
    {
     "data": {
      "text/html": [
       "<table><tr><td><img width=400 src=\"val2014/COCO_val2014_000000268556.jpg\" ></img></td></tr><tr><td><ol><li>a woman riding on the back of a motorcycle down a street | bs-5_d-1_α-0.0</li><li>a woman riding on the back of a motorcycle down a street | bs-5_d-1_α-1.0</li><li>a woman riding on the back of a motorcycle down a street | bs-5_d-5_α-1.0</li><li>a woman riding on the back of a motorcycle down a street | bs-5_d-10_α-1.0</li><li>woman woman riding on the back of a motorcycle down a street | bs-5_d-10_α-5.0</li><li>a woman riding on the back of a motorcycle down a street | bs-5_d-50_α-1.0</li></ol></td></tr></table>"
      ],
      "text/plain": [
       "<IPython.core.display.HTML object>"
      ]
     },
     "metadata": {},
     "output_type": "display_data"
    },
    {
     "data": {
      "text/html": [
       "<table><tr><td><img width=300 src=\"val2014/COCO_val2014_000000045110.jpg\" ></img></td><td><img width=300 src=\"train2014/COCO_train2014_000000482252.jpg\" ></img></td><td><img width=300 src=\"train2014/COCO_train2014_000000540840.jpg\" ></img></td></tr><tr><td><img width=300 src=\"train2014/COCO_train2014_000000174354.jpg\" ></img></td><td><img width=300 src=\"train2014/COCO_train2014_000000255604.jpg\" ></img></td></tr></table>"
      ],
      "text/plain": [
       "<IPython.core.display.HTML object>"
      ]
     },
     "metadata": {},
     "output_type": "display_data"
    }
   ],
   "source": [
    "display_index(13, results_diff_distractors, max_distractors=5)"
   ]
  },
  {
   "cell_type": "code",
   "execution_count": 70,
   "metadata": {},
   "outputs": [
    {
     "data": {
      "text/html": [
       "<table><tr><td><img width=400 src=\"val2014/COCO_val2014_000000386912.jpg\" ></img></td></tr><tr><td><ol><li>a woman sitting at a desk with a laptop | bs-5_d-1_α-0.0</li><li>a woman sitting at a desk with a laptop | bs-5_d-1_α-1.0</li><li>a woman sitting at a desk with a laptop | bs-5_d-5_α-1.0</li><li>a woman sitting at a desk with a laptop | bs-5_d-10_α-1.0</li><li>woman sitting at a desk in front of a computer | bs-5_d-10_α-5.0</li><li>a woman sitting at a desk with a laptop | bs-5_d-50_α-1.0</li></ol></td></tr></table>"
      ],
      "text/plain": [
       "<IPython.core.display.HTML object>"
      ]
     },
     "metadata": {},
     "output_type": "display_data"
    },
    {
     "data": {
      "text/html": [
       "<table><tr><td><img width=300 src=\"train2014/COCO_train2014_000000272647.jpg\" ></img></td><td><img width=300 src=\"train2014/COCO_train2014_000000336839.jpg\" ></img></td><td><img width=300 src=\"train2014/COCO_train2014_000000275997.jpg\" ></img></td></tr><tr><td><img width=300 src=\"val2014/COCO_val2014_000000121586.jpg\" ></img></td><td><img width=300 src=\"train2014/COCO_train2014_000000563391.jpg\" ></img></td></tr></table>"
      ],
      "text/plain": [
       "<IPython.core.display.HTML object>"
      ]
     },
     "metadata": {},
     "output_type": "display_data"
    }
   ],
   "source": [
    "display_index(14, results_diff_distractors, max_distractors=5)"
   ]
  },
  {
   "cell_type": "code",
   "execution_count": 71,
   "metadata": {},
   "outputs": [
    {
     "data": {
      "text/html": [
       "<table><tr><td><img width=400 src=\"val2014/COCO_val2014_000000074331.jpg\" ></img></td></tr><tr><td><ol><li>a bunch of bananas that are in a basket | bs-5_d-1_α-0.0</li><li>a bunch of bananas that are in a basket | bs-5_d-1_α-1.0</li><li>a bunch of bananas that are in a basket | bs-5_d-5_α-1.0</li><li>a bunch of bananas that are on a table | bs-5_d-10_α-1.0</li><li>bunches of bananas are on display in a store | bs-5_d-10_α-5.0</li><li>a bunch of bananas wrapped in plastic bags | bs-5_d-50_α-1.0</li></ol></td></tr></table>"
      ],
      "text/plain": [
       "<IPython.core.display.HTML object>"
      ]
     },
     "metadata": {},
     "output_type": "display_data"
    },
    {
     "data": {
      "text/html": [
       "<table><tr><td><img width=300 src=\"train2014/COCO_train2014_000000537862.jpg\" ></img></td><td><img width=300 src=\"train2014/COCO_train2014_000000110886.jpg\" ></img></td><td><img width=300 src=\"train2014/COCO_train2014_000000436354.jpg\" ></img></td></tr><tr><td><img width=300 src=\"train2014/COCO_train2014_000000259297.jpg\" ></img></td><td><img width=300 src=\"train2014/COCO_train2014_000000544687.jpg\" ></img></td></tr></table>"
      ],
      "text/plain": [
       "<IPython.core.display.HTML object>"
      ]
     },
     "metadata": {},
     "output_type": "display_data"
    }
   ],
   "source": [
    "display_index(15, results_diff_distractors, max_distractors=5)"
   ]
  },
  {
   "cell_type": "code",
   "execution_count": 72,
   "metadata": {},
   "outputs": [
    {
     "data": {
      "text/html": [
       "<table><tr><td><img width=400 src=\"val2014/COCO_val2014_000000078371.jpg\" ></img></td></tr><tr><td><ol><li>a fighter jet sitting on top of an airport tarmac | bs-5_d-1_α-0.0</li><li>a fighter jet sitting on top of an airport tarmac | bs-5_d-1_α-1.0</li><li>a blue and white airplane is on a runway | bs-5_d-5_α-1.0</li><li>a blue fighter jet is on a runway | bs-5_d-10_α-1.0</li><li>a blue fighter jet is on a runway | bs-5_d-10_α-5.0</li><li>a blue and yellow fighter plane on a runway | bs-5_d-50_α-1.0</li></ol></td></tr></table>"
      ],
      "text/plain": [
       "<IPython.core.display.HTML object>"
      ]
     },
     "metadata": {},
     "output_type": "display_data"
    },
    {
     "data": {
      "text/html": [
       "<table><tr><td><img width=300 src=\"train2014/COCO_train2014_000000427803.jpg\" ></img></td><td><img width=300 src=\"val2014/COCO_val2014_000000437370.jpg\" ></img></td><td><img width=300 src=\"val2014/COCO_val2014_000000024790.jpg\" ></img></td></tr><tr><td><img width=300 src=\"train2014/COCO_train2014_000000050294.jpg\" ></img></td><td><img width=300 src=\"train2014/COCO_train2014_000000101626.jpg\" ></img></td></tr></table>"
      ],
      "text/plain": [
       "<IPython.core.display.HTML object>"
      ]
     },
     "metadata": {},
     "output_type": "display_data"
    }
   ],
   "source": [
    "display_index(16, results_diff_distractors, max_distractors=5)"
   ]
  },
  {
   "cell_type": "code",
   "execution_count": 73,
   "metadata": {},
   "outputs": [
    {
     "data": {
      "text/html": [
       "<table><tr><td><img width=400 src=\"val2014/COCO_val2014_000000052759.jpg\" ></img></td></tr><tr><td><ol><li>a large jetliner sitting on top of an airport tarmac | bs-5_d-1_α-0.0</li><li>a large passenger jet sitting on top of an airport tarmac | bs-5_d-1_α-1.0</li><li>a large jetliner sitting on top of an airport tarmac | bs-5_d-5_α-1.0</li><li>a group of airplanes that are on a runway | bs-5_d-10_α-1.0</li><li>two airplanes that are parked in a lot | bs-5_d-10_α-5.0</li><li>a group of airplanes that are on a runway | bs-5_d-50_α-1.0</li></ol></td></tr></table>"
      ],
      "text/plain": [
       "<IPython.core.display.HTML object>"
      ]
     },
     "metadata": {},
     "output_type": "display_data"
    },
    {
     "data": {
      "text/html": [
       "<table><tr><td><img width=300 src=\"train2014/COCO_train2014_000000518305.jpg\" ></img></td><td><img width=300 src=\"val2014/COCO_val2014_000000289173.jpg\" ></img></td><td><img width=300 src=\"train2014/COCO_train2014_000000581797.jpg\" ></img></td></tr><tr><td><img width=300 src=\"train2014/COCO_train2014_000000387161.jpg\" ></img></td><td><img width=300 src=\"val2014/COCO_val2014_000000513681.jpg\" ></img></td></tr></table>"
      ],
      "text/plain": [
       "<IPython.core.display.HTML object>"
      ]
     },
     "metadata": {},
     "output_type": "display_data"
    }
   ],
   "source": [
    "display_index(17, results_diff_distractors, max_distractors=5)"
   ]
  },
  {
   "cell_type": "code",
   "execution_count": 74,
   "metadata": {},
   "outputs": [
    {
     "data": {
      "text/html": [
       "<table><tr><td><img width=400 src=\"val2014/COCO_val2014_000000128939.jpg\" ></img></td></tr><tr><td><ol><li>a car is stopped at a red light | bs-5_d-1_α-0.0</li><li>a car is stopped at a red light | bs-5_d-1_α-1.0</li><li>a car is stopped at a red light | bs-5_d-5_α-1.0</li><li>a car is stopped at a red light | bs-5_d-10_α-1.0</li><li>a white car stopped at a traffic light | bs-5_d-10_α-5.0</li><li>a car is stopped at a red light | bs-5_d-50_α-1.0</li></ol></td></tr></table>"
      ],
      "text/plain": [
       "<IPython.core.display.HTML object>"
      ]
     },
     "metadata": {},
     "output_type": "display_data"
    },
    {
     "data": {
      "text/html": [
       "<table><tr><td><img width=300 src=\"val2014/COCO_val2014_000000267224.jpg\" ></img></td><td><img width=300 src=\"train2014/COCO_train2014_000000326320.jpg\" ></img></td><td><img width=300 src=\"train2014/COCO_train2014_000000296489.jpg\" ></img></td></tr><tr><td><img width=300 src=\"train2014/COCO_train2014_000000494574.jpg\" ></img></td><td><img width=300 src=\"train2014/COCO_train2014_000000435929.jpg\" ></img></td></tr></table>"
      ],
      "text/plain": [
       "<IPython.core.display.HTML object>"
      ]
     },
     "metadata": {},
     "output_type": "display_data"
    }
   ],
   "source": [
    "display_index(18, results_diff_distractors, max_distractors=5)"
   ]
  },
  {
   "cell_type": "code",
   "execution_count": 75,
   "metadata": {},
   "outputs": [
    {
     "data": {
      "text/html": [
       "<table><tr><td><img width=400 src=\"val2014/COCO_val2014_000000339974.jpg\" ></img></td></tr><tr><td><ol><li>a traffic light sitting on the side of a road | bs-5_d-1_α-0.0</li><li>a green traffic light sitting on the side of a road | bs-5_d-1_α-1.0</li><li>a traffic light with a green light on it | bs-5_d-5_α-1.0</li><li>a traffic light sitting next to a traffic light | bs-5_d-10_α-1.0</li><li>two green traffic lights are on a pole | bs-5_d-10_α-5.0</li><li>a green traffic light sitting next to a traffic light | bs-5_d-50_α-1.0</li></ol></td></tr></table>"
      ],
      "text/plain": [
       "<IPython.core.display.HTML object>"
      ]
     },
     "metadata": {},
     "output_type": "display_data"
    },
    {
     "data": {
      "text/html": [
       "<table><tr><td><img width=300 src=\"train2014/COCO_train2014_000000108536.jpg\" ></img></td><td><img width=300 src=\"train2014/COCO_train2014_000000473741.jpg\" ></img></td><td><img width=300 src=\"train2014/COCO_train2014_000000157029.jpg\" ></img></td></tr><tr><td><img width=300 src=\"train2014/COCO_train2014_000000138807.jpg\" ></img></td><td><img width=300 src=\"val2014/COCO_val2014_000000518574.jpg\" ></img></td></tr></table>"
      ],
      "text/plain": [
       "<IPython.core.display.HTML object>"
      ]
     },
     "metadata": {},
     "output_type": "display_data"
    }
   ],
   "source": [
    "display_index(19, results_diff_distractors, max_distractors=5)"
   ]
  },
  {
   "cell_type": "code",
   "execution_count": 76,
   "metadata": {},
   "outputs": [
    {
     "data": {
      "text/html": [
       "<table><tr><td><img width=400 src=\"val2014/COCO_val2014_000000009426.jpg\" ></img></td></tr><tr><td><ol><li>a red and white airplane flying in the sky | bs-5_d-1_α-0.0</li><li>a red and white airplane flying in the sky | bs-5_d-1_α-1.0</li><li>a red and white airplane flying in the sky | bs-5_d-5_α-1.0</li><li>a red and white airplane flying in the sky | bs-5_d-10_α-1.0</li><li>red and white airplane flying in the sky | bs-5_d-10_α-5.0</li><li>a red and white airplane flying in the sky | bs-5_d-50_α-1.0</li></ol></td></tr></table>"
      ],
      "text/plain": [
       "<IPython.core.display.HTML object>"
      ]
     },
     "metadata": {},
     "output_type": "display_data"
    },
    {
     "data": {
      "text/html": [
       "<table><tr><td><img width=300 src=\"train2014/COCO_train2014_000000512438.jpg\" ></img></td><td><img width=300 src=\"val2014/COCO_val2014_000000183500.jpg\" ></img></td><td><img width=300 src=\"train2014/COCO_train2014_000000440786.jpg\" ></img></td></tr><tr><td><img width=300 src=\"train2014/COCO_train2014_000000331738.jpg\" ></img></td><td><img width=300 src=\"val2014/COCO_val2014_000000295765.jpg\" ></img></td></tr></table>"
      ],
      "text/plain": [
       "<IPython.core.display.HTML object>"
      ]
     },
     "metadata": {},
     "output_type": "display_data"
    }
   ],
   "source": [
    "display_index(20, results_diff_distractors, max_distractors=5)"
   ]
  },
  {
   "cell_type": "code",
   "execution_count": 77,
   "metadata": {},
   "outputs": [
    {
     "data": {
      "text/html": [
       "<table><tr><td><img width=400 src=\"val2014/COCO_val2014_000000242139.jpg\" ></img></td></tr><tr><td><ol><li>a city street filled with lots of tall buildings | bs-5_d-1_α-0.0</li><li>a city street filled with lots of tall buildings | bs-5_d-1_α-1.0</li><li>a city street filled with lots of tall buildings | bs-5_d-5_α-1.0</li><li>a city street filled with lots of tall buildings | bs-5_d-10_α-1.0</li><li>people crossing the street in a large city | bs-5_d-10_α-5.0</li><li>a city street with tall buildings in the background | bs-5_d-50_α-1.0</li></ol></td></tr></table>"
      ],
      "text/plain": [
       "<IPython.core.display.HTML object>"
      ]
     },
     "metadata": {},
     "output_type": "display_data"
    },
    {
     "data": {
      "text/html": [
       "<table><tr><td><img width=300 src=\"train2014/COCO_train2014_000000533739.jpg\" ></img></td><td><img width=300 src=\"train2014/COCO_train2014_000000219750.jpg\" ></img></td><td><img width=300 src=\"val2014/COCO_val2014_000000230615.jpg\" ></img></td></tr><tr><td><img width=300 src=\"train2014/COCO_train2014_000000219225.jpg\" ></img></td><td><img width=300 src=\"train2014/COCO_train2014_000000263826.jpg\" ></img></td></tr></table>"
      ],
      "text/plain": [
       "<IPython.core.display.HTML object>"
      ]
     },
     "metadata": {},
     "output_type": "display_data"
    }
   ],
   "source": [
    "display_index(21, results_diff_distractors, max_distractors=5)"
   ]
  },
  {
   "cell_type": "code",
   "execution_count": 78,
   "metadata": {},
   "outputs": [
    {
     "data": {
      "text/html": [
       "<table><tr><td><img width=400 src=\"val2014/COCO_val2014_000000143931.jpg\" ></img></td></tr><tr><td><ol><li>a blue and white bus parked in a parking lot | bs-5_d-1_α-0.0</li><li>a truck with a mural on the side of it | bs-5_d-1_α-1.0</li><li>a truck with a mural on the side of it | bs-5_d-5_α-1.0</li><li>a blue bus with a advertisement on the side of it | bs-5_d-10_α-1.0</li><li>a van with a mural on the side of it | bs-5_d-10_α-5.0</li><li>a blue truck with a advertisement on the side of it | bs-5_d-50_α-1.0</li></ol></td></tr></table>"
      ],
      "text/plain": [
       "<IPython.core.display.HTML object>"
      ]
     },
     "metadata": {},
     "output_type": "display_data"
    },
    {
     "data": {
      "text/html": [
       "<table><tr><td><img width=300 src=\"train2014/COCO_train2014_000000550874.jpg\" ></img></td><td><img width=300 src=\"train2014/COCO_train2014_000000381759.jpg\" ></img></td><td><img width=300 src=\"val2014/COCO_val2014_000000048196.jpg\" ></img></td></tr><tr><td><img width=300 src=\"train2014/COCO_train2014_000000382854.jpg\" ></img></td><td><img width=300 src=\"train2014/COCO_train2014_000000514801.jpg\" ></img></td></tr></table>"
      ],
      "text/plain": [
       "<IPython.core.display.HTML object>"
      ]
     },
     "metadata": {},
     "output_type": "display_data"
    }
   ],
   "source": [
    "display_index(22, results_diff_distractors, max_distractors=5)"
   ]
  },
  {
   "cell_type": "code",
   "execution_count": 79,
   "metadata": {},
   "outputs": [
    {
     "data": {
      "text/html": [
       "<table><tr><td><img width=400 src=\"val2014/COCO_val2014_000000040102.jpg\" ></img></td></tr><tr><td><ol><li>a couple of giraffe standing next to each other | bs-5_d-1_α-0.0</li><li>two giraffes standing next to each other in a field | bs-5_d-1_α-1.0</li><li>two giraffes are standing in a grassy field | bs-5_d-5_α-1.0</li><li>two giraffes are standing in a grassy field | bs-5_d-10_α-1.0</li><li>two baby giraffes standing next to each other | bs-5_d-10_α-5.0</li><li>two giraffes are standing in a grassy field | bs-5_d-50_α-1.0</li></ol></td></tr></table>"
      ],
      "text/plain": [
       "<IPython.core.display.HTML object>"
      ]
     },
     "metadata": {},
     "output_type": "display_data"
    },
    {
     "data": {
      "text/html": [
       "<table><tr><td><img width=300 src=\"train2014/COCO_train2014_000000238713.jpg\" ></img></td><td><img width=300 src=\"val2014/COCO_val2014_000000022257.jpg\" ></img></td><td><img width=300 src=\"train2014/COCO_train2014_000000508969.jpg\" ></img></td></tr><tr><td><img width=300 src=\"train2014/COCO_train2014_000000172426.jpg\" ></img></td><td><img width=300 src=\"train2014/COCO_train2014_000000257983.jpg\" ></img></td></tr></table>"
      ],
      "text/plain": [
       "<IPython.core.display.HTML object>"
      ]
     },
     "metadata": {},
     "output_type": "display_data"
    }
   ],
   "source": [
    "display_index(23, results_diff_distractors, max_distractors=5)"
   ]
  },
  {
   "cell_type": "code",
   "execution_count": 80,
   "metadata": {},
   "outputs": [
    {
     "data": {
      "text/html": [
       "<table><tr><td><img width=400 src=\"val2014/COCO_val2014_000000403020.jpg\" ></img></td></tr><tr><td><ol><li>a giraffe is laying down in the dirt | bs-5_d-1_α-0.0</li><li>a giraffe is laying down in the dirt | bs-5_d-1_α-1.0</li><li>a giraffe laying on the ground next to a building | bs-5_d-5_α-1.0</li><li>a giraffe laying on the ground next to a building | bs-5_d-10_α-1.0</li><li>a baby giraffe laying down on the ground | bs-5_d-10_α-5.0</li><li>a giraffe laying down on a dirt ground | bs-5_d-50_α-1.0</li></ol></td></tr></table>"
      ],
      "text/plain": [
       "<IPython.core.display.HTML object>"
      ]
     },
     "metadata": {},
     "output_type": "display_data"
    },
    {
     "data": {
      "text/html": [
       "<table><tr><td><img width=300 src=\"train2014/COCO_train2014_000000050101.jpg\" ></img></td><td><img width=300 src=\"train2014/COCO_train2014_000000334957.jpg\" ></img></td><td><img width=300 src=\"train2014/COCO_train2014_000000067572.jpg\" ></img></td></tr><tr><td><img width=300 src=\"train2014/COCO_train2014_000000476871.jpg\" ></img></td><td><img width=300 src=\"val2014/COCO_val2014_000000196650.jpg\" ></img></td></tr></table>"
      ],
      "text/plain": [
       "<IPython.core.display.HTML object>"
      ]
     },
     "metadata": {},
     "output_type": "display_data"
    }
   ],
   "source": [
    "display_index(24, results_diff_distractors, max_distractors=5)"
   ]
  },
  {
   "cell_type": "code",
   "execution_count": 81,
   "metadata": {},
   "outputs": [
    {
     "data": {
      "text/html": [
       "<table><tr><td><img width=400 src=\"val2014/COCO_val2014_000000096493.jpg\" ></img></td></tr><tr><td><ol><li>a young boy laying on top of a bed | bs-5_d-1_α-0.0</li><li>a young boy laying on top of a bed | bs-5_d-1_α-1.0</li><li>a young boy laying on top of a bed | bs-5_d-5_α-1.0</li><li>a young boy laying on top of a bed | bs-5_d-10_α-1.0</li><li>young boy laying on a bed with a cell phone | bs-5_d-10_α-5.0</li><li>a little boy that is laying down on a bed | bs-5_d-50_α-1.0</li></ol></td></tr></table>"
      ],
      "text/plain": [
       "<IPython.core.display.HTML object>"
      ]
     },
     "metadata": {},
     "output_type": "display_data"
    },
    {
     "data": {
      "text/html": [
       "<table><tr><td><img width=300 src=\"train2014/COCO_train2014_000000369167.jpg\" ></img></td><td><img width=300 src=\"train2014/COCO_train2014_000000278204.jpg\" ></img></td><td><img width=300 src=\"train2014/COCO_train2014_000000169854.jpg\" ></img></td></tr><tr><td><img width=300 src=\"train2014/COCO_train2014_000000315640.jpg\" ></img></td><td><img width=300 src=\"train2014/COCO_train2014_000000273886.jpg\" ></img></td></tr></table>"
      ],
      "text/plain": [
       "<IPython.core.display.HTML object>"
      ]
     },
     "metadata": {},
     "output_type": "display_data"
    }
   ],
   "source": [
    "display_index(100, results_diff_distractors, max_distractors=5)"
   ]
  },
  {
   "cell_type": "code",
   "execution_count": 82,
   "metadata": {},
   "outputs": [
    {
     "data": {
      "text/html": [
       "<table><tr><td><img width=400 src=\"val2014/COCO_val2014_000000065267.jpg\" ></img></td></tr><tr><td><ol><li>a living room filled with furniture and a flat screen tv | bs-5_d-1_α-0.0</li><li>a living room filled with furniture and a large window | bs-5_d-1_α-1.0</li><li>a living room filled with furniture and a fire place | bs-5_d-5_α-1.0</li><li>a living room filled with furniture and a sliding glass door | bs-5_d-10_α-1.0</li><li>an empty living room filled with wooden furniture | bs-5_d-10_α-5.0</li><li>a living room filled with furniture and a large window | bs-5_d-50_α-1.0</li></ol></td></tr></table>"
      ],
      "text/plain": [
       "<IPython.core.display.HTML object>"
      ]
     },
     "metadata": {},
     "output_type": "display_data"
    },
    {
     "data": {
      "text/html": [
       "<table><tr><td><img width=300 src=\"val2014/COCO_val2014_000000581450.jpg\" ></img></td><td><img width=300 src=\"train2014/COCO_train2014_000000462712.jpg\" ></img></td><td><img width=300 src=\"train2014/COCO_train2014_000000517878.jpg\" ></img></td></tr><tr><td><img width=300 src=\"val2014/COCO_val2014_000000177496.jpg\" ></img></td><td><img width=300 src=\"train2014/COCO_train2014_000000056287.jpg\" ></img></td></tr></table>"
      ],
      "text/plain": [
       "<IPython.core.display.HTML object>"
      ]
     },
     "metadata": {},
     "output_type": "display_data"
    }
   ],
   "source": [
    "display_index(101, results_diff_distractors, max_distractors=5)"
   ]
  },
  {
   "cell_type": "code",
   "execution_count": 83,
   "metadata": {},
   "outputs": [
    {
     "data": {
      "text/html": [
       "<table><tr><td><img width=400 src=\"val2014/COCO_val2014_000000132686.jpg\" ></img></td></tr><tr><td><ol><li>a bunch of kites flying in the sky | bs-5_d-1_α-0.0</li><li>a bunch of kites flying in the sky | bs-5_d-1_α-1.0</li><li>a bunch of kites flying in the sky | bs-5_d-5_α-1.0</li><li>a bunch of kites flying in the sky | bs-5_d-10_α-1.0</li><li>a bunch of kites flying in the sky | bs-5_d-10_α-5.0</li><li>a bunch of kites flying in the sky | bs-5_d-50_α-1.0</li></ol></td></tr></table>"
      ],
      "text/plain": [
       "<IPython.core.display.HTML object>"
      ]
     },
     "metadata": {},
     "output_type": "display_data"
    },
    {
     "data": {
      "text/html": [
       "<table><tr><td><img width=300 src=\"train2014/COCO_train2014_000000157815.jpg\" ></img></td><td><img width=300 src=\"train2014/COCO_train2014_000000306718.jpg\" ></img></td><td><img width=300 src=\"train2014/COCO_train2014_000000497005.jpg\" ></img></td></tr><tr><td><img width=300 src=\"train2014/COCO_train2014_000000413776.jpg\" ></img></td><td><img width=300 src=\"train2014/COCO_train2014_000000313345.jpg\" ></img></td></tr></table>"
      ],
      "text/plain": [
       "<IPython.core.display.HTML object>"
      ]
     },
     "metadata": {},
     "output_type": "display_data"
    }
   ],
   "source": [
    "display_index(102, results_diff_distractors, max_distractors=5)"
   ]
  },
  {
   "cell_type": "code",
   "execution_count": 84,
   "metadata": {},
   "outputs": [
    {
     "data": {
      "text/html": [
       "<table><tr><td><img width=400 src=\"val2014/COCO_val2014_000000428454.jpg\" ></img></td></tr><tr><td><ol><li>a man flying a kite in the snow | bs-5_d-1_α-0.0</li><li>a man flying a kite in the snow | bs-5_d-1_α-1.0</li><li>a man flying a kite in the snow | bs-5_d-5_α-1.0</li><li>a man flying a kite in the snow | bs-5_d-10_α-1.0</li><li>man flying a kite on a snow covered slope | bs-5_d-10_α-5.0</li><li>a man flying a kite on top of a snow covered slope | bs-5_d-50_α-1.0</li></ol></td></tr></table>"
      ],
      "text/plain": [
       "<IPython.core.display.HTML object>"
      ]
     },
     "metadata": {},
     "output_type": "display_data"
    },
    {
     "data": {
      "text/html": [
       "<table><tr><td><img width=300 src=\"train2014/COCO_train2014_000000313361.jpg\" ></img></td><td><img width=300 src=\"val2014/COCO_val2014_000000259099.jpg\" ></img></td><td><img width=300 src=\"train2014/COCO_train2014_000000008314.jpg\" ></img></td></tr><tr><td><img width=300 src=\"train2014/COCO_train2014_000000575628.jpg\" ></img></td><td><img width=300 src=\"val2014/COCO_val2014_000000144862.jpg\" ></img></td></tr></table>"
      ],
      "text/plain": [
       "<IPython.core.display.HTML object>"
      ]
     },
     "metadata": {},
     "output_type": "display_data"
    }
   ],
   "source": [
    "display_index(103, results_diff_distractors, max_distractors=5)"
   ]
  },
  {
   "cell_type": "code",
   "execution_count": 85,
   "metadata": {},
   "outputs": [
    {
     "data": {
      "text/html": [
       "<table><tr><td><img width=400 src=\"val2014/COCO_val2014_000000331162.jpg\" ></img></td></tr><tr><td><ol><li>a group of laptops sitting on top of a wooden table | bs-5_d-1_α-0.0</li><li>a group of laptops sitting on top of a wooden table | bs-5_d-1_α-1.0</li><li>a room filled with lots of laptop computers | bs-5_d-5_α-1.0</li><li>a table with three laptops on it | bs-5_d-10_α-1.0</li><li>four laptops are sitting on a small table | bs-5_d-10_α-5.0</li><li>a table with several laptops on it | bs-5_d-50_α-1.0</li></ol></td></tr></table>"
      ],
      "text/plain": [
       "<IPython.core.display.HTML object>"
      ]
     },
     "metadata": {},
     "output_type": "display_data"
    },
    {
     "data": {
      "text/html": [
       "<table><tr><td><img width=300 src=\"train2014/COCO_train2014_000000461042.jpg\" ></img></td><td><img width=300 src=\"train2014/COCO_train2014_000000453625.jpg\" ></img></td><td><img width=300 src=\"train2014/COCO_train2014_000000436038.jpg\" ></img></td></tr><tr><td><img width=300 src=\"val2014/COCO_val2014_000000357992.jpg\" ></img></td><td><img width=300 src=\"train2014/COCO_train2014_000000009760.jpg\" ></img></td></tr></table>"
      ],
      "text/plain": [
       "<IPython.core.display.HTML object>"
      ]
     },
     "metadata": {},
     "output_type": "display_data"
    }
   ],
   "source": [
    "display_index(104, results_diff_distractors, max_distractors=5)"
   ]
  },
  {
   "cell_type": "code",
   "execution_count": 86,
   "metadata": {},
   "outputs": [
    {
     "data": {
      "text/html": [
       "<table><tr><td><img width=400 src=\"val2014/COCO_val2014_000000335833.jpg\" ></img></td></tr><tr><td><ol><li>a large clock tower towering over a city | bs-5_d-1_α-0.0</li><li>a large clock tower towering over a city | bs-5_d-1_α-1.0</li><li>a large clock tower towering over a city | bs-5_d-5_α-1.0</li><li>a large clock tower towering over a city | bs-5_d-10_α-1.0</li><li>a clock tower over a body of water | bs-5_d-10_α-5.0</li><li>a large clock tower towering over a city | bs-5_d-50_α-1.0</li></ol></td></tr></table>"
      ],
      "text/plain": [
       "<IPython.core.display.HTML object>"
      ]
     },
     "metadata": {},
     "output_type": "display_data"
    },
    {
     "data": {
      "text/html": [
       "<table><tr><td><img width=300 src=\"train2014/COCO_train2014_000000023718.jpg\" ></img></td><td><img width=300 src=\"val2014/COCO_val2014_000000189387.jpg\" ></img></td><td><img width=300 src=\"train2014/COCO_train2014_000000136154.jpg\" ></img></td></tr><tr><td><img width=300 src=\"train2014/COCO_train2014_000000432914.jpg\" ></img></td><td><img width=300 src=\"val2014/COCO_val2014_000000253413.jpg\" ></img></td></tr></table>"
      ],
      "text/plain": [
       "<IPython.core.display.HTML object>"
      ]
     },
     "metadata": {},
     "output_type": "display_data"
    }
   ],
   "source": [
    "display_index(105, results_diff_distractors, max_distractors=5)"
   ]
  },
  {
   "cell_type": "code",
   "execution_count": 87,
   "metadata": {},
   "outputs": [
    {
     "data": {
      "text/html": [
       "<table><tr><td><img width=400 src=\"val2014/COCO_val2014_000000132615.jpg\" ></img></td></tr><tr><td><ol><li>a baseball player swinging a bat at a ball | bs-5_d-1_α-0.0</li><li>a baseball player swinging a bat at a ball | bs-5_d-1_α-1.0</li><li>a baseball player swinging a bat at a ball | bs-5_d-5_α-1.0</li><li>a baseball player swinging a bat at a ball | bs-5_d-10_α-1.0</li><li>a boy swinging a bat at a baseball | bs-5_d-10_α-5.0</li><li>a baseball player swinging a bat at a ball | bs-5_d-50_α-1.0</li></ol></td></tr></table>"
      ],
      "text/plain": [
       "<IPython.core.display.HTML object>"
      ]
     },
     "metadata": {},
     "output_type": "display_data"
    },
    {
     "data": {
      "text/html": [
       "<table><tr><td><img width=300 src=\"val2014/COCO_val2014_000000048636.jpg\" ></img></td><td><img width=300 src=\"train2014/COCO_train2014_000000046981.jpg\" ></img></td><td><img width=300 src=\"train2014/COCO_train2014_000000372180.jpg\" ></img></td></tr><tr><td><img width=300 src=\"val2014/COCO_val2014_000000111874.jpg\" ></img></td><td><img width=300 src=\"train2014/COCO_train2014_000000475357.jpg\" ></img></td></tr></table>"
      ],
      "text/plain": [
       "<IPython.core.display.HTML object>"
      ]
     },
     "metadata": {},
     "output_type": "display_data"
    }
   ],
   "source": [
    "display_index(106, results_diff_distractors, max_distractors=5)"
   ]
  }
 ],
 "metadata": {
  "kernelspec": {
   "display_name": "Python 3",
   "language": "python",
   "name": "python3"
  },
  "language_info": {
   "codemirror_mode": {
    "name": "ipython",
    "version": 3
   },
   "file_extension": ".py",
   "mimetype": "text/x-python",
   "name": "python",
   "nbconvert_exporter": "python",
   "pygments_lexer": "ipython3",
   "version": "3.7.9"
  }
 },
 "nbformat": 4,
 "nbformat_minor": 4
}
