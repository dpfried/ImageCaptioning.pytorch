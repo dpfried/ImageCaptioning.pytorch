{
 "cells": [
  {
   "cell_type": "code",
   "execution_count": 12,
   "metadata": {},
   "outputs": [
    {
     "data": {
      "text/html": [
       "<style>.container { width:100% !important; }</style>"
      ],
      "text/plain": [
       "<IPython.core.display.HTML object>"
      ]
     },
     "metadata": {},
     "output_type": "display_data"
    }
   ],
   "source": [
    "from IPython.core.display import display, HTML\n",
    "display(HTML(\"<style>.container { width:100% !important; }</style>\"))"
   ]
  },
  {
   "cell_type": "code",
   "execution_count": 13,
   "metadata": {},
   "outputs": [
    {
     "name": "stdout",
     "output_type": "stream",
     "text": [
      "/home/dfried/projects/ImageCaptioning.pytorch\n"
     ]
    }
   ],
   "source": [
    "cd /home/dfried/projects/ImageCaptioning.pytorch"
   ]
  },
  {
   "cell_type": "code",
   "execution_count": 14,
   "metadata": {},
   "outputs": [],
   "source": [
    "def wrap_tag(tag, inner):\n",
    "    return f'<{tag}>{inner}</{tag}>'\n",
    "\n",
    "def image_html(image_path, width=300, border=False):\n",
    "    if border:\n",
    "        style = ' style=\"border: 5px solid #0FF\" '\n",
    "    else:\n",
    "        style = ''\n",
    "    return f'<img width={width} src=\"{image_path}\" {style}></img>'\n",
    "\n",
    "def captions_html(captions):\n",
    "    #return wrap_tag('p', '<br>'.join(' '.join(cap) for cap in captions))\n",
    "    return wrap_tag('ol', ''.join(wrap_tag('li', cap) for cap in captions))\n",
    "\n",
    "def images_html(image_paths, width=300, num_per_row=5, target=None, captions=None):\n",
    "    rows = []\n",
    "    for ix in range(0, len(image_paths), num_per_row):\n",
    "        items = [wrap_tag('td', image_html(image_paths[image_ix], width=width, border=image_ix == target)) \n",
    "                 for image_ix in range(ix, ix+num_per_row) if image_ix < len(image_paths)]\n",
    "        rows.append(wrap_tag('tr', ''.join(items)))\n",
    "        if captions is not None:\n",
    "            cap_html = [\n",
    "                wrap_tag('td', captions_html(captions[image_ix]))\n",
    "                for image_ix in range(ix, ix+num_per_row)\n",
    "                if image_ix < len(image_paths)\n",
    "            ]\n",
    "            rows.append(wrap_tag('tr', ''.join(cap_html)))\n",
    "    return wrap_tag('table', ''.join(rows))\n",
    "\n",
    "def display_images(image_paths, width=300, num_per_row=5, target=None, captions=None):\n",
    "    display(HTML(images_html(image_paths, width=width, num_per_row=num_per_row, target=target, captions=captions)))"
   ]
  },
  {
   "cell_type": "code",
   "execution_count": 15,
   "metadata": {},
   "outputs": [],
   "source": [
    "def display_neighbors(features, k=5, num_per_row=5):\n",
    "    neighbor_batch = loader.indices['train'].get_neighbor_batch(loader, features.flatten(), k)\n",
    "#     neighbor_batch = get_neighbor_batch(features.flatten(), k)\n",
    "    paths_k = [d['file_path'] for d in neighbor_batch['infos']]\n",
    "    captions_k = [[' '.join(c) for c in cs] for cs in get_captions_from_batch(neighbor_batch)]\n",
    "    display_images(paths_k, captions=captions_k, num_per_row=num_per_row)"
   ]
  },
  {
   "cell_type": "code",
   "execution_count": 16,
   "metadata": {},
   "outputs": [],
   "source": [
    "import torch"
   ]
  },
  {
   "cell_type": "code",
   "execution_count": 17,
   "metadata": {},
   "outputs": [],
   "source": [
    "results = torch.load('eval_results/pred_verbose_pragmatic_val_distr-10_cand-bs-10_s0-weight-0.0_val.pth')"
   ]
  },
  {
   "cell_type": "code",
   "execution_count": 18,
   "metadata": {},
   "outputs": [
    {
     "data": {
      "text/plain": [
       "{'image_id': 184613,\n",
       " 'caption': 'a group of people standing in a field with animals',\n",
       " 'perplexity': 0.0,\n",
       " 'entropy': 0.0,\n",
       " 'target_s0_scores': array([ -9.350447,  -9.878253, -10.036623, -10.061303, -10.295622,\n",
       "        -10.518627, -10.526928, -10.881914, -11.104778, -12.62778 ],\n",
       "       dtype=float32),\n",
       " 'target_s1_scores': array([-1.9426843, -2.6765547, -2.9688997, -2.054984 , -1.8441135,\n",
       "        -2.028884 , -2.0909386, -2.18645  , -3.2791595, -3.0959177],\n",
       "       dtype=float32),\n",
       " 'target_s0s1_scores': array([-1.9426843, -2.6765547, -2.9688997, -2.054984 , -1.8441135,\n",
       "        -2.028884 , -2.0909386, -2.18645  , -3.2791595, -3.0959177],\n",
       "       dtype=float32),\n",
       " 'chosen_target_s0s1_scores': -1.8441135,\n",
       " 'candidates': ['a group of people in a field with animals',\n",
       "  'a woman standing next to a herd of cattle',\n",
       "  'a woman standing next to a herd of cows',\n",
       "  'a group of people in a field with cows',\n",
       "  'a group of people standing in a field with animals',\n",
       "  'a woman standing next to a group of people',\n",
       "  'a group of people in a field with some animals',\n",
       "  'a group of people standing in a field with cows',\n",
       "  'a group of people standing around a herd of animals',\n",
       "  'a group of people standing in a field with a'],\n",
       " 'context_paths': ['val2014/COCO_val2014_000000184613.jpg',\n",
       "  'val2014/COCO_val2014_000000250804.jpg',\n",
       "  'train2014/COCO_train2014_000000433662.jpg',\n",
       "  'train2014/COCO_train2014_000000020966.jpg',\n",
       "  'train2014/COCO_train2014_000000063043.jpg',\n",
       "  'train2014/COCO_train2014_000000077693.jpg',\n",
       "  'train2014/COCO_train2014_000000378214.jpg',\n",
       "  'train2014/COCO_train2014_000000407590.jpg',\n",
       "  'val2014/COCO_val2014_000000031471.jpg',\n",
       "  'train2014/COCO_train2014_000000007953.jpg',\n",
       "  'train2014/COCO_train2014_000000086329.jpg'],\n",
       " 'context_ids': [184613,\n",
       "  250804,\n",
       "  433662,\n",
       "  20966,\n",
       "  63043,\n",
       "  77693,\n",
       "  378214,\n",
       "  407590,\n",
       "  31471,\n",
       "  7953,\n",
       "  86329]}"
      ]
     },
     "execution_count": 18,
     "metadata": {},
     "output_type": "execute_result"
    }
   ],
   "source": [
    "results[0]"
   ]
  },
  {
   "cell_type": "code",
   "execution_count": 34,
   "metadata": {},
   "outputs": [],
   "source": [
    "def display_record(record):\n",
    "    paths = record['context_paths']\n",
    "    formatted_captions = [\n",
    "        \"{} | {:.2f} | {:.2f} | {:.2f}\".format(cap, s0, s1, s0s1)\n",
    "        for cap, s0, s1, s0s1 in zip(record['candidates'], record['target_s0_scores'], record['target_s1_scores'], record['target_s0s1_scores'])\n",
    "    ]\n",
    "    print(record['caption'])\n",
    "    display_images([paths[0]], captions=[formatted_captions], width=400)\n",
    "    display_images(paths[1:], num_per_row=3)"
   ]
  },
  {
   "cell_type": "code",
   "execution_count": 35,
   "metadata": {},
   "outputs": [
    {
     "name": "stdout",
     "output_type": "stream",
     "text": [
      "a group of people standing in a field with animals\n"
     ]
    },
    {
     "data": {
      "text/html": [
       "<table><tr><td><img width=400 src=\"val2014/COCO_val2014_000000184613.jpg\" ></img></td></tr><tr><td><ol><li>a group of people in a field with animals | -9.35 | -1.94 | -1.94</li><li>a woman standing next to a herd of cattle | -9.88 | -2.68 | -2.68</li><li>a woman standing next to a herd of cows | -10.04 | -2.97 | -2.97</li><li>a group of people in a field with cows | -10.06 | -2.05 | -2.05</li><li>a group of people standing in a field with animals | -10.30 | -1.84 | -1.84</li><li>a woman standing next to a group of people | -10.52 | -2.03 | -2.03</li><li>a group of people in a field with some animals | -10.53 | -2.09 | -2.09</li><li>a group of people standing in a field with cows | -10.88 | -2.19 | -2.19</li><li>a group of people standing around a herd of animals | -11.10 | -3.28 | -3.28</li><li>a group of people standing in a field with a | -12.63 | -3.10 | -3.10</li></ol></td></tr></table>"
      ],
      "text/plain": [
       "<IPython.core.display.HTML object>"
      ]
     },
     "metadata": {},
     "output_type": "display_data"
    },
    {
     "data": {
      "text/html": [
       "<table><tr><td><img width=300 src=\"val2014/COCO_val2014_000000250804.jpg\" ></img></td><td><img width=300 src=\"train2014/COCO_train2014_000000433662.jpg\" ></img></td><td><img width=300 src=\"train2014/COCO_train2014_000000020966.jpg\" ></img></td></tr><tr><td><img width=300 src=\"train2014/COCO_train2014_000000063043.jpg\" ></img></td><td><img width=300 src=\"train2014/COCO_train2014_000000077693.jpg\" ></img></td><td><img width=300 src=\"train2014/COCO_train2014_000000378214.jpg\" ></img></td></tr><tr><td><img width=300 src=\"train2014/COCO_train2014_000000407590.jpg\" ></img></td><td><img width=300 src=\"val2014/COCO_val2014_000000031471.jpg\" ></img></td><td><img width=300 src=\"train2014/COCO_train2014_000000007953.jpg\" ></img></td></tr><tr><td><img width=300 src=\"train2014/COCO_train2014_000000086329.jpg\" ></img></td></tr></table>"
      ],
      "text/plain": [
       "<IPython.core.display.HTML object>"
      ]
     },
     "metadata": {},
     "output_type": "display_data"
    }
   ],
   "source": [
    "display_record(results[0])"
   ]
  },
  {
   "cell_type": "code",
   "execution_count": 36,
   "metadata": {},
   "outputs": [
    {
     "name": "stdout",
     "output_type": "stream",
     "text": [
      "a small kitchen with white appliances and a white stove\n"
     ]
    },
    {
     "data": {
      "text/html": [
       "<table><tr><td><img width=400 src=\"val2014/COCO_val2014_000000403013.jpg\" ></img></td></tr><tr><td><ol><li>a kitchen with a white stove top oven | -6.87 | -2.90 | -2.90</li><li>a kitchen with white appliances and white appliances | -6.93 | -2.09 | -2.09</li><li>a small kitchen with white appliances and white appliances | -7.03 | -1.83 | -1.83</li><li>a kitchen with a stove and a sink | -7.43 | -3.09 | -3.09</li><li>a small kitchen with a white stove top oven | -7.51 | -2.18 | -2.18</li><li>a kitchen with a stove a sink and a stove | -7.70 | -2.95 | -2.95</li><li>a kitchen with white appliances and a white stove | -7.90 | -1.87 | -1.87</li><li>a kitchen with a stove a sink and a refrigerator | -8.03 | -3.53 | -3.53</li><li>a kitchen with a white stove top oven next to a sink | -8.33 | -2.38 | -2.38</li><li>a small kitchen with white appliances and a white stove | -8.37 | -1.75 | -1.75</li></ol></td></tr></table>"
      ],
      "text/plain": [
       "<IPython.core.display.HTML object>"
      ]
     },
     "metadata": {},
     "output_type": "display_data"
    },
    {
     "data": {
      "text/html": [
       "<table><tr><td><img width=300 src=\"val2014/COCO_val2014_000000048910.jpg\" ></img></td><td><img width=300 src=\"train2014/COCO_train2014_000000266273.jpg\" ></img></td><td><img width=300 src=\"train2014/COCO_train2014_000000229962.jpg\" ></img></td></tr><tr><td><img width=300 src=\"train2014/COCO_train2014_000000332202.jpg\" ></img></td><td><img width=300 src=\"val2014/COCO_val2014_000000409855.jpg\" ></img></td><td><img width=300 src=\"train2014/COCO_train2014_000000312850.jpg\" ></img></td></tr><tr><td><img width=300 src=\"train2014/COCO_train2014_000000130180.jpg\" ></img></td><td><img width=300 src=\"val2014/COCO_val2014_000000553129.jpg\" ></img></td><td><img width=300 src=\"train2014/COCO_train2014_000000138536.jpg\" ></img></td></tr><tr><td><img width=300 src=\"train2014/COCO_train2014_000000524838.jpg\" ></img></td></tr></table>"
      ],
      "text/plain": [
       "<IPython.core.display.HTML object>"
      ]
     },
     "metadata": {},
     "output_type": "display_data"
    }
   ],
   "source": [
    "display_record(results[1])"
   ]
  },
  {
   "cell_type": "code",
   "execution_count": 37,
   "metadata": {},
   "outputs": [
    {
     "name": "stdout",
     "output_type": "stream",
     "text": [
      "two elephants standing next to each other in a dirt field\n"
     ]
    },
    {
     "data": {
      "text/html": [
       "<table><tr><td><img width=400 src=\"val2014/COCO_val2014_000000083113.jpg\" ></img></td></tr><tr><td><ol><li>a couple of elephants standing next to each other | -5.85 | -2.65 | -2.65</li><li>a couple of elephants that are standing in the dirt | -6.51 | -2.64 | -2.64</li><li>a couple of elephants standing in a dirt field | -6.74 | -2.03 | -2.03</li><li>a couple of elephants are standing in a pin | -6.95 | -2.45 | -2.45</li><li>a group of elephants standing next to each other | -7.12 | -3.41 | -3.41</li><li>a herd of elephants standing next to each other | -7.63 | -3.94 | -3.94</li><li>a couple of elephants standing next to each other on a dirt field | -7.90 | -2.05 | -2.05</li><li>two elephants standing next to each other in a dirt field | -8.18 | -1.74 | -1.74</li><li>a couple of elephants standing next to a pile of logs | -8.57 | -2.04 | -2.04</li><li>two elephants standing next to each other in a dirt | -8.60 | -1.88 | -1.88</li></ol></td></tr></table>"
      ],
      "text/plain": [
       "<IPython.core.display.HTML object>"
      ]
     },
     "metadata": {},
     "output_type": "display_data"
    },
    {
     "data": {
      "text/html": [
       "<table><tr><td><img width=300 src=\"train2014/COCO_train2014_000000096244.jpg\" ></img></td><td><img width=300 src=\"train2014/COCO_train2014_000000515195.jpg\" ></img></td><td><img width=300 src=\"val2014/COCO_val2014_000000385119.jpg\" ></img></td></tr><tr><td><img width=300 src=\"train2014/COCO_train2014_000000480687.jpg\" ></img></td><td><img width=300 src=\"train2014/COCO_train2014_000000475610.jpg\" ></img></td><td><img width=300 src=\"train2014/COCO_train2014_000000458603.jpg\" ></img></td></tr><tr><td><img width=300 src=\"train2014/COCO_train2014_000000401919.jpg\" ></img></td><td><img width=300 src=\"train2014/COCO_train2014_000000002849.jpg\" ></img></td><td><img width=300 src=\"train2014/COCO_train2014_000000174932.jpg\" ></img></td></tr><tr><td><img width=300 src=\"val2014/COCO_val2014_000000392251.jpg\" ></img></td></tr></table>"
      ],
      "text/plain": [
       "<IPython.core.display.HTML object>"
      ]
     },
     "metadata": {},
     "output_type": "display_data"
    }
   ],
   "source": [
    "display_record(results[300])"
   ]
  },
  {
   "cell_type": "code",
   "execution_count": 38,
   "metadata": {},
   "outputs": [
    {
     "name": "stdout",
     "output_type": "stream",
     "text": [
      "a couple of giraffe standing in front of a building\n"
     ]
    },
    {
     "data": {
      "text/html": [
       "<table><tr><td><img width=400 src=\"val2014/COCO_val2014_000000124390.jpg\" ></img></td></tr><tr><td><ol><li>a couple of giraffe standing next to each other | -5.37 | -2.77 | -2.77</li><li>two giraffes standing in front of a building | -5.97 | -1.80 | -1.80</li><li>a couple of giraffe standing next to a building | -6.36 | -2.22 | -2.22</li><li>a couple of giraffes that are standing in the dirt | -6.95 | -2.66 | -2.66</li><li>a couple of giraffe standing on top of a dirt field | -7.11 | -3.03 | -3.03</li><li>a couple of giraffe standing in front of a building | -7.12 | -1.73 | -1.73</li><li>two giraffe standing next to each other in front of a building | -7.32 | -1.98 | -1.98</li><li>a couple of giraffe standing next to each other on a field | -7.44 | -3.14 | -3.14</li><li>two giraffes standing next to each other in front of a building | -7.55 | -2.01 | -2.01</li><li>two giraffe standing next to each other on a dirt field | -7.61 | -2.94 | -2.94</li></ol></td></tr></table>"
      ],
      "text/plain": [
       "<IPython.core.display.HTML object>"
      ]
     },
     "metadata": {},
     "output_type": "display_data"
    },
    {
     "data": {
      "text/html": [
       "<table><tr><td><img width=300 src=\"val2014/COCO_val2014_000000524373.jpg\" ></img></td><td><img width=300 src=\"train2014/COCO_train2014_000000050101.jpg\" ></img></td><td><img width=300 src=\"train2014/COCO_train2014_000000394523.jpg\" ></img></td></tr><tr><td><img width=300 src=\"val2014/COCO_val2014_000000192970.jpg\" ></img></td><td><img width=300 src=\"train2014/COCO_train2014_000000262098.jpg\" ></img></td><td><img width=300 src=\"val2014/COCO_val2014_000000254892.jpg\" ></img></td></tr><tr><td><img width=300 src=\"val2014/COCO_val2014_000000578238.jpg\" ></img></td><td><img width=300 src=\"train2014/COCO_train2014_000000445004.jpg\" ></img></td><td><img width=300 src=\"train2014/COCO_train2014_000000441891.jpg\" ></img></td></tr><tr><td><img width=300 src=\"train2014/COCO_train2014_000000047599.jpg\" ></img></td></tr></table>"
      ],
      "text/plain": [
       "<IPython.core.display.HTML object>"
      ]
     },
     "metadata": {},
     "output_type": "display_data"
    }
   ],
   "source": [
    "display_record(results[400])"
   ]
  },
  {
   "cell_type": "code",
   "execution_count": 39,
   "metadata": {},
   "outputs": [
    {
     "name": "stdout",
     "output_type": "stream",
     "text": [
      "a vase filled with lots of yellow flowers on top of a table\n"
     ]
    },
    {
     "data": {
      "text/html": [
       "<table><tr><td><img width=400 src=\"val2014/COCO_val2014_000000482007.jpg\" ></img></td></tr><tr><td><ol><li>a vase filled with yellow and yellow flowers | -8.07 | -2.28 | -2.28</li><li>a vase filled with lots of yellow flowers | -8.25 | -2.00 | -2.00</li><li>a vase filled with yellow flowers on top of a table | -8.32 | -2.16 | -2.16</li><li>a vase filled with flowers on top of a table | -8.39 | -4.29 | -4.29</li><li>a vase filled with flowers sitting on top of a table | -8.56 | -4.66 | -4.66</li><li>a close up of a vase with flowers in it | -8.64 | -2.27 | -2.27</li><li>a vase filled with yellow flowers sitting on top of a table | -9.37 | -2.50 | -2.50</li><li>a vase filled with lots of yellow flowers on top of a table | -9.50 | -1.40 | -1.40</li><li>a close up of a vase with many flowers in it | -9.75 | -1.94 | -1.94</li><li>a vase filled with yellow flowers sitting on a table | -9.75 | -3.07 | -3.07</li></ol></td></tr></table>"
      ],
      "text/plain": [
       "<IPython.core.display.HTML object>"
      ]
     },
     "metadata": {},
     "output_type": "display_data"
    },
    {
     "data": {
      "text/html": [
       "<table><tr><td><img width=300 src=\"train2014/COCO_train2014_000000304295.jpg\" ></img></td><td><img width=300 src=\"val2014/COCO_val2014_000000254237.jpg\" ></img></td><td><img width=300 src=\"train2014/COCO_train2014_000000410797.jpg\" ></img></td></tr><tr><td><img width=300 src=\"train2014/COCO_train2014_000000026132.jpg\" ></img></td><td><img width=300 src=\"train2014/COCO_train2014_000000553021.jpg\" ></img></td><td><img width=300 src=\"val2014/COCO_val2014_000000186073.jpg\" ></img></td></tr><tr><td><img width=300 src=\"train2014/COCO_train2014_000000334484.jpg\" ></img></td><td><img width=300 src=\"train2014/COCO_train2014_000000221874.jpg\" ></img></td><td><img width=300 src=\"train2014/COCO_train2014_000000453775.jpg\" ></img></td></tr><tr><td><img width=300 src=\"train2014/COCO_train2014_000000183350.jpg\" ></img></td></tr></table>"
      ],
      "text/plain": [
       "<IPython.core.display.HTML object>"
      ]
     },
     "metadata": {},
     "output_type": "display_data"
    }
   ],
   "source": [
    "display_record(results[500])"
   ]
  },
  {
   "cell_type": "code",
   "execution_count": 40,
   "metadata": {},
   "outputs": [
    {
     "name": "stdout",
     "output_type": "stream",
     "text": [
      "a little boy sitting on top of a surfboard\n"
     ]
    },
    {
     "data": {
      "text/html": [
       "<table><tr><td><img width=400 src=\"val2014/COCO_val2014_000000128570.jpg\" ></img></td></tr><tr><td><ol><li>a child sitting on a surfboard in the water | -6.02 | -2.32 | -2.32</li><li>a little boy sitting on a surfboard in the water | -6.41 | -2.51 | -2.51</li><li>a young boy sitting on a surfboard in the water | -6.47 | -2.82 | -2.82</li><li>a little boy sitting on top of a surfboard | -6.74 | -1.86 | -1.86</li><li>a young boy sitting on top of a surfboard | -6.87 | -2.11 | -2.11</li><li>a child sitting on a surf board in the water | -6.93 | -2.28 | -2.28</li><li>a young boy is sitting on a surfboard in the water | -7.39 | -2.78 | -2.78</li><li>a young boy sitting on a surf board in the water | -7.51 | -2.67 | -2.67</li><li>a little boy sitting on top of a surfboard in the water | -7.53 | -1.88 | -1.88</li><li>a little boy sitting on top of a surfboard in the ocean | -8.40 | -2.32 | -2.32</li></ol></td></tr></table>"
      ],
      "text/plain": [
       "<IPython.core.display.HTML object>"
      ]
     },
     "metadata": {},
     "output_type": "display_data"
    },
    {
     "data": {
      "text/html": [
       "<table><tr><td><img width=300 src=\"train2014/COCO_train2014_000000527092.jpg\" ></img></td><td><img width=300 src=\"train2014/COCO_train2014_000000224304.jpg\" ></img></td><td><img width=300 src=\"val2014/COCO_val2014_000000293564.jpg\" ></img></td></tr><tr><td><img width=300 src=\"train2014/COCO_train2014_000000153572.jpg\" ></img></td><td><img width=300 src=\"train2014/COCO_train2014_000000258893.jpg\" ></img></td><td><img width=300 src=\"val2014/COCO_val2014_000000116173.jpg\" ></img></td></tr><tr><td><img width=300 src=\"train2014/COCO_train2014_000000288519.jpg\" ></img></td><td><img width=300 src=\"train2014/COCO_train2014_000000382383.jpg\" ></img></td><td><img width=300 src=\"train2014/COCO_train2014_000000549527.jpg\" ></img></td></tr><tr><td><img width=300 src=\"train2014/COCO_train2014_000000291165.jpg\" ></img></td></tr></table>"
      ],
      "text/plain": [
       "<IPython.core.display.HTML object>"
      ]
     },
     "metadata": {},
     "output_type": "display_data"
    }
   ],
   "source": [
    "display_record(results[600])"
   ]
  },
  {
   "cell_type": "code",
   "execution_count": 41,
   "metadata": {},
   "outputs": [
    {
     "name": "stdout",
     "output_type": "stream",
     "text": [
      "a woman riding on the back of a skateboard\n"
     ]
    },
    {
     "data": {
      "text/html": [
       "<table><tr><td><img width=400 src=\"val2014/COCO_val2014_000000455555.jpg\" ></img></td></tr><tr><td><ol><li>a black and white photo of a woman on a skateboard | -7.71 | -2.47 | -2.47</li><li>a woman riding a skateboard down a sidewalk | -7.78 | -2.83 | -2.83</li><li>a black and white photo of a person on a skateboard | -7.89 | -4.17 | -4.17</li><li>a black and white photo of a child on a skateboard | -8.00 | -1.86 | -1.86</li><li>a woman riding on the back of a skateboard | -8.07 | -1.69 | -1.69</li><li>a black and white photo of a boy on a skateboard | -8.12 | -3.24 | -3.24</li><li>a black and white photo of a girl on a skateboard | -8.29 | -2.35 | -2.35</li><li>a black and white photo of a young girl on a skateboard | -9.00 | -1.84 | -1.84</li><li>a black and white photo of a young boy on a skateboard | -9.10 | -2.64 | -2.64</li><li>a black and white photo of a young woman on a skateboard | -9.37 | -2.00 | -2.00</li></ol></td></tr></table>"
      ],
      "text/plain": [
       "<IPython.core.display.HTML object>"
      ]
     },
     "metadata": {},
     "output_type": "display_data"
    },
    {
     "data": {
      "text/html": [
       "<table><tr><td><img width=300 src=\"train2014/COCO_train2014_000000445684.jpg\" ></img></td><td><img width=300 src=\"train2014/COCO_train2014_000000409120.jpg\" ></img></td><td><img width=300 src=\"train2014/COCO_train2014_000000420045.jpg\" ></img></td></tr><tr><td><img width=300 src=\"val2014/COCO_val2014_000000058778.jpg\" ></img></td><td><img width=300 src=\"train2014/COCO_train2014_000000347217.jpg\" ></img></td><td><img width=300 src=\"val2014/COCO_val2014_000000303538.jpg\" ></img></td></tr><tr><td><img width=300 src=\"val2014/COCO_val2014_000000566173.jpg\" ></img></td><td><img width=300 src=\"train2014/COCO_train2014_000000211863.jpg\" ></img></td><td><img width=300 src=\"train2014/COCO_train2014_000000243382.jpg\" ></img></td></tr><tr><td><img width=300 src=\"train2014/COCO_train2014_000000468588.jpg\" ></img></td></tr></table>"
      ],
      "text/plain": [
       "<IPython.core.display.HTML object>"
      ]
     },
     "metadata": {},
     "output_type": "display_data"
    }
   ],
   "source": [
    "display_record(results[700])"
   ]
  },
  {
   "cell_type": "code",
   "execution_count": 42,
   "metadata": {},
   "outputs": [
    {
     "name": "stdout",
     "output_type": "stream",
     "text": [
      "a sign that is on a pole near a tree\n"
     ]
    },
    {
     "data": {
      "text/html": [
       "<table><tr><td><img width=400 src=\"val2014/COCO_val2014_000000318415.jpg\" ></img></td></tr><tr><td><ol><li>a couple of bikes parked next to a river | -10.07 | -3.21 | -3.21</li><li>a couple of bikes parked next to a lake | -10.27 | -2.31 | -2.31</li><li>a couple of bikes parked next to a tree | -10.29 | -2.15 | -2.15</li><li>a couple of bikes parked next to a park | -10.35 | -2.18 | -2.18</li><li>a sign that is on a pole in the grass | -10.44 | -2.14 | -2.14</li><li>a couple of bikes parked next to a body of water | -10.88 | -3.27 | -3.27</li><li>a sign that is on a pole near a tree | -11.92 | -2.13 | -2.13</li><li>a couple of bikes parked next to a park bench | -12.09 | -2.13 | -2.13</li><li>a sign on the side of a road next to a river | -12.95 | -2.13 | -2.13</li><li>a sign on the side of a road near a park | -13.08 | -2.14 | -2.14</li></ol></td></tr></table>"
      ],
      "text/plain": [
       "<IPython.core.display.HTML object>"
      ]
     },
     "metadata": {},
     "output_type": "display_data"
    },
    {
     "data": {
      "text/html": [
       "<table><tr><td><img width=300 src=\"val2014/COCO_val2014_000000320641.jpg\" ></img></td><td><img width=300 src=\"train2014/COCO_train2014_000000273001.jpg\" ></img></td><td><img width=300 src=\"train2014/COCO_train2014_000000254218.jpg\" ></img></td></tr><tr><td><img width=300 src=\"train2014/COCO_train2014_000000392843.jpg\" ></img></td><td><img width=300 src=\"train2014/COCO_train2014_000000456343.jpg\" ></img></td><td><img width=300 src=\"val2014/COCO_val2014_000000571865.jpg\" ></img></td></tr><tr><td><img width=300 src=\"train2014/COCO_train2014_000000485785.jpg\" ></img></td><td><img width=300 src=\"train2014/COCO_train2014_000000447623.jpg\" ></img></td><td><img width=300 src=\"train2014/COCO_train2014_000000297462.jpg\" ></img></td></tr><tr><td><img width=300 src=\"train2014/COCO_train2014_000000467432.jpg\" ></img></td></tr></table>"
      ],
      "text/plain": [
       "<IPython.core.display.HTML object>"
      ]
     },
     "metadata": {},
     "output_type": "display_data"
    }
   ],
   "source": [
    "display_record(results[800])"
   ]
  },
  {
   "cell_type": "code",
   "execution_count": 43,
   "metadata": {},
   "outputs": [
    {
     "name": "stdout",
     "output_type": "stream",
     "text": [
      "a woman standing in a room while holding a cell phone\n"
     ]
    },
    {
     "data": {
      "text/html": [
       "<table><tr><td><img width=400 src=\"val2014/COCO_val2014_000000199540.jpg\" ></img></td></tr><tr><td><ol><li>a woman standing in a room holding a cell phone | -8.31 | -2.26 | -2.26</li><li>a woman standing in a room with a cell phone | -8.74 | -2.32 | -2.32</li><li>a woman standing in a room holding a camera | -8.99 | -2.29 | -2.29</li><li>a woman standing in a room with a camera | -9.04 | -2.41 | -2.41</li><li>a woman standing in a room holding a phone | -9.09 | -2.28 | -2.28</li><li>a woman standing in a room while holding a cell phone | -9.97 | -2.25 | -2.25</li><li>a woman standing in a room while holding a camera | -10.36 | -2.26 | -2.26</li><li>a woman is standing in a room with a cell phone | -10.58 | -2.31 | -2.31</li><li>a woman standing in front of a doorway holding a cell phone | -10.96 | -2.35 | -2.35</li><li>a woman standing in front of a door holding a cell phone | -11.07 | -2.30 | -2.30</li></ol></td></tr></table>"
      ],
      "text/plain": [
       "<IPython.core.display.HTML object>"
      ]
     },
     "metadata": {},
     "output_type": "display_data"
    },
    {
     "data": {
      "text/html": [
       "<table><tr><td><img width=300 src=\"val2014/COCO_val2014_000000358399.jpg\" ></img></td><td><img width=300 src=\"train2014/COCO_train2014_000000473631.jpg\" ></img></td><td><img width=300 src=\"train2014/COCO_train2014_000000143553.jpg\" ></img></td></tr><tr><td><img width=300 src=\"train2014/COCO_train2014_000000308792.jpg\" ></img></td><td><img width=300 src=\"train2014/COCO_train2014_000000423250.jpg\" ></img></td><td><img width=300 src=\"train2014/COCO_train2014_000000224134.jpg\" ></img></td></tr><tr><td><img width=300 src=\"train2014/COCO_train2014_000000084015.jpg\" ></img></td><td><img width=300 src=\"val2014/COCO_val2014_000000122135.jpg\" ></img></td><td><img width=300 src=\"val2014/COCO_val2014_000000531852.jpg\" ></img></td></tr><tr><td><img width=300 src=\"val2014/COCO_val2014_000000430989.jpg\" ></img></td></tr></table>"
      ],
      "text/plain": [
       "<IPython.core.display.HTML object>"
      ]
     },
     "metadata": {},
     "output_type": "display_data"
    }
   ],
   "source": [
    "display_record(results[900])"
   ]
  },
  {
   "cell_type": "code",
   "execution_count": 44,
   "metadata": {},
   "outputs": [
    {
     "name": "stdout",
     "output_type": "stream",
     "text": [
      "a kitchen with a microwave and a sink in it\n"
     ]
    },
    {
     "data": {
      "text/html": [
       "<table><tr><td><img width=400 src=\"val2014/COCO_val2014_000000126744.jpg\" ></img></td></tr><tr><td><ol><li>a kitchen with a sink and a refrigerator | -8.00 | -2.80 | -2.80</li><li>a kitchen with a sink and a microwave | -8.30 | -2.44 | -2.44</li><li>a kitchen with a microwave and a sink | -8.37 | -1.98 | -1.98</li><li>a kitchen with a sink microwave and refrigerator | -8.69 | -2.01 | -2.01</li><li>a kitchen with a sink a refrigerator and a sink | -9.44 | -2.22 | -2.22</li><li>a kitchen with a sink a refrigerator and a microwave | -9.54 | -2.37 | -2.37</li><li>a small kitchen with a sink and a refrigerator | -10.06 | -2.34 | -2.34</li><li>a kitchen with a microwave and a sink in it | -10.12 | -1.96 | -1.96</li><li>a kitchen with white cabinets and a white refrigerator | -10.24 | -3.72 | -3.72</li><li>a kitchen with white cabinets and a white microwave | -10.35 | -2.16 | -2.16</li></ol></td></tr></table>"
      ],
      "text/plain": [
       "<IPython.core.display.HTML object>"
      ]
     },
     "metadata": {},
     "output_type": "display_data"
    },
    {
     "data": {
      "text/html": [
       "<table><tr><td><img width=300 src=\"train2014/COCO_train2014_000000436185.jpg\" ></img></td><td><img width=300 src=\"train2014/COCO_train2014_000000568113.jpg\" ></img></td><td><img width=300 src=\"val2014/COCO_val2014_000000106392.jpg\" ></img></td></tr><tr><td><img width=300 src=\"val2014/COCO_val2014_000000553129.jpg\" ></img></td><td><img width=300 src=\"val2014/COCO_val2014_000000564283.jpg\" ></img></td><td><img width=300 src=\"train2014/COCO_train2014_000000251219.jpg\" ></img></td></tr><tr><td><img width=300 src=\"train2014/COCO_train2014_000000468834.jpg\" ></img></td><td><img width=300 src=\"train2014/COCO_train2014_000000206685.jpg\" ></img></td><td><img width=300 src=\"train2014/COCO_train2014_000000374845.jpg\" ></img></td></tr><tr><td><img width=300 src=\"val2014/COCO_val2014_000000368402.jpg\" ></img></td></tr></table>"
      ],
      "text/plain": [
       "<IPython.core.display.HTML object>"
      ]
     },
     "metadata": {},
     "output_type": "display_data"
    }
   ],
   "source": [
    "display_record(results[1000])"
   ]
  },
  {
   "cell_type": "code",
   "execution_count": 45,
   "metadata": {},
   "outputs": [
    {
     "name": "stdout",
     "output_type": "stream",
     "text": [
      "a couple of glazed donuts sitting on top of a table\n"
     ]
    },
    {
     "data": {
      "text/html": [
       "<table><tr><td><img width=400 src=\"val2014/COCO_val2014_000000109824.jpg\" ></img></td></tr><tr><td><ol><li>a couple of doughnuts that are on a plate | -8.16 | -3.04 | -3.04</li><li>a couple of doughnuts that are on a table | -8.47 | -2.44 | -2.44</li><li>a bunch of doughnuts that are on a plate | -8.51 | -3.24 | -3.24</li><li>a couple of doughnuts that are sitting on a table | -8.65 | -2.05 | -2.05</li><li>a couple of doughnuts that are on a tray | -8.77 | -2.58 | -2.58</li><li>a close up of a doughnuts on a plate | -9.02 | -1.95 | -1.95</li><li>a bunch of doughnuts that are on a table | -9.02 | -2.65 | -2.65</li><li>a bunch of doughnuts that are sitting on a table | -9.12 | -2.25 | -2.25</li><li>a close up of a doughnut on a plate | -9.16 | -2.27 | -2.27</li><li>a couple of glazed donuts sitting on top of a table | -9.37 | -1.61 | -1.61</li></ol></td></tr></table>"
      ],
      "text/plain": [
       "<IPython.core.display.HTML object>"
      ]
     },
     "metadata": {},
     "output_type": "display_data"
    },
    {
     "data": {
      "text/html": [
       "<table><tr><td><img width=300 src=\"train2014/COCO_train2014_000000082083.jpg\" ></img></td><td><img width=300 src=\"train2014/COCO_train2014_000000346391.jpg\" ></img></td><td><img width=300 src=\"val2014/COCO_val2014_000000136938.jpg\" ></img></td></tr><tr><td><img width=300 src=\"train2014/COCO_train2014_000000016836.jpg\" ></img></td><td><img width=300 src=\"train2014/COCO_train2014_000000382102.jpg\" ></img></td><td><img width=300 src=\"train2014/COCO_train2014_000000544570.jpg\" ></img></td></tr><tr><td><img width=300 src=\"val2014/COCO_val2014_000000421745.jpg\" ></img></td><td><img width=300 src=\"train2014/COCO_train2014_000000123421.jpg\" ></img></td><td><img width=300 src=\"train2014/COCO_train2014_000000399981.jpg\" ></img></td></tr><tr><td><img width=300 src=\"train2014/COCO_train2014_000000166082.jpg\" ></img></td></tr></table>"
      ],
      "text/plain": [
       "<IPython.core.display.HTML object>"
      ]
     },
     "metadata": {},
     "output_type": "display_data"
    }
   ],
   "source": [
    "display_record(results[1100])"
   ]
  },
  {
   "cell_type": "code",
   "execution_count": 46,
   "metadata": {},
   "outputs": [
    {
     "name": "stdout",
     "output_type": "stream",
     "text": [
      "a large black dog laying on top of a blanket\n"
     ]
    },
    {
     "data": {
      "text/html": [
       "<table><tr><td><img width=400 src=\"val2014/COCO_val2014_000000498641.jpg\" ></img></td></tr><tr><td><ol><li>a large black dog laying on top of a couch | -5.49 | -2.29 | -2.29</li><li>a large black dog laying on top of a bed | -5.59 | -2.12 | -2.12</li><li>a dog laying on a couch in a room | -7.04 | -3.18 | -3.18</li><li>a black and brown dog laying on a couch | -7.07 | -1.97 | -1.97</li><li>a black dog laying on top of a couch | -7.08 | -2.71 | -2.71</li><li>a black and brown dog laying on top of a couch | -7.27 | -1.93 | -1.93</li><li>a large black dog laying on top of a blanket | -7.39 | -1.64 | -1.64</li><li>a black dog laying on top of a bed | -7.47 | -3.29 | -3.29</li><li>a large dog laying on top of a couch | -7.53 | -2.87 | -2.87</li><li>a black and brown dog laying on top of a bed | -7.62 | -2.33 | -2.33</li></ol></td></tr></table>"
      ],
      "text/plain": [
       "<IPython.core.display.HTML object>"
      ]
     },
     "metadata": {},
     "output_type": "display_data"
    },
    {
     "data": {
      "text/html": [
       "<table><tr><td><img width=300 src=\"val2014/COCO_val2014_000000286480.jpg\" ></img></td><td><img width=300 src=\"train2014/COCO_train2014_000000005862.jpg\" ></img></td><td><img width=300 src=\"train2014/COCO_train2014_000000450952.jpg\" ></img></td></tr><tr><td><img width=300 src=\"val2014/COCO_val2014_000000227428.jpg\" ></img></td><td><img width=300 src=\"train2014/COCO_train2014_000000133295.jpg\" ></img></td><td><img width=300 src=\"train2014/COCO_train2014_000000499930.jpg\" ></img></td></tr><tr><td><img width=300 src=\"train2014/COCO_train2014_000000037059.jpg\" ></img></td><td><img width=300 src=\"train2014/COCO_train2014_000000253785.jpg\" ></img></td><td><img width=300 src=\"train2014/COCO_train2014_000000130065.jpg\" ></img></td></tr><tr><td><img width=300 src=\"train2014/COCO_train2014_000000254138.jpg\" ></img></td></tr></table>"
      ],
      "text/plain": [
       "<IPython.core.display.HTML object>"
      ]
     },
     "metadata": {},
     "output_type": "display_data"
    }
   ],
   "source": [
    "display_record(results[1200])"
   ]
  },
  {
   "cell_type": "code",
   "execution_count": 47,
   "metadata": {},
   "outputs": [
    {
     "name": "stdout",
     "output_type": "stream",
     "text": [
      "a group of motorcycles parked outside of a store\n"
     ]
    },
    {
     "data": {
      "text/html": [
       "<table><tr><td><img width=400 src=\"val2014/COCO_val2014_000000019109.jpg\" ></img></td></tr><tr><td><ol><li>a group of motorcycles parked in front of a store | -6.37 | -1.84 | -1.84</li><li>a row of motorcycles parked in front of a store | -6.71 | -2.11 | -2.11</li><li>a group of motorcycles parked in front of a building | -7.01 | -3.33 | -3.33</li><li>a row of motorcycles parked in front of a building | -7.43 | -3.74 | -3.74</li><li>a group of motorcycles parked outside of a store | -7.67 | -1.82 | -1.82</li><li>a bunch of motorcycles parked in front of a store | -7.72 | -1.83 | -1.83</li><li>a group of motorcycles parked outside of a building | -8.09 | -2.93 | -2.93</li><li>a group of motorcycles parked in front of a shop | -8.20 | -2.16 | -2.16</li><li>a bunch of motorcycles parked in front of a building | -8.21 | -3.08 | -3.08</li><li>a group of motorcycles are parked in front of a store | -8.67 | -2.10 | -2.10</li></ol></td></tr></table>"
      ],
      "text/plain": [
       "<IPython.core.display.HTML object>"
      ]
     },
     "metadata": {},
     "output_type": "display_data"
    },
    {
     "data": {
      "text/html": [
       "<table><tr><td><img width=300 src=\"val2014/COCO_val2014_000000391011.jpg\" ></img></td><td><img width=300 src=\"train2014/COCO_train2014_000000473818.jpg\" ></img></td><td><img width=300 src=\"train2014/COCO_train2014_000000554326.jpg\" ></img></td></tr><tr><td><img width=300 src=\"train2014/COCO_train2014_000000385448.jpg\" ></img></td><td><img width=300 src=\"val2014/COCO_val2014_000000174390.jpg\" ></img></td><td><img width=300 src=\"val2014/COCO_val2014_000000208991.jpg\" ></img></td></tr><tr><td><img width=300 src=\"val2014/COCO_val2014_000000185373.jpg\" ></img></td><td><img width=300 src=\"train2014/COCO_train2014_000000485649.jpg\" ></img></td><td><img width=300 src=\"val2014/COCO_val2014_000000315196.jpg\" ></img></td></tr><tr><td><img width=300 src=\"val2014/COCO_val2014_000000342515.jpg\" ></img></td></tr></table>"
      ],
      "text/plain": [
       "<IPython.core.display.HTML object>"
      ]
     },
     "metadata": {},
     "output_type": "display_data"
    }
   ],
   "source": [
    "display_record(results[1300])"
   ]
  },
  {
   "cell_type": "code",
   "execution_count": 48,
   "metadata": {},
   "outputs": [
    {
     "name": "stdout",
     "output_type": "stream",
     "text": [
      "a woman swinging a tennis racket at a tennis ball\n"
     ]
    },
    {
     "data": {
      "text/html": [
       "<table><tr><td><img width=400 src=\"val2014/COCO_val2014_000000207239.jpg\" ></img></td></tr><tr><td><ol><li>a woman swinging a tennis racket at a tennis ball | -5.18 | -2.25 | -2.25</li><li>a woman hitting a tennis ball with a racquet | -5.26 | -2.27 | -2.27</li><li>a woman swinging a tennis racquet at a tennis ball | -5.27 | -2.26 | -2.26</li><li>a woman hitting a tennis ball with a tennis racquet | -5.39 | -2.27 | -2.27</li><li>a woman holding a tennis racquet on a tennis court | -5.52 | -2.46 | -2.46</li><li>a woman holding a tennis racquet on top of a tennis court | -5.70 | -2.40 | -2.40</li><li>a woman swinging a tennis racket at a ball | -5.72 | -2.26 | -2.26</li><li>a woman is swinging a tennis racket at a ball | -5.89 | -2.26 | -2.26</li><li>a woman swinging a tennis racquet at a ball | -6.00 | -2.27 | -2.27</li><li>a woman playing tennis on a tennis court | -6.04 | -2.36 | -2.36</li></ol></td></tr></table>"
      ],
      "text/plain": [
       "<IPython.core.display.HTML object>"
      ]
     },
     "metadata": {},
     "output_type": "display_data"
    },
    {
     "data": {
      "text/html": [
       "<table><tr><td><img width=300 src=\"train2014/COCO_train2014_000000527388.jpg\" ></img></td><td><img width=300 src=\"val2014/COCO_val2014_000000228297.jpg\" ></img></td><td><img width=300 src=\"train2014/COCO_train2014_000000126628.jpg\" ></img></td></tr><tr><td><img width=300 src=\"train2014/COCO_train2014_000000311436.jpg\" ></img></td><td><img width=300 src=\"train2014/COCO_train2014_000000440157.jpg\" ></img></td><td><img width=300 src=\"val2014/COCO_val2014_000000528091.jpg\" ></img></td></tr><tr><td><img width=300 src=\"val2014/COCO_val2014_000000116023.jpg\" ></img></td><td><img width=300 src=\"train2014/COCO_train2014_000000273917.jpg\" ></img></td><td><img width=300 src=\"val2014/COCO_val2014_000000378940.jpg\" ></img></td></tr><tr><td><img width=300 src=\"train2014/COCO_train2014_000000387349.jpg\" ></img></td></tr></table>"
      ],
      "text/plain": [
       "<IPython.core.display.HTML object>"
      ]
     },
     "metadata": {},
     "output_type": "display_data"
    }
   ],
   "source": [
    "display_record(results[1400])"
   ]
  },
  {
   "cell_type": "code",
   "execution_count": 49,
   "metadata": {},
   "outputs": [
    {
     "name": "stdout",
     "output_type": "stream",
     "text": [
      "a slice of pizza sitting on top of a white paper plate\n"
     ]
    },
    {
     "data": {
      "text/html": [
       "<table><tr><td><img width=400 src=\"val2014/COCO_val2014_000000309539.jpg\" ></img></td></tr><tr><td><ol><li>a slice of pizza on a paper plate | -4.10 | -2.33 | -2.33</li><li>a slice of pizza sitting on top of a white plate | -4.80 | -2.73 | -2.73</li><li>a slice of pizza sitting on top of a paper plate | -5.20 | -2.16 | -2.16</li><li>a piece of pizza on a paper plate | -5.21 | -2.40 | -2.40</li><li>a slice of cheese pizza on a paper plate | -5.33 | -2.04 | -2.04</li><li>a slice of pizza on a white plate | -5.38 | -3.09 | -3.09</li><li>a slice of pizza sits on a paper plate | -5.39 | -2.05 | -2.05</li><li>a piece of pizza sitting on top of a white plate | -5.70 | -2.85 | -2.85</li><li>a slice of pizza sitting on top of a white paper plate | -5.79 | -1.79 | -1.79</li><li>a slice of pizza sitting on a paper plate | -6.01 | -2.27 | -2.27</li></ol></td></tr></table>"
      ],
      "text/plain": [
       "<IPython.core.display.HTML object>"
      ]
     },
     "metadata": {},
     "output_type": "display_data"
    },
    {
     "data": {
      "text/html": [
       "<table><tr><td><img width=300 src=\"train2014/COCO_train2014_000000313617.jpg\" ></img></td><td><img width=300 src=\"train2014/COCO_train2014_000000071485.jpg\" ></img></td><td><img width=300 src=\"train2014/COCO_train2014_000000023570.jpg\" ></img></td></tr><tr><td><img width=300 src=\"train2014/COCO_train2014_000000378950.jpg\" ></img></td><td><img width=300 src=\"val2014/COCO_val2014_000000021563.jpg\" ></img></td><td><img width=300 src=\"train2014/COCO_train2014_000000225490.jpg\" ></img></td></tr><tr><td><img width=300 src=\"train2014/COCO_train2014_000000429455.jpg\" ></img></td><td><img width=300 src=\"train2014/COCO_train2014_000000152662.jpg\" ></img></td><td><img width=300 src=\"train2014/COCO_train2014_000000005303.jpg\" ></img></td></tr><tr><td><img width=300 src=\"val2014/COCO_val2014_000000318683.jpg\" ></img></td></tr></table>"
      ],
      "text/plain": [
       "<IPython.core.display.HTML object>"
      ]
     },
     "metadata": {},
     "output_type": "display_data"
    }
   ],
   "source": [
    "display_record(results[1500])"
   ]
  },
  {
   "cell_type": "code",
   "execution_count": 50,
   "metadata": {},
   "outputs": [
    {
     "name": "stdout",
     "output_type": "stream",
     "text": [
      "a close up of a hot dog on a plate with ketchup\n"
     ]
    },
    {
     "data": {
      "text/html": [
       "<table><tr><td><img width=400 src=\"val2014/COCO_val2014_000000009908.jpg\" ></img></td></tr><tr><td><ol><li>a close up of a hot dog on a plate | -6.37 | -2.67 | -2.67</li><li>a hot dog sitting on top of a white plate | -6.63 | -2.88 | -2.88</li><li>a hot dog with ketchup and mustard on a plate | -7.70 | -2.19 | -2.19</li><li>a hot dog with mustard and ketchup on a plate | -7.74 | -2.25 | -2.25</li><li>a close up of a hot dog with ketchup and mustard | -8.07 | -2.34 | -2.34</li><li>a hot dog sitting on top of a white plate next to a fork | -8.95 | -2.20 | -2.20</li><li>a hot dog sitting on top of a bun covered in ketchup | -9.00 | -2.59 | -2.59</li><li>a hot dog sitting on top of a bun covered in toppings | -9.04 | -2.63 | -2.63</li><li>a close up of a hot dog on a plate with ketchup | -9.17 | -1.85 | -1.85</li><li>a close up of a hot dog on a plate with mustard | -9.29 | -1.92 | -1.92</li></ol></td></tr></table>"
      ],
      "text/plain": [
       "<IPython.core.display.HTML object>"
      ]
     },
     "metadata": {},
     "output_type": "display_data"
    },
    {
     "data": {
      "text/html": [
       "<table><tr><td><img width=300 src=\"val2014/COCO_val2014_000000266951.jpg\" ></img></td><td><img width=300 src=\"val2014/COCO_val2014_000000248920.jpg\" ></img></td><td><img width=300 src=\"train2014/COCO_train2014_000000283956.jpg\" ></img></td></tr><tr><td><img width=300 src=\"train2014/COCO_train2014_000000016741.jpg\" ></img></td><td><img width=300 src=\"train2014/COCO_train2014_000000034523.jpg\" ></img></td><td><img width=300 src=\"val2014/COCO_val2014_000000051079.jpg\" ></img></td></tr><tr><td><img width=300 src=\"val2014/COCO_val2014_000000271215.jpg\" ></img></td><td><img width=300 src=\"val2014/COCO_val2014_000000023448.jpg\" ></img></td><td><img width=300 src=\"train2014/COCO_train2014_000000315278.jpg\" ></img></td></tr><tr><td><img width=300 src=\"train2014/COCO_train2014_000000415925.jpg\" ></img></td></tr></table>"
      ],
      "text/plain": [
       "<IPython.core.display.HTML object>"
      ]
     },
     "metadata": {},
     "output_type": "display_data"
    }
   ],
   "source": [
    "display_record(results[1600])"
   ]
  },
  {
   "cell_type": "code",
   "execution_count": 51,
   "metadata": {},
   "outputs": [
    {
     "name": "stdout",
     "output_type": "stream",
     "text": [
      "a bunch of stuffed animals sitting on top of a window sill\n"
     ]
    },
    {
     "data": {
      "text/html": [
       "<table><tr><td><img width=400 src=\"val2014/COCO_val2014_000000358642.jpg\" ></img></td></tr><tr><td><ol><li>a group of stuffed animals sitting on top of a window sill | -9.90 | -1.73 | -1.73</li><li>a bunch of stuffed animals on display in a window | -10.11 | -2.16 | -2.16</li><li>a bunch of stuffed animals sitting in a window | -10.21 | -2.74 | -2.74</li><li>a bunch of stuffed animals are on display | -10.36 | -4.84 | -4.84</li><li>a group of stuffed animals sitting in a window | -10.45 | -2.29 | -2.29</li><li>a group of stuffed animals sitting next to each other | -10.48 | -4.00 | -4.00</li><li>a bunch of stuffed animals sitting on a window sill | -10.61 | -2.16 | -2.16</li><li>a group of stuffed animals sitting on top of a window | -10.63 | -1.70 | -1.70</li><li>a bunch of stuffed animals sitting on top of a window sill | -11.18 | -1.55 | -1.55</li><li>a bunch of stuffed animals sitting on a shelf | -11.19 | -5.36 | -5.36</li></ol></td></tr></table>"
      ],
      "text/plain": [
       "<IPython.core.display.HTML object>"
      ]
     },
     "metadata": {},
     "output_type": "display_data"
    },
    {
     "data": {
      "text/html": [
       "<table><tr><td><img width=300 src=\"train2014/COCO_train2014_000000376422.jpg\" ></img></td><td><img width=300 src=\"val2014/COCO_val2014_000000185768.jpg\" ></img></td><td><img width=300 src=\"train2014/COCO_train2014_000000147553.jpg\" ></img></td></tr><tr><td><img width=300 src=\"train2014/COCO_train2014_000000556067.jpg\" ></img></td><td><img width=300 src=\"val2014/COCO_val2014_000000373440.jpg\" ></img></td><td><img width=300 src=\"val2014/COCO_val2014_000000289610.jpg\" ></img></td></tr><tr><td><img width=300 src=\"val2014/COCO_val2014_000000094185.jpg\" ></img></td><td><img width=300 src=\"val2014/COCO_val2014_000000100604.jpg\" ></img></td><td><img width=300 src=\"train2014/COCO_train2014_000000322002.jpg\" ></img></td></tr><tr><td><img width=300 src=\"val2014/COCO_val2014_000000245754.jpg\" ></img></td></tr></table>"
      ],
      "text/plain": [
       "<IPython.core.display.HTML object>"
      ]
     },
     "metadata": {},
     "output_type": "display_data"
    }
   ],
   "source": [
    "display_record(results[1700])"
   ]
  },
  {
   "cell_type": "code",
   "execution_count": 52,
   "metadata": {},
   "outputs": [
    {
     "name": "stdout",
     "output_type": "stream",
     "text": [
      "a stop sign on a pole on a road\n"
     ]
    },
    {
     "data": {
      "text/html": [
       "<table><tr><td><img width=400 src=\"val2014/COCO_val2014_000000180095.jpg\" ></img></td></tr><tr><td><ol><li>a red stop sign sitting on the side of a road | -4.14 | -2.73 | -2.73</li><li>a red stop sign sitting next to a road | -7.01 | -1.88 | -1.88</li><li>a red stop sign sitting on top of a metal pole | -7.39 | -3.33 | -3.33</li><li>a red stop sign sitting on top of a road | -7.52 | -2.10 | -2.10</li><li>a red stop sign sitting on the side of a road road | -7.57 | -2.34 | -2.34</li><li>a red stop sign sitting next to a street | -7.64 | -2.04 | -2.04</li><li>a red stop sign sitting on the side of a street | -7.65 | -3.18 | -3.18</li><li>a stop sign on a pole on a road | -7.77 | -1.62 | -1.62</li><li>a close up of a stop sign with a sky background | -7.90 | -2.58 | -2.58</li><li>a red stop sign sitting on the side of the road | -7.92 | -2.49 | -2.49</li></ol></td></tr></table>"
      ],
      "text/plain": [
       "<IPython.core.display.HTML object>"
      ]
     },
     "metadata": {},
     "output_type": "display_data"
    },
    {
     "data": {
      "text/html": [
       "<table><tr><td><img width=300 src=\"val2014/COCO_val2014_000000575633.jpg\" ></img></td><td><img width=300 src=\"val2014/COCO_val2014_000000028982.jpg\" ></img></td><td><img width=300 src=\"val2014/COCO_val2014_000000522940.jpg\" ></img></td></tr><tr><td><img width=300 src=\"val2014/COCO_val2014_000000508818.jpg\" ></img></td><td><img width=300 src=\"val2014/COCO_val2014_000000374669.jpg\" ></img></td><td><img width=300 src=\"train2014/COCO_train2014_000000018029.jpg\" ></img></td></tr><tr><td><img width=300 src=\"train2014/COCO_train2014_000000446130.jpg\" ></img></td><td><img width=300 src=\"train2014/COCO_train2014_000000506138.jpg\" ></img></td><td><img width=300 src=\"train2014/COCO_train2014_000000184204.jpg\" ></img></td></tr><tr><td><img width=300 src=\"train2014/COCO_train2014_000000360658.jpg\" ></img></td></tr></table>"
      ],
      "text/plain": [
       "<IPython.core.display.HTML object>"
      ]
     },
     "metadata": {},
     "output_type": "display_data"
    }
   ],
   "source": [
    "display_record(results[1800])"
   ]
  },
  {
   "cell_type": "code",
   "execution_count": 53,
   "metadata": {},
   "outputs": [
    {
     "name": "stdout",
     "output_type": "stream",
     "text": [
      "a man riding on the back of a blue motorcycle\n"
     ]
    },
    {
     "data": {
      "text/html": [
       "<table><tr><td><img width=400 src=\"val2014/COCO_val2014_000000263664.jpg\" ></img></td></tr><tr><td><ol><li>a man riding on the back of a motorcycle | -6.67 | -2.30 | -2.30</li><li>a man riding a motorcycle next to a bus | -7.29 | -2.31 | -2.31</li><li>a man riding a motorcycle down a street | -7.54 | -2.31 | -2.31</li><li>a man riding a motorcycle in front of a bus | -7.57 | -2.32 | -2.32</li><li>a man riding on the back of a motorcycle down a street | -7.58 | -2.30 | -2.30</li><li>a man riding on the back of a blue motorcycle | -7.76 | -2.29 | -2.29</li><li>a man riding a motorcycle down a street next to a bus | -7.95 | -2.32 | -2.32</li><li>a man riding on the back of a motorcycle next to a bus | -8.18 | -2.30 | -2.30</li><li>a man riding a motorcycle next to a blue bus | -8.31 | -2.29 | -2.29</li><li>a man riding on the back of a motorcycle down a road | -9.04 | -2.29 | -2.29</li></ol></td></tr></table>"
      ],
      "text/plain": [
       "<IPython.core.display.HTML object>"
      ]
     },
     "metadata": {},
     "output_type": "display_data"
    },
    {
     "data": {
      "text/html": [
       "<table><tr><td><img width=300 src=\"train2014/COCO_train2014_000000389755.jpg\" ></img></td><td><img width=300 src=\"train2014/COCO_train2014_000000340758.jpg\" ></img></td><td><img width=300 src=\"train2014/COCO_train2014_000000573513.jpg\" ></img></td></tr><tr><td><img width=300 src=\"val2014/COCO_val2014_000000413339.jpg\" ></img></td><td><img width=300 src=\"train2014/COCO_train2014_000000557394.jpg\" ></img></td><td><img width=300 src=\"train2014/COCO_train2014_000000035844.jpg\" ></img></td></tr><tr><td><img width=300 src=\"train2014/COCO_train2014_000000093732.jpg\" ></img></td><td><img width=300 src=\"train2014/COCO_train2014_000000353473.jpg\" ></img></td><td><img width=300 src=\"train2014/COCO_train2014_000000451793.jpg\" ></img></td></tr><tr><td><img width=300 src=\"val2014/COCO_val2014_000000060610.jpg\" ></img></td></tr></table>"
      ],
      "text/plain": [
       "<IPython.core.display.HTML object>"
      ]
     },
     "metadata": {},
     "output_type": "display_data"
    }
   ],
   "source": [
    "display_record(results[1900])"
   ]
  },
  {
   "cell_type": "code",
   "execution_count": 54,
   "metadata": {},
   "outputs": [
    {
     "name": "stdout",
     "output_type": "stream",
     "text": [
      "a kitchen with wood cabinets and a white stove\n"
     ]
    },
    {
     "data": {
      "text/html": [
       "<table><tr><td><img width=400 src=\"val2014/COCO_val2014_000000541550.jpg\" ></img></td></tr><tr><td><ol><li>a kitchen with wooden cabinets and white appliances | -6.01 | -2.73 | -2.73</li><li>a kitchen with wood cabinets and white appliances | -6.63 | -2.53 | -2.53</li><li>a kitchen with wooden cabinets and a white stove | -6.98 | -1.96 | -1.96</li><li>a kitchen with a stove and a refrigerator | -7.66 | -2.37 | -2.37</li><li>a kitchen with wood cabinets and a white stove | -7.95 | -1.77 | -1.77</li><li>a kitchen with wooden cabinets and a stove | -8.13 | -2.18 | -2.18</li><li>a kitchen with wooden cabinets and a stove top oven | -8.33 | -2.49 | -2.49</li><li>a kitchen with a stove a sink and a refrigerator | -8.56 | -2.52 | -2.52</li><li>a kitchen with a stove a refrigerator and a microwave | -8.71 | -2.30 | -2.30</li><li>a kitchen with a stove a sink and a microwave | -9.00 | -2.62 | -2.62</li></ol></td></tr></table>"
      ],
      "text/plain": [
       "<IPython.core.display.HTML object>"
      ]
     },
     "metadata": {},
     "output_type": "display_data"
    },
    {
     "data": {
      "text/html": [
       "<table><tr><td><img width=300 src=\"val2014/COCO_val2014_000000212646.jpg\" ></img></td><td><img width=300 src=\"val2014/COCO_val2014_000000445658.jpg\" ></img></td><td><img width=300 src=\"train2014/COCO_train2014_000000312718.jpg\" ></img></td></tr><tr><td><img width=300 src=\"train2014/COCO_train2014_000000056240.jpg\" ></img></td><td><img width=300 src=\"train2014/COCO_train2014_000000095526.jpg\" ></img></td><td><img width=300 src=\"train2014/COCO_train2014_000000271488.jpg\" ></img></td></tr><tr><td><img width=300 src=\"val2014/COCO_val2014_000000409855.jpg\" ></img></td><td><img width=300 src=\"train2014/COCO_train2014_000000507812.jpg\" ></img></td><td><img width=300 src=\"train2014/COCO_train2014_000000271930.jpg\" ></img></td></tr><tr><td><img width=300 src=\"train2014/COCO_train2014_000000537222.jpg\" ></img></td></tr></table>"
      ],
      "text/plain": [
       "<IPython.core.display.HTML object>"
      ]
     },
     "metadata": {},
     "output_type": "display_data"
    }
   ],
   "source": [
    "display_record(results[2000])"
   ]
  },
  {
   "cell_type": "code",
   "execution_count": 55,
   "metadata": {},
   "outputs": [
    {
     "name": "stdout",
     "output_type": "stream",
     "text": [
      "a woman is sitting at a table in a kitchen\n"
     ]
    },
    {
     "data": {
      "text/html": [
       "<table><tr><td><img width=400 src=\"val2014/COCO_val2014_000000141017.jpg\" ></img></td></tr><tr><td><ol><li>a woman standing in a kitchen next to a table | -7.83 | -2.80 | -2.80</li><li>a woman sitting at a table in a kitchen | -7.98 | -1.68 | -1.68</li><li>a woman standing in a kitchen next to a kitchen | -9.02 | -3.08 | -3.08</li><li>a woman standing in a kitchen next to a counter | -9.11 | -3.18 | -3.18</li><li>a woman sitting at a table in a room | -9.19 | -1.96 | -1.96</li><li>a woman is sitting at a table in a kitchen | -9.35 | -1.67 | -1.67</li><li>a woman standing in a kitchen next to a table and chairs | -9.43 | -2.51 | -2.51</li><li>a woman standing in a kitchen next to a dining room table | -9.59 | -2.40 | -2.40</li><li>a woman standing in a kitchen next to a dining table | -9.69 | -2.61 | -2.61</li><li>a woman standing in a kitchen next to a table with chairs | -9.85 | -2.41 | -2.41</li></ol></td></tr></table>"
      ],
      "text/plain": [
       "<IPython.core.display.HTML object>"
      ]
     },
     "metadata": {},
     "output_type": "display_data"
    },
    {
     "data": {
      "text/html": [
       "<table><tr><td><img width=300 src=\"train2014/COCO_train2014_000000185158.jpg\" ></img></td><td><img width=300 src=\"train2014/COCO_train2014_000000176174.jpg\" ></img></td><td><img width=300 src=\"train2014/COCO_train2014_000000355210.jpg\" ></img></td></tr><tr><td><img width=300 src=\"val2014/COCO_val2014_000000441247.jpg\" ></img></td><td><img width=300 src=\"train2014/COCO_train2014_000000492065.jpg\" ></img></td><td><img width=300 src=\"val2014/COCO_val2014_000000137118.jpg\" ></img></td></tr><tr><td><img width=300 src=\"train2014/COCO_train2014_000000432286.jpg\" ></img></td><td><img width=300 src=\"train2014/COCO_train2014_000000333551.jpg\" ></img></td><td><img width=300 src=\"train2014/COCO_train2014_000000549942.jpg\" ></img></td></tr><tr><td><img width=300 src=\"train2014/COCO_train2014_000000534000.jpg\" ></img></td></tr></table>"
      ],
      "text/plain": [
       "<IPython.core.display.HTML object>"
      ]
     },
     "metadata": {},
     "output_type": "display_data"
    }
   ],
   "source": [
    "display_record(results[2100])"
   ]
  },
  {
   "cell_type": "code",
   "execution_count": 58,
   "metadata": {},
   "outputs": [
    {
     "data": {
      "text/plain": [
       "tensor(-2.3979)"
      ]
     },
     "execution_count": 58,
     "metadata": {},
     "output_type": "execute_result"
    }
   ],
   "source": [
    "torch.log(torch.tensor(1./11))"
   ]
  },
  {
   "cell_type": "code",
   "execution_count": 56,
   "metadata": {},
   "outputs": [
    {
     "name": "stdout",
     "output_type": "stream",
     "text": [
      "a display in a grocery store with lots of vegetables\n"
     ]
    },
    {
     "data": {
      "text/html": [
       "<table><tr><td><img width=400 src=\"val2014/COCO_val2014_000000300221.jpg\" ></img></td></tr><tr><td><ol><li>a display in a grocery store filled with lots of vegetables | -7.25 | -2.30 | -2.30</li><li>a display in a grocery store filled with lots of fresh produce | -7.58 | -2.61 | -2.61</li><li>a display in a grocery store filled with lots of produce | -8.77 | -2.48 | -2.48</li><li>a display in a grocery store filled with lots of fresh vegetables | -8.86 | -2.63 | -2.63</li><li>a variety of vegetables are displayed in a market | -8.89 | -2.18 | -2.18</li><li>a bunch of vegetables are displayed in a market | -8.93 | -2.08 | -2.08</li><li>a display in a grocery store with lots of vegetables | -9.02 | -1.94 | -1.94</li><li>a display in a grocery store filled with lots of different vegetables | -9.26 | -2.43 | -2.43</li><li>a bunch of vegetables are in a market | -9.42 | -2.33 | -2.33</li><li>a display in a grocery store filled with vegetables | -9.44 | -2.26 | -2.26</li></ol></td></tr></table>"
      ],
      "text/plain": [
       "<IPython.core.display.HTML object>"
      ]
     },
     "metadata": {},
     "output_type": "display_data"
    },
    {
     "data": {
      "text/html": [
       "<table><tr><td><img width=300 src=\"val2014/COCO_val2014_000000508489.jpg\" ></img></td><td><img width=300 src=\"train2014/COCO_train2014_000000570016.jpg\" ></img></td><td><img width=300 src=\"val2014/COCO_val2014_000000034257.jpg\" ></img></td></tr><tr><td><img width=300 src=\"train2014/COCO_train2014_000000576549.jpg\" ></img></td><td><img width=300 src=\"train2014/COCO_train2014_000000110540.jpg\" ></img></td><td><img width=300 src=\"train2014/COCO_train2014_000000526588.jpg\" ></img></td></tr><tr><td><img width=300 src=\"train2014/COCO_train2014_000000541343.jpg\" ></img></td><td><img width=300 src=\"val2014/COCO_val2014_000000528738.jpg\" ></img></td><td><img width=300 src=\"val2014/COCO_val2014_000000505911.jpg\" ></img></td></tr><tr><td><img width=300 src=\"train2014/COCO_train2014_000000550324.jpg\" ></img></td></tr></table>"
      ],
      "text/plain": [
       "<IPython.core.display.HTML object>"
      ]
     },
     "metadata": {},
     "output_type": "display_data"
    }
   ],
   "source": [
    "display_record(results[2200])"
   ]
  },
  {
   "cell_type": "code",
   "execution_count": 59,
   "metadata": {},
   "outputs": [
    {
     "name": "stdout",
     "output_type": "stream",
     "text": [
      "a dog that is standing in the grass with a dog\n"
     ]
    },
    {
     "data": {
      "text/html": [
       "<table><tr><td><img width=400 src=\"val2014/COCO_val2014_000000478055.jpg\" ></img></td></tr><tr><td><ol><li>a dog that is standing in the grass | -5.96 | -2.31 | -2.31</li><li>a dog in a field with mountains in the background | -6.95 | -2.30 | -2.30</li><li>a dog in a field with a mountain in the background | -7.55 | -2.30 | -2.30</li><li>a dog standing in a field with mountains in the background | -7.67 | -2.30 | -2.30</li><li>a dog standing in a field with a mountain in the background | -8.46 | -2.30 | -2.30</li><li>a dog that is standing in the grass near a mountain | -8.91 | -2.30 | -2.30</li><li>a black and white dog in a field with mountains in the background | -8.95 | -2.30 | -2.30</li><li>a dog is standing in a field with a mountain in the background | -9.57 | -2.30 | -2.30</li><li>a dog that is standing in the grass with a dog | -10.16 | -2.30 | -2.30</li><li>a dog that is standing in the grass with a mountain in the background | -10.16 | -2.30 | -2.30</li></ol></td></tr></table>"
      ],
      "text/plain": [
       "<IPython.core.display.HTML object>"
      ]
     },
     "metadata": {},
     "output_type": "display_data"
    },
    {
     "data": {
      "text/html": [
       "<table><tr><td><img width=300 src=\"train2014/COCO_train2014_000000065961.jpg\" ></img></td><td><img width=300 src=\"val2014/COCO_val2014_000000299609.jpg\" ></img></td><td><img width=300 src=\"train2014/COCO_train2014_000000545107.jpg\" ></img></td></tr><tr><td><img width=300 src=\"train2014/COCO_train2014_000000334275.jpg\" ></img></td><td><img width=300 src=\"train2014/COCO_train2014_000000043049.jpg\" ></img></td><td><img width=300 src=\"val2014/COCO_val2014_000000336265.jpg\" ></img></td></tr><tr><td><img width=300 src=\"train2014/COCO_train2014_000000092794.jpg\" ></img></td><td><img width=300 src=\"train2014/COCO_train2014_000000425398.jpg\" ></img></td><td><img width=300 src=\"train2014/COCO_train2014_000000146951.jpg\" ></img></td></tr><tr><td><img width=300 src=\"train2014/COCO_train2014_000000445517.jpg\" ></img></td></tr></table>"
      ],
      "text/plain": [
       "<IPython.core.display.HTML object>"
      ]
     },
     "metadata": {},
     "output_type": "display_data"
    }
   ],
   "source": [
    "display_record(results[2300])"
   ]
  },
  {
   "cell_type": "code",
   "execution_count": 60,
   "metadata": {},
   "outputs": [
    {
     "name": "stdout",
     "output_type": "stream",
     "text": [
      "a man riding a motorcycle down a street next to a tent\n"
     ]
    },
    {
     "data": {
      "text/html": [
       "<table><tr><td><img width=400 src=\"val2014/COCO_val2014_000000344125.jpg\" ></img></td></tr><tr><td><ol><li>a man riding on the back of a motorcycle | -5.31 | -2.27 | -2.27</li><li>a man riding a motorcycle down a street | -5.65 | -2.45 | -2.45</li><li>a man riding on the back of a motorcycle down a street | -5.70 | -2.38 | -2.38</li><li>a man is riding a motorcycle down the street | -6.71 | -2.43 | -2.43</li><li>a man is riding a motorcycle down a street | -6.90 | -2.29 | -2.29</li><li>a man riding a motorcycle down the street | -7.07 | -2.79 | -2.79</li><li>a man riding a motorcycle on a street | -7.08 | -2.21 | -2.21</li><li>a man riding on the back of a motorcycle down a road | -7.63 | -2.25 | -2.25</li><li>a man riding a motorcycle down a street next to a tent | -7.84 | -2.01 | -2.01</li><li>a man on a motorcycle in the middle of a street | -7.90 | -2.13 | -2.13</li></ol></td></tr></table>"
      ],
      "text/plain": [
       "<IPython.core.display.HTML object>"
      ]
     },
     "metadata": {},
     "output_type": "display_data"
    },
    {
     "data": {
      "text/html": [
       "<table><tr><td><img width=300 src=\"train2014/COCO_train2014_000000155588.jpg\" ></img></td><td><img width=300 src=\"val2014/COCO_val2014_000000359451.jpg\" ></img></td><td><img width=300 src=\"train2014/COCO_train2014_000000365314.jpg\" ></img></td></tr><tr><td><img width=300 src=\"val2014/COCO_val2014_000000226496.jpg\" ></img></td><td><img width=300 src=\"val2014/COCO_val2014_000000101636.jpg\" ></img></td><td><img width=300 src=\"train2014/COCO_train2014_000000534195.jpg\" ></img></td></tr><tr><td><img width=300 src=\"train2014/COCO_train2014_000000500649.jpg\" ></img></td><td><img width=300 src=\"train2014/COCO_train2014_000000395339.jpg\" ></img></td><td><img width=300 src=\"train2014/COCO_train2014_000000473818.jpg\" ></img></td></tr><tr><td><img width=300 src=\"train2014/COCO_train2014_000000325215.jpg\" ></img></td></tr></table>"
      ],
      "text/plain": [
       "<IPython.core.display.HTML object>"
      ]
     },
     "metadata": {},
     "output_type": "display_data"
    }
   ],
   "source": [
    "display_record(results[2400])"
   ]
  },
  {
   "cell_type": "code",
   "execution_count": 61,
   "metadata": {},
   "outputs": [
    {
     "name": "stdout",
     "output_type": "stream",
     "text": [
      "a chair and a chair on a sidewalk next to a bench\n"
     ]
    },
    {
     "data": {
      "text/html": [
       "<table><tr><td><img width=400 src=\"val2014/COCO_val2014_000000448518.jpg\" ></img></td></tr><tr><td><ol><li>a chair and a chair on a sidewalk | -7.79 | -2.30 | -2.30</li><li>a chair and a chair on a city street | -8.00 | -2.30 | -2.30</li><li>a chair and a chair sitting on a sidewalk | -8.18 | -2.30 | -2.30</li><li>a chair and a chair on a street | -8.41 | -2.30 | -2.30</li><li>a chair and a chair sit on a sidewalk | -9.05 | -2.30 | -2.30</li><li>a chair and a chair next to a bench | -9.28 | -2.30 | -2.30</li><li>a chair and a chair sitting next to a bench | -9.80 | -2.30 | -2.30</li><li>a chair and a chair sitting next to a table | -9.89 | -2.30 | -2.30</li><li>a chair and a chair on a sidewalk next to a bench | -10.00 | -2.30 | -2.30</li><li>a chair and a chair on a sidewalk near a bench | -10.62 | -2.30 | -2.30</li></ol></td></tr></table>"
      ],
      "text/plain": [
       "<IPython.core.display.HTML object>"
      ]
     },
     "metadata": {},
     "output_type": "display_data"
    },
    {
     "data": {
      "text/html": [
       "<table><tr><td><img width=300 src=\"val2014/COCO_val2014_000000334975.jpg\" ></img></td><td><img width=300 src=\"train2014/COCO_train2014_000000359695.jpg\" ></img></td><td><img width=300 src=\"train2014/COCO_train2014_000000401790.jpg\" ></img></td></tr><tr><td><img width=300 src=\"train2014/COCO_train2014_000000093519.jpg\" ></img></td><td><img width=300 src=\"train2014/COCO_train2014_000000290224.jpg\" ></img></td><td><img width=300 src=\"train2014/COCO_train2014_000000308892.jpg\" ></img></td></tr><tr><td><img width=300 src=\"train2014/COCO_train2014_000000304065.jpg\" ></img></td><td><img width=300 src=\"train2014/COCO_train2014_000000501418.jpg\" ></img></td><td><img width=300 src=\"val2014/COCO_val2014_000000551350.jpg\" ></img></td></tr><tr><td><img width=300 src=\"train2014/COCO_train2014_000000373898.jpg\" ></img></td></tr></table>"
      ],
      "text/plain": [
       "<IPython.core.display.HTML object>"
      ]
     },
     "metadata": {},
     "output_type": "display_data"
    }
   ],
   "source": [
    "display_record(results[2500])"
   ]
  },
  {
   "cell_type": "code",
   "execution_count": 62,
   "metadata": {},
   "outputs": [
    {
     "name": "stdout",
     "output_type": "stream",
     "text": [
      "a black and white photo of a person doing a trick on a skateboard\n"
     ]
    },
    {
     "data": {
      "text/html": [
       "<table><tr><td><img width=400 src=\"val2014/COCO_val2014_000000304596.jpg\" ></img></td></tr><tr><td><ol><li>a man riding a skateboard up the side of a ramp | -5.42 | -3.51 | -3.51</li><li>a person riding a skate board on a skate park | -6.29 | -2.35 | -2.35</li><li>a man riding a skateboard on top of a ramp | -6.34 | -2.61 | -2.61</li><li>a man doing a trick on a skateboard on a ramp | -6.84 | -2.60 | -2.60</li><li>a person riding a skate board on a ramp | -7.04 | -2.38 | -2.38</li><li>a black and white photo of a skateboarder doing a trick | -7.42 | -2.11 | -2.11</li><li>a black and white photo of a man on a skateboard | -7.50 | -2.31 | -2.31</li><li>a black and white photo of a man doing a trick on a skateboard | -8.06 | -2.15 | -2.15</li><li>a black and white photo of a person doing a trick on a skateboard | -8.20 | -1.72 | -1.72</li><li>a black and white photo of a man doing a skateboard trick | -8.83 | -2.14 | -2.14</li></ol></td></tr></table>"
      ],
      "text/plain": [
       "<IPython.core.display.HTML object>"
      ]
     },
     "metadata": {},
     "output_type": "display_data"
    },
    {
     "data": {
      "text/html": [
       "<table><tr><td><img width=300 src=\"val2014/COCO_val2014_000000347848.jpg\" ></img></td><td><img width=300 src=\"train2014/COCO_train2014_000000511780.jpg\" ></img></td><td><img width=300 src=\"val2014/COCO_val2014_000000393720.jpg\" ></img></td></tr><tr><td><img width=300 src=\"train2014/COCO_train2014_000000454359.jpg\" ></img></td><td><img width=300 src=\"train2014/COCO_train2014_000000067835.jpg\" ></img></td><td><img width=300 src=\"val2014/COCO_val2014_000000276476.jpg\" ></img></td></tr><tr><td><img width=300 src=\"train2014/COCO_train2014_000000387724.jpg\" ></img></td><td><img width=300 src=\"train2014/COCO_train2014_000000570567.jpg\" ></img></td><td><img width=300 src=\"train2014/COCO_train2014_000000313502.jpg\" ></img></td></tr><tr><td><img width=300 src=\"val2014/COCO_val2014_000000491058.jpg\" ></img></td></tr></table>"
      ],
      "text/plain": [
       "<IPython.core.display.HTML object>"
      ]
     },
     "metadata": {},
     "output_type": "display_data"
    }
   ],
   "source": [
    "display_record(results[2600])"
   ]
  },
  {
   "cell_type": "code",
   "execution_count": 63,
   "metadata": {},
   "outputs": [
    {
     "name": "stdout",
     "output_type": "stream",
     "text": [
      "a man diving for a frisbee in a field\n"
     ]
    },
    {
     "data": {
      "text/html": [
       "<table><tr><td><img width=400 src=\"val2014/COCO_val2014_000000571029.jpg\" ></img></td></tr><tr><td><ol><li>a man in a field catching a frisbee | -8.04 | -3.13 | -3.13</li><li>a man diving to catch a frisbee in a field | -8.08 | -1.82 | -1.82</li><li>a man diving to catch a frisbee in the grass | -8.24 | -1.92 | -1.92</li><li>a man catching a frisbee in a field | -8.25 | -3.18 | -3.18</li><li>a man diving for a frisbee in a field | -8.31 | -1.77 | -1.77</li><li>a man catching a frisbee in a grassy field | -8.65 | -3.29 | -3.29</li><li>a man diving to catch a frisbee in the park | -8.71 | -2.28 | -2.28</li><li>a man diving for a frisbee in the grass | -8.73 | -1.95 | -1.95</li><li>a man catching a frisbee on a field | -8.79 | -2.95 | -2.95</li><li>a man diving to catch a frisbee in a park | -9.03 | -2.29 | -2.29</li></ol></td></tr></table>"
      ],
      "text/plain": [
       "<IPython.core.display.HTML object>"
      ]
     },
     "metadata": {},
     "output_type": "display_data"
    },
    {
     "data": {
      "text/html": [
       "<table><tr><td><img width=300 src=\"train2014/COCO_train2014_000000274745.jpg\" ></img></td><td><img width=300 src=\"train2014/COCO_train2014_000000320192.jpg\" ></img></td><td><img width=300 src=\"train2014/COCO_train2014_000000129726.jpg\" ></img></td></tr><tr><td><img width=300 src=\"train2014/COCO_train2014_000000411557.jpg\" ></img></td><td><img width=300 src=\"train2014/COCO_train2014_000000273204.jpg\" ></img></td><td><img width=300 src=\"train2014/COCO_train2014_000000127330.jpg\" ></img></td></tr><tr><td><img width=300 src=\"train2014/COCO_train2014_000000494138.jpg\" ></img></td><td><img width=300 src=\"train2014/COCO_train2014_000000186342.jpg\" ></img></td><td><img width=300 src=\"train2014/COCO_train2014_000000105545.jpg\" ></img></td></tr><tr><td><img width=300 src=\"train2014/COCO_train2014_000000418929.jpg\" ></img></td></tr></table>"
      ],
      "text/plain": [
       "<IPython.core.display.HTML object>"
      ]
     },
     "metadata": {},
     "output_type": "display_data"
    }
   ],
   "source": [
    "display_record(results[2700])"
   ]
  },
  {
   "cell_type": "code",
   "execution_count": 64,
   "metadata": {},
   "outputs": [
    {
     "name": "stdout",
     "output_type": "stream",
     "text": [
      "a woman standing on a train platform looking at a train\n"
     ]
    },
    {
     "data": {
      "text/html": [
       "<table><tr><td><img width=400 src=\"val2014/COCO_val2014_000000342869.jpg\" ></img></td></tr><tr><td><ol><li>a woman standing on a platform next to a train | -8.56 | -2.33 | -2.33</li><li>a woman standing on a train platform next to a train | -9.01 | -2.32 | -2.32</li><li>a woman is standing on a train platform | -9.06 | -2.31 | -2.31</li><li>a woman standing on the side of a train | -9.44 | -2.28 | -2.28</li><li>a woman standing on a train platform near a train | -9.76 | -2.31 | -2.31</li><li>a woman standing on the side of a train track | -9.77 | -2.31 | -2.31</li><li>a woman standing on the side of a train train | -9.84 | -2.28 | -2.28</li><li>a woman is looking at a train on the tracks | -9.96 | -2.30 | -2.30</li><li>a woman standing on a train platform looking at a train | -10.08 | -2.28 | -2.28</li><li>a woman standing on the side of a train station | -10.20 | -2.32 | -2.32</li></ol></td></tr></table>"
      ],
      "text/plain": [
       "<IPython.core.display.HTML object>"
      ]
     },
     "metadata": {},
     "output_type": "display_data"
    },
    {
     "data": {
      "text/html": [
       "<table><tr><td><img width=300 src=\"train2014/COCO_train2014_000000570406.jpg\" ></img></td><td><img width=300 src=\"train2014/COCO_train2014_000000194638.jpg\" ></img></td><td><img width=300 src=\"train2014/COCO_train2014_000000425709.jpg\" ></img></td></tr><tr><td><img width=300 src=\"train2014/COCO_train2014_000000492347.jpg\" ></img></td><td><img width=300 src=\"val2014/COCO_val2014_000000481928.jpg\" ></img></td><td><img width=300 src=\"train2014/COCO_train2014_000000463788.jpg\" ></img></td></tr><tr><td><img width=300 src=\"train2014/COCO_train2014_000000290812.jpg\" ></img></td><td><img width=300 src=\"train2014/COCO_train2014_000000321959.jpg\" ></img></td><td><img width=300 src=\"train2014/COCO_train2014_000000551118.jpg\" ></img></td></tr><tr><td><img width=300 src=\"val2014/COCO_val2014_000000498339.jpg\" ></img></td></tr></table>"
      ],
      "text/plain": [
       "<IPython.core.display.HTML object>"
      ]
     },
     "metadata": {},
     "output_type": "display_data"
    }
   ],
   "source": [
    "display_record(results[2800])"
   ]
  },
  {
   "cell_type": "code",
   "execution_count": 65,
   "metadata": {},
   "outputs": [
    {
     "name": "stdout",
     "output_type": "stream",
     "text": [
      "a bath room with a toilet a bath tub and a mirror\n"
     ]
    },
    {
     "data": {
      "text/html": [
       "<table><tr><td><img width=400 src=\"val2014/COCO_val2014_000000117535.jpg\" ></img></td></tr><tr><td><ol><li>a white toilet sitting next to a bath tub | -5.15 | -2.17 | -2.17</li><li>a bath room with a toilet and a bath tub | -6.29 | -2.17 | -2.17</li><li>a bath room with a toilet a sink and a bath tub | -6.37 | -2.16 | -2.16</li><li>a white toilet sitting next to a bath tub in a bathroom | -6.68 | -2.38 | -2.38</li><li>a bath room with a toilet and a sink | -6.76 | -2.48 | -2.48</li><li>a bathroom with a toilet sink and bathtub | -6.79 | -2.31 | -2.31</li><li>a bathroom with a toilet and a sink | -6.94 | -2.60 | -2.60</li><li>a bathroom with a toilet sink and shower | -6.95 | -2.51 | -2.51</li><li>a bath room with a toilet a bath tub and a sink | -7.11 | -2.36 | -2.36</li><li>a bath room with a toilet a bath tub and a mirror | -7.33 | -2.03 | -2.03</li></ol></td></tr></table>"
      ],
      "text/plain": [
       "<IPython.core.display.HTML object>"
      ]
     },
     "metadata": {},
     "output_type": "display_data"
    },
    {
     "data": {
      "text/html": [
       "<table><tr><td><img width=300 src=\"train2014/COCO_train2014_000000574901.jpg\" ></img></td><td><img width=300 src=\"train2014/COCO_train2014_000000436027.jpg\" ></img></td><td><img width=300 src=\"train2014/COCO_train2014_000000200068.jpg\" ></img></td></tr><tr><td><img width=300 src=\"train2014/COCO_train2014_000000413070.jpg\" ></img></td><td><img width=300 src=\"train2014/COCO_train2014_000000259417.jpg\" ></img></td><td><img width=300 src=\"train2014/COCO_train2014_000000115692.jpg\" ></img></td></tr><tr><td><img width=300 src=\"val2014/COCO_val2014_000000206958.jpg\" ></img></td><td><img width=300 src=\"val2014/COCO_val2014_000000082363.jpg\" ></img></td><td><img width=300 src=\"train2014/COCO_train2014_000000169456.jpg\" ></img></td></tr><tr><td><img width=300 src=\"train2014/COCO_train2014_000000402908.jpg\" ></img></td></tr></table>"
      ],
      "text/plain": [
       "<IPython.core.display.HTML object>"
      ]
     },
     "metadata": {},
     "output_type": "display_data"
    }
   ],
   "source": [
    "display_record(results[2900])"
   ]
  },
  {
   "cell_type": "code",
   "execution_count": null,
   "metadata": {},
   "outputs": [],
   "source": []
  }
 ],
 "metadata": {
  "kernelspec": {
   "display_name": "Python 3",
   "language": "python",
   "name": "python3"
  },
  "language_info": {
   "codemirror_mode": {
    "name": "ipython",
    "version": 3
   },
   "file_extension": ".py",
   "mimetype": "text/x-python",
   "name": "python",
   "nbconvert_exporter": "python",
   "pygments_lexer": "ipython3",
   "version": "3.7.9"
  }
 },
 "nbformat": 4,
 "nbformat_minor": 4
}
