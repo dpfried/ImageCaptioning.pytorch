{
 "cells": [
  {
   "cell_type": "code",
   "execution_count": 1,
   "metadata": {},
   "outputs": [
    {
     "data": {
      "text/html": [
       "<style>.container { width:100% !important; }</style>"
      ],
      "text/plain": [
       "<IPython.core.display.HTML object>"
      ]
     },
     "metadata": {},
     "output_type": "display_data"
    }
   ],
   "source": [
    "from IPython.core.display import display, HTML\n",
    "display(HTML(\"<style>.container { width:100% !important; }</style>\"))"
   ]
  },
  {
   "cell_type": "code",
   "execution_count": 2,
   "metadata": {},
   "outputs": [
    {
     "name": "stdout",
     "output_type": "stream",
     "text": [
      "/home/dfried/projects/ImageCaptioning.pytorch\n"
     ]
    }
   ],
   "source": [
    "cd /home/dfried/projects/ImageCaptioning.pytorch"
   ]
  },
  {
   "cell_type": "code",
   "execution_count": 3,
   "metadata": {},
   "outputs": [],
   "source": [
    "import sys"
   ]
  },
  {
   "cell_type": "code",
   "execution_count": 4,
   "metadata": {},
   "outputs": [],
   "source": [
    "sys.path.append(\"/home/dfried/projects/ImageCaptioning.pytorch\")"
   ]
  },
  {
   "cell_type": "code",
   "execution_count": 5,
   "metadata": {},
   "outputs": [],
   "source": [
    "import numpy as np\n",
    "import torch\n",
    "import einops"
   ]
  },
  {
   "cell_type": "code",
   "execution_count": 6,
   "metadata": {},
   "outputs": [],
   "source": [
    "import tqdm"
   ]
  },
  {
   "cell_type": "code",
   "execution_count": 7,
   "metadata": {},
   "outputs": [],
   "source": [
    "import pickle"
   ]
  },
  {
   "cell_type": "code",
   "execution_count": 8,
   "metadata": {},
   "outputs": [],
   "source": [
    "import pprint"
   ]
  },
  {
   "cell_type": "code",
   "execution_count": 9,
   "metadata": {},
   "outputs": [],
   "source": [
    "import argparse\n",
    "import captioning.utils.opts as opts\n",
    "import captioning.utils.misc as utils\n",
    "import captioning.models as models\n",
    "from captioning.utils import eval_utils\n",
    "from captioning import modules"
   ]
  },
  {
   "cell_type": "code",
   "execution_count": 10,
   "metadata": {},
   "outputs": [],
   "source": [
    "from captioning.data.dataloader import DataLoader\n",
    "from captioning.data.dataloaderraw import DataLoaderRaw"
   ]
  },
  {
   "cell_type": "code",
   "execution_count": 11,
   "metadata": {},
   "outputs": [],
   "source": [
    "parser = argparse.ArgumentParser()\n",
    "opts.add_eval_options(parser)\n",
    "opts.add_diversity_opts(parser)"
   ]
  },
  {
   "cell_type": "code",
   "execution_count": 12,
   "metadata": {},
   "outputs": [],
   "source": [
    "opt = parser.parse_args([])"
   ]
  },
  {
   "cell_type": "code",
   "execution_count": 13,
   "metadata": {},
   "outputs": [
    {
     "data": {
      "text/plain": [
       "Namespace(batch_size=0, beam_size=1, block_trigrams=0, coco_json='', decoding_constraint=0, diversity_lambda=0.5, dump_images=1, dump_json=1, dump_path=0, eval_oracle=1, group_size=1, id='', image_folder='', image_root='', input_att_dir='', input_box_dir='', input_fc_dir='', input_json='', input_label_h5='', language_eval=0, length_penalty='', max_length=20, num_images=-1, remove_bad_endings=0, sample_method='greedy', sample_n=1, sample_n_method='sample', split='test', suppress_UNK=1, temperature=1.0, verbose=1, verbose_beam=1, verbose_captions=0, verbose_loss=0)"
      ]
     },
     "execution_count": 13,
     "metadata": {},
     "output_type": "execute_result"
    }
   ],
   "source": [
    "opt"
   ]
  },
  {
   "cell_type": "code",
   "execution_count": 37,
   "metadata": {},
   "outputs": [],
   "source": [
    "# model_name = 'updown_contrastive_distr-10_dct-random_cbs_mlp_soft-em'\n",
    "# model_name = 'updown_contrastive_distr-10_dct-closest+random_cbs_mlp_soft-em'\n",
    "# model_name = 'updown_contrastive_distr-10_cbs_mlp_soft-em'\n",
    "# model_name = 'updown_contrastive_cbs'\n",
    "# model_name = 'updown_contrastive_distr-10_alpha-5.0_resume-em'\n",
    "# model_name = 'updown_contrastive_distr-10_finetune-em'\n",
    "model_name = 'updown_contrastive_distr-10_dct-closest+random_alpha-1.0_resume-em'\n",
    "# model_name = 'updown_contrastive_dct-random_cbs_mlp_soft-em'\n",
    "model_fname = f'log_{model_name}/model-best.pth'\n",
    "infos_fname = f'log_{model_name}/infos_{model_name}.pkl'"
   ]
  },
  {
   "cell_type": "code",
   "execution_count": 38,
   "metadata": {},
   "outputs": [
    {
     "data": {
      "text/plain": [
       "dict_keys(['iter', 'epoch', 'loader_state_dict', 'vocab', 'opt', 'best_val_score'])"
      ]
     },
     "execution_count": 38,
     "metadata": {},
     "output_type": "execute_result"
    }
   ],
   "source": [
    "with open(infos_fname, 'rb') as f:\n",
    "    infos = utils.pickle_load(f)\n",
    "infos.keys()"
   ]
  },
  {
   "cell_type": "code",
   "execution_count": 39,
   "metadata": {},
   "outputs": [],
   "source": [
    "replace = ['input_fc_dir', 'input_att_dir', 'input_box_dir', 'input_label_h5', 'input_json', 'batch_size', 'id']\n",
    "ignore = ['start_from']\n",
    "\n",
    "for k in vars(infos['opt']).keys():\n",
    "    if k in replace:\n",
    "        setattr(opt, k, getattr(opt, k) or getattr(infos['opt'], k, ''))\n",
    "    elif k not in ignore:\n",
    "        if not k in vars(opt):\n",
    "            vars(opt).update({k: vars(infos['opt'])[k]}) # copy over options from model"
   ]
  },
  {
   "cell_type": "code",
   "execution_count": 40,
   "metadata": {},
   "outputs": [],
   "source": [
    "opt.vocab = infos['vocab']"
   ]
  },
  {
   "cell_type": "code",
   "execution_count": 41,
   "metadata": {},
   "outputs": [
    {
     "name": "stdout",
     "output_type": "stream",
     "text": [
      "{'att_feat_size': 2048,\n",
      " 'att_hid_size': 512,\n",
      " 'batch_size': 10,\n",
      " 'beam_size': 1,\n",
      " 'bleu_reward_weight': 0,\n",
      " 'block_trigrams': 0,\n",
      " 'cached_tokens': 'coco-train-idxs',\n",
      " 'cached_transformer': False,\n",
      " 'caption_model': 'updown',\n",
      " 'cfg': 'configs/updown/updown_contrastive.yml',\n",
      " 'checkpoint_path': './log_updown_contrastive_distr-10_dct-closest+random_alpha-1.0_resume-em',\n",
      " 'cider_reward_weight': 1,\n",
      " 'contrastive_after': 0,\n",
      " 'contrastive_em': 'soft',\n",
      " 'current_lr': 0.0003200000000000001,\n",
      " 'data_in_memory': False,\n",
      " 'decoding_constraint': 0,\n",
      " 'diversity_lambda': 0.5,\n",
      " 'drop_prob_lm': 0.5,\n",
      " 'entropy_reward_weight': 0,\n",
      " 'eval_oracle': 1,\n",
      " 'fc_feat_size': 2048,\n",
      " 'grad_clip_mode': 'value',\n",
      " 'grad_clip_value': 0.1,\n",
      " 'group_size': 1,\n",
      " 'id': 'updown_contrastive_distr-10_dct-closest+random_alpha-1.0_resume-em',\n",
      " 'index_serialization_root_path': 'data/cocobu_indices',\n",
      " 'input_att_dir': 'data/cocobu_att',\n",
      " 'input_box_dir': 'data/cocotalk_box',\n",
      " 'input_encoding_size': 1000,\n",
      " 'input_fc_dir': 'data/cocotalk_fc',\n",
      " 'input_json': 'data/cocotalk.json',\n",
      " 'input_label_h5': 'data/cocotalk_label.h5',\n",
      " 'label_smoothing': 0,\n",
      " 'language_eval': 1,\n",
      " 'learning_rate': 0.0005,\n",
      " 'learning_rate_decay_every': 3,\n",
      " 'learning_rate_decay_rate': 0.8,\n",
      " 'learning_rate_decay_start': 0,\n",
      " 'length_penalty': '',\n",
      " 'load_best_score': 1,\n",
      " 'logit_layers': 1,\n",
      " 'losses_log_every': 25,\n",
      " 'max_epochs': 30,\n",
      " 'max_images_per_split': None,\n",
      " 'max_length': 20,\n",
      " 'noamopt': False,\n",
      " 'noamopt_factor': 1,\n",
      " 'noamopt_warmup': 2000,\n",
      " 'norm_att_feat': 0,\n",
      " 'norm_box_feat': 0,\n",
      " 'num_layers': 1,\n",
      " 'num_workers': 4,\n",
      " 'optim': 'adam',\n",
      " 'optim_alpha': 0.9,\n",
      " 'optim_beta': 0.999,\n",
      " 'optim_epsilon': 1e-08,\n",
      " 'pragmatic_distractor_candidate_types': ['closest', 'random'],\n",
      " 'pragmatic_distractor_scoring': 'mlp',\n",
      " 'pragmatic_distractor_scoring_hidden_size': 200,\n",
      " 'pragmatic_distractor_split': 'train',\n",
      " 'pragmatic_distractor_type': 'choose_within_closest',\n",
      " 'pragmatic_distractors': 10,\n",
      " 'pragmatic_distractors_to_choose': 1,\n",
      " 'pragmatic_incremental_alpha': 1.0,\n",
      " 'pragmatic_incremental_l1_uses': 's0',\n",
      " 'pragmatic_inference': 0,\n",
      " 'pragmatic_s0_weight': 0.0,\n",
      " 'pragmatic_serialize_all_scores': 0,\n",
      " 'reduce_on_plateau': False,\n",
      " 'reduce_on_plateau_factor': 0.5,\n",
      " 'reduce_on_plateau_patience': 3,\n",
      " 'remove_bad_endings': 0,\n",
      " 'rnn_size': 1000,\n",
      " 'rnn_type': 'lstm',\n",
      " 'sample_method': 'contrastive_beam_search',\n",
      " 'sample_n': 1,\n",
      " 'sample_n_method': 'sample',\n",
      " 'save_checkpoint_every': 3000,\n",
      " 'save_every_epoch': False,\n",
      " 'save_history_ckpt': 0,\n",
      " 'sc_beam_size': 1,\n",
      " 'sc_sample_method': 'greedy',\n",
      " 'scheduled_sampling_increase_every': 5,\n",
      " 'scheduled_sampling_increase_prob': 0.05,\n",
      " 'scheduled_sampling_max_prob': 0.25,\n",
      " 'scheduled_sampling_start': 0,\n",
      " 'self_cider_reward_weight': 0,\n",
      " 'self_critical_after': -1,\n",
      " 'seq_length': 16,\n",
      " 'seq_per_img': 5,\n",
      " 'set_cfgs': [],\n",
      " 'ss_prob': 0.05,\n",
      " 'start_from': 'finetune_init/',\n",
      " 'struc_use_logsoftmax': False,\n",
      " 'structure_after': -1,\n",
      " 'structure_loss_type': 'seqnll',\n",
      " 'structure_loss_weight': 1,\n",
      " 'suppress_UNK': 1,\n",
      " 'temperature': 1.0,\n",
      " 'train_beam_size': 1,\n",
      " 'train_only': 0,\n",
      " 'train_sample_method': 'sample',\n",
      " 'train_sample_n': 5,\n",
      " 'use_att': True,\n",
      " 'use_bn': 0,\n",
      " 'use_box': 0,\n",
      " 'use_fc': True,\n",
      " 'use_warmup': False,\n",
      " 'val_images_use': 5000,\n",
      " 'vocab_size': 9487,\n",
      " 'weight_decay': 0}\n"
     ]
    }
   ],
   "source": [
    "pprint.pprint(vars(infos['opt']))"
   ]
  },
  {
   "cell_type": "code",
   "execution_count": 42,
   "metadata": {},
   "outputs": [],
   "source": [
    "model = models.setup(opt)"
   ]
  },
  {
   "cell_type": "code",
   "execution_count": 43,
   "metadata": {},
   "outputs": [],
   "source": [
    "del opt.vocab"
   ]
  },
  {
   "cell_type": "code",
   "execution_count": 44,
   "metadata": {},
   "outputs": [],
   "source": [
    "CUDA = True"
   ]
  },
  {
   "cell_type": "code",
   "execution_count": 45,
   "metadata": {},
   "outputs": [
    {
     "data": {
      "text/plain": [
       "UpDownModel(\n",
       "  (embed): Sequential(\n",
       "    (0): Embedding(9488, 1000)\n",
       "    (1): ReLU()\n",
       "    (2): Dropout(p=0.5, inplace=False)\n",
       "  )\n",
       "  (fc_embed): Sequential(\n",
       "    (0): Linear(in_features=2048, out_features=1000, bias=True)\n",
       "    (1): ReLU()\n",
       "    (2): Dropout(p=0.5, inplace=False)\n",
       "  )\n",
       "  (att_embed): Sequential(\n",
       "    (0): Linear(in_features=2048, out_features=1000, bias=True)\n",
       "    (1): ReLU()\n",
       "    (2): Dropout(p=0.5, inplace=False)\n",
       "  )\n",
       "  (logit): Linear(in_features=1000, out_features=9488, bias=True)\n",
       "  (ctx2att): Linear(in_features=1000, out_features=512, bias=True)\n",
       "  (distractor_scorer): DistractorScorer(\n",
       "    (scorer): Sequential(\n",
       "      (0): Linear(in_features=4096, out_features=200, bias=True)\n",
       "      (1): ReLU()\n",
       "      (2): Dropout(p=0.5, inplace=False)\n",
       "      (3): Linear(in_features=200, out_features=1, bias=True)\n",
       "    )\n",
       "  )\n",
       "  (core): UpDownCore(\n",
       "    (att_lstm): LSTMCell(3000, 1000)\n",
       "    (lang_lstm): LSTMCell(2000, 1000)\n",
       "    (attention): Attention(\n",
       "      (h2att): Linear(in_features=1000, out_features=512, bias=True)\n",
       "      (alpha_net): Linear(in_features=512, out_features=1, bias=True)\n",
       "    )\n",
       "  )\n",
       ")"
      ]
     },
     "execution_count": 45,
     "metadata": {},
     "output_type": "execute_result"
    }
   ],
   "source": [
    "model.load_state_dict(torch.load(model_fname, map_location='cpu'), strict=False)\n",
    "if CUDA:\n",
    "    model.cuda()\n",
    "model.eval()"
   ]
  },
  {
   "cell_type": "code",
   "execution_count": 46,
   "metadata": {},
   "outputs": [],
   "source": [
    "opt.num_workers = 0"
   ]
  },
  {
   "cell_type": "code",
   "execution_count": 47,
   "metadata": {},
   "outputs": [
    {
     "name": "stdout",
     "output_type": "stream",
     "text": [
      "DataLoader loading json file:  data/cocotalk.json\n",
      "vocab size is  9487\n",
      "DataLoader loading h5 file:  data/cocotalk_fc data/cocobu_att data/cocotalk_box data/cocotalk_label.h5\n",
      "max sequence length in data is 16\n",
      "read 123287 image features\n",
      "assigned 113287 images to split train\n",
      "assigned 5000 images to split val\n",
      "assigned 5000 images to split test\n"
     ]
    }
   ],
   "source": [
    "loader = DataLoader(opt, shuffle_override=False, wrap_override=False, build_nearest_neighbor_indices_for_splits=['train'], index_serialization_root_path='data/cocobu_indices/')"
   ]
  },
  {
   "cell_type": "code",
   "execution_count": 48,
   "metadata": {},
   "outputs": [],
   "source": [
    "vocab = loader.get_vocab()"
   ]
  },
  {
   "cell_type": "code",
   "execution_count": 49,
   "metadata": {},
   "outputs": [],
   "source": [
    "PAD_ID = 0"
   ]
  },
  {
   "cell_type": "code",
   "execution_count": 50,
   "metadata": {},
   "outputs": [],
   "source": [
    "batch = loader.get_batch('val')"
   ]
  },
  {
   "cell_type": "code",
   "execution_count": 51,
   "metadata": {},
   "outputs": [],
   "source": [
    "def get_captions_from_batch(data):\n",
    "    batch_captions = []\n",
    "    for batch_labels in data['labels']:\n",
    "        instance_captions = []\n",
    "        for img_labels in batch_labels:\n",
    "            neighbor_captions = []\n",
    "            for neighbor_labels in img_labels:\n",
    "                caption = [vocab[str(ix.item())] for ix in neighbor_labels if ix != 0]\n",
    "                neighbor_captions.append(caption)\n",
    "            instance_captions.append(neighbor_captions)\n",
    "        batch_captions.append(instance_captions)\n",
    "    return batch_captions"
   ]
  },
  {
   "cell_type": "code",
   "execution_count": 52,
   "metadata": {},
   "outputs": [],
   "source": [
    "def wrap_tag(tag, inner):\n",
    "    return f'<{tag}>{inner}</{tag}>'\n",
    "\n",
    "def image_html(image_path, width=300, border=False):\n",
    "    if border:\n",
    "        style = ' style=\"border: 5px solid #0FF\" '\n",
    "    else:\n",
    "        style = ''\n",
    "    return f'<img width={width} src=\"{image_path}\" {style}></img>'\n",
    "\n",
    "def captions_html(captions):\n",
    "    #return wrap_tag('p', '<br>'.join(' '.join(cap) for cap in captions))\n",
    "    return wrap_tag('ol', ''.join(wrap_tag('li', cap) for cap in captions))\n",
    "\n",
    "def images_html(image_paths, width=300, num_per_row=5, target=None, captions=None, titles=None):\n",
    "    rows = []\n",
    "    for ix in range(0, len(image_paths), num_per_row):\n",
    "        items = [wrap_tag('td', image_html(image_paths[image_ix], width=width, border=image_ix == target)) \n",
    "                 for image_ix in range(ix, ix+num_per_row) if image_ix < len(image_paths)]\n",
    "        rows.append(wrap_tag('tr', ''.join(items)))\n",
    "        if titles is not None:\n",
    "            title_html = [\n",
    "                wrap_tag('td', wrap_tag('b', titles[image_ix]))\n",
    "                for image_ix in range(ix, ix+num_per_row)\n",
    "                if image_ix < len(image_paths)\n",
    "            ]\n",
    "            rows.append(wrap_tag('tr', ''.join(title_html)))\n",
    "        if captions is not None:\n",
    "            cap_html = [\n",
    "                wrap_tag('td', captions_html(captions[image_ix]))\n",
    "                for image_ix in range(ix, ix+num_per_row)\n",
    "                if image_ix < len(image_paths)\n",
    "            ]\n",
    "            rows.append(wrap_tag('tr', ''.join(cap_html)))\n",
    "    return wrap_tag('table', ''.join(rows))\n",
    "\n",
    "def display_images(image_paths, width=300, num_per_row=5, target=None, captions=None, titles=None):\n",
    "    display(HTML(images_html(image_paths, width=width, num_per_row=num_per_row, target=target, captions=captions, titles=titles)))"
   ]
  },
  {
   "cell_type": "code",
   "execution_count": 53,
   "metadata": {},
   "outputs": [],
   "source": [
    "def get_neighbor_batch(img_fc_feat, k, include_self=False, self_ix=None):\n",
    "    assert len(img_fc_feat.shape) == 1, \"should be the features for a single image\"\n",
    "    D, I = index.search(img_fc_feat[None], k)\n",
    "    n_images, k_ = D.shape\n",
    "    assert n_images == 1\n",
    "    indices = []\n",
    "    if include_self:\n",
    "        assert self_ix is not None\n",
    "        indices.append(self_ix)\n",
    "    indices.extend([ixs[i] for i in I.flatten()])\n",
    "    data = [loader.dataset[ix, 0, False] for ix in indices]\n",
    "    batch = loader.dataset.collate_func(data, 'train')\n",
    "    return batch"
   ]
  },
  {
   "cell_type": "code",
   "execution_count": 54,
   "metadata": {},
   "outputs": [],
   "source": [
    "def display_neighbors(features, k=5, num_per_row=5):\n",
    "    index = loader.indices['train']\n",
    "    neighbor_batch = index.get_neighbor_batch(loader, features, k)\n",
    "    paths_k = [d['file_path'] for d in neighbor_batch['infos']]\n",
    "    captions_k = [[' '.join(c) for c in ns] for cs in get_captions_from_batch(neighbor_batch) for ns in cs]\n",
    "    display_images(paths_k, captions=captions_k, num_per_row=num_per_row)"
   ]
  },
  {
   "cell_type": "code",
   "execution_count": 55,
   "metadata": {},
   "outputs": [
    {
     "name": "stdout",
     "output_type": "stream",
     "text": [
      "Automatic pdb calling has been turned ON\n"
     ]
    }
   ],
   "source": [
    "pdb on"
   ]
  },
  {
   "cell_type": "code",
   "execution_count": 36,
   "metadata": {
    "scrolled": true
   },
   "outputs": [
    {
     "data": {
      "text/html": [
       "<table><tr><td><img width=300 src=\"val2014/COCO_val2014_000000250804.jpg\" ></img></td><td><img width=300 src=\"train2014/COCO_train2014_000000433662.jpg\" ></img></td><td><img width=300 src=\"train2014/COCO_train2014_000000020966.jpg\" ></img></td><td><img width=300 src=\"train2014/COCO_train2014_000000063043.jpg\" ></img></td></tr><tr><td><ol><li>bulls dogs and people all share the same street</li><li>a black and white cow standing in a market</li><li>two cows and two small dogs hang out in front a street market</li><li>two cows and two dogs and people at an open air market</li><li>two dogs and two cows are amongst people in a market</li></ol></td><td><ol><li>two people standing next to two huge elephants</li><li>two elephants standing near two people with mountains background</li><li>two elephants in the foreground and people in a dirt field</li><li>3 saddled elephants and people in a dirt field</li><li>there are two people standing near two elephants</li></ol></td><td><ol><li>a herd of bulls walking through a town guided by men</li><li>a herd of cattle is pushed through a street past people and vendors</li><li>cows walking in a row down an indian street</li><li>a herd of cattle being led down a dirt road</li><li>a bunch of cows are standing in a pin</li></ol></td><td><ol><li>a huge crowd of people gathered around small tents and livestock</li><li>a very large festival in a rural country with man leading cattle</li><li>a crowd of people standing around a herd of cows</li><li>a man pulling two cows by ropes with a lot of people gathered together</li><li>UNK and animals standing around a campground near a city</li></ol></td></tr><tr><td><img width=300 src=\"train2014/COCO_train2014_000000077693.jpg\" ></img></td><td><img width=300 src=\"train2014/COCO_train2014_000000378214.jpg\" ></img></td><td><img width=300 src=\"train2014/COCO_train2014_000000407590.jpg\" ></img></td><td><img width=300 src=\"val2014/COCO_val2014_000000031471.jpg\" ></img></td></tr><tr><td><ol><li>people walking sheep around a grassy area with people watching</li><li>a group of sheep inside of a fenced area</li><li>people are walking inside a gate with many large sheep near an audience</li><li>a crowd of people standing around a field with sheep</li><li>people walking UNK on leashes around in a fenced in area</li></ol></td><td><ol><li>a woman holding a harness on a cow in a festival</li><li>a cow a horse and a sheep with some people</li><li>a person teaching a cow some tricks in a park</li><li>some people that are showing off their animals for a judge to see</li><li>a couple of people on a grassy area with different animals</li></ol></td><td><ol><li>this is a girl feeding an elephant some vegetables</li><li>an elephants trunk taking something from a womans hand</li><li>a young girl feeding an elephant bananas at an animal sanctuary</li><li>some people are feeding some elephants dirt water and trees</li><li>adults interacting with native elephants near river on sunny day</li></ol></td><td><ol><li>a woman tending to a brown cow with a rope wrapped around its mouth</li><li>an adult cow and a baby cow have harnesses on their mouth near a woman</li><li>a woman that is standing next to a cow</li><li>a woman petting a cow that is tied up</li><li>a close up of a woman petting a cow that is tied up</li></ol></td></tr><tr><td><img width=300 src=\"val2014/COCO_val2014_000000048910.jpg\" ></img></td><td><img width=300 src=\"train2014/COCO_train2014_000000266273.jpg\" ></img></td><td><img width=300 src=\"train2014/COCO_train2014_000000229962.jpg\" ></img></td><td><img width=300 src=\"train2014/COCO_train2014_000000332202.jpg\" ></img></td></tr><tr><td><ol><li>a kitchen with a sink a shelf and a chair</li><li>an all white kitchen with a sink and stove</li><li>a kitchen with a shelf cabinets a sink and stove</li><li>a home kitchen with a door leading to the living room</li><li>a narrow kitchen with beams in the ceiling leads to a family room</li></ol></td><td><ol><li>a toddler in a kitchen trying to use a vacuum cleaner</li><li>a mom and a kid in a green kitchen</li><li>a toddler standing around in a kitchen with his mom at the door</li><li>a small boy standing in a kitchen next to a counter</li><li>a mother and baby in the kitchen next to a cabinet and oven</li></ol></td><td><ol><li>a woman standing next to a kitchen sink</li><li>w woman is at the sink in a clean kitchen</li><li>a woman is standing in a kitchen next to the sink</li><li>bright kitchen with woman doing something at the sink</li><li>a person in a very big kitchen by the sink</li></ol></td><td><ol><li>a kitchen filled with appliances and dishes on counters</li><li>a somewhat disorganized looking kitchen with old wooden flooring</li><li>some of the cabinets in the kitchen were left open</li><li>a kitchen has white cabinets and a wood floor</li><li>an l shaped white kitchen with green marble counter tops gets plenty of natural light from</li></ol></td></tr><tr><td><img width=300 src=\"val2014/COCO_val2014_000000409855.jpg\" ></img></td><td><img width=300 src=\"train2014/COCO_train2014_000000312850.jpg\" ></img></td><td><img width=300 src=\"train2014/COCO_train2014_000000130180.jpg\" ></img></td><td><img width=300 src=\"val2014/COCO_val2014_000000553129.jpg\" ></img></td></tr><tr><td><ol><li>a refrigerator that has a microwave above it in the kitchen</li><li>a kitchen with wood cabinets white refrigerator white stove and a microwave above the refrigerator</li><li>microwave sitting inside a wall with a refrigerator</li><li>the kitchen includes a microwave on a refrigerator</li><li>this is the kitchen of a smaller apartment</li></ol></td><td><ol><li>a kitchen with cabinets and sink on the left and fridge on the right</li><li>a kitchen with a large sliding glass door providing a view to a backyard</li><li>a kitchen with a sink oven stove and a refrigerator</li><li>this is a photo of a large kitchen and the door leading in is open</li><li>an empty kitchen with a sliding glass door open</li></ol></td><td><ol><li>a black and white kitchen with an island table area</li><li>a kitchen with a bunch of shelfs in it</li><li>a kitchen that has a black counter top and white cabinets</li><li>this kitchen has all white cabinets and a black stove</li><li>a black stove top oven sitting in a kitchen</li></ol></td><td><ol><li>the organized kitchen of a busy family in a suburban home</li><li>a small kitchen with cupboards an island and fridge</li><li>a messy kitchen with a refrigerator with lots of magnets on the door and a center</li><li>a kitchen has a stainless steel refrigerator and other appliances</li><li>cluttered kitchen with light colored cabinets island and fridge</li></ol></td></tr><tr><td><img width=300 src=\"train2014/COCO_train2014_000000277050.jpg\" ></img></td><td><img width=300 src=\"train2014/COCO_train2014_000000184937.jpg\" ></img></td><td><img width=300 src=\"train2014/COCO_train2014_000000478675.jpg\" ></img></td><td><img width=300 src=\"val2014/COCO_val2014_000000361217.jpg\" ></img></td></tr><tr><td><ol><li>a young lady is looking on while petting an owl</li><li>animal keeper with owl perched on one arm</li><li>a woman holding and petting an owl on a lush green field</li><li>a woman holding an owl on her arm</li><li>a woman outside holding a small owl on her arm</li></ol></td><td><ol><li>a woman is petting a cat and drinking coffee</li><li>a woman sitting on steps petting a cat</li><li>a woman sitting and holding a cup while petting a cat</li><li>a woman holding a beverage petting a cat</li><li>a woman sitting on steps outside is petting a cat</li></ol></td><td><ol><li>a guy holds a cat who is wearing antlers</li><li>man holding a cat that is wearing a costume</li><li>a man is holding a cat in his hands</li><li>a man holding onto a cat and a plant</li><li>there is a man holding a cat but theres something on the cat</li></ol></td><td><ol><li>a couple of pretty young ladies holding kittens</li><li>girls holding kittens while they are being pet</li><li>two women hold cats while others pet the cats</li><li>girls holding kittens in an outdoor space</li><li>girls holding up small white and grey kittens together</li></ol></td></tr><tr><td><img width=300 src=\"val2014/COCO_val2014_000000363321.jpg\" ></img></td><td><img width=300 src=\"val2014/COCO_val2014_000000194716.jpg\" ></img></td><td><img width=300 src=\"val2014/COCO_val2014_000000169690.jpg\" ></img></td><td><img width=300 src=\"train2014/COCO_train2014_000000430394.jpg\" ></img></td></tr><tr><td><ol><li>a little girl is feeding a giraffe at the zoo</li><li>a giraffe licks a girl who is giving it food</li><li>a girl is getting licked by a giraffe in an enclosure</li><li>a close up of a child feeding a giraffe</li><li>a girl leaning on a railing feeding a giraffe</li></ol></td><td><ol><li>a woman holding a small girl with sun glasses on her head</li><li>a smiling young mother holding her infant child</li><li>a woman in sunglasses is outside holding a baby</li><li>a woman holding a baby while she has something in her mouth</li><li>a very attractive woman holding a little girl that is chewing something</li></ol></td><td><ol><li>a little girl sitting on top of a bench in a park</li><li>a young girl in a blue dress with yellow flowers on a bench</li><li>a little girl sitting on a park bench holding a flower</li><li>there is a child that is sitting on the ground</li><li>a girl sitting on a bench holding a flower</li></ol></td><td><ol><li>girl posing for a picture holding a white dog</li><li>a woman is holding a small dog in her arms</li><li>there is a small white dog that has a strip of his hair painted red</li><li>a woman holding a white colored dog with a red dyed mohawk hair style on the</li><li>a woman holding a small white dog</li></ol></td></tr><tr><td><img width=300 src=\"val2014/COCO_val2014_000000012323.jpg\" ></img></td><td><img width=300 src=\"train2014/COCO_train2014_000000386560.jpg\" ></img></td><td><img width=300 src=\"train2014/COCO_train2014_000000567179.jpg\" ></img></td><td><img width=300 src=\"train2014/COCO_train2014_000000208754.jpg\" ></img></td></tr><tr><td><ol><li>a toilet and two rolls of toilet paper in a small room with ledge and window</li><li>a toilet inside a small bathroom being UNK</li><li>a bath room with a toilet and two rolls of toilet paper</li><li>the bathroom with a toilet having an unfinished wall behind it</li><li>a picture of a toilet seat with the lid up in an unfinished bathroom</li></ol></td><td><ol><li>a bathroom with a toilet a roll of UNK and a counter with a missing cabinet</li><li>a bathroom with a toilet and sink sitting on a tiled floor</li><li>a toilet in a bathroom that is being remodeled</li><li>a bathroom toilet with a mirror above and toilet roll</li><li>a single roll of toilet paper sits on top of the toilet tank</li></ol></td><td><ol><li>a bathroom with a toilet sink and toilet paper roll</li><li>a toilet a cabinet a sink a mirror and tan tiles</li><li>a small bathroom with a sink and a toilet</li><li>a bathroom displays a toilet and a sink</li><li>a bathroom with a toilet bowl and sink</li></ol></td><td><ol><li>a young man laying on top of a white toilet seat near a sink</li><li>a toddler playing near the toilet in a bathroom</li><li>a toddler is leaning against a closed toilet</li><li>a little boy playing with a toilet</li><li>a bath room with a toilet and a child on the toilet</li></ol></td></tr><tr><td><img width=300 src=\"train2014/COCO_train2014_000000005277.jpg\" ></img></td><td><img width=300 src=\"val2014/COCO_val2014_000000126941.jpg\" ></img></td><td><img width=300 src=\"train2014/COCO_train2014_000000472831.jpg\" ></img></td><td><img width=300 src=\"train2014/COCO_train2014_000000132454.jpg\" ></img></td></tr><tr><td><ol><li>a white toilet sitting next to a bath tub and a sink</li><li>a small bathroom is shown with a violet shower curtain</li><li>a bathroom is shown with a toilet and sink</li><li>a toilet with a storage cabinet positioned over it next to a sink</li><li>a rest room with a shelf filled with items above a toilet</li></ol></td><td><ol><li>a toilet room in the process of being renovated</li><li>a commode in a bathroom that is in the middle of being remodeled</li><li>an open toilet in a room that is undergoing construction</li><li>there is a toilet that is in the bathroom</li><li>a white toilet sitting inside of a bathroom</li></ol></td><td><ol><li>a white toilet sitting next to a bath tub with a shower curtain over it</li><li>a room showing a toilet and a sink</li><li>a small bathroom with a black and white shower curtain</li><li>a toilet has a shower curtain right next to it</li><li>closed toilet and shower in small bright bathroom</li></ol></td><td><ol><li>an empty bathroom with the toilet lid up</li><li>a toilet and a paper dispenser in a bathroom</li><li>the seat is up on a public toilet</li><li>a mans handicap restroom located in an establishment</li><li>a small restroom with a toilette underneath a paper towel dispenser</li></ol></td></tr><tr><td><img width=300 src=\"train2014/COCO_train2014_000000432201.jpg\" ></img></td><td><img width=300 src=\"val2014/COCO_val2014_000000042568.jpg\" ></img></td><td><img width=300 src=\"val2014/COCO_val2014_000000229311.jpg\" ></img></td><td><img width=300 src=\"val2014/COCO_val2014_000000078266.jpg\" ></img></td></tr><tr><td><ol><li>clean stainless steel kitchen with large cabinets and counter</li><li>a small spotless and clean stainless steel kitchen</li><li>a stainless UNK kitchen with sinks and lots of storage</li><li>a restaurant kitchen stocked with stainless steel appliances</li><li>a kitchen with a sink ovens and dishes in it</li></ol></td><td><ol><li>large shower sectional of a bathroom in a brown and white photograph</li><li>a open shower stall that has a robe next to it</li><li>a bathroom with a stand up shower and tub</li><li>a bathroom with a tub next to a fancy shower stall</li><li>a walk in shower sitting next to a bath tub</li></ol></td><td><ol><li>a stainless steel kitchen sink on a black granite countertop</li><li>a kitchen with a sink on a counter top</li><li>a kitchen with a sink near a window</li><li>a kitchen area with a large stainless steel sink</li><li>an empty kitchen sink underneath a window on the counter</li></ol></td><td><ol><li>kitchen utensils and appliances have been left unattended</li><li>a work room that looks like a dry UNK</li><li>the cramped interior of a passenger ships kitchen</li><li>a room with a bunch of stainless steel items and other accessories</li><li>a clean industrial kitchen with no one in it</li></ol></td></tr><tr><td><img width=300 src=\"val2014/COCO_val2014_000000070434.jpg\" ></img></td><td><img width=300 src=\"val2014/COCO_val2014_000000452793.jpg\" ></img></td><td><img width=300 src=\"train2014/COCO_train2014_000000504336.jpg\" ></img></td><td><img width=300 src=\"train2014/COCO_train2014_000000375728.jpg\" ></img></td></tr><tr><td><ol><li>the bathroom has a sink toilet and glass shower</li><li>a long narrow UNK with a sink mirrors and toilet</li><li>a restroom with a sink mirror and towel</li><li>a narrow bathroom has a long lit hallway</li><li>a bathroom with tall ceilings and an open window on the top</li></ol></td><td><ol><li>a kitchen with a granite counter top and faucet</li><li>a kitchen with a stainless steel fridge and granite counters</li><li>a kitchen with a big fridge and a big sink</li><li>this new fridge goes great in this clean kitchen</li><li>view of kitchen sink stainless refrigerator and breakfast room</li></ol></td><td><ol><li>a large kitchen with extensive counter space and drawers</li><li>a picture of a modern looking empty kitchen</li><li>the kitchen is clean with shiny floors and appliances</li><li>a well lit large open kitchen with wooden cabinets</li><li>a kitchen has a refrigerator a dishwasher and a window</li></ol></td><td><ol><li>a white toilet sitting next to a bathroom sink</li><li>the photo is of a small bathroom with a toilet shower and sink</li><li>a restroom with a toilet and sink</li><li>a bathroom with a glass shower sink and toilet is shown</li><li>a fisheye lens shot of a bathroom with a glass shower stall</li></ol></td></tr><tr><td><img width=300 src=\"train2014/COCO_train2014_000000329755.jpg\" ></img></td><td><img width=300 src=\"val2014/COCO_val2014_000000493846.jpg\" ></img></td><td><img width=300 src=\"val2014/COCO_val2014_000000016961.jpg\" ></img></td><td><img width=300 src=\"val2014/COCO_val2014_000000087920.jpg\" ></img></td></tr><tr><td><ol><li>a man on a bicycle stopped at an intersection</li><li>a man with an orange vest on a bicycle is at an intersection</li><li>a man in an orange vest riding a bike</li><li>man on bike smiling at camera while sitting in intersection</li><li>a man is riding his bike that has packages strapped to the back</li></ol></td><td><ol><li>a man riding a bike down a street past a young man</li><li>an out of shape man rides a bicycle</li><li>an older man is riding his bike down the road</li><li>a person riding a bike on a city street</li><li>an older man riding a bike on a street</li></ol></td><td><ol><li>a guy riding a skateboard on the road with a long pole</li><li>a man long boarding with a stick to propel him</li><li>a man with a stick pushing himself by skateboard</li><li>guy riding skateboard with a long stick while others ride bikes around him</li><li>adult male pushing himself on a skateboard with a stick</li></ol></td><td><ol><li>a lady is riding a bicycle while talking on a cell phone</li><li>a woman rides her bike and talks on the phone</li><li>woman on cell phone bicycling down the street</li><li>a woman on a bike while on a cell phone</li><li>a woman riding a bicycle making a call on the road near a building with cars</li></ol></td></tr><tr><td><img width=300 src=\"train2014/COCO_train2014_000000304134.jpg\" ></img></td><td><img width=300 src=\"train2014/COCO_train2014_000000262967.jpg\" ></img></td><td><img width=300 src=\"train2014/COCO_train2014_000000489107.jpg\" ></img></td><td><img width=300 src=\"train2014/COCO_train2014_000000363455.jpg\" ></img></td></tr><tr><td><ol><li>a bicyclist and pedestrian are approaching an intersection</li><li>a bunch of people at a inter section of a road</li><li>a traffic officer controlling traffic on a busy road</li><li>a traffic officer directs traffic as a woman crosses with a baby</li><li>bicyclists and pedestrians near roadway with adult directing traffic in city area</li></ol></td><td><ol><li>a woman riding a bike down the middle of a street</li><li>a women is riding her bike next to a police officer on a motorcycle down a</li><li>people looking at a scene as a policeman on a motorcycle arrives</li><li>woman on a bike taking a picture of other people</li><li>a group of people on bicycles and motorcycles in a street</li></ol></td><td><ol><li>a man with a hat on riding a bicycle past a man in a guard outfit</li><li>a man travelling on a bicycle with a hat on</li><li>there is a man wearing a hat and riding a bike down the street</li><li>a man wearing a yellow vest is watching a man ride by him on a bike</li><li>a person is riding a bike down the street while a crossing guard is watching</li></ol></td><td><ol><li>a man is riding a bike while holding an umbrella</li><li>a person riding their bicycle in the rain</li><li>a person riding a bike in the rain while holding an umbrella</li><li>a man riding a bike next to another person on a bike</li><li>a person on a bicycle in the rain holding an umbrella</li></ol></td></tr><tr><td><img width=300 src=\"train2014/COCO_train2014_000000037126.jpg\" ></img></td><td><img width=300 src=\"train2014/COCO_train2014_000000187972.jpg\" ></img></td><td><img width=300 src=\"val2014/COCO_val2014_000000383606.jpg\" ></img></td><td><img width=300 src=\"val2014/COCO_val2014_000000134715.jpg\" ></img></td></tr><tr><td><ol><li>camera flash reflected in a mirror in a small tiled bathroom</li><li>flash from camera glares in the mirror above the toilet</li><li>a very small rest room with a toilet and sink</li><li>a bath room with a toilet a sink and a mirror</li><li>a person take a picture of a bathroom</li></ol></td><td><ol><li>a bathroom that has its lights turned on</li><li>a simple modern bathroom is displayed in the dim light</li><li>a bathroom has a window and a glass door</li><li>a modern bathroom offers visitors a touch of privacy during toiletry</li><li>a bathroom that is very white with a light on</li></ol></td><td><ol><li>a blue corner sink with a man reflected in the above mirrors</li><li>a bathroom with a sink and a mirror</li><li>a person taking a picture inside a bathroom with a blue sink and a brown door</li><li>compact hotel bathroom with corner basin and mirrors</li><li>a man holding a camera reflected in a bathroom mirror that sits above a sink and</li></ol></td><td><ol><li>a large mirror above a sink in a bathroom</li><li>a view of a bathroom that looks very elegant</li><li>a bathroom with vanity toilet and tub is decorated in UNK and browns</li><li>a bathroom showing sink toilet and shower</li><li>a shower that has a bar in it</li></ol></td></tr><tr><td><img width=300 src=\"train2014/COCO_train2014_000000491063.jpg\" ></img></td><td><img width=300 src=\"train2014/COCO_train2014_000000042086.jpg\" ></img></td><td><img width=300 src=\"val2014/COCO_val2014_000000356299.jpg\" ></img></td><td><img width=300 src=\"val2014/COCO_val2014_000000303928.jpg\" ></img></td></tr><tr><td><ol><li>the small bathroom as a standing shower stall beside the toilet</li><li>a bathroom with a shower bathtub sink mirror and toilet</li><li>a white toilet and a shower in a room</li><li>the bathroom has a sink and a standup shower in it</li><li>a bathroom with a walk in shower toilet and sink</li></ol></td><td><ol><li>there is a bathroom with a sink tub and shower curtain</li><li>a mirror a sink shower curtains lights and white tiles</li><li>a white sink sitting next to a bath tub in a bathroom</li><li>a bathroom that has a sink and a shower</li><li>a small white sink in a home bathroom</li></ol></td><td><ol><li>a white sink in a bathroom under a mirror</li><li>a bathroom has decorative tile on the floor and is clean</li><li>an inside view of a bathroom with colorful tiling</li><li>a bathroom with a glass shower door a sink and a mirror</li><li>a bath room with a sink a mirror and a shower</li></ol></td><td><ol><li>a walk in shower with a seat next to a white sink</li><li>an standup shower with towels hanging on a rack outside the shower</li><li>a bathroom with a clear glass shower stall</li><li>the corner of a bathroom with a tub and an enclosed glass shower</li><li>a bath room with a stand up shower and a bath tub</li></ol></td></tr><tr><td><img width=300 src=\"train2014/COCO_train2014_000000253528.jpg\" ></img></td><td><img width=300 src=\"train2014/COCO_train2014_000000539767.jpg\" ></img></td><td><img width=300 src=\"val2014/COCO_val2014_000000135410.jpg\" ></img></td><td><img width=300 src=\"train2014/COCO_train2014_000000068789.jpg\" ></img></td></tr><tr><td><ol><li>a row of parking meters sitting next to parked cars</li><li>a row of parking meters along a road</li><li>a sidewalk with many parking meters going all the way down the street</li><li>a boy in red is walking past change meters</li><li>a city street lined with parking meters and parked cars</li></ol></td><td><ol><li>a red bike parked in a parking lot next to buildings</li><li>a view of a parked motorcycle from behind</li><li>a close up of a red parked motorcycle on pavement</li><li>a view of a motorcycle from its back end</li><li>the large motorcycle has two cup holders on it</li></ol></td><td><ol><li>a bike leaning up to a parking meter</li><li>a coin meter that is next to a ladder with balls on it</li><li>a parking meter is on the street in front of a building</li><li>a stack of balls that is next to a parking meter</li><li>a parking meter next to a ladder with bowling balls on each UNK</li></ol></td><td><ol><li>a bunch of cars are passing by a couple meters</li><li>a street wet from rain and crowded with cars</li><li>some parking meters sitting on the side of the road</li><li>a wet street with moving cars parked cars and parking meters</li><li>there are many cars and UNK on this street</li></ol></td></tr><tr><td><img width=300 src=\"val2014/COCO_val2014_000000145039.jpg\" ></img></td><td><img width=300 src=\"train2014/COCO_train2014_000000375053.jpg\" ></img></td><td><img width=300 src=\"val2014/COCO_val2014_000000302200.jpg\" ></img></td><td><img width=300 src=\"train2014/COCO_train2014_000000488367.jpg\" ></img></td></tr><tr><td><ol><li>a parking meter that still has fifteen minutes on it</li><li>there is a meter by a car on the side of a road</li><li>a parking meter sitting on the side of a sidewalk</li><li>the parking meter has fifteen minutes let on it</li><li>a parking meter with a blue sticker is on the sidewalk</li></ol></td><td><ol><li>a street scene with focus on a parking meter</li><li>there are many parking meters along this street</li><li>a street with parked cars next to a sidewalk with people walking</li><li>a row of parking meters sitting next to a street</li><li>parking meters and parked cars are lining a street</li></ol></td><td><ol><li>a parking meter sitting in the snow next to a parked car</li><li>a parking meter at a street side with snow around it</li><li>a car is parked on a street next to a parking meter</li><li>a parking meter on the side of a road</li><li>a parking machine that is next to a car</li></ol></td><td><ol><li>a painting sitting on an easel next to a parking meter</li><li>a piece of art is displayed in front of a parking meter</li><li>there is a drawing next to a car timer</li><li>a close up of a painting canvas near a parking meter</li><li>a couple of kids playing off in the back ground</li></ol></td></tr><tr><td><img width=300 src=\"train2014/COCO_train2014_000000515287.jpg\" ></img></td><td><img width=300 src=\"train2014/COCO_train2014_000000188343.jpg\" ></img></td><td><img width=300 src=\"train2014/COCO_train2014_000000343670.jpg\" ></img></td><td><img width=300 src=\"train2014/COCO_train2014_000000474732.jpg\" ></img></td></tr><tr><td><ol><li>a white bathroom with a tub sink and mirror</li><li>a bathroom has a sink and bathtub and open door</li><li>a bathroom scene with photo taken above the bath tub</li><li>a bathroom with a sink and mirror and a bathtub</li><li>a bathroom has a sink and a tub</li></ol></td><td><ol><li>there is a hairdryer mounted on the wall next to the double sink vanity</li><li>the bathroom has two sinks a large mirror and a hair dryer</li><li>a bathroom counter topped with personal care items</li><li>a modern residential bathroom with walk in shower</li><li>a bathroom with double marble sinks is equipped with a wall hanging blow dryer</li></ol></td><td><ol><li>a bathroom with his and her sinks under a large mirror</li><li>two round sinks are in a wooden counter top next to a large mirror</li><li>a shiny white bathroom with a wood decorated counter</li><li>a bathroom with two sinks and a mirror</li><li>the double sink in the bathroom is nice and clean</li></ol></td><td><ol><li>a bathroom with a sink a mirror and a UNK</li><li>a bathroom with a sink mirror and towel rack</li><li>a white sink under a mirror and red walls</li><li>a bathroom with red walls a sink and a table</li><li>a bathroom painted red with a sink and wall light</li></ol></td></tr><tr><td><img width=300 src=\"train2014/COCO_train2014_000000412267.jpg\" ></img></td><td><img width=300 src=\"train2014/COCO_train2014_000000175291.jpg\" ></img></td><td><img width=300 src=\"train2014/COCO_train2014_000000401458.jpg\" ></img></td><td><img width=300 src=\"train2014/COCO_train2014_000000371490.jpg\" ></img></td></tr><tr><td><ol><li>a bathroom that has a larger then normal tub</li><li>a bathroom is shown with a tub and sink</li><li>a bathroom scene with focus on the bathtub</li><li>a large bathroom with a big soaking tub</li><li>a white tub sitting next to a white sink</li></ol></td><td><ol><li>a modern residential bathroom with deep tub toilet and sink</li><li>a bathroom with UNK furnishings in white and tan</li><li>a bathroom with a tub sink toilet and mirror</li><li>a room showing a birth tub and a sink</li><li>a white tub sitting next to a white toilet</li></ol></td><td><ol><li>a bathroom with a white sink underneath a giant vanity mirror</li><li>a large bathroom with some pictures hanging on the wall</li><li>an open bathroom with art on the walls</li><li>a white bathroom trimmed in tan and black with pictures on the wall</li><li>the medium sized bathroom has been decorated with brown curtains</li></ol></td><td><ol><li>the bathtub is across the room from the bathroom sink</li><li>a well cleaned white bathroom with hard floors</li><li>a bathroom scene with just a sink toilet bathtub and wood floors</li><li>a toilet that is next to a bathtub</li><li>a claw foot tub in an old fashioned bathroom</li></ol></td></tr><tr><td><img width=300 src=\"val2014/COCO_val2014_000000358345.jpg\" ></img></td><td><img width=300 src=\"train2014/COCO_train2014_000000147196.jpg\" ></img></td><td><img width=300 src=\"train2014/COCO_train2014_000000086071.jpg\" ></img></td><td><img width=300 src=\"train2014/COCO_train2014_000000424739.jpg\" ></img></td></tr><tr><td><ol><li>a water hydrant on the side of the road</li><li>a dog s diaper is attached to a fire hydrant</li><li>a baby bib hangs on a yellow fire hydrant</li><li>yellow fire hydrant with a babys garment hanging on it</li><li>a fire hydrant with a piece of clothing draped over one edge</li></ol></td><td><ol><li>a green and black fire hydrant with a red top in the dry grass</li><li>a black and white fire hydrant topped with a red ball</li><li>a black and white fire hydrant with a red foam clown nose on top</li><li>a painted fire hydrant sitting in dead grass</li><li>black and white fire hydrant surrounded by dead grass</li></ol></td><td><ol><li>a yellow fire hydrant is sitting on a gravel road</li><li>a yellow fire hydrant sitting next to a red fire hydrant</li><li>the fire hydrant is being capped off by something different</li><li>a yellow fire hydrant in a gravel area</li><li>a fire hydrant is attached to a separated shut off apparatus</li></ol></td><td><ol><li>a tree trunk having some UNK tools and containers resting on top</li><li>camping equipment including a portable stove a UNK and a multi tool</li><li>a large glass jar sitting on top of a wooden table next to construction items</li><li>a knife a lighter and several other UNK items sit on the ground</li><li>items placed on a tree stump for making a cooking stove</li></ol></td></tr><tr><td><img width=300 src=\"train2014/COCO_train2014_000000108602.jpg\" ></img></td><td><img width=300 src=\"train2014/COCO_train2014_000000395703.jpg\" ></img></td><td><img width=300 src=\"val2014/COCO_val2014_000000052005.jpg\" ></img></td><td><img width=300 src=\"train2014/COCO_train2014_000000405630.jpg\" ></img></td></tr><tr><td><ol><li>a skateboard laying on top of a grass covered ground</li><li>a skateboard lays wheels up on the ground as if UNK</li><li>the skateboard is laying upside down in the grass</li><li>an overturned skateboard lying on a grassy field</li><li>an very well used upside down skateboard on grass</li></ol></td><td><ol><li>a yellow fire hydrant laying on its side</li><li>a fire hydrant lies on its side in the street</li><li>a fire hydrant laying on its side out of the ground</li><li>a fire hydrant turned over on its side</li><li>a close up of a fire hydrant laying on the ground</li></ol></td><td><ol><li>the yellow fire hydrant is next to the bushes</li><li>a picture of a fire hydrant next to a plant</li><li>the yellow and black fire hydrant has leaves around it</li><li>a water hydrant sits in front of foliage</li><li>the fire hydrant is yellow and is next to green plants</li></ol></td><td><ol><li>two brightly colored kids bouncy spring rides on a lawn</li><li>the area is outdoors a residential house exterior driveway and yard area while UNK highlighted in</li><li>a ride at a playground made to look like a yellow elephant</li><li>blue and yellow playground toys in the fall</li><li>this ride on toy is in the shape of an elephant</li></ol></td></tr></table>"
      ],
      "text/plain": [
       "<IPython.core.display.HTML object>"
      ]
     },
     "metadata": {},
     "output_type": "display_data"
    }
   ],
   "source": [
    "display_neighbors(batch['fc_feats'].numpy(), k=8, num_per_row=4)"
   ]
  },
  {
   "cell_type": "code",
   "execution_count": 57,
   "metadata": {},
   "outputs": [],
   "source": [
    "def maybe_cuda(tensor):\n",
    "    if tensor is None:\n",
    "        return None\n",
    "    if CUDA:\n",
    "        return tensor.cuda()\n",
    "    return tensor"
   ]
  },
  {
   "cell_type": "code",
   "execution_count": 56,
   "metadata": {},
   "outputs": [],
   "source": [
    "def display_em_model(batch, k=5, num_per_row=5, neighbor_types=['closest'], choose_distractor=False, beam_size=5, distractor_selection_method='max'):\n",
    "    index = loader.indices['train']\n",
    "    opt_new = vars(opt)\n",
    "    for neighbor_type in neighbor_types:\n",
    "        assert neighbor_type in ['closest', 'random']\n",
    "    opt_new['pragmatic_distractor_candidate_types'] = neighbor_types\n",
    "    opt_new['pragmatic_distractors'] = k\n",
    "    opt_new['beam_size'] = beam_size\n",
    "    if choose_distractor:\n",
    "        opt_new['pragmatic_distractor_type'] = 'choose_within_closest'\n",
    "    else:\n",
    "        # misnomer; this actually means use all the available distractors\n",
    "        opt_new['pragmatic_distractor_type'] = 'closest'\n",
    "    batch_size = len(batch['infos'])\n",
    "    with torch.no_grad():\n",
    "        fc_feats, att_feats, att_masks = maybe_cuda(batch['fc_feats']), maybe_cuda(batch['att_feats']), maybe_cuda(batch['att_masks'])\n",
    "        model._sample_beam(fc_feats, att_feats, att_masks, opt=opt_new)\n",
    "        beam_captions = [[utils.decode_sequence(model.vocab, _['seq'].unsqueeze(0))[0] for _ in model.done_beams[ix]] for ix in range(batch_size)]\n",
    "        model._sample_contrastive_beam(\n",
    "            fc_feats, att_feats, att_masks,\n",
    "            opt_new,  data=batch, loader=loader, nearest_neighbor_index=index, \n",
    "            distractor_selection_method=distractor_selection_method,\n",
    "        )\n",
    "        contrastive_beam_captions = [[utils.decode_sequence(model.vocab, _['seq'].unsqueeze(0))[0] for _ in model.done_beams[ix]] for ix in range(batch_size)]\n",
    "    for ix in range(len(batch['infos'])):\n",
    "        path = batch['infos'][ix]['file_path']\n",
    "        display_images([path, path], captions=[beam_captions[ix], contrastive_beam_captions[ix]], titles=['normal', 'contrastive'])\n",
    "        \n",
    "        neighbor_paths = [d['file_path'] for d in model.neighbor_infos[ix]]\n",
    "        if hasattr(model, 'dlp'):\n",
    "            scores = model.dlp[ix].exp().detach().cpu().numpy()\n",
    "            scores, neighbor_paths = zip(*sorted(zip(scores, neighbor_paths), reverse=True))\n",
    "            score_strings = ['{:.4f}'.format(x) for x in scores]\n",
    "        else:\n",
    "            score_strings = None\n",
    "        if choose_distractor:\n",
    "            display_images([d['file_path'] for d in model.distractor_infos[ix]], num_per_row=2)\n",
    "        display_images(neighbor_paths, titles=score_strings, num_per_row=5)\n",
    "        print()\n",
    "#     paths_k = [d['file_path'] for d in neighbor_batch['infos']]\n",
    "#     captions_k = [[' '.join(c) for c in ns] for cs in get_captions_from_batch(neighbor_batch) for ns in cs]\n",
    "#     display_images(paths_k, captions=captions_k, num_per_row=num_per_row)"
   ]
  },
  {
   "cell_type": "code",
   "execution_count": 60,
   "metadata": {
    "scrolled": false
   },
   "outputs": [
    {
     "data": {
      "text/html": [
       "<table><tr><td><img width=300 src=\"val2014/COCO_val2014_000000184613.jpg\" ></img></td><td><img width=300 src=\"val2014/COCO_val2014_000000184613.jpg\" ></img></td></tr><tr><td><b>normal</b></td><td><b>contrastive</b></td></tr><tr><td><ol><li>a little boy holding a sheep in a field</li><li>a young boy holding a sheep in a field</li><li>a little boy is holding a sheep in the grass</li><li>a little boy is holding a sheep in a field</li><li>a little girl is holding a sheep in the grass</li></ol></td><td><ol><li>a little boy holding a sheep in a field</li><li>a young boy holding a sheep in a field</li><li>a little boy is holding a sheep in the grass</li><li>a young child is holding a sheep in a field</li><li>a little boy is holding a sheep in a field</li></ol></td></tr></table>"
      ],
      "text/plain": [
       "<IPython.core.display.HTML object>"
      ]
     },
     "metadata": {},
     "output_type": "display_data"
    },
    {
     "data": {
      "text/html": [
       "<table><tr><td><img width=300 src=\"val2014/COCO_val2014_000000184613.jpg\" ></img></td><td><img width=300 src=\"val2014/COCO_val2014_000000329534.jpg\" ></img></td></tr></table>"
      ],
      "text/plain": [
       "<IPython.core.display.HTML object>"
      ]
     },
     "metadata": {},
     "output_type": "display_data"
    },
    {
     "data": {
      "text/html": [
       "<table><tr><td><img width=300 src=\"val2014/COCO_val2014_000000329534.jpg\" ></img></td><td><img width=300 src=\"train2014/COCO_train2014_000000158422.jpg\" ></img></td><td><img width=300 src=\"val2014/COCO_val2014_000000245274.jpg\" ></img></td><td><img width=300 src=\"train2014/COCO_train2014_000000046640.jpg\" ></img></td><td><img width=300 src=\"train2014/COCO_train2014_000000324277.jpg\" ></img></td></tr><tr><td><b>0.2691</b></td><td><b>0.1931</b></td><td><b>0.1559</b></td><td><b>0.0880</b></td><td><b>0.0657</b></td></tr><tr><td><img width=300 src=\"train2014/COCO_train2014_000000282617.jpg\" ></img></td><td><img width=300 src=\"val2014/COCO_val2014_000000561512.jpg\" ></img></td><td><img width=300 src=\"train2014/COCO_train2014_000000354493.jpg\" ></img></td><td><img width=300 src=\"val2014/COCO_val2014_000000213843.jpg\" ></img></td><td><img width=300 src=\"val2014/COCO_val2014_000000334073.jpg\" ></img></td></tr><tr><td><b>0.0427</b></td><td><b>0.0331</b></td><td><b>0.0267</b></td><td><b>0.0257</b></td><td><b>0.0241</b></td></tr><tr><td><img width=300 src=\"train2014/COCO_train2014_000000278797.jpg\" ></img></td><td><img width=300 src=\"train2014/COCO_train2014_000000151049.jpg\" ></img></td><td><img width=300 src=\"train2014/COCO_train2014_000000296984.jpg\" ></img></td><td><img width=300 src=\"val2014/COCO_val2014_000000488270.jpg\" ></img></td><td><img width=300 src=\"train2014/COCO_train2014_000000407590.jpg\" ></img></td></tr><tr><td><b>0.0226</b></td><td><b>0.0212</b></td><td><b>0.0115</b></td><td><b>0.0034</b></td><td><b>0.0026</b></td></tr><tr><td><img width=300 src=\"train2014/COCO_train2014_000000271580.jpg\" ></img></td><td><img width=300 src=\"train2014/COCO_train2014_000000007953.jpg\" ></img></td><td><img width=300 src=\"train2014/COCO_train2014_000000150048.jpg\" ></img></td><td><img width=300 src=\"train2014/COCO_train2014_000000002415.jpg\" ></img></td><td><img width=300 src=\"train2014/COCO_train2014_000000378214.jpg\" ></img></td></tr><tr><td><b>0.0024</b></td><td><b>0.0024</b></td><td><b>0.0014</b></td><td><b>0.0011</b></td><td><b>0.0010</b></td></tr><tr><td><img width=300 src=\"val2014/COCO_val2014_000000031471.jpg\" ></img></td><td><img width=300 src=\"train2014/COCO_train2014_000000433662.jpg\" ></img></td><td><img width=300 src=\"train2014/COCO_train2014_000000497815.jpg\" ></img></td><td><img width=300 src=\"val2014/COCO_val2014_000000400516.jpg\" ></img></td><td><img width=300 src=\"train2014/COCO_train2014_000000090196.jpg\" ></img></td></tr><tr><td><b>0.0008</b></td><td><b>0.0007</b></td><td><b>0.0007</b></td><td><b>0.0006</b></td><td><b>0.0004</b></td></tr><tr><td><img width=300 src=\"train2014/COCO_train2014_000000020966.jpg\" ></img></td><td><img width=300 src=\"train2014/COCO_train2014_000000228844.jpg\" ></img></td><td><img width=300 src=\"train2014/COCO_train2014_000000114718.jpg\" ></img></td><td><img width=300 src=\"val2014/COCO_val2014_000000102672.jpg\" ></img></td><td><img width=300 src=\"train2014/COCO_train2014_000000409681.jpg\" ></img></td></tr><tr><td><b>0.0004</b></td><td><b>0.0004</b></td><td><b>0.0003</b></td><td><b>0.0003</b></td><td><b>0.0003</b></td></tr><tr><td><img width=300 src=\"train2014/COCO_train2014_000000027937.jpg\" ></img></td><td><img width=300 src=\"val2014/COCO_val2014_000000250804.jpg\" ></img></td><td><img width=300 src=\"train2014/COCO_train2014_000000312686.jpg\" ></img></td><td><img width=300 src=\"val2014/COCO_val2014_000000328289.jpg\" ></img></td><td><img width=300 src=\"train2014/COCO_train2014_000000393553.jpg\" ></img></td></tr><tr><td><b>0.0003</b></td><td><b>0.0002</b></td><td><b>0.0002</b></td><td><b>0.0001</b></td><td><b>0.0001</b></td></tr><tr><td><img width=300 src=\"train2014/COCO_train2014_000000442312.jpg\" ></img></td><td><img width=300 src=\"train2014/COCO_train2014_000000077693.jpg\" ></img></td><td><img width=300 src=\"train2014/COCO_train2014_000000017799.jpg\" ></img></td><td><img width=300 src=\"train2014/COCO_train2014_000000063043.jpg\" ></img></td><td><img width=300 src=\"train2014/COCO_train2014_000000086329.jpg\" ></img></td></tr><tr><td><b>0.0001</b></td><td><b>0.0001</b></td><td><b>0.0001</b></td><td><b>0.0001</b></td><td><b>0.0001</b></td></tr></table>"
      ],
      "text/plain": [
       "<IPython.core.display.HTML object>"
      ]
     },
     "metadata": {},
     "output_type": "display_data"
    },
    {
     "name": "stdout",
     "output_type": "stream",
     "text": [
      "\n"
     ]
    },
    {
     "data": {
      "text/html": [
       "<table><tr><td><img width=300 src=\"val2014/COCO_val2014_000000403013.jpg\" ></img></td><td><img width=300 src=\"val2014/COCO_val2014_000000403013.jpg\" ></img></td></tr><tr><td><b>normal</b></td><td><b>contrastive</b></td></tr><tr><td><ol><li>a kitchen with white cabinets and white appliances</li><li>a kitchen with white appliances and white cabinets</li><li>a kitchen with white cabinets and white cabinets</li><li>a kitchen with white appliances and white appliances</li><li>a small kitchen with white appliances and white cabinets</li></ol></td><td><ol><li>a kitchen with white cabinets and white appliances</li><li>a kitchen with white appliances and white cabinets</li><li>a kitchen with white cabinets and white cabinets</li><li>a kitchen with white appliances and white appliances</li><li>a small kitchen with white appliances and white cabinets</li></ol></td></tr></table>"
      ],
      "text/plain": [
       "<IPython.core.display.HTML object>"
      ]
     },
     "metadata": {},
     "output_type": "display_data"
    },
    {
     "data": {
      "text/html": [
       "<table><tr><td><img width=300 src=\"val2014/COCO_val2014_000000403013.jpg\" ></img></td><td><img width=300 src=\"train2014/COCO_train2014_000000297622.jpg\" ></img></td></tr></table>"
      ],
      "text/plain": [
       "<IPython.core.display.HTML object>"
      ]
     },
     "metadata": {},
     "output_type": "display_data"
    },
    {
     "data": {
      "text/html": [
       "<table><tr><td><img width=300 src=\"train2014/COCO_train2014_000000297622.jpg\" ></img></td><td><img width=300 src=\"val2014/COCO_val2014_000000250506.jpg\" ></img></td><td><img width=300 src=\"train2014/COCO_train2014_000000569613.jpg\" ></img></td><td><img width=300 src=\"train2014/COCO_train2014_000000082300.jpg\" ></img></td><td><img width=300 src=\"train2014/COCO_train2014_000000232886.jpg\" ></img></td></tr><tr><td><b>0.1865</b></td><td><b>0.1813</b></td><td><b>0.1133</b></td><td><b>0.1104</b></td><td><b>0.0949</b></td></tr><tr><td><img width=300 src=\"train2014/COCO_train2014_000000165953.jpg\" ></img></td><td><img width=300 src=\"val2014/COCO_val2014_000000409850.jpg\" ></img></td><td><img width=300 src=\"train2014/COCO_train2014_000000177394.jpg\" ></img></td><td><img width=300 src=\"train2014/COCO_train2014_000000442888.jpg\" ></img></td><td><img width=300 src=\"train2014/COCO_train2014_000000163089.jpg\" ></img></td></tr><tr><td><b>0.0877</b></td><td><b>0.0820</b></td><td><b>0.0487</b></td><td><b>0.0357</b></td><td><b>0.0338</b></td></tr><tr><td><img width=300 src=\"train2014/COCO_train2014_000000414161.jpg\" ></img></td><td><img width=300 src=\"train2014/COCO_train2014_000000108210.jpg\" ></img></td><td><img width=300 src=\"train2014/COCO_train2014_000000252966.jpg\" ></img></td><td><img width=300 src=\"train2014/COCO_train2014_000000333775.jpg\" ></img></td><td><img width=300 src=\"train2014/COCO_train2014_000000371807.jpg\" ></img></td></tr><tr><td><b>0.0129</b></td><td><b>0.0075</b></td><td><b>0.0051</b></td><td><b>0.0003</b></td><td><b>0.0000</b></td></tr><tr><td><img width=300 src=\"train2014/COCO_train2014_000000359868.jpg\" ></img></td><td><img width=300 src=\"train2014/COCO_train2014_000000266273.jpg\" ></img></td><td><img width=300 src=\"val2014/COCO_val2014_000000287335.jpg\" ></img></td><td><img width=300 src=\"train2014/COCO_train2014_000000284170.jpg\" ></img></td><td><img width=300 src=\"val2014/COCO_val2014_000000417830.jpg\" ></img></td></tr><tr><td><b>0.0000</b></td><td><b>0.0000</b></td><td><b>0.0000</b></td><td><b>0.0000</b></td><td><b>0.0000</b></td></tr><tr><td><img width=300 src=\"train2014/COCO_train2014_000000543729.jpg\" ></img></td><td><img width=300 src=\"train2014/COCO_train2014_000000312850.jpg\" ></img></td><td><img width=300 src=\"train2014/COCO_train2014_000000229962.jpg\" ></img></td><td><img width=300 src=\"train2014/COCO_train2014_000000532397.jpg\" ></img></td><td><img width=300 src=\"train2014/COCO_train2014_000000524838.jpg\" ></img></td></tr><tr><td><b>0.0000</b></td><td><b>0.0000</b></td><td><b>0.0000</b></td><td><b>0.0000</b></td><td><b>0.0000</b></td></tr><tr><td><img width=300 src=\"train2014/COCO_train2014_000000166130.jpg\" ></img></td><td><img width=300 src=\"train2014/COCO_train2014_000000308703.jpg\" ></img></td><td><img width=300 src=\"train2014/COCO_train2014_000000138536.jpg\" ></img></td><td><img width=300 src=\"val2014/COCO_val2014_000000048910.jpg\" ></img></td><td><img width=300 src=\"train2014/COCO_train2014_000000077858.jpg\" ></img></td></tr><tr><td><b>0.0000</b></td><td><b>0.0000</b></td><td><b>0.0000</b></td><td><b>0.0000</b></td><td><b>0.0000</b></td></tr><tr><td><img width=300 src=\"val2014/COCO_val2014_000000012326.jpg\" ></img></td><td><img width=300 src=\"train2014/COCO_train2014_000000410687.jpg\" ></img></td><td><img width=300 src=\"train2014/COCO_train2014_000000046104.jpg\" ></img></td><td><img width=300 src=\"train2014/COCO_train2014_000000130180.jpg\" ></img></td><td><img width=300 src=\"val2014/COCO_val2014_000000409855.jpg\" ></img></td></tr><tr><td><b>0.0000</b></td><td><b>0.0000</b></td><td><b>0.0000</b></td><td><b>0.0000</b></td><td><b>0.0000</b></td></tr><tr><td><img width=300 src=\"train2014/COCO_train2014_000000476191.jpg\" ></img></td><td><img width=300 src=\"train2014/COCO_train2014_000000332202.jpg\" ></img></td><td><img width=300 src=\"train2014/COCO_train2014_000000309060.jpg\" ></img></td><td><img width=300 src=\"train2014/COCO_train2014_000000186145.jpg\" ></img></td><td><img width=300 src=\"val2014/COCO_val2014_000000553129.jpg\" ></img></td></tr><tr><td><b>0.0000</b></td><td><b>0.0000</b></td><td><b>0.0000</b></td><td><b>0.0000</b></td><td><b>0.0000</b></td></tr></table>"
      ],
      "text/plain": [
       "<IPython.core.display.HTML object>"
      ]
     },
     "metadata": {},
     "output_type": "display_data"
    },
    {
     "name": "stdout",
     "output_type": "stream",
     "text": [
      "\n"
     ]
    },
    {
     "data": {
      "text/html": [
       "<table><tr><td><img width=300 src=\"val2014/COCO_val2014_000000562150.jpg\" ></img></td><td><img width=300 src=\"val2014/COCO_val2014_000000562150.jpg\" ></img></td></tr><tr><td><b>normal</b></td><td><b>contrastive</b></td></tr><tr><td><ol><li>a young girl holding a cat while sitting on a bench</li><li>a young girl holding a cat while holding a cat</li><li>a woman holding a cat and a cat</li><li>a young girl holding a cat and a cat</li><li>a young girl holding a cat and a stuffed animal</li></ol></td><td><ol><li>a young girl holding a cat while sitting on a bench</li><li>a young girl holding a cat while holding a cat</li><li>a woman holding a cat and a cat</li><li>a young girl holding a cat and a cat</li><li>a young girl holding a cat while holding a stuffed animal</li></ol></td></tr></table>"
      ],
      "text/plain": [
       "<IPython.core.display.HTML object>"
      ]
     },
     "metadata": {},
     "output_type": "display_data"
    },
    {
     "data": {
      "text/html": [
       "<table><tr><td><img width=300 src=\"val2014/COCO_val2014_000000562150.jpg\" ></img></td><td><img width=300 src=\"train2014/COCO_train2014_000000120407.jpg\" ></img></td></tr></table>"
      ],
      "text/plain": [
       "<IPython.core.display.HTML object>"
      ]
     },
     "metadata": {},
     "output_type": "display_data"
    },
    {
     "data": {
      "text/html": [
       "<table><tr><td><img width=300 src=\"train2014/COCO_train2014_000000120407.jpg\" ></img></td><td><img width=300 src=\"train2014/COCO_train2014_000000349204.jpg\" ></img></td><td><img width=300 src=\"train2014/COCO_train2014_000000254130.jpg\" ></img></td><td><img width=300 src=\"train2014/COCO_train2014_000000419029.jpg\" ></img></td><td><img width=300 src=\"train2014/COCO_train2014_000000395614.jpg\" ></img></td></tr><tr><td><b>0.2765</b></td><td><b>0.0928</b></td><td><b>0.0715</b></td><td><b>0.0603</b></td><td><b>0.0558</b></td></tr><tr><td><img width=300 src=\"train2014/COCO_train2014_000000532124.jpg\" ></img></td><td><img width=300 src=\"val2014/COCO_val2014_000000434159.jpg\" ></img></td><td><img width=300 src=\"train2014/COCO_train2014_000000278293.jpg\" ></img></td><td><img width=300 src=\"train2014/COCO_train2014_000000510365.jpg\" ></img></td><td><img width=300 src=\"val2014/COCO_val2014_000000515660.jpg\" ></img></td></tr><tr><td><b>0.0503</b></td><td><b>0.0472</b></td><td><b>0.0464</b></td><td><b>0.0386</b></td><td><b>0.0383</b></td></tr><tr><td><img width=300 src=\"train2014/COCO_train2014_000000399009.jpg\" ></img></td><td><img width=300 src=\"val2014/COCO_val2014_000000034826.jpg\" ></img></td><td><img width=300 src=\"train2014/COCO_train2014_000000468713.jpg\" ></img></td><td><img width=300 src=\"train2014/COCO_train2014_000000455654.jpg\" ></img></td><td><img width=300 src=\"train2014/COCO_train2014_000000128002.jpg\" ></img></td></tr><tr><td><b>0.0269</b></td><td><b>0.0244</b></td><td><b>0.0222</b></td><td><b>0.0202</b></td><td><b>0.0150</b></td></tr><tr><td><img width=300 src=\"train2014/COCO_train2014_000000267435.jpg\" ></img></td><td><img width=300 src=\"train2014/COCO_train2014_000000048220.jpg\" ></img></td><td><img width=300 src=\"train2014/COCO_train2014_000000497537.jpg\" ></img></td><td><img width=300 src=\"train2014/COCO_train2014_000000334039.jpg\" ></img></td><td><img width=300 src=\"val2014/COCO_val2014_000000449089.jpg\" ></img></td></tr><tr><td><b>0.0133</b></td><td><b>0.0113</b></td><td><b>0.0096</b></td><td><b>0.0079</b></td><td><b>0.0075</b></td></tr><tr><td><img width=300 src=\"val2014/COCO_val2014_000000530765.jpg\" ></img></td><td><img width=300 src=\"train2014/COCO_train2014_000000390934.jpg\" ></img></td><td><img width=300 src=\"val2014/COCO_val2014_000000169690.jpg\" ></img></td><td><img width=300 src=\"val2014/COCO_val2014_000000194716.jpg\" ></img></td><td><img width=300 src=\"train2014/COCO_train2014_000000541950.jpg\" ></img></td></tr><tr><td><b>0.0075</b></td><td><b>0.0066</b></td><td><b>0.0048</b></td><td><b>0.0044</b></td><td><b>0.0042</b></td></tr><tr><td><img width=300 src=\"val2014/COCO_val2014_000000270702.jpg\" ></img></td><td><img width=300 src=\"val2014/COCO_val2014_000000267315.jpg\" ></img></td><td><img width=300 src=\"train2014/COCO_train2014_000000001098.jpg\" ></img></td><td><img width=300 src=\"train2014/COCO_train2014_000000282450.jpg\" ></img></td><td><img width=300 src=\"train2014/COCO_train2014_000000184937.jpg\" ></img></td></tr><tr><td><b>0.0034</b></td><td><b>0.0034</b></td><td><b>0.0031</b></td><td><b>0.0031</b></td><td><b>0.0028</b></td></tr><tr><td><img width=300 src=\"train2014/COCO_train2014_000000056594.jpg\" ></img></td><td><img width=300 src=\"val2014/COCO_val2014_000000430867.jpg\" ></img></td><td><img width=300 src=\"val2014/COCO_val2014_000000212545.jpg\" ></img></td><td><img width=300 src=\"val2014/COCO_val2014_000000011696.jpg\" ></img></td><td><img width=300 src=\"train2014/COCO_train2014_000000277050.jpg\" ></img></td></tr><tr><td><b>0.0028</b></td><td><b>0.0027</b></td><td><b>0.0023</b></td><td><b>0.0022</b></td><td><b>0.0021</b></td></tr><tr><td><img width=300 src=\"train2014/COCO_train2014_000000283451.jpg\" ></img></td><td><img width=300 src=\"val2014/COCO_val2014_000000363321.jpg\" ></img></td><td><img width=300 src=\"val2014/COCO_val2014_000000361217.jpg\" ></img></td><td><img width=300 src=\"train2014/COCO_train2014_000000430394.jpg\" ></img></td><td><img width=300 src=\"train2014/COCO_train2014_000000478675.jpg\" ></img></td></tr><tr><td><b>0.0020</b></td><td><b>0.0018</b></td><td><b>0.0016</b></td><td><b>0.0016</b></td><td><b>0.0014</b></td></tr></table>"
      ],
      "text/plain": [
       "<IPython.core.display.HTML object>"
      ]
     },
     "metadata": {},
     "output_type": "display_data"
    },
    {
     "name": "stdout",
     "output_type": "stream",
     "text": [
      "\n"
     ]
    },
    {
     "data": {
      "text/html": [
       "<table><tr><td><img width=300 src=\"val2014/COCO_val2014_000000360772.jpg\" ></img></td><td><img width=300 src=\"val2014/COCO_val2014_000000360772.jpg\" ></img></td></tr><tr><td><b>normal</b></td><td><b>contrastive</b></td></tr><tr><td><ol><li>a white toilet sitting in a bathroom next to a wall</li><li>a white toilet sitting in a bathroom next to a trash can</li><li>a bathroom with a toilet and a sink</li><li>a white toilet in a bathroom next to a trash can</li><li>a white toilet sitting in a bathroom next to a sink</li></ol></td><td><ol><li>a white toilet sitting in a bathroom next to a wall</li><li>a white toilet sitting in a bathroom next to a trash can</li><li>a bathroom with a toilet and a sink</li><li>a white toilet in a bathroom next to a trash can</li><li>a white toilet sitting in a bathroom next to a sink</li></ol></td></tr></table>"
      ],
      "text/plain": [
       "<IPython.core.display.HTML object>"
      ]
     },
     "metadata": {},
     "output_type": "display_data"
    },
    {
     "data": {
      "text/html": [
       "<table><tr><td><img width=300 src=\"val2014/COCO_val2014_000000360772.jpg\" ></img></td><td><img width=300 src=\"train2014/COCO_train2014_000000309635.jpg\" ></img></td></tr></table>"
      ],
      "text/plain": [
       "<IPython.core.display.HTML object>"
      ]
     },
     "metadata": {},
     "output_type": "display_data"
    },
    {
     "data": {
      "text/html": [
       "<table><tr><td><img width=300 src=\"train2014/COCO_train2014_000000309635.jpg\" ></img></td><td><img width=300 src=\"val2014/COCO_val2014_000000570171.jpg\" ></img></td><td><img width=300 src=\"val2014/COCO_val2014_000000295124.jpg\" ></img></td><td><img width=300 src=\"val2014/COCO_val2014_000000460972.jpg\" ></img></td><td><img width=300 src=\"train2014/COCO_train2014_000000192167.jpg\" ></img></td></tr><tr><td><b>0.1809</b></td><td><b>0.1617</b></td><td><b>0.1523</b></td><td><b>0.1044</b></td><td><b>0.0817</b></td></tr><tr><td><img width=300 src=\"train2014/COCO_train2014_000000387492.jpg\" ></img></td><td><img width=300 src=\"train2014/COCO_train2014_000000002135.jpg\" ></img></td><td><img width=300 src=\"train2014/COCO_train2014_000000174773.jpg\" ></img></td><td><img width=300 src=\"val2014/COCO_val2014_000000446058.jpg\" ></img></td><td><img width=300 src=\"train2014/COCO_train2014_000000299066.jpg\" ></img></td></tr><tr><td><b>0.0619</b></td><td><b>0.0554</b></td><td><b>0.0498</b></td><td><b>0.0468</b></td><td><b>0.0381</b></td></tr><tr><td><img width=300 src=\"train2014/COCO_train2014_000000444262.jpg\" ></img></td><td><img width=300 src=\"train2014/COCO_train2014_000000197635.jpg\" ></img></td><td><img width=300 src=\"train2014/COCO_train2014_000000341596.jpg\" ></img></td><td><img width=300 src=\"train2014/COCO_train2014_000000266031.jpg\" ></img></td><td><img width=300 src=\"val2014/COCO_val2014_000000161877.jpg\" ></img></td></tr><tr><td><b>0.0290</b></td><td><b>0.0226</b></td><td><b>0.0058</b></td><td><b>0.0053</b></td><td><b>0.0023</b></td></tr><tr><td><img width=300 src=\"train2014/COCO_train2014_000000093030.jpg\" ></img></td><td><img width=300 src=\"train2014/COCO_train2014_000000015089.jpg\" ></img></td><td><img width=300 src=\"train2014/COCO_train2014_000000534049.jpg\" ></img></td><td><img width=300 src=\"val2014/COCO_val2014_000000321118.jpg\" ></img></td><td><img width=300 src=\"val2014/COCO_val2014_000000419848.jpg\" ></img></td></tr><tr><td><b>0.0019</b></td><td><b>0.0002</b></td><td><b>0.0000</b></td><td><b>0.0000</b></td><td><b>0.0000</b></td></tr><tr><td><img width=300 src=\"train2014/COCO_train2014_000000208754.jpg\" ></img></td><td><img width=300 src=\"train2014/COCO_train2014_000000428120.jpg\" ></img></td><td><img width=300 src=\"train2014/COCO_train2014_000000567179.jpg\" ></img></td><td><img width=300 src=\"train2014/COCO_train2014_000000386560.jpg\" ></img></td><td><img width=300 src=\"val2014/COCO_val2014_000000012323.jpg\" ></img></td></tr><tr><td><b>0.0000</b></td><td><b>0.0000</b></td><td><b>0.0000</b></td><td><b>0.0000</b></td><td><b>0.0000</b></td></tr><tr><td><img width=300 src=\"val2014/COCO_val2014_000000371069.jpg\" ></img></td><td><img width=300 src=\"val2014/COCO_val2014_000000212074.jpg\" ></img></td><td><img width=300 src=\"train2014/COCO_train2014_000000079193.jpg\" ></img></td><td><img width=300 src=\"train2014/COCO_train2014_000000472831.jpg\" ></img></td><td><img width=300 src=\"val2014/COCO_val2014_000000126941.jpg\" ></img></td></tr><tr><td><b>0.0000</b></td><td><b>0.0000</b></td><td><b>0.0000</b></td><td><b>0.0000</b></td><td><b>0.0000</b></td></tr><tr><td><img width=300 src=\"train2014/COCO_train2014_000000095337.jpg\" ></img></td><td><img width=300 src=\"train2014/COCO_train2014_000000415089.jpg\" ></img></td><td><img width=300 src=\"train2014/COCO_train2014_000000132454.jpg\" ></img></td><td><img width=300 src=\"train2014/COCO_train2014_000000005277.jpg\" ></img></td><td><img width=300 src=\"train2014/COCO_train2014_000000125955.jpg\" ></img></td></tr><tr><td><b>0.0000</b></td><td><b>0.0000</b></td><td><b>0.0000</b></td><td><b>0.0000</b></td><td><b>0.0000</b></td></tr><tr><td><img width=300 src=\"train2014/COCO_train2014_000000134835.jpg\" ></img></td><td><img width=300 src=\"train2014/COCO_train2014_000000201686.jpg\" ></img></td><td><img width=300 src=\"val2014/COCO_val2014_000000014921.jpg\" ></img></td><td><img width=300 src=\"val2014/COCO_val2014_000000561563.jpg\" ></img></td><td><img width=300 src=\"train2014/COCO_train2014_000000405729.jpg\" ></img></td></tr><tr><td><b>0.0000</b></td><td><b>0.0000</b></td><td><b>0.0000</b></td><td><b>0.0000</b></td><td><b>0.0000</b></td></tr></table>"
      ],
      "text/plain": [
       "<IPython.core.display.HTML object>"
      ]
     },
     "metadata": {},
     "output_type": "display_data"
    },
    {
     "name": "stdout",
     "output_type": "stream",
     "text": [
      "\n"
     ]
    },
    {
     "data": {
      "text/html": [
       "<table><tr><td><img width=300 src=\"val2014/COCO_val2014_000000340559.jpg\" ></img></td><td><img width=300 src=\"val2014/COCO_val2014_000000340559.jpg\" ></img></td></tr><tr><td><b>normal</b></td><td><b>contrastive</b></td></tr><tr><td><ol><li>a kitchen with a sink and a refrigerator</li><li>a kitchen with a refrigerator and a sink</li><li>a kitchen that has a sink in it</li><li>a kitchen that has a sink and a refrigerator in it</li><li>a kitchen with a sink and a refrigerator in it</li></ol></td><td><ol><li>a kitchen with a sink and a refrigerator</li><li>a kitchen with a refrigerator and a sink</li><li>a kitchen that has a sink in it</li><li>a kitchen that has a sink and a refrigerator in it</li><li>a kitchen with a sink and a refrigerator in it</li></ol></td></tr></table>"
      ],
      "text/plain": [
       "<IPython.core.display.HTML object>"
      ]
     },
     "metadata": {},
     "output_type": "display_data"
    },
    {
     "data": {
      "text/html": [
       "<table><tr><td><img width=300 src=\"val2014/COCO_val2014_000000340559.jpg\" ></img></td><td><img width=300 src=\"train2014/COCO_train2014_000000460038.jpg\" ></img></td></tr></table>"
      ],
      "text/plain": [
       "<IPython.core.display.HTML object>"
      ]
     },
     "metadata": {},
     "output_type": "display_data"
    },
    {
     "data": {
      "text/html": [
       "<table><tr><td><img width=300 src=\"train2014/COCO_train2014_000000460038.jpg\" ></img></td><td><img width=300 src=\"val2014/COCO_val2014_000000443784.jpg\" ></img></td><td><img width=300 src=\"train2014/COCO_train2014_000000044167.jpg\" ></img></td><td><img width=300 src=\"train2014/COCO_train2014_000000290754.jpg\" ></img></td><td><img width=300 src=\"val2014/COCO_val2014_000000488500.jpg\" ></img></td></tr><tr><td><b>0.1717</b></td><td><b>0.1506</b></td><td><b>0.1279</b></td><td><b>0.1226</b></td><td><b>0.1069</b></td></tr><tr><td><img width=300 src=\"train2014/COCO_train2014_000000220072.jpg\" ></img></td><td><img width=300 src=\"train2014/COCO_train2014_000000244711.jpg\" ></img></td><td><img width=300 src=\"train2014/COCO_train2014_000000415909.jpg\" ></img></td><td><img width=300 src=\"val2014/COCO_val2014_000000400853.jpg\" ></img></td><td><img width=300 src=\"train2014/COCO_train2014_000000366414.jpg\" ></img></td></tr><tr><td><b>0.0904</b></td><td><b>0.0884</b></td><td><b>0.0756</b></td><td><b>0.0398</b></td><td><b>0.0127</b></td></tr><tr><td><img width=300 src=\"train2014/COCO_train2014_000000480200.jpg\" ></img></td><td><img width=300 src=\"val2014/COCO_val2014_000000520694.jpg\" ></img></td><td><img width=300 src=\"val2014/COCO_val2014_000000444879.jpg\" ></img></td><td><img width=300 src=\"val2014/COCO_val2014_000000374184.jpg\" ></img></td><td><img width=300 src=\"train2014/COCO_train2014_000000573632.jpg\" ></img></td></tr><tr><td><b>0.0069</b></td><td><b>0.0045</b></td><td><b>0.0020</b></td><td><b>0.0000</b></td><td><b>0.0000</b></td></tr><tr><td><img width=300 src=\"train2014/COCO_train2014_000000295154.jpg\" ></img></td><td><img width=300 src=\"val2014/COCO_val2014_000000146465.jpg\" ></img></td><td><img width=300 src=\"train2014/COCO_train2014_000000205762.jpg\" ></img></td><td><img width=300 src=\"val2014/COCO_val2014_000000042568.jpg\" ></img></td><td><img width=300 src=\"val2014/COCO_val2014_000000146774.jpg\" ></img></td></tr><tr><td><b>0.0000</b></td><td><b>0.0000</b></td><td><b>0.0000</b></td><td><b>0.0000</b></td><td><b>0.0000</b></td></tr><tr><td><img width=300 src=\"val2014/COCO_val2014_000000329341.jpg\" ></img></td><td><img width=300 src=\"train2014/COCO_train2014_000000332690.jpg\" ></img></td><td><img width=300 src=\"train2014/COCO_train2014_000000220428.jpg\" ></img></td><td><img width=300 src=\"val2014/COCO_val2014_000000452793.jpg\" ></img></td><td><img width=300 src=\"train2014/COCO_train2014_000000486989.jpg\" ></img></td></tr><tr><td><b>0.0000</b></td><td><b>0.0000</b></td><td><b>0.0000</b></td><td><b>0.0000</b></td><td><b>0.0000</b></td></tr><tr><td><img width=300 src=\"train2014/COCO_train2014_000000375728.jpg\" ></img></td><td><img width=300 src=\"val2014/COCO_val2014_000000121828.jpg\" ></img></td><td><img width=300 src=\"train2014/COCO_train2014_000000183398.jpg\" ></img></td><td><img width=300 src=\"train2014/COCO_train2014_000000310766.jpg\" ></img></td><td><img width=300 src=\"train2014/COCO_train2014_000000165955.jpg\" ></img></td></tr><tr><td><b>0.0000</b></td><td><b>0.0000</b></td><td><b>0.0000</b></td><td><b>0.0000</b></td><td><b>0.0000</b></td></tr><tr><td><img width=300 src=\"train2014/COCO_train2014_000000390951.jpg\" ></img></td><td><img width=300 src=\"train2014/COCO_train2014_000000432201.jpg\" ></img></td><td><img width=300 src=\"train2014/COCO_train2014_000000504336.jpg\" ></img></td><td><img width=300 src=\"val2014/COCO_val2014_000000070434.jpg\" ></img></td><td><img width=300 src=\"val2014/COCO_val2014_000000229311.jpg\" ></img></td></tr><tr><td><b>0.0000</b></td><td><b>0.0000</b></td><td><b>0.0000</b></td><td><b>0.0000</b></td><td><b>0.0000</b></td></tr><tr><td><img width=300 src=\"val2014/COCO_val2014_000000488349.jpg\" ></img></td><td><img width=300 src=\"train2014/COCO_train2014_000000342130.jpg\" ></img></td><td><img width=300 src=\"val2014/COCO_val2014_000000078266.jpg\" ></img></td><td><img width=300 src=\"train2014/COCO_train2014_000000083878.jpg\" ></img></td><td><img width=300 src=\"val2014/COCO_val2014_000000018918.jpg\" ></img></td></tr><tr><td><b>0.0000</b></td><td><b>0.0000</b></td><td><b>0.0000</b></td><td><b>0.0000</b></td><td><b>0.0000</b></td></tr></table>"
      ],
      "text/plain": [
       "<IPython.core.display.HTML object>"
      ]
     },
     "metadata": {},
     "output_type": "display_data"
    },
    {
     "name": "stdout",
     "output_type": "stream",
     "text": [
      "\n"
     ]
    },
    {
     "data": {
      "text/html": [
       "<table><tr><td><img width=300 src=\"val2014/COCO_val2014_000000321107.jpg\" ></img></td><td><img width=300 src=\"val2014/COCO_val2014_000000321107.jpg\" ></img></td></tr><tr><td><b>normal</b></td><td><b>contrastive</b></td></tr><tr><td><ol><li>a person riding a bike on a city street</li><li>a woman riding a bike down a street</li><li>a woman riding a bike down the street</li><li>a woman riding a bike down a street next to a car</li><li>a woman riding a bike down a street next to parked cars</li></ol></td><td><ol><li>a person riding a bike on a city street</li><li>a woman riding a bike down a street</li><li>a woman riding a bike down the street</li><li>a woman riding a bike down a street next to a car</li><li>a woman riding a bike down a street next to parked cars</li></ol></td></tr></table>"
      ],
      "text/plain": [
       "<IPython.core.display.HTML object>"
      ]
     },
     "metadata": {},
     "output_type": "display_data"
    },
    {
     "data": {
      "text/html": [
       "<table><tr><td><img width=300 src=\"val2014/COCO_val2014_000000321107.jpg\" ></img></td><td><img width=300 src=\"train2014/COCO_train2014_000000190575.jpg\" ></img></td></tr></table>"
      ],
      "text/plain": [
       "<IPython.core.display.HTML object>"
      ]
     },
     "metadata": {},
     "output_type": "display_data"
    },
    {
     "data": {
      "text/html": [
       "<table><tr><td><img width=300 src=\"train2014/COCO_train2014_000000190575.jpg\" ></img></td><td><img width=300 src=\"train2014/COCO_train2014_000000357057.jpg\" ></img></td><td><img width=300 src=\"train2014/COCO_train2014_000000104309.jpg\" ></img></td><td><img width=300 src=\"train2014/COCO_train2014_000000065842.jpg\" ></img></td><td><img width=300 src=\"val2014/COCO_val2014_000000134231.jpg\" ></img></td></tr><tr><td><b>0.1996</b></td><td><b>0.1518</b></td><td><b>0.1093</b></td><td><b>0.0940</b></td><td><b>0.0718</b></td></tr><tr><td><img width=300 src=\"val2014/COCO_val2014_000000002261.jpg\" ></img></td><td><img width=300 src=\"train2014/COCO_train2014_000000069510.jpg\" ></img></td><td><img width=300 src=\"train2014/COCO_train2014_000000336077.jpg\" ></img></td><td><img width=300 src=\"train2014/COCO_train2014_000000296403.jpg\" ></img></td><td><img width=300 src=\"train2014/COCO_train2014_000000522360.jpg\" ></img></td></tr><tr><td><b>0.0583</b></td><td><b>0.0554</b></td><td><b>0.0445</b></td><td><b>0.0377</b></td><td><b>0.0294</b></td></tr><tr><td><img width=300 src=\"train2014/COCO_train2014_000000106834.jpg\" ></img></td><td><img width=300 src=\"val2014/COCO_val2014_000000240250.jpg\" ></img></td><td><img width=300 src=\"train2014/COCO_train2014_000000569706.jpg\" ></img></td><td><img width=300 src=\"train2014/COCO_train2014_000000097049.jpg\" ></img></td><td><img width=300 src=\"val2014/COCO_val2014_000000563271.jpg\" ></img></td></tr><tr><td><b>0.0265</b></td><td><b>0.0237</b></td><td><b>0.0209</b></td><td><b>0.0207</b></td><td><b>0.0158</b></td></tr><tr><td><img width=300 src=\"train2014/COCO_train2014_000000414733.jpg\" ></img></td><td><img width=300 src=\"val2014/COCO_val2014_000000424712.jpg\" ></img></td><td><img width=300 src=\"train2014/COCO_train2014_000000131784.jpg\" ></img></td><td><img width=300 src=\"val2014/COCO_val2014_000000493846.jpg\" ></img></td><td><img width=300 src=\"train2014/COCO_train2014_000000162547.jpg\" ></img></td></tr><tr><td><b>0.0155</b></td><td><b>0.0080</b></td><td><b>0.0033</b></td><td><b>0.0026</b></td><td><b>0.0025</b></td></tr><tr><td><img width=300 src=\"train2014/COCO_train2014_000000472896.jpg\" ></img></td><td><img width=300 src=\"train2014/COCO_train2014_000000162355.jpg\" ></img></td><td><img width=300 src=\"val2014/COCO_val2014_000000016961.jpg\" ></img></td><td><img width=300 src=\"train2014/COCO_train2014_000000304134.jpg\" ></img></td><td><img width=300 src=\"train2014/COCO_train2014_000000380820.jpg\" ></img></td></tr><tr><td><b>0.0024</b></td><td><b>0.0011</b></td><td><b>0.0006</b></td><td><b>0.0005</b></td><td><b>0.0005</b></td></tr><tr><td><img width=300 src=\"val2014/COCO_val2014_000000087920.jpg\" ></img></td><td><img width=300 src=\"val2014/COCO_val2014_000000424641.jpg\" ></img></td><td><img width=300 src=\"train2014/COCO_train2014_000000041459.jpg\" ></img></td><td><img width=300 src=\"train2014/COCO_train2014_000000329755.jpg\" ></img></td><td><img width=300 src=\"train2014/COCO_train2014_000000262967.jpg\" ></img></td></tr><tr><td><b>0.0005</b></td><td><b>0.0005</b></td><td><b>0.0005</b></td><td><b>0.0004</b></td><td><b>0.0003</b></td></tr><tr><td><img width=300 src=\"train2014/COCO_train2014_000000284256.jpg\" ></img></td><td><img width=300 src=\"train2014/COCO_train2014_000000489107.jpg\" ></img></td><td><img width=300 src=\"train2014/COCO_train2014_000000001053.jpg\" ></img></td><td><img width=300 src=\"train2014/COCO_train2014_000000143151.jpg\" ></img></td><td><img width=300 src=\"val2014/COCO_val2014_000000315564.jpg\" ></img></td></tr><tr><td><b>0.0003</b></td><td><b>0.0003</b></td><td><b>0.0003</b></td><td><b>0.0001</b></td><td><b>0.0001</b></td></tr><tr><td><img width=300 src=\"train2014/COCO_train2014_000000363455.jpg\" ></img></td><td><img width=300 src=\"train2014/COCO_train2014_000000539358.jpg\" ></img></td><td><img width=300 src=\"train2014/COCO_train2014_000000298906.jpg\" ></img></td><td><img width=300 src=\"train2014/COCO_train2014_000000151778.jpg\" ></img></td><td><img width=300 src=\"train2014/COCO_train2014_000000362499.jpg\" ></img></td></tr><tr><td><b>0.0001</b></td><td><b>0.0001</b></td><td><b>0.0000</b></td><td><b>0.0000</b></td><td><b>0.0000</b></td></tr></table>"
      ],
      "text/plain": [
       "<IPython.core.display.HTML object>"
      ]
     },
     "metadata": {},
     "output_type": "display_data"
    },
    {
     "name": "stdout",
     "output_type": "stream",
     "text": [
      "\n"
     ]
    },
    {
     "data": {
      "text/html": [
       "<table><tr><td><img width=300 src=\"val2014/COCO_val2014_000000129001.jpg\" ></img></td><td><img width=300 src=\"val2014/COCO_val2014_000000129001.jpg\" ></img></td></tr><tr><td><b>normal</b></td><td><b>contrastive</b></td></tr><tr><td><ol><li>a bath room with a toilet a sink and a bath tub</li><li>a bathroom with a shower and a sink</li><li>a bath room with a toilet a bath tub and a sink</li><li>a bath room with a toilet and a sink</li><li>a bath room with a toilet a sink and a mirror</li></ol></td><td><ol><li>a bathroom with a shower and a sink</li><li>a bathroom with a sink toilet and shower</li><li>a bathroom with blue walls and a blue shower curtain</li><li>a bathroom with blue walls and a white toilet</li><li>a bathroom with a blue shower curtain and a blue shower curtain</li></ol></td></tr></table>"
      ],
      "text/plain": [
       "<IPython.core.display.HTML object>"
      ]
     },
     "metadata": {},
     "output_type": "display_data"
    },
    {
     "data": {
      "text/html": [
       "<table><tr><td><img width=300 src=\"val2014/COCO_val2014_000000129001.jpg\" ></img></td><td><img width=300 src=\"train2014/COCO_train2014_000000098746.jpg\" ></img></td></tr></table>"
      ],
      "text/plain": [
       "<IPython.core.display.HTML object>"
      ]
     },
     "metadata": {},
     "output_type": "display_data"
    },
    {
     "data": {
      "text/html": [
       "<table><tr><td><img width=300 src=\"train2014/COCO_train2014_000000098746.jpg\" ></img></td><td><img width=300 src=\"val2014/COCO_val2014_000000413001.jpg\" ></img></td><td><img width=300 src=\"train2014/COCO_train2014_000000577246.jpg\" ></img></td><td><img width=300 src=\"train2014/COCO_train2014_000000524718.jpg\" ></img></td><td><img width=300 src=\"train2014/COCO_train2014_000000272101.jpg\" ></img></td></tr><tr><td><b>0.1765</b></td><td><b>0.1254</b></td><td><b>0.1083</b></td><td><b>0.1072</b></td><td><b>0.1065</b></td></tr><tr><td><img width=300 src=\"train2014/COCO_train2014_000000059293.jpg\" ></img></td><td><img width=300 src=\"val2014/COCO_val2014_000000062347.jpg\" ></img></td><td><img width=300 src=\"train2014/COCO_train2014_000000523737.jpg\" ></img></td><td><img width=300 src=\"train2014/COCO_train2014_000000231502.jpg\" ></img></td><td><img width=300 src=\"train2014/COCO_train2014_000000446521.jpg\" ></img></td></tr><tr><td><b>0.1049</b></td><td><b>0.0934</b></td><td><b>0.0763</b></td><td><b>0.0514</b></td><td><b>0.0186</b></td></tr><tr><td><img width=300 src=\"train2014/COCO_train2014_000000315324.jpg\" ></img></td><td><img width=300 src=\"train2014/COCO_train2014_000000043558.jpg\" ></img></td><td><img width=300 src=\"train2014/COCO_train2014_000000426510.jpg\" ></img></td><td><img width=300 src=\"train2014/COCO_train2014_000000108575.jpg\" ></img></td><td><img width=300 src=\"val2014/COCO_val2014_000000189752.jpg\" ></img></td></tr><tr><td><b>0.0185</b></td><td><b>0.0072</b></td><td><b>0.0051</b></td><td><b>0.0005</b></td><td><b>0.0001</b></td></tr><tr><td><img width=300 src=\"train2014/COCO_train2014_000000069257.jpg\" ></img></td><td><img width=300 src=\"train2014/COCO_train2014_000000358767.jpg\" ></img></td><td><img width=300 src=\"val2014/COCO_val2014_000000409125.jpg\" ></img></td><td><img width=300 src=\"val2014/COCO_val2014_000000383606.jpg\" ></img></td><td><img width=300 src=\"train2014/COCO_train2014_000000042086.jpg\" ></img></td></tr><tr><td><b>0.0000</b></td><td><b>0.0000</b></td><td><b>0.0000</b></td><td><b>0.0000</b></td><td><b>0.0000</b></td></tr><tr><td><img width=300 src=\"train2014/COCO_train2014_000000369331.jpg\" ></img></td><td><img width=300 src=\"train2014/COCO_train2014_000000522620.jpg\" ></img></td><td><img width=300 src=\"val2014/COCO_val2014_000000356299.jpg\" ></img></td><td><img width=300 src=\"train2014/COCO_train2014_000000140438.jpg\" ></img></td><td><img width=300 src=\"train2014/COCO_train2014_000000037126.jpg\" ></img></td></tr><tr><td><b>0.0000</b></td><td><b>0.0000</b></td><td><b>0.0000</b></td><td><b>0.0000</b></td><td><b>0.0000</b></td></tr><tr><td><img width=300 src=\"train2014/COCO_train2014_000000181104.jpg\" ></img></td><td><img width=300 src=\"train2014/COCO_train2014_000000491063.jpg\" ></img></td><td><img width=300 src=\"val2014/COCO_val2014_000000134715.jpg\" ></img></td><td><img width=300 src=\"val2014/COCO_val2014_000000449731.jpg\" ></img></td><td><img width=300 src=\"train2014/COCO_train2014_000000254604.jpg\" ></img></td></tr><tr><td><b>0.0000</b></td><td><b>0.0000</b></td><td><b>0.0000</b></td><td><b>0.0000</b></td><td><b>0.0000</b></td></tr><tr><td><img width=300 src=\"train2014/COCO_train2014_000000291786.jpg\" ></img></td><td><img width=300 src=\"val2014/COCO_val2014_000000531111.jpg\" ></img></td><td><img width=300 src=\"train2014/COCO_train2014_000000412090.jpg\" ></img></td><td><img width=300 src=\"train2014/COCO_train2014_000000216116.jpg\" ></img></td><td><img width=300 src=\"train2014/COCO_train2014_000000187972.jpg\" ></img></td></tr><tr><td><b>0.0000</b></td><td><b>0.0000</b></td><td><b>0.0000</b></td><td><b>0.0000</b></td><td><b>0.0000</b></td></tr><tr><td><img width=300 src=\"val2014/COCO_val2014_000000303928.jpg\" ></img></td><td><img width=300 src=\"val2014/COCO_val2014_000000324253.jpg\" ></img></td><td><img width=300 src=\"train2014/COCO_train2014_000000502808.jpg\" ></img></td><td><img width=300 src=\"train2014/COCO_train2014_000000037880.jpg\" ></img></td><td><img width=300 src=\"train2014/COCO_train2014_000000566489.jpg\" ></img></td></tr><tr><td><b>0.0000</b></td><td><b>0.0000</b></td><td><b>0.0000</b></td><td><b>0.0000</b></td><td><b>0.0000</b></td></tr></table>"
      ],
      "text/plain": [
       "<IPython.core.display.HTML object>"
      ]
     },
     "metadata": {},
     "output_type": "display_data"
    },
    {
     "name": "stdout",
     "output_type": "stream",
     "text": [
      "\n"
     ]
    },
    {
     "data": {
      "text/html": [
       "<table><tr><td><img width=300 src=\"val2014/COCO_val2014_000000556616.jpg\" ></img></td><td><img width=300 src=\"val2014/COCO_val2014_000000556616.jpg\" ></img></td></tr><tr><td><b>normal</b></td><td><b>contrastive</b></td></tr><tr><td><ol><li>a group of parking meters on a city street</li><li>a row of parking meters sitting on the side of a road</li><li>a group of parking meters sitting on the side of a road</li><li>a row of parking meters sitting on the side of a street</li><li>a row of parking meters sitting next to each other</li></ol></td><td><ol><li>a group of parking meters on a city street</li><li>a row of parking meters sitting on the side of a road</li><li>a group of parking meters sitting on the side of a road</li><li>a row of parking meters sitting on the side of a street</li><li>a row of parking meters sitting next to each other</li></ol></td></tr></table>"
      ],
      "text/plain": [
       "<IPython.core.display.HTML object>"
      ]
     },
     "metadata": {},
     "output_type": "display_data"
    },
    {
     "data": {
      "text/html": [
       "<table><tr><td><img width=300 src=\"val2014/COCO_val2014_000000556616.jpg\" ></img></td><td><img width=300 src=\"train2014/COCO_train2014_000000524572.jpg\" ></img></td></tr></table>"
      ],
      "text/plain": [
       "<IPython.core.display.HTML object>"
      ]
     },
     "metadata": {},
     "output_type": "display_data"
    },
    {
     "data": {
      "text/html": [
       "<table><tr><td><img width=300 src=\"train2014/COCO_train2014_000000524572.jpg\" ></img></td><td><img width=300 src=\"train2014/COCO_train2014_000000429227.jpg\" ></img></td><td><img width=300 src=\"train2014/COCO_train2014_000000003286.jpg\" ></img></td><td><img width=300 src=\"train2014/COCO_train2014_000000433078.jpg\" ></img></td><td><img width=300 src=\"train2014/COCO_train2014_000000201630.jpg\" ></img></td></tr><tr><td><b>0.1468</b></td><td><b>0.1454</b></td><td><b>0.1185</b></td><td><b>0.1073</b></td><td><b>0.0994</b></td></tr><tr><td><img width=300 src=\"train2014/COCO_train2014_000000323104.jpg\" ></img></td><td><img width=300 src=\"train2014/COCO_train2014_000000258819.jpg\" ></img></td><td><img width=300 src=\"train2014/COCO_train2014_000000413198.jpg\" ></img></td><td><img width=300 src=\"train2014/COCO_train2014_000000203621.jpg\" ></img></td><td><img width=300 src=\"train2014/COCO_train2014_000000248419.jpg\" ></img></td></tr><tr><td><b>0.0847</b></td><td><b>0.0775</b></td><td><b>0.0755</b></td><td><b>0.0505</b></td><td><b>0.0422</b></td></tr><tr><td><img width=300 src=\"train2014/COCO_train2014_000000357799.jpg\" ></img></td><td><img width=300 src=\"train2014/COCO_train2014_000000479469.jpg\" ></img></td><td><img width=300 src=\"train2014/COCO_train2014_000000313301.jpg\" ></img></td><td><img width=300 src=\"val2014/COCO_val2014_000000513971.jpg\" ></img></td><td><img width=300 src=\"val2014/COCO_val2014_000000109907.jpg\" ></img></td></tr><tr><td><b>0.0310</b></td><td><b>0.0075</b></td><td><b>0.0043</b></td><td><b>0.0033</b></td><td><b>0.0025</b></td></tr><tr><td><img width=300 src=\"train2014/COCO_train2014_000000446452.jpg\" ></img></td><td><img width=300 src=\"train2014/COCO_train2014_000000064417.jpg\" ></img></td><td><img width=300 src=\"train2014/COCO_train2014_000000081544.jpg\" ></img></td><td><img width=300 src=\"train2014/COCO_train2014_000000016040.jpg\" ></img></td><td><img width=300 src=\"train2014/COCO_train2014_000000488367.jpg\" ></img></td></tr><tr><td><b>0.0021</b></td><td><b>0.0009</b></td><td><b>0.0002</b></td><td><b>0.0001</b></td><td><b>0.0000</b></td></tr><tr><td><img width=300 src=\"val2014/COCO_val2014_000000503467.jpg\" ></img></td><td><img width=300 src=\"train2014/COCO_train2014_000000574623.jpg\" ></img></td><td><img width=300 src=\"train2014/COCO_train2014_000000219756.jpg\" ></img></td><td><img width=300 src=\"train2014/COCO_train2014_000000270790.jpg\" ></img></td><td><img width=300 src=\"train2014/COCO_train2014_000000172637.jpg\" ></img></td></tr><tr><td><b>0.0000</b></td><td><b>0.0000</b></td><td><b>0.0000</b></td><td><b>0.0000</b></td><td><b>0.0000</b></td></tr><tr><td><img width=300 src=\"train2014/COCO_train2014_000000525075.jpg\" ></img></td><td><img width=300 src=\"train2014/COCO_train2014_000000517920.jpg\" ></img></td><td><img width=300 src=\"train2014/COCO_train2014_000000068789.jpg\" ></img></td><td><img width=300 src=\"val2014/COCO_val2014_000000135410.jpg\" ></img></td><td><img width=300 src=\"train2014/COCO_train2014_000000539767.jpg\" ></img></td></tr><tr><td><b>0.0000</b></td><td><b>0.0000</b></td><td><b>0.0000</b></td><td><b>0.0000</b></td><td><b>0.0000</b></td></tr><tr><td><img width=300 src=\"train2014/COCO_train2014_000000250268.jpg\" ></img></td><td><img width=300 src=\"train2014/COCO_train2014_000000357790.jpg\" ></img></td><td><img width=300 src=\"train2014/COCO_train2014_000000330993.jpg\" ></img></td><td><img width=300 src=\"train2014/COCO_train2014_000000485926.jpg\" ></img></td><td><img width=300 src=\"val2014/COCO_val2014_000000145039.jpg\" ></img></td></tr><tr><td><b>0.0000</b></td><td><b>0.0000</b></td><td><b>0.0000</b></td><td><b>0.0000</b></td><td><b>0.0000</b></td></tr><tr><td><img width=300 src=\"train2014/COCO_train2014_000000253528.jpg\" ></img></td><td><img width=300 src=\"val2014/COCO_val2014_000000302200.jpg\" ></img></td><td><img width=300 src=\"train2014/COCO_train2014_000000375053.jpg\" ></img></td><td><img width=300 src=\"train2014/COCO_train2014_000000221430.jpg\" ></img></td><td><img width=300 src=\"train2014/COCO_train2014_000000347715.jpg\" ></img></td></tr><tr><td><b>0.0000</b></td><td><b>0.0000</b></td><td><b>0.0000</b></td><td><b>0.0000</b></td><td><b>0.0000</b></td></tr></table>"
      ],
      "text/plain": [
       "<IPython.core.display.HTML object>"
      ]
     },
     "metadata": {},
     "output_type": "display_data"
    },
    {
     "name": "stdout",
     "output_type": "stream",
     "text": [
      "\n"
     ]
    },
    {
     "data": {
      "text/html": [
       "<table><tr><td><img width=300 src=\"val2014/COCO_val2014_000000472621.jpg\" ></img></td><td><img width=300 src=\"val2014/COCO_val2014_000000472621.jpg\" ></img></td></tr><tr><td><b>normal</b></td><td><b>contrastive</b></td></tr><tr><td><ol><li>a bathroom with a tub sink and mirror</li><li>a bathroom with two sinks and a bathtub</li><li>a bathroom with two sinks and a mirror</li><li>a bathroom with two sinks a tub and a mirror</li><li>a bathroom with two sinks a mirror and a bathtub</li></ol></td><td><ol><li>a bathroom with a tub sink and mirror</li><li>a bathroom with two sinks and a bathtub</li><li>a bathroom with two sinks and a mirror</li><li>a bathroom with two sinks a tub and a mirror</li><li>a bathroom with two sinks a mirror and a bathtub</li></ol></td></tr></table>"
      ],
      "text/plain": [
       "<IPython.core.display.HTML object>"
      ]
     },
     "metadata": {},
     "output_type": "display_data"
    },
    {
     "data": {
      "text/html": [
       "<table><tr><td><img width=300 src=\"val2014/COCO_val2014_000000472621.jpg\" ></img></td><td><img width=300 src=\"train2014/COCO_train2014_000000233690.jpg\" ></img></td></tr></table>"
      ],
      "text/plain": [
       "<IPython.core.display.HTML object>"
      ]
     },
     "metadata": {},
     "output_type": "display_data"
    },
    {
     "data": {
      "text/html": [
       "<table><tr><td><img width=300 src=\"train2014/COCO_train2014_000000233690.jpg\" ></img></td><td><img width=300 src=\"val2014/COCO_val2014_000000437117.jpg\" ></img></td><td><img width=300 src=\"train2014/COCO_train2014_000000142102.jpg\" ></img></td><td><img width=300 src=\"train2014/COCO_train2014_000000111694.jpg\" ></img></td><td><img width=300 src=\"val2014/COCO_val2014_000000458861.jpg\" ></img></td></tr><tr><td><b>0.1721</b></td><td><b>0.1655</b></td><td><b>0.1328</b></td><td><b>0.1149</b></td><td><b>0.1096</b></td></tr><tr><td><img width=300 src=\"train2014/COCO_train2014_000000111417.jpg\" ></img></td><td><img width=300 src=\"train2014/COCO_train2014_000000114943.jpg\" ></img></td><td><img width=300 src=\"train2014/COCO_train2014_000000025998.jpg\" ></img></td><td><img width=300 src=\"val2014/COCO_val2014_000000436603.jpg\" ></img></td><td><img width=300 src=\"train2014/COCO_train2014_000000158077.jpg\" ></img></td></tr><tr><td><b>0.0863</b></td><td><b>0.0675</b></td><td><b>0.0607</b></td><td><b>0.0347</b></td><td><b>0.0229</b></td></tr><tr><td><img width=300 src=\"train2014/COCO_train2014_000000575267.jpg\" ></img></td><td><img width=300 src=\"val2014/COCO_val2014_000000203846.jpg\" ></img></td><td><img width=300 src=\"train2014/COCO_train2014_000000296344.jpg\" ></img></td><td><img width=300 src=\"train2014/COCO_train2014_000000443749.jpg\" ></img></td><td><img width=300 src=\"val2014/COCO_val2014_000000057363.jpg\" ></img></td></tr><tr><td><b>0.0084</b></td><td><b>0.0080</b></td><td><b>0.0072</b></td><td><b>0.0048</b></td><td><b>0.0035</b></td></tr><tr><td><img width=300 src=\"train2014/COCO_train2014_000000091810.jpg\" ></img></td><td><img width=300 src=\"train2014/COCO_train2014_000000383348.jpg\" ></img></td><td><img width=300 src=\"train2014/COCO_train2014_000000357509.jpg\" ></img></td><td><img width=300 src=\"val2014/COCO_val2014_000000330531.jpg\" ></img></td><td><img width=300 src=\"train2014/COCO_train2014_000000371490.jpg\" ></img></td></tr><tr><td><b>0.0009</b></td><td><b>0.0000</b></td><td><b>0.0000</b></td><td><b>0.0000</b></td><td><b>0.0000</b></td></tr><tr><td><img width=300 src=\"train2014/COCO_train2014_000000401458.jpg\" ></img></td><td><img width=300 src=\"train2014/COCO_train2014_000000194289.jpg\" ></img></td><td><img width=300 src=\"train2014/COCO_train2014_000000328902.jpg\" ></img></td><td><img width=300 src=\"train2014/COCO_train2014_000000072845.jpg\" ></img></td><td><img width=300 src=\"train2014/COCO_train2014_000000415429.jpg\" ></img></td></tr><tr><td><b>0.0000</b></td><td><b>0.0000</b></td><td><b>0.0000</b></td><td><b>0.0000</b></td><td><b>0.0000</b></td></tr><tr><td><img width=300 src=\"train2014/COCO_train2014_000000188343.jpg\" ></img></td><td><img width=300 src=\"train2014/COCO_train2014_000000412267.jpg\" ></img></td><td><img width=300 src=\"val2014/COCO_val2014_000000530054.jpg\" ></img></td><td><img width=300 src=\"train2014/COCO_train2014_000000515287.jpg\" ></img></td><td><img width=300 src=\"train2014/COCO_train2014_000000155993.jpg\" ></img></td></tr><tr><td><b>0.0000</b></td><td><b>0.0000</b></td><td><b>0.0000</b></td><td><b>0.0000</b></td><td><b>0.0000</b></td></tr><tr><td><img width=300 src=\"train2014/COCO_train2014_000000461916.jpg\" ></img></td><td><img width=300 src=\"train2014/COCO_train2014_000000474732.jpg\" ></img></td><td><img width=300 src=\"val2014/COCO_val2014_000000300245.jpg\" ></img></td><td><img width=300 src=\"val2014/COCO_val2014_000000014282.jpg\" ></img></td><td><img width=300 src=\"train2014/COCO_train2014_000000263311.jpg\" ></img></td></tr><tr><td><b>0.0000</b></td><td><b>0.0000</b></td><td><b>0.0000</b></td><td><b>0.0000</b></td><td><b>0.0000</b></td></tr><tr><td><img width=300 src=\"train2014/COCO_train2014_000000504907.jpg\" ></img></td><td><img width=300 src=\"val2014/COCO_val2014_000000146999.jpg\" ></img></td><td><img width=300 src=\"val2014/COCO_val2014_000000108548.jpg\" ></img></td><td><img width=300 src=\"train2014/COCO_train2014_000000175291.jpg\" ></img></td><td><img width=300 src=\"train2014/COCO_train2014_000000343670.jpg\" ></img></td></tr><tr><td><b>0.0000</b></td><td><b>0.0000</b></td><td><b>0.0000</b></td><td><b>0.0000</b></td><td><b>0.0000</b></td></tr></table>"
      ],
      "text/plain": [
       "<IPython.core.display.HTML object>"
      ]
     },
     "metadata": {},
     "output_type": "display_data"
    },
    {
     "name": "stdout",
     "output_type": "stream",
     "text": [
      "\n"
     ]
    },
    {
     "data": {
      "text/html": [
       "<table><tr><td><img width=300 src=\"val2014/COCO_val2014_000000364521.jpg\" ></img></td><td><img width=300 src=\"val2014/COCO_val2014_000000364521.jpg\" ></img></td></tr><tr><td><b>normal</b></td><td><b>contrastive</b></td></tr><tr><td><ol><li>a yellow frisbee sitting on top of a yellow fire hydrant</li><li>a yellow fire hydrant sitting on top of a dirt field</li><li>a yellow fire hydrant sitting on top of a dirt road</li><li>a yellow fire hydrant sitting on top of a patch of dirt</li><li>a yellow fire hydrant sitting on top of a patch of grass</li></ol></td><td><ol><li>a yellow fire hydrant with a banana on it</li><li>a yellow fire hydrant sitting on top of a dirt field</li><li>a yellow fire hydrant with a yellow top</li><li>a yellow fire hydrant sitting on top of a dirt road</li><li>a yellow fire hydrant sitting on top of a patch of dirt</li></ol></td></tr></table>"
      ],
      "text/plain": [
       "<IPython.core.display.HTML object>"
      ]
     },
     "metadata": {},
     "output_type": "display_data"
    },
    {
     "data": {
      "text/html": [
       "<table><tr><td><img width=300 src=\"val2014/COCO_val2014_000000364521.jpg\" ></img></td><td><img width=300 src=\"train2014/COCO_train2014_000000332792.jpg\" ></img></td></tr></table>"
      ],
      "text/plain": [
       "<IPython.core.display.HTML object>"
      ]
     },
     "metadata": {},
     "output_type": "display_data"
    },
    {
     "data": {
      "text/html": [
       "<table><tr><td><img width=300 src=\"train2014/COCO_train2014_000000332792.jpg\" ></img></td><td><img width=300 src=\"train2014/COCO_train2014_000000260006.jpg\" ></img></td><td><img width=300 src=\"train2014/COCO_train2014_000000214782.jpg\" ></img></td><td><img width=300 src=\"train2014/COCO_train2014_000000409834.jpg\" ></img></td><td><img width=300 src=\"train2014/COCO_train2014_000000000634.jpg\" ></img></td></tr><tr><td><b>0.2883</b></td><td><b>0.1074</b></td><td><b>0.0800</b></td><td><b>0.0786</b></td><td><b>0.0785</b></td></tr><tr><td><img width=300 src=\"train2014/COCO_train2014_000000432727.jpg\" ></img></td><td><img width=300 src=\"val2014/COCO_val2014_000000505788.jpg\" ></img></td><td><img width=300 src=\"train2014/COCO_train2014_000000422064.jpg\" ></img></td><td><img width=300 src=\"val2014/COCO_val2014_000000118690.jpg\" ></img></td><td><img width=300 src=\"val2014/COCO_val2014_000000504024.jpg\" ></img></td></tr><tr><td><b>0.0662</b></td><td><b>0.0607</b></td><td><b>0.0564</b></td><td><b>0.0397</b></td><td><b>0.0389</b></td></tr><tr><td><img width=300 src=\"train2014/COCO_train2014_000000066976.jpg\" ></img></td><td><img width=300 src=\"train2014/COCO_train2014_000000348816.jpg\" ></img></td><td><img width=300 src=\"val2014/COCO_val2014_000000252201.jpg\" ></img></td><td><img width=300 src=\"val2014/COCO_val2014_000000279809.jpg\" ></img></td><td><img width=300 src=\"train2014/COCO_train2014_000000208913.jpg\" ></img></td></tr><tr><td><b>0.0268</b></td><td><b>0.0265</b></td><td><b>0.0148</b></td><td><b>0.0136</b></td><td><b>0.0119</b></td></tr><tr><td><img width=300 src=\"val2014/COCO_val2014_000000489209.jpg\" ></img></td><td><img width=300 src=\"val2014/COCO_val2014_000000358345.jpg\" ></img></td><td><img width=300 src=\"train2014/COCO_train2014_000000405630.jpg\" ></img></td><td><img width=300 src=\"train2014/COCO_train2014_000000225703.jpg\" ></img></td><td><img width=300 src=\"val2014/COCO_val2014_000000506803.jpg\" ></img></td></tr><tr><td><b>0.0092</b></td><td><b>0.0008</b></td><td><b>0.0005</b></td><td><b>0.0004</b></td><td><b>0.0003</b></td></tr><tr><td><img width=300 src=\"val2014/COCO_val2014_000000192763.jpg\" ></img></td><td><img width=300 src=\"train2014/COCO_train2014_000000545053.jpg\" ></img></td><td><img width=300 src=\"train2014/COCO_train2014_000000147196.jpg\" ></img></td><td><img width=300 src=\"train2014/COCO_train2014_000000143716.jpg\" ></img></td><td><img width=300 src=\"train2014/COCO_train2014_000000052091.jpg\" ></img></td></tr><tr><td><b>0.0002</b></td><td><b>0.0002</b></td><td><b>0.0001</b></td><td><b>0.0001</b></td><td><b>0.0000</b></td></tr><tr><td><img width=300 src=\"train2014/COCO_train2014_000000395703.jpg\" ></img></td><td><img width=300 src=\"val2014/COCO_val2014_000000267164.jpg\" ></img></td><td><img width=300 src=\"train2014/COCO_train2014_000000108602.jpg\" ></img></td><td><img width=300 src=\"val2014/COCO_val2014_000000052005.jpg\" ></img></td><td><img width=300 src=\"train2014/COCO_train2014_000000424739.jpg\" ></img></td></tr><tr><td><b>0.0000</b></td><td><b>0.0000</b></td><td><b>0.0000</b></td><td><b>0.0000</b></td><td><b>0.0000</b></td></tr><tr><td><img width=300 src=\"train2014/COCO_train2014_000000342139.jpg\" ></img></td><td><img width=300 src=\"train2014/COCO_train2014_000000172654.jpg\" ></img></td><td><img width=300 src=\"train2014/COCO_train2014_000000358065.jpg\" ></img></td><td><img width=300 src=\"train2014/COCO_train2014_000000421182.jpg\" ></img></td><td><img width=300 src=\"train2014/COCO_train2014_000000086071.jpg\" ></img></td></tr><tr><td><b>0.0000</b></td><td><b>0.0000</b></td><td><b>0.0000</b></td><td><b>0.0000</b></td><td><b>0.0000</b></td></tr><tr><td><img width=300 src=\"train2014/COCO_train2014_000000448077.jpg\" ></img></td><td><img width=300 src=\"train2014/COCO_train2014_000000565160.jpg\" ></img></td><td><img width=300 src=\"val2014/COCO_val2014_000000131416.jpg\" ></img></td><td><img width=300 src=\"train2014/COCO_train2014_000000355647.jpg\" ></img></td><td><img width=300 src=\"val2014/COCO_val2014_000000337247.jpg\" ></img></td></tr><tr><td><b>0.0000</b></td><td><b>0.0000</b></td><td><b>0.0000</b></td><td><b>0.0000</b></td><td><b>0.0000</b></td></tr></table>"
      ],
      "text/plain": [
       "<IPython.core.display.HTML object>"
      ]
     },
     "metadata": {},
     "output_type": "display_data"
    },
    {
     "name": "stdout",
     "output_type": "stream",
     "text": [
      "\n"
     ]
    }
   ],
   "source": [
    "# rinetuned-resume 1.0 with closest+random\n",
    "display_em_model(batch, k=20, neighbor_types=['closest', 'random'], choose_distractor=True)"
   ]
  },
  {
   "cell_type": "code",
   "execution_count": 62,
   "metadata": {
    "scrolled": false
   },
   "outputs": [
    {
     "data": {
      "text/html": [
       "<table><tr><td><img width=300 src=\"val2014/COCO_val2014_000000310391.jpg\" ></img></td><td><img width=300 src=\"val2014/COCO_val2014_000000310391.jpg\" ></img></td></tr><tr><td><b>normal</b></td><td><b>contrastive</b></td></tr><tr><td><ol><li>a blue truck is parked in the grass</li><li>a blue truck is parked in a field</li><li>a blue truck is parked in a grassy field</li><li>an old blue truck is parked in the grass</li><li>an old blue truck is parked in a field</li></ol></td><td><ol><li>a blue truck is parked in the grass</li><li>an old blue truck is parked in the grass</li><li>a blue truck is parked in a field</li><li>an old blue truck is parked in a field</li><li>an old blue truck is parked in a grassy field</li></ol></td></tr></table>"
      ],
      "text/plain": [
       "<IPython.core.display.HTML object>"
      ]
     },
     "metadata": {},
     "output_type": "display_data"
    },
    {
     "data": {
      "text/html": [
       "<table><tr><td><img width=300 src=\"val2014/COCO_val2014_000000310391.jpg\" ></img></td><td><img width=300 src=\"train2014/COCO_train2014_000000459078.jpg\" ></img></td></tr></table>"
      ],
      "text/plain": [
       "<IPython.core.display.HTML object>"
      ]
     },
     "metadata": {},
     "output_type": "display_data"
    },
    {
     "data": {
      "text/html": [
       "<table><tr><td><img width=300 src=\"train2014/COCO_train2014_000000459078.jpg\" ></img></td><td><img width=300 src=\"val2014/COCO_val2014_000000180289.jpg\" ></img></td><td><img width=300 src=\"val2014/COCO_val2014_000000241551.jpg\" ></img></td><td><img width=300 src=\"train2014/COCO_train2014_000000024828.jpg\" ></img></td><td><img width=300 src=\"val2014/COCO_val2014_000000064611.jpg\" ></img></td></tr><tr><td><b>0.1426</b></td><td><b>0.1283</b></td><td><b>0.1262</b></td><td><b>0.1043</b></td><td><b>0.1025</b></td></tr><tr><td><img width=300 src=\"train2014/COCO_train2014_000000213546.jpg\" ></img></td><td><img width=300 src=\"train2014/COCO_train2014_000000141441.jpg\" ></img></td><td><img width=300 src=\"train2014/COCO_train2014_000000539563.jpg\" ></img></td><td><img width=300 src=\"train2014/COCO_train2014_000000059358.jpg\" ></img></td><td><img width=300 src=\"val2014/COCO_val2014_000000556028.jpg\" ></img></td></tr><tr><td><b>0.0696</b></td><td><b>0.0686</b></td><td><b>0.0638</b></td><td><b>0.0621</b></td><td><b>0.0536</b></td></tr><tr><td><img width=300 src=\"train2014/COCO_train2014_000000094199.jpg\" ></img></td><td><img width=300 src=\"train2014/COCO_train2014_000000356480.jpg\" ></img></td><td><img width=300 src=\"train2014/COCO_train2014_000000425945.jpg\" ></img></td><td><img width=300 src=\"train2014/COCO_train2014_000000350703.jpg\" ></img></td><td><img width=300 src=\"train2014/COCO_train2014_000000313787.jpg\" ></img></td></tr><tr><td><b>0.0389</b></td><td><b>0.0302</b></td><td><b>0.0035</b></td><td><b>0.0024</b></td><td><b>0.0016</b></td></tr><tr><td><img width=300 src=\"val2014/COCO_val2014_000000443038.jpg\" ></img></td><td><img width=300 src=\"train2014/COCO_train2014_000000419645.jpg\" ></img></td><td><img width=300 src=\"val2014/COCO_val2014_000000502758.jpg\" ></img></td><td><img width=300 src=\"train2014/COCO_train2014_000000224753.jpg\" ></img></td><td><img width=300 src=\"val2014/COCO_val2014_000000198805.jpg\" ></img></td></tr><tr><td><b>0.0003</b></td><td><b>0.0001</b></td><td><b>0.0001</b></td><td><b>0.0001</b></td><td><b>0.0001</b></td></tr><tr><td><img width=300 src=\"train2014/COCO_train2014_000000561126.jpg\" ></img></td><td><img width=300 src=\"train2014/COCO_train2014_000000044491.jpg\" ></img></td><td><img width=300 src=\"train2014/COCO_train2014_000000466451.jpg\" ></img></td><td><img width=300 src=\"train2014/COCO_train2014_000000311088.jpg\" ></img></td><td><img width=300 src=\"train2014/COCO_train2014_000000000149.jpg\" ></img></td></tr><tr><td><b>0.0001</b></td><td><b>0.0001</b></td><td><b>0.0001</b></td><td><b>0.0001</b></td><td><b>0.0001</b></td></tr><tr><td><img width=300 src=\"val2014/COCO_val2014_000000235788.jpg\" ></img></td><td><img width=300 src=\"train2014/COCO_train2014_000000180857.jpg\" ></img></td><td><img width=300 src=\"train2014/COCO_train2014_000000514127.jpg\" ></img></td><td><img width=300 src=\"train2014/COCO_train2014_000000036639.jpg\" ></img></td><td><img width=300 src=\"train2014/COCO_train2014_000000299769.jpg\" ></img></td></tr><tr><td><b>0.0001</b></td><td><b>0.0001</b></td><td><b>0.0001</b></td><td><b>0.0001</b></td><td><b>0.0001</b></td></tr><tr><td><img width=300 src=\"train2014/COCO_train2014_000000079563.jpg\" ></img></td><td><img width=300 src=\"val2014/COCO_val2014_000000516798.jpg\" ></img></td><td><img width=300 src=\"val2014/COCO_val2014_000000503765.jpg\" ></img></td><td><img width=300 src=\"train2014/COCO_train2014_000000401235.jpg\" ></img></td><td><img width=300 src=\"train2014/COCO_train2014_000000093232.jpg\" ></img></td></tr><tr><td><b>0.0000</b></td><td><b>0.0000</b></td><td><b>0.0000</b></td><td><b>0.0000</b></td><td><b>0.0000</b></td></tr><tr><td><img width=300 src=\"train2014/COCO_train2014_000000355987.jpg\" ></img></td><td><img width=300 src=\"train2014/COCO_train2014_000000153987.jpg\" ></img></td><td><img width=300 src=\"val2014/COCO_val2014_000000162998.jpg\" ></img></td><td><img width=300 src=\"train2014/COCO_train2014_000000496874.jpg\" ></img></td><td><img width=300 src=\"train2014/COCO_train2014_000000204505.jpg\" ></img></td></tr><tr><td><b>0.0000</b></td><td><b>0.0000</b></td><td><b>0.0000</b></td><td><b>0.0000</b></td><td><b>0.0000</b></td></tr></table>"
      ],
      "text/plain": [
       "<IPython.core.display.HTML object>"
      ]
     },
     "metadata": {},
     "output_type": "display_data"
    },
    {
     "name": "stdout",
     "output_type": "stream",
     "text": [
      "\n"
     ]
    },
    {
     "data": {
      "text/html": [
       "<table><tr><td><img width=300 src=\"val2014/COCO_val2014_000000241876.jpg\" ></img></td><td><img width=300 src=\"val2014/COCO_val2014_000000241876.jpg\" ></img></td></tr><tr><td><b>normal</b></td><td><b>contrastive</b></td></tr><tr><td><ol><li>a black cat drinking water from a toilet</li><li>a black cat drinking water out of a toilet</li><li>a cat sitting on top of a toilet seat</li><li>a cat sitting on a toilet seat in a bathroom</li><li>a cat sitting on top of a toilet in a bathroom</li></ol></td><td><ol><li>a black cat drinking water from a toilet</li><li>a black cat drinking water out of a toilet</li><li>a cat sitting on top of a toilet seat</li><li>a cat sitting on a toilet seat in a bathroom</li><li>a cat sitting on top of a toilet in a bathroom</li></ol></td></tr></table>"
      ],
      "text/plain": [
       "<IPython.core.display.HTML object>"
      ]
     },
     "metadata": {},
     "output_type": "display_data"
    },
    {
     "data": {
      "text/html": [
       "<table><tr><td><img width=300 src=\"val2014/COCO_val2014_000000241876.jpg\" ></img></td><td><img width=300 src=\"val2014/COCO_val2014_000000444142.jpg\" ></img></td></tr></table>"
      ],
      "text/plain": [
       "<IPython.core.display.HTML object>"
      ]
     },
     "metadata": {},
     "output_type": "display_data"
    },
    {
     "data": {
      "text/html": [
       "<table><tr><td><img width=300 src=\"val2014/COCO_val2014_000000444142.jpg\" ></img></td><td><img width=300 src=\"train2014/COCO_train2014_000000575230.jpg\" ></img></td><td><img width=300 src=\"train2014/COCO_train2014_000000064870.jpg\" ></img></td><td><img width=300 src=\"train2014/COCO_train2014_000000448839.jpg\" ></img></td><td><img width=300 src=\"train2014/COCO_train2014_000000181436.jpg\" ></img></td></tr><tr><td><b>0.2545</b></td><td><b>0.1474</b></td><td><b>0.1337</b></td><td><b>0.1319</b></td><td><b>0.0614</b></td></tr><tr><td><img width=300 src=\"train2014/COCO_train2014_000000319542.jpg\" ></img></td><td><img width=300 src=\"train2014/COCO_train2014_000000092415.jpg\" ></img></td><td><img width=300 src=\"train2014/COCO_train2014_000000465854.jpg\" ></img></td><td><img width=300 src=\"val2014/COCO_val2014_000000336309.jpg\" ></img></td><td><img width=300 src=\"val2014/COCO_val2014_000000101656.jpg\" ></img></td></tr><tr><td><b>0.0563</b></td><td><b>0.0512</b></td><td><b>0.0493</b></td><td><b>0.0316</b></td><td><b>0.0220</b></td></tr><tr><td><img width=300 src=\"train2014/COCO_train2014_000000445768.jpg\" ></img></td><td><img width=300 src=\"train2014/COCO_train2014_000000493146.jpg\" ></img></td><td><img width=300 src=\"train2014/COCO_train2014_000000447849.jpg\" ></img></td><td><img width=300 src=\"val2014/COCO_val2014_000000476190.jpg\" ></img></td><td><img width=300 src=\"val2014/COCO_val2014_000000185197.jpg\" ></img></td></tr><tr><td><b>0.0189</b></td><td><b>0.0122</b></td><td><b>0.0059</b></td><td><b>0.0053</b></td><td><b>0.0042</b></td></tr><tr><td><img width=300 src=\"val2014/COCO_val2014_000000404618.jpg\" ></img></td><td><img width=300 src=\"train2014/COCO_train2014_000000239520.jpg\" ></img></td><td><img width=300 src=\"train2014/COCO_train2014_000000116625.jpg\" ></img></td><td><img width=300 src=\"val2014/COCO_val2014_000000379584.jpg\" ></img></td><td><img width=300 src=\"train2014/COCO_train2014_000000473793.jpg\" ></img></td></tr><tr><td><b>0.0017</b></td><td><b>0.0013</b></td><td><b>0.0010</b></td><td><b>0.0010</b></td><td><b>0.0009</b></td></tr><tr><td><img width=300 src=\"train2014/COCO_train2014_000000012315.jpg\" ></img></td><td><img width=300 src=\"train2014/COCO_train2014_000000518081.jpg\" ></img></td><td><img width=300 src=\"val2014/COCO_val2014_000000168834.jpg\" ></img></td><td><img width=300 src=\"train2014/COCO_train2014_000000225713.jpg\" ></img></td><td><img width=300 src=\"train2014/COCO_train2014_000000382056.jpg\" ></img></td></tr><tr><td><b>0.0008</b></td><td><b>0.0007</b></td><td><b>0.0005</b></td><td><b>0.0005</b></td><td><b>0.0005</b></td></tr><tr><td><img width=300 src=\"train2014/COCO_train2014_000000517764.jpg\" ></img></td><td><img width=300 src=\"train2014/COCO_train2014_000000178378.jpg\" ></img></td><td><img width=300 src=\"train2014/COCO_train2014_000000011508.jpg\" ></img></td><td><img width=300 src=\"train2014/COCO_train2014_000000447985.jpg\" ></img></td><td><img width=300 src=\"train2014/COCO_train2014_000000175405.jpg\" ></img></td></tr><tr><td><b>0.0005</b></td><td><b>0.0005</b></td><td><b>0.0005</b></td><td><b>0.0004</b></td><td><b>0.0004</b></td></tr><tr><td><img width=300 src=\"train2014/COCO_train2014_000000120108.jpg\" ></img></td><td><img width=300 src=\"train2014/COCO_train2014_000000126810.jpg\" ></img></td><td><img width=300 src=\"train2014/COCO_train2014_000000375194.jpg\" ></img></td><td><img width=300 src=\"train2014/COCO_train2014_000000012102.jpg\" ></img></td><td><img width=300 src=\"train2014/COCO_train2014_000000439486.jpg\" ></img></td></tr><tr><td><b>0.0004</b></td><td><b>0.0004</b></td><td><b>0.0003</b></td><td><b>0.0003</b></td><td><b>0.0003</b></td></tr><tr><td><img width=300 src=\"val2014/COCO_val2014_000000198563.jpg\" ></img></td><td><img width=300 src=\"val2014/COCO_val2014_000000098302.jpg\" ></img></td><td><img width=300 src=\"val2014/COCO_val2014_000000562289.jpg\" ></img></td><td><img width=300 src=\"train2014/COCO_train2014_000000479780.jpg\" ></img></td><td><img width=300 src=\"train2014/COCO_train2014_000000501967.jpg\" ></img></td></tr><tr><td><b>0.0003</b></td><td><b>0.0003</b></td><td><b>0.0003</b></td><td><b>0.0002</b></td><td><b>0.0001</b></td></tr></table>"
      ],
      "text/plain": [
       "<IPython.core.display.HTML object>"
      ]
     },
     "metadata": {},
     "output_type": "display_data"
    },
    {
     "name": "stdout",
     "output_type": "stream",
     "text": [
      "\n"
     ]
    },
    {
     "data": {
      "text/html": [
       "<table><tr><td><img width=300 src=\"val2014/COCO_val2014_000000462341.jpg\" ></img></td><td><img width=300 src=\"val2014/COCO_val2014_000000462341.jpg\" ></img></td></tr><tr><td><b>normal</b></td><td><b>contrastive</b></td></tr><tr><td><ol><li>a tall clock tower with a sky background</li><li>a tall tower with a clock on top</li><li>a tall tower with a clock on the top</li><li>a tall tower with a clock on it</li><li>a tower with a clock on top of it</li></ol></td><td><ol><li>a tall clock tower with a sky background</li><li>a tall tower with a clock on top</li><li>a tall tower with a clock on the top</li><li>a tall tower with a clock on it</li><li>a tower with a clock on top of it</li></ol></td></tr></table>"
      ],
      "text/plain": [
       "<IPython.core.display.HTML object>"
      ]
     },
     "metadata": {},
     "output_type": "display_data"
    },
    {
     "data": {
      "text/html": [
       "<table><tr><td><img width=300 src=\"val2014/COCO_val2014_000000462341.jpg\" ></img></td><td><img width=300 src=\"val2014/COCO_val2014_000000466211.jpg\" ></img></td></tr></table>"
      ],
      "text/plain": [
       "<IPython.core.display.HTML object>"
      ]
     },
     "metadata": {},
     "output_type": "display_data"
    },
    {
     "data": {
      "text/html": [
       "<table><tr><td><img width=300 src=\"val2014/COCO_val2014_000000466211.jpg\" ></img></td><td><img width=300 src=\"val2014/COCO_val2014_000000509695.jpg\" ></img></td><td><img width=300 src=\"train2014/COCO_train2014_000000574213.jpg\" ></img></td><td><img width=300 src=\"train2014/COCO_train2014_000000276956.jpg\" ></img></td><td><img width=300 src=\"train2014/COCO_train2014_000000500527.jpg\" ></img></td></tr><tr><td><b>0.3402</b></td><td><b>0.1092</b></td><td><b>0.0784</b></td><td><b>0.0746</b></td><td><b>0.0712</b></td></tr><tr><td><img width=300 src=\"train2014/COCO_train2014_000000194943.jpg\" ></img></td><td><img width=300 src=\"train2014/COCO_train2014_000000398191.jpg\" ></img></td><td><img width=300 src=\"train2014/COCO_train2014_000000492213.jpg\" ></img></td><td><img width=300 src=\"train2014/COCO_train2014_000000399668.jpg\" ></img></td><td><img width=300 src=\"train2014/COCO_train2014_000000273138.jpg\" ></img></td></tr><tr><td><b>0.0657</b></td><td><b>0.0614</b></td><td><b>0.0452</b></td><td><b>0.0356</b></td><td><b>0.0348</b></td></tr><tr><td><img width=300 src=\"train2014/COCO_train2014_000000150198.jpg\" ></img></td><td><img width=300 src=\"train2014/COCO_train2014_000000517690.jpg\" ></img></td><td><img width=300 src=\"train2014/COCO_train2014_000000333170.jpg\" ></img></td><td><img width=300 src=\"val2014/COCO_val2014_000000153428.jpg\" ></img></td><td><img width=300 src=\"train2014/COCO_train2014_000000129766.jpg\" ></img></td></tr><tr><td><b>0.0325</b></td><td><b>0.0160</b></td><td><b>0.0102</b></td><td><b>0.0091</b></td><td><b>0.0083</b></td></tr><tr><td><img width=300 src=\"val2014/COCO_val2014_000000390671.jpg\" ></img></td><td><img width=300 src=\"val2014/COCO_val2014_000000086696.jpg\" ></img></td><td><img width=300 src=\"train2014/COCO_train2014_000000059281.jpg\" ></img></td><td><img width=300 src=\"train2014/COCO_train2014_000000188612.jpg\" ></img></td><td><img width=300 src=\"train2014/COCO_train2014_000000224778.jpg\" ></img></td></tr><tr><td><b>0.0039</b></td><td><b>0.0037</b></td><td><b>0.0001</b></td><td><b>0.0000</b></td><td><b>0.0000</b></td></tr><tr><td><img width=300 src=\"val2014/COCO_val2014_000000200938.jpg\" ></img></td><td><img width=300 src=\"train2014/COCO_train2014_000000347312.jpg\" ></img></td><td><img width=300 src=\"train2014/COCO_train2014_000000103513.jpg\" ></img></td><td><img width=300 src=\"val2014/COCO_val2014_000000206550.jpg\" ></img></td><td><img width=300 src=\"val2014/COCO_val2014_000000050965.jpg\" ></img></td></tr><tr><td><b>0.0000</b></td><td><b>0.0000</b></td><td><b>0.0000</b></td><td><b>0.0000</b></td><td><b>0.0000</b></td></tr><tr><td><img width=300 src=\"val2014/COCO_val2014_000000415225.jpg\" ></img></td><td><img width=300 src=\"train2014/COCO_train2014_000000450426.jpg\" ></img></td><td><img width=300 src=\"val2014/COCO_val2014_000000522751.jpg\" ></img></td><td><img width=300 src=\"train2014/COCO_train2014_000000021945.jpg\" ></img></td><td><img width=300 src=\"val2014/COCO_val2014_000000312951.jpg\" ></img></td></tr><tr><td><b>0.0000</b></td><td><b>0.0000</b></td><td><b>0.0000</b></td><td><b>0.0000</b></td><td><b>0.0000</b></td></tr><tr><td><img width=300 src=\"train2014/COCO_train2014_000000452259.jpg\" ></img></td><td><img width=300 src=\"train2014/COCO_train2014_000000431788.jpg\" ></img></td><td><img width=300 src=\"val2014/COCO_val2014_000000198271.jpg\" ></img></td><td><img width=300 src=\"train2014/COCO_train2014_000000481042.jpg\" ></img></td><td><img width=300 src=\"train2014/COCO_train2014_000000296367.jpg\" ></img></td></tr><tr><td><b>0.0000</b></td><td><b>0.0000</b></td><td><b>0.0000</b></td><td><b>0.0000</b></td><td><b>0.0000</b></td></tr><tr><td><img width=300 src=\"val2014/COCO_val2014_000000578786.jpg\" ></img></td><td><img width=300 src=\"train2014/COCO_train2014_000000195343.jpg\" ></img></td><td><img width=300 src=\"val2014/COCO_val2014_000000402334.jpg\" ></img></td><td><img width=300 src=\"train2014/COCO_train2014_000000345357.jpg\" ></img></td><td><img width=300 src=\"train2014/COCO_train2014_000000506910.jpg\" ></img></td></tr><tr><td><b>0.0000</b></td><td><b>0.0000</b></td><td><b>0.0000</b></td><td><b>0.0000</b></td><td><b>0.0000</b></td></tr></table>"
      ],
      "text/plain": [
       "<IPython.core.display.HTML object>"
      ]
     },
     "metadata": {},
     "output_type": "display_data"
    },
    {
     "name": "stdout",
     "output_type": "stream",
     "text": [
      "\n"
     ]
    },
    {
     "data": {
      "text/html": [
       "<table><tr><td><img width=300 src=\"val2014/COCO_val2014_000000268556.jpg\" ></img></td><td><img width=300 src=\"val2014/COCO_val2014_000000268556.jpg\" ></img></td></tr><tr><td><b>normal</b></td><td><b>contrastive</b></td></tr><tr><td><ol><li>a woman riding on the back of a motorcycle</li><li>a woman riding on the back of a motorcycle down a street</li><li>a person riding a motorcycle on a city street</li><li>a woman riding a motorcycle down a street</li><li>a woman is riding a motorcycle down the street</li></ol></td><td><ol><li>a woman riding on the back of a motorcycle</li><li>a woman riding on the back of a motorcycle down a street</li><li>a person riding a motorcycle on a city street</li><li>a woman riding a motorcycle down a street</li><li>a woman is riding a motorcycle down the street</li></ol></td></tr></table>"
      ],
      "text/plain": [
       "<IPython.core.display.HTML object>"
      ]
     },
     "metadata": {},
     "output_type": "display_data"
    },
    {
     "data": {
      "text/html": [
       "<table><tr><td><img width=300 src=\"val2014/COCO_val2014_000000268556.jpg\" ></img></td><td><img width=300 src=\"train2014/COCO_train2014_000000510460.jpg\" ></img></td></tr></table>"
      ],
      "text/plain": [
       "<IPython.core.display.HTML object>"
      ]
     },
     "metadata": {},
     "output_type": "display_data"
    },
    {
     "data": {
      "text/html": [
       "<table><tr><td><img width=300 src=\"train2014/COCO_train2014_000000510460.jpg\" ></img></td><td><img width=300 src=\"train2014/COCO_train2014_000000029671.jpg\" ></img></td><td><img width=300 src=\"train2014/COCO_train2014_000000133234.jpg\" ></img></td><td><img width=300 src=\"train2014/COCO_train2014_000000013568.jpg\" ></img></td><td><img width=300 src=\"train2014/COCO_train2014_000000286013.jpg\" ></img></td></tr><tr><td><b>0.2241</b></td><td><b>0.1518</b></td><td><b>0.1373</b></td><td><b>0.1059</b></td><td><b>0.0495</b></td></tr><tr><td><img width=300 src=\"val2014/COCO_val2014_000000237881.jpg\" ></img></td><td><img width=300 src=\"train2014/COCO_train2014_000000413092.jpg\" ></img></td><td><img width=300 src=\"train2014/COCO_train2014_000000551466.jpg\" ></img></td><td><img width=300 src=\"train2014/COCO_train2014_000000554381.jpg\" ></img></td><td><img width=300 src=\"train2014/COCO_train2014_000000563122.jpg\" ></img></td></tr><tr><td><b>0.0429</b></td><td><b>0.0424</b></td><td><b>0.0423</b></td><td><b>0.0332</b></td><td><b>0.0325</b></td></tr><tr><td><img width=300 src=\"train2014/COCO_train2014_000000503539.jpg\" ></img></td><td><img width=300 src=\"val2014/COCO_val2014_000000264222.jpg\" ></img></td><td><img width=300 src=\"train2014/COCO_train2014_000000529427.jpg\" ></img></td><td><img width=300 src=\"val2014/COCO_val2014_000000161609.jpg\" ></img></td><td><img width=300 src=\"train2014/COCO_train2014_000000348042.jpg\" ></img></td></tr><tr><td><b>0.0311</b></td><td><b>0.0305</b></td><td><b>0.0228</b></td><td><b>0.0164</b></td><td><b>0.0147</b></td></tr><tr><td><img width=300 src=\"train2014/COCO_train2014_000000267831.jpg\" ></img></td><td><img width=300 src=\"val2014/COCO_val2014_000000385248.jpg\" ></img></td><td><img width=300 src=\"train2014/COCO_train2014_000000112605.jpg\" ></img></td><td><img width=300 src=\"train2014/COCO_train2014_000000347962.jpg\" ></img></td><td><img width=300 src=\"train2014/COCO_train2014_000000366430.jpg\" ></img></td></tr><tr><td><b>0.0048</b></td><td><b>0.0043</b></td><td><b>0.0022</b></td><td><b>0.0018</b></td><td><b>0.0014</b></td></tr><tr><td><img width=300 src=\"val2014/COCO_val2014_000000431113.jpg\" ></img></td><td><img width=300 src=\"train2014/COCO_train2014_000000165852.jpg\" ></img></td><td><img width=300 src=\"train2014/COCO_train2014_000000174354.jpg\" ></img></td><td><img width=300 src=\"train2014/COCO_train2014_000000482252.jpg\" ></img></td><td><img width=300 src=\"val2014/COCO_val2014_000000007325.jpg\" ></img></td></tr><tr><td><b>0.0010</b></td><td><b>0.0009</b></td><td><b>0.0008</b></td><td><b>0.0007</b></td><td><b>0.0006</b></td></tr><tr><td><img width=300 src=\"val2014/COCO_val2014_000000045110.jpg\" ></img></td><td><img width=300 src=\"train2014/COCO_train2014_000000256965.jpg\" ></img></td><td><img width=300 src=\"train2014/COCO_train2014_000000540840.jpg\" ></img></td><td><img width=300 src=\"train2014/COCO_train2014_000000429769.jpg\" ></img></td><td><img width=300 src=\"train2014/COCO_train2014_000000143151.jpg\" ></img></td></tr><tr><td><b>0.0005</b></td><td><b>0.0004</b></td><td><b>0.0004</b></td><td><b>0.0003</b></td><td><b>0.0003</b></td></tr><tr><td><img width=300 src=\"val2014/COCO_val2014_000000340778.jpg\" ></img></td><td><img width=300 src=\"train2014/COCO_train2014_000000255604.jpg\" ></img></td><td><img width=300 src=\"train2014/COCO_train2014_000000329793.jpg\" ></img></td><td><img width=300 src=\"val2014/COCO_val2014_000000175831.jpg\" ></img></td><td><img width=300 src=\"train2014/COCO_train2014_000000126686.jpg\" ></img></td></tr><tr><td><b>0.0003</b></td><td><b>0.0003</b></td><td><b>0.0003</b></td><td><b>0.0002</b></td><td><b>0.0002</b></td></tr><tr><td><img width=300 src=\"val2014/COCO_val2014_000000169996.jpg\" ></img></td><td><img width=300 src=\"train2014/COCO_train2014_000000117413.jpg\" ></img></td><td><img width=300 src=\"train2014/COCO_train2014_000000102989.jpg\" ></img></td><td><img width=300 src=\"train2014/COCO_train2014_000000148727.jpg\" ></img></td><td><img width=300 src=\"val2014/COCO_val2014_000000508541.jpg\" ></img></td></tr><tr><td><b>0.0002</b></td><td><b>0.0002</b></td><td><b>0.0001</b></td><td><b>0.0001</b></td><td><b>0.0001</b></td></tr></table>"
      ],
      "text/plain": [
       "<IPython.core.display.HTML object>"
      ]
     },
     "metadata": {},
     "output_type": "display_data"
    },
    {
     "name": "stdout",
     "output_type": "stream",
     "text": [
      "\n"
     ]
    },
    {
     "data": {
      "text/html": [
       "<table><tr><td><img width=300 src=\"val2014/COCO_val2014_000000386912.jpg\" ></img></td><td><img width=300 src=\"val2014/COCO_val2014_000000386912.jpg\" ></img></td></tr><tr><td><b>normal</b></td><td><b>contrastive</b></td></tr><tr><td><ol><li>a woman sitting at a desk in front of a computer</li><li>a woman sitting at a desk with a laptop</li><li>a woman sitting at a desk with a computer</li><li>a woman sitting at a desk with a laptop computer</li><li>a woman sitting at a desk in front of a laptop</li></ol></td><td><ol><li>a woman sitting at a desk in front of a computer</li><li>a woman sitting at a desk with a laptop</li><li>a woman sitting at a desk with a computer</li><li>a woman sitting at a desk with a laptop computer</li><li>a woman sitting at a desk in front of a laptop</li></ol></td></tr></table>"
      ],
      "text/plain": [
       "<IPython.core.display.HTML object>"
      ]
     },
     "metadata": {},
     "output_type": "display_data"
    },
    {
     "data": {
      "text/html": [
       "<table><tr><td><img width=300 src=\"val2014/COCO_val2014_000000386912.jpg\" ></img></td><td><img width=300 src=\"val2014/COCO_val2014_000000138316.jpg\" ></img></td></tr></table>"
      ],
      "text/plain": [
       "<IPython.core.display.HTML object>"
      ]
     },
     "metadata": {},
     "output_type": "display_data"
    },
    {
     "data": {
      "text/html": [
       "<table><tr><td><img width=300 src=\"val2014/COCO_val2014_000000138316.jpg\" ></img></td><td><img width=300 src=\"train2014/COCO_train2014_000000568471.jpg\" ></img></td><td><img width=300 src=\"train2014/COCO_train2014_000000403739.jpg\" ></img></td><td><img width=300 src=\"val2014/COCO_val2014_000000119802.jpg\" ></img></td><td><img width=300 src=\"train2014/COCO_train2014_000000225383.jpg\" ></img></td></tr><tr><td><b>0.1834</b></td><td><b>0.1824</b></td><td><b>0.1109</b></td><td><b>0.0915</b></td><td><b>0.0754</b></td></tr><tr><td><img width=300 src=\"train2014/COCO_train2014_000000348331.jpg\" ></img></td><td><img width=300 src=\"train2014/COCO_train2014_000000515064.jpg\" ></img></td><td><img width=300 src=\"val2014/COCO_val2014_000000183500.jpg\" ></img></td><td><img width=300 src=\"train2014/COCO_train2014_000000550221.jpg\" ></img></td><td><img width=300 src=\"train2014/COCO_train2014_000000315916.jpg\" ></img></td></tr><tr><td><b>0.0612</b></td><td><b>0.0564</b></td><td><b>0.0534</b></td><td><b>0.0515</b></td><td><b>0.0441</b></td></tr><tr><td><img width=300 src=\"train2014/COCO_train2014_000000362561.jpg\" ></img></td><td><img width=300 src=\"train2014/COCO_train2014_000000204014.jpg\" ></img></td><td><img width=300 src=\"train2014/COCO_train2014_000000251125.jpg\" ></img></td><td><img width=300 src=\"train2014/COCO_train2014_000000207142.jpg\" ></img></td><td><img width=300 src=\"train2014/COCO_train2014_000000547693.jpg\" ></img></td></tr><tr><td><b>0.0358</b></td><td><b>0.0358</b></td><td><b>0.0090</b></td><td><b>0.0058</b></td><td><b>0.0010</b></td></tr><tr><td><img width=300 src=\"val2014/COCO_val2014_000000014773.jpg\" ></img></td><td><img width=300 src=\"train2014/COCO_train2014_000000153639.jpg\" ></img></td><td><img width=300 src=\"train2014/COCO_train2014_000000133766.jpg\" ></img></td><td><img width=300 src=\"train2014/COCO_train2014_000000001522.jpg\" ></img></td><td><img width=300 src=\"train2014/COCO_train2014_000000090912.jpg\" ></img></td></tr><tr><td><b>0.0008</b></td><td><b>0.0007</b></td><td><b>0.0003</b></td><td><b>0.0002</b></td><td><b>0.0001</b></td></tr><tr><td><img width=300 src=\"train2014/COCO_train2014_000000373332.jpg\" ></img></td><td><img width=300 src=\"train2014/COCO_train2014_000000023134.jpg\" ></img></td><td><img width=300 src=\"train2014/COCO_train2014_000000450704.jpg\" ></img></td><td><img width=300 src=\"train2014/COCO_train2014_000000053405.jpg\" ></img></td><td><img width=300 src=\"train2014/COCO_train2014_000000330752.jpg\" ></img></td></tr><tr><td><b>0.0001</b></td><td><b>0.0001</b></td><td><b>0.0000</b></td><td><b>0.0000</b></td><td><b>0.0000</b></td></tr><tr><td><img width=300 src=\"train2014/COCO_train2014_000000563391.jpg\" ></img></td><td><img width=300 src=\"train2014/COCO_train2014_000000213172.jpg\" ></img></td><td><img width=300 src=\"train2014/COCO_train2014_000000136185.jpg\" ></img></td><td><img width=300 src=\"train2014/COCO_train2014_000000205703.jpg\" ></img></td><td><img width=300 src=\"train2014/COCO_train2014_000000275997.jpg\" ></img></td></tr><tr><td><b>0.0000</b></td><td><b>0.0000</b></td><td><b>0.0000</b></td><td><b>0.0000</b></td><td><b>0.0000</b></td></tr><tr><td><img width=300 src=\"val2014/COCO_val2014_000000121586.jpg\" ></img></td><td><img width=300 src=\"train2014/COCO_train2014_000000497010.jpg\" ></img></td><td><img width=300 src=\"train2014/COCO_train2014_000000335140.jpg\" ></img></td><td><img width=300 src=\"train2014/COCO_train2014_000000031587.jpg\" ></img></td><td><img width=300 src=\"val2014/COCO_val2014_000000086650.jpg\" ></img></td></tr><tr><td><b>0.0000</b></td><td><b>0.0000</b></td><td><b>0.0000</b></td><td><b>0.0000</b></td><td><b>0.0000</b></td></tr><tr><td><img width=300 src=\"train2014/COCO_train2014_000000096723.jpg\" ></img></td><td><img width=300 src=\"train2014/COCO_train2014_000000336839.jpg\" ></img></td><td><img width=300 src=\"train2014/COCO_train2014_000000003685.jpg\" ></img></td><td><img width=300 src=\"train2014/COCO_train2014_000000272647.jpg\" ></img></td><td><img width=300 src=\"train2014/COCO_train2014_000000443545.jpg\" ></img></td></tr><tr><td><b>0.0000</b></td><td><b>0.0000</b></td><td><b>0.0000</b></td><td><b>0.0000</b></td><td><b>0.0000</b></td></tr></table>"
      ],
      "text/plain": [
       "<IPython.core.display.HTML object>"
      ]
     },
     "metadata": {},
     "output_type": "display_data"
    },
    {
     "name": "stdout",
     "output_type": "stream",
     "text": [
      "\n"
     ]
    },
    {
     "data": {
      "text/html": [
       "<table><tr><td><img width=300 src=\"val2014/COCO_val2014_000000074331.jpg\" ></img></td><td><img width=300 src=\"val2014/COCO_val2014_000000074331.jpg\" ></img></td></tr><tr><td><b>normal</b></td><td><b>contrastive</b></td></tr><tr><td><ol><li>a grocery store filled with lots of bananas</li><li>a grocery store filled with lots of yellow bananas</li><li>a grocery store filled with lots of ripe bananas</li><li>a bunch of yellow bananas in a store</li><li>a grocery store filled with lots of yellow and green bananas</li></ol></td><td><ol><li>a grocery store filled with lots of bananas</li><li>a grocery store filled with lots of yellow bananas</li><li>a grocery store filled with lots of ripe bananas</li><li>a bunch of yellow bananas in a store</li><li>a grocery store filled with lots of yellow and green bananas</li></ol></td></tr></table>"
      ],
      "text/plain": [
       "<IPython.core.display.HTML object>"
      ]
     },
     "metadata": {},
     "output_type": "display_data"
    },
    {
     "data": {
      "text/html": [
       "<table><tr><td><img width=300 src=\"val2014/COCO_val2014_000000074331.jpg\" ></img></td><td><img width=300 src=\"train2014/COCO_train2014_000000360307.jpg\" ></img></td></tr></table>"
      ],
      "text/plain": [
       "<IPython.core.display.HTML object>"
      ]
     },
     "metadata": {},
     "output_type": "display_data"
    },
    {
     "data": {
      "text/html": [
       "<table><tr><td><img width=300 src=\"train2014/COCO_train2014_000000360307.jpg\" ></img></td><td><img width=300 src=\"train2014/COCO_train2014_000000041984.jpg\" ></img></td><td><img width=300 src=\"val2014/COCO_val2014_000000100678.jpg\" ></img></td><td><img width=300 src=\"train2014/COCO_train2014_000000426400.jpg\" ></img></td><td><img width=300 src=\"train2014/COCO_train2014_000000217799.jpg\" ></img></td></tr><tr><td><b>0.2279</b></td><td><b>0.1752</b></td><td><b>0.1513</b></td><td><b>0.1095</b></td><td><b>0.0986</b></td></tr><tr><td><img width=300 src=\"train2014/COCO_train2014_000000315803.jpg\" ></img></td><td><img width=300 src=\"train2014/COCO_train2014_000000318282.jpg\" ></img></td><td><img width=300 src=\"val2014/COCO_val2014_000000118579.jpg\" ></img></td><td><img width=300 src=\"train2014/COCO_train2014_000000218760.jpg\" ></img></td><td><img width=300 src=\"train2014/COCO_train2014_000000236075.jpg\" ></img></td></tr><tr><td><b>0.0926</b></td><td><b>0.0862</b></td><td><b>0.0171</b></td><td><b>0.0147</b></td><td><b>0.0125</b></td></tr><tr><td><img width=300 src=\"train2014/COCO_train2014_000000191262.jpg\" ></img></td><td><img width=300 src=\"val2014/COCO_val2014_000000319100.jpg\" ></img></td><td><img width=300 src=\"train2014/COCO_train2014_000000332417.jpg\" ></img></td><td><img width=300 src=\"val2014/COCO_val2014_000000316183.jpg\" ></img></td><td><img width=300 src=\"train2014/COCO_train2014_000000557856.jpg\" ></img></td></tr><tr><td><b>0.0057</b></td><td><b>0.0034</b></td><td><b>0.0019</b></td><td><b>0.0014</b></td><td><b>0.0013</b></td></tr><tr><td><img width=300 src=\"train2014/COCO_train2014_000000358081.jpg\" ></img></td><td><img width=300 src=\"train2014/COCO_train2014_000000458022.jpg\" ></img></td><td><img width=300 src=\"val2014/COCO_val2014_000000114504.jpg\" ></img></td><td><img width=300 src=\"train2014/COCO_train2014_000000493212.jpg\" ></img></td><td><img width=300 src=\"train2014/COCO_train2014_000000374180.jpg\" ></img></td></tr><tr><td><b>0.0006</b></td><td><b>0.0000</b></td><td><b>0.0000</b></td><td><b>0.0000</b></td><td><b>0.0000</b></td></tr><tr><td><img width=300 src=\"train2014/COCO_train2014_000000107138.jpg\" ></img></td><td><img width=300 src=\"train2014/COCO_train2014_000000465060.jpg\" ></img></td><td><img width=300 src=\"train2014/COCO_train2014_000000512629.jpg\" ></img></td><td><img width=300 src=\"train2014/COCO_train2014_000000418372.jpg\" ></img></td><td><img width=300 src=\"train2014/COCO_train2014_000000246328.jpg\" ></img></td></tr><tr><td><b>0.0000</b></td><td><b>0.0000</b></td><td><b>0.0000</b></td><td><b>0.0000</b></td><td><b>0.0000</b></td></tr><tr><td><img width=300 src=\"train2014/COCO_train2014_000000568139.jpg\" ></img></td><td><img width=300 src=\"train2014/COCO_train2014_000000125407.jpg\" ></img></td><td><img width=300 src=\"train2014/COCO_train2014_000000259297.jpg\" ></img></td><td><img width=300 src=\"train2014/COCO_train2014_000000110886.jpg\" ></img></td><td><img width=300 src=\"train2014/COCO_train2014_000000364748.jpg\" ></img></td></tr><tr><td><b>0.0000</b></td><td><b>0.0000</b></td><td><b>0.0000</b></td><td><b>0.0000</b></td><td><b>0.0000</b></td></tr><tr><td><img width=300 src=\"train2014/COCO_train2014_000000334431.jpg\" ></img></td><td><img width=300 src=\"train2014/COCO_train2014_000000436354.jpg\" ></img></td><td><img width=300 src=\"train2014/COCO_train2014_000000537862.jpg\" ></img></td><td><img width=300 src=\"val2014/COCO_val2014_000000504541.jpg\" ></img></td><td><img width=300 src=\"train2014/COCO_train2014_000000198764.jpg\" ></img></td></tr><tr><td><b>0.0000</b></td><td><b>0.0000</b></td><td><b>0.0000</b></td><td><b>0.0000</b></td><td><b>0.0000</b></td></tr><tr><td><img width=300 src=\"train2014/COCO_train2014_000000544687.jpg\" ></img></td><td><img width=300 src=\"train2014/COCO_train2014_000000428208.jpg\" ></img></td><td><img width=300 src=\"val2014/COCO_val2014_000000374087.jpg\" ></img></td><td><img width=300 src=\"train2014/COCO_train2014_000000514902.jpg\" ></img></td><td><img width=300 src=\"train2014/COCO_train2014_000000332891.jpg\" ></img></td></tr><tr><td><b>0.0000</b></td><td><b>0.0000</b></td><td><b>0.0000</b></td><td><b>0.0000</b></td><td><b>0.0000</b></td></tr></table>"
      ],
      "text/plain": [
       "<IPython.core.display.HTML object>"
      ]
     },
     "metadata": {},
     "output_type": "display_data"
    },
    {
     "name": "stdout",
     "output_type": "stream",
     "text": [
      "\n"
     ]
    },
    {
     "data": {
      "text/html": [
       "<table><tr><td><img width=300 src=\"val2014/COCO_val2014_000000078371.jpg\" ></img></td><td><img width=300 src=\"val2014/COCO_val2014_000000078371.jpg\" ></img></td></tr><tr><td><b>normal</b></td><td><b>contrastive</b></td></tr><tr><td><ol><li>a small propeller plane sitting on top of a runway</li><li>a small propeller plane sitting on a runway</li><li>a small plane is parked on the runway</li><li>a small plane is parked on a runway</li><li>a small propeller plane sitting on top of a tarmac</li></ol></td><td><ol><li>a small plane is sitting on a runway</li><li>a small propeller plane sitting on top of a runway</li><li>a small propeller plane sitting on a runway</li><li>a small plane is parked on the runway</li><li>a small propeller plane sitting on top of a tarmac</li></ol></td></tr></table>"
      ],
      "text/plain": [
       "<IPython.core.display.HTML object>"
      ]
     },
     "metadata": {},
     "output_type": "display_data"
    },
    {
     "data": {
      "text/html": [
       "<table><tr><td><img width=300 src=\"val2014/COCO_val2014_000000078371.jpg\" ></img></td><td><img width=300 src=\"val2014/COCO_val2014_000000043344.jpg\" ></img></td></tr></table>"
      ],
      "text/plain": [
       "<IPython.core.display.HTML object>"
      ]
     },
     "metadata": {},
     "output_type": "display_data"
    },
    {
     "data": {
      "text/html": [
       "<table><tr><td><img width=300 src=\"val2014/COCO_val2014_000000043344.jpg\" ></img></td><td><img width=300 src=\"val2014/COCO_val2014_000000275215.jpg\" ></img></td><td><img width=300 src=\"val2014/COCO_val2014_000000088286.jpg\" ></img></td><td><img width=300 src=\"train2014/COCO_train2014_000000113023.jpg\" ></img></td><td><img width=300 src=\"val2014/COCO_val2014_000000283286.jpg\" ></img></td></tr><tr><td><b>0.1752</b></td><td><b>0.0921</b></td><td><b>0.0888</b></td><td><b>0.0743</b></td><td><b>0.0742</b></td></tr><tr><td><img width=300 src=\"train2014/COCO_train2014_000000209144.jpg\" ></img></td><td><img width=300 src=\"train2014/COCO_train2014_000000032767.jpg\" ></img></td><td><img width=300 src=\"train2014/COCO_train2014_000000570019.jpg\" ></img></td><td><img width=300 src=\"train2014/COCO_train2014_000000334080.jpg\" ></img></td><td><img width=300 src=\"train2014/COCO_train2014_000000472516.jpg\" ></img></td></tr><tr><td><b>0.0742</b></td><td><b>0.0691</b></td><td><b>0.0685</b></td><td><b>0.0622</b></td><td><b>0.0587</b></td></tr><tr><td><img width=300 src=\"val2014/COCO_val2014_000000519598.jpg\" ></img></td><td><img width=300 src=\"train2014/COCO_train2014_000000522135.jpg\" ></img></td><td><img width=300 src=\"train2014/COCO_train2014_000000191681.jpg\" ></img></td><td><img width=300 src=\"train2014/COCO_train2014_000000550660.jpg\" ></img></td><td><img width=300 src=\"train2014/COCO_train2014_000000002691.jpg\" ></img></td></tr><tr><td><b>0.0439</b></td><td><b>0.0327</b></td><td><b>0.0324</b></td><td><b>0.0321</b></td><td><b>0.0171</b></td></tr><tr><td><img width=300 src=\"train2014/COCO_train2014_000000054118.jpg\" ></img></td><td><img width=300 src=\"train2014/COCO_train2014_000000092064.jpg\" ></img></td><td><img width=300 src=\"val2014/COCO_val2014_000000285120.jpg\" ></img></td><td><img width=300 src=\"train2014/COCO_train2014_000000250920.jpg\" ></img></td><td><img width=300 src=\"train2014/COCO_train2014_000000134837.jpg\" ></img></td></tr><tr><td><b>0.0018</b></td><td><b>0.0016</b></td><td><b>0.0002</b></td><td><b>0.0001</b></td><td><b>0.0001</b></td></tr><tr><td><img width=300 src=\"train2014/COCO_train2014_000000427803.jpg\" ></img></td><td><img width=300 src=\"train2014/COCO_train2014_000000210426.jpg\" ></img></td><td><img width=300 src=\"train2014/COCO_train2014_000000101626.jpg\" ></img></td><td><img width=300 src=\"train2014/COCO_train2014_000000166761.jpg\" ></img></td><td><img width=300 src=\"train2014/COCO_train2014_000000206670.jpg\" ></img></td></tr><tr><td><b>0.0001</b></td><td><b>0.0001</b></td><td><b>0.0001</b></td><td><b>0.0000</b></td><td><b>0.0000</b></td></tr><tr><td><img width=300 src=\"val2014/COCO_val2014_000000024790.jpg\" ></img></td><td><img width=300 src=\"train2014/COCO_train2014_000000040890.jpg\" ></img></td><td><img width=300 src=\"train2014/COCO_train2014_000000045954.jpg\" ></img></td><td><img width=300 src=\"train2014/COCO_train2014_000000022228.jpg\" ></img></td><td><img width=300 src=\"train2014/COCO_train2014_000000016486.jpg\" ></img></td></tr><tr><td><b>0.0000</b></td><td><b>0.0000</b></td><td><b>0.0000</b></td><td><b>0.0000</b></td><td><b>0.0000</b></td></tr><tr><td><img width=300 src=\"val2014/COCO_val2014_000000515043.jpg\" ></img></td><td><img width=300 src=\"val2014/COCO_val2014_000000437370.jpg\" ></img></td><td><img width=300 src=\"train2014/COCO_train2014_000000050294.jpg\" ></img></td><td><img width=300 src=\"val2014/COCO_val2014_000000109045.jpg\" ></img></td><td><img width=300 src=\"train2014/COCO_train2014_000000277243.jpg\" ></img></td></tr><tr><td><b>0.0000</b></td><td><b>0.0000</b></td><td><b>0.0000</b></td><td><b>0.0000</b></td><td><b>0.0000</b></td></tr><tr><td><img width=300 src=\"val2014/COCO_val2014_000000522990.jpg\" ></img></td><td><img width=300 src=\"train2014/COCO_train2014_000000255728.jpg\" ></img></td><td><img width=300 src=\"val2014/COCO_val2014_000000395849.jpg\" ></img></td><td><img width=300 src=\"val2014/COCO_val2014_000000073634.jpg\" ></img></td><td><img width=300 src=\"val2014/COCO_val2014_000000040485.jpg\" ></img></td></tr><tr><td><b>0.0000</b></td><td><b>0.0000</b></td><td><b>0.0000</b></td><td><b>0.0000</b></td><td><b>0.0000</b></td></tr></table>"
      ],
      "text/plain": [
       "<IPython.core.display.HTML object>"
      ]
     },
     "metadata": {},
     "output_type": "display_data"
    },
    {
     "name": "stdout",
     "output_type": "stream",
     "text": [
      "\n"
     ]
    },
    {
     "data": {
      "text/html": [
       "<table><tr><td><img width=300 src=\"val2014/COCO_val2014_000000052759.jpg\" ></img></td><td><img width=300 src=\"val2014/COCO_val2014_000000052759.jpg\" ></img></td></tr><tr><td><b>normal</b></td><td><b>contrastive</b></td></tr><tr><td><ol><li>a large jetliner sitting on top of an airport tarmac</li><li>a large jetliner sitting on top of an airport runway</li><li>a large jetliner sitting on top of a tarmac</li><li>a large jetliner sitting on top of a runway</li><li>a group of airplanes parked on top of an airport runway</li></ol></td><td><ol><li>a large jetliner sitting on top of an airport tarmac</li><li>a large jetliner sitting on top of an airport runway</li><li>a large jetliner sitting on top of a tarmac</li><li>a large jetliner sitting on top of a runway</li><li>there is a plane that is parked on the runway</li></ol></td></tr></table>"
      ],
      "text/plain": [
       "<IPython.core.display.HTML object>"
      ]
     },
     "metadata": {},
     "output_type": "display_data"
    },
    {
     "data": {
      "text/html": [
       "<table><tr><td><img width=300 src=\"val2014/COCO_val2014_000000052759.jpg\" ></img></td><td><img width=300 src=\"val2014/COCO_val2014_000000014756.jpg\" ></img></td></tr></table>"
      ],
      "text/plain": [
       "<IPython.core.display.HTML object>"
      ]
     },
     "metadata": {},
     "output_type": "display_data"
    },
    {
     "data": {
      "text/html": [
       "<table><tr><td><img width=300 src=\"val2014/COCO_val2014_000000014756.jpg\" ></img></td><td><img width=300 src=\"val2014/COCO_val2014_000000081303.jpg\" ></img></td><td><img width=300 src=\"train2014/COCO_train2014_000000321562.jpg\" ></img></td><td><img width=300 src=\"train2014/COCO_train2014_000000385795.jpg\" ></img></td><td><img width=300 src=\"train2014/COCO_train2014_000000509114.jpg\" ></img></td></tr><tr><td><b>0.1534</b></td><td><b>0.1518</b></td><td><b>0.1441</b></td><td><b>0.1340</b></td><td><b>0.1216</b></td></tr><tr><td><img width=300 src=\"train2014/COCO_train2014_000000150254.jpg\" ></img></td><td><img width=300 src=\"val2014/COCO_val2014_000000108111.jpg\" ></img></td><td><img width=300 src=\"val2014/COCO_val2014_000000240455.jpg\" ></img></td><td><img width=300 src=\"train2014/COCO_train2014_000000012522.jpg\" ></img></td><td><img width=300 src=\"val2014/COCO_val2014_000000549230.jpg\" ></img></td></tr><tr><td><b>0.1104</b></td><td><b>0.0614</b></td><td><b>0.0605</b></td><td><b>0.0183</b></td><td><b>0.0154</b></td></tr><tr><td><img width=300 src=\"train2014/COCO_train2014_000000106754.jpg\" ></img></td><td><img width=300 src=\"train2014/COCO_train2014_000000185588.jpg\" ></img></td><td><img width=300 src=\"val2014/COCO_val2014_000000375063.jpg\" ></img></td><td><img width=300 src=\"train2014/COCO_train2014_000000243029.jpg\" ></img></td><td><img width=300 src=\"train2014/COCO_train2014_000000572025.jpg\" ></img></td></tr><tr><td><b>0.0138</b></td><td><b>0.0100</b></td><td><b>0.0047</b></td><td><b>0.0005</b></td><td><b>0.0000</b></td></tr><tr><td><img width=300 src=\"val2014/COCO_val2014_000000198352.jpg\" ></img></td><td><img width=300 src=\"train2014/COCO_train2014_000000538285.jpg\" ></img></td><td><img width=300 src=\"train2014/COCO_train2014_000000032562.jpg\" ></img></td><td><img width=300 src=\"val2014/COCO_val2014_000000366792.jpg\" ></img></td><td><img width=300 src=\"val2014/COCO_val2014_000000073450.jpg\" ></img></td></tr><tr><td><b>0.0000</b></td><td><b>0.0000</b></td><td><b>0.0000</b></td><td><b>0.0000</b></td><td><b>0.0000</b></td></tr><tr><td><img width=300 src=\"val2014/COCO_val2014_000000289173.jpg\" ></img></td><td><img width=300 src=\"train2014/COCO_train2014_000000078825.jpg\" ></img></td><td><img width=300 src=\"val2014/COCO_val2014_000000513681.jpg\" ></img></td><td><img width=300 src=\"train2014/COCO_train2014_000000302281.jpg\" ></img></td><td><img width=300 src=\"train2014/COCO_train2014_000000100563.jpg\" ></img></td></tr><tr><td><b>0.0000</b></td><td><b>0.0000</b></td><td><b>0.0000</b></td><td><b>0.0000</b></td><td><b>0.0000</b></td></tr><tr><td><img width=300 src=\"train2014/COCO_train2014_000000154343.jpg\" ></img></td><td><img width=300 src=\"val2014/COCO_val2014_000000373029.jpg\" ></img></td><td><img width=300 src=\"train2014/COCO_train2014_000000434381.jpg\" ></img></td><td><img width=300 src=\"train2014/COCO_train2014_000000190338.jpg\" ></img></td><td><img width=300 src=\"train2014/COCO_train2014_000000419682.jpg\" ></img></td></tr><tr><td><b>0.0000</b></td><td><b>0.0000</b></td><td><b>0.0000</b></td><td><b>0.0000</b></td><td><b>0.0000</b></td></tr><tr><td><img width=300 src=\"train2014/COCO_train2014_000000518305.jpg\" ></img></td><td><img width=300 src=\"train2014/COCO_train2014_000000247459.jpg\" ></img></td><td><img width=300 src=\"train2014/COCO_train2014_000000322350.jpg\" ></img></td><td><img width=300 src=\"train2014/COCO_train2014_000000360606.jpg\" ></img></td><td><img width=300 src=\"val2014/COCO_val2014_000000550055.jpg\" ></img></td></tr><tr><td><b>0.0000</b></td><td><b>0.0000</b></td><td><b>0.0000</b></td><td><b>0.0000</b></td><td><b>0.0000</b></td></tr><tr><td><img width=300 src=\"train2014/COCO_train2014_000000387161.jpg\" ></img></td><td><img width=300 src=\"train2014/COCO_train2014_000000581797.jpg\" ></img></td><td><img width=300 src=\"train2014/COCO_train2014_000000252132.jpg\" ></img></td><td><img width=300 src=\"train2014/COCO_train2014_000000408206.jpg\" ></img></td><td><img width=300 src=\"train2014/COCO_train2014_000000421314.jpg\" ></img></td></tr><tr><td><b>0.0000</b></td><td><b>0.0000</b></td><td><b>0.0000</b></td><td><b>0.0000</b></td><td><b>0.0000</b></td></tr></table>"
      ],
      "text/plain": [
       "<IPython.core.display.HTML object>"
      ]
     },
     "metadata": {},
     "output_type": "display_data"
    },
    {
     "name": "stdout",
     "output_type": "stream",
     "text": [
      "\n"
     ]
    },
    {
     "data": {
      "text/html": [
       "<table><tr><td><img width=300 src=\"val2014/COCO_val2014_000000128939.jpg\" ></img></td><td><img width=300 src=\"val2014/COCO_val2014_000000128939.jpg\" ></img></td></tr><tr><td><b>normal</b></td><td><b>contrastive</b></td></tr><tr><td><ol><li>a white car is stopped at a red light</li><li>a car is stopped at a traffic light</li><li>a white car parked on the side of a street</li><li>a white car parked on the side of a road</li><li>a white car parked on the side of the road</li></ol></td><td><ol><li>a white car is stopped at a red light</li><li>a car is stopped at a traffic light</li><li>a white car parked on the side of a street</li><li>a white car parked on the side of a road</li><li>a white car parked on the side of the road</li></ol></td></tr></table>"
      ],
      "text/plain": [
       "<IPython.core.display.HTML object>"
      ]
     },
     "metadata": {},
     "output_type": "display_data"
    },
    {
     "data": {
      "text/html": [
       "<table><tr><td><img width=300 src=\"val2014/COCO_val2014_000000128939.jpg\" ></img></td><td><img width=300 src=\"train2014/COCO_train2014_000000142660.jpg\" ></img></td></tr></table>"
      ],
      "text/plain": [
       "<IPython.core.display.HTML object>"
      ]
     },
     "metadata": {},
     "output_type": "display_data"
    },
    {
     "data": {
      "text/html": [
       "<table><tr><td><img width=300 src=\"train2014/COCO_train2014_000000142660.jpg\" ></img></td><td><img width=300 src=\"train2014/COCO_train2014_000000195850.jpg\" ></img></td><td><img width=300 src=\"train2014/COCO_train2014_000000171374.jpg\" ></img></td><td><img width=300 src=\"val2014/COCO_val2014_000000059239.jpg\" ></img></td><td><img width=300 src=\"train2014/COCO_train2014_000000415026.jpg\" ></img></td></tr><tr><td><b>0.1341</b></td><td><b>0.0900</b></td><td><b>0.0779</b></td><td><b>0.0697</b></td><td><b>0.0688</b></td></tr><tr><td><img width=300 src=\"train2014/COCO_train2014_000000186121.jpg\" ></img></td><td><img width=300 src=\"val2014/COCO_val2014_000000221828.jpg\" ></img></td><td><img width=300 src=\"train2014/COCO_train2014_000000231393.jpg\" ></img></td><td><img width=300 src=\"train2014/COCO_train2014_000000564235.jpg\" ></img></td><td><img width=300 src=\"train2014/COCO_train2014_000000217449.jpg\" ></img></td></tr><tr><td><b>0.0654</b></td><td><b>0.0632</b></td><td><b>0.0630</b></td><td><b>0.0626</b></td><td><b>0.0574</b></td></tr><tr><td><img width=300 src=\"train2014/COCO_train2014_000000457530.jpg\" ></img></td><td><img width=300 src=\"train2014/COCO_train2014_000000562940.jpg\" ></img></td><td><img width=300 src=\"train2014/COCO_train2014_000000191098.jpg\" ></img></td><td><img width=300 src=\"val2014/COCO_val2014_000000047611.jpg\" ></img></td><td><img width=300 src=\"train2014/COCO_train2014_000000342385.jpg\" ></img></td></tr><tr><td><b>0.0539</b></td><td><b>0.0522</b></td><td><b>0.0438</b></td><td><b>0.0332</b></td><td><b>0.0223</b></td></tr><tr><td><img width=300 src=\"train2014/COCO_train2014_000000125252.jpg\" ></img></td><td><img width=300 src=\"train2014/COCO_train2014_000000453152.jpg\" ></img></td><td><img width=300 src=\"train2014/COCO_train2014_000000157594.jpg\" ></img></td><td><img width=300 src=\"val2014/COCO_val2014_000000211047.jpg\" ></img></td><td><img width=300 src=\"train2014/COCO_train2014_000000060378.jpg\" ></img></td></tr><tr><td><b>0.0144</b></td><td><b>0.0125</b></td><td><b>0.0059</b></td><td><b>0.0035</b></td><td><b>0.0025</b></td></tr><tr><td><img width=300 src=\"train2014/COCO_train2014_000000010434.jpg\" ></img></td><td><img width=300 src=\"train2014/COCO_train2014_000000181564.jpg\" ></img></td><td><img width=300 src=\"train2014/COCO_train2014_000000178181.jpg\" ></img></td><td><img width=300 src=\"val2014/COCO_val2014_000000198004.jpg\" ></img></td><td><img width=300 src=\"val2014/COCO_val2014_000000267224.jpg\" ></img></td></tr><tr><td><b>0.0011</b></td><td><b>0.0007</b></td><td><b>0.0003</b></td><td><b>0.0003</b></td><td><b>0.0003</b></td></tr><tr><td><img width=300 src=\"train2014/COCO_train2014_000000326320.jpg\" ></img></td><td><img width=300 src=\"val2014/COCO_val2014_000000263594.jpg\" ></img></td><td><img width=300 src=\"train2014/COCO_train2014_000000494574.jpg\" ></img></td><td><img width=300 src=\"train2014/COCO_train2014_000000435929.jpg\" ></img></td><td><img width=300 src=\"val2014/COCO_val2014_000000380057.jpg\" ></img></td></tr><tr><td><b>0.0002</b></td><td><b>0.0001</b></td><td><b>0.0001</b></td><td><b>0.0001</b></td><td><b>0.0001</b></td></tr><tr><td><img width=300 src=\"train2014/COCO_train2014_000000296489.jpg\" ></img></td><td><img width=300 src=\"val2014/COCO_val2014_000000059455.jpg\" ></img></td><td><img width=300 src=\"train2014/COCO_train2014_000000417607.jpg\" ></img></td><td><img width=300 src=\"train2014/COCO_train2014_000000323489.jpg\" ></img></td><td><img width=300 src=\"train2014/COCO_train2014_000000406839.jpg\" ></img></td></tr><tr><td><b>0.0001</b></td><td><b>0.0001</b></td><td><b>0.0000</b></td><td><b>0.0000</b></td><td><b>0.0000</b></td></tr><tr><td><img width=300 src=\"train2014/COCO_train2014_000000181061.jpg\" ></img></td><td><img width=300 src=\"train2014/COCO_train2014_000000453332.jpg\" ></img></td><td><img width=300 src=\"val2014/COCO_val2014_000000201859.jpg\" ></img></td><td><img width=300 src=\"train2014/COCO_train2014_000000166637.jpg\" ></img></td><td><img width=300 src=\"val2014/COCO_val2014_000000083214.jpg\" ></img></td></tr><tr><td><b>0.0000</b></td><td><b>0.0000</b></td><td><b>0.0000</b></td><td><b>0.0000</b></td><td><b>0.0000</b></td></tr></table>"
      ],
      "text/plain": [
       "<IPython.core.display.HTML object>"
      ]
     },
     "metadata": {},
     "output_type": "display_data"
    },
    {
     "name": "stdout",
     "output_type": "stream",
     "text": [
      "\n"
     ]
    },
    {
     "data": {
      "text/html": [
       "<table><tr><td><img width=300 src=\"val2014/COCO_val2014_000000339974.jpg\" ></img></td><td><img width=300 src=\"val2014/COCO_val2014_000000339974.jpg\" ></img></td></tr><tr><td><b>normal</b></td><td><b>contrastive</b></td></tr><tr><td><ol><li>a green traffic light sitting on the side of a road</li><li>a green traffic light sitting next to a traffic light</li><li>a couple of traffic lights on a pole</li><li>a traffic light with a green light on it</li><li>a green traffic light sitting next to a street</li></ol></td><td><ol><li>a green traffic light sitting on the side of a road</li><li>a green traffic light sitting next to a traffic light</li><li>a traffic light with a green light on it</li><li>a green traffic light sitting next to a street</li><li>a green traffic light sitting on the side of a street</li></ol></td></tr></table>"
      ],
      "text/plain": [
       "<IPython.core.display.HTML object>"
      ]
     },
     "metadata": {},
     "output_type": "display_data"
    },
    {
     "data": {
      "text/html": [
       "<table><tr><td><img width=300 src=\"val2014/COCO_val2014_000000339974.jpg\" ></img></td><td><img width=300 src=\"val2014/COCO_val2014_000000453369.jpg\" ></img></td></tr></table>"
      ],
      "text/plain": [
       "<IPython.core.display.HTML object>"
      ]
     },
     "metadata": {},
     "output_type": "display_data"
    },
    {
     "data": {
      "text/html": [
       "<table><tr><td><img width=300 src=\"val2014/COCO_val2014_000000453369.jpg\" ></img></td><td><img width=300 src=\"train2014/COCO_train2014_000000182098.jpg\" ></img></td><td><img width=300 src=\"train2014/COCO_train2014_000000358134.jpg\" ></img></td><td><img width=300 src=\"train2014/COCO_train2014_000000237355.jpg\" ></img></td><td><img width=300 src=\"train2014/COCO_train2014_000000254615.jpg\" ></img></td></tr><tr><td><b>0.1659</b></td><td><b>0.1445</b></td><td><b>0.1425</b></td><td><b>0.1020</b></td><td><b>0.0936</b></td></tr><tr><td><img width=300 src=\"train2014/COCO_train2014_000000347524.jpg\" ></img></td><td><img width=300 src=\"train2014/COCO_train2014_000000470055.jpg\" ></img></td><td><img width=300 src=\"train2014/COCO_train2014_000000560202.jpg\" ></img></td><td><img width=300 src=\"train2014/COCO_train2014_000000015153.jpg\" ></img></td><td><img width=300 src=\"train2014/COCO_train2014_000000194820.jpg\" ></img></td></tr><tr><td><b>0.0873</b></td><td><b>0.0846</b></td><td><b>0.0838</b></td><td><b>0.0364</b></td><td><b>0.0238</b></td></tr><tr><td><img width=300 src=\"train2014/COCO_train2014_000000156700.jpg\" ></img></td><td><img width=300 src=\"val2014/COCO_val2014_000000406403.jpg\" ></img></td><td><img width=300 src=\"train2014/COCO_train2014_000000356791.jpg\" ></img></td><td><img width=300 src=\"val2014/COCO_val2014_000000209733.jpg\" ></img></td><td><img width=300 src=\"val2014/COCO_val2014_000000513646.jpg\" ></img></td></tr><tr><td><b>0.0226</b></td><td><b>0.0124</b></td><td><b>0.0004</b></td><td><b>0.0000</b></td><td><b>0.0000</b></td></tr><tr><td><img width=300 src=\"val2014/COCO_val2014_000000518574.jpg\" ></img></td><td><img width=300 src=\"train2014/COCO_train2014_000000065028.jpg\" ></img></td><td><img width=300 src=\"val2014/COCO_val2014_000000226567.jpg\" ></img></td><td><img width=300 src=\"val2014/COCO_val2014_000000460229.jpg\" ></img></td><td><img width=300 src=\"val2014/COCO_val2014_000000168234.jpg\" ></img></td></tr><tr><td><b>0.0000</b></td><td><b>0.0000</b></td><td><b>0.0000</b></td><td><b>0.0000</b></td><td><b>0.0000</b></td></tr><tr><td><img width=300 src=\"train2014/COCO_train2014_000000193293.jpg\" ></img></td><td><img width=300 src=\"train2014/COCO_train2014_000000132621.jpg\" ></img></td><td><img width=300 src=\"val2014/COCO_val2014_000000315072.jpg\" ></img></td><td><img width=300 src=\"train2014/COCO_train2014_000000098155.jpg\" ></img></td><td><img width=300 src=\"val2014/COCO_val2014_000000453841.jpg\" ></img></td></tr><tr><td><b>0.0000</b></td><td><b>0.0000</b></td><td><b>0.0000</b></td><td><b>0.0000</b></td><td><b>0.0000</b></td></tr><tr><td><img width=300 src=\"train2014/COCO_train2014_000000063035.jpg\" ></img></td><td><img width=300 src=\"train2014/COCO_train2014_000000108536.jpg\" ></img></td><td><img width=300 src=\"train2014/COCO_train2014_000000138807.jpg\" ></img></td><td><img width=300 src=\"train2014/COCO_train2014_000000204889.jpg\" ></img></td><td><img width=300 src=\"train2014/COCO_train2014_000000120077.jpg\" ></img></td></tr><tr><td><b>0.0000</b></td><td><b>0.0000</b></td><td><b>0.0000</b></td><td><b>0.0000</b></td><td><b>0.0000</b></td></tr><tr><td><img width=300 src=\"train2014/COCO_train2014_000000061945.jpg\" ></img></td><td><img width=300 src=\"train2014/COCO_train2014_000000124739.jpg\" ></img></td><td><img width=300 src=\"train2014/COCO_train2014_000000473741.jpg\" ></img></td><td><img width=300 src=\"train2014/COCO_train2014_000000157029.jpg\" ></img></td><td><img width=300 src=\"train2014/COCO_train2014_000000145062.jpg\" ></img></td></tr><tr><td><b>0.0000</b></td><td><b>0.0000</b></td><td><b>0.0000</b></td><td><b>0.0000</b></td><td><b>0.0000</b></td></tr><tr><td><img width=300 src=\"train2014/COCO_train2014_000000561861.jpg\" ></img></td><td><img width=300 src=\"train2014/COCO_train2014_000000301769.jpg\" ></img></td><td><img width=300 src=\"train2014/COCO_train2014_000000396415.jpg\" ></img></td><td><img width=300 src=\"train2014/COCO_train2014_000000121997.jpg\" ></img></td><td><img width=300 src=\"train2014/COCO_train2014_000000551590.jpg\" ></img></td></tr><tr><td><b>0.0000</b></td><td><b>0.0000</b></td><td><b>0.0000</b></td><td><b>0.0000</b></td><td><b>0.0000</b></td></tr></table>"
      ],
      "text/plain": [
       "<IPython.core.display.HTML object>"
      ]
     },
     "metadata": {},
     "output_type": "display_data"
    },
    {
     "name": "stdout",
     "output_type": "stream",
     "text": [
      "\n"
     ]
    }
   ],
   "source": [
    "# rinetuned-resume 1.0 with closest+random\n",
    "display_em_model(next(loader.iters['val']), k=20, neighbor_types=['closest', 'random'], choose_distractor=True)"
   ]
  },
  {
   "cell_type": "code",
   "execution_count": 36,
   "metadata": {
    "scrolled": false
   },
   "outputs": [
    {
     "data": {
      "text/html": [
       "<table><tr><td><img width=300 src=\"val2014/COCO_val2014_000000310391.jpg\" ></img></td><td><img width=300 src=\"val2014/COCO_val2014_000000310391.jpg\" ></img></td></tr><tr><td><b>normal</b></td><td><b>contrastive</b></td></tr><tr><td><ol><li>a blue truck parked on top of a lush green field</li><li>a blue truck parked on top of a grass covered field</li><li>a blue truck parked on top of a grass field</li><li>a blue and blue truck parked in the grass</li><li>a blue and blue truck parked in a field</li></ol></td><td><ol><li>a blue truck is parked in the grass</li><li>a blue truck is parked on the grass</li><li>a blue truck is parked in a field</li><li>a blue and blue truck parked in a field</li><li>a blue truck parked in a field with people</li></ol></td></tr></table>"
      ],
      "text/plain": [
       "<IPython.core.display.HTML object>"
      ]
     },
     "metadata": {},
     "output_type": "display_data"
    },
    {
     "data": {
      "text/html": [
       "<table><tr><td><img width=300 src=\"val2014/COCO_val2014_000000310391.jpg\" ></img></td><td><img width=300 src=\"train2014/COCO_train2014_000000355987.jpg\" ></img></td></tr></table>"
      ],
      "text/plain": [
       "<IPython.core.display.HTML object>"
      ]
     },
     "metadata": {},
     "output_type": "display_data"
    },
    {
     "data": {
      "text/html": [
       "<table><tr><td><img width=300 src=\"train2014/COCO_train2014_000000355987.jpg\" ></img></td><td><img width=300 src=\"train2014/COCO_train2014_000000496874.jpg\" ></img></td><td><img width=300 src=\"val2014/COCO_val2014_000000503765.jpg\" ></img></td><td><img width=300 src=\"train2014/COCO_train2014_000000079563.jpg\" ></img></td><td><img width=300 src=\"val2014/COCO_val2014_000000516798.jpg\" ></img></td></tr><tr><td><b>0.2190</b></td><td><b>0.1348</b></td><td><b>0.1037</b></td><td><b>0.0992</b></td><td><b>0.0946</b></td></tr><tr><td><img width=300 src=\"train2014/COCO_train2014_000000401235.jpg\" ></img></td><td><img width=300 src=\"train2014/COCO_train2014_000000419645.jpg\" ></img></td><td><img width=300 src=\"train2014/COCO_train2014_000000044491.jpg\" ></img></td><td><img width=300 src=\"val2014/COCO_val2014_000000235788.jpg\" ></img></td><td><img width=300 src=\"train2014/COCO_train2014_000000224753.jpg\" ></img></td></tr><tr><td><b>0.0723</b></td><td><b>0.0711</b></td><td><b>0.0693</b></td><td><b>0.0685</b></td><td><b>0.0674</b></td></tr></table>"
      ],
      "text/plain": [
       "<IPython.core.display.HTML object>"
      ]
     },
     "metadata": {},
     "output_type": "display_data"
    },
    {
     "name": "stdout",
     "output_type": "stream",
     "text": [
      "\n"
     ]
    },
    {
     "data": {
      "text/html": [
       "<table><tr><td><img width=300 src=\"val2014/COCO_val2014_000000241876.jpg\" ></img></td><td><img width=300 src=\"val2014/COCO_val2014_000000241876.jpg\" ></img></td></tr><tr><td><b>normal</b></td><td><b>contrastive</b></td></tr><tr><td><ol><li>a black cat drinking water from a toilet</li><li>a black cat sitting on top of a toilet seat</li><li>a cat sitting on top of a toilet seat</li><li>a black cat sitting on top of a white toilet seat</li><li>a black cat sitting on top of a toilet</li></ol></td><td><ol><li>a black cat drinking water from a toilet</li><li>a black cat sitting on top of a toilet seat</li><li>a black cat standing on top of a toilet seat</li><li>a black cat sitting on top of a white toilet seat</li><li>a black cat drinking water from a toilet bowl</li></ol></td></tr></table>"
      ],
      "text/plain": [
       "<IPython.core.display.HTML object>"
      ]
     },
     "metadata": {},
     "output_type": "display_data"
    },
    {
     "data": {
      "text/html": [
       "<table><tr><td><img width=300 src=\"val2014/COCO_val2014_000000241876.jpg\" ></img></td><td><img width=300 src=\"train2014/COCO_train2014_000000225713.jpg\" ></img></td></tr></table>"
      ],
      "text/plain": [
       "<IPython.core.display.HTML object>"
      ]
     },
     "metadata": {},
     "output_type": "display_data"
    },
    {
     "data": {
      "text/html": [
       "<table><tr><td><img width=300 src=\"train2014/COCO_train2014_000000225713.jpg\" ></img></td><td><img width=300 src=\"train2014/COCO_train2014_000000447985.jpg\" ></img></td><td><img width=300 src=\"train2014/COCO_train2014_000000473793.jpg\" ></img></td><td><img width=300 src=\"train2014/COCO_train2014_000000012315.jpg\" ></img></td><td><img width=300 src=\"train2014/COCO_train2014_000000479780.jpg\" ></img></td></tr><tr><td><b>0.2344</b></td><td><b>0.1473</b></td><td><b>0.1402</b></td><td><b>0.1248</b></td><td><b>0.0795</b></td></tr><tr><td><img width=300 src=\"val2014/COCO_val2014_000000562289.jpg\" ></img></td><td><img width=300 src=\"train2014/COCO_train2014_000000012102.jpg\" ></img></td><td><img width=300 src=\"train2014/COCO_train2014_000000126810.jpg\" ></img></td><td><img width=300 src=\"val2014/COCO_val2014_000000098302.jpg\" ></img></td><td><img width=300 src=\"train2014/COCO_train2014_000000382056.jpg\" ></img></td></tr><tr><td><b>0.0716</b></td><td><b>0.0603</b></td><td><b>0.0538</b></td><td><b>0.0472</b></td><td><b>0.0408</b></td></tr></table>"
      ],
      "text/plain": [
       "<IPython.core.display.HTML object>"
      ]
     },
     "metadata": {},
     "output_type": "display_data"
    },
    {
     "name": "stdout",
     "output_type": "stream",
     "text": [
      "\n"
     ]
    },
    {
     "data": {
      "text/html": [
       "<table><tr><td><img width=300 src=\"val2014/COCO_val2014_000000462341.jpg\" ></img></td><td><img width=300 src=\"val2014/COCO_val2014_000000462341.jpg\" ></img></td></tr><tr><td><b>normal</b></td><td><b>contrastive</b></td></tr><tr><td><ol><li>a tall tower with a clock on it</li><li>a tall tower with a clock on top</li><li>a tall tower with a clock on the top</li><li>a tower with a clock on the top of it</li><li>a church steeple with a clock on the top</li></ol></td><td><ol><li>a tall tower with a clock on it</li><li>a tall tower with a clock on top</li><li>a tall tower with a clock on the top</li><li>a church steeple with a clock on the top</li><li>a tall clock tower with a clock on its side</li></ol></td></tr></table>"
      ],
      "text/plain": [
       "<IPython.core.display.HTML object>"
      ]
     },
     "metadata": {},
     "output_type": "display_data"
    },
    {
     "data": {
      "text/html": [
       "<table><tr><td><img width=300 src=\"val2014/COCO_val2014_000000462341.jpg\" ></img></td><td><img width=300 src=\"train2014/COCO_train2014_000000506910.jpg\" ></img></td></tr></table>"
      ],
      "text/plain": [
       "<IPython.core.display.HTML object>"
      ]
     },
     "metadata": {},
     "output_type": "display_data"
    },
    {
     "data": {
      "text/html": [
       "<table><tr><td><img width=300 src=\"train2014/COCO_train2014_000000506910.jpg\" ></img></td><td><img width=300 src=\"train2014/COCO_train2014_000000345357.jpg\" ></img></td><td><img width=300 src=\"train2014/COCO_train2014_000000347312.jpg\" ></img></td><td><img width=300 src=\"train2014/COCO_train2014_000000452259.jpg\" ></img></td><td><img width=300 src=\"train2014/COCO_train2014_000000450426.jpg\" ></img></td></tr><tr><td><b>0.1544</b></td><td><b>0.1460</b></td><td><b>0.1359</b></td><td><b>0.1262</b></td><td><b>0.0919</b></td></tr><tr><td><img width=300 src=\"val2014/COCO_val2014_000000050965.jpg\" ></img></td><td><img width=300 src=\"val2014/COCO_val2014_000000578786.jpg\" ></img></td><td><img width=300 src=\"train2014/COCO_train2014_000000103513.jpg\" ></img></td><td><img width=300 src=\"train2014/COCO_train2014_000000021945.jpg\" ></img></td><td><img width=300 src=\"train2014/COCO_train2014_000000481042.jpg\" ></img></td></tr><tr><td><b>0.0845</b></td><td><b>0.0778</b></td><td><b>0.0766</b></td><td><b>0.0537</b></td><td><b>0.0531</b></td></tr></table>"
      ],
      "text/plain": [
       "<IPython.core.display.HTML object>"
      ]
     },
     "metadata": {},
     "output_type": "display_data"
    },
    {
     "name": "stdout",
     "output_type": "stream",
     "text": [
      "\n"
     ]
    },
    {
     "data": {
      "text/html": [
       "<table><tr><td><img width=300 src=\"val2014/COCO_val2014_000000268556.jpg\" ></img></td><td><img width=300 src=\"val2014/COCO_val2014_000000268556.jpg\" ></img></td></tr><tr><td><b>normal</b></td><td><b>contrastive</b></td></tr><tr><td><ol><li>a woman riding on the back of a motorcycle</li><li>a woman riding a motorcycle down a street</li><li>a woman riding on the back of a motorcycle down a street</li><li>a person riding a motorcycle on a city street</li><li>a woman riding a motorcycle down the street</li></ol></td><td><ol><li>a woman riding on the back of a motorcycle</li><li>a woman riding a motorcycle down a street</li><li>a woman riding on the back of a motorcycle down a street</li><li>a person riding a motorcycle on a city street</li><li>a woman riding a motorcycle down the street</li></ol></td></tr></table>"
      ],
      "text/plain": [
       "<IPython.core.display.HTML object>"
      ]
     },
     "metadata": {},
     "output_type": "display_data"
    },
    {
     "data": {
      "text/html": [
       "<table><tr><td><img width=300 src=\"val2014/COCO_val2014_000000268556.jpg\" ></img></td><td><img width=300 src=\"train2014/COCO_train2014_000000366430.jpg\" ></img></td></tr></table>"
      ],
      "text/plain": [
       "<IPython.core.display.HTML object>"
      ]
     },
     "metadata": {},
     "output_type": "display_data"
    },
    {
     "data": {
      "text/html": [
       "<table><tr><td><img width=300 src=\"train2014/COCO_train2014_000000366430.jpg\" ></img></td><td><img width=300 src=\"val2014/COCO_val2014_000000007325.jpg\" ></img></td><td><img width=300 src=\"val2014/COCO_val2014_000000340778.jpg\" ></img></td><td><img width=300 src=\"train2014/COCO_train2014_000000148727.jpg\" ></img></td><td><img width=300 src=\"val2014/COCO_val2014_000000175831.jpg\" ></img></td></tr><tr><td><b>0.1605</b></td><td><b>0.1470</b></td><td><b>0.1246</b></td><td><b>0.0960</b></td><td><b>0.0916</b></td></tr><tr><td><img width=300 src=\"val2014/COCO_val2014_000000045110.jpg\" ></img></td><td><img width=300 src=\"train2014/COCO_train2014_000000255604.jpg\" ></img></td><td><img width=300 src=\"train2014/COCO_train2014_000000540840.jpg\" ></img></td><td><img width=300 src=\"train2014/COCO_train2014_000000174354.jpg\" ></img></td><td><img width=300 src=\"train2014/COCO_train2014_000000482252.jpg\" ></img></td></tr><tr><td><b>0.0914</b></td><td><b>0.0914</b></td><td><b>0.0803</b></td><td><b>0.0685</b></td><td><b>0.0487</b></td></tr></table>"
      ],
      "text/plain": [
       "<IPython.core.display.HTML object>"
      ]
     },
     "metadata": {},
     "output_type": "display_data"
    },
    {
     "name": "stdout",
     "output_type": "stream",
     "text": [
      "\n"
     ]
    },
    {
     "data": {
      "text/html": [
       "<table><tr><td><img width=300 src=\"val2014/COCO_val2014_000000386912.jpg\" ></img></td><td><img width=300 src=\"val2014/COCO_val2014_000000386912.jpg\" ></img></td></tr><tr><td><b>normal</b></td><td><b>contrastive</b></td></tr><tr><td><ol><li>a woman sitting at a desk with a computer</li><li>a woman sitting at a desk with a laptop</li><li>a woman sitting at a desk in a room</li><li>a woman sitting at a desk in front of a computer</li><li>a woman sitting at a desk with a laptop computer</li></ol></td><td><ol><li>a woman sitting at a desk with a computer</li><li>a woman sitting at a desk with a laptop</li><li>a woman sitting at a desk in a room</li><li>a woman sitting at a desk in front of a computer</li><li>a woman sitting at a desk with a laptop computer</li></ol></td></tr></table>"
      ],
      "text/plain": [
       "<IPython.core.display.HTML object>"
      ]
     },
     "metadata": {},
     "output_type": "display_data"
    },
    {
     "data": {
      "text/html": [
       "<table><tr><td><img width=300 src=\"val2014/COCO_val2014_000000386912.jpg\" ></img></td><td><img width=300 src=\"train2014/COCO_train2014_000000003685.jpg\" ></img></td></tr></table>"
      ],
      "text/plain": [
       "<IPython.core.display.HTML object>"
      ]
     },
     "metadata": {},
     "output_type": "display_data"
    },
    {
     "data": {
      "text/html": [
       "<table><tr><td><img width=300 src=\"train2014/COCO_train2014_000000003685.jpg\" ></img></td><td><img width=300 src=\"train2014/COCO_train2014_000000497010.jpg\" ></img></td><td><img width=300 src=\"train2014/COCO_train2014_000000336839.jpg\" ></img></td><td><img width=300 src=\"train2014/COCO_train2014_000000031587.jpg\" ></img></td><td><img width=300 src=\"train2014/COCO_train2014_000000563391.jpg\" ></img></td></tr><tr><td><b>0.1305</b></td><td><b>0.1278</b></td><td><b>0.1032</b></td><td><b>0.1013</b></td><td><b>0.1002</b></td></tr><tr><td><img width=300 src=\"train2014/COCO_train2014_000000275997.jpg\" ></img></td><td><img width=300 src=\"train2014/COCO_train2014_000000272647.jpg\" ></img></td><td><img width=300 src=\"train2014/COCO_train2014_000000136185.jpg\" ></img></td><td><img width=300 src=\"train2014/COCO_train2014_000000096723.jpg\" ></img></td><td><img width=300 src=\"val2014/COCO_val2014_000000121586.jpg\" ></img></td></tr><tr><td><b>0.0959</b></td><td><b>0.0913</b></td><td><b>0.0877</b></td><td><b>0.0829</b></td><td><b>0.0790</b></td></tr></table>"
      ],
      "text/plain": [
       "<IPython.core.display.HTML object>"
      ]
     },
     "metadata": {},
     "output_type": "display_data"
    },
    {
     "name": "stdout",
     "output_type": "stream",
     "text": [
      "\n"
     ]
    },
    {
     "data": {
      "text/html": [
       "<table><tr><td><img width=300 src=\"val2014/COCO_val2014_000000074331.jpg\" ></img></td><td><img width=300 src=\"val2014/COCO_val2014_000000074331.jpg\" ></img></td></tr><tr><td><b>normal</b></td><td><b>contrastive</b></td></tr><tr><td><ol><li>a grocery store filled with lots of bananas</li><li>a bunch of bananas that are in a box</li><li>a grocery store filled with lots of ripe bananas</li><li>a bunch of bananas that are in a plastic bag</li><li>a grocery store filled with lots of different types of fruit</li></ol></td><td><ol><li>a grocery store filled with lots of bananas</li><li>a grocery store filled with lots of ripe bananas</li><li>a bunch of bananas that are in a box</li><li>a grocery store filled with lots of different</li><li>a grocery store filled with lots of different types of fruit</li></ol></td></tr></table>"
      ],
      "text/plain": [
       "<IPython.core.display.HTML object>"
      ]
     },
     "metadata": {},
     "output_type": "display_data"
    },
    {
     "data": {
      "text/html": [
       "<table><tr><td><img width=300 src=\"val2014/COCO_val2014_000000074331.jpg\" ></img></td><td><img width=300 src=\"train2014/COCO_train2014_000000332891.jpg\" ></img></td></tr></table>"
      ],
      "text/plain": [
       "<IPython.core.display.HTML object>"
      ]
     },
     "metadata": {},
     "output_type": "display_data"
    },
    {
     "data": {
      "text/html": [
       "<table><tr><td><img width=300 src=\"train2014/COCO_train2014_000000332891.jpg\" ></img></td><td><img width=300 src=\"val2014/COCO_val2014_000000114504.jpg\" ></img></td><td><img width=300 src=\"val2014/COCO_val2014_000000504541.jpg\" ></img></td><td><img width=300 src=\"train2014/COCO_train2014_000000436354.jpg\" ></img></td><td><img width=300 src=\"train2014/COCO_train2014_000000259297.jpg\" ></img></td></tr><tr><td><b>0.1756</b></td><td><b>0.1754</b></td><td><b>0.1326</b></td><td><b>0.1169</b></td><td><b>0.1146</b></td></tr><tr><td><img width=300 src=\"train2014/COCO_train2014_000000514902.jpg\" ></img></td><td><img width=300 src=\"train2014/COCO_train2014_000000544687.jpg\" ></img></td><td><img width=300 src=\"train2014/COCO_train2014_000000364748.jpg\" ></img></td><td><img width=300 src=\"train2014/COCO_train2014_000000110886.jpg\" ></img></td><td><img width=300 src=\"train2014/COCO_train2014_000000537862.jpg\" ></img></td></tr><tr><td><b>0.0983</b></td><td><b>0.0745</b></td><td><b>0.0546</b></td><td><b>0.0398</b></td><td><b>0.0177</b></td></tr></table>"
      ],
      "text/plain": [
       "<IPython.core.display.HTML object>"
      ]
     },
     "metadata": {},
     "output_type": "display_data"
    },
    {
     "name": "stdout",
     "output_type": "stream",
     "text": [
      "\n"
     ]
    },
    {
     "data": {
      "text/html": [
       "<table><tr><td><img width=300 src=\"val2014/COCO_val2014_000000078371.jpg\" ></img></td><td><img width=300 src=\"val2014/COCO_val2014_000000078371.jpg\" ></img></td></tr><tr><td><b>normal</b></td><td><b>contrastive</b></td></tr><tr><td><ol><li>a small plane sitting on top of a runway</li><li>a small plane sitting on top of a tarmac</li><li>a small plane is parked on the runway</li><li>a small plane is parked on a runway</li><li>a small plane sitting on top of an airport tarmac</li></ol></td><td><ol><li>a plane that is sitting on a runway</li><li>a plane that is parked on a runway</li><li>a plane that is sitting on a tarmac</li><li>a plane that is parked on the runway</li><li>a plane that is sitting on the runway</li></ol></td></tr></table>"
      ],
      "text/plain": [
       "<IPython.core.display.HTML object>"
      ]
     },
     "metadata": {},
     "output_type": "display_data"
    },
    {
     "data": {
      "text/html": [
       "<table><tr><td><img width=300 src=\"val2014/COCO_val2014_000000078371.jpg\" ></img></td><td><img width=300 src=\"val2014/COCO_val2014_000000515043.jpg\" ></img></td></tr></table>"
      ],
      "text/plain": [
       "<IPython.core.display.HTML object>"
      ]
     },
     "metadata": {},
     "output_type": "display_data"
    },
    {
     "data": {
      "text/html": [
       "<table><tr><td><img width=300 src=\"val2014/COCO_val2014_000000515043.jpg\" ></img></td><td><img width=300 src=\"val2014/COCO_val2014_000000395849.jpg\" ></img></td><td><img width=300 src=\"train2014/COCO_train2014_000000255728.jpg\" ></img></td><td><img width=300 src=\"train2014/COCO_train2014_000000427803.jpg\" ></img></td><td><img width=300 src=\"train2014/COCO_train2014_000000101626.jpg\" ></img></td></tr><tr><td><b>0.1651</b></td><td><b>0.1556</b></td><td><b>0.1440</b></td><td><b>0.0937</b></td><td><b>0.0930</b></td></tr><tr><td><img width=300 src=\"train2014/COCO_train2014_000000050294.jpg\" ></img></td><td><img width=300 src=\"val2014/COCO_val2014_000000109045.jpg\" ></img></td><td><img width=300 src=\"train2014/COCO_train2014_000000250920.jpg\" ></img></td><td><img width=300 src=\"val2014/COCO_val2014_000000024790.jpg\" ></img></td><td><img width=300 src=\"val2014/COCO_val2014_000000437370.jpg\" ></img></td></tr><tr><td><b>0.0790</b></td><td><b>0.0756</b></td><td><b>0.0696</b></td><td><b>0.0694</b></td><td><b>0.0551</b></td></tr></table>"
      ],
      "text/plain": [
       "<IPython.core.display.HTML object>"
      ]
     },
     "metadata": {},
     "output_type": "display_data"
    },
    {
     "name": "stdout",
     "output_type": "stream",
     "text": [
      "\n"
     ]
    },
    {
     "data": {
      "text/html": [
       "<table><tr><td><img width=300 src=\"val2014/COCO_val2014_000000052759.jpg\" ></img></td><td><img width=300 src=\"val2014/COCO_val2014_000000052759.jpg\" ></img></td></tr><tr><td><b>normal</b></td><td><b>contrastive</b></td></tr><tr><td><ol><li>a large jetliner sitting on top of an airport tarmac</li><li>a large jetliner sitting on top of an airport runway</li><li>a large jetliner sitting on top of a tarmac</li><li>a large jetliner sitting on top of an airport</li><li>a large jetliner sitting on top of a airport tarmac</li></ol></td><td><ol><li>a couple of airplanes that are on a runway</li><li>a couple of airplanes that are sitting on a runway</li><li>a couple of airplanes that are sitting on a tarmac</li><li>a couple of airplanes that are sitting on the runway</li><li>a couple of airplanes parked on top of an airport tarmac</li></ol></td></tr></table>"
      ],
      "text/plain": [
       "<IPython.core.display.HTML object>"
      ]
     },
     "metadata": {},
     "output_type": "display_data"
    },
    {
     "data": {
      "text/html": [
       "<table><tr><td><img width=300 src=\"val2014/COCO_val2014_000000052759.jpg\" ></img></td><td><img width=300 src=\"train2014/COCO_train2014_000000538285.jpg\" ></img></td></tr></table>"
      ],
      "text/plain": [
       "<IPython.core.display.HTML object>"
      ]
     },
     "metadata": {},
     "output_type": "display_data"
    },
    {
     "data": {
      "text/html": [
       "<table><tr><td><img width=300 src=\"train2014/COCO_train2014_000000538285.jpg\" ></img></td><td><img width=300 src=\"train2014/COCO_train2014_000000190338.jpg\" ></img></td><td><img width=300 src=\"train2014/COCO_train2014_000000387161.jpg\" ></img></td><td><img width=300 src=\"val2014/COCO_val2014_000000513681.jpg\" ></img></td><td><img width=300 src=\"train2014/COCO_train2014_000000581797.jpg\" ></img></td></tr><tr><td><b>0.1302</b></td><td><b>0.1289</b></td><td><b>0.1237</b></td><td><b>0.1072</b></td><td><b>0.1026</b></td></tr><tr><td><img width=300 src=\"train2014/COCO_train2014_000000322350.jpg\" ></img></td><td><img width=300 src=\"train2014/COCO_train2014_000000518305.jpg\" ></img></td><td><img width=300 src=\"train2014/COCO_train2014_000000252132.jpg\" ></img></td><td><img width=300 src=\"train2014/COCO_train2014_000000421314.jpg\" ></img></td><td><img width=300 src=\"val2014/COCO_val2014_000000289173.jpg\" ></img></td></tr><tr><td><b>0.1000</b></td><td><b>0.0943</b></td><td><b>0.0787</b></td><td><b>0.0677</b></td><td><b>0.0667</b></td></tr></table>"
      ],
      "text/plain": [
       "<IPython.core.display.HTML object>"
      ]
     },
     "metadata": {},
     "output_type": "display_data"
    },
    {
     "name": "stdout",
     "output_type": "stream",
     "text": [
      "\n"
     ]
    },
    {
     "data": {
      "text/html": [
       "<table><tr><td><img width=300 src=\"val2014/COCO_val2014_000000128939.jpg\" ></img></td><td><img width=300 src=\"val2014/COCO_val2014_000000128939.jpg\" ></img></td></tr><tr><td><b>normal</b></td><td><b>contrastive</b></td></tr><tr><td><ol><li>a car is stopped at a traffic light</li><li>a white car is stopped at a traffic light</li><li>a white car is stopped at a red light</li><li>a white car parked on the side of a street</li><li>a white car parked on the side of the road</li></ol></td><td><ol><li>a car is stopped at a traffic light</li><li>a white car is stopped at a traffic light</li><li>a white car is stopped at a red light</li><li>a white car parked on the side of a street</li><li>a white car parked on the side of the road</li></ol></td></tr></table>"
      ],
      "text/plain": [
       "<IPython.core.display.HTML object>"
      ]
     },
     "metadata": {},
     "output_type": "display_data"
    },
    {
     "data": {
      "text/html": [
       "<table><tr><td><img width=300 src=\"val2014/COCO_val2014_000000128939.jpg\" ></img></td><td><img width=300 src=\"train2014/COCO_train2014_000000435929.jpg\" ></img></td></tr></table>"
      ],
      "text/plain": [
       "<IPython.core.display.HTML object>"
      ]
     },
     "metadata": {},
     "output_type": "display_data"
    },
    {
     "data": {
      "text/html": [
       "<table><tr><td><img width=300 src=\"train2014/COCO_train2014_000000435929.jpg\" ></img></td><td><img width=300 src=\"train2014/COCO_train2014_000000178181.jpg\" ></img></td><td><img width=300 src=\"train2014/COCO_train2014_000000323489.jpg\" ></img></td><td><img width=300 src=\"train2014/COCO_train2014_000000494574.jpg\" ></img></td><td><img width=300 src=\"train2014/COCO_train2014_000000296489.jpg\" ></img></td></tr><tr><td><b>0.1385</b></td><td><b>0.1258</b></td><td><b>0.1196</b></td><td><b>0.1114</b></td><td><b>0.1017</b></td></tr><tr><td><img width=300 src=\"train2014/COCO_train2014_000000326320.jpg\" ></img></td><td><img width=300 src=\"train2014/COCO_train2014_000000417607.jpg\" ></img></td><td><img width=300 src=\"val2014/COCO_val2014_000000201859.jpg\" ></img></td><td><img width=300 src=\"val2014/COCO_val2014_000000263594.jpg\" ></img></td><td><img width=300 src=\"val2014/COCO_val2014_000000267224.jpg\" ></img></td></tr><tr><td><b>0.1013</b></td><td><b>0.0960</b></td><td><b>0.0942</b></td><td><b>0.0661</b></td><td><b>0.0453</b></td></tr></table>"
      ],
      "text/plain": [
       "<IPython.core.display.HTML object>"
      ]
     },
     "metadata": {},
     "output_type": "display_data"
    },
    {
     "name": "stdout",
     "output_type": "stream",
     "text": [
      "\n"
     ]
    },
    {
     "data": {
      "text/html": [
       "<table><tr><td><img width=300 src=\"val2014/COCO_val2014_000000339974.jpg\" ></img></td><td><img width=300 src=\"val2014/COCO_val2014_000000339974.jpg\" ></img></td></tr><tr><td><b>normal</b></td><td><b>contrastive</b></td></tr><tr><td><ol><li>a traffic light sitting on the side of a road</li><li>a green traffic light sitting on the side of a road</li><li>a traffic light sitting on the side of a street</li><li>a green traffic light sitting next to a traffic light</li><li>a traffic light sitting on the side of a road next to a traffic light</li></ol></td><td><ol><li>a green traffic light sitting on the side of a road</li><li>a green traffic light sitting next to a traffic light</li><li>a green traffic light sitting on the side of a street</li><li>a green traffic light sitting next to a street light</li><li>a green traffic light sitting next to a green light</li></ol></td></tr></table>"
      ],
      "text/plain": [
       "<IPython.core.display.HTML object>"
      ]
     },
     "metadata": {},
     "output_type": "display_data"
    },
    {
     "data": {
      "text/html": [
       "<table><tr><td><img width=300 src=\"val2014/COCO_val2014_000000339974.jpg\" ></img></td><td><img width=300 src=\"train2014/COCO_train2014_000000061945.jpg\" ></img></td></tr></table>"
      ],
      "text/plain": [
       "<IPython.core.display.HTML object>"
      ]
     },
     "metadata": {},
     "output_type": "display_data"
    },
    {
     "data": {
      "text/html": [
       "<table><tr><td><img width=300 src=\"train2014/COCO_train2014_000000061945.jpg\" ></img></td><td><img width=300 src=\"val2014/COCO_val2014_000000168234.jpg\" ></img></td><td><img width=300 src=\"train2014/COCO_train2014_000000157029.jpg\" ></img></td><td><img width=300 src=\"train2014/COCO_train2014_000000473741.jpg\" ></img></td><td><img width=300 src=\"train2014/COCO_train2014_000000301769.jpg\" ></img></td></tr><tr><td><b>0.1623</b></td><td><b>0.1379</b></td><td><b>0.1228</b></td><td><b>0.1096</b></td><td><b>0.0960</b></td></tr><tr><td><img width=300 src=\"train2014/COCO_train2014_000000138807.jpg\" ></img></td><td><img width=300 src=\"val2014/COCO_val2014_000000518574.jpg\" ></img></td><td><img width=300 src=\"train2014/COCO_train2014_000000108536.jpg\" ></img></td><td><img width=300 src=\"val2014/COCO_val2014_000000513646.jpg\" ></img></td><td><img width=300 src=\"train2014/COCO_train2014_000000132621.jpg\" ></img></td></tr><tr><td><b>0.0960</b></td><td><b>0.0931</b></td><td><b>0.0615</b></td><td><b>0.0608</b></td><td><b>0.0599</b></td></tr></table>"
      ],
      "text/plain": [
       "<IPython.core.display.HTML object>"
      ]
     },
     "metadata": {},
     "output_type": "display_data"
    },
    {
     "name": "stdout",
     "output_type": "stream",
     "text": [
      "\n"
     ]
    }
   ],
   "source": [
    "# finetuned 1.0 with closest\n",
    "display_em_model(next(loader.iters['val']), k=10, neighbor_types=['closest'], choose_distractor=True)"
   ]
  },
  {
   "cell_type": "code",
   "execution_count": 42,
   "metadata": {
    "scrolled": false
   },
   "outputs": [
    {
     "data": {
      "text/html": [
       "<table><tr><td><img width=300 src=\"val2014/COCO_val2014_000000009426.jpg\" ></img></td><td><img width=300 src=\"val2014/COCO_val2014_000000009426.jpg\" ></img></td></tr><tr><td><b>normal</b></td><td><b>contrastive</b></td></tr><tr><td><ol><li>a red and white plane flying in the sky</li><li>a red and white airplane flying in the sky</li><li>a red and white plane flying in the air</li><li>a red and white plane is flying in the sky</li><li>a red and white plane flying in a blue sky</li></ol></td><td><ol><li>a red and white plane flying in the sky</li><li>a red and white airplane flying in the sky</li><li>a red and white plane flying in the air</li><li>a red and white plane is flying in the sky</li><li>a red and white plane flying in a blue sky</li></ol></td></tr></table>"
      ],
      "text/plain": [
       "<IPython.core.display.HTML object>"
      ]
     },
     "metadata": {},
     "output_type": "display_data"
    },
    {
     "data": {
      "text/html": [
       "<table><tr><td><img width=300 src=\"val2014/COCO_val2014_000000009426.jpg\" ></img></td><td><img width=300 src=\"train2014/COCO_train2014_000000321577.jpg\" ></img></td></tr></table>"
      ],
      "text/plain": [
       "<IPython.core.display.HTML object>"
      ]
     },
     "metadata": {},
     "output_type": "display_data"
    },
    {
     "data": {
      "text/html": [
       "<table><tr><td><img width=300 src=\"train2014/COCO_train2014_000000321577.jpg\" ></img></td><td><img width=300 src=\"train2014/COCO_train2014_000000128752.jpg\" ></img></td><td><img width=300 src=\"train2014/COCO_train2014_000000331738.jpg\" ></img></td><td><img width=300 src=\"val2014/COCO_val2014_000000295765.jpg\" ></img></td><td><img width=300 src=\"train2014/COCO_train2014_000000091118.jpg\" ></img></td></tr><tr><td><b>0.1435</b></td><td><b>0.1275</b></td><td><b>0.1160</b></td><td><b>0.1153</b></td><td><b>0.1073</b></td></tr><tr><td><img width=300 src=\"train2014/COCO_train2014_000000512438.jpg\" ></img></td><td><img width=300 src=\"val2014/COCO_val2014_000000183500.jpg\" ></img></td><td><img width=300 src=\"train2014/COCO_train2014_000000329097.jpg\" ></img></td><td><img width=300 src=\"train2014/COCO_train2014_000000440786.jpg\" ></img></td><td><img width=300 src=\"val2014/COCO_val2014_000000560272.jpg\" ></img></td></tr><tr><td><b>0.0907</b></td><td><b>0.0902</b></td><td><b>0.0740</b></td><td><b>0.0724</b></td><td><b>0.0630</b></td></tr></table>"
      ],
      "text/plain": [
       "<IPython.core.display.HTML object>"
      ]
     },
     "metadata": {},
     "output_type": "display_data"
    },
    {
     "name": "stdout",
     "output_type": "stream",
     "text": [
      "\n"
     ]
    },
    {
     "data": {
      "text/html": [
       "<table><tr><td><img width=300 src=\"val2014/COCO_val2014_000000242139.jpg\" ></img></td><td><img width=300 src=\"val2014/COCO_val2014_000000242139.jpg\" ></img></td></tr><tr><td><b>normal</b></td><td><b>contrastive</b></td></tr><tr><td><ol><li>a city street filled with lots of tall buildings</li><li>a city street filled with lots of traffic</li><li>a city street filled with traffic and tall buildings</li><li>a city street filled with lots of traffic and tall buildings</li><li>a city street filled with lots of cars</li></ol></td><td><ol><li>a city street filled with lots of tall buildings</li><li>a city street filled with lots of traffic</li><li>a city street filled with traffic and tall buildings</li><li>a city street filled with lots of traffic and tall buildings</li><li>a city street filled with lots of cars</li></ol></td></tr></table>"
      ],
      "text/plain": [
       "<IPython.core.display.HTML object>"
      ]
     },
     "metadata": {},
     "output_type": "display_data"
    },
    {
     "data": {
      "text/html": [
       "<table><tr><td><img width=300 src=\"val2014/COCO_val2014_000000242139.jpg\" ></img></td><td><img width=300 src=\"val2014/COCO_val2014_000000230615.jpg\" ></img></td></tr></table>"
      ],
      "text/plain": [
       "<IPython.core.display.HTML object>"
      ]
     },
     "metadata": {},
     "output_type": "display_data"
    },
    {
     "data": {
      "text/html": [
       "<table><tr><td><img width=300 src=\"val2014/COCO_val2014_000000230615.jpg\" ></img></td><td><img width=300 src=\"train2014/COCO_train2014_000000087113.jpg\" ></img></td><td><img width=300 src=\"train2014/COCO_train2014_000000219750.jpg\" ></img></td><td><img width=300 src=\"train2014/COCO_train2014_000000263826.jpg\" ></img></td><td><img width=300 src=\"train2014/COCO_train2014_000000219225.jpg\" ></img></td></tr><tr><td><b>0.1344</b></td><td><b>0.1167</b></td><td><b>0.1107</b></td><td><b>0.1107</b></td><td><b>0.0964</b></td></tr><tr><td><img width=300 src=\"val2014/COCO_val2014_000000553511.jpg\" ></img></td><td><img width=300 src=\"train2014/COCO_train2014_000000258182.jpg\" ></img></td><td><img width=300 src=\"val2014/COCO_val2014_000000308388.jpg\" ></img></td><td><img width=300 src=\"train2014/COCO_train2014_000000293308.jpg\" ></img></td><td><img width=300 src=\"train2014/COCO_train2014_000000533739.jpg\" ></img></td></tr><tr><td><b>0.0940</b></td><td><b>0.0914</b></td><td><b>0.0835</b></td><td><b>0.0825</b></td><td><b>0.0798</b></td></tr></table>"
      ],
      "text/plain": [
       "<IPython.core.display.HTML object>"
      ]
     },
     "metadata": {},
     "output_type": "display_data"
    },
    {
     "name": "stdout",
     "output_type": "stream",
     "text": [
      "\n"
     ]
    },
    {
     "data": {
      "text/html": [
       "<table><tr><td><img width=300 src=\"val2014/COCO_val2014_000000143931.jpg\" ></img></td><td><img width=300 src=\"val2014/COCO_val2014_000000143931.jpg\" ></img></td></tr><tr><td><b>normal</b></td><td><b>contrastive</b></td></tr><tr><td><ol><li>a blue truck parked in a parking lot</li><li>a large blue truck parked in a parking lot</li><li>a blue truck parked in front of a building</li><li>a blue truck parked on the side of the road</li><li>a blue truck parked on the side of a road</li></ol></td><td><ol><li>a blue truck parked in a parking lot</li><li>a blue truck parked in front of a building</li><li>a blue and white bus parked in a parking lot</li><li>a blue truck parked in a parking space</li><li>a blue truck parked in a parking lot next to a building</li></ol></td></tr></table>"
      ],
      "text/plain": [
       "<IPython.core.display.HTML object>"
      ]
     },
     "metadata": {},
     "output_type": "display_data"
    },
    {
     "data": {
      "text/html": [
       "<table><tr><td><img width=300 src=\"val2014/COCO_val2014_000000143931.jpg\" ></img></td><td><img width=300 src=\"train2014/COCO_train2014_000000360500.jpg\" ></img></td></tr></table>"
      ],
      "text/plain": [
       "<IPython.core.display.HTML object>"
      ]
     },
     "metadata": {},
     "output_type": "display_data"
    },
    {
     "data": {
      "text/html": [
       "<table><tr><td><img width=300 src=\"train2014/COCO_train2014_000000360500.jpg\" ></img></td><td><img width=300 src=\"train2014/COCO_train2014_000000514801.jpg\" ></img></td><td><img width=300 src=\"train2014/COCO_train2014_000000382854.jpg\" ></img></td><td><img width=300 src=\"train2014/COCO_train2014_000000023066.jpg\" ></img></td><td><img width=300 src=\"val2014/COCO_val2014_000000501379.jpg\" ></img></td></tr><tr><td><b>0.1427</b></td><td><b>0.1424</b></td><td><b>0.1239</b></td><td><b>0.1042</b></td><td><b>0.0980</b></td></tr><tr><td><img width=300 src=\"val2014/COCO_val2014_000000048196.jpg\" ></img></td><td><img width=300 src=\"val2014/COCO_val2014_000000196759.jpg\" ></img></td><td><img width=300 src=\"train2014/COCO_train2014_000000381759.jpg\" ></img></td><td><img width=300 src=\"train2014/COCO_train2014_000000366907.jpg\" ></img></td><td><img width=300 src=\"train2014/COCO_train2014_000000550874.jpg\" ></img></td></tr><tr><td><b>0.0956</b></td><td><b>0.0953</b></td><td><b>0.0845</b></td><td><b>0.0669</b></td><td><b>0.0467</b></td></tr></table>"
      ],
      "text/plain": [
       "<IPython.core.display.HTML object>"
      ]
     },
     "metadata": {},
     "output_type": "display_data"
    },
    {
     "name": "stdout",
     "output_type": "stream",
     "text": [
      "\n"
     ]
    },
    {
     "data": {
      "text/html": [
       "<table><tr><td><img width=300 src=\"val2014/COCO_val2014_000000040102.jpg\" ></img></td><td><img width=300 src=\"val2014/COCO_val2014_000000040102.jpg\" ></img></td></tr><tr><td><b>normal</b></td><td><b>contrastive</b></td></tr><tr><td><ol><li>a couple of giraffe standing on top of a lush green field</li><li>two giraffes are standing in a grassy field</li><li>a couple of giraffe standing on top of a grass covered field</li><li>two giraffes standing in a field with trees in the background</li><li>a couple of giraffe standing on top of a green field</li></ol></td><td><ol><li>two giraffes standing next to each other in a field</li><li>two giraffes are standing in a grassy field</li><li>two giraffes standing next to each other on a field</li><li>two giraffes standing next to each other in the grass</li><li>two giraffes standing next to each other in a grassy field</li></ol></td></tr></table>"
      ],
      "text/plain": [
       "<IPython.core.display.HTML object>"
      ]
     },
     "metadata": {},
     "output_type": "display_data"
    },
    {
     "data": {
      "text/html": [
       "<table><tr><td><img width=300 src=\"val2014/COCO_val2014_000000040102.jpg\" ></img></td><td><img width=300 src=\"val2014/COCO_val2014_000000022257.jpg\" ></img></td></tr></table>"
      ],
      "text/plain": [
       "<IPython.core.display.HTML object>"
      ]
     },
     "metadata": {},
     "output_type": "display_data"
    },
    {
     "data": {
      "text/html": [
       "<table><tr><td><img width=300 src=\"val2014/COCO_val2014_000000022257.jpg\" ></img></td><td><img width=300 src=\"train2014/COCO_train2014_000000238713.jpg\" ></img></td><td><img width=300 src=\"train2014/COCO_train2014_000000508969.jpg\" ></img></td><td><img width=300 src=\"train2014/COCO_train2014_000000466790.jpg\" ></img></td><td><img width=300 src=\"train2014/COCO_train2014_000000021061.jpg\" ></img></td></tr><tr><td><b>0.1411</b></td><td><b>0.1355</b></td><td><b>0.1093</b></td><td><b>0.1010</b></td><td><b>0.0949</b></td></tr><tr><td><img width=300 src=\"train2014/COCO_train2014_000000119529.jpg\" ></img></td><td><img width=300 src=\"train2014/COCO_train2014_000000063587.jpg\" ></img></td><td><img width=300 src=\"train2014/COCO_train2014_000000094045.jpg\" ></img></td><td><img width=300 src=\"train2014/COCO_train2014_000000257983.jpg\" ></img></td><td><img width=300 src=\"train2014/COCO_train2014_000000172426.jpg\" ></img></td></tr><tr><td><b>0.0914</b></td><td><b>0.0845</b></td><td><b>0.0831</b></td><td><b>0.0827</b></td><td><b>0.0763</b></td></tr></table>"
      ],
      "text/plain": [
       "<IPython.core.display.HTML object>"
      ]
     },
     "metadata": {},
     "output_type": "display_data"
    },
    {
     "name": "stdout",
     "output_type": "stream",
     "text": [
      "\n"
     ]
    },
    {
     "data": {
      "text/html": [
       "<table><tr><td><img width=300 src=\"val2014/COCO_val2014_000000403020.jpg\" ></img></td><td><img width=300 src=\"val2014/COCO_val2014_000000403020.jpg\" ></img></td></tr><tr><td><b>normal</b></td><td><b>contrastive</b></td></tr><tr><td><ol><li>a giraffe is laying down in the dirt</li><li>a giraffe laying on the ground in an enclosure</li><li>a giraffe laying on the ground in a zoo</li><li>a giraffe laying on the ground in a zoo enclosure</li><li>a giraffe laying on the ground in front of a building</li></ol></td><td><ol><li>a giraffe is laying down in the dirt</li><li>a giraffe laying on the ground in an enclosure</li><li>a giraffe laying on the ground in a zoo</li><li>a giraffe laying on the ground in a zoo enclosure</li><li>a giraffe laying on the ground in front of a building</li></ol></td></tr></table>"
      ],
      "text/plain": [
       "<IPython.core.display.HTML object>"
      ]
     },
     "metadata": {},
     "output_type": "display_data"
    },
    {
     "data": {
      "text/html": [
       "<table><tr><td><img width=300 src=\"val2014/COCO_val2014_000000403020.jpg\" ></img></td><td><img width=300 src=\"train2014/COCO_train2014_000000050101.jpg\" ></img></td></tr></table>"
      ],
      "text/plain": [
       "<IPython.core.display.HTML object>"
      ]
     },
     "metadata": {},
     "output_type": "display_data"
    },
    {
     "data": {
      "text/html": [
       "<table><tr><td><img width=300 src=\"train2014/COCO_train2014_000000050101.jpg\" ></img></td><td><img width=300 src=\"val2014/COCO_val2014_000000494679.jpg\" ></img></td><td><img width=300 src=\"train2014/COCO_train2014_000000067572.jpg\" ></img></td><td><img width=300 src=\"train2014/COCO_train2014_000000517045.jpg\" ></img></td><td><img width=300 src=\"val2014/COCO_val2014_000000134160.jpg\" ></img></td></tr><tr><td><b>0.1486</b></td><td><b>0.1379</b></td><td><b>0.1178</b></td><td><b>0.1154</b></td><td><b>0.1007</b></td></tr><tr><td><img width=300 src=\"train2014/COCO_train2014_000000262098.jpg\" ></img></td><td><img width=300 src=\"train2014/COCO_train2014_000000532147.jpg\" ></img></td><td><img width=300 src=\"val2014/COCO_val2014_000000196650.jpg\" ></img></td><td><img width=300 src=\"train2014/COCO_train2014_000000476871.jpg\" ></img></td><td><img width=300 src=\"train2014/COCO_train2014_000000334957.jpg\" ></img></td></tr><tr><td><b>0.0983</b></td><td><b>0.0951</b></td><td><b>0.0862</b></td><td><b>0.0568</b></td><td><b>0.0431</b></td></tr></table>"
      ],
      "text/plain": [
       "<IPython.core.display.HTML object>"
      ]
     },
     "metadata": {},
     "output_type": "display_data"
    },
    {
     "name": "stdout",
     "output_type": "stream",
     "text": [
      "\n"
     ]
    },
    {
     "data": {
      "text/html": [
       "<table><tr><td><img width=300 src=\"val2014/COCO_val2014_000000505440.jpg\" ></img></td><td><img width=300 src=\"val2014/COCO_val2014_000000505440.jpg\" ></img></td></tr><tr><td><b>normal</b></td><td><b>contrastive</b></td></tr><tr><td><ol><li>two giraffes standing in the grass near trees</li><li>two giraffes are standing in the grass near trees</li><li>two giraffes standing in the grass near a tree</li><li>two giraffes standing in a grassy field with trees in the background</li><li>two giraffes standing in a grassy area with trees in the background</li></ol></td><td><ol><li>two giraffes standing in the grass near trees</li><li>two giraffes are standing in the grass near trees</li><li>two giraffes standing in the grass near a tree</li><li>two giraffes standing in a grassy field with trees in the background</li><li>two giraffes standing in a grassy area with trees in the background</li></ol></td></tr></table>"
      ],
      "text/plain": [
       "<IPython.core.display.HTML object>"
      ]
     },
     "metadata": {},
     "output_type": "display_data"
    },
    {
     "data": {
      "text/html": [
       "<table><tr><td><img width=300 src=\"val2014/COCO_val2014_000000505440.jpg\" ></img></td><td><img width=300 src=\"train2014/COCO_train2014_000000541264.jpg\" ></img></td></tr></table>"
      ],
      "text/plain": [
       "<IPython.core.display.HTML object>"
      ]
     },
     "metadata": {},
     "output_type": "display_data"
    },
    {
     "data": {
      "text/html": [
       "<table><tr><td><img width=300 src=\"train2014/COCO_train2014_000000541264.jpg\" ></img></td><td><img width=300 src=\"train2014/COCO_train2014_000000506078.jpg\" ></img></td><td><img width=300 src=\"train2014/COCO_train2014_000000444464.jpg\" ></img></td><td><img width=300 src=\"train2014/COCO_train2014_000000021061.jpg\" ></img></td><td><img width=300 src=\"train2014/COCO_train2014_000000427129.jpg\" ></img></td></tr><tr><td><b>0.1152</b></td><td><b>0.1075</b></td><td><b>0.1051</b></td><td><b>0.1039</b></td><td><b>0.1029</b></td></tr><tr><td><img width=300 src=\"train2014/COCO_train2014_000000359189.jpg\" ></img></td><td><img width=300 src=\"train2014/COCO_train2014_000000119529.jpg\" ></img></td><td><img width=300 src=\"train2014/COCO_train2014_000000340345.jpg\" ></img></td><td><img width=300 src=\"train2014/COCO_train2014_000000031411.jpg\" ></img></td><td><img width=300 src=\"train2014/COCO_train2014_000000024095.jpg\" ></img></td></tr><tr><td><b>0.1027</b></td><td><b>0.0988</b></td><td><b>0.0911</b></td><td><b>0.0872</b></td><td><b>0.0855</b></td></tr></table>"
      ],
      "text/plain": [
       "<IPython.core.display.HTML object>"
      ]
     },
     "metadata": {},
     "output_type": "display_data"
    },
    {
     "name": "stdout",
     "output_type": "stream",
     "text": [
      "\n"
     ]
    },
    {
     "data": {
      "text/html": [
       "<table><tr><td><img width=300 src=\"val2014/COCO_val2014_000000029913.jpg\" ></img></td><td><img width=300 src=\"val2014/COCO_val2014_000000029913.jpg\" ></img></td></tr><tr><td><b>normal</b></td><td><b>contrastive</b></td></tr><tr><td><ol><li>a silver fire hydrant sitting on the side of a road</li><li>a fire hydrant with a hose attached to it</li><li>a fire hydrant on the side of the street</li><li>a fire hydrant on the side of the road</li><li>a silver fire hydrant sitting on the side of a street</li></ol></td><td><ol><li>a close up of a fire hydrant on a city street</li><li>a silver fire hydrant sitting on the side of a road</li><li>a close up of a fire hydrant on a sidewalk</li><li>a silver fire hydrant sitting on the side of a street</li><li>a close up of a black fire hydrant on a city street</li></ol></td></tr></table>"
      ],
      "text/plain": [
       "<IPython.core.display.HTML object>"
      ]
     },
     "metadata": {},
     "output_type": "display_data"
    },
    {
     "data": {
      "text/html": [
       "<table><tr><td><img width=300 src=\"val2014/COCO_val2014_000000029913.jpg\" ></img></td><td><img width=300 src=\"train2014/COCO_train2014_000000359695.jpg\" ></img></td></tr></table>"
      ],
      "text/plain": [
       "<IPython.core.display.HTML object>"
      ]
     },
     "metadata": {},
     "output_type": "display_data"
    },
    {
     "data": {
      "text/html": [
       "<table><tr><td><img width=300 src=\"train2014/COCO_train2014_000000359695.jpg\" ></img></td><td><img width=300 src=\"train2014/COCO_train2014_000000292283.jpg\" ></img></td><td><img width=300 src=\"train2014/COCO_train2014_000000373898.jpg\" ></img></td><td><img width=300 src=\"train2014/COCO_train2014_000000262747.jpg\" ></img></td><td><img width=300 src=\"train2014/COCO_train2014_000000328662.jpg\" ></img></td></tr><tr><td><b>0.2508</b></td><td><b>0.1647</b></td><td><b>0.1500</b></td><td><b>0.1120</b></td><td><b>0.1059</b></td></tr><tr><td><img width=300 src=\"train2014/COCO_train2014_000000490887.jpg\" ></img></td><td><img width=300 src=\"train2014/COCO_train2014_000000236769.jpg\" ></img></td><td><img width=300 src=\"train2014/COCO_train2014_000000016805.jpg\" ></img></td><td><img width=300 src=\"train2014/COCO_train2014_000000517835.jpg\" ></img></td><td><img width=300 src=\"train2014/COCO_train2014_000000110616.jpg\" ></img></td></tr><tr><td><b>0.0644</b></td><td><b>0.0477</b></td><td><b>0.0444</b></td><td><b>0.0435</b></td><td><b>0.0165</b></td></tr></table>"
      ],
      "text/plain": [
       "<IPython.core.display.HTML object>"
      ]
     },
     "metadata": {},
     "output_type": "display_data"
    },
    {
     "name": "stdout",
     "output_type": "stream",
     "text": [
      "\n"
     ]
    },
    {
     "data": {
      "text/html": [
       "<table><tr><td><img width=300 src=\"val2014/COCO_val2014_000000431573.jpg\" ></img></td><td><img width=300 src=\"val2014/COCO_val2014_000000431573.jpg\" ></img></td></tr><tr><td><b>normal</b></td><td><b>contrastive</b></td></tr><tr><td><ol><li>a fire hydrant spewing water onto a street</li><li>a red fire hydrant spewing water onto a street</li><li>a red fire hydrant spewing water into the street</li><li>a red fire hydrant spewing water into a street</li><li>a red fire hydrant spewing water onto a sidewalk</li></ol></td><td><ol><li>a fire hydrant spewing water onto a street</li><li>a red fire hydrant spewing water onto a street</li><li>a red fire hydrant spewing water into the street</li><li>a red fire hydrant spewing water into a street</li><li>a red fire hydrant spewing water onto a sidewalk</li></ol></td></tr></table>"
      ],
      "text/plain": [
       "<IPython.core.display.HTML object>"
      ]
     },
     "metadata": {},
     "output_type": "display_data"
    },
    {
     "data": {
      "text/html": [
       "<table><tr><td><img width=300 src=\"val2014/COCO_val2014_000000431573.jpg\" ></img></td><td><img width=300 src=\"val2014/COCO_val2014_000000515785.jpg\" ></img></td></tr></table>"
      ],
      "text/plain": [
       "<IPython.core.display.HTML object>"
      ]
     },
     "metadata": {},
     "output_type": "display_data"
    },
    {
     "data": {
      "text/html": [
       "<table><tr><td><img width=300 src=\"val2014/COCO_val2014_000000515785.jpg\" ></img></td><td><img width=300 src=\"train2014/COCO_train2014_000000082523.jpg\" ></img></td><td><img width=300 src=\"train2014/COCO_train2014_000000430144.jpg\" ></img></td><td><img width=300 src=\"train2014/COCO_train2014_000000365648.jpg\" ></img></td><td><img width=300 src=\"val2014/COCO_val2014_000000302512.jpg\" ></img></td></tr><tr><td><b>0.4238</b></td><td><b>0.2110</b></td><td><b>0.0923</b></td><td><b>0.0799</b></td><td><b>0.0549</b></td></tr><tr><td><img width=300 src=\"train2014/COCO_train2014_000000068826.jpg\" ></img></td><td><img width=300 src=\"train2014/COCO_train2014_000000536884.jpg\" ></img></td><td><img width=300 src=\"train2014/COCO_train2014_000000148318.jpg\" ></img></td><td><img width=300 src=\"val2014/COCO_val2014_000000127455.jpg\" ></img></td><td><img width=300 src=\"val2014/COCO_val2014_000000522015.jpg\" ></img></td></tr><tr><td><b>0.0466</b></td><td><b>0.0412</b></td><td><b>0.0236</b></td><td><b>0.0197</b></td><td><b>0.0071</b></td></tr></table>"
      ],
      "text/plain": [
       "<IPython.core.display.HTML object>"
      ]
     },
     "metadata": {},
     "output_type": "display_data"
    },
    {
     "name": "stdout",
     "output_type": "stream",
     "text": [
      "\n"
     ]
    },
    {
     "data": {
      "text/html": [
       "<table><tr><td><img width=300 src=\"val2014/COCO_val2014_000000332654.jpg\" ></img></td><td><img width=300 src=\"val2014/COCO_val2014_000000332654.jpg\" ></img></td></tr><tr><td><b>normal</b></td><td><b>contrastive</b></td></tr><tr><td><ol><li>a yellow and blue fire hydrant sitting on the side of a road</li><li>a blue and yellow fire hydrant sitting on the side of a road</li><li>a yellow and blue fire hydrant on a street corner</li><li>a yellow and blue fire hydrant sitting on a sidewalk</li><li>a yellow and blue fire hydrant sitting on the side of a street</li></ol></td><td><ol><li>a yellow and blue fire hydrant sitting on the side of a road</li><li>a blue and yellow fire hydrant sitting on the side of a road</li><li>a yellow and blue fire hydrant on a street corner</li><li>a yellow and blue fire hydrant sitting on a sidewalk</li><li>a yellow and blue fire hydrant sitting on the side of a street</li></ol></td></tr></table>"
      ],
      "text/plain": [
       "<IPython.core.display.HTML object>"
      ]
     },
     "metadata": {},
     "output_type": "display_data"
    },
    {
     "data": {
      "text/html": [
       "<table><tr><td><img width=300 src=\"val2014/COCO_val2014_000000332654.jpg\" ></img></td><td><img width=300 src=\"val2014/COCO_val2014_000000091909.jpg\" ></img></td></tr></table>"
      ],
      "text/plain": [
       "<IPython.core.display.HTML object>"
      ]
     },
     "metadata": {},
     "output_type": "display_data"
    },
    {
     "data": {
      "text/html": [
       "<table><tr><td><img width=300 src=\"val2014/COCO_val2014_000000091909.jpg\" ></img></td><td><img width=300 src=\"train2014/COCO_train2014_000000532482.jpg\" ></img></td><td><img width=300 src=\"train2014/COCO_train2014_000000383158.jpg\" ></img></td><td><img width=300 src=\"train2014/COCO_train2014_000000316993.jpg\" ></img></td><td><img width=300 src=\"val2014/COCO_val2014_000000088432.jpg\" ></img></td></tr><tr><td><b>0.1649</b></td><td><b>0.1472</b></td><td><b>0.1306</b></td><td><b>0.1081</b></td><td><b>0.1071</b></td></tr><tr><td><img width=300 src=\"train2014/COCO_train2014_000000403270.jpg\" ></img></td><td><img width=300 src=\"val2014/COCO_val2014_000000338560.jpg\" ></img></td><td><img width=300 src=\"val2014/COCO_val2014_000000190664.jpg\" ></img></td><td><img width=300 src=\"train2014/COCO_train2014_000000336040.jpg\" ></img></td><td><img width=300 src=\"train2014/COCO_train2014_000000236769.jpg\" ></img></td></tr><tr><td><b>0.0974</b></td><td><b>0.0697</b></td><td><b>0.0617</b></td><td><b>0.0606</b></td><td><b>0.0527</b></td></tr></table>"
      ],
      "text/plain": [
       "<IPython.core.display.HTML object>"
      ]
     },
     "metadata": {},
     "output_type": "display_data"
    },
    {
     "name": "stdout",
     "output_type": "stream",
     "text": [
      "\n"
     ]
    },
    {
     "data": {
      "text/html": [
       "<table><tr><td><img width=300 src=\"val2014/COCO_val2014_000000176649.jpg\" ></img></td><td><img width=300 src=\"val2014/COCO_val2014_000000176649.jpg\" ></img></td></tr><tr><td><b>normal</b></td><td><b>contrastive</b></td></tr><tr><td><ol><li>a close up of a street sign with a sky background</li><li>a close up of a street sign on a pole</li><li>a close up of a street sign with trees in the background</li><li>a close up of a vandalized street sign</li><li>a close up of a street sign near a tree</li></ol></td><td><ol><li>a close up of a street sign with a sky background</li><li>a close up of a street sign on a pole</li><li>a close up of a street sign with trees in the background</li><li>a close up of a street sign near a tree</li><li>a close up of a street sign with trees in background</li></ol></td></tr></table>"
      ],
      "text/plain": [
       "<IPython.core.display.HTML object>"
      ]
     },
     "metadata": {},
     "output_type": "display_data"
    },
    {
     "data": {
      "text/html": [
       "<table><tr><td><img width=300 src=\"val2014/COCO_val2014_000000176649.jpg\" ></img></td><td><img width=300 src=\"train2014/COCO_train2014_000000247547.jpg\" ></img></td></tr></table>"
      ],
      "text/plain": [
       "<IPython.core.display.HTML object>"
      ]
     },
     "metadata": {},
     "output_type": "display_data"
    },
    {
     "data": {
      "text/html": [
       "<table><tr><td><img width=300 src=\"train2014/COCO_train2014_000000247547.jpg\" ></img></td><td><img width=300 src=\"train2014/COCO_train2014_000000009176.jpg\" ></img></td><td><img width=300 src=\"val2014/COCO_val2014_000000325368.jpg\" ></img></td><td><img width=300 src=\"train2014/COCO_train2014_000000389190.jpg\" ></img></td><td><img width=300 src=\"train2014/COCO_train2014_000000071217.jpg\" ></img></td></tr><tr><td><b>0.1910</b></td><td><b>0.1542</b></td><td><b>0.1062</b></td><td><b>0.1050</b></td><td><b>0.1037</b></td></tr><tr><td><img width=300 src=\"val2014/COCO_val2014_000000136411.jpg\" ></img></td><td><img width=300 src=\"train2014/COCO_train2014_000000037458.jpg\" ></img></td><td><img width=300 src=\"train2014/COCO_train2014_000000112207.jpg\" ></img></td><td><img width=300 src=\"val2014/COCO_val2014_000000226128.jpg\" ></img></td><td><img width=300 src=\"train2014/COCO_train2014_000000038435.jpg\" ></img></td></tr><tr><td><b>0.1024</b></td><td><b>0.0746</b></td><td><b>0.0576</b></td><td><b>0.0547</b></td><td><b>0.0506</b></td></tr></table>"
      ],
      "text/plain": [
       "<IPython.core.display.HTML object>"
      ]
     },
     "metadata": {},
     "output_type": "display_data"
    },
    {
     "name": "stdout",
     "output_type": "stream",
     "text": [
      "\n"
     ]
    }
   ],
   "source": [
    "# finetuned 1.0 with closest\n",
    "display_em_model(next(loader.iters['val']), k=10, neighbor_types=['closest'], choose_distractor=True)"
   ]
  },
  {
   "cell_type": "code",
   "execution_count": 43,
   "metadata": {
    "scrolled": false
   },
   "outputs": [
    {
     "data": {
      "text/html": [
       "<table><tr><td><img width=300 src=\"val2014/COCO_val2014_000000173574.jpg\" ></img></td><td><img width=300 src=\"val2014/COCO_val2014_000000173574.jpg\" ></img></td></tr><tr><td><b>normal</b></td><td><b>contrastive</b></td></tr><tr><td><ol><li>a herd of sheep standing on top of a dry grass field</li><li>a herd of sheep are standing in a field</li><li>a herd of sheep standing on top of a dirt field</li><li>a herd of sheep standing in a field</li><li>a herd of sheep standing on top of a grass covered field</li></ol></td><td><ol><li>a herd of sheep are standing in a field</li><li>a herd of sheep standing on top of a dry grass field</li><li>a herd of sheep standing next to each other</li><li>a herd of sheep standing on top of a dirt field</li><li>a herd of sheep standing next to each other on a field</li></ol></td></tr></table>"
      ],
      "text/plain": [
       "<IPython.core.display.HTML object>"
      ]
     },
     "metadata": {},
     "output_type": "display_data"
    },
    {
     "data": {
      "text/html": [
       "<table><tr><td><img width=300 src=\"val2014/COCO_val2014_000000173574.jpg\" ></img></td><td><img width=300 src=\"train2014/COCO_train2014_000000358890.jpg\" ></img></td></tr></table>"
      ],
      "text/plain": [
       "<IPython.core.display.HTML object>"
      ]
     },
     "metadata": {},
     "output_type": "display_data"
    },
    {
     "data": {
      "text/html": [
       "<table><tr><td><img width=300 src=\"train2014/COCO_train2014_000000358890.jpg\" ></img></td><td><img width=300 src=\"train2014/COCO_train2014_000000532059.jpg\" ></img></td><td><img width=300 src=\"train2014/COCO_train2014_000000253615.jpg\" ></img></td><td><img width=300 src=\"train2014/COCO_train2014_000000541970.jpg\" ></img></td><td><img width=300 src=\"train2014/COCO_train2014_000000381641.jpg\" ></img></td></tr><tr><td><b>0.1185</b></td><td><b>0.1182</b></td><td><b>0.1159</b></td><td><b>0.1097</b></td><td><b>0.1007</b></td></tr><tr><td><img width=300 src=\"train2014/COCO_train2014_000000317172.jpg\" ></img></td><td><img width=300 src=\"train2014/COCO_train2014_000000538748.jpg\" ></img></td><td><img width=300 src=\"train2014/COCO_train2014_000000449307.jpg\" ></img></td><td><img width=300 src=\"val2014/COCO_val2014_000000187411.jpg\" ></img></td><td><img width=300 src=\"val2014/COCO_val2014_000000156397.jpg\" ></img></td></tr><tr><td><b>0.0982</b></td><td><b>0.0932</b></td><td><b>0.0878</b></td><td><b>0.0815</b></td><td><b>0.0763</b></td></tr></table>"
      ],
      "text/plain": [
       "<IPython.core.display.HTML object>"
      ]
     },
     "metadata": {},
     "output_type": "display_data"
    },
    {
     "name": "stdout",
     "output_type": "stream",
     "text": [
      "\n"
     ]
    },
    {
     "data": {
      "text/html": [
       "<table><tr><td><img width=300 src=\"val2014/COCO_val2014_000000460347.jpg\" ></img></td><td><img width=300 src=\"val2014/COCO_val2014_000000460347.jpg\" ></img></td></tr><tr><td><b>normal</b></td><td><b>contrastive</b></td></tr><tr><td><ol><li>a double decker bus driving down a street</li><li>a double decker bus driving down the street</li><li>a double decker bus driving down a road</li><li>a white double decker bus driving down a street</li><li>a double decker bus driving down a street next to cars</li></ol></td><td><ol><li>a double decker bus driving down a street</li><li>a double decker bus driving down the street</li><li>a double decker bus driving down a road</li><li>a white double decker bus driving down a street</li><li>a double decker bus driving down a street next to cars</li></ol></td></tr></table>"
      ],
      "text/plain": [
       "<IPython.core.display.HTML object>"
      ]
     },
     "metadata": {},
     "output_type": "display_data"
    },
    {
     "data": {
      "text/html": [
       "<table><tr><td><img width=300 src=\"val2014/COCO_val2014_000000460347.jpg\" ></img></td><td><img width=300 src=\"val2014/COCO_val2014_000000203257.jpg\" ></img></td></tr></table>"
      ],
      "text/plain": [
       "<IPython.core.display.HTML object>"
      ]
     },
     "metadata": {},
     "output_type": "display_data"
    },
    {
     "data": {
      "text/html": [
       "<table><tr><td><img width=300 src=\"val2014/COCO_val2014_000000203257.jpg\" ></img></td><td><img width=300 src=\"train2014/COCO_train2014_000000325366.jpg\" ></img></td><td><img width=300 src=\"train2014/COCO_train2014_000000121454.jpg\" ></img></td><td><img width=300 src=\"val2014/COCO_val2014_000000460147.jpg\" ></img></td><td><img width=300 src=\"train2014/COCO_train2014_000000327895.jpg\" ></img></td></tr><tr><td><b>0.1731</b></td><td><b>0.1079</b></td><td><b>0.1069</b></td><td><b>0.1066</b></td><td><b>0.1060</b></td></tr><tr><td><img width=300 src=\"val2014/COCO_val2014_000000533378.jpg\" ></img></td><td><img width=300 src=\"train2014/COCO_train2014_000000136461.jpg\" ></img></td><td><img width=300 src=\"val2014/COCO_val2014_000000423617.jpg\" ></img></td><td><img width=300 src=\"val2014/COCO_val2014_000000232262.jpg\" ></img></td><td><img width=300 src=\"train2014/COCO_train2014_000000263479.jpg\" ></img></td></tr><tr><td><b>0.1000</b></td><td><b>0.0885</b></td><td><b>0.0807</b></td><td><b>0.0684</b></td><td><b>0.0618</b></td></tr></table>"
      ],
      "text/plain": [
       "<IPython.core.display.HTML object>"
      ]
     },
     "metadata": {},
     "output_type": "display_data"
    },
    {
     "name": "stdout",
     "output_type": "stream",
     "text": [
      "\n"
     ]
    },
    {
     "data": {
      "text/html": [
       "<table><tr><td><img width=300 src=\"val2014/COCO_val2014_000000073830.jpg\" ></img></td><td><img width=300 src=\"val2014/COCO_val2014_000000073830.jpg\" ></img></td></tr><tr><td><b>normal</b></td><td><b>contrastive</b></td></tr><tr><td><ol><li>a couple of giraffe standing next to each other</li><li>a group of giraffe standing next to each other</li><li>a couple of giraffe standing next to a other</li><li>a couple of giraffe standing next to each other on a field</li><li>a couple of giraffe standing next to each other on a dirt field</li></ol></td><td><ol><li>a group of giraffe standing next to each other</li><li>a giraffe standing next to a baby giraffe</li><li>a group of giraffe standing next to each other on a dirt field</li><li>a group of giraffe standing next to each other on a field</li><li>a group of giraffes standing next to each other</li></ol></td></tr></table>"
      ],
      "text/plain": [
       "<IPython.core.display.HTML object>"
      ]
     },
     "metadata": {},
     "output_type": "display_data"
    },
    {
     "data": {
      "text/html": [
       "<table><tr><td><img width=300 src=\"val2014/COCO_val2014_000000073830.jpg\" ></img></td><td><img width=300 src=\"val2014/COCO_val2014_000000302298.jpg\" ></img></td></tr></table>"
      ],
      "text/plain": [
       "<IPython.core.display.HTML object>"
      ]
     },
     "metadata": {},
     "output_type": "display_data"
    },
    {
     "data": {
      "text/html": [
       "<table><tr><td><img width=300 src=\"val2014/COCO_val2014_000000302298.jpg\" ></img></td><td><img width=300 src=\"train2014/COCO_train2014_000000019901.jpg\" ></img></td><td><img width=300 src=\"train2014/COCO_train2014_000000368686.jpg\" ></img></td><td><img width=300 src=\"val2014/COCO_val2014_000000493805.jpg\" ></img></td><td><img width=300 src=\"train2014/COCO_train2014_000000362247.jpg\" ></img></td></tr><tr><td><b>0.1490</b></td><td><b>0.1191</b></td><td><b>0.1157</b></td><td><b>0.1021</b></td><td><b>0.0985</b></td></tr><tr><td><img width=300 src=\"train2014/COCO_train2014_000000253796.jpg\" ></img></td><td><img width=300 src=\"val2014/COCO_val2014_000000573291.jpg\" ></img></td><td><img width=300 src=\"train2014/COCO_train2014_000000059870.jpg\" ></img></td><td><img width=300 src=\"train2014/COCO_train2014_000000501612.jpg\" ></img></td><td><img width=300 src=\"train2014/COCO_train2014_000000518098.jpg\" ></img></td></tr><tr><td><b>0.0966</b></td><td><b>0.0944</b></td><td><b>0.0856</b></td><td><b>0.0790</b></td><td><b>0.0600</b></td></tr></table>"
      ],
      "text/plain": [
       "<IPython.core.display.HTML object>"
      ]
     },
     "metadata": {},
     "output_type": "display_data"
    },
    {
     "name": "stdout",
     "output_type": "stream",
     "text": [
      "\n"
     ]
    },
    {
     "data": {
      "text/html": [
       "<table><tr><td><img width=300 src=\"val2014/COCO_val2014_000000095022.jpg\" ></img></td><td><img width=300 src=\"val2014/COCO_val2014_000000095022.jpg\" ></img></td></tr><tr><td><b>normal</b></td><td><b>contrastive</b></td></tr><tr><td><ol><li>a bird perched on top of a tree branch</li><li>a bird perched on a branch of a tree</li><li>a bird is perched on a branch of a tree</li><li>a red bird sitting on a branch of a tree</li><li>a bird perched on top of a branch branch</li></ol></td><td><ol><li>a red bird sitting on a tree branch</li><li>a red bird perched on a tree branch</li><li>a red bird is perched on a branch</li><li>a red bird is perched on a tree branch</li><li>a red bird sitting on a branch of a tree</li></ol></td></tr></table>"
      ],
      "text/plain": [
       "<IPython.core.display.HTML object>"
      ]
     },
     "metadata": {},
     "output_type": "display_data"
    },
    {
     "data": {
      "text/html": [
       "<table><tr><td><img width=300 src=\"val2014/COCO_val2014_000000095022.jpg\" ></img></td><td><img width=300 src=\"val2014/COCO_val2014_000000108982.jpg\" ></img></td></tr></table>"
      ],
      "text/plain": [
       "<IPython.core.display.HTML object>"
      ]
     },
     "metadata": {},
     "output_type": "display_data"
    },
    {
     "data": {
      "text/html": [
       "<table><tr><td><img width=300 src=\"val2014/COCO_val2014_000000108982.jpg\" ></img></td><td><img width=300 src=\"train2014/COCO_train2014_000000424029.jpg\" ></img></td><td><img width=300 src=\"val2014/COCO_val2014_000000402519.jpg\" ></img></td><td><img width=300 src=\"train2014/COCO_train2014_000000173538.jpg\" ></img></td><td><img width=300 src=\"train2014/COCO_train2014_000000429819.jpg\" ></img></td></tr><tr><td><b>0.1384</b></td><td><b>0.1366</b></td><td><b>0.1300</b></td><td><b>0.1166</b></td><td><b>0.1099</b></td></tr><tr><td><img width=300 src=\"train2014/COCO_train2014_000000045693.jpg\" ></img></td><td><img width=300 src=\"train2014/COCO_train2014_000000202129.jpg\" ></img></td><td><img width=300 src=\"val2014/COCO_val2014_000000375087.jpg\" ></img></td><td><img width=300 src=\"train2014/COCO_train2014_000000141873.jpg\" ></img></td><td><img width=300 src=\"val2014/COCO_val2014_000000009553.jpg\" ></img></td></tr><tr><td><b>0.1042</b></td><td><b>0.0893</b></td><td><b>0.0631</b></td><td><b>0.0618</b></td><td><b>0.0500</b></td></tr></table>"
      ],
      "text/plain": [
       "<IPython.core.display.HTML object>"
      ]
     },
     "metadata": {},
     "output_type": "display_data"
    },
    {
     "name": "stdout",
     "output_type": "stream",
     "text": [
      "\n"
     ]
    },
    {
     "data": {
      "text/html": [
       "<table><tr><td><img width=300 src=\"val2014/COCO_val2014_000000125997.jpg\" ></img></td><td><img width=300 src=\"val2014/COCO_val2014_000000125997.jpg\" ></img></td></tr><tr><td><b>normal</b></td><td><b>contrastive</b></td></tr><tr><td><ol><li>a blue street sign in front of a building</li><li>a blue street sign sitting in front of a building</li><li>a blue street sign sitting on the side of a building</li><li>a blue street sign sitting on the side of a road</li><li>a blue street sign sitting on the side of a street</li></ol></td><td><ol><li>a blue street sign in front of a building</li><li>a blue street sign sitting in front of a building</li><li>a blue street sign sitting on the side of a building</li><li>a blue street sign sitting on the side of a road</li><li>a blue street sign sitting on the side of a street</li></ol></td></tr></table>"
      ],
      "text/plain": [
       "<IPython.core.display.HTML object>"
      ]
     },
     "metadata": {},
     "output_type": "display_data"
    },
    {
     "data": {
      "text/html": [
       "<table><tr><td><img width=300 src=\"val2014/COCO_val2014_000000125997.jpg\" ></img></td><td><img width=300 src=\"val2014/COCO_val2014_000000224724.jpg\" ></img></td></tr></table>"
      ],
      "text/plain": [
       "<IPython.core.display.HTML object>"
      ]
     },
     "metadata": {},
     "output_type": "display_data"
    },
    {
     "data": {
      "text/html": [
       "<table><tr><td><img width=300 src=\"val2014/COCO_val2014_000000224724.jpg\" ></img></td><td><img width=300 src=\"train2014/COCO_train2014_000000198263.jpg\" ></img></td><td><img width=300 src=\"val2014/COCO_val2014_000000183833.jpg\" ></img></td><td><img width=300 src=\"train2014/COCO_train2014_000000152958.jpg\" ></img></td><td><img width=300 src=\"val2014/COCO_val2014_000000399865.jpg\" ></img></td></tr><tr><td><b>0.1665</b></td><td><b>0.1351</b></td><td><b>0.1289</b></td><td><b>0.1177</b></td><td><b>0.1089</b></td></tr><tr><td><img width=300 src=\"train2014/COCO_train2014_000000552305.jpg\" ></img></td><td><img width=300 src=\"train2014/COCO_train2014_000000276506.jpg\" ></img></td><td><img width=300 src=\"train2014/COCO_train2014_000000457121.jpg\" ></img></td><td><img width=300 src=\"train2014/COCO_train2014_000000290761.jpg\" ></img></td><td><img width=300 src=\"train2014/COCO_train2014_000000266503.jpg\" ></img></td></tr><tr><td><b>0.1087</b></td><td><b>0.0760</b></td><td><b>0.0733</b></td><td><b>0.0526</b></td><td><b>0.0325</b></td></tr></table>"
      ],
      "text/plain": [
       "<IPython.core.display.HTML object>"
      ]
     },
     "metadata": {},
     "output_type": "display_data"
    },
    {
     "name": "stdout",
     "output_type": "stream",
     "text": [
      "\n"
     ]
    },
    {
     "data": {
      "text/html": [
       "<table><tr><td><img width=300 src=\"val2014/COCO_val2014_000000015113.jpg\" ></img></td><td><img width=300 src=\"val2014/COCO_val2014_000000015113.jpg\" ></img></td></tr><tr><td><b>normal</b></td><td><b>contrastive</b></td></tr><tr><td><ol><li>a blue bird perched on a tree branch</li><li>a bird is perched on a tree branch</li><li>a bird is perched on a tree limb</li><li>a bird perched on a tree branch in a tree</li><li>a bird perched on a tree branch in a forest</li></ol></td><td><ol><li>a blue bird perched on a tree branch</li><li>a blue bird sitting on a tree branch</li><li>a blue bird is perched on a tree branch</li><li>a blue bird is perched on a branch</li><li>a blue bird perched on a branch of a tree</li></ol></td></tr></table>"
      ],
      "text/plain": [
       "<IPython.core.display.HTML object>"
      ]
     },
     "metadata": {},
     "output_type": "display_data"
    },
    {
     "data": {
      "text/html": [
       "<table><tr><td><img width=300 src=\"val2014/COCO_val2014_000000015113.jpg\" ></img></td><td><img width=300 src=\"val2014/COCO_val2014_000000338203.jpg\" ></img></td></tr></table>"
      ],
      "text/plain": [
       "<IPython.core.display.HTML object>"
      ]
     },
     "metadata": {},
     "output_type": "display_data"
    },
    {
     "data": {
      "text/html": [
       "<table><tr><td><img width=300 src=\"val2014/COCO_val2014_000000338203.jpg\" ></img></td><td><img width=300 src=\"train2014/COCO_train2014_000000019558.jpg\" ></img></td><td><img width=300 src=\"val2014/COCO_val2014_000000337987.jpg\" ></img></td><td><img width=300 src=\"train2014/COCO_train2014_000000074390.jpg\" ></img></td><td><img width=300 src=\"train2014/COCO_train2014_000000429819.jpg\" ></img></td></tr><tr><td><b>0.1508</b></td><td><b>0.1402</b></td><td><b>0.1357</b></td><td><b>0.1139</b></td><td><b>0.1068</b></td></tr><tr><td><img width=300 src=\"train2014/COCO_train2014_000000333738.jpg\" ></img></td><td><img width=300 src=\"val2014/COCO_val2014_000000150987.jpg\" ></img></td><td><img width=300 src=\"train2014/COCO_train2014_000000234834.jpg\" ></img></td><td><img width=300 src=\"train2014/COCO_train2014_000000494973.jpg\" ></img></td><td><img width=300 src=\"train2014/COCO_train2014_000000361332.jpg\" ></img></td></tr><tr><td><b>0.0936</b></td><td><b>0.0808</b></td><td><b>0.0652</b></td><td><b>0.0591</b></td><td><b>0.0538</b></td></tr></table>"
      ],
      "text/plain": [
       "<IPython.core.display.HTML object>"
      ]
     },
     "metadata": {},
     "output_type": "display_data"
    },
    {
     "name": "stdout",
     "output_type": "stream",
     "text": [
      "\n"
     ]
    },
    {
     "data": {
      "text/html": [
       "<table><tr><td><img width=300 src=\"val2014/COCO_val2014_000000144053.jpg\" ></img></td><td><img width=300 src=\"val2014/COCO_val2014_000000144053.jpg\" ></img></td></tr><tr><td><b>normal</b></td><td><b>contrastive</b></td></tr><tr><td><ol><li>a street sign on a pole in a city</li><li>a street sign on a pole on a street</li><li>a street sign on a pole on a city street</li><li>a street sign on the corner of a street</li><li>a street sign on a pole in front of a building</li></ol></td><td><ol><li>a street sign on a pole in a city</li><li>a street sign on a pole on a street</li><li>a street sign on a pole on a city street</li><li>a street sign on a pole next to a street</li><li>a street sign on a pole in front of a building</li></ol></td></tr></table>"
      ],
      "text/plain": [
       "<IPython.core.display.HTML object>"
      ]
     },
     "metadata": {},
     "output_type": "display_data"
    },
    {
     "data": {
      "text/html": [
       "<table><tr><td><img width=300 src=\"val2014/COCO_val2014_000000144053.jpg\" ></img></td><td><img width=300 src=\"train2014/COCO_train2014_000000290489.jpg\" ></img></td></tr></table>"
      ],
      "text/plain": [
       "<IPython.core.display.HTML object>"
      ]
     },
     "metadata": {},
     "output_type": "display_data"
    },
    {
     "data": {
      "text/html": [
       "<table><tr><td><img width=300 src=\"train2014/COCO_train2014_000000290489.jpg\" ></img></td><td><img width=300 src=\"train2014/COCO_train2014_000000533356.jpg\" ></img></td><td><img width=300 src=\"train2014/COCO_train2014_000000366385.jpg\" ></img></td><td><img width=300 src=\"train2014/COCO_train2014_000000188139.jpg\" ></img></td><td><img width=300 src=\"val2014/COCO_val2014_000000241010.jpg\" ></img></td></tr><tr><td><b>0.2397</b></td><td><b>0.1857</b></td><td><b>0.1043</b></td><td><b>0.0909</b></td><td><b>0.0894</b></td></tr><tr><td><img width=300 src=\"train2014/COCO_train2014_000000255271.jpg\" ></img></td><td><img width=300 src=\"val2014/COCO_val2014_000000462211.jpg\" ></img></td><td><img width=300 src=\"train2014/COCO_train2014_000000266503.jpg\" ></img></td><td><img width=300 src=\"train2014/COCO_train2014_000000551185.jpg\" ></img></td><td><img width=300 src=\"val2014/COCO_val2014_000000206290.jpg\" ></img></td></tr><tr><td><b>0.0815</b></td><td><b>0.0582</b></td><td><b>0.0527</b></td><td><b>0.0511</b></td><td><b>0.0466</b></td></tr></table>"
      ],
      "text/plain": [
       "<IPython.core.display.HTML object>"
      ]
     },
     "metadata": {},
     "output_type": "display_data"
    },
    {
     "name": "stdout",
     "output_type": "stream",
     "text": [
      "\n"
     ]
    },
    {
     "data": {
      "text/html": [
       "<table><tr><td><img width=300 src=\"val2014/COCO_val2014_000000329486.jpg\" ></img></td><td><img width=300 src=\"val2014/COCO_val2014_000000329486.jpg\" ></img></td></tr><tr><td><b>normal</b></td><td><b>contrastive</b></td></tr><tr><td><ol><li>a train traveling over a bridge over a body of water</li><li>a train traveling over a bridge over a river</li><li>a train traveling over a bridge next to the ocean</li><li>a train traveling on a bridge over a body of water</li><li>a train traveling over a bridge next to a body of water</li></ol></td><td><ol><li>a train traveling over a bridge over a body of water</li><li>a train traveling over a bridge over a river</li><li>a train traveling over a bridge next to the ocean</li><li>a train going over a bridge over a body of water</li><li>a train traveling over a bridge next to a body of water</li></ol></td></tr></table>"
      ],
      "text/plain": [
       "<IPython.core.display.HTML object>"
      ]
     },
     "metadata": {},
     "output_type": "display_data"
    },
    {
     "data": {
      "text/html": [
       "<table><tr><td><img width=300 src=\"val2014/COCO_val2014_000000329486.jpg\" ></img></td><td><img width=300 src=\"train2014/COCO_train2014_000000104142.jpg\" ></img></td></tr></table>"
      ],
      "text/plain": [
       "<IPython.core.display.HTML object>"
      ]
     },
     "metadata": {},
     "output_type": "display_data"
    },
    {
     "data": {
      "text/html": [
       "<table><tr><td><img width=300 src=\"train2014/COCO_train2014_000000104142.jpg\" ></img></td><td><img width=300 src=\"train2014/COCO_train2014_000000135618.jpg\" ></img></td><td><img width=300 src=\"train2014/COCO_train2014_000000374533.jpg\" ></img></td><td><img width=300 src=\"train2014/COCO_train2014_000000498510.jpg\" ></img></td><td><img width=300 src=\"train2014/COCO_train2014_000000439236.jpg\" ></img></td></tr><tr><td><b>0.1723</b></td><td><b>0.1367</b></td><td><b>0.1169</b></td><td><b>0.0999</b></td><td><b>0.0964</b></td></tr><tr><td><img width=300 src=\"val2014/COCO_val2014_000000081264.jpg\" ></img></td><td><img width=300 src=\"val2014/COCO_val2014_000000111096.jpg\" ></img></td><td><img width=300 src=\"val2014/COCO_val2014_000000492562.jpg\" ></img></td><td><img width=300 src=\"val2014/COCO_val2014_000000108440.jpg\" ></img></td><td><img width=300 src=\"train2014/COCO_train2014_000000181463.jpg\" ></img></td></tr><tr><td><b>0.0942</b></td><td><b>0.0871</b></td><td><b>0.0808</b></td><td><b>0.0637</b></td><td><b>0.0521</b></td></tr></table>"
      ],
      "text/plain": [
       "<IPython.core.display.HTML object>"
      ]
     },
     "metadata": {},
     "output_type": "display_data"
    },
    {
     "name": "stdout",
     "output_type": "stream",
     "text": [
      "\n"
     ]
    },
    {
     "data": {
      "text/html": [
       "<table><tr><td><img width=300 src=\"val2014/COCO_val2014_000000231163.jpg\" ></img></td><td><img width=300 src=\"val2014/COCO_val2014_000000231163.jpg\" ></img></td></tr><tr><td><b>normal</b></td><td><b>contrastive</b></td></tr><tr><td><ol><li>a group of people standing on a platform next to a train</li><li>a group of people standing on the side of a train</li><li>a group of people standing on a train platform</li><li>a group of people walking on a train platform</li><li>a group of people standing on a train station</li></ol></td><td><ol><li>a group of people walking on a platform near a train</li><li>a group of people walking on a train platform</li><li>a group of people walking on a train station</li><li>a group of people standing on a train platform</li><li>a group of people standing on a train station</li></ol></td></tr></table>"
      ],
      "text/plain": [
       "<IPython.core.display.HTML object>"
      ]
     },
     "metadata": {},
     "output_type": "display_data"
    },
    {
     "data": {
      "text/html": [
       "<table><tr><td><img width=300 src=\"val2014/COCO_val2014_000000231163.jpg\" ></img></td><td><img width=300 src=\"val2014/COCO_val2014_000000187144.jpg\" ></img></td></tr></table>"
      ],
      "text/plain": [
       "<IPython.core.display.HTML object>"
      ]
     },
     "metadata": {},
     "output_type": "display_data"
    },
    {
     "data": {
      "text/html": [
       "<table><tr><td><img width=300 src=\"val2014/COCO_val2014_000000187144.jpg\" ></img></td><td><img width=300 src=\"train2014/COCO_train2014_000000411028.jpg\" ></img></td><td><img width=300 src=\"train2014/COCO_train2014_000000290812.jpg\" ></img></td><td><img width=300 src=\"val2014/COCO_val2014_000000082085.jpg\" ></img></td><td><img width=300 src=\"train2014/COCO_train2014_000000021083.jpg\" ></img></td></tr><tr><td><b>0.1436</b></td><td><b>0.1354</b></td><td><b>0.1324</b></td><td><b>0.1034</b></td><td><b>0.1022</b></td></tr><tr><td><img width=300 src=\"train2014/COCO_train2014_000000094996.jpg\" ></img></td><td><img width=300 src=\"train2014/COCO_train2014_000000308535.jpg\" ></img></td><td><img width=300 src=\"train2014/COCO_train2014_000000284342.jpg\" ></img></td><td><img width=300 src=\"val2014/COCO_val2014_000000554767.jpg\" ></img></td><td><img width=300 src=\"val2014/COCO_val2014_000000492102.jpg\" ></img></td></tr><tr><td><b>0.0882</b></td><td><b>0.0807</b></td><td><b>0.0773</b></td><td><b>0.0721</b></td><td><b>0.0646</b></td></tr></table>"
      ],
      "text/plain": [
       "<IPython.core.display.HTML object>"
      ]
     },
     "metadata": {},
     "output_type": "display_data"
    },
    {
     "name": "stdout",
     "output_type": "stream",
     "text": [
      "\n"
     ]
    },
    {
     "data": {
      "text/html": [
       "<table><tr><td><img width=300 src=\"val2014/COCO_val2014_000000463633.jpg\" ></img></td><td><img width=300 src=\"val2014/COCO_val2014_000000463633.jpg\" ></img></td></tr><tr><td><b>normal</b></td><td><b>contrastive</b></td></tr><tr><td><ol><li>a stop sign with graffiti written on it</li><li>a stop sign that has been vandalized with graffiti</li><li>a stop sign that has been written on it</li><li>a stop sign that has been spray painted on it</li><li>a stop sign with graffiti on it on a street</li></ol></td><td><ol><li>a red stop sign sitting on the side of a road</li><li>a stop sign that has been vandalized with graffiti</li><li>a red stop sign sitting on the side of a street</li><li>a red stop sign sitting on the side of the road</li><li>a stop sign that has been written on it</li></ol></td></tr></table>"
      ],
      "text/plain": [
       "<IPython.core.display.HTML object>"
      ]
     },
     "metadata": {},
     "output_type": "display_data"
    },
    {
     "data": {
      "text/html": [
       "<table><tr><td><img width=300 src=\"val2014/COCO_val2014_000000463633.jpg\" ></img></td><td><img width=300 src=\"train2014/COCO_train2014_000000418811.jpg\" ></img></td></tr></table>"
      ],
      "text/plain": [
       "<IPython.core.display.HTML object>"
      ]
     },
     "metadata": {},
     "output_type": "display_data"
    },
    {
     "data": {
      "text/html": [
       "<table><tr><td><img width=300 src=\"train2014/COCO_train2014_000000418811.jpg\" ></img></td><td><img width=300 src=\"val2014/COCO_val2014_000000214200.jpg\" ></img></td><td><img width=300 src=\"train2014/COCO_train2014_000000225392.jpg\" ></img></td><td><img width=300 src=\"val2014/COCO_val2014_000000283038.jpg\" ></img></td><td><img width=300 src=\"train2014/COCO_train2014_000000339403.jpg\" ></img></td></tr><tr><td><b>0.1352</b></td><td><b>0.1344</b></td><td><b>0.1199</b></td><td><b>0.1185</b></td><td><b>0.1179</b></td></tr><tr><td><img width=300 src=\"train2014/COCO_train2014_000000506394.jpg\" ></img></td><td><img width=300 src=\"train2014/COCO_train2014_000000440298.jpg\" ></img></td><td><img width=300 src=\"train2014/COCO_train2014_000000151277.jpg\" ></img></td><td><img width=300 src=\"val2014/COCO_val2014_000000015157.jpg\" ></img></td><td><img width=300 src=\"train2014/COCO_train2014_000000301405.jpg\" ></img></td></tr><tr><td><b>0.0872</b></td><td><b>0.0870</b></td><td><b>0.0867</b></td><td><b>0.0829</b></td><td><b>0.0303</b></td></tr></table>"
      ],
      "text/plain": [
       "<IPython.core.display.HTML object>"
      ]
     },
     "metadata": {},
     "output_type": "display_data"
    },
    {
     "name": "stdout",
     "output_type": "stream",
     "text": [
      "\n"
     ]
    }
   ],
   "source": [
    "# finetuned 1.0 with closest\n",
    "display_em_model(next(loader.iters['val']), k=10, neighbor_types=['closest'], choose_distractor=True)"
   ]
  },
  {
   "cell_type": "code",
   "execution_count": 37,
   "metadata": {
    "scrolled": false
   },
   "outputs": [
    {
     "data": {
      "text/html": [
       "<table><tr><td><img width=300 src=\"val2014/COCO_val2014_000000184613.jpg\" ></img></td><td><img width=300 src=\"val2014/COCO_val2014_000000184613.jpg\" ></img></td></tr><tr><td><b>normal</b></td><td><b>contrastive</b></td></tr><tr><td><ol><li>a group of people standing around a herd of sheep</li><li>a group of people standing next to a herd of sheep</li><li>a group of people standing around a herd of goats</li><li>a group of people standing next to a group of sheep</li><li>a group of people standing next to a herd of goats</li></ol></td><td><ol><li>a woman and a baby are standing in a field</li><li>a woman and a child are standing in a field</li><li>a woman and a baby are standing next to a herd of sheep</li><li>a woman and a baby are standing next to a group of sheep</li><li>a woman and a baby are standing next to a herd of goats</li></ol></td></tr></table>"
      ],
      "text/plain": [
       "<IPython.core.display.HTML object>"
      ]
     },
     "metadata": {},
     "output_type": "display_data"
    },
    {
     "data": {
      "text/html": [
       "<table><tr><td><img width=300 src=\"val2014/COCO_val2014_000000184613.jpg\" ></img></td><td><img width=300 src=\"train2014/COCO_train2014_000000007953.jpg\" ></img></td></tr></table>"
      ],
      "text/plain": [
       "<IPython.core.display.HTML object>"
      ]
     },
     "metadata": {},
     "output_type": "display_data"
    },
    {
     "data": {
      "text/html": [
       "<table><tr><td><img width=300 src=\"train2014/COCO_train2014_000000007953.jpg\" ></img></td><td><img width=300 src=\"train2014/COCO_train2014_000000077693.jpg\" ></img></td><td><img width=300 src=\"train2014/COCO_train2014_000000063043.jpg\" ></img></td><td><img width=300 src=\"train2014/COCO_train2014_000000086329.jpg\" ></img></td><td><img width=300 src=\"train2014/COCO_train2014_000000433662.jpg\" ></img></td></tr><tr><td><b>0.1059</b></td><td><b>0.1036</b></td><td><b>0.1025</b></td><td><b>0.1019</b></td><td><b>0.0997</b></td></tr><tr><td><img width=300 src=\"val2014/COCO_val2014_000000250804.jpg\" ></img></td><td><img width=300 src=\"val2014/COCO_val2014_000000031471.jpg\" ></img></td><td><img width=300 src=\"train2014/COCO_train2014_000000407590.jpg\" ></img></td><td><img width=300 src=\"train2014/COCO_train2014_000000378214.jpg\" ></img></td><td><img width=300 src=\"train2014/COCO_train2014_000000020966.jpg\" ></img></td></tr><tr><td><b>0.0988</b></td><td><b>0.0982</b></td><td><b>0.0970</b></td><td><b>0.0968</b></td><td><b>0.0955</b></td></tr></table>"
      ],
      "text/plain": [
       "<IPython.core.display.HTML object>"
      ]
     },
     "metadata": {},
     "output_type": "display_data"
    },
    {
     "name": "stdout",
     "output_type": "stream",
     "text": [
      "\n"
     ]
    },
    {
     "data": {
      "text/html": [
       "<table><tr><td><img width=300 src=\"val2014/COCO_val2014_000000403013.jpg\" ></img></td><td><img width=300 src=\"val2014/COCO_val2014_000000403013.jpg\" ></img></td></tr><tr><td><b>normal</b></td><td><b>contrastive</b></td></tr><tr><td><ol><li>a kitchen with a stove top oven and a stove</li><li>a kitchen with a stove top oven and stove</li><li>a kitchen with a stove and a stove</li><li>a kitchen with a white refrigerator and a stove</li><li>a kitchen with a stove a stove and a microwave</li></ol></td><td><ol><li>a kitchen with a stove top oven and a stove</li><li>this is a kitchen with a stove top oven</li><li>a kitchen with a stove a stove and a microwave</li><li>a kitchen with a stove top oven and a microwave</li><li>a kitchen with a stove top oven and a stove top oven</li></ol></td></tr></table>"
      ],
      "text/plain": [
       "<IPython.core.display.HTML object>"
      ]
     },
     "metadata": {},
     "output_type": "display_data"
    },
    {
     "data": {
      "text/html": [
       "<table><tr><td><img width=300 src=\"val2014/COCO_val2014_000000403013.jpg\" ></img></td><td><img width=300 src=\"train2014/COCO_train2014_000000266273.jpg\" ></img></td></tr></table>"
      ],
      "text/plain": [
       "<IPython.core.display.HTML object>"
      ]
     },
     "metadata": {},
     "output_type": "display_data"
    },
    {
     "data": {
      "text/html": [
       "<table><tr><td><img width=300 src=\"train2014/COCO_train2014_000000266273.jpg\" ></img></td><td><img width=300 src=\"train2014/COCO_train2014_000000138536.jpg\" ></img></td><td><img width=300 src=\"train2014/COCO_train2014_000000229962.jpg\" ></img></td><td><img width=300 src=\"train2014/COCO_train2014_000000524838.jpg\" ></img></td><td><img width=300 src=\"val2014/COCO_val2014_000000553129.jpg\" ></img></td></tr><tr><td><b>0.1071</b></td><td><b>0.1058</b></td><td><b>0.1057</b></td><td><b>0.1033</b></td><td><b>0.1001</b></td></tr><tr><td><img width=300 src=\"train2014/COCO_train2014_000000332202.jpg\" ></img></td><td><img width=300 src=\"train2014/COCO_train2014_000000130180.jpg\" ></img></td><td><img width=300 src=\"train2014/COCO_train2014_000000312850.jpg\" ></img></td><td><img width=300 src=\"val2014/COCO_val2014_000000048910.jpg\" ></img></td><td><img width=300 src=\"val2014/COCO_val2014_000000409855.jpg\" ></img></td></tr><tr><td><b>0.1000</b></td><td><b>0.0961</b></td><td><b>0.0959</b></td><td><b>0.0945</b></td><td><b>0.0915</b></td></tr></table>"
      ],
      "text/plain": [
       "<IPython.core.display.HTML object>"
      ]
     },
     "metadata": {},
     "output_type": "display_data"
    },
    {
     "name": "stdout",
     "output_type": "stream",
     "text": [
      "\n"
     ]
    },
    {
     "data": {
      "text/html": [
       "<table><tr><td><img width=300 src=\"val2014/COCO_val2014_000000562150.jpg\" ></img></td><td><img width=300 src=\"val2014/COCO_val2014_000000562150.jpg\" ></img></td></tr><tr><td><b>normal</b></td><td><b>contrastive</b></td></tr><tr><td><ol><li>a woman with a cat and a cat</li><li>a woman holding a cat and a cat</li><li>a woman holding a cat in her arms</li><li>a woman is holding a cat and a cat</li><li>a woman holding a cat in front of a cat</li></ol></td><td><ol><li>a little girl holding a cat in her arms</li><li>a young girl holding a cat in her arms</li><li>a little girl holding a cat and a cat</li><li>a young girl holding a cat and a cat</li><li>a young woman holding a cat and a cat</li></ol></td></tr></table>"
      ],
      "text/plain": [
       "<IPython.core.display.HTML object>"
      ]
     },
     "metadata": {},
     "output_type": "display_data"
    },
    {
     "data": {
      "text/html": [
       "<table><tr><td><img width=300 src=\"val2014/COCO_val2014_000000562150.jpg\" ></img></td><td><img width=300 src=\"val2014/COCO_val2014_000000361217.jpg\" ></img></td></tr></table>"
      ],
      "text/plain": [
       "<IPython.core.display.HTML object>"
      ]
     },
     "metadata": {},
     "output_type": "display_data"
    },
    {
     "data": {
      "text/html": [
       "<table><tr><td><img width=300 src=\"val2014/COCO_val2014_000000361217.jpg\" ></img></td><td><img width=300 src=\"train2014/COCO_train2014_000000334039.jpg\" ></img></td><td><img width=300 src=\"train2014/COCO_train2014_000000430394.jpg\" ></img></td><td><img width=300 src=\"train2014/COCO_train2014_000000184937.jpg\" ></img></td><td><img width=300 src=\"val2014/COCO_val2014_000000194716.jpg\" ></img></td></tr><tr><td><b>0.1369</b></td><td><b>0.1278</b></td><td><b>0.1242</b></td><td><b>0.1241</b></td><td><b>0.1133</b></td></tr><tr><td><img width=300 src=\"train2014/COCO_train2014_000000478675.jpg\" ></img></td><td><img width=300 src=\"train2014/COCO_train2014_000000277050.jpg\" ></img></td><td><img width=300 src=\"train2014/COCO_train2014_000000390934.jpg\" ></img></td><td><img width=300 src=\"val2014/COCO_val2014_000000363321.jpg\" ></img></td><td><img width=300 src=\"val2014/COCO_val2014_000000169690.jpg\" ></img></td></tr><tr><td><b>0.0976</b></td><td><b>0.0746</b></td><td><b>0.0731</b></td><td><b>0.0662</b></td><td><b>0.0623</b></td></tr></table>"
      ],
      "text/plain": [
       "<IPython.core.display.HTML object>"
      ]
     },
     "metadata": {},
     "output_type": "display_data"
    },
    {
     "name": "stdout",
     "output_type": "stream",
     "text": [
      "\n"
     ]
    },
    {
     "data": {
      "text/html": [
       "<table><tr><td><img width=300 src=\"val2014/COCO_val2014_000000360772.jpg\" ></img></td><td><img width=300 src=\"val2014/COCO_val2014_000000360772.jpg\" ></img></td></tr><tr><td><b>normal</b></td><td><b>contrastive</b></td></tr><tr><td><ol><li>a bathroom with a toilet and a sink</li><li>a bathroom with a white toilet and a sink</li><li>a bathroom with a white toilet and a white toilet</li><li>a bathroom with a white toilet and a white sink</li><li>a bathroom with a toilet and a sink and a toilet</li></ol></td><td><ol><li>a bathroom with a toilet and a sink</li><li>a bathroom with a white toilet and a sink</li><li>there is a bathroom with a toilet and a sink</li><li>there is a bathroom with a toilet and sink</li><li>a bathroom with a white toilet and a white toilet</li></ol></td></tr></table>"
      ],
      "text/plain": [
       "<IPython.core.display.HTML object>"
      ]
     },
     "metadata": {},
     "output_type": "display_data"
    },
    {
     "data": {
      "text/html": [
       "<table><tr><td><img width=300 src=\"val2014/COCO_val2014_000000360772.jpg\" ></img></td><td><img width=300 src=\"train2014/COCO_train2014_000000208754.jpg\" ></img></td></tr></table>"
      ],
      "text/plain": [
       "<IPython.core.display.HTML object>"
      ]
     },
     "metadata": {},
     "output_type": "display_data"
    },
    {
     "data": {
      "text/html": [
       "<table><tr><td><img width=300 src=\"train2014/COCO_train2014_000000208754.jpg\" ></img></td><td><img width=300 src=\"train2014/COCO_train2014_000000005277.jpg\" ></img></td><td><img width=300 src=\"train2014/COCO_train2014_000000567179.jpg\" ></img></td><td><img width=300 src=\"train2014/COCO_train2014_000000472831.jpg\" ></img></td><td><img width=300 src=\"val2014/COCO_val2014_000000012323.jpg\" ></img></td></tr><tr><td><b>0.1204</b></td><td><b>0.1121</b></td><td><b>0.1091</b></td><td><b>0.1083</b></td><td><b>0.1043</b></td></tr><tr><td><img width=300 src=\"train2014/COCO_train2014_000000386560.jpg\" ></img></td><td><img width=300 src=\"train2014/COCO_train2014_000000132454.jpg\" ></img></td><td><img width=300 src=\"train2014/COCO_train2014_000000428120.jpg\" ></img></td><td><img width=300 src=\"val2014/COCO_val2014_000000126941.jpg\" ></img></td><td><img width=300 src=\"train2014/COCO_train2014_000000201686.jpg\" ></img></td></tr><tr><td><b>0.1015</b></td><td><b>0.0941</b></td><td><b>0.0914</b></td><td><b>0.0882</b></td><td><b>0.0705</b></td></tr></table>"
      ],
      "text/plain": [
       "<IPython.core.display.HTML object>"
      ]
     },
     "metadata": {},
     "output_type": "display_data"
    },
    {
     "name": "stdout",
     "output_type": "stream",
     "text": [
      "\n"
     ]
    },
    {
     "data": {
      "text/html": [
       "<table><tr><td><img width=300 src=\"val2014/COCO_val2014_000000340559.jpg\" ></img></td><td><img width=300 src=\"val2014/COCO_val2014_000000340559.jpg\" ></img></td></tr><tr><td><b>normal</b></td><td><b>contrastive</b></td></tr><tr><td><ol><li>a bathroom with a sink and a mirror</li><li>a bathroom with a sink and a sink</li><li>a bathroom with a sink and a toilet</li><li>a bathroom with a toilet and a sink</li><li>a bathroom with a sink and a toilet in it</li></ol></td><td><ol><li>a bathroom with a sink and a mirror</li><li>a bathroom with a sink and a sink</li><li>a bathroom with a sink and a toilet</li><li>a bathroom with a sink and a toilet in it</li><li>there is a bathroom with a sink and a shower</li></ol></td></tr></table>"
      ],
      "text/plain": [
       "<IPython.core.display.HTML object>"
      ]
     },
     "metadata": {},
     "output_type": "display_data"
    },
    {
     "data": {
      "text/html": [
       "<table><tr><td><img width=300 src=\"val2014/COCO_val2014_000000340559.jpg\" ></img></td><td><img width=300 src=\"val2014/COCO_val2014_000000452793.jpg\" ></img></td></tr></table>"
      ],
      "text/plain": [
       "<IPython.core.display.HTML object>"
      ]
     },
     "metadata": {},
     "output_type": "display_data"
    },
    {
     "data": {
      "text/html": [
       "<table><tr><td><img width=300 src=\"val2014/COCO_val2014_000000452793.jpg\" ></img></td><td><img width=300 src=\"train2014/COCO_train2014_000000504336.jpg\" ></img></td><td><img width=300 src=\"val2014/COCO_val2014_000000070434.jpg\" ></img></td><td><img width=300 src=\"val2014/COCO_val2014_000000078266.jpg\" ></img></td><td><img width=300 src=\"train2014/COCO_train2014_000000375728.jpg\" ></img></td></tr><tr><td><b>0.1204</b></td><td><b>0.1177</b></td><td><b>0.1111</b></td><td><b>0.1107</b></td><td><b>0.1099</b></td></tr><tr><td><img width=300 src=\"val2014/COCO_val2014_000000229311.jpg\" ></img></td><td><img width=300 src=\"val2014/COCO_val2014_000000121828.jpg\" ></img></td><td><img width=300 src=\"val2014/COCO_val2014_000000042568.jpg\" ></img></td><td><img width=300 src=\"train2014/COCO_train2014_000000083878.jpg\" ></img></td><td><img width=300 src=\"train2014/COCO_train2014_000000432201.jpg\" ></img></td></tr><tr><td><b>0.1020</b></td><td><b>0.0946</b></td><td><b>0.0861</b></td><td><b>0.0809</b></td><td><b>0.0666</b></td></tr></table>"
      ],
      "text/plain": [
       "<IPython.core.display.HTML object>"
      ]
     },
     "metadata": {},
     "output_type": "display_data"
    },
    {
     "name": "stdout",
     "output_type": "stream",
     "text": [
      "\n"
     ]
    },
    {
     "data": {
      "text/html": [
       "<table><tr><td><img width=300 src=\"val2014/COCO_val2014_000000321107.jpg\" ></img></td><td><img width=300 src=\"val2014/COCO_val2014_000000321107.jpg\" ></img></td></tr><tr><td><b>normal</b></td><td><b>contrastive</b></td></tr><tr><td><ol><li>a woman riding a bike down a street</li><li>a woman riding a bicycle down a street</li><li>a woman riding a bike down the street</li><li>a woman riding a bike down a street next to a bike</li><li>a woman riding a bike down a street next to a car</li></ol></td><td><ol><li>a woman riding a bike down a street</li><li>a woman riding a bicycle down a street</li><li>a woman riding a bike down the street</li><li>a woman riding a bike down a street next to a bike</li><li>a woman riding a bike down a street next to a car</li></ol></td></tr></table>"
      ],
      "text/plain": [
       "<IPython.core.display.HTML object>"
      ]
     },
     "metadata": {},
     "output_type": "display_data"
    },
    {
     "data": {
      "text/html": [
       "<table><tr><td><img width=300 src=\"val2014/COCO_val2014_000000321107.jpg\" ></img></td><td><img width=300 src=\"val2014/COCO_val2014_000000016961.jpg\" ></img></td></tr></table>"
      ],
      "text/plain": [
       "<IPython.core.display.HTML object>"
      ]
     },
     "metadata": {},
     "output_type": "display_data"
    },
    {
     "data": {
      "text/html": [
       "<table><tr><td><img width=300 src=\"val2014/COCO_val2014_000000016961.jpg\" ></img></td><td><img width=300 src=\"train2014/COCO_train2014_000000262967.jpg\" ></img></td><td><img width=300 src=\"train2014/COCO_train2014_000000304134.jpg\" ></img></td><td><img width=300 src=\"train2014/COCO_train2014_000000489107.jpg\" ></img></td><td><img width=300 src=\"train2014/COCO_train2014_000000380820.jpg\" ></img></td></tr><tr><td><b>0.1245</b></td><td><b>0.1201</b></td><td><b>0.1151</b></td><td><b>0.1054</b></td><td><b>0.1024</b></td></tr><tr><td><img width=300 src=\"val2014/COCO_val2014_000000087920.jpg\" ></img></td><td><img width=300 src=\"val2014/COCO_val2014_000000493846.jpg\" ></img></td><td><img width=300 src=\"train2014/COCO_train2014_000000329755.jpg\" ></img></td><td><img width=300 src=\"train2014/COCO_train2014_000000151778.jpg\" ></img></td><td><img width=300 src=\"train2014/COCO_train2014_000000363455.jpg\" ></img></td></tr><tr><td><b>0.0970</b></td><td><b>0.0936</b></td><td><b>0.0927</b></td><td><b>0.0804</b></td><td><b>0.0689</b></td></tr></table>"
      ],
      "text/plain": [
       "<IPython.core.display.HTML object>"
      ]
     },
     "metadata": {},
     "output_type": "display_data"
    },
    {
     "name": "stdout",
     "output_type": "stream",
     "text": [
      "\n"
     ]
    },
    {
     "data": {
      "text/html": [
       "<table><tr><td><img width=300 src=\"val2014/COCO_val2014_000000129001.jpg\" ></img></td><td><img width=300 src=\"val2014/COCO_val2014_000000129001.jpg\" ></img></td></tr><tr><td><b>normal</b></td><td><b>contrastive</b></td></tr><tr><td><ol><li>a bathroom with a toilet and a sink</li><li>a bathroom with a toilet and a shower</li><li>a bathroom with a toilet sink and shower</li><li>a bathroom with a toilet and a bathtub</li><li>a bathroom with a white toilet and a sink</li></ol></td><td><ol><li>a bathroom with a toilet and a sink</li><li>a bathroom with a toilet and a shower</li><li>a bathroom with a toilet sink and shower</li><li>a bathroom with a toilet and a bathtub</li><li>a bathroom with a toilet and shower with a shower</li></ol></td></tr></table>"
      ],
      "text/plain": [
       "<IPython.core.display.HTML object>"
      ]
     },
     "metadata": {},
     "output_type": "display_data"
    },
    {
     "data": {
      "text/html": [
       "<table><tr><td><img width=300 src=\"val2014/COCO_val2014_000000129001.jpg\" ></img></td><td><img width=300 src=\"val2014/COCO_val2014_000000383606.jpg\" ></img></td></tr></table>"
      ],
      "text/plain": [
       "<IPython.core.display.HTML object>"
      ]
     },
     "metadata": {},
     "output_type": "display_data"
    },
    {
     "data": {
      "text/html": [
       "<table><tr><td><img width=300 src=\"val2014/COCO_val2014_000000383606.jpg\" ></img></td><td><img width=300 src=\"train2014/COCO_train2014_000000522620.jpg\" ></img></td><td><img width=300 src=\"train2014/COCO_train2014_000000187972.jpg\" ></img></td><td><img width=300 src=\"val2014/COCO_val2014_000000134715.jpg\" ></img></td><td><img width=300 src=\"train2014/COCO_train2014_000000491063.jpg\" ></img></td></tr><tr><td><b>0.1125</b></td><td><b>0.1064</b></td><td><b>0.1028</b></td><td><b>0.1024</b></td><td><b>0.1022</b></td></tr><tr><td><img width=300 src=\"train2014/COCO_train2014_000000042086.jpg\" ></img></td><td><img width=300 src=\"val2014/COCO_val2014_000000303928.jpg\" ></img></td><td><img width=300 src=\"val2014/COCO_val2014_000000449731.jpg\" ></img></td><td><img width=300 src=\"train2014/COCO_train2014_000000037126.jpg\" ></img></td><td><img width=300 src=\"val2014/COCO_val2014_000000356299.jpg\" ></img></td></tr><tr><td><b>0.1015</b></td><td><b>0.0996</b></td><td><b>0.0982</b></td><td><b>0.0918</b></td><td><b>0.0826</b></td></tr></table>"
      ],
      "text/plain": [
       "<IPython.core.display.HTML object>"
      ]
     },
     "metadata": {},
     "output_type": "display_data"
    },
    {
     "name": "stdout",
     "output_type": "stream",
     "text": [
      "\n"
     ]
    },
    {
     "data": {
      "text/html": [
       "<table><tr><td><img width=300 src=\"val2014/COCO_val2014_000000556616.jpg\" ></img></td><td><img width=300 src=\"val2014/COCO_val2014_000000556616.jpg\" ></img></td></tr><tr><td><b>normal</b></td><td><b>contrastive</b></td></tr><tr><td><ol><li>a row of parking meters sitting on the side of a road</li><li>a row of parking meters sitting next to a parking meter</li><li>a row of parking meters sitting next to a parking lot</li><li>a row of parking meters on a city street</li><li>a row of parking meters on a street</li></ol></td><td><ol><li>a row of parking meters sitting next to a parking meter</li><li>a row of parking meters sitting on the side of a road</li><li>a row of parking meters sitting next to a parking lot</li><li>a row of parking meters on a street</li><li>a row of parking meters sitting next to a street</li></ol></td></tr></table>"
      ],
      "text/plain": [
       "<IPython.core.display.HTML object>"
      ]
     },
     "metadata": {},
     "output_type": "display_data"
    },
    {
     "data": {
      "text/html": [
       "<table><tr><td><img width=300 src=\"val2014/COCO_val2014_000000556616.jpg\" ></img></td><td><img width=300 src=\"train2014/COCO_train2014_000000253528.jpg\" ></img></td></tr></table>"
      ],
      "text/plain": [
       "<IPython.core.display.HTML object>"
      ]
     },
     "metadata": {},
     "output_type": "display_data"
    },
    {
     "data": {
      "text/html": [
       "<table><tr><td><img width=300 src=\"train2014/COCO_train2014_000000253528.jpg\" ></img></td><td><img width=300 src=\"train2014/COCO_train2014_000000375053.jpg\" ></img></td><td><img width=300 src=\"val2014/COCO_val2014_000000135410.jpg\" ></img></td><td><img width=300 src=\"train2014/COCO_train2014_000000357790.jpg\" ></img></td><td><img width=300 src=\"val2014/COCO_val2014_000000302200.jpg\" ></img></td></tr><tr><td><b>0.1579</b></td><td><b>0.1512</b></td><td><b>0.1364</b></td><td><b>0.1091</b></td><td><b>0.0954</b></td></tr><tr><td><img width=300 src=\"train2014/COCO_train2014_000000488367.jpg\" ></img></td><td><img width=300 src=\"val2014/COCO_val2014_000000145039.jpg\" ></img></td><td><img width=300 src=\"train2014/COCO_train2014_000000172637.jpg\" ></img></td><td><img width=300 src=\"train2014/COCO_train2014_000000068789.jpg\" ></img></td><td><img width=300 src=\"train2014/COCO_train2014_000000539767.jpg\" ></img></td></tr><tr><td><b>0.0841</b></td><td><b>0.0814</b></td><td><b>0.0799</b></td><td><b>0.0579</b></td><td><b>0.0467</b></td></tr></table>"
      ],
      "text/plain": [
       "<IPython.core.display.HTML object>"
      ]
     },
     "metadata": {},
     "output_type": "display_data"
    },
    {
     "name": "stdout",
     "output_type": "stream",
     "text": [
      "\n"
     ]
    },
    {
     "data": {
      "text/html": [
       "<table><tr><td><img width=300 src=\"val2014/COCO_val2014_000000472621.jpg\" ></img></td><td><img width=300 src=\"val2014/COCO_val2014_000000472621.jpg\" ></img></td></tr><tr><td><b>normal</b></td><td><b>contrastive</b></td></tr><tr><td><ol><li>a bathroom with a sink and a bathtub</li><li>a bathroom with a sink and a mirror</li><li>a bathroom with a sink and a bath tub</li><li>a bathroom with a white sink and a large mirror</li><li>a bathroom with a white sink and a white bath tub</li></ol></td><td><ol><li>a bathroom with two sinks and a mirror</li><li>a bathroom with two sinks and a bathtub</li><li>a bathroom with two sinks and a large mirror</li><li>a bath room with a sink and a mirror</li><li>a bathroom with two sinks and a large tub</li></ol></td></tr></table>"
      ],
      "text/plain": [
       "<IPython.core.display.HTML object>"
      ]
     },
     "metadata": {},
     "output_type": "display_data"
    },
    {
     "data": {
      "text/html": [
       "<table><tr><td><img width=300 src=\"val2014/COCO_val2014_000000472621.jpg\" ></img></td><td><img width=300 src=\"train2014/COCO_train2014_000000371490.jpg\" ></img></td></tr></table>"
      ],
      "text/plain": [
       "<IPython.core.display.HTML object>"
      ]
     },
     "metadata": {},
     "output_type": "display_data"
    },
    {
     "data": {
      "text/html": [
       "<table><tr><td><img width=300 src=\"train2014/COCO_train2014_000000371490.jpg\" ></img></td><td><img width=300 src=\"train2014/COCO_train2014_000000515287.jpg\" ></img></td><td><img width=300 src=\"train2014/COCO_train2014_000000155993.jpg\" ></img></td><td><img width=300 src=\"train2014/COCO_train2014_000000401458.jpg\" ></img></td><td><img width=300 src=\"train2014/COCO_train2014_000000188343.jpg\" ></img></td></tr><tr><td><b>0.1083</b></td><td><b>0.1080</b></td><td><b>0.1070</b></td><td><b>0.1050</b></td><td><b>0.1040</b></td></tr><tr><td><img width=300 src=\"train2014/COCO_train2014_000000504907.jpg\" ></img></td><td><img width=300 src=\"train2014/COCO_train2014_000000412267.jpg\" ></img></td><td><img width=300 src=\"train2014/COCO_train2014_000000175291.jpg\" ></img></td><td><img width=300 src=\"train2014/COCO_train2014_000000343670.jpg\" ></img></td><td><img width=300 src=\"train2014/COCO_train2014_000000474732.jpg\" ></img></td></tr><tr><td><b>0.0994</b></td><td><b>0.0953</b></td><td><b>0.0952</b></td><td><b>0.0947</b></td><td><b>0.0831</b></td></tr></table>"
      ],
      "text/plain": [
       "<IPython.core.display.HTML object>"
      ]
     },
     "metadata": {},
     "output_type": "display_data"
    },
    {
     "name": "stdout",
     "output_type": "stream",
     "text": [
      "\n"
     ]
    },
    {
     "data": {
      "text/html": [
       "<table><tr><td><img width=300 src=\"val2014/COCO_val2014_000000364521.jpg\" ></img></td><td><img width=300 src=\"val2014/COCO_val2014_000000364521.jpg\" ></img></td></tr><tr><td><b>normal</b></td><td><b>contrastive</b></td></tr><tr><td><ol><li>a close up of a banana on a table</li><li>a close up of a banana on a toilet</li><li>a close up of a banana on a plate</li><li>a close up of a plate of food on a table</li><li>a close up of a plate of food on a bench</li></ol></td><td><ol><li>a banana sitting on top of a yellow toilet</li><li>a banana sitting on top of a yellow fire hydrant</li><li>a banana sitting on top of a pile of bananas</li><li>a banana sitting on top of a pile of dirt</li><li>a banana sitting on top of a table next to a fire hydrant</li></ol></td></tr></table>"
      ],
      "text/plain": [
       "<IPython.core.display.HTML object>"
      ]
     },
     "metadata": {},
     "output_type": "display_data"
    },
    {
     "data": {
      "text/html": [
       "<table><tr><td><img width=300 src=\"val2014/COCO_val2014_000000364521.jpg\" ></img></td><td><img width=300 src=\"val2014/COCO_val2014_000000358345.jpg\" ></img></td></tr></table>"
      ],
      "text/plain": [
       "<IPython.core.display.HTML object>"
      ]
     },
     "metadata": {},
     "output_type": "display_data"
    },
    {
     "data": {
      "text/html": [
       "<table><tr><td><img width=300 src=\"val2014/COCO_val2014_000000358345.jpg\" ></img></td><td><img width=300 src=\"train2014/COCO_train2014_000000405630.jpg\" ></img></td><td><img width=300 src=\"val2014/COCO_val2014_000000052005.jpg\" ></img></td><td><img width=300 src=\"train2014/COCO_train2014_000000086071.jpg\" ></img></td><td><img width=300 src=\"train2014/COCO_train2014_000000355647.jpg\" ></img></td></tr><tr><td><b>0.1439</b></td><td><b>0.1328</b></td><td><b>0.1170</b></td><td><b>0.1065</b></td><td><b>0.0969</b></td></tr><tr><td><img width=300 src=\"train2014/COCO_train2014_000000108602.jpg\" ></img></td><td><img width=300 src=\"train2014/COCO_train2014_000000395703.jpg\" ></img></td><td><img width=300 src=\"train2014/COCO_train2014_000000172654.jpg\" ></img></td><td><img width=300 src=\"train2014/COCO_train2014_000000424739.jpg\" ></img></td><td><img width=300 src=\"train2014/COCO_train2014_000000147196.jpg\" ></img></td></tr><tr><td><b>0.0960</b></td><td><b>0.0945</b></td><td><b>0.0800</b></td><td><b>0.0700</b></td><td><b>0.0623</b></td></tr></table>"
      ],
      "text/plain": [
       "<IPython.core.display.HTML object>"
      ]
     },
     "metadata": {},
     "output_type": "display_data"
    },
    {
     "name": "stdout",
     "output_type": "stream",
     "text": [
      "\n"
     ]
    }
   ],
   "source": [
    "# finetuned 5.0 with closest\n",
    "display_em_model(batch, k=10, neighbor_types=['closest'], choose_distractor=True)"
   ]
  },
  {
   "cell_type": "code",
   "execution_count": 39,
   "metadata": {
    "scrolled": false
   },
   "outputs": [
    {
     "data": {
      "text/html": [
       "<table><tr><td><img width=300 src=\"val2014/COCO_val2014_000000310391.jpg\" ></img></td><td><img width=300 src=\"val2014/COCO_val2014_000000310391.jpg\" ></img></td></tr><tr><td><b>normal</b></td><td><b>contrastive</b></td></tr><tr><td><ol><li>a blue truck is parked on the grass</li><li>a blue truck is parked in a field</li><li>a blue truck is parked in the grass</li><li>a blue truck parked in a field next to people</li><li>a blue truck parked in a field with people in the background</li></ol></td><td><ol><li>a blue truck is parked in a field</li><li>a blue truck is parked in the grass</li><li>a man sitting in the back of a blue truck</li><li>a man sitting in the back of a blue pickup truck</li><li>a man sitting in the back of a truck</li></ol></td></tr></table>"
      ],
      "text/plain": [
       "<IPython.core.display.HTML object>"
      ]
     },
     "metadata": {},
     "output_type": "display_data"
    },
    {
     "data": {
      "text/html": [
       "<table><tr><td><img width=300 src=\"val2014/COCO_val2014_000000310391.jpg\" ></img></td><td><img width=300 src=\"train2014/COCO_train2014_000000355987.jpg\" ></img></td></tr></table>"
      ],
      "text/plain": [
       "<IPython.core.display.HTML object>"
      ]
     },
     "metadata": {},
     "output_type": "display_data"
    },
    {
     "data": {
      "text/html": [
       "<table><tr><td><img width=300 src=\"train2014/COCO_train2014_000000355987.jpg\" ></img></td><td><img width=300 src=\"train2014/COCO_train2014_000000496874.jpg\" ></img></td><td><img width=300 src=\"train2014/COCO_train2014_000000079563.jpg\" ></img></td><td><img width=300 src=\"val2014/COCO_val2014_000000516798.jpg\" ></img></td><td><img width=300 src=\"val2014/COCO_val2014_000000503765.jpg\" ></img></td></tr><tr><td><b>0.1181</b></td><td><b>0.1086</b></td><td><b>0.1039</b></td><td><b>0.1021</b></td><td><b>0.0987</b></td></tr><tr><td><img width=300 src=\"train2014/COCO_train2014_000000401235.jpg\" ></img></td><td><img width=300 src=\"train2014/COCO_train2014_000000419645.jpg\" ></img></td><td><img width=300 src=\"train2014/COCO_train2014_000000044491.jpg\" ></img></td><td><img width=300 src=\"val2014/COCO_val2014_000000235788.jpg\" ></img></td><td><img width=300 src=\"train2014/COCO_train2014_000000224753.jpg\" ></img></td></tr><tr><td><b>0.0957</b></td><td><b>0.0940</b></td><td><b>0.0936</b></td><td><b>0.0931</b></td><td><b>0.0922</b></td></tr></table>"
      ],
      "text/plain": [
       "<IPython.core.display.HTML object>"
      ]
     },
     "metadata": {},
     "output_type": "display_data"
    },
    {
     "name": "stdout",
     "output_type": "stream",
     "text": [
      "\n"
     ]
    },
    {
     "data": {
      "text/html": [
       "<table><tr><td><img width=300 src=\"val2014/COCO_val2014_000000241876.jpg\" ></img></td><td><img width=300 src=\"val2014/COCO_val2014_000000241876.jpg\" ></img></td></tr><tr><td><b>normal</b></td><td><b>contrastive</b></td></tr><tr><td><ol><li>a cat that is sitting on a toilet</li><li>a cat is sitting on the toilet seat</li><li>a cat sitting on top of a toilet in a bathroom</li><li>a cat sitting on a toilet in a bathroom</li><li>a cat sitting on top of a toilet seat</li></ol></td><td><ol><li>a black cat sitting on top of a toilet</li><li>a black cat is sitting on a toilet</li><li>a black cat is sitting on the toilet</li><li>a black and white cat sitting on a toilet</li><li>a black cat sitting on top of a toilet seat</li></ol></td></tr></table>"
      ],
      "text/plain": [
       "<IPython.core.display.HTML object>"
      ]
     },
     "metadata": {},
     "output_type": "display_data"
    },
    {
     "data": {
      "text/html": [
       "<table><tr><td><img width=300 src=\"val2014/COCO_val2014_000000241876.jpg\" ></img></td><td><img width=300 src=\"train2014/COCO_train2014_000000225713.jpg\" ></img></td></tr></table>"
      ],
      "text/plain": [
       "<IPython.core.display.HTML object>"
      ]
     },
     "metadata": {},
     "output_type": "display_data"
    },
    {
     "data": {
      "text/html": [
       "<table><tr><td><img width=300 src=\"train2014/COCO_train2014_000000225713.jpg\" ></img></td><td><img width=300 src=\"train2014/COCO_train2014_000000012315.jpg\" ></img></td><td><img width=300 src=\"train2014/COCO_train2014_000000447985.jpg\" ></img></td><td><img width=300 src=\"train2014/COCO_train2014_000000473793.jpg\" ></img></td><td><img width=300 src=\"val2014/COCO_val2014_000000562289.jpg\" ></img></td></tr><tr><td><b>0.1410</b></td><td><b>0.1183</b></td><td><b>0.1168</b></td><td><b>0.1056</b></td><td><b>0.1010</b></td></tr><tr><td><img width=300 src=\"train2014/COCO_train2014_000000479780.jpg\" ></img></td><td><img width=300 src=\"train2014/COCO_train2014_000000012102.jpg\" ></img></td><td><img width=300 src=\"val2014/COCO_val2014_000000098302.jpg\" ></img></td><td><img width=300 src=\"train2014/COCO_train2014_000000126810.jpg\" ></img></td><td><img width=300 src=\"train2014/COCO_train2014_000000382056.jpg\" ></img></td></tr><tr><td><b>0.0921</b></td><td><b>0.0907</b></td><td><b>0.0834</b></td><td><b>0.0786</b></td><td><b>0.0726</b></td></tr></table>"
      ],
      "text/plain": [
       "<IPython.core.display.HTML object>"
      ]
     },
     "metadata": {},
     "output_type": "display_data"
    },
    {
     "name": "stdout",
     "output_type": "stream",
     "text": [
      "\n"
     ]
    },
    {
     "data": {
      "text/html": [
       "<table><tr><td><img width=300 src=\"val2014/COCO_val2014_000000462341.jpg\" ></img></td><td><img width=300 src=\"val2014/COCO_val2014_000000462341.jpg\" ></img></td></tr><tr><td><b>normal</b></td><td><b>contrastive</b></td></tr><tr><td><ol><li>a large clock tower with a clock on top</li><li>a large building with a clock on the top of it</li><li>a tall building with a clock on top of it</li><li>a tall building with a clock on the top of it</li><li>a large clock tower with a clock on top of it</li></ol></td><td><ol><li>a tower with a clock on top of it</li><li>a church steeple with a clock on it</li><li>a clock tower with a clock on top of it</li><li>a church steeple with a clock on the top of it</li><li>a church steeple with a clock on the side of it</li></ol></td></tr></table>"
      ],
      "text/plain": [
       "<IPython.core.display.HTML object>"
      ]
     },
     "metadata": {},
     "output_type": "display_data"
    },
    {
     "data": {
      "text/html": [
       "<table><tr><td><img width=300 src=\"val2014/COCO_val2014_000000462341.jpg\" ></img></td><td><img width=300 src=\"train2014/COCO_train2014_000000345357.jpg\" ></img></td></tr></table>"
      ],
      "text/plain": [
       "<IPython.core.display.HTML object>"
      ]
     },
     "metadata": {},
     "output_type": "display_data"
    },
    {
     "data": {
      "text/html": [
       "<table><tr><td><img width=300 src=\"train2014/COCO_train2014_000000345357.jpg\" ></img></td><td><img width=300 src=\"train2014/COCO_train2014_000000347312.jpg\" ></img></td><td><img width=300 src=\"train2014/COCO_train2014_000000506910.jpg\" ></img></td><td><img width=300 src=\"train2014/COCO_train2014_000000452259.jpg\" ></img></td><td><img width=300 src=\"val2014/COCO_val2014_000000050965.jpg\" ></img></td></tr><tr><td><b>0.1155</b></td><td><b>0.1155</b></td><td><b>0.1104</b></td><td><b>0.1082</b></td><td><b>0.1039</b></td></tr><tr><td><img width=300 src=\"train2014/COCO_train2014_000000450426.jpg\" ></img></td><td><img width=300 src=\"train2014/COCO_train2014_000000103513.jpg\" ></img></td><td><img width=300 src=\"val2014/COCO_val2014_000000578786.jpg\" ></img></td><td><img width=300 src=\"train2014/COCO_train2014_000000021945.jpg\" ></img></td><td><img width=300 src=\"train2014/COCO_train2014_000000481042.jpg\" ></img></td></tr><tr><td><b>0.0999</b></td><td><b>0.0937</b></td><td><b>0.0918</b></td><td><b>0.0819</b></td><td><b>0.0791</b></td></tr></table>"
      ],
      "text/plain": [
       "<IPython.core.display.HTML object>"
      ]
     },
     "metadata": {},
     "output_type": "display_data"
    },
    {
     "name": "stdout",
     "output_type": "stream",
     "text": [
      "\n"
     ]
    },
    {
     "data": {
      "text/html": [
       "<table><tr><td><img width=300 src=\"val2014/COCO_val2014_000000268556.jpg\" ></img></td><td><img width=300 src=\"val2014/COCO_val2014_000000268556.jpg\" ></img></td></tr><tr><td><b>normal</b></td><td><b>contrastive</b></td></tr><tr><td><ol><li>a woman riding on the back of a red motorcycle</li><li>a woman riding a motorcycle down a street</li><li>a woman riding on the back of a motorcycle</li><li>a woman riding a red motorcycle down a street</li><li>a woman riding a motorcycle on a city street</li></ol></td><td><ol><li>a woman riding on the back of a red motorcycle</li><li>a woman riding a motorcycle down a street</li><li>a woman riding on the back of a motorcycle</li><li>a woman riding a red motorcycle down a street</li><li>a woman riding a motorcycle on a city street</li></ol></td></tr></table>"
      ],
      "text/plain": [
       "<IPython.core.display.HTML object>"
      ]
     },
     "metadata": {},
     "output_type": "display_data"
    },
    {
     "data": {
      "text/html": [
       "<table><tr><td><img width=300 src=\"val2014/COCO_val2014_000000268556.jpg\" ></img></td><td><img width=300 src=\"train2014/COCO_train2014_000000366430.jpg\" ></img></td></tr></table>"
      ],
      "text/plain": [
       "<IPython.core.display.HTML object>"
      ]
     },
     "metadata": {},
     "output_type": "display_data"
    },
    {
     "data": {
      "text/html": [
       "<table><tr><td><img width=300 src=\"train2014/COCO_train2014_000000366430.jpg\" ></img></td><td><img width=300 src=\"val2014/COCO_val2014_000000007325.jpg\" ></img></td><td><img width=300 src=\"val2014/COCO_val2014_000000340778.jpg\" ></img></td><td><img width=300 src=\"train2014/COCO_train2014_000000255604.jpg\" ></img></td><td><img width=300 src=\"train2014/COCO_train2014_000000540840.jpg\" ></img></td></tr><tr><td><b>0.1287</b></td><td><b>0.1069</b></td><td><b>0.1058</b></td><td><b>0.0985</b></td><td><b>0.0963</b></td></tr><tr><td><img width=300 src=\"train2014/COCO_train2014_000000148727.jpg\" ></img></td><td><img width=300 src=\"train2014/COCO_train2014_000000174354.jpg\" ></img></td><td><img width=300 src=\"val2014/COCO_val2014_000000175831.jpg\" ></img></td><td><img width=300 src=\"val2014/COCO_val2014_000000045110.jpg\" ></img></td><td><img width=300 src=\"train2014/COCO_train2014_000000482252.jpg\" ></img></td></tr><tr><td><b>0.0960</b></td><td><b>0.0944</b></td><td><b>0.0937</b></td><td><b>0.0919</b></td><td><b>0.0878</b></td></tr></table>"
      ],
      "text/plain": [
       "<IPython.core.display.HTML object>"
      ]
     },
     "metadata": {},
     "output_type": "display_data"
    },
    {
     "name": "stdout",
     "output_type": "stream",
     "text": [
      "\n"
     ]
    },
    {
     "data": {
      "text/html": [
       "<table><tr><td><img width=300 src=\"val2014/COCO_val2014_000000386912.jpg\" ></img></td><td><img width=300 src=\"val2014/COCO_val2014_000000386912.jpg\" ></img></td></tr><tr><td><b>normal</b></td><td><b>contrastive</b></td></tr><tr><td><ol><li>a woman sitting at a desk with a laptop</li><li>a woman sitting at a desk in front of a computer</li><li>a woman sitting at a desk with a book</li><li>a woman sitting at a desk with a computer</li><li>a woman sitting at a desk in front of a book</li></ol></td><td><ol><li>a woman sitting at a desk with a laptop</li><li>a woman sitting at a desk in front of a computer</li><li>a woman sitting at a desk with a book</li><li>a woman sitting at a desk with a computer</li><li>a woman sitting at a desk in front of a book</li></ol></td></tr></table>"
      ],
      "text/plain": [
       "<IPython.core.display.HTML object>"
      ]
     },
     "metadata": {},
     "output_type": "display_data"
    },
    {
     "data": {
      "text/html": [
       "<table><tr><td><img width=300 src=\"val2014/COCO_val2014_000000386912.jpg\" ></img></td><td><img width=300 src=\"train2014/COCO_train2014_000000497010.jpg\" ></img></td></tr></table>"
      ],
      "text/plain": [
       "<IPython.core.display.HTML object>"
      ]
     },
     "metadata": {},
     "output_type": "display_data"
    },
    {
     "data": {
      "text/html": [
       "<table><tr><td><img width=300 src=\"train2014/COCO_train2014_000000497010.jpg\" ></img></td><td><img width=300 src=\"train2014/COCO_train2014_000000336839.jpg\" ></img></td><td><img width=300 src=\"train2014/COCO_train2014_000000031587.jpg\" ></img></td><td><img width=300 src=\"train2014/COCO_train2014_000000003685.jpg\" ></img></td><td><img width=300 src=\"train2014/COCO_train2014_000000275997.jpg\" ></img></td></tr><tr><td><b>0.1163</b></td><td><b>0.1074</b></td><td><b>0.1069</b></td><td><b>0.1048</b></td><td><b>0.1011</b></td></tr><tr><td><img width=300 src=\"train2014/COCO_train2014_000000563391.jpg\" ></img></td><td><img width=300 src=\"train2014/COCO_train2014_000000136185.jpg\" ></img></td><td><img width=300 src=\"train2014/COCO_train2014_000000272647.jpg\" ></img></td><td><img width=300 src=\"val2014/COCO_val2014_000000121586.jpg\" ></img></td><td><img width=300 src=\"train2014/COCO_train2014_000000096723.jpg\" ></img></td></tr><tr><td><b>0.1010</b></td><td><b>0.0964</b></td><td><b>0.0914</b></td><td><b>0.0879</b></td><td><b>0.0867</b></td></tr></table>"
      ],
      "text/plain": [
       "<IPython.core.display.HTML object>"
      ]
     },
     "metadata": {},
     "output_type": "display_data"
    },
    {
     "name": "stdout",
     "output_type": "stream",
     "text": [
      "\n"
     ]
    },
    {
     "data": {
      "text/html": [
       "<table><tr><td><img width=300 src=\"val2014/COCO_val2014_000000074331.jpg\" ></img></td><td><img width=300 src=\"val2014/COCO_val2014_000000074331.jpg\" ></img></td></tr><tr><td><b>normal</b></td><td><b>contrastive</b></td></tr><tr><td><ol><li>a bunch of bananas that are in a box</li><li>a bunch of bananas sitting in a box</li><li>a bunch of bananas that are on a table</li><li>a bunch of bananas that are sitting in a box</li><li>a bunch of bananas that are sitting on a table</li></ol></td><td><ol><li>a box filled with lots of ripe bananas</li><li>a box filled with a bunch of bananas</li><li>a box filled with lots of different types of fruit</li><li>a box filled with lots of different types of bananas</li><li>a box filled with lots of different types of food</li></ol></td></tr></table>"
      ],
      "text/plain": [
       "<IPython.core.display.HTML object>"
      ]
     },
     "metadata": {},
     "output_type": "display_data"
    },
    {
     "data": {
      "text/html": [
       "<table><tr><td><img width=300 src=\"val2014/COCO_val2014_000000074331.jpg\" ></img></td><td><img width=300 src=\"train2014/COCO_train2014_000000332891.jpg\" ></img></td></tr></table>"
      ],
      "text/plain": [
       "<IPython.core.display.HTML object>"
      ]
     },
     "metadata": {},
     "output_type": "display_data"
    },
    {
     "data": {
      "text/html": [
       "<table><tr><td><img width=300 src=\"train2014/COCO_train2014_000000332891.jpg\" ></img></td><td><img width=300 src=\"val2014/COCO_val2014_000000114504.jpg\" ></img></td><td><img width=300 src=\"train2014/COCO_train2014_000000436354.jpg\" ></img></td><td><img width=300 src=\"val2014/COCO_val2014_000000504541.jpg\" ></img></td><td><img width=300 src=\"train2014/COCO_train2014_000000514902.jpg\" ></img></td></tr><tr><td><b>0.1469</b></td><td><b>0.1416</b></td><td><b>0.1181</b></td><td><b>0.1142</b></td><td><b>0.1118</b></td></tr><tr><td><img width=300 src=\"train2014/COCO_train2014_000000259297.jpg\" ></img></td><td><img width=300 src=\"train2014/COCO_train2014_000000364748.jpg\" ></img></td><td><img width=300 src=\"train2014/COCO_train2014_000000544687.jpg\" ></img></td><td><img width=300 src=\"train2014/COCO_train2014_000000110886.jpg\" ></img></td><td><img width=300 src=\"train2014/COCO_train2014_000000537862.jpg\" ></img></td></tr><tr><td><b>0.1010</b></td><td><b>0.0836</b></td><td><b>0.0775</b></td><td><b>0.0597</b></td><td><b>0.0455</b></td></tr></table>"
      ],
      "text/plain": [
       "<IPython.core.display.HTML object>"
      ]
     },
     "metadata": {},
     "output_type": "display_data"
    },
    {
     "name": "stdout",
     "output_type": "stream",
     "text": [
      "\n"
     ]
    },
    {
     "data": {
      "text/html": [
       "<table><tr><td><img width=300 src=\"val2014/COCO_val2014_000000078371.jpg\" ></img></td><td><img width=300 src=\"val2014/COCO_val2014_000000078371.jpg\" ></img></td></tr><tr><td><b>normal</b></td><td><b>contrastive</b></td></tr><tr><td><ol><li>a plane sitting on top of a runway</li><li>a plane sitting on top of an airport tarmac</li><li>a plane sitting on top of a tarmac</li><li>a plane sitting on top of an airport runway</li><li>a plane sitting on top of a runway next to a forest</li></ol></td><td><ol><li>a close up of a plane on a runway</li><li>a jet sitting on top of a runway</li><li>a close up of a jet on a runway</li><li>a jet sitting on top of a tarmac</li><li>a jet sitting on top of an airport tarmac</li></ol></td></tr></table>"
      ],
      "text/plain": [
       "<IPython.core.display.HTML object>"
      ]
     },
     "metadata": {},
     "output_type": "display_data"
    },
    {
     "data": {
      "text/html": [
       "<table><tr><td><img width=300 src=\"val2014/COCO_val2014_000000078371.jpg\" ></img></td><td><img width=300 src=\"train2014/COCO_train2014_000000255728.jpg\" ></img></td></tr></table>"
      ],
      "text/plain": [
       "<IPython.core.display.HTML object>"
      ]
     },
     "metadata": {},
     "output_type": "display_data"
    },
    {
     "data": {
      "text/html": [
       "<table><tr><td><img width=300 src=\"train2014/COCO_train2014_000000255728.jpg\" ></img></td><td><img width=300 src=\"val2014/COCO_val2014_000000395849.jpg\" ></img></td><td><img width=300 src=\"val2014/COCO_val2014_000000515043.jpg\" ></img></td><td><img width=300 src=\"train2014/COCO_train2014_000000427803.jpg\" ></img></td><td><img width=300 src=\"train2014/COCO_train2014_000000250920.jpg\" ></img></td></tr><tr><td><b>0.1179</b></td><td><b>0.1146</b></td><td><b>0.1108</b></td><td><b>0.1021</b></td><td><b>0.0977</b></td></tr><tr><td><img width=300 src=\"train2014/COCO_train2014_000000050294.jpg\" ></img></td><td><img width=300 src=\"train2014/COCO_train2014_000000101626.jpg\" ></img></td><td><img width=300 src=\"val2014/COCO_val2014_000000024790.jpg\" ></img></td><td><img width=300 src=\"val2014/COCO_val2014_000000109045.jpg\" ></img></td><td><img width=300 src=\"val2014/COCO_val2014_000000437370.jpg\" ></img></td></tr><tr><td><b>0.0968</b></td><td><b>0.0963</b></td><td><b>0.0952</b></td><td><b>0.0929</b></td><td><b>0.0757</b></td></tr></table>"
      ],
      "text/plain": [
       "<IPython.core.display.HTML object>"
      ]
     },
     "metadata": {},
     "output_type": "display_data"
    },
    {
     "name": "stdout",
     "output_type": "stream",
     "text": [
      "\n"
     ]
    },
    {
     "data": {
      "text/html": [
       "<table><tr><td><img width=300 src=\"val2014/COCO_val2014_000000052759.jpg\" ></img></td><td><img width=300 src=\"val2014/COCO_val2014_000000052759.jpg\" ></img></td></tr><tr><td><b>normal</b></td><td><b>contrastive</b></td></tr><tr><td><ol><li>a couple of planes parked next to each other</li><li>a couple of airplanes that are on a runway</li><li>a couple of airplanes are parked on the tarmac</li><li>a couple of airplanes are parked in a lot</li><li>a couple of airplanes that are on a tarmac</li></ol></td><td><ol><li>a couple of planes parked next to each other</li><li>a couple of airplanes that are on a runway</li><li>a couple of airplanes are parked on the tarmac</li><li>a couple of airplanes are parked in a lot</li><li>a couple of airplanes that are on a tarmac</li></ol></td></tr></table>"
      ],
      "text/plain": [
       "<IPython.core.display.HTML object>"
      ]
     },
     "metadata": {},
     "output_type": "display_data"
    },
    {
     "data": {
      "text/html": [
       "<table><tr><td><img width=300 src=\"val2014/COCO_val2014_000000052759.jpg\" ></img></td><td><img width=300 src=\"train2014/COCO_train2014_000000538285.jpg\" ></img></td></tr></table>"
      ],
      "text/plain": [
       "<IPython.core.display.HTML object>"
      ]
     },
     "metadata": {},
     "output_type": "display_data"
    },
    {
     "data": {
      "text/html": [
       "<table><tr><td><img width=300 src=\"train2014/COCO_train2014_000000538285.jpg\" ></img></td><td><img width=300 src=\"train2014/COCO_train2014_000000581797.jpg\" ></img></td><td><img width=300 src=\"train2014/COCO_train2014_000000387161.jpg\" ></img></td><td><img width=300 src=\"train2014/COCO_train2014_000000190338.jpg\" ></img></td><td><img width=300 src=\"val2014/COCO_val2014_000000513681.jpg\" ></img></td></tr><tr><td><b>0.1100</b></td><td><b>0.1053</b></td><td><b>0.1041</b></td><td><b>0.1038</b></td><td><b>0.1031</b></td></tr><tr><td><img width=300 src=\"train2014/COCO_train2014_000000322350.jpg\" ></img></td><td><img width=300 src=\"train2014/COCO_train2014_000000518305.jpg\" ></img></td><td><img width=300 src=\"train2014/COCO_train2014_000000421314.jpg\" ></img></td><td><img width=300 src=\"train2014/COCO_train2014_000000252132.jpg\" ></img></td><td><img width=300 src=\"val2014/COCO_val2014_000000289173.jpg\" ></img></td></tr><tr><td><b>0.1016</b></td><td><b>0.0981</b></td><td><b>0.0942</b></td><td><b>0.0917</b></td><td><b>0.0882</b></td></tr></table>"
      ],
      "text/plain": [
       "<IPython.core.display.HTML object>"
      ]
     },
     "metadata": {},
     "output_type": "display_data"
    },
    {
     "name": "stdout",
     "output_type": "stream",
     "text": [
      "\n"
     ]
    },
    {
     "data": {
      "text/html": [
       "<table><tr><td><img width=300 src=\"val2014/COCO_val2014_000000128939.jpg\" ></img></td><td><img width=300 src=\"val2014/COCO_val2014_000000128939.jpg\" ></img></td></tr><tr><td><b>normal</b></td><td><b>contrastive</b></td></tr><tr><td><ol><li>a car parked on the side of the road</li><li>a car parked on the side of a street</li><li>a couple of cars parked on the side of the road</li><li>a couple of cars parked on the side of a street</li><li>a couple of cars parked on the side of a road</li></ol></td><td><ol><li>a man riding a car on a city street</li><li>a man is standing on the side of the road</li><li>a man riding a car on a street</li><li>a man is standing on the side of the street</li><li>a man is standing on the side of a road</li></ol></td></tr></table>"
      ],
      "text/plain": [
       "<IPython.core.display.HTML object>"
      ]
     },
     "metadata": {},
     "output_type": "display_data"
    },
    {
     "data": {
      "text/html": [
       "<table><tr><td><img width=300 src=\"val2014/COCO_val2014_000000128939.jpg\" ></img></td><td><img width=300 src=\"train2014/COCO_train2014_000000435929.jpg\" ></img></td></tr></table>"
      ],
      "text/plain": [
       "<IPython.core.display.HTML object>"
      ]
     },
     "metadata": {},
     "output_type": "display_data"
    },
    {
     "data": {
      "text/html": [
       "<table><tr><td><img width=300 src=\"train2014/COCO_train2014_000000435929.jpg\" ></img></td><td><img width=300 src=\"train2014/COCO_train2014_000000178181.jpg\" ></img></td><td><img width=300 src=\"train2014/COCO_train2014_000000323489.jpg\" ></img></td><td><img width=300 src=\"train2014/COCO_train2014_000000494574.jpg\" ></img></td><td><img width=300 src=\"val2014/COCO_val2014_000000201859.jpg\" ></img></td></tr><tr><td><b>0.1164</b></td><td><b>0.1071</b></td><td><b>0.1030</b></td><td><b>0.1024</b></td><td><b>0.1019</b></td></tr><tr><td><img width=300 src=\"train2014/COCO_train2014_000000296489.jpg\" ></img></td><td><img width=300 src=\"train2014/COCO_train2014_000000417607.jpg\" ></img></td><td><img width=300 src=\"val2014/COCO_val2014_000000263594.jpg\" ></img></td><td><img width=300 src=\"train2014/COCO_train2014_000000326320.jpg\" ></img></td><td><img width=300 src=\"val2014/COCO_val2014_000000267224.jpg\" ></img></td></tr><tr><td><b>0.0985</b></td><td><b>0.0979</b></td><td><b>0.0962</b></td><td><b>0.0943</b></td><td><b>0.0824</b></td></tr></table>"
      ],
      "text/plain": [
       "<IPython.core.display.HTML object>"
      ]
     },
     "metadata": {},
     "output_type": "display_data"
    },
    {
     "name": "stdout",
     "output_type": "stream",
     "text": [
      "\n"
     ]
    },
    {
     "data": {
      "text/html": [
       "<table><tr><td><img width=300 src=\"val2014/COCO_val2014_000000339974.jpg\" ></img></td><td><img width=300 src=\"val2014/COCO_val2014_000000339974.jpg\" ></img></td></tr><tr><td><b>normal</b></td><td><b>contrastive</b></td></tr><tr><td><ol><li>a couple of traffic lights on a pole</li><li>a couple of traffic lights on a city street</li><li>a couple of traffic lights that are on a pole</li><li>a street scene with focus on a traffic light</li><li>a street scene with a traffic light and a street sign</li></ol></td><td><ol><li>a close up of a traffic light on a city street</li><li>a close up of a traffic light on a street</li><li>a close up of a traffic light on a pole</li><li>a close up of a street sign on a city street</li><li>a close up of a street sign on a pole</li></ol></td></tr></table>"
      ],
      "text/plain": [
       "<IPython.core.display.HTML object>"
      ]
     },
     "metadata": {},
     "output_type": "display_data"
    },
    {
     "data": {
      "text/html": [
       "<table><tr><td><img width=300 src=\"val2014/COCO_val2014_000000339974.jpg\" ></img></td><td><img width=300 src=\"val2014/COCO_val2014_000000168234.jpg\" ></img></td></tr></table>"
      ],
      "text/plain": [
       "<IPython.core.display.HTML object>"
      ]
     },
     "metadata": {},
     "output_type": "display_data"
    },
    {
     "data": {
      "text/html": [
       "<table><tr><td><img width=300 src=\"val2014/COCO_val2014_000000168234.jpg\" ></img></td><td><img width=300 src=\"train2014/COCO_train2014_000000061945.jpg\" ></img></td><td><img width=300 src=\"train2014/COCO_train2014_000000473741.jpg\" ></img></td><td><img width=300 src=\"train2014/COCO_train2014_000000138807.jpg\" ></img></td><td><img width=300 src=\"train2014/COCO_train2014_000000157029.jpg\" ></img></td></tr><tr><td><b>0.1136</b></td><td><b>0.1056</b></td><td><b>0.1052</b></td><td><b>0.1048</b></td><td><b>0.1010</b></td></tr><tr><td><img width=300 src=\"train2014/COCO_train2014_000000301769.jpg\" ></img></td><td><img width=300 src=\"val2014/COCO_val2014_000000518574.jpg\" ></img></td><td><img width=300 src=\"train2014/COCO_train2014_000000132621.jpg\" ></img></td><td><img width=300 src=\"val2014/COCO_val2014_000000513646.jpg\" ></img></td><td><img width=300 src=\"train2014/COCO_train2014_000000108536.jpg\" ></img></td></tr><tr><td><b>0.1008</b></td><td><b>0.1007</b></td><td><b>0.0899</b></td><td><b>0.0893</b></td><td><b>0.0889</b></td></tr></table>"
      ],
      "text/plain": [
       "<IPython.core.display.HTML object>"
      ]
     },
     "metadata": {},
     "output_type": "display_data"
    },
    {
     "name": "stdout",
     "output_type": "stream",
     "text": [
      "\n"
     ]
    }
   ],
   "source": [
    "# finetuned 5.0 with closest\n",
    "display_em_model(next(loader.iters['val']), k=10, neighbor_types=['closest'], choose_distractor=True)"
   ]
  },
  {
   "cell_type": "code",
   "execution_count": 67,
   "metadata": {
    "scrolled": false
   },
   "outputs": [
    {
     "data": {
      "text/html": [
       "<table><tr><td><img width=300 src=\"val2014/COCO_val2014_000000184613.jpg\" ></img></td><td><img width=300 src=\"val2014/COCO_val2014_000000184613.jpg\" ></img></td></tr><tr><td><b>normal</b></td><td><b>contrastive</b></td></tr><tr><td><ol><li>a group of people standing next to each other</li><li>a group of people standing around a herd of animals</li><li>a group of people standing around a herd of sheep</li><li>a group of people standing next to a herd of sheep</li><li>a group of people standing next to a herd of animals</li></ol></td><td><ol><li>a group of people standing next to each other</li><li>a group of people standing around a herd of animals</li><li>a group of people standing around a herd of sheep</li><li>a group of people standing next to a herd of sheep</li><li>a group of people standing next to a herd of animals</li></ol></td></tr></table>"
      ],
      "text/plain": [
       "<IPython.core.display.HTML object>"
      ]
     },
     "metadata": {},
     "output_type": "display_data"
    },
    {
     "data": {
      "text/html": [
       "<table><tr><td><img width=300 src=\"val2014/COCO_val2014_000000184613.jpg\" ></img></td><td><img width=300 src=\"val2014/COCO_val2014_000000031471.jpg\" ></img></td></tr></table>"
      ],
      "text/plain": [
       "<IPython.core.display.HTML object>"
      ]
     },
     "metadata": {},
     "output_type": "display_data"
    },
    {
     "data": {
      "text/html": [
       "<table><tr><td><img width=300 src=\"train2014/COCO_train2014_000000298195.jpg\" ></img></td><td><img width=300 src=\"val2014/COCO_val2014_000000459809.jpg\" ></img></td><td><img width=300 src=\"train2014/COCO_train2014_000000557101.jpg\" ></img></td><td><img width=300 src=\"train2014/COCO_train2014_000000152963.jpg\" ></img></td><td><img width=300 src=\"train2014/COCO_train2014_000000055413.jpg\" ></img></td></tr><tr><td><b>0.0573</b></td><td><b>0.0550</b></td><td><b>0.0544</b></td><td><b>0.0538</b></td><td><b>0.0527</b></td></tr><tr><td><img width=300 src=\"train2014/COCO_train2014_000000133227.jpg\" ></img></td><td><img width=300 src=\"train2014/COCO_train2014_000000063043.jpg\" ></img></td><td><img width=300 src=\"train2014/COCO_train2014_000000220371.jpg\" ></img></td><td><img width=300 src=\"train2014/COCO_train2014_000000203400.jpg\" ></img></td><td><img width=300 src=\"train2014/COCO_train2014_000000007953.jpg\" ></img></td></tr><tr><td><b>0.0525</b></td><td><b>0.0521</b></td><td><b>0.0520</b></td><td><b>0.0518</b></td><td><b>0.0505</b></td></tr><tr><td><img width=300 src=\"train2014/COCO_train2014_000000086329.jpg\" ></img></td><td><img width=300 src=\"train2014/COCO_train2014_000000061919.jpg\" ></img></td><td><img width=300 src=\"train2014/COCO_train2014_000000077693.jpg\" ></img></td><td><img width=300 src=\"train2014/COCO_train2014_000000433662.jpg\" ></img></td><td><img width=300 src=\"train2014/COCO_train2014_000000324409.jpg\" ></img></td></tr><tr><td><b>0.0498</b></td><td><b>0.0483</b></td><td><b>0.0481</b></td><td><b>0.0480</b></td><td><b>0.0476</b></td></tr><tr><td><img width=300 src=\"train2014/COCO_train2014_000000407590.jpg\" ></img></td><td><img width=300 src=\"train2014/COCO_train2014_000000378214.jpg\" ></img></td><td><img width=300 src=\"train2014/COCO_train2014_000000020966.jpg\" ></img></td><td><img width=300 src=\"val2014/COCO_val2014_000000250804.jpg\" ></img></td><td><img width=300 src=\"val2014/COCO_val2014_000000031471.jpg\" ></img></td></tr><tr><td><b>0.0475</b></td><td><b>0.0456</b></td><td><b>0.0453</b></td><td><b>0.0446</b></td><td><b>0.0432</b></td></tr></table>"
      ],
      "text/plain": [
       "<IPython.core.display.HTML object>"
      ]
     },
     "metadata": {},
     "output_type": "display_data"
    },
    {
     "name": "stdout",
     "output_type": "stream",
     "text": [
      "\n"
     ]
    },
    {
     "data": {
      "text/html": [
       "<table><tr><td><img width=300 src=\"val2014/COCO_val2014_000000403013.jpg\" ></img></td><td><img width=300 src=\"val2014/COCO_val2014_000000403013.jpg\" ></img></td></tr><tr><td><b>normal</b></td><td><b>contrastive</b></td></tr><tr><td><ol><li>a kitchen with a stove and a sink</li><li>a kitchen with a stove a sink and a stove</li><li>a kitchen with a stove and a stove</li><li>a kitchen that has a stove and a sink</li><li>a kitchen that has a stove and a stove in it</li></ol></td><td><ol><li>a kitchen with a stove and a sink</li><li>a kitchen with a stove a sink and a stove</li><li>a kitchen with a stove and a stove</li><li>a kitchen that has a stove and a sink</li><li>a kitchen that has a stove and a stove in it</li></ol></td></tr></table>"
      ],
      "text/plain": [
       "<IPython.core.display.HTML object>"
      ]
     },
     "metadata": {},
     "output_type": "display_data"
    },
    {
     "data": {
      "text/html": [
       "<table><tr><td><img width=300 src=\"val2014/COCO_val2014_000000403013.jpg\" ></img></td><td><img width=300 src=\"train2014/COCO_train2014_000000016188.jpg\" ></img></td></tr></table>"
      ],
      "text/plain": [
       "<IPython.core.display.HTML object>"
      ]
     },
     "metadata": {},
     "output_type": "display_data"
    },
    {
     "data": {
      "text/html": [
       "<table><tr><td><img width=300 src=\"train2014/COCO_train2014_000000524838.jpg\" ></img></td><td><img width=300 src=\"train2014/COCO_train2014_000000138536.jpg\" ></img></td><td><img width=300 src=\"val2014/COCO_val2014_000000553129.jpg\" ></img></td><td><img width=300 src=\"train2014/COCO_train2014_000000312850.jpg\" ></img></td><td><img width=300 src=\"train2014/COCO_train2014_000000266273.jpg\" ></img></td></tr><tr><td><b>0.0584</b></td><td><b>0.0575</b></td><td><b>0.0574</b></td><td><b>0.0572</b></td><td><b>0.0554</b></td></tr><tr><td><img width=300 src=\"train2014/COCO_train2014_000000332202.jpg\" ></img></td><td><img width=300 src=\"val2014/COCO_val2014_000000048910.jpg\" ></img></td><td><img width=300 src=\"val2014/COCO_val2014_000000409855.jpg\" ></img></td><td><img width=300 src=\"train2014/COCO_train2014_000000506589.jpg\" ></img></td><td><img width=300 src=\"train2014/COCO_train2014_000000351830.jpg\" ></img></td></tr><tr><td><b>0.0551</b></td><td><b>0.0542</b></td><td><b>0.0530</b></td><td><b>0.0513</b></td><td><b>0.0505</b></td></tr><tr><td><img width=300 src=\"train2014/COCO_train2014_000000016322.jpg\" ></img></td><td><img width=300 src=\"train2014/COCO_train2014_000000229962.jpg\" ></img></td><td><img width=300 src=\"train2014/COCO_train2014_000000116511.jpg\" ></img></td><td><img width=300 src=\"train2014/COCO_train2014_000000130180.jpg\" ></img></td><td><img width=300 src=\"train2014/COCO_train2014_000000540342.jpg\" ></img></td></tr><tr><td><b>0.0504</b></td><td><b>0.0499</b></td><td><b>0.0464</b></td><td><b>0.0463</b></td><td><b>0.0449</b></td></tr><tr><td><img width=300 src=\"train2014/COCO_train2014_000000483187.jpg\" ></img></td><td><img width=300 src=\"train2014/COCO_train2014_000000426445.jpg\" ></img></td><td><img width=300 src=\"train2014/COCO_train2014_000000386785.jpg\" ></img></td><td><img width=300 src=\"train2014/COCO_train2014_000000041475.jpg\" ></img></td><td><img width=300 src=\"train2014/COCO_train2014_000000016188.jpg\" ></img></td></tr><tr><td><b>0.0445</b></td><td><b>0.0436</b></td><td><b>0.0422</b></td><td><b>0.0414</b></td><td><b>0.0403</b></td></tr></table>"
      ],
      "text/plain": [
       "<IPython.core.display.HTML object>"
      ]
     },
     "metadata": {},
     "output_type": "display_data"
    },
    {
     "name": "stdout",
     "output_type": "stream",
     "text": [
      "\n"
     ]
    },
    {
     "data": {
      "text/html": [
       "<table><tr><td><img width=300 src=\"val2014/COCO_val2014_000000562150.jpg\" ></img></td><td><img width=300 src=\"val2014/COCO_val2014_000000562150.jpg\" ></img></td></tr><tr><td><b>normal</b></td><td><b>contrastive</b></td></tr><tr><td><ol><li>a woman holding a cat in her hands</li><li>a woman holding a small kitten in her lap</li><li>a woman holding a cat and a cat</li><li>a woman holding a small kitten in her hands</li><li>a woman holding a small kitten in her hand</li></ol></td><td><ol><li>a woman holding a cat in her hands</li><li>a woman holding a small kitten in her lap</li><li>a woman holding a cat and a cat</li><li>a woman holding a cat in her lap</li><li>a woman holding a small kitten in her hands</li></ol></td></tr></table>"
      ],
      "text/plain": [
       "<IPython.core.display.HTML object>"
      ]
     },
     "metadata": {},
     "output_type": "display_data"
    },
    {
     "data": {
      "text/html": [
       "<table><tr><td><img width=300 src=\"val2014/COCO_val2014_000000562150.jpg\" ></img></td><td><img width=300 src=\"val2014/COCO_val2014_000000363321.jpg\" ></img></td></tr></table>"
      ],
      "text/plain": [
       "<IPython.core.display.HTML object>"
      ]
     },
     "metadata": {},
     "output_type": "display_data"
    },
    {
     "data": {
      "text/html": [
       "<table><tr><td><img width=300 src=\"train2014/COCO_train2014_000000430692.jpg\" ></img></td><td><img width=300 src=\"train2014/COCO_train2014_000000505188.jpg\" ></img></td><td><img width=300 src=\"train2014/COCO_train2014_000000426086.jpg\" ></img></td><td><img width=300 src=\"train2014/COCO_train2014_000000179019.jpg\" ></img></td><td><img width=300 src=\"train2014/COCO_train2014_000000407936.jpg\" ></img></td></tr><tr><td><b>0.0614</b></td><td><b>0.0578</b></td><td><b>0.0569</b></td><td><b>0.0542</b></td><td><b>0.0520</b></td></tr><tr><td><img width=300 src=\"train2014/COCO_train2014_000000096859.jpg\" ></img></td><td><img width=300 src=\"train2014/COCO_train2014_000000107535.jpg\" ></img></td><td><img width=300 src=\"train2014/COCO_train2014_000000334039.jpg\" ></img></td><td><img width=300 src=\"train2014/COCO_train2014_000000361208.jpg\" ></img></td><td><img width=300 src=\"train2014/COCO_train2014_000000500973.jpg\" ></img></td></tr><tr><td><b>0.0507</b></td><td><b>0.0507</b></td><td><b>0.0504</b></td><td><b>0.0502</b></td><td><b>0.0497</b></td></tr><tr><td><img width=300 src=\"train2014/COCO_train2014_000000478675.jpg\" ></img></td><td><img width=300 src=\"val2014/COCO_val2014_000000361217.jpg\" ></img></td><td><img width=300 src=\"val2014/COCO_val2014_000000093570.jpg\" ></img></td><td><img width=300 src=\"train2014/COCO_train2014_000000390934.jpg\" ></img></td><td><img width=300 src=\"train2014/COCO_train2014_000000184937.jpg\" ></img></td></tr><tr><td><b>0.0493</b></td><td><b>0.0485</b></td><td><b>0.0483</b></td><td><b>0.0480</b></td><td><b>0.0478</b></td></tr><tr><td><img width=300 src=\"train2014/COCO_train2014_000000430394.jpg\" ></img></td><td><img width=300 src=\"train2014/COCO_train2014_000000277050.jpg\" ></img></td><td><img width=300 src=\"val2014/COCO_val2014_000000194716.jpg\" ></img></td><td><img width=300 src=\"val2014/COCO_val2014_000000169690.jpg\" ></img></td><td><img width=300 src=\"val2014/COCO_val2014_000000363321.jpg\" ></img></td></tr><tr><td><b>0.0466</b></td><td><b>0.0460</b></td><td><b>0.0449</b></td><td><b>0.0441</b></td><td><b>0.0427</b></td></tr></table>"
      ],
      "text/plain": [
       "<IPython.core.display.HTML object>"
      ]
     },
     "metadata": {},
     "output_type": "display_data"
    },
    {
     "name": "stdout",
     "output_type": "stream",
     "text": [
      "\n"
     ]
    },
    {
     "data": {
      "text/html": [
       "<table><tr><td><img width=300 src=\"val2014/COCO_val2014_000000360772.jpg\" ></img></td><td><img width=300 src=\"val2014/COCO_val2014_000000360772.jpg\" ></img></td></tr><tr><td><b>normal</b></td><td><b>contrastive</b></td></tr><tr><td><ol><li>a white toilet sitting in a bathroom next to a wall</li><li>a white toilet sitting next to a bathroom sink</li><li>a white toilet sitting in a bathroom next to a sink</li><li>a white toilet sitting next to a bathroom wall</li><li>a white toilet sitting next to a bathroom</li></ol></td><td><ol><li>a white toilet sitting next to a bathroom sink</li><li>a white toilet sitting next to a bathroom wall</li><li>a white toilet sitting next to a bathroom</li><li>a white toilet sitting in a bathroom next to a wall</li><li>a white toilet sitting in a bathroom next to a sink</li></ol></td></tr></table>"
      ],
      "text/plain": [
       "<IPython.core.display.HTML object>"
      ]
     },
     "metadata": {},
     "output_type": "display_data"
    },
    {
     "data": {
      "text/html": [
       "<table><tr><td><img width=300 src=\"val2014/COCO_val2014_000000360772.jpg\" ></img></td><td><img width=300 src=\"train2014/COCO_train2014_000000428120.jpg\" ></img></td></tr></table>"
      ],
      "text/plain": [
       "<IPython.core.display.HTML object>"
      ]
     },
     "metadata": {},
     "output_type": "display_data"
    },
    {
     "data": {
      "text/html": [
       "<table><tr><td><img width=300 src=\"train2014/COCO_train2014_000000005277.jpg\" ></img></td><td><img width=300 src=\"train2014/COCO_train2014_000000472831.jpg\" ></img></td><td><img width=300 src=\"train2014/COCO_train2014_000000572040.jpg\" ></img></td><td><img width=300 src=\"train2014/COCO_train2014_000000201686.jpg\" ></img></td><td><img width=300 src=\"train2014/COCO_train2014_000000292962.jpg\" ></img></td></tr><tr><td><b>0.0560</b></td><td><b>0.0549</b></td><td><b>0.0542</b></td><td><b>0.0529</b></td><td><b>0.0526</b></td></tr><tr><td><img width=300 src=\"train2014/COCO_train2014_000000411108.jpg\" ></img></td><td><img width=300 src=\"val2014/COCO_val2014_000000012323.jpg\" ></img></td><td><img width=300 src=\"val2014/COCO_val2014_000000126941.jpg\" ></img></td><td><img width=300 src=\"train2014/COCO_train2014_000000567179.jpg\" ></img></td><td><img width=300 src=\"train2014/COCO_train2014_000000132454.jpg\" ></img></td></tr><tr><td><b>0.0523</b></td><td><b>0.0521</b></td><td><b>0.0516</b></td><td><b>0.0499</b></td><td><b>0.0496</b></td></tr><tr><td><img width=300 src=\"train2014/COCO_train2014_000000208754.jpg\" ></img></td><td><img width=300 src=\"val2014/COCO_val2014_000000335669.jpg\" ></img></td><td><img width=300 src=\"val2014/COCO_val2014_000000067310.jpg\" ></img></td><td><img width=300 src=\"train2014/COCO_train2014_000000483569.jpg\" ></img></td><td><img width=300 src=\"train2014/COCO_train2014_000000393677.jpg\" ></img></td></tr><tr><td><b>0.0493</b></td><td><b>0.0490</b></td><td><b>0.0485</b></td><td><b>0.0480</b></td><td><b>0.0479</b></td></tr><tr><td><img width=300 src=\"val2014/COCO_val2014_000000529568.jpg\" ></img></td><td><img width=300 src=\"train2014/COCO_train2014_000000495454.jpg\" ></img></td><td><img width=300 src=\"train2014/COCO_train2014_000000386560.jpg\" ></img></td><td><img width=300 src=\"val2014/COCO_val2014_000000492544.jpg\" ></img></td><td><img width=300 src=\"train2014/COCO_train2014_000000428120.jpg\" ></img></td></tr><tr><td><b>0.0479</b></td><td><b>0.0475</b></td><td><b>0.0473</b></td><td><b>0.0471</b></td><td><b>0.0415</b></td></tr></table>"
      ],
      "text/plain": [
       "<IPython.core.display.HTML object>"
      ]
     },
     "metadata": {},
     "output_type": "display_data"
    },
    {
     "name": "stdout",
     "output_type": "stream",
     "text": [
      "\n"
     ]
    },
    {
     "data": {
      "text/html": [
       "<table><tr><td><img width=300 src=\"val2014/COCO_val2014_000000340559.jpg\" ></img></td><td><img width=300 src=\"val2014/COCO_val2014_000000340559.jpg\" ></img></td></tr><tr><td><b>normal</b></td><td><b>contrastive</b></td></tr><tr><td><ol><li>a kitchen with a sink and a sink</li><li>a bathroom with a sink and a sink</li><li>a kitchen with a sink a sink and a sink</li><li>a kitchen with a sink and a sink in it</li><li>a kitchen that has a sink and a sink</li></ol></td><td><ol><li>a kitchen with a sink and a sink</li><li>a bathroom with a sink and a sink</li><li>a kitchen with a sink a sink and a sink</li><li>a kitchen with a sink and a sink in it</li><li>a kitchen that has a sink and a sink</li></ol></td></tr></table>"
      ],
      "text/plain": [
       "<IPython.core.display.HTML object>"
      ]
     },
     "metadata": {},
     "output_type": "display_data"
    },
    {
     "data": {
      "text/html": [
       "<table><tr><td><img width=300 src=\"val2014/COCO_val2014_000000340559.jpg\" ></img></td><td><img width=300 src=\"val2014/COCO_val2014_000000324390.jpg\" ></img></td></tr></table>"
      ],
      "text/plain": [
       "<IPython.core.display.HTML object>"
      ]
     },
     "metadata": {},
     "output_type": "display_data"
    },
    {
     "data": {
      "text/html": [
       "<table><tr><td><img width=300 src=\"train2014/COCO_train2014_000000432201.jpg\" ></img></td><td><img width=300 src=\"val2014/COCO_val2014_000000070434.jpg\" ></img></td><td><img width=300 src=\"train2014/COCO_train2014_000000504336.jpg\" ></img></td><td><img width=300 src=\"val2014/COCO_val2014_000000078266.jpg\" ></img></td><td><img width=300 src=\"val2014/COCO_val2014_000000042568.jpg\" ></img></td></tr><tr><td><b>0.0615</b></td><td><b>0.0580</b></td><td><b>0.0578</b></td><td><b>0.0570</b></td><td><b>0.0561</b></td></tr><tr><td><img width=300 src=\"val2014/COCO_val2014_000000229311.jpg\" ></img></td><td><img width=300 src=\"val2014/COCO_val2014_000000121828.jpg\" ></img></td><td><img width=300 src=\"train2014/COCO_train2014_000000083878.jpg\" ></img></td><td><img width=300 src=\"train2014/COCO_train2014_000000375728.jpg\" ></img></td><td><img width=300 src=\"val2014/COCO_val2014_000000452793.jpg\" ></img></td></tr><tr><td><b>0.0553</b></td><td><b>0.0551</b></td><td><b>0.0550</b></td><td><b>0.0548</b></td><td><b>0.0538</b></td></tr><tr><td><img width=300 src=\"train2014/COCO_train2014_000000098733.jpg\" ></img></td><td><img width=300 src=\"train2014/COCO_train2014_000000477390.jpg\" ></img></td><td><img width=300 src=\"train2014/COCO_train2014_000000249111.jpg\" ></img></td><td><img width=300 src=\"train2014/COCO_train2014_000000274277.jpg\" ></img></td><td><img width=300 src=\"train2014/COCO_train2014_000000364336.jpg\" ></img></td></tr><tr><td><b>0.0493</b></td><td><b>0.0493</b></td><td><b>0.0476</b></td><td><b>0.0446</b></td><td><b>0.0445</b></td></tr><tr><td><img width=300 src=\"train2014/COCO_train2014_000000339914.jpg\" ></img></td><td><img width=300 src=\"train2014/COCO_train2014_000000249822.jpg\" ></img></td><td><img width=300 src=\"train2014/COCO_train2014_000000338597.jpg\" ></img></td><td><img width=300 src=\"train2014/COCO_train2014_000000371927.jpg\" ></img></td><td><img width=300 src=\"val2014/COCO_val2014_000000324390.jpg\" ></img></td></tr><tr><td><b>0.0441</b></td><td><b>0.0423</b></td><td><b>0.0421</b></td><td><b>0.0394</b></td><td><b>0.0325</b></td></tr></table>"
      ],
      "text/plain": [
       "<IPython.core.display.HTML object>"
      ]
     },
     "metadata": {},
     "output_type": "display_data"
    },
    {
     "name": "stdout",
     "output_type": "stream",
     "text": [
      "\n"
     ]
    },
    {
     "data": {
      "text/html": [
       "<table><tr><td><img width=300 src=\"val2014/COCO_val2014_000000321107.jpg\" ></img></td><td><img width=300 src=\"val2014/COCO_val2014_000000321107.jpg\" ></img></td></tr><tr><td><b>normal</b></td><td><b>contrastive</b></td></tr><tr><td><ol><li>a woman riding a bike down a street</li><li>a person riding a bike down a street</li><li>a woman riding a bicycle down a street</li><li>a woman riding a bike down a street next to a street</li><li>a woman riding a bike down a street next to a road</li></ol></td><td><ol><li>a woman riding a bike down a street</li><li>a person riding a bike down a street</li><li>a woman riding a bicycle down a street</li><li>a woman riding a bike down a street next to a street</li><li>a woman riding a bike down a street next to a road</li></ol></td></tr></table>"
      ],
      "text/plain": [
       "<IPython.core.display.HTML object>"
      ]
     },
     "metadata": {},
     "output_type": "display_data"
    },
    {
     "data": {
      "text/html": [
       "<table><tr><td><img width=300 src=\"val2014/COCO_val2014_000000321107.jpg\" ></img></td><td><img width=300 src=\"train2014/COCO_train2014_000000507516.jpg\" ></img></td></tr></table>"
      ],
      "text/plain": [
       "<IPython.core.display.HTML object>"
      ]
     },
     "metadata": {},
     "output_type": "display_data"
    },
    {
     "data": {
      "text/html": [
       "<table><tr><td><img width=300 src=\"train2014/COCO_train2014_000000544588.jpg\" ></img></td><td><img width=300 src=\"train2014/COCO_train2014_000000244227.jpg\" ></img></td><td><img width=300 src=\"val2014/COCO_val2014_000000016961.jpg\" ></img></td><td><img width=300 src=\"train2014/COCO_train2014_000000363455.jpg\" ></img></td><td><img width=300 src=\"train2014/COCO_train2014_000000411912.jpg\" ></img></td></tr><tr><td><b>0.0588</b></td><td><b>0.0551</b></td><td><b>0.0537</b></td><td><b>0.0531</b></td><td><b>0.0530</b></td></tr><tr><td><img width=300 src=\"val2014/COCO_val2014_000000304853.jpg\" ></img></td><td><img width=300 src=\"val2014/COCO_val2014_000000097994.jpg\" ></img></td><td><img width=300 src=\"val2014/COCO_val2014_000000547440.jpg\" ></img></td><td><img width=300 src=\"train2014/COCO_train2014_000000489107.jpg\" ></img></td><td><img width=300 src=\"train2014/COCO_train2014_000000262967.jpg\" ></img></td></tr><tr><td><b>0.0527</b></td><td><b>0.0519</b></td><td><b>0.0505</b></td><td><b>0.0497</b></td><td><b>0.0492</b></td></tr><tr><td><img width=300 src=\"train2014/COCO_train2014_000000329755.jpg\" ></img></td><td><img width=300 src=\"train2014/COCO_train2014_000000304134.jpg\" ></img></td><td><img width=300 src=\"train2014/COCO_train2014_000000380820.jpg\" ></img></td><td><img width=300 src=\"train2014/COCO_train2014_000000281674.jpg\" ></img></td><td><img width=300 src=\"val2014/COCO_val2014_000000493846.jpg\" ></img></td></tr><tr><td><b>0.0490</b></td><td><b>0.0489</b></td><td><b>0.0489</b></td><td><b>0.0489</b></td><td><b>0.0488</b></td></tr><tr><td><img width=300 src=\"train2014/COCO_train2014_000000495931.jpg\" ></img></td><td><img width=300 src=\"val2014/COCO_val2014_000000087920.jpg\" ></img></td><td><img width=300 src=\"train2014/COCO_train2014_000000151778.jpg\" ></img></td><td><img width=300 src=\"train2014/COCO_train2014_000000114869.jpg\" ></img></td><td><img width=300 src=\"train2014/COCO_train2014_000000507516.jpg\" ></img></td></tr><tr><td><b>0.0482</b></td><td><b>0.0477</b></td><td><b>0.0469</b></td><td><b>0.0430</b></td><td><b>0.0421</b></td></tr></table>"
      ],
      "text/plain": [
       "<IPython.core.display.HTML object>"
      ]
     },
     "metadata": {},
     "output_type": "display_data"
    },
    {
     "name": "stdout",
     "output_type": "stream",
     "text": [
      "\n"
     ]
    },
    {
     "data": {
      "text/html": [
       "<table><tr><td><img width=300 src=\"val2014/COCO_val2014_000000129001.jpg\" ></img></td><td><img width=300 src=\"val2014/COCO_val2014_000000129001.jpg\" ></img></td></tr><tr><td><b>normal</b></td><td><b>contrastive</b></td></tr><tr><td><ol><li>a bathroom with a shower and a sink</li><li>a bathroom with a toilet and a sink</li><li>a bathroom with a sink and a shower</li><li>a bathroom with a blue shower curtain and a sink</li><li>a bathroom with a blue shower curtain and a toilet</li></ol></td><td><ol><li>a bathroom with a shower and a sink</li><li>a bathroom with a toilet and a sink</li><li>a bathroom with a sink and a shower</li><li>a bathroom with a blue shower curtain and a sink</li><li>a bathroom with a blue shower curtain and a toilet</li></ol></td></tr></table>"
      ],
      "text/plain": [
       "<IPython.core.display.HTML object>"
      ]
     },
     "metadata": {},
     "output_type": "display_data"
    },
    {
     "data": {
      "text/html": [
       "<table><tr><td><img width=300 src=\"val2014/COCO_val2014_000000129001.jpg\" ></img></td><td><img width=300 src=\"train2014/COCO_train2014_000000324981.jpg\" ></img></td></tr></table>"
      ],
      "text/plain": [
       "<IPython.core.display.HTML object>"
      ]
     },
     "metadata": {},
     "output_type": "display_data"
    },
    {
     "data": {
      "text/html": [
       "<table><tr><td><img width=300 src=\"val2014/COCO_val2014_000000303928.jpg\" ></img></td><td><img width=300 src=\"train2014/COCO_train2014_000000522620.jpg\" ></img></td><td><img width=300 src=\"train2014/COCO_train2014_000000042086.jpg\" ></img></td><td><img width=300 src=\"val2014/COCO_val2014_000000383606.jpg\" ></img></td><td><img width=300 src=\"train2014/COCO_train2014_000000187972.jpg\" ></img></td></tr><tr><td><b>0.0575</b></td><td><b>0.0570</b></td><td><b>0.0555</b></td><td><b>0.0544</b></td><td><b>0.0543</b></td></tr><tr><td><img width=300 src=\"train2014/COCO_train2014_000000037126.jpg\" ></img></td><td><img width=300 src=\"train2014/COCO_train2014_000000491063.jpg\" ></img></td><td><img width=300 src=\"train2014/COCO_train2014_000000144816.jpg\" ></img></td><td><img width=300 src=\"val2014/COCO_val2014_000000356299.jpg\" ></img></td><td><img width=300 src=\"train2014/COCO_train2014_000000521899.jpg\" ></img></td></tr><tr><td><b>0.0528</b></td><td><b>0.0526</b></td><td><b>0.0516</b></td><td><b>0.0511</b></td><td><b>0.0500</b></td></tr><tr><td><img width=300 src=\"train2014/COCO_train2014_000000168505.jpg\" ></img></td><td><img width=300 src=\"val2014/COCO_val2014_000000199047.jpg\" ></img></td><td><img width=300 src=\"train2014/COCO_train2014_000000361469.jpg\" ></img></td><td><img width=300 src=\"val2014/COCO_val2014_000000458255.jpg\" ></img></td><td><img width=300 src=\"val2014/COCO_val2014_000000134715.jpg\" ></img></td></tr><tr><td><b>0.0498</b></td><td><b>0.0484</b></td><td><b>0.0484</b></td><td><b>0.0478</b></td><td><b>0.0470</b></td></tr><tr><td><img width=300 src=\"val2014/COCO_val2014_000000449731.jpg\" ></img></td><td><img width=300 src=\"train2014/COCO_train2014_000000148502.jpg\" ></img></td><td><img width=300 src=\"val2014/COCO_val2014_000000074629.jpg\" ></img></td><td><img width=300 src=\"val2014/COCO_val2014_000000270708.jpg\" ></img></td><td><img width=300 src=\"train2014/COCO_train2014_000000324981.jpg\" ></img></td></tr><tr><td><b>0.0468</b></td><td><b>0.0466</b></td><td><b>0.0446</b></td><td><b>0.0425</b></td><td><b>0.0413</b></td></tr></table>"
      ],
      "text/plain": [
       "<IPython.core.display.HTML object>"
      ]
     },
     "metadata": {},
     "output_type": "display_data"
    },
    {
     "name": "stdout",
     "output_type": "stream",
     "text": [
      "\n"
     ]
    },
    {
     "data": {
      "text/html": [
       "<table><tr><td><img width=300 src=\"val2014/COCO_val2014_000000556616.jpg\" ></img></td><td><img width=300 src=\"val2014/COCO_val2014_000000556616.jpg\" ></img></td></tr><tr><td><b>normal</b></td><td><b>contrastive</b></td></tr><tr><td><ol><li>a row of parking meters on a city street</li><li>a row of parking meters on a sidewalk</li><li>a row of parking meters on the side of a street</li><li>a row of parking meters next to a parking meter</li><li>a row of parking meters on the side of the road</li></ol></td><td><ol><li>a row of parking meters on a city street</li><li>a row of parking meters on a sidewalk</li><li>a row of parking meters on the side of a street</li><li>a row of parking meters next to a parking meter</li><li>a row of parking meters on the side of the road</li></ol></td></tr></table>"
      ],
      "text/plain": [
       "<IPython.core.display.HTML object>"
      ]
     },
     "metadata": {},
     "output_type": "display_data"
    },
    {
     "data": {
      "text/html": [
       "<table><tr><td><img width=300 src=\"val2014/COCO_val2014_000000556616.jpg\" ></img></td><td><img width=300 src=\"val2014/COCO_val2014_000000101567.jpg\" ></img></td></tr></table>"
      ],
      "text/plain": [
       "<IPython.core.display.HTML object>"
      ]
     },
     "metadata": {},
     "output_type": "display_data"
    },
    {
     "data": {
      "text/html": [
       "<table><tr><td><img width=300 src=\"train2014/COCO_train2014_000000172637.jpg\" ></img></td><td><img width=300 src=\"train2014/COCO_train2014_000000546333.jpg\" ></img></td><td><img width=300 src=\"train2014/COCO_train2014_000000539767.jpg\" ></img></td><td><img width=300 src=\"train2014/COCO_train2014_000000488367.jpg\" ></img></td><td><img width=300 src=\"train2014/COCO_train2014_000000253528.jpg\" ></img></td></tr><tr><td><b>0.0661</b></td><td><b>0.0571</b></td><td><b>0.0554</b></td><td><b>0.0549</b></td><td><b>0.0543</b></td></tr><tr><td><img width=300 src=\"train2014/COCO_train2014_000000197300.jpg\" ></img></td><td><img width=300 src=\"train2014/COCO_train2014_000000068789.jpg\" ></img></td><td><img width=300 src=\"train2014/COCO_train2014_000000375053.jpg\" ></img></td><td><img width=300 src=\"val2014/COCO_val2014_000000302200.jpg\" ></img></td><td><img width=300 src=\"train2014/COCO_train2014_000000357790.jpg\" ></img></td></tr><tr><td><b>0.0534</b></td><td><b>0.0522</b></td><td><b>0.0520</b></td><td><b>0.0510</b></td><td><b>0.0510</b></td></tr><tr><td><img width=300 src=\"val2014/COCO_val2014_000000145039.jpg\" ></img></td><td><img width=300 src=\"train2014/COCO_train2014_000000388381.jpg\" ></img></td><td><img width=300 src=\"train2014/COCO_train2014_000000313254.jpg\" ></img></td><td><img width=300 src=\"val2014/COCO_val2014_000000135410.jpg\" ></img></td><td><img width=300 src=\"val2014/COCO_val2014_000000187451.jpg\" ></img></td></tr><tr><td><b>0.0489</b></td><td><b>0.0476</b></td><td><b>0.0472</b></td><td><b>0.0471</b></td><td><b>0.0463</b></td></tr><tr><td><img width=300 src=\"train2014/COCO_train2014_000000507168.jpg\" ></img></td><td><img width=300 src=\"val2014/COCO_val2014_000000052726.jpg\" ></img></td><td><img width=300 src=\"val2014/COCO_val2014_000000249325.jpg\" ></img></td><td><img width=300 src=\"train2014/COCO_train2014_000000511642.jpg\" ></img></td><td><img width=300 src=\"val2014/COCO_val2014_000000101567.jpg\" ></img></td></tr><tr><td><b>0.0454</b></td><td><b>0.0448</b></td><td><b>0.0447</b></td><td><b>0.0419</b></td><td><b>0.0385</b></td></tr></table>"
      ],
      "text/plain": [
       "<IPython.core.display.HTML object>"
      ]
     },
     "metadata": {},
     "output_type": "display_data"
    },
    {
     "name": "stdout",
     "output_type": "stream",
     "text": [
      "\n"
     ]
    },
    {
     "data": {
      "text/html": [
       "<table><tr><td><img width=300 src=\"val2014/COCO_val2014_000000472621.jpg\" ></img></td><td><img width=300 src=\"val2014/COCO_val2014_000000472621.jpg\" ></img></td></tr><tr><td><b>normal</b></td><td><b>contrastive</b></td></tr><tr><td><ol><li>a bathroom with a tub and a sink</li><li>a bathroom with a sink and a tub</li><li>a bath room with a sink and a bath tub</li><li>a bathroom with two sinks and a tub</li><li>a bath room with a sink and a tub</li></ol></td><td><ol><li>a bathroom with a tub and a sink</li><li>a bathroom with a sink and a tub</li><li>a bath room with a sink and a bath tub</li><li>a bathroom with two sinks and a tub</li><li>a bath room with a sink and a tub</li></ol></td></tr></table>"
      ],
      "text/plain": [
       "<IPython.core.display.HTML object>"
      ]
     },
     "metadata": {},
     "output_type": "display_data"
    },
    {
     "data": {
      "text/html": [
       "<table><tr><td><img width=300 src=\"val2014/COCO_val2014_000000472621.jpg\" ></img></td><td><img width=300 src=\"train2014/COCO_train2014_000000027495.jpg\" ></img></td></tr></table>"
      ],
      "text/plain": [
       "<IPython.core.display.HTML object>"
      ]
     },
     "metadata": {},
     "output_type": "display_data"
    },
    {
     "data": {
      "text/html": [
       "<table><tr><td><img width=300 src=\"train2014/COCO_train2014_000000137794.jpg\" ></img></td><td><img width=300 src=\"train2014/COCO_train2014_000000050750.jpg\" ></img></td><td><img width=300 src=\"train2014/COCO_train2014_000000474732.jpg\" ></img></td><td><img width=300 src=\"train2014/COCO_train2014_000000188343.jpg\" ></img></td><td><img width=300 src=\"train2014/COCO_train2014_000000515287.jpg\" ></img></td></tr><tr><td><b>0.0580</b></td><td><b>0.0551</b></td><td><b>0.0526</b></td><td><b>0.0517</b></td><td><b>0.0515</b></td></tr><tr><td><img width=300 src=\"train2014/COCO_train2014_000000504907.jpg\" ></img></td><td><img width=300 src=\"train2014/COCO_train2014_000000360736.jpg\" ></img></td><td><img width=300 src=\"train2014/COCO_train2014_000000175291.jpg\" ></img></td><td><img width=300 src=\"train2014/COCO_train2014_000000186308.jpg\" ></img></td><td><img width=300 src=\"train2014/COCO_train2014_000000271280.jpg\" ></img></td></tr><tr><td><b>0.0512</b></td><td><b>0.0511</b></td><td><b>0.0509</b></td><td><b>0.0508</b></td><td><b>0.0504</b></td></tr><tr><td><img width=300 src=\"train2014/COCO_train2014_000000377716.jpg\" ></img></td><td><img width=300 src=\"train2014/COCO_train2014_000000155993.jpg\" ></img></td><td><img width=300 src=\"train2014/COCO_train2014_000000343670.jpg\" ></img></td><td><img width=300 src=\"train2014/COCO_train2014_000000401458.jpg\" ></img></td><td><img width=300 src=\"train2014/COCO_train2014_000000371490.jpg\" ></img></td></tr><tr><td><b>0.0501</b></td><td><b>0.0500</b></td><td><b>0.0499</b></td><td><b>0.0497</b></td><td><b>0.0497</b></td></tr><tr><td><img width=300 src=\"train2014/COCO_train2014_000000010646.jpg\" ></img></td><td><img width=300 src=\"train2014/COCO_train2014_000000412267.jpg\" ></img></td><td><img width=300 src=\"train2014/COCO_train2014_000000506078.jpg\" ></img></td><td><img width=300 src=\"val2014/COCO_val2014_000000572051.jpg\" ></img></td><td><img width=300 src=\"train2014/COCO_train2014_000000027495.jpg\" ></img></td></tr><tr><td><b>0.0495</b></td><td><b>0.0481</b></td><td><b>0.0469</b></td><td><b>0.0447</b></td><td><b>0.0381</b></td></tr></table>"
      ],
      "text/plain": [
       "<IPython.core.display.HTML object>"
      ]
     },
     "metadata": {},
     "output_type": "display_data"
    },
    {
     "name": "stdout",
     "output_type": "stream",
     "text": [
      "\n"
     ]
    },
    {
     "data": {
      "text/html": [
       "<table><tr><td><img width=300 src=\"val2014/COCO_val2014_000000364521.jpg\" ></img></td><td><img width=300 src=\"val2014/COCO_val2014_000000364521.jpg\" ></img></td></tr><tr><td><b>normal</b></td><td><b>contrastive</b></td></tr><tr><td><ol><li>a yellow frisbee sitting on top of a green</li><li>a yellow frisbee sitting on top of a green field</li><li>a yellow banana sitting on top of a green</li><li>a yellow frisbee sitting on top of a yellow</li><li>a yellow banana sitting on top of a yellow</li></ol></td><td><ol><li>a yellow frisbee sitting on top of a green</li><li>a yellow frisbee sitting on top of a green field</li><li>a yellow banana sitting on top of a green</li><li>a yellow frisbee sitting on top of a yellow</li><li>a yellow banana sitting on top of a yellow</li></ol></td></tr></table>"
      ],
      "text/plain": [
       "<IPython.core.display.HTML object>"
      ]
     },
     "metadata": {},
     "output_type": "display_data"
    },
    {
     "data": {
      "text/html": [
       "<table><tr><td><img width=300 src=\"val2014/COCO_val2014_000000364521.jpg\" ></img></td><td><img width=300 src=\"val2014/COCO_val2014_000000468902.jpg\" ></img></td></tr></table>"
      ],
      "text/plain": [
       "<IPython.core.display.HTML object>"
      ]
     },
     "metadata": {},
     "output_type": "display_data"
    },
    {
     "data": {
      "text/html": [
       "<table><tr><td><img width=300 src=\"val2014/COCO_val2014_000000274612.jpg\" ></img></td><td><img width=300 src=\"train2014/COCO_train2014_000000162645.jpg\" ></img></td><td><img width=300 src=\"train2014/COCO_train2014_000000350086.jpg\" ></img></td><td><img width=300 src=\"train2014/COCO_train2014_000000108602.jpg\" ></img></td><td><img width=300 src=\"train2014/COCO_train2014_000000424739.jpg\" ></img></td></tr><tr><td><b>0.0645</b></td><td><b>0.0609</b></td><td><b>0.0603</b></td><td><b>0.0569</b></td><td><b>0.0565</b></td></tr><tr><td><img width=300 src=\"val2014/COCO_val2014_000000555197.jpg\" ></img></td><td><img width=300 src=\"train2014/COCO_train2014_000000212629.jpg\" ></img></td><td><img width=300 src=\"train2014/COCO_train2014_000000103797.jpg\" ></img></td><td><img width=300 src=\"val2014/COCO_val2014_000000287554.jpg\" ></img></td><td><img width=300 src=\"train2014/COCO_train2014_000000286773.jpg\" ></img></td></tr><tr><td><b>0.0527</b></td><td><b>0.0515</b></td><td><b>0.0514</b></td><td><b>0.0505</b></td><td><b>0.0497</b></td></tr><tr><td><img width=300 src=\"train2014/COCO_train2014_000000172654.jpg\" ></img></td><td><img width=300 src=\"train2014/COCO_train2014_000000355647.jpg\" ></img></td><td><img width=300 src=\"train2014/COCO_train2014_000000395703.jpg\" ></img></td><td><img width=300 src=\"train2014/COCO_train2014_000000045829.jpg\" ></img></td><td><img width=300 src=\"val2014/COCO_val2014_000000358345.jpg\" ></img></td></tr><tr><td><b>0.0490</b></td><td><b>0.0473</b></td><td><b>0.0470</b></td><td><b>0.0468</b></td><td><b>0.0459</b></td></tr><tr><td><img width=300 src=\"train2014/COCO_train2014_000000086071.jpg\" ></img></td><td><img width=300 src=\"val2014/COCO_val2014_000000052005.jpg\" ></img></td><td><img width=300 src=\"train2014/COCO_train2014_000000405630.jpg\" ></img></td><td><img width=300 src=\"train2014/COCO_train2014_000000147196.jpg\" ></img></td><td><img width=300 src=\"val2014/COCO_val2014_000000468902.jpg\" ></img></td></tr><tr><td><b>0.0450</b></td><td><b>0.0443</b></td><td><b>0.0436</b></td><td><b>0.0405</b></td><td><b>0.0359</b></td></tr></table>"
      ],
      "text/plain": [
       "<IPython.core.display.HTML object>"
      ]
     },
     "metadata": {},
     "output_type": "display_data"
    },
    {
     "name": "stdout",
     "output_type": "stream",
     "text": [
      "\n"
     ]
    }
   ],
   "source": [
    "# cbs, no EM training\n",
    "# display_em_model(batch, k=20, neighbor_types=['random', 'closest'], choose_distractor=True)\n",
    "display_em_model(batch, k=10, neighbor_types=['closest', 'random'], choose_distractor=True, distractor_selection_method='min')"
   ]
  },
  {
   "cell_type": "code",
   "execution_count": 43,
   "metadata": {
    "scrolled": false
   },
   "outputs": [
    {
     "data": {
      "text/html": [
       "<table><tr><td><img width=300 src=\"val2014/COCO_val2014_000000184613.jpg\" ></img></td><td><img width=300 src=\"val2014/COCO_val2014_000000184613.jpg\" ></img></td></tr><tr><td><b>normal</b></td><td><b>contrastive</b></td></tr><tr><td><ol><li>a group of people standing around a herd of sheep</li><li>a group of people standing on top of a lush green field</li><li>a group of people standing next to a herd of sheep</li><li>a group of people standing on top of a field</li><li>a group of people standing on top of a field with sheep</li></ol></td><td><ol><li>a woman is herding a herd of sheep</li><li>a woman is herding a herd of goats</li><li>a woman is herding a group of sheep</li><li>a woman is herding a herd of cattle</li><li>a woman is herding a herd of sheep in a field</li></ol></td></tr></table>"
      ],
      "text/plain": [
       "<IPython.core.display.HTML object>"
      ]
     },
     "metadata": {},
     "output_type": "display_data"
    },
    {
     "data": {
      "text/html": [
       "<table><tr><td><img width=300 src=\"val2014/COCO_val2014_000000184613.jpg\" ></img></td><td><img width=300 src=\"train2014/COCO_train2014_000000086329.jpg\" ></img></td></tr></table>"
      ],
      "text/plain": [
       "<IPython.core.display.HTML object>"
      ]
     },
     "metadata": {},
     "output_type": "display_data"
    },
    {
     "data": {
      "text/html": [
       "<table><tr><td><img width=300 src=\"train2014/COCO_train2014_000000535699.jpg\" ></img></td><td><img width=300 src=\"train2014/COCO_train2014_000000118399.jpg\" ></img></td><td><img width=300 src=\"train2014/COCO_train2014_000000283632.jpg\" ></img></td><td><img width=300 src=\"train2014/COCO_train2014_000000550455.jpg\" ></img></td><td><img width=300 src=\"train2014/COCO_train2014_000000248958.jpg\" ></img></td></tr><tr><td><b>0.2650</b></td><td><b>0.1444</b></td><td><b>0.1320</b></td><td><b>0.1139</b></td><td><b>0.0712</b></td></tr><tr><td><img width=300 src=\"train2014/COCO_train2014_000000248604.jpg\" ></img></td><td><img width=300 src=\"val2014/COCO_val2014_000000005802.jpg\" ></img></td><td><img width=300 src=\"val2014/COCO_val2014_000000194903.jpg\" ></img></td><td><img width=300 src=\"train2014/COCO_train2014_000000445671.jpg\" ></img></td><td><img width=300 src=\"val2014/COCO_val2014_000000545583.jpg\" ></img></td></tr><tr><td><b>0.0651</b></td><td><b>0.0604</b></td><td><b>0.0409</b></td><td><b>0.0334</b></td><td><b>0.0316</b></td></tr><tr><td><img width=300 src=\"train2014/COCO_train2014_000000007953.jpg\" ></img></td><td><img width=300 src=\"val2014/COCO_val2014_000000031471.jpg\" ></img></td><td><img width=300 src=\"train2014/COCO_train2014_000000020966.jpg\" ></img></td><td><img width=300 src=\"train2014/COCO_train2014_000000407590.jpg\" ></img></td><td><img width=300 src=\"train2014/COCO_train2014_000000433662.jpg\" ></img></td></tr><tr><td><b>0.0103</b></td><td><b>0.0085</b></td><td><b>0.0060</b></td><td><b>0.0052</b></td><td><b>0.0035</b></td></tr><tr><td><img width=300 src=\"val2014/COCO_val2014_000000250804.jpg\" ></img></td><td><img width=300 src=\"train2014/COCO_train2014_000000378214.jpg\" ></img></td><td><img width=300 src=\"train2014/COCO_train2014_000000077693.jpg\" ></img></td><td><img width=300 src=\"train2014/COCO_train2014_000000063043.jpg\" ></img></td><td><img width=300 src=\"train2014/COCO_train2014_000000086329.jpg\" ></img></td></tr><tr><td><b>0.0033</b></td><td><b>0.0028</b></td><td><b>0.0012</b></td><td><b>0.0006</b></td><td><b>0.0005</b></td></tr></table>"
      ],
      "text/plain": [
       "<IPython.core.display.HTML object>"
      ]
     },
     "metadata": {},
     "output_type": "display_data"
    },
    {
     "name": "stdout",
     "output_type": "stream",
     "text": [
      "\n"
     ]
    },
    {
     "data": {
      "text/html": [
       "<table><tr><td><img width=300 src=\"val2014/COCO_val2014_000000403013.jpg\" ></img></td><td><img width=300 src=\"val2014/COCO_val2014_000000403013.jpg\" ></img></td></tr><tr><td><b>normal</b></td><td><b>contrastive</b></td></tr><tr><td><ol><li>a kitchen with a stove and a stove</li><li>a kitchen that has a stove and a stove</li><li>a kitchen with a stove and a sink</li><li>a kitchen with a stove and a stove top oven</li><li>a kitchen that has a stove and a stove in it</li></ol></td><td><ol><li>a kitchen with a stove and a stove</li><li>a kitchen that has a stove and a stove</li><li>a kitchen with a stove and a sink</li><li>a kitchen with a stove and a stove top oven</li><li>a kitchen that has a stove and a stove in it</li></ol></td></tr></table>"
      ],
      "text/plain": [
       "<IPython.core.display.HTML object>"
      ]
     },
     "metadata": {},
     "output_type": "display_data"
    },
    {
     "data": {
      "text/html": [
       "<table><tr><td><img width=300 src=\"val2014/COCO_val2014_000000403013.jpg\" ></img></td><td><img width=300 src=\"train2014/COCO_train2014_000000229962.jpg\" ></img></td></tr></table>"
      ],
      "text/plain": [
       "<IPython.core.display.HTML object>"
      ]
     },
     "metadata": {},
     "output_type": "display_data"
    },
    {
     "data": {
      "text/html": [
       "<table><tr><td><img width=300 src=\"val2014/COCO_val2014_000000157321.jpg\" ></img></td><td><img width=300 src=\"train2014/COCO_train2014_000000568000.jpg\" ></img></td><td><img width=300 src=\"train2014/COCO_train2014_000000475055.jpg\" ></img></td><td><img width=300 src=\"val2014/COCO_val2014_000000053580.jpg\" ></img></td><td><img width=300 src=\"train2014/COCO_train2014_000000164114.jpg\" ></img></td></tr><tr><td><b>0.1952</b></td><td><b>0.1808</b></td><td><b>0.1501</b></td><td><b>0.1104</b></td><td><b>0.0623</b></td></tr><tr><td><img width=300 src=\"train2014/COCO_train2014_000000012213.jpg\" ></img></td><td><img width=300 src=\"val2014/COCO_val2014_000000179954.jpg\" ></img></td><td><img width=300 src=\"val2014/COCO_val2014_000000472904.jpg\" ></img></td><td><img width=300 src=\"val2014/COCO_val2014_000000413341.jpg\" ></img></td><td><img width=300 src=\"train2014/COCO_train2014_000000524838.jpg\" ></img></td></tr><tr><td><b>0.0601</b></td><td><b>0.0476</b></td><td><b>0.0209</b></td><td><b>0.0175</b></td><td><b>0.0174</b></td></tr><tr><td><img width=300 src=\"val2014/COCO_val2014_000000409855.jpg\" ></img></td><td><img width=300 src=\"train2014/COCO_train2014_000000130180.jpg\" ></img></td><td><img width=300 src=\"train2014/COCO_train2014_000000266273.jpg\" ></img></td><td><img width=300 src=\"train2014/COCO_train2014_000000312850.jpg\" ></img></td><td><img width=300 src=\"train2014/COCO_train2014_000000138536.jpg\" ></img></td></tr><tr><td><b>0.0170</b></td><td><b>0.0165</b></td><td><b>0.0144</b></td><td><b>0.0139</b></td><td><b>0.0139</b></td></tr><tr><td><img width=300 src=\"train2014/COCO_train2014_000000332202.jpg\" ></img></td><td><img width=300 src=\"val2014/COCO_val2014_000000553129.jpg\" ></img></td><td><img width=300 src=\"val2014/COCO_val2014_000000121828.jpg\" ></img></td><td><img width=300 src=\"val2014/COCO_val2014_000000048910.jpg\" ></img></td><td><img width=300 src=\"train2014/COCO_train2014_000000229962.jpg\" ></img></td></tr><tr><td><b>0.0136</b></td><td><b>0.0131</b></td><td><b>0.0129</b></td><td><b>0.0127</b></td><td><b>0.0095</b></td></tr></table>"
      ],
      "text/plain": [
       "<IPython.core.display.HTML object>"
      ]
     },
     "metadata": {},
     "output_type": "display_data"
    },
    {
     "name": "stdout",
     "output_type": "stream",
     "text": [
      "\n"
     ]
    },
    {
     "data": {
      "text/html": [
       "<table><tr><td><img width=300 src=\"val2014/COCO_val2014_000000562150.jpg\" ></img></td><td><img width=300 src=\"val2014/COCO_val2014_000000562150.jpg\" ></img></td></tr><tr><td><b>normal</b></td><td><b>contrastive</b></td></tr><tr><td><ol><li>a little girl sitting on a bench holding a cat</li><li>a little girl holding a cat in her arms</li><li>a woman holding a cat in her arms</li><li>a little girl sitting on a bench with a cat</li><li>a little girl holding a cat in her lap</li></ol></td><td><ol><li>a little girl sitting on a bench holding a cat</li><li>a little girl holding a cat on a leash</li><li>a little girl holding a cat in her arms</li><li>a little girl sitting on a bench with a cat</li><li>a little girl holding a cat in her lap</li></ol></td></tr></table>"
      ],
      "text/plain": [
       "<IPython.core.display.HTML object>"
      ]
     },
     "metadata": {},
     "output_type": "display_data"
    },
    {
     "data": {
      "text/html": [
       "<table><tr><td><img width=300 src=\"val2014/COCO_val2014_000000562150.jpg\" ></img></td><td><img width=300 src=\"train2014/COCO_train2014_000000277050.jpg\" ></img></td></tr></table>"
      ],
      "text/plain": [
       "<IPython.core.display.HTML object>"
      ]
     },
     "metadata": {},
     "output_type": "display_data"
    },
    {
     "data": {
      "text/html": [
       "<table><tr><td><img width=300 src=\"train2014/COCO_train2014_000000363885.jpg\" ></img></td><td><img width=300 src=\"train2014/COCO_train2014_000000320947.jpg\" ></img></td><td><img width=300 src=\"train2014/COCO_train2014_000000045471.jpg\" ></img></td><td><img width=300 src=\"train2014/COCO_train2014_000000279939.jpg\" ></img></td><td><img width=300 src=\"train2014/COCO_train2014_000000258017.jpg\" ></img></td></tr><tr><td><b>0.1804</b></td><td><b>0.1337</b></td><td><b>0.1303</b></td><td><b>0.1036</b></td><td><b>0.0894</b></td></tr><tr><td><img width=300 src=\"val2014/COCO_val2014_000000202187.jpg\" ></img></td><td><img width=300 src=\"train2014/COCO_train2014_000000140729.jpg\" ></img></td><td><img width=300 src=\"train2014/COCO_train2014_000000521256.jpg\" ></img></td><td><img width=300 src=\"train2014/COCO_train2014_000000414684.jpg\" ></img></td><td><img width=300 src=\"train2014/COCO_train2014_000000269561.jpg\" ></img></td></tr><tr><td><b>0.0845</b></td><td><b>0.0747</b></td><td><b>0.0709</b></td><td><b>0.0378</b></td><td><b>0.0143</b></td></tr><tr><td><img width=300 src=\"val2014/COCO_val2014_000000169690.jpg\" ></img></td><td><img width=300 src=\"train2014/COCO_train2014_000000390934.jpg\" ></img></td><td><img width=300 src=\"val2014/COCO_val2014_000000194716.jpg\" ></img></td><td><img width=300 src=\"val2014/COCO_val2014_000000363321.jpg\" ></img></td><td><img width=300 src=\"train2014/COCO_train2014_000000478675.jpg\" ></img></td></tr><tr><td><b>0.0120</b></td><td><b>0.0110</b></td><td><b>0.0106</b></td><td><b>0.0073</b></td><td><b>0.0072</b></td></tr><tr><td><img width=300 src=\"train2014/COCO_train2014_000000334039.jpg\" ></img></td><td><img width=300 src=\"val2014/COCO_val2014_000000361217.jpg\" ></img></td><td><img width=300 src=\"train2014/COCO_train2014_000000430394.jpg\" ></img></td><td><img width=300 src=\"train2014/COCO_train2014_000000277050.jpg\" ></img></td><td><img width=300 src=\"train2014/COCO_train2014_000000184937.jpg\" ></img></td></tr><tr><td><b>0.0069</b></td><td><b>0.0063</b></td><td><b>0.0063</b></td><td><b>0.0063</b></td><td><b>0.0063</b></td></tr></table>"
      ],
      "text/plain": [
       "<IPython.core.display.HTML object>"
      ]
     },
     "metadata": {},
     "output_type": "display_data"
    },
    {
     "name": "stdout",
     "output_type": "stream",
     "text": [
      "\n"
     ]
    },
    {
     "data": {
      "text/html": [
       "<table><tr><td><img width=300 src=\"val2014/COCO_val2014_000000360772.jpg\" ></img></td><td><img width=300 src=\"val2014/COCO_val2014_000000360772.jpg\" ></img></td></tr><tr><td><b>normal</b></td><td><b>contrastive</b></td></tr><tr><td><ol><li>a white toilet sitting next to a bathroom sink</li><li>a white toilet sitting next to a sink</li><li>a white toilet sitting next to a sink in a bathroom</li><li>a white toilet sitting next to a white toilet</li><li>a white toilet sitting in a bathroom next to a toilet</li></ol></td><td><ol><li>a white toilet sitting next to a bathroom sink</li><li>a white toilet sitting next to a sink</li><li>a white toilet sitting next to a sink in a bathroom</li><li>a white toilet sitting next to a white toilet</li><li>a white toilet sitting in a bathroom next to a toilet</li></ol></td></tr></table>"
      ],
      "text/plain": [
       "<IPython.core.display.HTML object>"
      ]
     },
     "metadata": {},
     "output_type": "display_data"
    },
    {
     "data": {
      "text/html": [
       "<table><tr><td><img width=300 src=\"val2014/COCO_val2014_000000360772.jpg\" ></img></td><td><img width=300 src=\"val2014/COCO_val2014_000000012323.jpg\" ></img></td></tr></table>"
      ],
      "text/plain": [
       "<IPython.core.display.HTML object>"
      ]
     },
     "metadata": {},
     "output_type": "display_data"
    },
    {
     "data": {
      "text/html": [
       "<table><tr><td><img width=300 src=\"train2014/COCO_train2014_000000212864.jpg\" ></img></td><td><img width=300 src=\"train2014/COCO_train2014_000000172162.jpg\" ></img></td><td><img width=300 src=\"train2014/COCO_train2014_000000051493.jpg\" ></img></td><td><img width=300 src=\"val2014/COCO_val2014_000000058344.jpg\" ></img></td><td><img width=300 src=\"val2014/COCO_val2014_000000341132.jpg\" ></img></td></tr><tr><td><b>0.2567</b></td><td><b>0.1772</b></td><td><b>0.1677</b></td><td><b>0.0957</b></td><td><b>0.0852</b></td></tr><tr><td><img width=300 src=\"train2014/COCO_train2014_000000567179.jpg\" ></img></td><td><img width=300 src=\"train2014/COCO_train2014_000000386560.jpg\" ></img></td><td><img width=300 src=\"val2014/COCO_val2014_000000020760.jpg\" ></img></td><td><img width=300 src=\"train2014/COCO_train2014_000000195039.jpg\" ></img></td><td><img width=300 src=\"train2014/COCO_train2014_000000005277.jpg\" ></img></td></tr><tr><td><b>0.0180</b></td><td><b>0.0155</b></td><td><b>0.0148</b></td><td><b>0.0145</b></td><td><b>0.0145</b></td></tr><tr><td><img width=300 src=\"train2014/COCO_train2014_000000201686.jpg\" ></img></td><td><img width=300 src=\"val2014/COCO_val2014_000000126941.jpg\" ></img></td><td><img width=300 src=\"val2014/COCO_val2014_000000405635.jpg\" ></img></td><td><img width=300 src=\"val2014/COCO_val2014_000000012323.jpg\" ></img></td><td><img width=300 src=\"train2014/COCO_train2014_000000504608.jpg\" ></img></td></tr><tr><td><b>0.0143</b></td><td><b>0.0143</b></td><td><b>0.0140</b></td><td><b>0.0140</b></td><td><b>0.0140</b></td></tr><tr><td><img width=300 src=\"train2014/COCO_train2014_000000472831.jpg\" ></img></td><td><img width=300 src=\"train2014/COCO_train2014_000000428120.jpg\" ></img></td><td><img width=300 src=\"train2014/COCO_train2014_000000208754.jpg\" ></img></td><td><img width=300 src=\"train2014/COCO_train2014_000000132454.jpg\" ></img></td><td><img width=300 src=\"train2014/COCO_train2014_000000096690.jpg\" ></img></td></tr><tr><td><b>0.0140</b></td><td><b>0.0140</b></td><td><b>0.0140</b></td><td><b>0.0140</b></td><td><b>0.0140</b></td></tr></table>"
      ],
      "text/plain": [
       "<IPython.core.display.HTML object>"
      ]
     },
     "metadata": {},
     "output_type": "display_data"
    },
    {
     "name": "stdout",
     "output_type": "stream",
     "text": [
      "\n"
     ]
    },
    {
     "data": {
      "text/html": [
       "<table><tr><td><img width=300 src=\"val2014/COCO_val2014_000000340559.jpg\" ></img></td><td><img width=300 src=\"val2014/COCO_val2014_000000340559.jpg\" ></img></td></tr><tr><td><b>normal</b></td><td><b>contrastive</b></td></tr><tr><td><ol><li>a kitchen with a sink and a sink</li><li>a kitchen with a sink and a refrigerator</li><li>a kitchen with a sink and a mirror</li><li>a kitchen that has a sink and a sink</li><li>a kitchen that has a sink and a refrigerator</li></ol></td><td><ol><li>a kitchen with a sink and a sink</li><li>a kitchen with a sink and a refrigerator</li><li>a stainless steel kitchen with a stainless steel refrigerator</li><li>a kitchen that has a sink and a sink</li><li>a kitchen that has a sink and a sink in it</li></ol></td></tr></table>"
      ],
      "text/plain": [
       "<IPython.core.display.HTML object>"
      ]
     },
     "metadata": {},
     "output_type": "display_data"
    },
    {
     "data": {
      "text/html": [
       "<table><tr><td><img width=300 src=\"val2014/COCO_val2014_000000340559.jpg\" ></img></td><td><img width=300 src=\"val2014/COCO_val2014_000000078266.jpg\" ></img></td></tr></table>"
      ],
      "text/plain": [
       "<IPython.core.display.HTML object>"
      ]
     },
     "metadata": {},
     "output_type": "display_data"
    },
    {
     "data": {
      "text/html": [
       "<table><tr><td><img width=300 src=\"val2014/COCO_val2014_000000214984.jpg\" ></img></td><td><img width=300 src=\"val2014/COCO_val2014_000000362941.jpg\" ></img></td><td><img width=300 src=\"train2014/COCO_train2014_000000451519.jpg\" ></img></td><td><img width=300 src=\"train2014/COCO_train2014_000000326836.jpg\" ></img></td><td><img width=300 src=\"train2014/COCO_train2014_000000144000.jpg\" ></img></td></tr><tr><td><b>0.2775</b></td><td><b>0.1454</b></td><td><b>0.0955</b></td><td><b>0.0840</b></td><td><b>0.0828</b></td></tr><tr><td><img width=300 src=\"train2014/COCO_train2014_000000298868.jpg\" ></img></td><td><img width=300 src=\"train2014/COCO_train2014_000000122194.jpg\" ></img></td><td><img width=300 src=\"train2014/COCO_train2014_000000253260.jpg\" ></img></td><td><img width=300 src=\"train2014/COCO_train2014_000000070236.jpg\" ></img></td><td><img width=300 src=\"train2014/COCO_train2014_000000066129.jpg\" ></img></td></tr><tr><td><b>0.0621</b></td><td><b>0.0506</b></td><td><b>0.0435</b></td><td><b>0.0400</b></td><td><b>0.0173</b></td></tr><tr><td><img width=300 src=\"val2014/COCO_val2014_000000452793.jpg\" ></img></td><td><img width=300 src=\"train2014/COCO_train2014_000000375728.jpg\" ></img></td><td><img width=300 src=\"train2014/COCO_train2014_000000083878.jpg\" ></img></td><td><img width=300 src=\"val2014/COCO_val2014_000000229311.jpg\" ></img></td><td><img width=300 src=\"val2014/COCO_val2014_000000121828.jpg\" ></img></td></tr><tr><td><b>0.0147</b></td><td><b>0.0132</b></td><td><b>0.0131</b></td><td><b>0.0114</b></td><td><b>0.0094</b></td></tr><tr><td><img width=300 src=\"train2014/COCO_train2014_000000504336.jpg\" ></img></td><td><img width=300 src=\"val2014/COCO_val2014_000000070434.jpg\" ></img></td><td><img width=300 src=\"val2014/COCO_val2014_000000042568.jpg\" ></img></td><td><img width=300 src=\"train2014/COCO_train2014_000000432201.jpg\" ></img></td><td><img width=300 src=\"val2014/COCO_val2014_000000078266.jpg\" ></img></td></tr><tr><td><b>0.0093</b></td><td><b>0.0089</b></td><td><b>0.0081</b></td><td><b>0.0070</b></td><td><b>0.0064</b></td></tr></table>"
      ],
      "text/plain": [
       "<IPython.core.display.HTML object>"
      ]
     },
     "metadata": {},
     "output_type": "display_data"
    },
    {
     "name": "stdout",
     "output_type": "stream",
     "text": [
      "\n"
     ]
    },
    {
     "data": {
      "text/html": [
       "<table><tr><td><img width=300 src=\"val2014/COCO_val2014_000000321107.jpg\" ></img></td><td><img width=300 src=\"val2014/COCO_val2014_000000321107.jpg\" ></img></td></tr><tr><td><b>normal</b></td><td><b>contrastive</b></td></tr><tr><td><ol><li>a woman riding a bike down a street</li><li>a woman riding a bike down the street</li><li>a person riding a bike down a street</li><li>a woman riding a bike on a city street</li><li>a woman riding a bike down a street next to a bike</li></ol></td><td><ol><li>a woman riding a bike down a street</li><li>a woman riding a bike down the street</li><li>a woman riding a bike on a city street</li><li>a woman riding a bike down a street next to a bike</li><li>a woman riding a bike down a street with a bike</li></ol></td></tr></table>"
      ],
      "text/plain": [
       "<IPython.core.display.HTML object>"
      ]
     },
     "metadata": {},
     "output_type": "display_data"
    },
    {
     "data": {
      "text/html": [
       "<table><tr><td><img width=300 src=\"val2014/COCO_val2014_000000321107.jpg\" ></img></td><td><img width=300 src=\"train2014/COCO_train2014_000000151778.jpg\" ></img></td></tr></table>"
      ],
      "text/plain": [
       "<IPython.core.display.HTML object>"
      ]
     },
     "metadata": {},
     "output_type": "display_data"
    },
    {
     "data": {
      "text/html": [
       "<table><tr><td><img width=300 src=\"train2014/COCO_train2014_000000273369.jpg\" ></img></td><td><img width=300 src=\"train2014/COCO_train2014_000000366793.jpg\" ></img></td><td><img width=300 src=\"train2014/COCO_train2014_000000521473.jpg\" ></img></td><td><img width=300 src=\"train2014/COCO_train2014_000000223035.jpg\" ></img></td><td><img width=300 src=\"train2014/COCO_train2014_000000300598.jpg\" ></img></td></tr><tr><td><b>0.2957</b></td><td><b>0.1905</b></td><td><b>0.1821</b></td><td><b>0.1260</b></td><td><b>0.1092</b></td></tr><tr><td><img width=300 src=\"val2014/COCO_val2014_000000296684.jpg\" ></img></td><td><img width=300 src=\"train2014/COCO_train2014_000000001330.jpg\" ></img></td><td><img width=300 src=\"val2014/COCO_val2014_000000493846.jpg\" ></img></td><td><img width=300 src=\"train2014/COCO_train2014_000000329755.jpg\" ></img></td><td><img width=300 src=\"train2014/COCO_train2014_000000032664.jpg\" ></img></td></tr><tr><td><b>0.0507</b></td><td><b>0.0436</b></td><td><b>0.0014</b></td><td><b>0.0002</b></td><td><b>0.0001</b></td></tr><tr><td><img width=300 src=\"val2014/COCO_val2014_000000087920.jpg\" ></img></td><td><img width=300 src=\"train2014/COCO_train2014_000000380820.jpg\" ></img></td><td><img width=300 src=\"val2014/COCO_val2014_000000159320.jpg\" ></img></td><td><img width=300 src=\"train2014/COCO_train2014_000000304134.jpg\" ></img></td><td><img width=300 src=\"train2014/COCO_train2014_000000489107.jpg\" ></img></td></tr><tr><td><b>0.0001</b></td><td><b>0.0001</b></td><td><b>0.0001</b></td><td><b>0.0000</b></td><td><b>0.0000</b></td></tr><tr><td><img width=300 src=\"val2014/COCO_val2014_000000016961.jpg\" ></img></td><td><img width=300 src=\"train2014/COCO_train2014_000000363455.jpg\" ></img></td><td><img width=300 src=\"train2014/COCO_train2014_000000262967.jpg\" ></img></td><td><img width=300 src=\"train2014/COCO_train2014_000000551630.jpg\" ></img></td><td><img width=300 src=\"train2014/COCO_train2014_000000151778.jpg\" ></img></td></tr><tr><td><b>0.0000</b></td><td><b>0.0000</b></td><td><b>0.0000</b></td><td><b>0.0000</b></td><td><b>0.0000</b></td></tr></table>"
      ],
      "text/plain": [
       "<IPython.core.display.HTML object>"
      ]
     },
     "metadata": {},
     "output_type": "display_data"
    },
    {
     "name": "stdout",
     "output_type": "stream",
     "text": [
      "\n"
     ]
    },
    {
     "data": {
      "text/html": [
       "<table><tr><td><img width=300 src=\"val2014/COCO_val2014_000000129001.jpg\" ></img></td><td><img width=300 src=\"val2014/COCO_val2014_000000129001.jpg\" ></img></td></tr><tr><td><b>normal</b></td><td><b>contrastive</b></td></tr><tr><td><ol><li>a bathroom with a shower and a shower</li><li>a bathroom with a shower and a sink</li><li>a bathroom with a shower and a toilet</li><li>a bath room with a shower and a sink</li><li>a bath room with a shower and a shower</li></ol></td><td><ol><li>a bathroom with a shower and a shower</li><li>a bathroom with a shower and a sink</li><li>a bath room with a shower and a sink</li><li>a bath room with a shower and a toilet</li><li>a bath room with a shower and a shower</li></ol></td></tr></table>"
      ],
      "text/plain": [
       "<IPython.core.display.HTML object>"
      ]
     },
     "metadata": {},
     "output_type": "display_data"
    },
    {
     "data": {
      "text/html": [
       "<table><tr><td><img width=300 src=\"val2014/COCO_val2014_000000129001.jpg\" ></img></td><td><img width=300 src=\"train2014/COCO_train2014_000000037126.jpg\" ></img></td></tr></table>"
      ],
      "text/plain": [
       "<IPython.core.display.HTML object>"
      ]
     },
     "metadata": {},
     "output_type": "display_data"
    },
    {
     "data": {
      "text/html": [
       "<table><tr><td><img width=300 src=\"train2014/COCO_train2014_000000480587.jpg\" ></img></td><td><img width=300 src=\"train2014/COCO_train2014_000000098924.jpg\" ></img></td><td><img width=300 src=\"train2014/COCO_train2014_000000019594.jpg\" ></img></td><td><img width=300 src=\"train2014/COCO_train2014_000000290047.jpg\" ></img></td><td><img width=300 src=\"train2014/COCO_train2014_000000198565.jpg\" ></img></td></tr><tr><td><b>0.1457</b></td><td><b>0.1447</b></td><td><b>0.1431</b></td><td><b>0.1197</b></td><td><b>0.1155</b></td></tr><tr><td><img width=300 src=\"train2014/COCO_train2014_000000373278.jpg\" ></img></td><td><img width=300 src=\"val2014/COCO_val2014_000000013992.jpg\" ></img></td><td><img width=300 src=\"val2014/COCO_val2014_000000058886.jpg\" ></img></td><td><img width=300 src=\"val2014/COCO_val2014_000000238029.jpg\" ></img></td><td><img width=300 src=\"val2014/COCO_val2014_000000134715.jpg\" ></img></td></tr><tr><td><b>0.1018</b></td><td><b>0.0716</b></td><td><b>0.0282</b></td><td><b>0.0134</b></td><td><b>0.0123</b></td></tr><tr><td><img width=300 src=\"train2014/COCO_train2014_000000522620.jpg\" ></img></td><td><img width=300 src=\"train2014/COCO_train2014_000000250079.jpg\" ></img></td><td><img width=300 src=\"val2014/COCO_val2014_000000356299.jpg\" ></img></td><td><img width=300 src=\"train2014/COCO_train2014_000000491063.jpg\" ></img></td><td><img width=300 src=\"val2014/COCO_val2014_000000449731.jpg\" ></img></td></tr><tr><td><b>0.0118</b></td><td><b>0.0113</b></td><td><b>0.0105</b></td><td><b>0.0101</b></td><td><b>0.0101</b></td></tr><tr><td><img width=300 src=\"val2014/COCO_val2014_000000383606.jpg\" ></img></td><td><img width=300 src=\"val2014/COCO_val2014_000000303928.jpg\" ></img></td><td><img width=300 src=\"train2014/COCO_train2014_000000187972.jpg\" ></img></td><td><img width=300 src=\"train2014/COCO_train2014_000000042086.jpg\" ></img></td><td><img width=300 src=\"train2014/COCO_train2014_000000037126.jpg\" ></img></td></tr><tr><td><b>0.0101</b></td><td><b>0.0101</b></td><td><b>0.0101</b></td><td><b>0.0101</b></td><td><b>0.0101</b></td></tr></table>"
      ],
      "text/plain": [
       "<IPython.core.display.HTML object>"
      ]
     },
     "metadata": {},
     "output_type": "display_data"
    },
    {
     "name": "stdout",
     "output_type": "stream",
     "text": [
      "\n"
     ]
    },
    {
     "data": {
      "text/html": [
       "<table><tr><td><img width=300 src=\"val2014/COCO_val2014_000000556616.jpg\" ></img></td><td><img width=300 src=\"val2014/COCO_val2014_000000556616.jpg\" ></img></td></tr><tr><td><b>normal</b></td><td><b>contrastive</b></td></tr><tr><td><ol><li>a parking meter sitting next to a parking meter</li><li>a parking meter on the side of a street</li><li>a couple of parking meters sitting next to a parking meter</li><li>a parking meter on the side of the road</li><li>a parking meter on the side of a road</li></ol></td><td><ol><li>a parking meter sitting next to a parking meter</li><li>a close up of a parking meter on a street</li><li>a close up of a parking meter on a city street</li><li>a parking meter on the side of a street</li><li>a close up of a parking meter with a car</li></ol></td></tr></table>"
      ],
      "text/plain": [
       "<IPython.core.display.HTML object>"
      ]
     },
     "metadata": {},
     "output_type": "display_data"
    },
    {
     "data": {
      "text/html": [
       "<table><tr><td><img width=300 src=\"val2014/COCO_val2014_000000556616.jpg\" ></img></td><td><img width=300 src=\"train2014/COCO_train2014_000000253528.jpg\" ></img></td></tr></table>"
      ],
      "text/plain": [
       "<IPython.core.display.HTML object>"
      ]
     },
     "metadata": {},
     "output_type": "display_data"
    },
    {
     "data": {
      "text/html": [
       "<table><tr><td><img width=300 src=\"train2014/COCO_train2014_000000558623.jpg\" ></img></td><td><img width=300 src=\"val2014/COCO_val2014_000000096983.jpg\" ></img></td><td><img width=300 src=\"train2014/COCO_train2014_000000550000.jpg\" ></img></td><td><img width=300 src=\"val2014/COCO_val2014_000000120850.jpg\" ></img></td><td><img width=300 src=\"train2014/COCO_train2014_000000138248.jpg\" ></img></td></tr><tr><td><b>0.1874</b></td><td><b>0.1631</b></td><td><b>0.1496</b></td><td><b>0.1317</b></td><td><b>0.1170</b></td></tr><tr><td><img width=300 src=\"train2014/COCO_train2014_000000383372.jpg\" ></img></td><td><img width=300 src=\"train2014/COCO_train2014_000000237848.jpg\" ></img></td><td><img width=300 src=\"val2014/COCO_val2014_000000528098.jpg\" ></img></td><td><img width=300 src=\"train2014/COCO_train2014_000000233357.jpg\" ></img></td><td><img width=300 src=\"train2014/COCO_train2014_000000526035.jpg\" ></img></td></tr><tr><td><b>0.0835</b></td><td><b>0.0729</b></td><td><b>0.0706</b></td><td><b>0.0137</b></td><td><b>0.0061</b></td></tr><tr><td><img width=300 src=\"train2014/COCO_train2014_000000488367.jpg\" ></img></td><td><img width=300 src=\"train2014/COCO_train2014_000000172637.jpg\" ></img></td><td><img width=300 src=\"val2014/COCO_val2014_000000302200.jpg\" ></img></td><td><img width=300 src=\"train2014/COCO_train2014_000000357790.jpg\" ></img></td><td><img width=300 src=\"val2014/COCO_val2014_000000135410.jpg\" ></img></td></tr><tr><td><b>0.0042</b></td><td><b>0.0001</b></td><td><b>0.0000</b></td><td><b>0.0000</b></td><td><b>0.0000</b></td></tr><tr><td><img width=300 src=\"train2014/COCO_train2014_000000068789.jpg\" ></img></td><td><img width=300 src=\"val2014/COCO_val2014_000000145039.jpg\" ></img></td><td><img width=300 src=\"train2014/COCO_train2014_000000539767.jpg\" ></img></td><td><img width=300 src=\"train2014/COCO_train2014_000000375053.jpg\" ></img></td><td><img width=300 src=\"train2014/COCO_train2014_000000253528.jpg\" ></img></td></tr><tr><td><b>0.0000</b></td><td><b>0.0000</b></td><td><b>0.0000</b></td><td><b>0.0000</b></td><td><b>0.0000</b></td></tr></table>"
      ],
      "text/plain": [
       "<IPython.core.display.HTML object>"
      ]
     },
     "metadata": {},
     "output_type": "display_data"
    },
    {
     "name": "stdout",
     "output_type": "stream",
     "text": [
      "\n"
     ]
    },
    {
     "data": {
      "text/html": [
       "<table><tr><td><img width=300 src=\"val2014/COCO_val2014_000000472621.jpg\" ></img></td><td><img width=300 src=\"val2014/COCO_val2014_000000472621.jpg\" ></img></td></tr><tr><td><b>normal</b></td><td><b>contrastive</b></td></tr><tr><td><ol><li>a bathroom with a sink and a mirror</li><li>a bath room with a sink and a mirror</li><li>a bathroom with a sink and a sink</li><li>a bathroom with a sink and a bathtub</li><li>a bath room with a sink a mirror and a mirror</li></ol></td><td><ol><li>a bathroom with a sink and a mirror</li><li>a bathroom with a sink and a sink</li><li>a bath room with a sink and a mirror</li><li>a bath room with a sink and a sink</li><li>a bath room with a sink a mirror and a mirror</li></ol></td></tr></table>"
      ],
      "text/plain": [
       "<IPython.core.display.HTML object>"
      ]
     },
     "metadata": {},
     "output_type": "display_data"
    },
    {
     "data": {
      "text/html": [
       "<table><tr><td><img width=300 src=\"val2014/COCO_val2014_000000472621.jpg\" ></img></td><td><img width=300 src=\"train2014/COCO_train2014_000000515287.jpg\" ></img></td></tr></table>"
      ],
      "text/plain": [
       "<IPython.core.display.HTML object>"
      ]
     },
     "metadata": {},
     "output_type": "display_data"
    },
    {
     "data": {
      "text/html": [
       "<table><tr><td><img width=300 src=\"train2014/COCO_train2014_000000508969.jpg\" ></img></td><td><img width=300 src=\"train2014/COCO_train2014_000000015198.jpg\" ></img></td><td><img width=300 src=\"train2014/COCO_train2014_000000365472.jpg\" ></img></td><td><img width=300 src=\"train2014/COCO_train2014_000000549605.jpg\" ></img></td><td><img width=300 src=\"train2014/COCO_train2014_000000134325.jpg\" ></img></td></tr><tr><td><b>0.1628</b></td><td><b>0.1257</b></td><td><b>0.1163</b></td><td><b>0.1152</b></td><td><b>0.0960</b></td></tr><tr><td><img width=300 src=\"val2014/COCO_val2014_000000393411.jpg\" ></img></td><td><img width=300 src=\"train2014/COCO_train2014_000000508761.jpg\" ></img></td><td><img width=300 src=\"train2014/COCO_train2014_000000373700.jpg\" ></img></td><td><img width=300 src=\"train2014/COCO_train2014_000000166959.jpg\" ></img></td><td><img width=300 src=\"val2014/COCO_val2014_000000370711.jpg\" ></img></td></tr><tr><td><b>0.0887</b></td><td><b>0.0857</b></td><td><b>0.0665</b></td><td><b>0.0536</b></td><td><b>0.0167</b></td></tr><tr><td><img width=300 src=\"train2014/COCO_train2014_000000371490.jpg\" ></img></td><td><img width=300 src=\"train2014/COCO_train2014_000000412267.jpg\" ></img></td><td><img width=300 src=\"train2014/COCO_train2014_000000175291.jpg\" ></img></td><td><img width=300 src=\"train2014/COCO_train2014_000000155993.jpg\" ></img></td><td><img width=300 src=\"train2014/COCO_train2014_000000515287.jpg\" ></img></td></tr><tr><td><b>0.0082</b></td><td><b>0.0074</b></td><td><b>0.0074</b></td><td><b>0.0073</b></td><td><b>0.0071</b></td></tr><tr><td><img width=300 src=\"train2014/COCO_train2014_000000504907.jpg\" ></img></td><td><img width=300 src=\"train2014/COCO_train2014_000000474732.jpg\" ></img></td><td><img width=300 src=\"train2014/COCO_train2014_000000401458.jpg\" ></img></td><td><img width=300 src=\"train2014/COCO_train2014_000000343670.jpg\" ></img></td><td><img width=300 src=\"train2014/COCO_train2014_000000188343.jpg\" ></img></td></tr><tr><td><b>0.0071</b></td><td><b>0.0071</b></td><td><b>0.0071</b></td><td><b>0.0071</b></td><td><b>0.0071</b></td></tr></table>"
      ],
      "text/plain": [
       "<IPython.core.display.HTML object>"
      ]
     },
     "metadata": {},
     "output_type": "display_data"
    },
    {
     "name": "stdout",
     "output_type": "stream",
     "text": [
      "\n"
     ]
    },
    {
     "data": {
      "text/html": [
       "<table><tr><td><img width=300 src=\"val2014/COCO_val2014_000000364521.jpg\" ></img></td><td><img width=300 src=\"val2014/COCO_val2014_000000364521.jpg\" ></img></td></tr><tr><td><b>normal</b></td><td><b>contrastive</b></td></tr><tr><td><ol><li>a banana sitting on top of a yellow fire hydrant</li><li>a yellow banana sitting on top of a yellow fire hydrant</li><li>a yellow banana sitting on top of a yellow and black fire hydrant</li><li>a yellow banana sitting on top of a yellow and blue fire hydrant</li><li>a yellow banana sitting on top of a yellow and white fire hydrant</li></ol></td><td><ol><li>a banana sitting on top of a yellow fire hydrant</li><li>a banana sitting on the ground next to a banana</li><li>a banana sitting on the ground next to a banana peel</li><li>a yellow banana sitting on top of a yellow and black fire hydrant</li><li>a yellow banana sitting on top of a yellow and blue fire hydrant</li></ol></td></tr></table>"
      ],
      "text/plain": [
       "<IPython.core.display.HTML object>"
      ]
     },
     "metadata": {},
     "output_type": "display_data"
    },
    {
     "data": {
      "text/html": [
       "<table><tr><td><img width=300 src=\"val2014/COCO_val2014_000000364521.jpg\" ></img></td><td><img width=300 src=\"train2014/COCO_train2014_000000424739.jpg\" ></img></td></tr></table>"
      ],
      "text/plain": [
       "<IPython.core.display.HTML object>"
      ]
     },
     "metadata": {},
     "output_type": "display_data"
    },
    {
     "data": {
      "text/html": [
       "<table><tr><td><img width=300 src=\"train2014/COCO_train2014_000000225463.jpg\" ></img></td><td><img width=300 src=\"train2014/COCO_train2014_000000392186.jpg\" ></img></td><td><img width=300 src=\"val2014/COCO_val2014_000000399864.jpg\" ></img></td><td><img width=300 src=\"val2014/COCO_val2014_000000327165.jpg\" ></img></td><td><img width=300 src=\"train2014/COCO_train2014_000000041351.jpg\" ></img></td></tr><tr><td><b>0.1095</b></td><td><b>0.1049</b></td><td><b>0.0990</b></td><td><b>0.0987</b></td><td><b>0.0901</b></td></tr><tr><td><img width=300 src=\"val2014/COCO_val2014_000000342165.jpg\" ></img></td><td><img width=300 src=\"val2014/COCO_val2014_000000165937.jpg\" ></img></td><td><img width=300 src=\"train2014/COCO_train2014_000000035127.jpg\" ></img></td><td><img width=300 src=\"val2014/COCO_val2014_000000358345.jpg\" ></img></td><td><img width=300 src=\"train2014/COCO_train2014_000000108602.jpg\" ></img></td></tr><tr><td><b>0.0779</b></td><td><b>0.0696</b></td><td><b>0.0387</b></td><td><b>0.0362</b></td><td><b>0.0342</b></td></tr><tr><td><img width=300 src=\"train2014/COCO_train2014_000000086071.jpg\" ></img></td><td><img width=300 src=\"train2014/COCO_train2014_000000355647.jpg\" ></img></td><td><img width=300 src=\"train2014/COCO_train2014_000000236386.jpg\" ></img></td><td><img width=300 src=\"train2014/COCO_train2014_000000395703.jpg\" ></img></td><td><img width=300 src=\"train2014/COCO_train2014_000000147196.jpg\" ></img></td></tr><tr><td><b>0.0330</b></td><td><b>0.0308</b></td><td><b>0.0305</b></td><td><b>0.0289</b></td><td><b>0.0247</b></td></tr><tr><td><img width=300 src=\"train2014/COCO_train2014_000000172654.jpg\" ></img></td><td><img width=300 src=\"train2014/COCO_train2014_000000405630.jpg\" ></img></td><td><img width=300 src=\"val2014/COCO_val2014_000000484627.jpg\" ></img></td><td><img width=300 src=\"val2014/COCO_val2014_000000052005.jpg\" ></img></td><td><img width=300 src=\"train2014/COCO_train2014_000000424739.jpg\" ></img></td></tr><tr><td><b>0.0236</b></td><td><b>0.0228</b></td><td><b>0.0159</b></td><td><b>0.0156</b></td><td><b>0.0154</b></td></tr></table>"
      ],
      "text/plain": [
       "<IPython.core.display.HTML object>"
      ]
     },
     "metadata": {},
     "output_type": "display_data"
    },
    {
     "name": "stdout",
     "output_type": "stream",
     "text": [
      "\n"
     ]
    }
   ],
   "source": [
    "# cbs, no EM training\n",
    "# display_em_model(batch, k=20, neighbor_types=['random', 'closest'], choose_distractor=True)\n",
    "display_em_model(batch, k=10, neighbor_types=['closest', 'random'], choose_distractor=True, distractor_selection_method='min')"
   ]
  },
  {
   "cell_type": "code",
   "execution_count": 46,
   "metadata": {
    "scrolled": false
   },
   "outputs": [
    {
     "data": {
      "text/html": [
       "<table><tr><td><img width=300 src=\"val2014/COCO_val2014_000000009426.jpg\" ></img></td><td><img width=300 src=\"val2014/COCO_val2014_000000009426.jpg\" ></img></td></tr><tr><td><b>normal</b></td><td><b>contrastive</b></td></tr><tr><td><ol><li>a red and white airplane flying in the sky</li><li>a red and white airplane flying through a blue sky</li><li>a red and white plane flying through a blue sky</li><li>a red and white plane flying in the sky</li><li>a red and white jet flying through a blue sky</li></ol></td><td><ol><li>a red and white jet flying through a blue sky</li><li>a red and white airplane flying through a blue sky</li><li>a red and white airplane flying in the sky</li><li>a red and white plane flying through a blue sky</li><li>a red and white plane flying in the sky</li></ol></td></tr></table>"
      ],
      "text/plain": [
       "<IPython.core.display.HTML object>"
      ]
     },
     "metadata": {},
     "output_type": "display_data"
    },
    {
     "data": {
      "text/html": [
       "<table><tr><td><img width=300 src=\"val2014/COCO_val2014_000000009426.jpg\" ></img></td><td><img width=300 src=\"val2014/COCO_val2014_000000183500.jpg\" ></img></td></tr></table>"
      ],
      "text/plain": [
       "<IPython.core.display.HTML object>"
      ]
     },
     "metadata": {},
     "output_type": "display_data"
    },
    {
     "data": {
      "text/html": [
       "<table><tr><td><img width=300 src=\"train2014/COCO_train2014_000000297527.jpg\" ></img></td><td><img width=300 src=\"val2014/COCO_val2014_000000429323.jpg\" ></img></td><td><img width=300 src=\"train2014/COCO_train2014_000000175743.jpg\" ></img></td><td><img width=300 src=\"val2014/COCO_val2014_000000187196.jpg\" ></img></td><td><img width=300 src=\"train2014/COCO_train2014_000000541164.jpg\" ></img></td></tr><tr><td><b>0.2879</b></td><td><b>0.1966</b></td><td><b>0.1729</b></td><td><b>0.1097</b></td><td><b>0.0932</b></td></tr><tr><td><img width=300 src=\"train2014/COCO_train2014_000000271398.jpg\" ></img></td><td><img width=300 src=\"val2014/COCO_val2014_000000441873.jpg\" ></img></td><td><img width=300 src=\"train2014/COCO_train2014_000000368346.jpg\" ></img></td><td><img width=300 src=\"train2014/COCO_train2014_000000128752.jpg\" ></img></td><td><img width=300 src=\"train2014/COCO_train2014_000000570463.jpg\" ></img></td></tr><tr><td><b>0.0767</b></td><td><b>0.0592</b></td><td><b>0.0038</b></td><td><b>0.0000</b></td><td><b>0.0000</b></td></tr><tr><td><img width=300 src=\"train2014/COCO_train2014_000000091118.jpg\" ></img></td><td><img width=300 src=\"train2014/COCO_train2014_000000512438.jpg\" ></img></td><td><img width=300 src=\"train2014/COCO_train2014_000000321577.jpg\" ></img></td><td><img width=300 src=\"train2014/COCO_train2014_000000404385.jpg\" ></img></td><td><img width=300 src=\"val2014/COCO_val2014_000000295765.jpg\" ></img></td></tr><tr><td><b>0.0000</b></td><td><b>0.0000</b></td><td><b>0.0000</b></td><td><b>0.0000</b></td><td><b>0.0000</b></td></tr><tr><td><img width=300 src=\"train2014/COCO_train2014_000000329097.jpg\" ></img></td><td><img width=300 src=\"train2014/COCO_train2014_000000440786.jpg\" ></img></td><td><img width=300 src=\"val2014/COCO_val2014_000000560272.jpg\" ></img></td><td><img width=300 src=\"train2014/COCO_train2014_000000331738.jpg\" ></img></td><td><img width=300 src=\"val2014/COCO_val2014_000000183500.jpg\" ></img></td></tr><tr><td><b>0.0000</b></td><td><b>0.0000</b></td><td><b>0.0000</b></td><td><b>0.0000</b></td><td><b>0.0000</b></td></tr></table>"
      ],
      "text/plain": [
       "<IPython.core.display.HTML object>"
      ]
     },
     "metadata": {},
     "output_type": "display_data"
    },
    {
     "name": "stdout",
     "output_type": "stream",
     "text": [
      "\n"
     ]
    },
    {
     "data": {
      "text/html": [
       "<table><tr><td><img width=300 src=\"val2014/COCO_val2014_000000242139.jpg\" ></img></td><td><img width=300 src=\"val2014/COCO_val2014_000000242139.jpg\" ></img></td></tr><tr><td><b>normal</b></td><td><b>contrastive</b></td></tr><tr><td><ol><li>a city street filled with lots of traffic</li><li>a city street filled with traffic next to tall buildings</li><li>a city street filled with lots of tall buildings</li><li>a city street filled with traffic next to a tall building</li><li>a city street filled with traffic next to a building</li></ol></td><td><ol><li>a city street filled with lots of traffic</li><li>a city street filled with traffic next to tall buildings</li><li>a city street filled with lots of tall buildings</li><li>a city street filled with traffic next to a tall building</li><li>a city street filled with traffic next to a building</li></ol></td></tr></table>"
      ],
      "text/plain": [
       "<IPython.core.display.HTML object>"
      ]
     },
     "metadata": {},
     "output_type": "display_data"
    },
    {
     "data": {
      "text/html": [
       "<table><tr><td><img width=300 src=\"val2014/COCO_val2014_000000242139.jpg\" ></img></td><td><img width=300 src=\"train2014/COCO_train2014_000000218379.jpg\" ></img></td></tr></table>"
      ],
      "text/plain": [
       "<IPython.core.display.HTML object>"
      ]
     },
     "metadata": {},
     "output_type": "display_data"
    },
    {
     "data": {
      "text/html": [
       "<table><tr><td><img width=300 src=\"val2014/COCO_val2014_000000320600.jpg\" ></img></td><td><img width=300 src=\"val2014/COCO_val2014_000000381195.jpg\" ></img></td><td><img width=300 src=\"train2014/COCO_train2014_000000579466.jpg\" ></img></td><td><img width=300 src=\"val2014/COCO_val2014_000000081079.jpg\" ></img></td><td><img width=300 src=\"val2014/COCO_val2014_000000164568.jpg\" ></img></td></tr><tr><td><b>0.3335</b></td><td><b>0.2878</b></td><td><b>0.2836</b></td><td><b>0.0529</b></td><td><b>0.0365</b></td></tr><tr><td><img width=300 src=\"val2014/COCO_val2014_000000401003.jpg\" ></img></td><td><img width=300 src=\"train2014/COCO_train2014_000000322049.jpg\" ></img></td><td><img width=300 src=\"train2014/COCO_train2014_000000087113.jpg\" ></img></td><td><img width=300 src=\"train2014/COCO_train2014_000000219750.jpg\" ></img></td><td><img width=300 src=\"train2014/COCO_train2014_000000533739.jpg\" ></img></td></tr><tr><td><b>0.0050</b></td><td><b>0.0004</b></td><td><b>0.0001</b></td><td><b>0.0001</b></td><td><b>0.0000</b></td></tr><tr><td><img width=300 src=\"train2014/COCO_train2014_000000263826.jpg\" ></img></td><td><img width=300 src=\"val2014/COCO_val2014_000000553511.jpg\" ></img></td><td><img width=300 src=\"val2014/COCO_val2014_000000308388.jpg\" ></img></td><td><img width=300 src=\"val2014/COCO_val2014_000000530620.jpg\" ></img></td><td><img width=300 src=\"train2014/COCO_train2014_000000219225.jpg\" ></img></td></tr><tr><td><b>0.0000</b></td><td><b>0.0000</b></td><td><b>0.0000</b></td><td><b>0.0000</b></td><td><b>0.0000</b></td></tr><tr><td><img width=300 src=\"val2014/COCO_val2014_000000471488.jpg\" ></img></td><td><img width=300 src=\"train2014/COCO_train2014_000000293308.jpg\" ></img></td><td><img width=300 src=\"val2014/COCO_val2014_000000230615.jpg\" ></img></td><td><img width=300 src=\"train2014/COCO_train2014_000000258182.jpg\" ></img></td><td><img width=300 src=\"train2014/COCO_train2014_000000218379.jpg\" ></img></td></tr><tr><td><b>0.0000</b></td><td><b>0.0000</b></td><td><b>0.0000</b></td><td><b>0.0000</b></td><td><b>0.0000</b></td></tr></table>"
      ],
      "text/plain": [
       "<IPython.core.display.HTML object>"
      ]
     },
     "metadata": {},
     "output_type": "display_data"
    },
    {
     "name": "stdout",
     "output_type": "stream",
     "text": [
      "\n"
     ]
    },
    {
     "data": {
      "text/html": [
       "<table><tr><td><img width=300 src=\"val2014/COCO_val2014_000000143931.jpg\" ></img></td><td><img width=300 src=\"val2014/COCO_val2014_000000143931.jpg\" ></img></td></tr><tr><td><b>normal</b></td><td><b>contrastive</b></td></tr><tr><td><ol><li>a bus parked on the side of the road</li><li>a bus is parked on the side of the road</li><li>a bus parked on the side of a road</li><li>a bus is parked on the side of the street</li><li>a bus is parked on the side of a road</li></ol></td><td><ol><li>a bus parked on the side of the road</li><li>a bus is parked on the side of the road</li><li>a bus parked on the side of a road</li><li>a bus parked on the side of a street</li><li>a bus is parked on the side of the street</li></ol></td></tr></table>"
      ],
      "text/plain": [
       "<IPython.core.display.HTML object>"
      ]
     },
     "metadata": {},
     "output_type": "display_data"
    },
    {
     "data": {
      "text/html": [
       "<table><tr><td><img width=300 src=\"val2014/COCO_val2014_000000143931.jpg\" ></img></td><td><img width=300 src=\"train2014/COCO_train2014_000000514801.jpg\" ></img></td></tr></table>"
      ],
      "text/plain": [
       "<IPython.core.display.HTML object>"
      ]
     },
     "metadata": {},
     "output_type": "display_data"
    },
    {
     "data": {
      "text/html": [
       "<table><tr><td><img width=300 src=\"train2014/COCO_train2014_000000192259.jpg\" ></img></td><td><img width=300 src=\"val2014/COCO_val2014_000000392443.jpg\" ></img></td><td><img width=300 src=\"train2014/COCO_train2014_000000223404.jpg\" ></img></td><td><img width=300 src=\"train2014/COCO_train2014_000000561495.jpg\" ></img></td><td><img width=300 src=\"val2014/COCO_val2014_000000465130.jpg\" ></img></td></tr><tr><td><b>0.1487</b></td><td><b>0.1410</b></td><td><b>0.1370</b></td><td><b>0.1306</b></td><td><b>0.1188</b></td></tr><tr><td><img width=300 src=\"train2014/COCO_train2014_000000262172.jpg\" ></img></td><td><img width=300 src=\"train2014/COCO_train2014_000000093176.jpg\" ></img></td><td><img width=300 src=\"train2014/COCO_train2014_000000438369.jpg\" ></img></td><td><img width=300 src=\"train2014/COCO_train2014_000000106917.jpg\" ></img></td><td><img width=300 src=\"train2014/COCO_train2014_000000527207.jpg\" ></img></td></tr><tr><td><b>0.1172</b></td><td><b>0.1119</b></td><td><b>0.0495</b></td><td><b>0.0355</b></td><td><b>0.0026</b></td></tr><tr><td><img width=300 src=\"val2014/COCO_val2014_000000501379.jpg\" ></img></td><td><img width=300 src=\"val2014/COCO_val2014_000000196759.jpg\" ></img></td><td><img width=300 src=\"train2014/COCO_train2014_000000550874.jpg\" ></img></td><td><img width=300 src=\"val2014/COCO_val2014_000000048196.jpg\" ></img></td><td><img width=300 src=\"train2014/COCO_train2014_000000360500.jpg\" ></img></td></tr><tr><td><b>0.0018</b></td><td><b>0.0013</b></td><td><b>0.0012</b></td><td><b>0.0012</b></td><td><b>0.0007</b></td></tr><tr><td><img width=300 src=\"train2014/COCO_train2014_000000023066.jpg\" ></img></td><td><img width=300 src=\"train2014/COCO_train2014_000000382854.jpg\" ></img></td><td><img width=300 src=\"train2014/COCO_train2014_000000366907.jpg\" ></img></td><td><img width=300 src=\"train2014/COCO_train2014_000000381759.jpg\" ></img></td><td><img width=300 src=\"train2014/COCO_train2014_000000514801.jpg\" ></img></td></tr><tr><td><b>0.0004</b></td><td><b>0.0002</b></td><td><b>0.0002</b></td><td><b>0.0001</b></td><td><b>0.0001</b></td></tr></table>"
      ],
      "text/plain": [
       "<IPython.core.display.HTML object>"
      ]
     },
     "metadata": {},
     "output_type": "display_data"
    },
    {
     "name": "stdout",
     "output_type": "stream",
     "text": [
      "\n"
     ]
    },
    {
     "data": {
      "text/html": [
       "<table><tr><td><img width=300 src=\"val2014/COCO_val2014_000000040102.jpg\" ></img></td><td><img width=300 src=\"val2014/COCO_val2014_000000040102.jpg\" ></img></td></tr><tr><td><b>normal</b></td><td><b>contrastive</b></td></tr><tr><td><ol><li>a couple of giraffe standing on top of a lush green field</li><li>a couple of giraffes are standing in a field</li><li>a couple of giraffes are standing in the grass</li><li>two giraffes are standing in a grassy field</li><li>a couple of giraffe standing next to each other</li></ol></td><td><ol><li>two giraffes standing next to each other in a field</li><li>two giraffes are standing in a grassy field</li><li>a couple of giraffes are standing in a field</li><li>a couple of giraffes are standing in the grass</li><li>two giraffes standing next to each other on a lush green field</li></ol></td></tr></table>"
      ],
      "text/plain": [
       "<IPython.core.display.HTML object>"
      ]
     },
     "metadata": {},
     "output_type": "display_data"
    },
    {
     "data": {
      "text/html": [
       "<table><tr><td><img width=300 src=\"val2014/COCO_val2014_000000040102.jpg\" ></img></td><td><img width=300 src=\"train2014/COCO_train2014_000000172426.jpg\" ></img></td></tr></table>"
      ],
      "text/plain": [
       "<IPython.core.display.HTML object>"
      ]
     },
     "metadata": {},
     "output_type": "display_data"
    },
    {
     "data": {
      "text/html": [
       "<table><tr><td><img width=300 src=\"train2014/COCO_train2014_000000196876.jpg\" ></img></td><td><img width=300 src=\"train2014/COCO_train2014_000000179896.jpg\" ></img></td><td><img width=300 src=\"val2014/COCO_val2014_000000411866.jpg\" ></img></td><td><img width=300 src=\"train2014/COCO_train2014_000000121351.jpg\" ></img></td><td><img width=300 src=\"train2014/COCO_train2014_000000238004.jpg\" ></img></td></tr><tr><td><b>0.2501</b></td><td><b>0.2078</b></td><td><b>0.1526</b></td><td><b>0.1452</b></td><td><b>0.0969</b></td></tr><tr><td><img width=300 src=\"val2014/COCO_val2014_000000446218.jpg\" ></img></td><td><img width=300 src=\"train2014/COCO_train2014_000000437677.jpg\" ></img></td><td><img width=300 src=\"val2014/COCO_val2014_000000473673.jpg\" ></img></td><td><img width=300 src=\"train2014/COCO_train2014_000000064797.jpg\" ></img></td><td><img width=300 src=\"train2014/COCO_train2014_000000094045.jpg\" ></img></td></tr><tr><td><b>0.0498</b></td><td><b>0.0441</b></td><td><b>0.0063</b></td><td><b>0.0061</b></td><td><b>0.0042</b></td></tr><tr><td><img width=300 src=\"train2014/COCO_train2014_000000257983.jpg\" ></img></td><td><img width=300 src=\"train2014/COCO_train2014_000000238713.jpg\" ></img></td><td><img width=300 src=\"val2014/COCO_val2014_000000366536.jpg\" ></img></td><td><img width=300 src=\"train2014/COCO_train2014_000000508969.jpg\" ></img></td><td><img width=300 src=\"train2014/COCO_train2014_000000021061.jpg\" ></img></td></tr><tr><td><b>0.0042</b></td><td><b>0.0042</b></td><td><b>0.0040</b></td><td><b>0.0037</b></td><td><b>0.0037</b></td></tr><tr><td><img width=300 src=\"train2014/COCO_train2014_000000466790.jpg\" ></img></td><td><img width=300 src=\"train2014/COCO_train2014_000000063587.jpg\" ></img></td><td><img width=300 src=\"val2014/COCO_val2014_000000022257.jpg\" ></img></td><td><img width=300 src=\"train2014/COCO_train2014_000000119529.jpg\" ></img></td><td><img width=300 src=\"train2014/COCO_train2014_000000172426.jpg\" ></img></td></tr><tr><td><b>0.0036</b></td><td><b>0.0035</b></td><td><b>0.0034</b></td><td><b>0.0034</b></td><td><b>0.0033</b></td></tr></table>"
      ],
      "text/plain": [
       "<IPython.core.display.HTML object>"
      ]
     },
     "metadata": {},
     "output_type": "display_data"
    },
    {
     "name": "stdout",
     "output_type": "stream",
     "text": [
      "\n"
     ]
    },
    {
     "data": {
      "text/html": [
       "<table><tr><td><img width=300 src=\"val2014/COCO_val2014_000000403020.jpg\" ></img></td><td><img width=300 src=\"val2014/COCO_val2014_000000403020.jpg\" ></img></td></tr><tr><td><b>normal</b></td><td><b>contrastive</b></td></tr><tr><td><ol><li>a giraffe laying on the ground next to a stone wall</li><li>a giraffe laying on the ground in the dirt</li><li>a giraffe laying on the ground in a zoo</li><li>a giraffe laying on the ground next to a building</li><li>a giraffe laying on the ground next to a rock</li></ol></td><td><ol><li>a giraffe laying on the ground next to a stone wall</li><li>a giraffe laying on the ground in the dirt</li><li>a giraffe laying on the ground in a zoo</li><li>a giraffe laying on the ground next to a building</li><li>a giraffe laying on the ground next to a rock</li></ol></td></tr></table>"
      ],
      "text/plain": [
       "<IPython.core.display.HTML object>"
      ]
     },
     "metadata": {},
     "output_type": "display_data"
    },
    {
     "data": {
      "text/html": [
       "<table><tr><td><img width=300 src=\"val2014/COCO_val2014_000000403020.jpg\" ></img></td><td><img width=300 src=\"val2014/COCO_val2014_000000494679.jpg\" ></img></td></tr></table>"
      ],
      "text/plain": [
       "<IPython.core.display.HTML object>"
      ]
     },
     "metadata": {},
     "output_type": "display_data"
    },
    {
     "data": {
      "text/html": [
       "<table><tr><td><img width=300 src=\"val2014/COCO_val2014_000000015335.jpg\" ></img></td><td><img width=300 src=\"train2014/COCO_train2014_000000455651.jpg\" ></img></td><td><img width=300 src=\"train2014/COCO_train2014_000000070230.jpg\" ></img></td><td><img width=300 src=\"train2014/COCO_train2014_000000115566.jpg\" ></img></td><td><img width=300 src=\"val2014/COCO_val2014_000000453862.jpg\" ></img></td></tr><tr><td><b>0.1475</b></td><td><b>0.1341</b></td><td><b>0.1327</b></td><td><b>0.1068</b></td><td><b>0.0916</b></td></tr><tr><td><img width=300 src=\"train2014/COCO_train2014_000000475372.jpg\" ></img></td><td><img width=300 src=\"train2014/COCO_train2014_000000039708.jpg\" ></img></td><td><img width=300 src=\"train2014/COCO_train2014_000000283199.jpg\" ></img></td><td><img width=300 src=\"train2014/COCO_train2014_000000238915.jpg\" ></img></td><td><img width=300 src=\"val2014/COCO_val2014_000000016776.jpg\" ></img></td></tr><tr><td><b>0.0866</b></td><td><b>0.0504</b></td><td><b>0.0452</b></td><td><b>0.0282</b></td><td><b>0.0252</b></td></tr><tr><td><img width=300 src=\"val2014/COCO_val2014_000000196650.jpg\" ></img></td><td><img width=300 src=\"train2014/COCO_train2014_000000532147.jpg\" ></img></td><td><img width=300 src=\"train2014/COCO_train2014_000000050101.jpg\" ></img></td><td><img width=300 src=\"train2014/COCO_train2014_000000334957.jpg\" ></img></td><td><img width=300 src=\"train2014/COCO_train2014_000000517045.jpg\" ></img></td></tr><tr><td><b>0.0195</b></td><td><b>0.0171</b></td><td><b>0.0167</b></td><td><b>0.0153</b></td><td><b>0.0146</b></td></tr><tr><td><img width=300 src=\"train2014/COCO_train2014_000000476871.jpg\" ></img></td><td><img width=300 src=\"val2014/COCO_val2014_000000134160.jpg\" ></img></td><td><img width=300 src=\"train2014/COCO_train2014_000000262098.jpg\" ></img></td><td><img width=300 src=\"train2014/COCO_train2014_000000067572.jpg\" ></img></td><td><img width=300 src=\"val2014/COCO_val2014_000000494679.jpg\" ></img></td></tr><tr><td><b>0.0145</b></td><td><b>0.0143</b></td><td><b>0.0142</b></td><td><b>0.0131</b></td><td><b>0.0123</b></td></tr></table>"
      ],
      "text/plain": [
       "<IPython.core.display.HTML object>"
      ]
     },
     "metadata": {},
     "output_type": "display_data"
    },
    {
     "name": "stdout",
     "output_type": "stream",
     "text": [
      "\n"
     ]
    },
    {
     "data": {
      "text/html": [
       "<table><tr><td><img width=300 src=\"val2014/COCO_val2014_000000505440.jpg\" ></img></td><td><img width=300 src=\"val2014/COCO_val2014_000000505440.jpg\" ></img></td></tr><tr><td><b>normal</b></td><td><b>contrastive</b></td></tr><tr><td><ol><li>a couple of giraffe standing on top of a lush green field</li><li>a couple of giraffes are standing in a field</li><li>two giraffes are standing in a grassy field</li><li>a couple of giraffe standing next to each other</li><li>a couple of giraffe standing next to each other in a field</li></ol></td><td><ol><li>two giraffes are standing in a grassy field</li><li>a couple of giraffe standing on top of a lush green field</li><li>a couple of giraffes are standing in a field</li><li>a couple of giraffes are standing in the grass</li><li>a couple of giraffe standing on top of a grass covered field</li></ol></td></tr></table>"
      ],
      "text/plain": [
       "<IPython.core.display.HTML object>"
      ]
     },
     "metadata": {},
     "output_type": "display_data"
    },
    {
     "data": {
      "text/html": [
       "<table><tr><td><img width=300 src=\"val2014/COCO_val2014_000000505440.jpg\" ></img></td><td><img width=300 src=\"train2014/COCO_train2014_000000427129.jpg\" ></img></td></tr></table>"
      ],
      "text/plain": [
       "<IPython.core.display.HTML object>"
      ]
     },
     "metadata": {},
     "output_type": "display_data"
    },
    {
     "data": {
      "text/html": [
       "<table><tr><td><img width=300 src=\"train2014/COCO_train2014_000000231677.jpg\" ></img></td><td><img width=300 src=\"train2014/COCO_train2014_000000433792.jpg\" ></img></td><td><img width=300 src=\"val2014/COCO_val2014_000000546428.jpg\" ></img></td><td><img width=300 src=\"train2014/COCO_train2014_000000230296.jpg\" ></img></td><td><img width=300 src=\"train2014/COCO_train2014_000000360271.jpg\" ></img></td></tr><tr><td><b>0.2395</b></td><td><b>0.1601</b></td><td><b>0.1578</b></td><td><b>0.1552</b></td><td><b>0.1109</b></td></tr><tr><td><img width=300 src=\"train2014/COCO_train2014_000000417006.jpg\" ></img></td><td><img width=300 src=\"train2014/COCO_train2014_000000516049.jpg\" ></img></td><td><img width=300 src=\"val2014/COCO_val2014_000000446409.jpg\" ></img></td><td><img width=300 src=\"train2014/COCO_train2014_000000259542.jpg\" ></img></td><td><img width=300 src=\"train2014/COCO_train2014_000000359189.jpg\" ></img></td></tr><tr><td><b>0.0503</b></td><td><b>0.0472</b></td><td><b>0.0317</b></td><td><b>0.0058</b></td><td><b>0.0051</b></td></tr><tr><td><img width=300 src=\"train2014/COCO_train2014_000000506078.jpg\" ></img></td><td><img width=300 src=\"train2014/COCO_train2014_000000031411.jpg\" ></img></td><td><img width=300 src=\"train2014/COCO_train2014_000000024095.jpg\" ></img></td><td><img width=300 src=\"train2014/COCO_train2014_000000021061.jpg\" ></img></td><td><img width=300 src=\"train2014/COCO_train2014_000000444464.jpg\" ></img></td></tr><tr><td><b>0.0047</b></td><td><b>0.0043</b></td><td><b>0.0040</b></td><td><b>0.0038</b></td><td><b>0.0036</b></td></tr><tr><td><img width=300 src=\"train2014/COCO_train2014_000000541264.jpg\" ></img></td><td><img width=300 src=\"train2014/COCO_train2014_000000119529.jpg\" ></img></td><td><img width=300 src=\"train2014/COCO_train2014_000000497194.jpg\" ></img></td><td><img width=300 src=\"train2014/COCO_train2014_000000340345.jpg\" ></img></td><td><img width=300 src=\"train2014/COCO_train2014_000000427129.jpg\" ></img></td></tr><tr><td><b>0.0034</b></td><td><b>0.0033</b></td><td><b>0.0031</b></td><td><b>0.0031</b></td><td><b>0.0029</b></td></tr></table>"
      ],
      "text/plain": [
       "<IPython.core.display.HTML object>"
      ]
     },
     "metadata": {},
     "output_type": "display_data"
    },
    {
     "name": "stdout",
     "output_type": "stream",
     "text": [
      "\n"
     ]
    },
    {
     "data": {
      "text/html": [
       "<table><tr><td><img width=300 src=\"val2014/COCO_val2014_000000029913.jpg\" ></img></td><td><img width=300 src=\"val2014/COCO_val2014_000000029913.jpg\" ></img></td></tr><tr><td><b>normal</b></td><td><b>contrastive</b></td></tr><tr><td><ol><li>a fire hydrant sitting on the side of a road</li><li>a fire hydrant sitting on the side of a street</li><li>a fire hydrant sitting on the side of the road</li><li>a fire hydrant sitting next to a parking meter</li><li>a fire hydrant sitting on the side of the street</li></ol></td><td><ol><li>a fire hydrant sitting on the side of a road</li><li>a fire hydrant sitting on the side of a street</li><li>a fire hydrant sitting on the side of the road</li><li>a fire hydrant sitting next to a parking meter</li><li>a fire hydrant sitting on the side of the street</li></ol></td></tr></table>"
      ],
      "text/plain": [
       "<IPython.core.display.HTML object>"
      ]
     },
     "metadata": {},
     "output_type": "display_data"
    },
    {
     "data": {
      "text/html": [
       "<table><tr><td><img width=300 src=\"val2014/COCO_val2014_000000029913.jpg\" ></img></td><td><img width=300 src=\"train2014/COCO_train2014_000000328662.jpg\" ></img></td></tr></table>"
      ],
      "text/plain": [
       "<IPython.core.display.HTML object>"
      ]
     },
     "metadata": {},
     "output_type": "display_data"
    },
    {
     "data": {
      "text/html": [
       "<table><tr><td><img width=300 src=\"val2014/COCO_val2014_000000258036.jpg\" ></img></td><td><img width=300 src=\"train2014/COCO_train2014_000000069145.jpg\" ></img></td><td><img width=300 src=\"train2014/COCO_train2014_000000413374.jpg\" ></img></td><td><img width=300 src=\"train2014/COCO_train2014_000000288263.jpg\" ></img></td><td><img width=300 src=\"train2014/COCO_train2014_000000035211.jpg\" ></img></td></tr><tr><td><b>0.2567</b></td><td><b>0.2333</b></td><td><b>0.1730</b></td><td><b>0.1194</b></td><td><b>0.0890</b></td></tr><tr><td><img width=300 src=\"train2014/COCO_train2014_000000330054.jpg\" ></img></td><td><img width=300 src=\"train2014/COCO_train2014_000000523267.jpg\" ></img></td><td><img width=300 src=\"train2014/COCO_train2014_000000396294.jpg\" ></img></td><td><img width=300 src=\"train2014/COCO_train2014_000000407688.jpg\" ></img></td><td><img width=300 src=\"train2014/COCO_train2014_000000110616.jpg\" ></img></td></tr><tr><td><b>0.0514</b></td><td><b>0.0454</b></td><td><b>0.0316</b></td><td><b>0.0001</b></td><td><b>0.0001</b></td></tr><tr><td><img width=300 src=\"train2014/COCO_train2014_000000016805.jpg\" ></img></td><td><img width=300 src=\"train2014/COCO_train2014_000000236769.jpg\" ></img></td><td><img width=300 src=\"train2014/COCO_train2014_000000517835.jpg\" ></img></td><td><img width=300 src=\"train2014/COCO_train2014_000000373898.jpg\" ></img></td><td><img width=300 src=\"train2014/COCO_train2014_000000359695.jpg\" ></img></td></tr><tr><td><b>0.0000</b></td><td><b>0.0000</b></td><td><b>0.0000</b></td><td><b>0.0000</b></td><td><b>0.0000</b></td></tr><tr><td><img width=300 src=\"train2014/COCO_train2014_000000262747.jpg\" ></img></td><td><img width=300 src=\"val2014/COCO_val2014_000000161010.jpg\" ></img></td><td><img width=300 src=\"train2014/COCO_train2014_000000490887.jpg\" ></img></td><td><img width=300 src=\"train2014/COCO_train2014_000000292283.jpg\" ></img></td><td><img width=300 src=\"train2014/COCO_train2014_000000328662.jpg\" ></img></td></tr><tr><td><b>0.0000</b></td><td><b>0.0000</b></td><td><b>0.0000</b></td><td><b>0.0000</b></td><td><b>0.0000</b></td></tr></table>"
      ],
      "text/plain": [
       "<IPython.core.display.HTML object>"
      ]
     },
     "metadata": {},
     "output_type": "display_data"
    },
    {
     "name": "stdout",
     "output_type": "stream",
     "text": [
      "\n"
     ]
    },
    {
     "data": {
      "text/html": [
       "<table><tr><td><img width=300 src=\"val2014/COCO_val2014_000000431573.jpg\" ></img></td><td><img width=300 src=\"val2014/COCO_val2014_000000431573.jpg\" ></img></td></tr><tr><td><b>normal</b></td><td><b>contrastive</b></td></tr><tr><td><ol><li>a fire hydrant spraying water from a fire hydrant</li><li>a fire hydrant spraying water into a fire hydrant</li><li>a fire hydrant spraying water in a park</li><li>a fire hydrant is spraying water from a fire hydrant</li><li>a red fire hydrant spraying water from a fire hydrant</li></ol></td><td><ol><li>a fire hydrant spraying water from a fire hydrant</li><li>a fire hydrant spraying water into a fire hydrant</li><li>a fire hydrant spraying water in a park</li><li>a fire hydrant is spraying water from a fire hydrant</li><li>a fire hydrant spraying water from a tree</li></ol></td></tr></table>"
      ],
      "text/plain": [
       "<IPython.core.display.HTML object>"
      ]
     },
     "metadata": {},
     "output_type": "display_data"
    },
    {
     "data": {
      "text/html": [
       "<table><tr><td><img width=300 src=\"val2014/COCO_val2014_000000431573.jpg\" ></img></td><td><img width=300 src=\"train2014/COCO_train2014_000000365648.jpg\" ></img></td></tr></table>"
      ],
      "text/plain": [
       "<IPython.core.display.HTML object>"
      ]
     },
     "metadata": {},
     "output_type": "display_data"
    },
    {
     "data": {
      "text/html": [
       "<table><tr><td><img width=300 src=\"val2014/COCO_val2014_000000198796.jpg\" ></img></td><td><img width=300 src=\"train2014/COCO_train2014_000000006578.jpg\" ></img></td><td><img width=300 src=\"train2014/COCO_train2014_000000272877.jpg\" ></img></td><td><img width=300 src=\"val2014/COCO_val2014_000000015994.jpg\" ></img></td><td><img width=300 src=\"val2014/COCO_val2014_000000425266.jpg\" ></img></td></tr><tr><td><b>0.2659</b></td><td><b>0.1404</b></td><td><b>0.1194</b></td><td><b>0.1102</b></td><td><b>0.0833</b></td></tr><tr><td><img width=300 src=\"train2014/COCO_train2014_000000529802.jpg\" ></img></td><td><img width=300 src=\"train2014/COCO_train2014_000000146492.jpg\" ></img></td><td><img width=300 src=\"val2014/COCO_val2014_000000187565.jpg\" ></img></td><td><img width=300 src=\"val2014/COCO_val2014_000000302512.jpg\" ></img></td><td><img width=300 src=\"val2014/COCO_val2014_000000515785.jpg\" ></img></td></tr><tr><td><b>0.0753</b></td><td><b>0.0692</b></td><td><b>0.0405</b></td><td><b>0.0222</b></td><td><b>0.0161</b></td></tr><tr><td><img width=300 src=\"val2014/COCO_val2014_000000522015.jpg\" ></img></td><td><img width=300 src=\"val2014/COCO_val2014_000000353551.jpg\" ></img></td><td><img width=300 src=\"train2014/COCO_train2014_000000536884.jpg\" ></img></td><td><img width=300 src=\"train2014/COCO_train2014_000000082523.jpg\" ></img></td><td><img width=300 src=\"train2014/COCO_train2014_000000068826.jpg\" ></img></td></tr><tr><td><b>0.0139</b></td><td><b>0.0120</b></td><td><b>0.0071</b></td><td><b>0.0059</b></td><td><b>0.0045</b></td></tr><tr><td><img width=300 src=\"train2014/COCO_train2014_000000027343.jpg\" ></img></td><td><img width=300 src=\"train2014/COCO_train2014_000000148318.jpg\" ></img></td><td><img width=300 src=\"train2014/COCO_train2014_000000430144.jpg\" ></img></td><td><img width=300 src=\"val2014/COCO_val2014_000000127455.jpg\" ></img></td><td><img width=300 src=\"train2014/COCO_train2014_000000365648.jpg\" ></img></td></tr><tr><td><b>0.0038</b></td><td><b>0.0038</b></td><td><b>0.0037</b></td><td><b>0.0023</b></td><td><b>0.0005</b></td></tr></table>"
      ],
      "text/plain": [
       "<IPython.core.display.HTML object>"
      ]
     },
     "metadata": {},
     "output_type": "display_data"
    },
    {
     "name": "stdout",
     "output_type": "stream",
     "text": [
      "\n"
     ]
    },
    {
     "data": {
      "text/html": [
       "<table><tr><td><img width=300 src=\"val2014/COCO_val2014_000000332654.jpg\" ></img></td><td><img width=300 src=\"val2014/COCO_val2014_000000332654.jpg\" ></img></td></tr><tr><td><b>normal</b></td><td><b>contrastive</b></td></tr><tr><td><ol><li>a yellow fire hydrant sitting on the side of a road</li><li>a yellow fire hydrant on a city street</li><li>a yellow fire hydrant sitting on the side of a street</li><li>a yellow fire hydrant sitting next to a street</li><li>a yellow and blue fire hydrant sitting on the side of a road</li></ol></td><td><ol><li>a yellow fire hydrant sitting on the side of a road</li><li>a yellow fire hydrant on a city street</li><li>a yellow fire hydrant sitting on the side of a street</li><li>a yellow fire hydrant sitting next to a street</li><li>a yellow and blue fire hydrant sitting on the side of a road</li></ol></td></tr></table>"
      ],
      "text/plain": [
       "<IPython.core.display.HTML object>"
      ]
     },
     "metadata": {},
     "output_type": "display_data"
    },
    {
     "data": {
      "text/html": [
       "<table><tr><td><img width=300 src=\"val2014/COCO_val2014_000000332654.jpg\" ></img></td><td><img width=300 src=\"val2014/COCO_val2014_000000091909.jpg\" ></img></td></tr></table>"
      ],
      "text/plain": [
       "<IPython.core.display.HTML object>"
      ]
     },
     "metadata": {},
     "output_type": "display_data"
    },
    {
     "data": {
      "text/html": [
       "<table><tr><td><img width=300 src=\"train2014/COCO_train2014_000000014168.jpg\" ></img></td><td><img width=300 src=\"train2014/COCO_train2014_000000160743.jpg\" ></img></td><td><img width=300 src=\"val2014/COCO_val2014_000000307784.jpg\" ></img></td><td><img width=300 src=\"train2014/COCO_train2014_000000159457.jpg\" ></img></td><td><img width=300 src=\"train2014/COCO_train2014_000000480121.jpg\" ></img></td></tr><tr><td><b>0.2410</b></td><td><b>0.1453</b></td><td><b>0.1164</b></td><td><b>0.1124</b></td><td><b>0.1074</b></td></tr><tr><td><img width=300 src=\"train2014/COCO_train2014_000000352802.jpg\" ></img></td><td><img width=300 src=\"val2014/COCO_val2014_000000512240.jpg\" ></img></td><td><img width=300 src=\"train2014/COCO_train2014_000000308191.jpg\" ></img></td><td><img width=300 src=\"val2014/COCO_val2014_000000256672.jpg\" ></img></td><td><img width=300 src=\"val2014/COCO_val2014_000000498709.jpg\" ></img></td></tr><tr><td><b>0.0972</b></td><td><b>0.0952</b></td><td><b>0.0844</b></td><td><b>0.0005</b></td><td><b>0.0001</b></td></tr><tr><td><img width=300 src=\"val2014/COCO_val2014_000000190664.jpg\" ></img></td><td><img width=300 src=\"val2014/COCO_val2014_000000088432.jpg\" ></img></td><td><img width=300 src=\"train2014/COCO_train2014_000000236769.jpg\" ></img></td><td><img width=300 src=\"val2014/COCO_val2014_000000338560.jpg\" ></img></td><td><img width=300 src=\"train2014/COCO_train2014_000000403270.jpg\" ></img></td></tr><tr><td><b>0.0000</b></td><td><b>0.0000</b></td><td><b>0.0000</b></td><td><b>0.0000</b></td><td><b>0.0000</b></td></tr><tr><td><img width=300 src=\"train2014/COCO_train2014_000000532482.jpg\" ></img></td><td><img width=300 src=\"train2014/COCO_train2014_000000383158.jpg\" ></img></td><td><img width=300 src=\"train2014/COCO_train2014_000000316993.jpg\" ></img></td><td><img width=300 src=\"train2014/COCO_train2014_000000336040.jpg\" ></img></td><td><img width=300 src=\"val2014/COCO_val2014_000000091909.jpg\" ></img></td></tr><tr><td><b>0.0000</b></td><td><b>0.0000</b></td><td><b>0.0000</b></td><td><b>0.0000</b></td><td><b>0.0000</b></td></tr></table>"
      ],
      "text/plain": [
       "<IPython.core.display.HTML object>"
      ]
     },
     "metadata": {},
     "output_type": "display_data"
    },
    {
     "name": "stdout",
     "output_type": "stream",
     "text": [
      "\n"
     ]
    },
    {
     "data": {
      "text/html": [
       "<table><tr><td><img width=300 src=\"val2014/COCO_val2014_000000176649.jpg\" ></img></td><td><img width=300 src=\"val2014/COCO_val2014_000000176649.jpg\" ></img></td></tr><tr><td><b>normal</b></td><td><b>contrastive</b></td></tr><tr><td><ol><li>a close up of a street sign on a pole</li><li>a close up of a street sign with a sky background</li><li>a close up of a street sign on a street</li><li>a close up of a street sign with a blue sky</li><li>a close up of a street sign with a street sign</li></ol></td><td><ol><li>a close up of a street sign on a pole</li><li>a close up of a street sign with a sky background</li><li>a close up of a street sign on a street</li><li>a close up of a street sign with a blue sky</li><li>a close up of a street sign with a street sign</li></ol></td></tr></table>"
      ],
      "text/plain": [
       "<IPython.core.display.HTML object>"
      ]
     },
     "metadata": {},
     "output_type": "display_data"
    },
    {
     "data": {
      "text/html": [
       "<table><tr><td><img width=300 src=\"val2014/COCO_val2014_000000176649.jpg\" ></img></td><td><img width=300 src=\"val2014/COCO_val2014_000000398884.jpg\" ></img></td></tr></table>"
      ],
      "text/plain": [
       "<IPython.core.display.HTML object>"
      ]
     },
     "metadata": {},
     "output_type": "display_data"
    },
    {
     "data": {
      "text/html": [
       "<table><tr><td><img width=300 src=\"train2014/COCO_train2014_000000375926.jpg\" ></img></td><td><img width=300 src=\"train2014/COCO_train2014_000000526896.jpg\" ></img></td><td><img width=300 src=\"val2014/COCO_val2014_000000123213.jpg\" ></img></td><td><img width=300 src=\"train2014/COCO_train2014_000000132564.jpg\" ></img></td><td><img width=300 src=\"train2014/COCO_train2014_000000154616.jpg\" ></img></td></tr><tr><td><b>0.2091</b></td><td><b>0.1978</b></td><td><b>0.1459</b></td><td><b>0.1065</b></td><td><b>0.1048</b></td></tr><tr><td><img width=300 src=\"train2014/COCO_train2014_000000484313.jpg\" ></img></td><td><img width=300 src=\"train2014/COCO_train2014_000000404266.jpg\" ></img></td><td><img width=300 src=\"train2014/COCO_train2014_000000135577.jpg\" ></img></td><td><img width=300 src=\"val2014/COCO_val2014_000000325368.jpg\" ></img></td><td><img width=300 src=\"train2014/COCO_train2014_000000071217.jpg\" ></img></td></tr><tr><td><b>0.0810</b></td><td><b>0.0673</b></td><td><b>0.0569</b></td><td><b>0.0119</b></td><td><b>0.0052</b></td></tr><tr><td><img width=300 src=\"train2014/COCO_train2014_000000389190.jpg\" ></img></td><td><img width=300 src=\"train2014/COCO_train2014_000000038435.jpg\" ></img></td><td><img width=300 src=\"train2014/COCO_train2014_000000112207.jpg\" ></img></td><td><img width=300 src=\"val2014/COCO_val2014_000000136411.jpg\" ></img></td><td><img width=300 src=\"val2014/COCO_val2014_000000226128.jpg\" ></img></td></tr><tr><td><b>0.0052</b></td><td><b>0.0037</b></td><td><b>0.0011</b></td><td><b>0.0011</b></td><td><b>0.0009</b></td></tr><tr><td><img width=300 src=\"train2014/COCO_train2014_000000009176.jpg\" ></img></td><td><img width=300 src=\"train2014/COCO_train2014_000000208413.jpg\" ></img></td><td><img width=300 src=\"train2014/COCO_train2014_000000247547.jpg\" ></img></td><td><img width=300 src=\"train2014/COCO_train2014_000000037458.jpg\" ></img></td><td><img width=300 src=\"val2014/COCO_val2014_000000398884.jpg\" ></img></td></tr><tr><td><b>0.0008</b></td><td><b>0.0004</b></td><td><b>0.0004</b></td><td><b>0.0002</b></td><td><b>0.0000</b></td></tr></table>"
      ],
      "text/plain": [
       "<IPython.core.display.HTML object>"
      ]
     },
     "metadata": {},
     "output_type": "display_data"
    },
    {
     "name": "stdout",
     "output_type": "stream",
     "text": [
      "\n"
     ]
    }
   ],
   "source": [
    "# cbs, no EM training\n",
    "# display_em_model(batch, k=20, neighbor_types=['random', 'closest'], choose_distractor=True)\n",
    "display_em_model(next(loader.iters['val']), k=10, neighbor_types=['closest', 'random'], choose_distractor=True, distractor_selection_method='min')"
   ]
  },
  {
   "cell_type": "code",
   "execution_count": 90,
   "metadata": {
    "scrolled": false
   },
   "outputs": [
    {
     "data": {
      "text/html": [
       "<table><tr><td><img width=300 src=\"val2014/COCO_val2014_000000310391.jpg\" ></img></td><td><img width=300 src=\"val2014/COCO_val2014_000000310391.jpg\" ></img></td></tr><tr><td><b>normal</b></td><td><b>contrastive</b></td></tr><tr><td><ol><li>a green truck parked in a grassy field</li><li>a green truck is parked on the grass</li><li>a green truck is parked in a field</li><li>a green truck is parked in a grassy field</li><li>a green truck parked in a field with people in the background</li></ol></td><td><ol><li>a blue truck is parked in the grass</li><li>a blue truck parked on top of a lush green field</li><li>a blue truck parked on top of a green field</li><li>a blue truck is parked in a grassy field</li><li>a blue truck parked on top of a grass covered field</li></ol></td></tr></table>"
      ],
      "text/plain": [
       "<IPython.core.display.HTML object>"
      ]
     },
     "metadata": {},
     "output_type": "display_data"
    },
    {
     "data": {
      "text/html": [
       "<table><tr><td><img width=300 src=\"val2014/COCO_val2014_000000310391.jpg\" ></img></td><td><img width=300 src=\"train2014/COCO_train2014_000000496874.jpg\" ></img></td></tr></table>"
      ],
      "text/plain": [
       "<IPython.core.display.HTML object>"
      ]
     },
     "metadata": {},
     "output_type": "display_data"
    },
    {
     "data": {
      "text/html": [
       "<table><tr><td><img width=300 src=\"train2014/COCO_train2014_000000224753.jpg\" ></img></td><td><img width=300 src=\"train2014/COCO_train2014_000000355987.jpg\" ></img></td><td><img width=300 src=\"train2014/COCO_train2014_000000496874.jpg\" ></img></td><td><img width=300 src=\"train2014/COCO_train2014_000000044491.jpg\" ></img></td><td><img width=300 src=\"train2014/COCO_train2014_000000079563.jpg\" ></img></td></tr><tr><td><b>0.0914</b></td><td><b>0.0955</b></td><td><b>0.1102</b></td><td><b>0.1009</b></td><td><b>0.1020</b></td></tr><tr><td><img width=300 src=\"train2014/COCO_train2014_000000401235.jpg\" ></img></td><td><img width=300 src=\"val2014/COCO_val2014_000000235788.jpg\" ></img></td><td><img width=300 src=\"train2014/COCO_train2014_000000419645.jpg\" ></img></td><td><img width=300 src=\"val2014/COCO_val2014_000000503765.jpg\" ></img></td><td><img width=300 src=\"val2014/COCO_val2014_000000516798.jpg\" ></img></td></tr><tr><td><b>0.1002</b></td><td><b>0.1012</b></td><td><b>0.1019</b></td><td><b>0.0963</b></td><td><b>0.1005</b></td></tr></table>"
      ],
      "text/plain": [
       "<IPython.core.display.HTML object>"
      ]
     },
     "metadata": {},
     "output_type": "display_data"
    },
    {
     "name": "stdout",
     "output_type": "stream",
     "text": [
      "\n"
     ]
    },
    {
     "data": {
      "text/html": [
       "<table><tr><td><img width=300 src=\"val2014/COCO_val2014_000000241876.jpg\" ></img></td><td><img width=300 src=\"val2014/COCO_val2014_000000241876.jpg\" ></img></td></tr><tr><td><b>normal</b></td><td><b>contrastive</b></td></tr><tr><td><ol><li>a cat drinking water out of a toilet</li><li>a cat drinking water from a toilet bowl</li><li>a black cat drinking water from a toilet</li><li>a cat is drinking water from a toilet</li><li>a black cat drinking water out of a toilet</li></ol></td><td><ol><li>a cat drinking water out of a toilet</li><li>a black cat drinking water from a toilet</li><li>a cat drinking water from a toilet bowl</li><li>a black cat drinking water out of a toilet</li><li>a cat drinking water from a toilet in a bathroom</li></ol></td></tr></table>"
      ],
      "text/plain": [
       "<IPython.core.display.HTML object>"
      ]
     },
     "metadata": {},
     "output_type": "display_data"
    },
    {
     "data": {
      "text/html": [
       "<table><tr><td><img width=300 src=\"val2014/COCO_val2014_000000241876.jpg\" ></img></td><td><img width=300 src=\"train2014/COCO_train2014_000000225713.jpg\" ></img></td></tr></table>"
      ],
      "text/plain": [
       "<IPython.core.display.HTML object>"
      ]
     },
     "metadata": {},
     "output_type": "display_data"
    },
    {
     "data": {
      "text/html": [
       "<table><tr><td><img width=300 src=\"train2014/COCO_train2014_000000012102.jpg\" ></img></td><td><img width=300 src=\"val2014/COCO_val2014_000000098302.jpg\" ></img></td><td><img width=300 src=\"train2014/COCO_train2014_000000473793.jpg\" ></img></td><td><img width=300 src=\"train2014/COCO_train2014_000000447985.jpg\" ></img></td><td><img width=300 src=\"train2014/COCO_train2014_000000382056.jpg\" ></img></td></tr><tr><td><b>0.1009</b></td><td><b>0.1009</b></td><td><b>0.0912</b></td><td><b>0.0988</b></td><td><b>0.0875</b></td></tr><tr><td><img width=300 src=\"val2014/COCO_val2014_000000562289.jpg\" ></img></td><td><img width=300 src=\"train2014/COCO_train2014_000000126810.jpg\" ></img></td><td><img width=300 src=\"train2014/COCO_train2014_000000479780.jpg\" ></img></td><td><img width=300 src=\"train2014/COCO_train2014_000000012315.jpg\" ></img></td><td><img width=300 src=\"train2014/COCO_train2014_000000225713.jpg\" ></img></td></tr><tr><td><b>0.1075</b></td><td><b>0.1000</b></td><td><b>0.0969</b></td><td><b>0.1081</b></td><td><b>0.1081</b></td></tr></table>"
      ],
      "text/plain": [
       "<IPython.core.display.HTML object>"
      ]
     },
     "metadata": {},
     "output_type": "display_data"
    },
    {
     "name": "stdout",
     "output_type": "stream",
     "text": [
      "\n"
     ]
    },
    {
     "data": {
      "text/html": [
       "<table><tr><td><img width=300 src=\"val2014/COCO_val2014_000000462341.jpg\" ></img></td><td><img width=300 src=\"val2014/COCO_val2014_000000462341.jpg\" ></img></td></tr><tr><td><b>normal</b></td><td><b>contrastive</b></td></tr><tr><td><ol><li>a building with a clock on the top of it</li><li>a tall clock tower with a clock on it</li><li>a tall clock tower with a clock on its side</li><li>a clock tower with a clock on the top of it</li><li>a tall clock tower with a clock on the top</li></ol></td><td><ol><li>a tall clock tower with a clock on it</li><li>a building with a clock on the top of it</li><li>a tall clock tower with a clock on top</li><li>a tall clock tower with a clock on its side</li><li>a tall clock tower with a clock on the top</li></ol></td></tr></table>"
      ],
      "text/plain": [
       "<IPython.core.display.HTML object>"
      ]
     },
     "metadata": {},
     "output_type": "display_data"
    },
    {
     "data": {
      "text/html": [
       "<table><tr><td><img width=300 src=\"val2014/COCO_val2014_000000462341.jpg\" ></img></td><td><img width=300 src=\"val2014/COCO_val2014_000000050965.jpg\" ></img></td></tr></table>"
      ],
      "text/plain": [
       "<IPython.core.display.HTML object>"
      ]
     },
     "metadata": {},
     "output_type": "display_data"
    },
    {
     "data": {
      "text/html": [
       "<table><tr><td><img width=300 src=\"train2014/COCO_train2014_000000103513.jpg\" ></img></td><td><img width=300 src=\"train2014/COCO_train2014_000000452259.jpg\" ></img></td><td><img width=300 src=\"val2014/COCO_val2014_000000578786.jpg\" ></img></td><td><img width=300 src=\"train2014/COCO_train2014_000000450426.jpg\" ></img></td><td><img width=300 src=\"train2014/COCO_train2014_000000347312.jpg\" ></img></td></tr><tr><td><b>0.0982</b></td><td><b>0.0995</b></td><td><b>0.0973</b></td><td><b>0.0970</b></td><td><b>0.1040</b></td></tr><tr><td><img width=300 src=\"train2014/COCO_train2014_000000506910.jpg\" ></img></td><td><img width=300 src=\"train2014/COCO_train2014_000000481042.jpg\" ></img></td><td><img width=300 src=\"val2014/COCO_val2014_000000050965.jpg\" ></img></td><td><img width=300 src=\"train2014/COCO_train2014_000000345357.jpg\" ></img></td><td><img width=300 src=\"train2014/COCO_train2014_000000021945.jpg\" ></img></td></tr><tr><td><b>0.1006</b></td><td><b>0.0982</b></td><td><b>0.1069</b></td><td><b>0.1035</b></td><td><b>0.0948</b></td></tr></table>"
      ],
      "text/plain": [
       "<IPython.core.display.HTML object>"
      ]
     },
     "metadata": {},
     "output_type": "display_data"
    },
    {
     "name": "stdout",
     "output_type": "stream",
     "text": [
      "\n"
     ]
    },
    {
     "data": {
      "text/html": [
       "<table><tr><td><img width=300 src=\"val2014/COCO_val2014_000000268556.jpg\" ></img></td><td><img width=300 src=\"val2014/COCO_val2014_000000268556.jpg\" ></img></td></tr><tr><td><b>normal</b></td><td><b>contrastive</b></td></tr><tr><td><ol><li>a woman riding a motorcycle down a street</li><li>a woman is riding a motorcycle down the street</li><li>a woman riding a motorcycle down a city street</li><li>a woman riding on the back of a motorcycle down a street</li><li>a person riding a motorcycle down a street</li></ol></td><td><ol><li>a woman riding a motorcycle down a street</li><li>a woman is riding a motorcycle down the street</li><li>a woman riding on the back of a motorcycle down a street</li><li>a woman riding a motorcycle down a city street</li><li>a woman riding a motorcycle down the street</li></ol></td></tr></table>"
      ],
      "text/plain": [
       "<IPython.core.display.HTML object>"
      ]
     },
     "metadata": {},
     "output_type": "display_data"
    },
    {
     "data": {
      "text/html": [
       "<table><tr><td><img width=300 src=\"val2014/COCO_val2014_000000268556.jpg\" ></img></td><td><img width=300 src=\"train2014/COCO_train2014_000000148727.jpg\" ></img></td></tr></table>"
      ],
      "text/plain": [
       "<IPython.core.display.HTML object>"
      ]
     },
     "metadata": {},
     "output_type": "display_data"
    },
    {
     "data": {
      "text/html": [
       "<table><tr><td><img width=300 src=\"val2014/COCO_val2014_000000045110.jpg\" ></img></td><td><img width=300 src=\"train2014/COCO_train2014_000000482252.jpg\" ></img></td><td><img width=300 src=\"train2014/COCO_train2014_000000540840.jpg\" ></img></td><td><img width=300 src=\"train2014/COCO_train2014_000000174354.jpg\" ></img></td><td><img width=300 src=\"train2014/COCO_train2014_000000255604.jpg\" ></img></td></tr><tr><td><b>0.1060</b></td><td><b>0.0987</b></td><td><b>0.1016</b></td><td><b>0.1040</b></td><td><b>0.0863</b></td></tr><tr><td><img width=300 src=\"val2014/COCO_val2014_000000007325.jpg\" ></img></td><td><img width=300 src=\"val2014/COCO_val2014_000000340778.jpg\" ></img></td><td><img width=300 src=\"val2014/COCO_val2014_000000175831.jpg\" ></img></td><td><img width=300 src=\"train2014/COCO_train2014_000000366430.jpg\" ></img></td><td><img width=300 src=\"train2014/COCO_train2014_000000148727.jpg\" ></img></td></tr><tr><td><b>0.1045</b></td><td><b>0.0995</b></td><td><b>0.0924</b></td><td><b>0.0977</b></td><td><b>0.1092</b></td></tr></table>"
      ],
      "text/plain": [
       "<IPython.core.display.HTML object>"
      ]
     },
     "metadata": {},
     "output_type": "display_data"
    },
    {
     "name": "stdout",
     "output_type": "stream",
     "text": [
      "\n"
     ]
    },
    {
     "data": {
      "text/html": [
       "<table><tr><td><img width=300 src=\"val2014/COCO_val2014_000000386912.jpg\" ></img></td><td><img width=300 src=\"val2014/COCO_val2014_000000386912.jpg\" ></img></td></tr><tr><td><b>normal</b></td><td><b>contrastive</b></td></tr><tr><td><ol><li>a woman sitting at a desk with a laptop</li><li>a woman sitting at a desk with a computer</li><li>a woman sitting at a desk in a room</li><li>a woman sitting at a desk with a laptop computer</li><li>a woman sitting at a desk in front of a computer</li></ol></td><td><ol><li>a woman sitting at a desk with a laptop</li><li>a woman sitting at a desk with a computer</li><li>a woman sitting at a desk in a room</li><li>a woman sitting at a desk with a laptop computer</li><li>a woman sitting at a desk in front of a computer</li></ol></td></tr></table>"
      ],
      "text/plain": [
       "<IPython.core.display.HTML object>"
      ]
     },
     "metadata": {},
     "output_type": "display_data"
    },
    {
     "data": {
      "text/html": [
       "<table><tr><td><img width=300 src=\"val2014/COCO_val2014_000000386912.jpg\" ></img></td><td><img width=300 src=\"train2014/COCO_train2014_000000275997.jpg\" ></img></td></tr></table>"
      ],
      "text/plain": [
       "<IPython.core.display.HTML object>"
      ]
     },
     "metadata": {},
     "output_type": "display_data"
    },
    {
     "data": {
      "text/html": [
       "<table><tr><td><img width=300 src=\"train2014/COCO_train2014_000000272647.jpg\" ></img></td><td><img width=300 src=\"train2014/COCO_train2014_000000336839.jpg\" ></img></td><td><img width=300 src=\"train2014/COCO_train2014_000000275997.jpg\" ></img></td><td><img width=300 src=\"val2014/COCO_val2014_000000121586.jpg\" ></img></td><td><img width=300 src=\"train2014/COCO_train2014_000000563391.jpg\" ></img></td></tr><tr><td><b>0.0954</b></td><td><b>0.0914</b></td><td><b>0.1084</b></td><td><b>0.0954</b></td><td><b>0.1059</b></td></tr><tr><td><img width=300 src=\"train2014/COCO_train2014_000000096723.jpg\" ></img></td><td><img width=300 src=\"train2014/COCO_train2014_000000136185.jpg\" ></img></td><td><img width=300 src=\"train2014/COCO_train2014_000000003685.jpg\" ></img></td><td><img width=300 src=\"train2014/COCO_train2014_000000031587.jpg\" ></img></td><td><img width=300 src=\"train2014/COCO_train2014_000000497010.jpg\" ></img></td></tr><tr><td><b>0.1052</b></td><td><b>0.1079</b></td><td><b>0.0906</b></td><td><b>0.1012</b></td><td><b>0.0986</b></td></tr></table>"
      ],
      "text/plain": [
       "<IPython.core.display.HTML object>"
      ]
     },
     "metadata": {},
     "output_type": "display_data"
    },
    {
     "name": "stdout",
     "output_type": "stream",
     "text": [
      "\n"
     ]
    },
    {
     "data": {
      "text/html": [
       "<table><tr><td><img width=300 src=\"val2014/COCO_val2014_000000074331.jpg\" ></img></td><td><img width=300 src=\"val2014/COCO_val2014_000000074331.jpg\" ></img></td></tr><tr><td><b>normal</b></td><td><b>contrastive</b></td></tr><tr><td><ol><li>a bunch of bananas that are in a basket</li><li>a bunch of bananas are in a basket</li><li>a bunch of bananas that are in a box</li><li>a bunch of bananas that are sitting in a basket</li><li>a bunch of bananas that are sitting on a shelf</li></ol></td><td><ol><li>a bunch of bananas that are in a basket</li><li>a bunch of bananas are in a basket</li><li>a bunch of bananas that are in a box</li><li>a bunch of bananas that are sitting in a basket</li><li>a bunch of bananas that are sitting on a shelf</li></ol></td></tr></table>"
      ],
      "text/plain": [
       "<IPython.core.display.HTML object>"
      ]
     },
     "metadata": {},
     "output_type": "display_data"
    },
    {
     "data": {
      "text/html": [
       "<table><tr><td><img width=300 src=\"val2014/COCO_val2014_000000074331.jpg\" ></img></td><td><img width=300 src=\"val2014/COCO_val2014_000000114504.jpg\" ></img></td></tr></table>"
      ],
      "text/plain": [
       "<IPython.core.display.HTML object>"
      ]
     },
     "metadata": {},
     "output_type": "display_data"
    },
    {
     "data": {
      "text/html": [
       "<table><tr><td><img width=300 src=\"train2014/COCO_train2014_000000537862.jpg\" ></img></td><td><img width=300 src=\"train2014/COCO_train2014_000000110886.jpg\" ></img></td><td><img width=300 src=\"train2014/COCO_train2014_000000436354.jpg\" ></img></td><td><img width=300 src=\"train2014/COCO_train2014_000000259297.jpg\" ></img></td><td><img width=300 src=\"train2014/COCO_train2014_000000544687.jpg\" ></img></td></tr><tr><td><b>0.0977</b></td><td><b>0.0982</b></td><td><b>0.0973</b></td><td><b>0.1001</b></td><td><b>0.1074</b></td></tr><tr><td><img width=300 src=\"train2014/COCO_train2014_000000514902.jpg\" ></img></td><td><img width=300 src=\"val2014/COCO_val2014_000000504541.jpg\" ></img></td><td><img width=300 src=\"train2014/COCO_train2014_000000332891.jpg\" ></img></td><td><img width=300 src=\"val2014/COCO_val2014_000000114504.jpg\" ></img></td><td><img width=300 src=\"train2014/COCO_train2014_000000364748.jpg\" ></img></td></tr><tr><td><b>0.0994</b></td><td><b>0.0981</b></td><td><b>0.0851</b></td><td><b>0.1103</b></td><td><b>0.1065</b></td></tr></table>"
      ],
      "text/plain": [
       "<IPython.core.display.HTML object>"
      ]
     },
     "metadata": {},
     "output_type": "display_data"
    },
    {
     "name": "stdout",
     "output_type": "stream",
     "text": [
      "\n"
     ]
    },
    {
     "data": {
      "text/html": [
       "<table><tr><td><img width=300 src=\"val2014/COCO_val2014_000000078371.jpg\" ></img></td><td><img width=300 src=\"val2014/COCO_val2014_000000078371.jpg\" ></img></td></tr><tr><td><b>normal</b></td><td><b>contrastive</b></td></tr><tr><td><ol><li>a small airplane sitting on top of a runway</li><li>a small airplane sitting on top of an airport runway</li><li>a small airplane sitting on top of an airport tarmac</li><li>a small airplane sitting on top of a tarmac</li><li>a small propeller plane sitting on top of an airport runway</li></ol></td><td><ol><li>a propeller plane sitting on top of an airport tarmac</li><li>a propeller plane sitting on top of an airport runway</li><li>a propeller plane sitting on top of a tarmac</li><li>a propeller plane sitting on top of a runway</li><li>a propeller plane is parked on a runway</li></ol></td></tr></table>"
      ],
      "text/plain": [
       "<IPython.core.display.HTML object>"
      ]
     },
     "metadata": {},
     "output_type": "display_data"
    },
    {
     "data": {
      "text/html": [
       "<table><tr><td><img width=300 src=\"val2014/COCO_val2014_000000078371.jpg\" ></img></td><td><img width=300 src=\"train2014/COCO_train2014_000000250920.jpg\" ></img></td></tr></table>"
      ],
      "text/plain": [
       "<IPython.core.display.HTML object>"
      ]
     },
     "metadata": {},
     "output_type": "display_data"
    },
    {
     "data": {
      "text/html": [
       "<table><tr><td><img width=300 src=\"train2014/COCO_train2014_000000427803.jpg\" ></img></td><td><img width=300 src=\"val2014/COCO_val2014_000000437370.jpg\" ></img></td><td><img width=300 src=\"val2014/COCO_val2014_000000024790.jpg\" ></img></td><td><img width=300 src=\"train2014/COCO_train2014_000000050294.jpg\" ></img></td><td><img width=300 src=\"train2014/COCO_train2014_000000101626.jpg\" ></img></td></tr><tr><td><b>0.0880</b></td><td><b>0.1076</b></td><td><b>0.1038</b></td><td><b>0.0949</b></td><td><b>0.1060</b></td></tr><tr><td><img width=300 src=\"val2014/COCO_val2014_000000395849.jpg\" ></img></td><td><img width=300 src=\"val2014/COCO_val2014_000000109045.jpg\" ></img></td><td><img width=300 src=\"val2014/COCO_val2014_000000515043.jpg\" ></img></td><td><img width=300 src=\"train2014/COCO_train2014_000000250920.jpg\" ></img></td><td><img width=300 src=\"train2014/COCO_train2014_000000255728.jpg\" ></img></td></tr><tr><td><b>0.0987</b></td><td><b>0.1023</b></td><td><b>0.0956</b></td><td><b>0.1099</b></td><td><b>0.0932</b></td></tr></table>"
      ],
      "text/plain": [
       "<IPython.core.display.HTML object>"
      ]
     },
     "metadata": {},
     "output_type": "display_data"
    },
    {
     "name": "stdout",
     "output_type": "stream",
     "text": [
      "\n"
     ]
    },
    {
     "data": {
      "text/html": [
       "<table><tr><td><img width=300 src=\"val2014/COCO_val2014_000000052759.jpg\" ></img></td><td><img width=300 src=\"val2014/COCO_val2014_000000052759.jpg\" ></img></td></tr><tr><td><b>normal</b></td><td><b>contrastive</b></td></tr><tr><td><ol><li>a large jet sitting on top of an airport tarmac</li><li>a large jet sitting on top of an airport runway</li><li>an airplane parked on the tarmac at an airport</li><li>a large jet sitting on top of a tarmac</li><li>a large jet sitting on top of a airport tarmac</li></ol></td><td><ol><li>several airplanes parked on the tarmac at an airport</li><li>two airplanes parked on the tarmac at an airport</li><li>several airplanes are parked at an airport terminal</li><li>several airplanes are parked on the tarmac at an airport</li><li>two airplanes are parked on the tarmac at an airport</li></ol></td></tr></table>"
      ],
      "text/plain": [
       "<IPython.core.display.HTML object>"
      ]
     },
     "metadata": {},
     "output_type": "display_data"
    },
    {
     "data": {
      "text/html": [
       "<table><tr><td><img width=300 src=\"val2014/COCO_val2014_000000052759.jpg\" ></img></td><td><img width=300 src=\"train2014/COCO_train2014_000000252132.jpg\" ></img></td></tr></table>"
      ],
      "text/plain": [
       "<IPython.core.display.HTML object>"
      ]
     },
     "metadata": {},
     "output_type": "display_data"
    },
    {
     "data": {
      "text/html": [
       "<table><tr><td><img width=300 src=\"train2014/COCO_train2014_000000518305.jpg\" ></img></td><td><img width=300 src=\"val2014/COCO_val2014_000000289173.jpg\" ></img></td><td><img width=300 src=\"train2014/COCO_train2014_000000581797.jpg\" ></img></td><td><img width=300 src=\"train2014/COCO_train2014_000000387161.jpg\" ></img></td><td><img width=300 src=\"val2014/COCO_val2014_000000513681.jpg\" ></img></td></tr><tr><td><b>0.1059</b></td><td><b>0.0886</b></td><td><b>0.1075</b></td><td><b>0.1036</b></td><td><b>0.0966</b></td></tr><tr><td><img width=300 src=\"train2014/COCO_train2014_000000322350.jpg\" ></img></td><td><img width=300 src=\"train2014/COCO_train2014_000000421314.jpg\" ></img></td><td><img width=300 src=\"train2014/COCO_train2014_000000190338.jpg\" ></img></td><td><img width=300 src=\"train2014/COCO_train2014_000000538285.jpg\" ></img></td><td><img width=300 src=\"train2014/COCO_train2014_000000252132.jpg\" ></img></td></tr><tr><td><b>0.0965</b></td><td><b>0.0937</b></td><td><b>0.1021</b></td><td><b>0.0959</b></td><td><b>0.1095</b></td></tr></table>"
      ],
      "text/plain": [
       "<IPython.core.display.HTML object>"
      ]
     },
     "metadata": {},
     "output_type": "display_data"
    },
    {
     "name": "stdout",
     "output_type": "stream",
     "text": [
      "\n"
     ]
    },
    {
     "data": {
      "text/html": [
       "<table><tr><td><img width=300 src=\"val2014/COCO_val2014_000000128939.jpg\" ></img></td><td><img width=300 src=\"val2014/COCO_val2014_000000128939.jpg\" ></img></td></tr><tr><td><b>normal</b></td><td><b>contrastive</b></td></tr><tr><td><ol><li>a car that is sitting in the street</li><li>a car is stopped at a traffic light</li><li>a white car parked on the side of a street</li><li>a car is parked on the side of the road</li><li>a white car parked on the side of the road</li></ol></td><td><ol><li>a car is stopped at a traffic light</li><li>a car is stopped at a red light</li><li>a white car parked on the side of a street</li><li>a white car parked on the side of the road</li><li>a white car parked on the side of a road</li></ol></td></tr></table>"
      ],
      "text/plain": [
       "<IPython.core.display.HTML object>"
      ]
     },
     "metadata": {},
     "output_type": "display_data"
    },
    {
     "data": {
      "text/html": [
       "<table><tr><td><img width=300 src=\"val2014/COCO_val2014_000000128939.jpg\" ></img></td><td><img width=300 src=\"train2014/COCO_train2014_000000296489.jpg\" ></img></td></tr></table>"
      ],
      "text/plain": [
       "<IPython.core.display.HTML object>"
      ]
     },
     "metadata": {},
     "output_type": "display_data"
    },
    {
     "data": {
      "text/html": [
       "<table><tr><td><img width=300 src=\"val2014/COCO_val2014_000000267224.jpg\" ></img></td><td><img width=300 src=\"train2014/COCO_train2014_000000326320.jpg\" ></img></td><td><img width=300 src=\"train2014/COCO_train2014_000000296489.jpg\" ></img></td><td><img width=300 src=\"train2014/COCO_train2014_000000494574.jpg\" ></img></td><td><img width=300 src=\"train2014/COCO_train2014_000000435929.jpg\" ></img></td></tr><tr><td><b>0.0982</b></td><td><b>0.1074</b></td><td><b>0.1101</b></td><td><b>0.0985</b></td><td><b>0.0991</b></td></tr><tr><td><img width=300 src=\"train2014/COCO_train2014_000000323489.jpg\" ></img></td><td><img width=300 src=\"train2014/COCO_train2014_000000178181.jpg\" ></img></td><td><img width=300 src=\"train2014/COCO_train2014_000000417607.jpg\" ></img></td><td><img width=300 src=\"val2014/COCO_val2014_000000263594.jpg\" ></img></td><td><img width=300 src=\"val2014/COCO_val2014_000000201859.jpg\" ></img></td></tr><tr><td><b>0.0940</b></td><td><b>0.0954</b></td><td><b>0.0995</b></td><td><b>0.1051</b></td><td><b>0.0928</b></td></tr></table>"
      ],
      "text/plain": [
       "<IPython.core.display.HTML object>"
      ]
     },
     "metadata": {},
     "output_type": "display_data"
    },
    {
     "name": "stdout",
     "output_type": "stream",
     "text": [
      "\n"
     ]
    },
    {
     "data": {
      "text/html": [
       "<table><tr><td><img width=300 src=\"val2014/COCO_val2014_000000339974.jpg\" ></img></td><td><img width=300 src=\"val2014/COCO_val2014_000000339974.jpg\" ></img></td></tr><tr><td><b>normal</b></td><td><b>contrastive</b></td></tr><tr><td><ol><li>a traffic light sitting on the side of a road</li><li>a green traffic light sitting on the side of a road</li><li>a traffic light sitting on the side of a street</li><li>a green traffic light sitting on the side of a street</li><li>a traffic light sitting on the side of the road</li></ol></td><td><ol><li>a green traffic light sitting on the side of a road</li><li>a green traffic light sitting on the side of a street</li><li>a green traffic light with a green light</li><li>a green traffic light sitting next to a traffic light</li><li>a green traffic light sitting next to a street</li></ol></td></tr></table>"
      ],
      "text/plain": [
       "<IPython.core.display.HTML object>"
      ]
     },
     "metadata": {},
     "output_type": "display_data"
    },
    {
     "data": {
      "text/html": [
       "<table><tr><td><img width=300 src=\"val2014/COCO_val2014_000000339974.jpg\" ></img></td><td><img width=300 src=\"train2014/COCO_train2014_000000301769.jpg\" ></img></td></tr></table>"
      ],
      "text/plain": [
       "<IPython.core.display.HTML object>"
      ]
     },
     "metadata": {},
     "output_type": "display_data"
    },
    {
     "data": {
      "text/html": [
       "<table><tr><td><img width=300 src=\"train2014/COCO_train2014_000000108536.jpg\" ></img></td><td><img width=300 src=\"train2014/COCO_train2014_000000473741.jpg\" ></img></td><td><img width=300 src=\"train2014/COCO_train2014_000000157029.jpg\" ></img></td><td><img width=300 src=\"train2014/COCO_train2014_000000138807.jpg\" ></img></td><td><img width=300 src=\"val2014/COCO_val2014_000000518574.jpg\" ></img></td></tr><tr><td><b>0.0903</b></td><td><b>0.1044</b></td><td><b>0.0987</b></td><td><b>0.1015</b></td><td><b>0.1058</b></td></tr><tr><td><img width=300 src=\"val2014/COCO_val2014_000000168234.jpg\" ></img></td><td><img width=300 src=\"train2014/COCO_train2014_000000061945.jpg\" ></img></td><td><img width=300 src=\"train2014/COCO_train2014_000000301769.jpg\" ></img></td><td><img width=300 src=\"train2014/COCO_train2014_000000132621.jpg\" ></img></td><td><img width=300 src=\"val2014/COCO_val2014_000000513646.jpg\" ></img></td></tr><tr><td><b>0.1034</b></td><td><b>0.0982</b></td><td><b>0.1085</b></td><td><b>0.0930</b></td><td><b>0.0963</b></td></tr></table>"
      ],
      "text/plain": [
       "<IPython.core.display.HTML object>"
      ]
     },
     "metadata": {},
     "output_type": "display_data"
    },
    {
     "name": "stdout",
     "output_type": "stream",
     "text": [
      "\n"
     ]
    }
   ],
   "source": [
    "# cbs, no EM training\n",
    "# display_em_model(batch, k=20, neighbor_types=['random', 'closest'], choose_distractor=True)\n",
    "display_em_model(next(loader.iters['val']), k=10, neighbor_types=['closest'], choose_distractor=True)"
   ]
  },
  {
   "cell_type": "code",
   "execution_count": 59,
   "metadata": {
    "scrolled": false
   },
   "outputs": [
    {
     "data": {
      "text/html": [
       "<table><tr><td><img width=300 src=\"val2014/COCO_val2014_000000184613.jpg\" ></img></td><td><img width=300 src=\"val2014/COCO_val2014_000000184613.jpg\" ></img></td></tr><tr><td><b>normal</b></td><td><b>contrastive</b></td></tr><tr><td><ol><li>a group of people standing around a herd of cattle</li><li>a group of people that are standing in the grass</li><li>a group of people standing next to a herd of cattle</li><li>a group of people that are standing around a cow</li><li>a group of people standing in a field with a cow</li></ol></td><td><ol><li>a group of people that are standing in the grass</li><li>a group of people standing around a herd of cattle</li><li>a group of people that are standing around a cow</li><li>a group of people standing around a cow</li><li>a group of people that are standing in a field</li></ol></td></tr></table>"
      ],
      "text/plain": [
       "<IPython.core.display.HTML object>"
      ]
     },
     "metadata": {},
     "output_type": "display_data"
    },
    {
     "data": {
      "text/html": [
       "<table><tr><td><img width=300 src=\"val2014/COCO_val2014_000000184613.jpg\" ></img></td><td><img width=300 src=\"train2014/COCO_train2014_000000433662.jpg\" ></img></td></tr></table>"
      ],
      "text/plain": [
       "<IPython.core.display.HTML object>"
      ]
     },
     "metadata": {},
     "output_type": "display_data"
    },
    {
     "data": {
      "text/html": [
       "<table><tr><td><img width=300 src=\"val2014/COCO_val2014_000000250804.jpg\" ></img></td><td><img width=300 src=\"train2014/COCO_train2014_000000433662.jpg\" ></img></td><td><img width=300 src=\"train2014/COCO_train2014_000000020966.jpg\" ></img></td><td><img width=300 src=\"train2014/COCO_train2014_000000063043.jpg\" ></img></td><td><img width=300 src=\"train2014/COCO_train2014_000000077693.jpg\" ></img></td></tr><tr><td><b>0.1019</b></td><td><b>0.1164</b></td><td><b>0.0809</b></td><td><b>0.1164</b></td><td><b>0.1008</b></td></tr><tr><td><img width=300 src=\"train2014/COCO_train2014_000000378214.jpg\" ></img></td><td><img width=300 src=\"train2014/COCO_train2014_000000407590.jpg\" ></img></td><td><img width=300 src=\"val2014/COCO_val2014_000000031471.jpg\" ></img></td><td><img width=300 src=\"train2014/COCO_train2014_000000007953.jpg\" ></img></td><td><img width=300 src=\"train2014/COCO_train2014_000000086329.jpg\" ></img></td></tr><tr><td><b>0.0747</b></td><td><b>0.1164</b></td><td><b>0.0818</b></td><td><b>0.1164</b></td><td><b>0.0941</b></td></tr></table>"
      ],
      "text/plain": [
       "<IPython.core.display.HTML object>"
      ]
     },
     "metadata": {},
     "output_type": "display_data"
    },
    {
     "name": "stdout",
     "output_type": "stream",
     "text": [
      "\n"
     ]
    },
    {
     "data": {
      "text/html": [
       "<table><tr><td><img width=300 src=\"val2014/COCO_val2014_000000403013.jpg\" ></img></td><td><img width=300 src=\"val2014/COCO_val2014_000000403013.jpg\" ></img></td></tr><tr><td><b>normal</b></td><td><b>contrastive</b></td></tr><tr><td><ol><li>a kitchen with a stove and a refrigerator</li><li>a kitchen with a refrigerator and a refrigerator</li><li>a kitchen with a refrigerator and a stove</li><li>a kitchen with a white refrigerator and a white refrigerator</li><li>a kitchen with a white refrigerator freezer and a refrigerator</li></ol></td><td><ol><li>a kitchen with a stove and a refrigerator</li><li>a kitchen with a refrigerator and a refrigerator</li><li>a kitchen with a refrigerator and a stove</li><li>a kitchen with a white refrigerator and a white refrigerator</li><li>a kitchen with a white refrigerator freezer and a refrigerator</li></ol></td></tr></table>"
      ],
      "text/plain": [
       "<IPython.core.display.HTML object>"
      ]
     },
     "metadata": {},
     "output_type": "display_data"
    },
    {
     "data": {
      "text/html": [
       "<table><tr><td><img width=300 src=\"val2014/COCO_val2014_000000403013.jpg\" ></img></td><td><img width=300 src=\"train2014/COCO_train2014_000000266273.jpg\" ></img></td></tr></table>"
      ],
      "text/plain": [
       "<IPython.core.display.HTML object>"
      ]
     },
     "metadata": {},
     "output_type": "display_data"
    },
    {
     "data": {
      "text/html": [
       "<table><tr><td><img width=300 src=\"val2014/COCO_val2014_000000048910.jpg\" ></img></td><td><img width=300 src=\"train2014/COCO_train2014_000000266273.jpg\" ></img></td><td><img width=300 src=\"train2014/COCO_train2014_000000229962.jpg\" ></img></td><td><img width=300 src=\"train2014/COCO_train2014_000000332202.jpg\" ></img></td><td><img width=300 src=\"val2014/COCO_val2014_000000409855.jpg\" ></img></td></tr><tr><td><b>0.0664</b></td><td><b>0.1165</b></td><td><b>0.1165</b></td><td><b>0.1093</b></td><td><b>0.0938</b></td></tr><tr><td><img width=300 src=\"train2014/COCO_train2014_000000312850.jpg\" ></img></td><td><img width=300 src=\"train2014/COCO_train2014_000000130180.jpg\" ></img></td><td><img width=300 src=\"val2014/COCO_val2014_000000553129.jpg\" ></img></td><td><img width=300 src=\"train2014/COCO_train2014_000000138536.jpg\" ></img></td><td><img width=300 src=\"train2014/COCO_train2014_000000524838.jpg\" ></img></td></tr><tr><td><b>0.0726</b></td><td><b>0.0801</b></td><td><b>0.1119</b></td><td><b>0.1165</b></td><td><b>0.1165</b></td></tr></table>"
      ],
      "text/plain": [
       "<IPython.core.display.HTML object>"
      ]
     },
     "metadata": {},
     "output_type": "display_data"
    },
    {
     "name": "stdout",
     "output_type": "stream",
     "text": [
      "\n"
     ]
    },
    {
     "data": {
      "text/html": [
       "<table><tr><td><img width=300 src=\"val2014/COCO_val2014_000000562150.jpg\" ></img></td><td><img width=300 src=\"val2014/COCO_val2014_000000562150.jpg\" ></img></td></tr><tr><td><b>normal</b></td><td><b>contrastive</b></td></tr><tr><td><ol><li>a little girl holding a cat in her lap</li><li>a little girl holding a cat in her arms</li><li>a woman holding a cat in her arms</li><li>a woman holding a cat in her lap</li><li>a little girl holding a cat with a cat</li></ol></td><td><ol><li>a little girl holding a cat in her lap</li><li>a little girl holding a cat in her arms</li><li>a little girl holding a cat on her lap</li><li>a little girl holding a cat in her hand</li><li>a little girl holding a cat with a cat on it</li></ol></td></tr></table>"
      ],
      "text/plain": [
       "<IPython.core.display.HTML object>"
      ]
     },
     "metadata": {},
     "output_type": "display_data"
    },
    {
     "data": {
      "text/html": [
       "<table><tr><td><img width=300 src=\"val2014/COCO_val2014_000000562150.jpg\" ></img></td><td><img width=300 src=\"val2014/COCO_val2014_000000361217.jpg\" ></img></td></tr></table>"
      ],
      "text/plain": [
       "<IPython.core.display.HTML object>"
      ]
     },
     "metadata": {},
     "output_type": "display_data"
    },
    {
     "data": {
      "text/html": [
       "<table><tr><td><img width=300 src=\"train2014/COCO_train2014_000000277050.jpg\" ></img></td><td><img width=300 src=\"train2014/COCO_train2014_000000184937.jpg\" ></img></td><td><img width=300 src=\"train2014/COCO_train2014_000000478675.jpg\" ></img></td><td><img width=300 src=\"val2014/COCO_val2014_000000361217.jpg\" ></img></td><td><img width=300 src=\"val2014/COCO_val2014_000000363321.jpg\" ></img></td></tr><tr><td><b>0.0356</b></td><td><b>0.1437</b></td><td><b>0.1624</b></td><td><b>0.1635</b></td><td><b>0.0282</b></td></tr><tr><td><img width=300 src=\"val2014/COCO_val2014_000000194716.jpg\" ></img></td><td><img width=300 src=\"val2014/COCO_val2014_000000169690.jpg\" ></img></td><td><img width=300 src=\"train2014/COCO_train2014_000000430394.jpg\" ></img></td><td><img width=300 src=\"train2014/COCO_train2014_000000390934.jpg\" ></img></td><td><img width=300 src=\"train2014/COCO_train2014_000000334039.jpg\" ></img></td></tr><tr><td><b>0.0878</b></td><td><b>0.0239</b></td><td><b>0.1635</b></td><td><b>0.0738</b></td><td><b>0.1176</b></td></tr></table>"
      ],
      "text/plain": [
       "<IPython.core.display.HTML object>"
      ]
     },
     "metadata": {},
     "output_type": "display_data"
    },
    {
     "name": "stdout",
     "output_type": "stream",
     "text": [
      "\n"
     ]
    },
    {
     "data": {
      "text/html": [
       "<table><tr><td><img width=300 src=\"val2014/COCO_val2014_000000360772.jpg\" ></img></td><td><img width=300 src=\"val2014/COCO_val2014_000000360772.jpg\" ></img></td></tr><tr><td><b>normal</b></td><td><b>contrastive</b></td></tr><tr><td><ol><li>a bathroom with a toilet and a sink</li><li>a small bathroom with a toilet and a sink</li><li>a white toilet sitting in a bathroom next to a sink</li><li>a white toilet sitting next to a white toilet</li><li>a white toilet sitting in a bathroom next to a wall</li></ol></td><td><ol><li>a bathroom with a toilet and a sink</li><li>a white toilet sitting in a bathroom next to a sink</li><li>a white toilet sitting next to a white toilet</li><li>a small bathroom with a toilet and a sink</li><li>a white toilet sitting in a bathroom next to a wall</li></ol></td></tr></table>"
      ],
      "text/plain": [
       "<IPython.core.display.HTML object>"
      ]
     },
     "metadata": {},
     "output_type": "display_data"
    },
    {
     "data": {
      "text/html": [
       "<table><tr><td><img width=300 src=\"val2014/COCO_val2014_000000360772.jpg\" ></img></td><td><img width=300 src=\"train2014/COCO_train2014_000000208754.jpg\" ></img></td></tr></table>"
      ],
      "text/plain": [
       "<IPython.core.display.HTML object>"
      ]
     },
     "metadata": {},
     "output_type": "display_data"
    },
    {
     "data": {
      "text/html": [
       "<table><tr><td><img width=300 src=\"val2014/COCO_val2014_000000012323.jpg\" ></img></td><td><img width=300 src=\"train2014/COCO_train2014_000000386560.jpg\" ></img></td><td><img width=300 src=\"train2014/COCO_train2014_000000567179.jpg\" ></img></td><td><img width=300 src=\"train2014/COCO_train2014_000000208754.jpg\" ></img></td><td><img width=300 src=\"train2014/COCO_train2014_000000005277.jpg\" ></img></td></tr><tr><td><b>0.1158</b></td><td><b>0.1072</b></td><td><b>0.1174</b></td><td><b>0.1360</b></td><td><b>0.1203</b></td></tr><tr><td><img width=300 src=\"val2014/COCO_val2014_000000126941.jpg\" ></img></td><td><img width=300 src=\"train2014/COCO_train2014_000000472831.jpg\" ></img></td><td><img width=300 src=\"train2014/COCO_train2014_000000132454.jpg\" ></img></td><td><img width=300 src=\"train2014/COCO_train2014_000000201686.jpg\" ></img></td><td><img width=300 src=\"train2014/COCO_train2014_000000428120.jpg\" ></img></td></tr><tr><td><b>0.0640</b></td><td><b>0.1147</b></td><td><b>0.0778</b></td><td><b>0.0328</b></td><td><b>0.1140</b></td></tr></table>"
      ],
      "text/plain": [
       "<IPython.core.display.HTML object>"
      ]
     },
     "metadata": {},
     "output_type": "display_data"
    },
    {
     "name": "stdout",
     "output_type": "stream",
     "text": [
      "\n"
     ]
    },
    {
     "data": {
      "text/html": [
       "<table><tr><td><img width=300 src=\"val2014/COCO_val2014_000000340559.jpg\" ></img></td><td><img width=300 src=\"val2014/COCO_val2014_000000340559.jpg\" ></img></td></tr><tr><td><b>normal</b></td><td><b>contrastive</b></td></tr><tr><td><ol><li>a kitchen with a sink and a sink</li><li>a stainless steel kitchen with a stainless steel sink</li><li>a stainless steel kitchen with a stainless steel refrigerator</li><li>a kitchen with a stainless steel sink and a sink</li><li>a kitchen with a stainless steel refrigerator and a sink</li></ol></td><td><ol><li>a bathroom with a sink and a sink</li><li>a stainless steel kitchen with a stainless steel sink</li><li>a stainless steel kitchen with a sink and a sink</li><li>a bathroom with a stainless steel sink and a sink</li><li>a bathroom with a stainless steel refrigerator and a sink</li></ol></td></tr></table>"
      ],
      "text/plain": [
       "<IPython.core.display.HTML object>"
      ]
     },
     "metadata": {},
     "output_type": "display_data"
    },
    {
     "data": {
      "text/html": [
       "<table><tr><td><img width=300 src=\"val2014/COCO_val2014_000000340559.jpg\" ></img></td><td><img width=300 src=\"val2014/COCO_val2014_000000452793.jpg\" ></img></td></tr></table>"
      ],
      "text/plain": [
       "<IPython.core.display.HTML object>"
      ]
     },
     "metadata": {},
     "output_type": "display_data"
    },
    {
     "data": {
      "text/html": [
       "<table><tr><td><img width=300 src=\"train2014/COCO_train2014_000000432201.jpg\" ></img></td><td><img width=300 src=\"val2014/COCO_val2014_000000042568.jpg\" ></img></td><td><img width=300 src=\"val2014/COCO_val2014_000000229311.jpg\" ></img></td><td><img width=300 src=\"val2014/COCO_val2014_000000078266.jpg\" ></img></td><td><img width=300 src=\"val2014/COCO_val2014_000000070434.jpg\" ></img></td></tr><tr><td><b>0.0228</b></td><td><b>0.0450</b></td><td><b>0.1234</b></td><td><b>0.1211</b></td><td><b>0.1199</b></td></tr><tr><td><img width=300 src=\"val2014/COCO_val2014_000000452793.jpg\" ></img></td><td><img width=300 src=\"train2014/COCO_train2014_000000504336.jpg\" ></img></td><td><img width=300 src=\"train2014/COCO_train2014_000000375728.jpg\" ></img></td><td><img width=300 src=\"train2014/COCO_train2014_000000083878.jpg\" ></img></td><td><img width=300 src=\"val2014/COCO_val2014_000000121828.jpg\" ></img></td></tr><tr><td><b>0.1351</b></td><td><b>0.1351</b></td><td><b>0.1223</b></td><td><b>0.0630</b></td><td><b>0.1123</b></td></tr></table>"
      ],
      "text/plain": [
       "<IPython.core.display.HTML object>"
      ]
     },
     "metadata": {},
     "output_type": "display_data"
    },
    {
     "name": "stdout",
     "output_type": "stream",
     "text": [
      "\n"
     ]
    },
    {
     "data": {
      "text/html": [
       "<table><tr><td><img width=300 src=\"val2014/COCO_val2014_000000321107.jpg\" ></img></td><td><img width=300 src=\"val2014/COCO_val2014_000000321107.jpg\" ></img></td></tr><tr><td><b>normal</b></td><td><b>contrastive</b></td></tr><tr><td><ol><li>a woman riding a bike down a street</li><li>a woman riding a bike down the street</li><li>a woman riding a bike down a city street</li><li>a woman riding a bike down a street next to a bike</li><li>a woman riding a bike down a street next to a bicycle</li></ol></td><td><ol><li>a woman riding a bike down a street</li><li>a woman riding a bike down the street</li><li>a woman riding a bike across a street</li><li>a woman riding a bike down a street next to a bike</li><li>a woman riding a bike down a street next to a bicycle</li></ol></td></tr></table>"
      ],
      "text/plain": [
       "<IPython.core.display.HTML object>"
      ]
     },
     "metadata": {},
     "output_type": "display_data"
    },
    {
     "data": {
      "text/html": [
       "<table><tr><td><img width=300 src=\"val2014/COCO_val2014_000000321107.jpg\" ></img></td><td><img width=300 src=\"val2014/COCO_val2014_000000016961.jpg\" ></img></td></tr></table>"
      ],
      "text/plain": [
       "<IPython.core.display.HTML object>"
      ]
     },
     "metadata": {},
     "output_type": "display_data"
    },
    {
     "data": {
      "text/html": [
       "<table><tr><td><img width=300 src=\"train2014/COCO_train2014_000000329755.jpg\" ></img></td><td><img width=300 src=\"val2014/COCO_val2014_000000493846.jpg\" ></img></td><td><img width=300 src=\"val2014/COCO_val2014_000000016961.jpg\" ></img></td><td><img width=300 src=\"val2014/COCO_val2014_000000087920.jpg\" ></img></td><td><img width=300 src=\"train2014/COCO_train2014_000000304134.jpg\" ></img></td></tr><tr><td><b>0.1112</b></td><td><b>0.1180</b></td><td><b>0.1188</b></td><td><b>0.1188</b></td><td><b>0.1188</b></td></tr><tr><td><img width=300 src=\"train2014/COCO_train2014_000000262967.jpg\" ></img></td><td><img width=300 src=\"train2014/COCO_train2014_000000489107.jpg\" ></img></td><td><img width=300 src=\"train2014/COCO_train2014_000000363455.jpg\" ></img></td><td><img width=300 src=\"train2014/COCO_train2014_000000151778.jpg\" ></img></td><td><img width=300 src=\"train2014/COCO_train2014_000000380820.jpg\" ></img></td></tr><tr><td><b>0.1188</b></td><td><b>0.1188</b></td><td><b>0.0142</b></td><td><b>0.0485</b></td><td><b>0.1144</b></td></tr></table>"
      ],
      "text/plain": [
       "<IPython.core.display.HTML object>"
      ]
     },
     "metadata": {},
     "output_type": "display_data"
    },
    {
     "name": "stdout",
     "output_type": "stream",
     "text": [
      "\n"
     ]
    },
    {
     "data": {
      "text/html": [
       "<table><tr><td><img width=300 src=\"val2014/COCO_val2014_000000129001.jpg\" ></img></td><td><img width=300 src=\"val2014/COCO_val2014_000000129001.jpg\" ></img></td></tr><tr><td><b>normal</b></td><td><b>contrastive</b></td></tr><tr><td><ol><li>a bathroom with a sink toilet and bathtub</li><li>a bathroom with a sink toilet and shower</li><li>a bathroom with a sink and a toilet</li><li>a bath room with a sink and a toilet</li><li>a bath room with a sink and a mirror</li></ol></td><td><ol><li>a bathroom with a sink toilet and bathtub</li><li>a bathroom with a sink toilet and shower</li><li>a bathroom with a sink and a toilet</li><li>a bath room with a sink and a toilet</li><li>a bath room with a sink and a mirror</li></ol></td></tr></table>"
      ],
      "text/plain": [
       "<IPython.core.display.HTML object>"
      ]
     },
     "metadata": {},
     "output_type": "display_data"
    },
    {
     "data": {
      "text/html": [
       "<table><tr><td><img width=300 src=\"val2014/COCO_val2014_000000129001.jpg\" ></img></td><td><img width=300 src=\"val2014/COCO_val2014_000000383606.jpg\" ></img></td></tr></table>"
      ],
      "text/plain": [
       "<IPython.core.display.HTML object>"
      ]
     },
     "metadata": {},
     "output_type": "display_data"
    },
    {
     "data": {
      "text/html": [
       "<table><tr><td><img width=300 src=\"train2014/COCO_train2014_000000037126.jpg\" ></img></td><td><img width=300 src=\"train2014/COCO_train2014_000000187972.jpg\" ></img></td><td><img width=300 src=\"val2014/COCO_val2014_000000383606.jpg\" ></img></td><td><img width=300 src=\"val2014/COCO_val2014_000000134715.jpg\" ></img></td><td><img width=300 src=\"train2014/COCO_train2014_000000491063.jpg\" ></img></td></tr><tr><td><b>0.0694</b></td><td><b>0.1168</b></td><td><b>0.1210</b></td><td><b>0.1087</b></td><td><b>0.1131</b></td></tr><tr><td><img width=300 src=\"train2014/COCO_train2014_000000042086.jpg\" ></img></td><td><img width=300 src=\"val2014/COCO_val2014_000000356299.jpg\" ></img></td><td><img width=300 src=\"val2014/COCO_val2014_000000303928.jpg\" ></img></td><td><img width=300 src=\"val2014/COCO_val2014_000000449731.jpg\" ></img></td><td><img width=300 src=\"train2014/COCO_train2014_000000522620.jpg\" ></img></td></tr><tr><td><b>0.1028</b></td><td><b>0.0484</b></td><td><b>0.1044</b></td><td><b>0.0943</b></td><td><b>0.1210</b></td></tr></table>"
      ],
      "text/plain": [
       "<IPython.core.display.HTML object>"
      ]
     },
     "metadata": {},
     "output_type": "display_data"
    },
    {
     "name": "stdout",
     "output_type": "stream",
     "text": [
      "\n"
     ]
    },
    {
     "data": {
      "text/html": [
       "<table><tr><td><img width=300 src=\"val2014/COCO_val2014_000000556616.jpg\" ></img></td><td><img width=300 src=\"val2014/COCO_val2014_000000556616.jpg\" ></img></td></tr><tr><td><b>normal</b></td><td><b>contrastive</b></td></tr><tr><td><ol><li>a parking meter on the side of the street</li><li>a close up of a parking meter on a street</li><li>a parking meter on the side of a street</li><li>a parking meter on the side of the road</li><li>a close up of a parking meter on a city street</li></ol></td><td><ol><li>a close up of a parking meter on a street</li><li>a close up of a parking meter on a city street</li><li>a close up of a parking meter on the street</li><li>a close up of a parking meter next to a street</li><li>a close up of a parking meter in front of a building</li></ol></td></tr></table>"
      ],
      "text/plain": [
       "<IPython.core.display.HTML object>"
      ]
     },
     "metadata": {},
     "output_type": "display_data"
    },
    {
     "data": {
      "text/html": [
       "<table><tr><td><img width=300 src=\"val2014/COCO_val2014_000000556616.jpg\" ></img></td><td><img width=300 src=\"train2014/COCO_train2014_000000253528.jpg\" ></img></td></tr></table>"
      ],
      "text/plain": [
       "<IPython.core.display.HTML object>"
      ]
     },
     "metadata": {},
     "output_type": "display_data"
    },
    {
     "data": {
      "text/html": [
       "<table><tr><td><img width=300 src=\"train2014/COCO_train2014_000000253528.jpg\" ></img></td><td><img width=300 src=\"train2014/COCO_train2014_000000539767.jpg\" ></img></td><td><img width=300 src=\"val2014/COCO_val2014_000000135410.jpg\" ></img></td><td><img width=300 src=\"train2014/COCO_train2014_000000068789.jpg\" ></img></td><td><img width=300 src=\"val2014/COCO_val2014_000000145039.jpg\" ></img></td></tr><tr><td><b>0.1479</b></td><td><b>0.0198</b></td><td><b>0.1479</b></td><td><b>0.0414</b></td><td><b>0.0669</b></td></tr><tr><td><img width=300 src=\"train2014/COCO_train2014_000000375053.jpg\" ></img></td><td><img width=300 src=\"val2014/COCO_val2014_000000302200.jpg\" ></img></td><td><img width=300 src=\"train2014/COCO_train2014_000000488367.jpg\" ></img></td><td><img width=300 src=\"train2014/COCO_train2014_000000172637.jpg\" ></img></td><td><img width=300 src=\"train2014/COCO_train2014_000000357790.jpg\" ></img></td></tr><tr><td><b>0.1479</b></td><td><b>0.1479</b></td><td><b>0.0516</b></td><td><b>0.0809</b></td><td><b>0.1479</b></td></tr></table>"
      ],
      "text/plain": [
       "<IPython.core.display.HTML object>"
      ]
     },
     "metadata": {},
     "output_type": "display_data"
    },
    {
     "name": "stdout",
     "output_type": "stream",
     "text": [
      "\n"
     ]
    },
    {
     "data": {
      "text/html": [
       "<table><tr><td><img width=300 src=\"val2014/COCO_val2014_000000472621.jpg\" ></img></td><td><img width=300 src=\"val2014/COCO_val2014_000000472621.jpg\" ></img></td></tr><tr><td><b>normal</b></td><td><b>contrastive</b></td></tr><tr><td><ol><li>a bathroom with two sinks and a sink</li><li>a bathroom with a tub and a sink</li><li>a bathroom with two sinks and a mirror</li><li>a bathroom with two sinks and a tub</li><li>a bathroom with a tub sink and a mirror</li></ol></td><td><ol><li>a bathroom with two sinks and a sink</li><li>a bathroom with two sinks and a mirror</li><li>a bathroom with two sinks and two sinks</li><li>a bathroom with two sinks and a tub</li><li>a bath room with a tub and a sink</li></ol></td></tr></table>"
      ],
      "text/plain": [
       "<IPython.core.display.HTML object>"
      ]
     },
     "metadata": {},
     "output_type": "display_data"
    },
    {
     "data": {
      "text/html": [
       "<table><tr><td><img width=300 src=\"val2014/COCO_val2014_000000472621.jpg\" ></img></td><td><img width=300 src=\"train2014/COCO_train2014_000000371490.jpg\" ></img></td></tr></table>"
      ],
      "text/plain": [
       "<IPython.core.display.HTML object>"
      ]
     },
     "metadata": {},
     "output_type": "display_data"
    },
    {
     "data": {
      "text/html": [
       "<table><tr><td><img width=300 src=\"train2014/COCO_train2014_000000515287.jpg\" ></img></td><td><img width=300 src=\"train2014/COCO_train2014_000000188343.jpg\" ></img></td><td><img width=300 src=\"train2014/COCO_train2014_000000343670.jpg\" ></img></td><td><img width=300 src=\"train2014/COCO_train2014_000000474732.jpg\" ></img></td><td><img width=300 src=\"train2014/COCO_train2014_000000412267.jpg\" ></img></td></tr><tr><td><b>0.1249</b></td><td><b>0.1105</b></td><td><b>0.0850</b></td><td><b>0.0422</b></td><td><b>0.0582</b></td></tr><tr><td><img width=300 src=\"train2014/COCO_train2014_000000175291.jpg\" ></img></td><td><img width=300 src=\"train2014/COCO_train2014_000000401458.jpg\" ></img></td><td><img width=300 src=\"train2014/COCO_train2014_000000371490.jpg\" ></img></td><td><img width=300 src=\"train2014/COCO_train2014_000000504907.jpg\" ></img></td><td><img width=300 src=\"train2014/COCO_train2014_000000155993.jpg\" ></img></td></tr><tr><td><b>0.0942</b></td><td><b>0.1147</b></td><td><b>0.1296</b></td><td><b>0.1112</b></td><td><b>0.1296</b></td></tr></table>"
      ],
      "text/plain": [
       "<IPython.core.display.HTML object>"
      ]
     },
     "metadata": {},
     "output_type": "display_data"
    },
    {
     "name": "stdout",
     "output_type": "stream",
     "text": [
      "\n"
     ]
    },
    {
     "data": {
      "text/html": [
       "<table><tr><td><img width=300 src=\"val2014/COCO_val2014_000000364521.jpg\" ></img></td><td><img width=300 src=\"val2014/COCO_val2014_000000364521.jpg\" ></img></td></tr><tr><td><b>normal</b></td><td><b>contrastive</b></td></tr><tr><td><ol><li>a yellow banana sitting next to a banana peel</li><li>a yellow banana sitting on top of a green field</li><li>a yellow banana sitting on the ground next to a banana</li><li>a yellow banana sitting on top of a yellow fire hydrant</li><li>a yellow banana sitting on top of a pile of bananas</li></ol></td><td><ol><li>there is a banana that is on the ground</li><li>there is a banana and a banana on the ground</li><li>a yellow banana sitting on top of a green field</li><li>a yellow banana sitting on top of a yellow fire hydrant</li><li>a yellow banana sitting on top of a pile of bananas</li></ol></td></tr></table>"
      ],
      "text/plain": [
       "<IPython.core.display.HTML object>"
      ]
     },
     "metadata": {},
     "output_type": "display_data"
    },
    {
     "data": {
      "text/html": [
       "<table><tr><td><img width=300 src=\"val2014/COCO_val2014_000000364521.jpg\" ></img></td><td><img width=300 src=\"val2014/COCO_val2014_000000358345.jpg\" ></img></td></tr></table>"
      ],
      "text/plain": [
       "<IPython.core.display.HTML object>"
      ]
     },
     "metadata": {},
     "output_type": "display_data"
    },
    {
     "data": {
      "text/html": [
       "<table><tr><td><img width=300 src=\"val2014/COCO_val2014_000000358345.jpg\" ></img></td><td><img width=300 src=\"train2014/COCO_train2014_000000147196.jpg\" ></img></td><td><img width=300 src=\"train2014/COCO_train2014_000000086071.jpg\" ></img></td><td><img width=300 src=\"train2014/COCO_train2014_000000424739.jpg\" ></img></td><td><img width=300 src=\"train2014/COCO_train2014_000000108602.jpg\" ></img></td></tr><tr><td><b>0.1192</b></td><td><b>0.0388</b></td><td><b>0.1192</b></td><td><b>0.0804</b></td><td><b>0.1192</b></td></tr><tr><td><img width=300 src=\"train2014/COCO_train2014_000000395703.jpg\" ></img></td><td><img width=300 src=\"val2014/COCO_val2014_000000052005.jpg\" ></img></td><td><img width=300 src=\"train2014/COCO_train2014_000000405630.jpg\" ></img></td><td><img width=300 src=\"train2014/COCO_train2014_000000172654.jpg\" ></img></td><td><img width=300 src=\"train2014/COCO_train2014_000000355647.jpg\" ></img></td></tr><tr><td><b>0.1012</b></td><td><b>0.1192</b></td><td><b>0.1192</b></td><td><b>0.1175</b></td><td><b>0.0662</b></td></tr></table>"
      ],
      "text/plain": [
       "<IPython.core.display.HTML object>"
      ]
     },
     "metadata": {},
     "output_type": "display_data"
    },
    {
     "name": "stdout",
     "output_type": "stream",
     "text": [
      "\n"
     ]
    }
   ],
   "source": [
    "# random + closest trained\n",
    "# display_em_model(batch, k=20, neighbor_types=['random', 'closest'], choose_distractor=True)\n",
    "display_em_model(batch, k=10, neighbor_types=['closest'], choose_distractor=True)"
   ]
  },
  {
   "cell_type": "code",
   "execution_count": 60,
   "metadata": {
    "scrolled": false
   },
   "outputs": [
    {
     "data": {
      "text/html": [
       "<table><tr><td><img width=300 src=\"val2014/COCO_val2014_000000310391.jpg\" ></img></td><td><img width=300 src=\"val2014/COCO_val2014_000000310391.jpg\" ></img></td></tr><tr><td><b>normal</b></td><td><b>contrastive</b></td></tr><tr><td><ol><li>a green truck is parked in the grass</li><li>a green truck is parked in a field</li><li>a green truck parked in a grassy field</li><li>a green truck parked in a field next to a forest</li><li>a green truck parked in the grass next to a forest</li></ol></td><td><ol><li>a green truck parked in a grassy field</li><li>a green truck parked in a field next to a forest</li><li>a blue truck parked in a field next to a forest</li><li>a green truck parked in the grass near a forest</li><li>a green truck parked in the grass next to a forest</li></ol></td></tr></table>"
      ],
      "text/plain": [
       "<IPython.core.display.HTML object>"
      ]
     },
     "metadata": {},
     "output_type": "display_data"
    },
    {
     "data": {
      "text/html": [
       "<table><tr><td><img width=300 src=\"val2014/COCO_val2014_000000310391.jpg\" ></img></td><td><img width=300 src=\"train2014/COCO_train2014_000000355987.jpg\" ></img></td></tr></table>"
      ],
      "text/plain": [
       "<IPython.core.display.HTML object>"
      ]
     },
     "metadata": {},
     "output_type": "display_data"
    },
    {
     "data": {
      "text/html": [
       "<table><tr><td><img width=300 src=\"train2014/COCO_train2014_000000224753.jpg\" ></img></td><td><img width=300 src=\"train2014/COCO_train2014_000000355987.jpg\" ></img></td><td><img width=300 src=\"train2014/COCO_train2014_000000496874.jpg\" ></img></td><td><img width=300 src=\"train2014/COCO_train2014_000000044491.jpg\" ></img></td><td><img width=300 src=\"train2014/COCO_train2014_000000079563.jpg\" ></img></td></tr><tr><td><b>0.0589</b></td><td><b>0.1682</b></td><td><b>0.1682</b></td><td><b>0.0538</b></td><td><b>0.1161</b></td></tr><tr><td><img width=300 src=\"train2014/COCO_train2014_000000401235.jpg\" ></img></td><td><img width=300 src=\"val2014/COCO_val2014_000000235788.jpg\" ></img></td><td><img width=300 src=\"train2014/COCO_train2014_000000419645.jpg\" ></img></td><td><img width=300 src=\"val2014/COCO_val2014_000000503765.jpg\" ></img></td><td><img width=300 src=\"val2014/COCO_val2014_000000516798.jpg\" ></img></td></tr><tr><td><b>0.0835</b></td><td><b>0.0758</b></td><td><b>0.0748</b></td><td><b>0.0875</b></td><td><b>0.1131</b></td></tr></table>"
      ],
      "text/plain": [
       "<IPython.core.display.HTML object>"
      ]
     },
     "metadata": {},
     "output_type": "display_data"
    },
    {
     "name": "stdout",
     "output_type": "stream",
     "text": [
      "\n"
     ]
    },
    {
     "data": {
      "text/html": [
       "<table><tr><td><img width=300 src=\"val2014/COCO_val2014_000000241876.jpg\" ></img></td><td><img width=300 src=\"val2014/COCO_val2014_000000241876.jpg\" ></img></td></tr><tr><td><b>normal</b></td><td><b>contrastive</b></td></tr><tr><td><ol><li>a cat that is sitting on a toilet</li><li>a black cat laying on top of a toilet</li><li>a black cat sitting on top of a toilet</li><li>a black cat sitting on top of a toilet seat</li><li>a black cat sitting on top of a white toilet</li></ol></td><td><ol><li>a black cat laying on top of a toilet</li><li>a black cat sitting on top of a toilet</li><li>a black cat sitting on top of a toilet seat</li><li>a black cat sitting on top of a white toilet</li><li>a black cat laying on top of a white toilet</li></ol></td></tr></table>"
      ],
      "text/plain": [
       "<IPython.core.display.HTML object>"
      ]
     },
     "metadata": {},
     "output_type": "display_data"
    },
    {
     "data": {
      "text/html": [
       "<table><tr><td><img width=300 src=\"val2014/COCO_val2014_000000241876.jpg\" ></img></td><td><img width=300 src=\"train2014/COCO_train2014_000000447985.jpg\" ></img></td></tr></table>"
      ],
      "text/plain": [
       "<IPython.core.display.HTML object>"
      ]
     },
     "metadata": {},
     "output_type": "display_data"
    },
    {
     "data": {
      "text/html": [
       "<table><tr><td><img width=300 src=\"train2014/COCO_train2014_000000012102.jpg\" ></img></td><td><img width=300 src=\"val2014/COCO_val2014_000000098302.jpg\" ></img></td><td><img width=300 src=\"train2014/COCO_train2014_000000473793.jpg\" ></img></td><td><img width=300 src=\"train2014/COCO_train2014_000000447985.jpg\" ></img></td><td><img width=300 src=\"train2014/COCO_train2014_000000382056.jpg\" ></img></td></tr><tr><td><b>0.0965</b></td><td><b>0.0763</b></td><td><b>0.1316</b></td><td><b>0.1352</b></td><td><b>0.0435</b></td></tr><tr><td><img width=300 src=\"val2014/COCO_val2014_000000562289.jpg\" ></img></td><td><img width=300 src=\"train2014/COCO_train2014_000000126810.jpg\" ></img></td><td><img width=300 src=\"train2014/COCO_train2014_000000479780.jpg\" ></img></td><td><img width=300 src=\"train2014/COCO_train2014_000000012315.jpg\" ></img></td><td><img width=300 src=\"train2014/COCO_train2014_000000225713.jpg\" ></img></td></tr><tr><td><b>0.0940</b></td><td><b>0.0647</b></td><td><b>0.1045</b></td><td><b>0.1184</b></td><td><b>0.1352</b></td></tr></table>"
      ],
      "text/plain": [
       "<IPython.core.display.HTML object>"
      ]
     },
     "metadata": {},
     "output_type": "display_data"
    },
    {
     "name": "stdout",
     "output_type": "stream",
     "text": [
      "\n"
     ]
    },
    {
     "data": {
      "text/html": [
       "<table><tr><td><img width=300 src=\"val2014/COCO_val2014_000000462341.jpg\" ></img></td><td><img width=300 src=\"val2014/COCO_val2014_000000462341.jpg\" ></img></td></tr><tr><td><b>normal</b></td><td><b>contrastive</b></td></tr><tr><td><ol><li>a tall building with a clock on the top</li><li>a tall building with a clock on it</li><li>a tall building with a clock on the top of it</li><li>a tall building with a clock on top of it</li><li>a tall clock tower with a clock on top</li></ol></td><td><ol><li>a building with a clock on the top of it</li><li>a tall building with a clock on the top of it</li><li>a tall building with a clock on the top</li><li>a tall building with a clock on it</li><li>a tall building with a clock on top of it</li></ol></td></tr></table>"
      ],
      "text/plain": [
       "<IPython.core.display.HTML object>"
      ]
     },
     "metadata": {},
     "output_type": "display_data"
    },
    {
     "data": {
      "text/html": [
       "<table><tr><td><img width=300 src=\"val2014/COCO_val2014_000000462341.jpg\" ></img></td><td><img width=300 src=\"train2014/COCO_train2014_000000103513.jpg\" ></img></td></tr></table>"
      ],
      "text/plain": [
       "<IPython.core.display.HTML object>"
      ]
     },
     "metadata": {},
     "output_type": "display_data"
    },
    {
     "data": {
      "text/html": [
       "<table><tr><td><img width=300 src=\"train2014/COCO_train2014_000000103513.jpg\" ></img></td><td><img width=300 src=\"train2014/COCO_train2014_000000452259.jpg\" ></img></td><td><img width=300 src=\"val2014/COCO_val2014_000000578786.jpg\" ></img></td><td><img width=300 src=\"train2014/COCO_train2014_000000450426.jpg\" ></img></td><td><img width=300 src=\"train2014/COCO_train2014_000000347312.jpg\" ></img></td></tr><tr><td><b>0.1062</b></td><td><b>0.1062</b></td><td><b>0.1062</b></td><td><b>0.1062</b></td><td><b>0.1062</b></td></tr><tr><td><img width=300 src=\"train2014/COCO_train2014_000000506910.jpg\" ></img></td><td><img width=300 src=\"train2014/COCO_train2014_000000481042.jpg\" ></img></td><td><img width=300 src=\"val2014/COCO_val2014_000000050965.jpg\" ></img></td><td><img width=300 src=\"train2014/COCO_train2014_000000345357.jpg\" ></img></td><td><img width=300 src=\"train2014/COCO_train2014_000000021945.jpg\" ></img></td></tr><tr><td><b>0.1062</b></td><td><b>0.0696</b></td><td><b>0.1062</b></td><td><b>0.1062</b></td><td><b>0.0809</b></td></tr></table>"
      ],
      "text/plain": [
       "<IPython.core.display.HTML object>"
      ]
     },
     "metadata": {},
     "output_type": "display_data"
    },
    {
     "name": "stdout",
     "output_type": "stream",
     "text": [
      "\n"
     ]
    },
    {
     "data": {
      "text/html": [
       "<table><tr><td><img width=300 src=\"val2014/COCO_val2014_000000268556.jpg\" ></img></td><td><img width=300 src=\"val2014/COCO_val2014_000000268556.jpg\" ></img></td></tr><tr><td><b>normal</b></td><td><b>contrastive</b></td></tr><tr><td><ol><li>a woman riding a motorcycle down a street</li><li>a woman riding on the back of a motorcycle</li><li>a woman riding a motorcycle down the street</li><li>a woman riding a motorcycle down a city street</li><li>a woman riding a motorcycle on a city street</li></ol></td><td><ol><li>a woman riding a motorcycle down a street</li><li>a woman riding on the back of a motorcycle</li><li>a woman riding a motorcycle down the street</li><li>a woman riding a motorcycle down a city street</li><li>a woman riding a motorcycle on a city street</li></ol></td></tr></table>"
      ],
      "text/plain": [
       "<IPython.core.display.HTML object>"
      ]
     },
     "metadata": {},
     "output_type": "display_data"
    },
    {
     "data": {
      "text/html": [
       "<table><tr><td><img width=300 src=\"val2014/COCO_val2014_000000268556.jpg\" ></img></td><td><img width=300 src=\"val2014/COCO_val2014_000000007325.jpg\" ></img></td></tr></table>"
      ],
      "text/plain": [
       "<IPython.core.display.HTML object>"
      ]
     },
     "metadata": {},
     "output_type": "display_data"
    },
    {
     "data": {
      "text/html": [
       "<table><tr><td><img width=300 src=\"val2014/COCO_val2014_000000045110.jpg\" ></img></td><td><img width=300 src=\"train2014/COCO_train2014_000000482252.jpg\" ></img></td><td><img width=300 src=\"train2014/COCO_train2014_000000540840.jpg\" ></img></td><td><img width=300 src=\"train2014/COCO_train2014_000000174354.jpg\" ></img></td><td><img width=300 src=\"train2014/COCO_train2014_000000255604.jpg\" ></img></td></tr><tr><td><b>0.0692</b></td><td><b>0.0511</b></td><td><b>0.0972</b></td><td><b>0.0759</b></td><td><b>0.0988</b></td></tr><tr><td><img width=300 src=\"val2014/COCO_val2014_000000007325.jpg\" ></img></td><td><img width=300 src=\"val2014/COCO_val2014_000000340778.jpg\" ></img></td><td><img width=300 src=\"val2014/COCO_val2014_000000175831.jpg\" ></img></td><td><img width=300 src=\"train2014/COCO_train2014_000000366430.jpg\" ></img></td><td><img width=300 src=\"train2014/COCO_train2014_000000148727.jpg\" ></img></td></tr><tr><td><b>0.1608</b></td><td><b>0.1502</b></td><td><b>0.0876</b></td><td><b>0.1335</b></td><td><b>0.0758</b></td></tr></table>"
      ],
      "text/plain": [
       "<IPython.core.display.HTML object>"
      ]
     },
     "metadata": {},
     "output_type": "display_data"
    },
    {
     "name": "stdout",
     "output_type": "stream",
     "text": [
      "\n"
     ]
    },
    {
     "data": {
      "text/html": [
       "<table><tr><td><img width=300 src=\"val2014/COCO_val2014_000000386912.jpg\" ></img></td><td><img width=300 src=\"val2014/COCO_val2014_000000386912.jpg\" ></img></td></tr><tr><td><b>normal</b></td><td><b>contrastive</b></td></tr><tr><td><ol><li>a woman sitting at a desk with a computer</li><li>a woman sitting at a desk with a laptop</li><li>a woman sitting at a desk with a laptop computer</li><li>a woman sitting at a desk in front of a computer</li><li>a woman sitting at a desk in front of a laptop</li></ol></td><td><ol><li>a woman sitting at a desk with a computer</li><li>a woman sitting at a desk with a laptop</li><li>a woman sitting at a desk with a laptop computer</li><li>a woman sitting at a desk in front of a computer</li><li>a woman sitting at a desk in front of a laptop</li></ol></td></tr></table>"
      ],
      "text/plain": [
       "<IPython.core.display.HTML object>"
      ]
     },
     "metadata": {},
     "output_type": "display_data"
    },
    {
     "data": {
      "text/html": [
       "<table><tr><td><img width=300 src=\"val2014/COCO_val2014_000000386912.jpg\" ></img></td><td><img width=300 src=\"train2014/COCO_train2014_000000497010.jpg\" ></img></td></tr></table>"
      ],
      "text/plain": [
       "<IPython.core.display.HTML object>"
      ]
     },
     "metadata": {},
     "output_type": "display_data"
    },
    {
     "data": {
      "text/html": [
       "<table><tr><td><img width=300 src=\"train2014/COCO_train2014_000000272647.jpg\" ></img></td><td><img width=300 src=\"train2014/COCO_train2014_000000336839.jpg\" ></img></td><td><img width=300 src=\"train2014/COCO_train2014_000000275997.jpg\" ></img></td><td><img width=300 src=\"val2014/COCO_val2014_000000121586.jpg\" ></img></td><td><img width=300 src=\"train2014/COCO_train2014_000000563391.jpg\" ></img></td></tr><tr><td><b>0.0865</b></td><td><b>0.1253</b></td><td><b>0.0949</b></td><td><b>0.0543</b></td><td><b>0.1037</b></td></tr><tr><td><img width=300 src=\"train2014/COCO_train2014_000000096723.jpg\" ></img></td><td><img width=300 src=\"train2014/COCO_train2014_000000136185.jpg\" ></img></td><td><img width=300 src=\"train2014/COCO_train2014_000000003685.jpg\" ></img></td><td><img width=300 src=\"train2014/COCO_train2014_000000031587.jpg\" ></img></td><td><img width=300 src=\"train2014/COCO_train2014_000000497010.jpg\" ></img></td></tr><tr><td><b>0.0576</b></td><td><b>0.0828</b></td><td><b>0.1249</b></td><td><b>0.1229</b></td><td><b>0.1471</b></td></tr></table>"
      ],
      "text/plain": [
       "<IPython.core.display.HTML object>"
      ]
     },
     "metadata": {},
     "output_type": "display_data"
    },
    {
     "name": "stdout",
     "output_type": "stream",
     "text": [
      "\n"
     ]
    },
    {
     "data": {
      "text/html": [
       "<table><tr><td><img width=300 src=\"val2014/COCO_val2014_000000074331.jpg\" ></img></td><td><img width=300 src=\"val2014/COCO_val2014_000000074331.jpg\" ></img></td></tr><tr><td><b>normal</b></td><td><b>contrastive</b></td></tr><tr><td><ol><li>a bunch of bananas that are in a box</li><li>a bunch of bananas that are on a table</li><li>a bunch of bananas that are on display</li><li>a bunch of bananas sitting on top of a table</li><li>a pile of bananas sitting on top of a table</li></ol></td><td><ol><li>a bunch of bananas that are in a box</li><li>a bunch of bananas that are on a table</li><li>a bunch of bananas that are on display</li><li>a bunch of bananas sitting on top of a table</li><li>a pile of bananas sitting on top of a table</li></ol></td></tr></table>"
      ],
      "text/plain": [
       "<IPython.core.display.HTML object>"
      ]
     },
     "metadata": {},
     "output_type": "display_data"
    },
    {
     "data": {
      "text/html": [
       "<table><tr><td><img width=300 src=\"val2014/COCO_val2014_000000074331.jpg\" ></img></td><td><img width=300 src=\"train2014/COCO_train2014_000000436354.jpg\" ></img></td></tr></table>"
      ],
      "text/plain": [
       "<IPython.core.display.HTML object>"
      ]
     },
     "metadata": {},
     "output_type": "display_data"
    },
    {
     "data": {
      "text/html": [
       "<table><tr><td><img width=300 src=\"train2014/COCO_train2014_000000537862.jpg\" ></img></td><td><img width=300 src=\"train2014/COCO_train2014_000000110886.jpg\" ></img></td><td><img width=300 src=\"train2014/COCO_train2014_000000436354.jpg\" ></img></td><td><img width=300 src=\"train2014/COCO_train2014_000000259297.jpg\" ></img></td><td><img width=300 src=\"train2014/COCO_train2014_000000544687.jpg\" ></img></td></tr><tr><td><b>0.0471</b></td><td><b>0.0641</b></td><td><b>0.1111</b></td><td><b>0.1111</b></td><td><b>0.1111</b></td></tr><tr><td><img width=300 src=\"train2014/COCO_train2014_000000514902.jpg\" ></img></td><td><img width=300 src=\"val2014/COCO_val2014_000000504541.jpg\" ></img></td><td><img width=300 src=\"train2014/COCO_train2014_000000332891.jpg\" ></img></td><td><img width=300 src=\"val2014/COCO_val2014_000000114504.jpg\" ></img></td><td><img width=300 src=\"train2014/COCO_train2014_000000364748.jpg\" ></img></td></tr><tr><td><b>0.1111</b></td><td><b>0.1111</b></td><td><b>0.1111</b></td><td><b>0.1111</b></td><td><b>0.1111</b></td></tr></table>"
      ],
      "text/plain": [
       "<IPython.core.display.HTML object>"
      ]
     },
     "metadata": {},
     "output_type": "display_data"
    },
    {
     "name": "stdout",
     "output_type": "stream",
     "text": [
      "\n"
     ]
    },
    {
     "data": {
      "text/html": [
       "<table><tr><td><img width=300 src=\"val2014/COCO_val2014_000000078371.jpg\" ></img></td><td><img width=300 src=\"val2014/COCO_val2014_000000078371.jpg\" ></img></td></tr><tr><td><b>normal</b></td><td><b>contrastive</b></td></tr><tr><td><ol><li>a plane that is sitting on a runway</li><li>a plane that is sitting on the runway</li><li>a plane that is sitting on the ground</li><li>a small airplane is parked on the runway</li><li>a small plane is parked on the runway</li></ol></td><td><ol><li>a close up of a plane on a runway</li><li>a close up of a small plane on a runway</li><li>a close up of a propeller plane on a runway</li><li>a close up of a propeller plane on a run way</li><li>a close up of a propeller plane on the runway</li></ol></td></tr></table>"
      ],
      "text/plain": [
       "<IPython.core.display.HTML object>"
      ]
     },
     "metadata": {},
     "output_type": "display_data"
    },
    {
     "data": {
      "text/html": [
       "<table><tr><td><img width=300 src=\"val2014/COCO_val2014_000000078371.jpg\" ></img></td><td><img width=300 src=\"val2014/COCO_val2014_000000024790.jpg\" ></img></td></tr></table>"
      ],
      "text/plain": [
       "<IPython.core.display.HTML object>"
      ]
     },
     "metadata": {},
     "output_type": "display_data"
    },
    {
     "data": {
      "text/html": [
       "<table><tr><td><img width=300 src=\"train2014/COCO_train2014_000000427803.jpg\" ></img></td><td><img width=300 src=\"val2014/COCO_val2014_000000437370.jpg\" ></img></td><td><img width=300 src=\"val2014/COCO_val2014_000000024790.jpg\" ></img></td><td><img width=300 src=\"train2014/COCO_train2014_000000050294.jpg\" ></img></td><td><img width=300 src=\"train2014/COCO_train2014_000000101626.jpg\" ></img></td></tr><tr><td><b>0.0986</b></td><td><b>0.0763</b></td><td><b>0.1046</b></td><td><b>0.1046</b></td><td><b>0.1046</b></td></tr><tr><td><img width=300 src=\"val2014/COCO_val2014_000000395849.jpg\" ></img></td><td><img width=300 src=\"val2014/COCO_val2014_000000109045.jpg\" ></img></td><td><img width=300 src=\"val2014/COCO_val2014_000000515043.jpg\" ></img></td><td><img width=300 src=\"train2014/COCO_train2014_000000250920.jpg\" ></img></td><td><img width=300 src=\"train2014/COCO_train2014_000000255728.jpg\" ></img></td></tr><tr><td><b>0.1046</b></td><td><b>0.0938</b></td><td><b>0.1046</b></td><td><b>0.1039</b></td><td><b>0.1046</b></td></tr></table>"
      ],
      "text/plain": [
       "<IPython.core.display.HTML object>"
      ]
     },
     "metadata": {},
     "output_type": "display_data"
    },
    {
     "name": "stdout",
     "output_type": "stream",
     "text": [
      "\n"
     ]
    },
    {
     "data": {
      "text/html": [
       "<table><tr><td><img width=300 src=\"val2014/COCO_val2014_000000052759.jpg\" ></img></td><td><img width=300 src=\"val2014/COCO_val2014_000000052759.jpg\" ></img></td></tr><tr><td><b>normal</b></td><td><b>contrastive</b></td></tr><tr><td><ol><li>a large passenger jet sitting on top of an airport tarmac</li><li>a large airplane sitting on top of an airport tarmac</li><li>a large passenger jet parked at an airport</li><li>a large passenger jet sitting on top of an airport runway</li><li>a large airplane sitting on top of an airport runway</li></ol></td><td><ol><li>a large jet sitting on top of an airport tarmac</li><li>a large passenger jet sitting on top of an airport tarmac</li><li>a large jet sitting on top of an airport runway</li><li>a large jet sitting on top of a tarmac</li><li>a large passenger jet sitting on top of an airport runway</li></ol></td></tr></table>"
      ],
      "text/plain": [
       "<IPython.core.display.HTML object>"
      ]
     },
     "metadata": {},
     "output_type": "display_data"
    },
    {
     "data": {
      "text/html": [
       "<table><tr><td><img width=300 src=\"val2014/COCO_val2014_000000052759.jpg\" ></img></td><td><img width=300 src=\"train2014/COCO_train2014_000000581797.jpg\" ></img></td></tr></table>"
      ],
      "text/plain": [
       "<IPython.core.display.HTML object>"
      ]
     },
     "metadata": {},
     "output_type": "display_data"
    },
    {
     "data": {
      "text/html": [
       "<table><tr><td><img width=300 src=\"train2014/COCO_train2014_000000518305.jpg\" ></img></td><td><img width=300 src=\"val2014/COCO_val2014_000000289173.jpg\" ></img></td><td><img width=300 src=\"train2014/COCO_train2014_000000581797.jpg\" ></img></td><td><img width=300 src=\"train2014/COCO_train2014_000000387161.jpg\" ></img></td><td><img width=300 src=\"val2014/COCO_val2014_000000513681.jpg\" ></img></td></tr><tr><td><b>0.1063</b></td><td><b>0.0613</b></td><td><b>0.1101</b></td><td><b>0.1101</b></td><td><b>0.0916</b></td></tr><tr><td><img width=300 src=\"train2014/COCO_train2014_000000322350.jpg\" ></img></td><td><img width=300 src=\"train2014/COCO_train2014_000000421314.jpg\" ></img></td><td><img width=300 src=\"train2014/COCO_train2014_000000190338.jpg\" ></img></td><td><img width=300 src=\"train2014/COCO_train2014_000000538285.jpg\" ></img></td><td><img width=300 src=\"train2014/COCO_train2014_000000252132.jpg\" ></img></td></tr><tr><td><b>0.1073</b></td><td><b>0.0973</b></td><td><b>0.1101</b></td><td><b>0.1101</b></td><td><b>0.0956</b></td></tr></table>"
      ],
      "text/plain": [
       "<IPython.core.display.HTML object>"
      ]
     },
     "metadata": {},
     "output_type": "display_data"
    },
    {
     "name": "stdout",
     "output_type": "stream",
     "text": [
      "\n"
     ]
    },
    {
     "data": {
      "text/html": [
       "<table><tr><td><img width=300 src=\"val2014/COCO_val2014_000000128939.jpg\" ></img></td><td><img width=300 src=\"val2014/COCO_val2014_000000128939.jpg\" ></img></td></tr><tr><td><b>normal</b></td><td><b>contrastive</b></td></tr><tr><td><ol><li>a car is stopped at a traffic light</li><li>a car driving down a street next to a traffic light</li><li>a car driving down a street next to a car</li><li>a car driving down a street next to a street light</li><li>a car driving down a street next to a traffic signal</li></ol></td><td><ol><li>a car is stopped at a traffic light</li><li>a car driving down a street next to a traffic light</li><li>a car driving down a street next to a car</li><li>a car driving down a street next to a street light</li><li>a car driving down a street next to a traffic signal</li></ol></td></tr></table>"
      ],
      "text/plain": [
       "<IPython.core.display.HTML object>"
      ]
     },
     "metadata": {},
     "output_type": "display_data"
    },
    {
     "data": {
      "text/html": [
       "<table><tr><td><img width=300 src=\"val2014/COCO_val2014_000000128939.jpg\" ></img></td><td><img width=300 src=\"train2014/COCO_train2014_000000435929.jpg\" ></img></td></tr></table>"
      ],
      "text/plain": [
       "<IPython.core.display.HTML object>"
      ]
     },
     "metadata": {},
     "output_type": "display_data"
    },
    {
     "data": {
      "text/html": [
       "<table><tr><td><img width=300 src=\"val2014/COCO_val2014_000000267224.jpg\" ></img></td><td><img width=300 src=\"train2014/COCO_train2014_000000326320.jpg\" ></img></td><td><img width=300 src=\"train2014/COCO_train2014_000000296489.jpg\" ></img></td><td><img width=300 src=\"train2014/COCO_train2014_000000494574.jpg\" ></img></td><td><img width=300 src=\"train2014/COCO_train2014_000000435929.jpg\" ></img></td></tr><tr><td><b>0.0453</b></td><td><b>0.0806</b></td><td><b>0.0779</b></td><td><b>0.1123</b></td><td><b>0.1375</b></td></tr><tr><td><img width=300 src=\"train2014/COCO_train2014_000000323489.jpg\" ></img></td><td><img width=300 src=\"train2014/COCO_train2014_000000178181.jpg\" ></img></td><td><img width=300 src=\"train2014/COCO_train2014_000000417607.jpg\" ></img></td><td><img width=300 src=\"val2014/COCO_val2014_000000263594.jpg\" ></img></td><td><img width=300 src=\"val2014/COCO_val2014_000000201859.jpg\" ></img></td></tr><tr><td><b>0.1090</b></td><td><b>0.1375</b></td><td><b>0.0804</b></td><td><b>0.0924</b></td><td><b>0.1272</b></td></tr></table>"
      ],
      "text/plain": [
       "<IPython.core.display.HTML object>"
      ]
     },
     "metadata": {},
     "output_type": "display_data"
    },
    {
     "name": "stdout",
     "output_type": "stream",
     "text": [
      "\n"
     ]
    },
    {
     "data": {
      "text/html": [
       "<table><tr><td><img width=300 src=\"val2014/COCO_val2014_000000339974.jpg\" ></img></td><td><img width=300 src=\"val2014/COCO_val2014_000000339974.jpg\" ></img></td></tr><tr><td><b>normal</b></td><td><b>contrastive</b></td></tr><tr><td><ol><li>a traffic light sitting on the side of a road</li><li>a traffic light sitting on the side of a street</li><li>a traffic light sitting on the side of the road</li><li>a traffic light and a traffic light on a city street</li><li>a traffic light sitting on the side of a road next to a traffic light</li></ol></td><td><ol><li>a traffic light sitting on the side of a road</li><li>a traffic light sitting on the side of a street</li><li>a traffic light and a traffic light on a street</li><li>a traffic light and a traffic light on a city street</li><li>a traffic light sitting on the side of a road next to a traffic light</li></ol></td></tr></table>"
      ],
      "text/plain": [
       "<IPython.core.display.HTML object>"
      ]
     },
     "metadata": {},
     "output_type": "display_data"
    },
    {
     "data": {
      "text/html": [
       "<table><tr><td><img width=300 src=\"val2014/COCO_val2014_000000339974.jpg\" ></img></td><td><img width=300 src=\"train2014/COCO_train2014_000000473741.jpg\" ></img></td></tr></table>"
      ],
      "text/plain": [
       "<IPython.core.display.HTML object>"
      ]
     },
     "metadata": {},
     "output_type": "display_data"
    },
    {
     "data": {
      "text/html": [
       "<table><tr><td><img width=300 src=\"train2014/COCO_train2014_000000108536.jpg\" ></img></td><td><img width=300 src=\"train2014/COCO_train2014_000000473741.jpg\" ></img></td><td><img width=300 src=\"train2014/COCO_train2014_000000157029.jpg\" ></img></td><td><img width=300 src=\"train2014/COCO_train2014_000000138807.jpg\" ></img></td><td><img width=300 src=\"val2014/COCO_val2014_000000518574.jpg\" ></img></td></tr><tr><td><b>0.1000</b></td><td><b>0.1008</b></td><td><b>0.1008</b></td><td><b>0.1008</b></td><td><b>0.1008</b></td></tr><tr><td><img width=300 src=\"val2014/COCO_val2014_000000168234.jpg\" ></img></td><td><img width=300 src=\"train2014/COCO_train2014_000000061945.jpg\" ></img></td><td><img width=300 src=\"train2014/COCO_train2014_000000301769.jpg\" ></img></td><td><img width=300 src=\"train2014/COCO_train2014_000000132621.jpg\" ></img></td><td><img width=300 src=\"val2014/COCO_val2014_000000513646.jpg\" ></img></td></tr><tr><td><b>0.1008</b></td><td><b>0.1008</b></td><td><b>0.1008</b></td><td><b>0.0936</b></td><td><b>0.1008</b></td></tr></table>"
      ],
      "text/plain": [
       "<IPython.core.display.HTML object>"
      ]
     },
     "metadata": {},
     "output_type": "display_data"
    },
    {
     "name": "stdout",
     "output_type": "stream",
     "text": [
      "\n"
     ]
    }
   ],
   "source": [
    "# random + closest trained\n",
    "# display_em_model(batch, k=20, neighbor_types=['random', 'closest'], choose_distractor=True)\n",
    "display_em_model(next(loader.iters['val']), k=10, neighbor_types=['closest'], choose_distractor=True)"
   ]
  },
  {
   "cell_type": "code",
   "execution_count": 91,
   "metadata": {
    "scrolled": false
   },
   "outputs": [
    {
     "data": {
      "text/html": [
       "<table><tr><td><img width=300 src=\"val2014/COCO_val2014_000000009426.jpg\" ></img></td><td><img width=300 src=\"val2014/COCO_val2014_000000009426.jpg\" ></img></td></tr><tr><td><b>normal</b></td><td><b>contrastive</b></td></tr><tr><td><ol><li>a red and white plane flying in the sky</li><li>a red and white plane flying through a blue sky</li><li>a red and white airplane flying in the sky</li><li>a red and white plane flying in the air</li><li>a red and white airplane flying through a blue sky</li></ol></td><td><ol><li>a red and white plane flying in the sky</li><li>a red and white plane flying through a blue sky</li><li>a red and white plane flying in the air</li><li>a red and white airplane flying in the sky</li><li>a red and white plane is flying in the sky</li></ol></td></tr></table>"
      ],
      "text/plain": [
       "<IPython.core.display.HTML object>"
      ]
     },
     "metadata": {},
     "output_type": "display_data"
    },
    {
     "data": {
      "text/html": [
       "<table><tr><td><img width=300 src=\"val2014/COCO_val2014_000000009426.jpg\" ></img></td><td><img width=300 src=\"val2014/COCO_val2014_000000295765.jpg\" ></img></td></tr></table>"
      ],
      "text/plain": [
       "<IPython.core.display.HTML object>"
      ]
     },
     "metadata": {},
     "output_type": "display_data"
    },
    {
     "data": {
      "text/html": [
       "<table><tr><td><img width=300 src=\"train2014/COCO_train2014_000000512438.jpg\" ></img></td><td><img width=300 src=\"val2014/COCO_val2014_000000183500.jpg\" ></img></td><td><img width=300 src=\"train2014/COCO_train2014_000000440786.jpg\" ></img></td><td><img width=300 src=\"train2014/COCO_train2014_000000331738.jpg\" ></img></td><td><img width=300 src=\"val2014/COCO_val2014_000000295765.jpg\" ></img></td></tr><tr><td><b>0.0957</b></td><td><b>0.1000</b></td><td><b>0.0967</b></td><td><b>0.0989</b></td><td><b>0.1061</b></td></tr><tr><td><img width=300 src=\"train2014/COCO_train2014_000000329097.jpg\" ></img></td><td><img width=300 src=\"val2014/COCO_val2014_000000560272.jpg\" ></img></td><td><img width=300 src=\"train2014/COCO_train2014_000000091118.jpg\" ></img></td><td><img width=300 src=\"train2014/COCO_train2014_000000321577.jpg\" ></img></td><td><img width=300 src=\"train2014/COCO_train2014_000000128752.jpg\" ></img></td></tr><tr><td><b>0.0939</b></td><td><b>0.1046</b></td><td><b>0.1005</b></td><td><b>0.0978</b></td><td><b>0.1058</b></td></tr></table>"
      ],
      "text/plain": [
       "<IPython.core.display.HTML object>"
      ]
     },
     "metadata": {},
     "output_type": "display_data"
    },
    {
     "name": "stdout",
     "output_type": "stream",
     "text": [
      "\n"
     ]
    },
    {
     "data": {
      "text/html": [
       "<table><tr><td><img width=300 src=\"val2014/COCO_val2014_000000242139.jpg\" ></img></td><td><img width=300 src=\"val2014/COCO_val2014_000000242139.jpg\" ></img></td></tr><tr><td><b>normal</b></td><td><b>contrastive</b></td></tr><tr><td><ol><li>a city street filled with lots of tall buildings</li><li>a city street filled with lots of traffic</li><li>a city street filled with traffic and tall buildings</li><li>a city street filled with lots of traffic and tall buildings</li><li>a city street filled with lots of traffic and buildings</li></ol></td><td><ol><li>a city street filled with lots of tall buildings</li><li>a city street filled with lots of traffic</li><li>a city street filled with traffic and tall buildings</li><li>a city street filled with lots of traffic and tall buildings</li><li>a city street filled with lots of traffic and buildings</li></ol></td></tr></table>"
      ],
      "text/plain": [
       "<IPython.core.display.HTML object>"
      ]
     },
     "metadata": {},
     "output_type": "display_data"
    },
    {
     "data": {
      "text/html": [
       "<table><tr><td><img width=300 src=\"val2014/COCO_val2014_000000242139.jpg\" ></img></td><td><img width=300 src=\"train2014/COCO_train2014_000000293308.jpg\" ></img></td></tr></table>"
      ],
      "text/plain": [
       "<IPython.core.display.HTML object>"
      ]
     },
     "metadata": {},
     "output_type": "display_data"
    },
    {
     "data": {
      "text/html": [
       "<table><tr><td><img width=300 src=\"train2014/COCO_train2014_000000533739.jpg\" ></img></td><td><img width=300 src=\"train2014/COCO_train2014_000000219750.jpg\" ></img></td><td><img width=300 src=\"val2014/COCO_val2014_000000230615.jpg\" ></img></td><td><img width=300 src=\"train2014/COCO_train2014_000000219225.jpg\" ></img></td><td><img width=300 src=\"train2014/COCO_train2014_000000263826.jpg\" ></img></td></tr><tr><td><b>0.0981</b></td><td><b>0.1089</b></td><td><b>0.0978</b></td><td><b>0.1020</b></td><td><b>0.0935</b></td></tr><tr><td><img width=300 src=\"val2014/COCO_val2014_000000553511.jpg\" ></img></td><td><img width=300 src=\"val2014/COCO_val2014_000000308388.jpg\" ></img></td><td><img width=300 src=\"train2014/COCO_train2014_000000087113.jpg\" ></img></td><td><img width=300 src=\"train2014/COCO_train2014_000000293308.jpg\" ></img></td><td><img width=300 src=\"train2014/COCO_train2014_000000258182.jpg\" ></img></td></tr><tr><td><b>0.0946</b></td><td><b>0.0948</b></td><td><b>0.1023</b></td><td><b>0.1104</b></td><td><b>0.0975</b></td></tr></table>"
      ],
      "text/plain": [
       "<IPython.core.display.HTML object>"
      ]
     },
     "metadata": {},
     "output_type": "display_data"
    },
    {
     "name": "stdout",
     "output_type": "stream",
     "text": [
      "\n"
     ]
    },
    {
     "data": {
      "text/html": [
       "<table><tr><td><img width=300 src=\"val2014/COCO_val2014_000000143931.jpg\" ></img></td><td><img width=300 src=\"val2014/COCO_val2014_000000143931.jpg\" ></img></td></tr><tr><td><b>normal</b></td><td><b>contrastive</b></td></tr><tr><td><ol><li>a blue truck parked in a parking lot</li><li>a blue truck parked in front of a building</li><li>a blue truck parked on the side of the road</li><li>a blue truck parked on the side of a road</li><li>a blue and white truck parked in front of a building</li></ol></td><td><ol><li>a bus that is sitting in the street</li><li>a bus parked in front of a building</li><li>a bus that is parked on the side of the road</li><li>a bus that is parked on the side of the street</li><li>a bus parked in a parking lot next to a building</li></ol></td></tr></table>"
      ],
      "text/plain": [
       "<IPython.core.display.HTML object>"
      ]
     },
     "metadata": {},
     "output_type": "display_data"
    },
    {
     "data": {
      "text/html": [
       "<table><tr><td><img width=300 src=\"val2014/COCO_val2014_000000143931.jpg\" ></img></td><td><img width=300 src=\"train2014/COCO_train2014_000000514801.jpg\" ></img></td></tr></table>"
      ],
      "text/plain": [
       "<IPython.core.display.HTML object>"
      ]
     },
     "metadata": {},
     "output_type": "display_data"
    },
    {
     "data": {
      "text/html": [
       "<table><tr><td><img width=300 src=\"train2014/COCO_train2014_000000550874.jpg\" ></img></td><td><img width=300 src=\"train2014/COCO_train2014_000000381759.jpg\" ></img></td><td><img width=300 src=\"val2014/COCO_val2014_000000048196.jpg\" ></img></td><td><img width=300 src=\"train2014/COCO_train2014_000000382854.jpg\" ></img></td><td><img width=300 src=\"train2014/COCO_train2014_000000514801.jpg\" ></img></td></tr><tr><td><b>0.1036</b></td><td><b>0.0922</b></td><td><b>0.0984</b></td><td><b>0.0984</b></td><td><b>0.1057</b></td></tr><tr><td><img width=300 src=\"val2014/COCO_val2014_000000196759.jpg\" ></img></td><td><img width=300 src=\"train2014/COCO_train2014_000000360500.jpg\" ></img></td><td><img width=300 src=\"val2014/COCO_val2014_000000501379.jpg\" ></img></td><td><img width=300 src=\"train2014/COCO_train2014_000000366907.jpg\" ></img></td><td><img width=300 src=\"train2014/COCO_train2014_000000023066.jpg\" ></img></td></tr><tr><td><b>0.0992</b></td><td><b>0.0979</b></td><td><b>0.1007</b></td><td><b>0.1015</b></td><td><b>0.1025</b></td></tr></table>"
      ],
      "text/plain": [
       "<IPython.core.display.HTML object>"
      ]
     },
     "metadata": {},
     "output_type": "display_data"
    },
    {
     "name": "stdout",
     "output_type": "stream",
     "text": [
      "\n"
     ]
    },
    {
     "data": {
      "text/html": [
       "<table><tr><td><img width=300 src=\"val2014/COCO_val2014_000000040102.jpg\" ></img></td><td><img width=300 src=\"val2014/COCO_val2014_000000040102.jpg\" ></img></td></tr><tr><td><b>normal</b></td><td><b>contrastive</b></td></tr><tr><td><ol><li>a couple of giraffe standing next to each other</li><li>a couple of giraffe standing on top of a lush green field</li><li>a couple of giraffe walking across a lush green field</li><li>two giraffes are standing in a grassy field</li><li>a couple of giraffe standing next to each other on a lush green field</li></ol></td><td><ol><li>a couple of giraffe walking across a lush green field</li><li>a couple of giraffe standing on top of a lush green field</li><li>a couple of giraffe standing on top of a green field</li><li>a couple of giraffe walking across a grass covered field</li><li>two giraffes are walking in a grassy field</li></ol></td></tr></table>"
      ],
      "text/plain": [
       "<IPython.core.display.HTML object>"
      ]
     },
     "metadata": {},
     "output_type": "display_data"
    },
    {
     "data": {
      "text/html": [
       "<table><tr><td><img width=300 src=\"val2014/COCO_val2014_000000040102.jpg\" ></img></td><td><img width=300 src=\"train2014/COCO_train2014_000000119529.jpg\" ></img></td></tr></table>"
      ],
      "text/plain": [
       "<IPython.core.display.HTML object>"
      ]
     },
     "metadata": {},
     "output_type": "display_data"
    },
    {
     "data": {
      "text/html": [
       "<table><tr><td><img width=300 src=\"train2014/COCO_train2014_000000238713.jpg\" ></img></td><td><img width=300 src=\"val2014/COCO_val2014_000000022257.jpg\" ></img></td><td><img width=300 src=\"train2014/COCO_train2014_000000508969.jpg\" ></img></td><td><img width=300 src=\"train2014/COCO_train2014_000000172426.jpg\" ></img></td><td><img width=300 src=\"train2014/COCO_train2014_000000257983.jpg\" ></img></td></tr><tr><td><b>0.1004</b></td><td><b>0.0989</b></td><td><b>0.0971</b></td><td><b>0.0947</b></td><td><b>0.1022</b></td></tr><tr><td><img width=300 src=\"train2014/COCO_train2014_000000094045.jpg\" ></img></td><td><img width=300 src=\"train2014/COCO_train2014_000000466790.jpg\" ></img></td><td><img width=300 src=\"train2014/COCO_train2014_000000063587.jpg\" ></img></td><td><img width=300 src=\"train2014/COCO_train2014_000000119529.jpg\" ></img></td><td><img width=300 src=\"train2014/COCO_train2014_000000021061.jpg\" ></img></td></tr><tr><td><b>0.1017</b></td><td><b>0.0972</b></td><td><b>0.0957</b></td><td><b>0.1067</b></td><td><b>0.1054</b></td></tr></table>"
      ],
      "text/plain": [
       "<IPython.core.display.HTML object>"
      ]
     },
     "metadata": {},
     "output_type": "display_data"
    },
    {
     "name": "stdout",
     "output_type": "stream",
     "text": [
      "\n"
     ]
    },
    {
     "data": {
      "text/html": [
       "<table><tr><td><img width=300 src=\"val2014/COCO_val2014_000000403020.jpg\" ></img></td><td><img width=300 src=\"val2014/COCO_val2014_000000403020.jpg\" ></img></td></tr><tr><td><b>normal</b></td><td><b>contrastive</b></td></tr><tr><td><ol><li>a giraffe is laying down in the dirt</li><li>a giraffe is laying down in the sand</li><li>a giraffe laying on the ground in a zoo</li><li>a giraffe laying on the ground next to a stone wall</li><li>a giraffe laying on the ground next to a rock wall</li></ol></td><td><ol><li>a giraffe is laying down in the dirt</li><li>a giraffe is laying down in the sand</li><li>a giraffe laying on the ground in a zoo</li><li>a giraffe laying on the ground next to a stone wall</li><li>a giraffe laying on the ground next to a rock wall</li></ol></td></tr></table>"
      ],
      "text/plain": [
       "<IPython.core.display.HTML object>"
      ]
     },
     "metadata": {},
     "output_type": "display_data"
    },
    {
     "data": {
      "text/html": [
       "<table><tr><td><img width=300 src=\"val2014/COCO_val2014_000000403020.jpg\" ></img></td><td><img width=300 src=\"train2014/COCO_train2014_000000517045.jpg\" ></img></td></tr></table>"
      ],
      "text/plain": [
       "<IPython.core.display.HTML object>"
      ]
     },
     "metadata": {},
     "output_type": "display_data"
    },
    {
     "data": {
      "text/html": [
       "<table><tr><td><img width=300 src=\"train2014/COCO_train2014_000000050101.jpg\" ></img></td><td><img width=300 src=\"train2014/COCO_train2014_000000334957.jpg\" ></img></td><td><img width=300 src=\"train2014/COCO_train2014_000000067572.jpg\" ></img></td><td><img width=300 src=\"train2014/COCO_train2014_000000476871.jpg\" ></img></td><td><img width=300 src=\"val2014/COCO_val2014_000000196650.jpg\" ></img></td></tr><tr><td><b>0.1047</b></td><td><b>0.0924</b></td><td><b>0.0996</b></td><td><b>0.0980</b></td><td><b>0.1002</b></td></tr><tr><td><img width=300 src=\"train2014/COCO_train2014_000000262098.jpg\" ></img></td><td><img width=300 src=\"train2014/COCO_train2014_000000517045.jpg\" ></img></td><td><img width=300 src=\"val2014/COCO_val2014_000000134160.jpg\" ></img></td><td><img width=300 src=\"train2014/COCO_train2014_000000532147.jpg\" ></img></td><td><img width=300 src=\"val2014/COCO_val2014_000000494679.jpg\" ></img></td></tr><tr><td><b>0.1003</b></td><td><b>0.1098</b></td><td><b>0.0987</b></td><td><b>0.0959</b></td><td><b>0.1003</b></td></tr></table>"
      ],
      "text/plain": [
       "<IPython.core.display.HTML object>"
      ]
     },
     "metadata": {},
     "output_type": "display_data"
    },
    {
     "name": "stdout",
     "output_type": "stream",
     "text": [
      "\n"
     ]
    },
    {
     "data": {
      "text/html": [
       "<table><tr><td><img width=300 src=\"val2014/COCO_val2014_000000505440.jpg\" ></img></td><td><img width=300 src=\"val2014/COCO_val2014_000000505440.jpg\" ></img></td></tr><tr><td><b>normal</b></td><td><b>contrastive</b></td></tr><tr><td><ol><li>a couple of giraffe standing on top of a lush green field</li><li>a couple of giraffe standing on top of a grass covered field</li><li>two giraffes are standing in a grassy field</li><li>two giraffes are standing in a grassy area</li><li>two giraffes standing in the grass near trees</li></ol></td><td><ol><li>two giraffes standing next to each other in a forest</li><li>two giraffes are standing in a grassy field</li><li>two giraffes are standing in a grassy area</li><li>two giraffes standing next to each other on a lush green field</li><li>two giraffes standing next to each other in a field</li></ol></td></tr></table>"
      ],
      "text/plain": [
       "<IPython.core.display.HTML object>"
      ]
     },
     "metadata": {},
     "output_type": "display_data"
    },
    {
     "data": {
      "text/html": [
       "<table><tr><td><img width=300 src=\"val2014/COCO_val2014_000000505440.jpg\" ></img></td><td><img width=300 src=\"train2014/COCO_train2014_000000359189.jpg\" ></img></td></tr></table>"
      ],
      "text/plain": [
       "<IPython.core.display.HTML object>"
      ]
     },
     "metadata": {},
     "output_type": "display_data"
    },
    {
     "data": {
      "text/html": [
       "<table><tr><td><img width=300 src=\"train2014/COCO_train2014_000000340345.jpg\" ></img></td><td><img width=300 src=\"train2014/COCO_train2014_000000359189.jpg\" ></img></td><td><img width=300 src=\"train2014/COCO_train2014_000000119529.jpg\" ></img></td><td><img width=300 src=\"train2014/COCO_train2014_000000444464.jpg\" ></img></td><td><img width=300 src=\"train2014/COCO_train2014_000000024095.jpg\" ></img></td></tr><tr><td><b>0.0964</b></td><td><b>0.1071</b></td><td><b>0.1030</b></td><td><b>0.1042</b></td><td><b>0.0971</b></td></tr><tr><td><img width=300 src=\"train2014/COCO_train2014_000000541264.jpg\" ></img></td><td><img width=300 src=\"train2014/COCO_train2014_000000506078.jpg\" ></img></td><td><img width=300 src=\"train2014/COCO_train2014_000000427129.jpg\" ></img></td><td><img width=300 src=\"train2014/COCO_train2014_000000021061.jpg\" ></img></td><td><img width=300 src=\"train2014/COCO_train2014_000000031411.jpg\" ></img></td></tr><tr><td><b>0.1006</b></td><td><b>0.1001</b></td><td><b>0.0950</b></td><td><b>0.1012</b></td><td><b>0.0953</b></td></tr></table>"
      ],
      "text/plain": [
       "<IPython.core.display.HTML object>"
      ]
     },
     "metadata": {},
     "output_type": "display_data"
    },
    {
     "name": "stdout",
     "output_type": "stream",
     "text": [
      "\n"
     ]
    },
    {
     "data": {
      "text/html": [
       "<table><tr><td><img width=300 src=\"val2014/COCO_val2014_000000029913.jpg\" ></img></td><td><img width=300 src=\"val2014/COCO_val2014_000000029913.jpg\" ></img></td></tr><tr><td><b>normal</b></td><td><b>contrastive</b></td></tr><tr><td><ol><li>a fire hydrant on the side of the road</li><li>a fire hydrant on the side of the street</li><li>a fire hydrant on the side of a street</li><li>a fire hydrant on the side of a road</li><li>a fire hydrant on the side of the road with a fire hydrant</li></ol></td><td><ol><li>a fire hydrant on the side of the road</li><li>a fire hydrant on the side of the street</li><li>a fire hydrant on the side of a street</li><li>a fire hydrant on the side of a road</li><li>a fire hydrant on the side of the road with a fire hydrant</li></ol></td></tr></table>"
      ],
      "text/plain": [
       "<IPython.core.display.HTML object>"
      ]
     },
     "metadata": {},
     "output_type": "display_data"
    },
    {
     "data": {
      "text/html": [
       "<table><tr><td><img width=300 src=\"val2014/COCO_val2014_000000029913.jpg\" ></img></td><td><img width=300 src=\"train2014/COCO_train2014_000000490887.jpg\" ></img></td></tr></table>"
      ],
      "text/plain": [
       "<IPython.core.display.HTML object>"
      ]
     },
     "metadata": {},
     "output_type": "display_data"
    },
    {
     "data": {
      "text/html": [
       "<table><tr><td><img width=300 src=\"train2014/COCO_train2014_000000328662.jpg\" ></img></td><td><img width=300 src=\"train2014/COCO_train2014_000000490887.jpg\" ></img></td><td><img width=300 src=\"train2014/COCO_train2014_000000016805.jpg\" ></img></td><td><img width=300 src=\"train2014/COCO_train2014_000000236769.jpg\" ></img></td><td><img width=300 src=\"train2014/COCO_train2014_000000517835.jpg\" ></img></td></tr><tr><td><b>0.1025</b></td><td><b>0.1087</b></td><td><b>0.1019</b></td><td><b>0.1061</b></td><td><b>0.0952</b></td></tr><tr><td><img width=300 src=\"train2014/COCO_train2014_000000359695.jpg\" ></img></td><td><img width=300 src=\"train2014/COCO_train2014_000000373898.jpg\" ></img></td><td><img width=300 src=\"train2014/COCO_train2014_000000110616.jpg\" ></img></td><td><img width=300 src=\"train2014/COCO_train2014_000000262747.jpg\" ></img></td><td><img width=300 src=\"train2014/COCO_train2014_000000292283.jpg\" ></img></td></tr><tr><td><b>0.1032</b></td><td><b>0.0934</b></td><td><b>0.1067</b></td><td><b>0.0884</b></td><td><b>0.0938</b></td></tr></table>"
      ],
      "text/plain": [
       "<IPython.core.display.HTML object>"
      ]
     },
     "metadata": {},
     "output_type": "display_data"
    },
    {
     "name": "stdout",
     "output_type": "stream",
     "text": [
      "\n"
     ]
    },
    {
     "data": {
      "text/html": [
       "<table><tr><td><img width=300 src=\"val2014/COCO_val2014_000000431573.jpg\" ></img></td><td><img width=300 src=\"val2014/COCO_val2014_000000431573.jpg\" ></img></td></tr><tr><td><b>normal</b></td><td><b>contrastive</b></td></tr><tr><td><ol><li>a fire hydrant spewing water onto a street</li><li>a red fire hydrant spewing water onto a street</li><li>a red fire hydrant spewing water onto a sidewalk</li><li>a red fire hydrant in the middle of a street</li><li>a red fire hydrant in the middle of a sidewalk</li></ol></td><td><ol><li>a red fire hydrant spewing water onto a street</li><li>a red fire hydrant spewing water onto a sidewalk</li><li>a red fire hydrant spewing water onto the street</li><li>a red fire hydrant in the middle of a street</li><li>a red fire hydrant in the middle of a sidewalk</li></ol></td></tr></table>"
      ],
      "text/plain": [
       "<IPython.core.display.HTML object>"
      ]
     },
     "metadata": {},
     "output_type": "display_data"
    },
    {
     "data": {
      "text/html": [
       "<table><tr><td><img width=300 src=\"val2014/COCO_val2014_000000431573.jpg\" ></img></td><td><img width=300 src=\"train2014/COCO_train2014_000000148318.jpg\" ></img></td></tr></table>"
      ],
      "text/plain": [
       "<IPython.core.display.HTML object>"
      ]
     },
     "metadata": {},
     "output_type": "display_data"
    },
    {
     "data": {
      "text/html": [
       "<table><tr><td><img width=300 src=\"train2014/COCO_train2014_000000430144.jpg\" ></img></td><td><img width=300 src=\"train2014/COCO_train2014_000000148318.jpg\" ></img></td><td><img width=300 src=\"val2014/COCO_val2014_000000127455.jpg\" ></img></td><td><img width=300 src=\"val2014/COCO_val2014_000000522015.jpg\" ></img></td><td><img width=300 src=\"train2014/COCO_train2014_000000536884.jpg\" ></img></td></tr><tr><td><b>0.0947</b></td><td><b>0.1095</b></td><td><b>0.1044</b></td><td><b>0.1004</b></td><td><b>0.1028</b></td></tr><tr><td><img width=300 src=\"train2014/COCO_train2014_000000068826.jpg\" ></img></td><td><img width=300 src=\"train2014/COCO_train2014_000000365648.jpg\" ></img></td><td><img width=300 src=\"train2014/COCO_train2014_000000082523.jpg\" ></img></td><td><img width=300 src=\"val2014/COCO_val2014_000000302512.jpg\" ></img></td><td><img width=300 src=\"val2014/COCO_val2014_000000515785.jpg\" ></img></td></tr><tr><td><b>0.1015</b></td><td><b>0.1060</b></td><td><b>0.0935</b></td><td><b>0.0979</b></td><td><b>0.0893</b></td></tr></table>"
      ],
      "text/plain": [
       "<IPython.core.display.HTML object>"
      ]
     },
     "metadata": {},
     "output_type": "display_data"
    },
    {
     "name": "stdout",
     "output_type": "stream",
     "text": [
      "\n"
     ]
    },
    {
     "data": {
      "text/html": [
       "<table><tr><td><img width=300 src=\"val2014/COCO_val2014_000000332654.jpg\" ></img></td><td><img width=300 src=\"val2014/COCO_val2014_000000332654.jpg\" ></img></td></tr><tr><td><b>normal</b></td><td><b>contrastive</b></td></tr><tr><td><ol><li>a yellow and blue fire hydrant sitting on the side of a road</li><li>a blue and yellow fire hydrant sitting on the side of a road</li><li>a yellow and blue fire hydrant on a city street</li><li>a yellow and blue fire hydrant on a sidewalk</li><li>a yellow and blue fire hydrant on a street corner</li></ol></td><td><ol><li>a yellow and blue fire hydrant sitting on the side of a road</li><li>a blue and yellow fire hydrant sitting on the side of a road</li><li>a yellow and blue fire hydrant on a city street</li><li>a yellow and blue fire hydrant on a sidewalk</li><li>a yellow and blue fire hydrant on a street corner</li></ol></td></tr></table>"
      ],
      "text/plain": [
       "<IPython.core.display.HTML object>"
      ]
     },
     "metadata": {},
     "output_type": "display_data"
    },
    {
     "data": {
      "text/html": [
       "<table><tr><td><img width=300 src=\"val2014/COCO_val2014_000000332654.jpg\" ></img></td><td><img width=300 src=\"val2014/COCO_val2014_000000190664.jpg\" ></img></td></tr></table>"
      ],
      "text/plain": [
       "<IPython.core.display.HTML object>"
      ]
     },
     "metadata": {},
     "output_type": "display_data"
    },
    {
     "data": {
      "text/html": [
       "<table><tr><td><img width=300 src=\"val2014/COCO_val2014_000000338560.jpg\" ></img></td><td><img width=300 src=\"train2014/COCO_train2014_000000532482.jpg\" ></img></td><td><img width=300 src=\"val2014/COCO_val2014_000000190664.jpg\" ></img></td><td><img width=300 src=\"train2014/COCO_train2014_000000316993.jpg\" ></img></td><td><img width=300 src=\"train2014/COCO_train2014_000000336040.jpg\" ></img></td></tr><tr><td><b>0.0955</b></td><td><b>0.0982</b></td><td><b>0.1131</b></td><td><b>0.0897</b></td><td><b>0.1048</b></td></tr><tr><td><img width=300 src=\"train2014/COCO_train2014_000000236769.jpg\" ></img></td><td><img width=300 src=\"val2014/COCO_val2014_000000091909.jpg\" ></img></td><td><img width=300 src=\"train2014/COCO_train2014_000000383158.jpg\" ></img></td><td><img width=300 src=\"val2014/COCO_val2014_000000088432.jpg\" ></img></td><td><img width=300 src=\"train2014/COCO_train2014_000000403270.jpg\" ></img></td></tr><tr><td><b>0.1103</b></td><td><b>0.0908</b></td><td><b>0.0939</b></td><td><b>0.0963</b></td><td><b>0.1072</b></td></tr></table>"
      ],
      "text/plain": [
       "<IPython.core.display.HTML object>"
      ]
     },
     "metadata": {},
     "output_type": "display_data"
    },
    {
     "name": "stdout",
     "output_type": "stream",
     "text": [
      "\n"
     ]
    },
    {
     "data": {
      "text/html": [
       "<table><tr><td><img width=300 src=\"val2014/COCO_val2014_000000176649.jpg\" ></img></td><td><img width=300 src=\"val2014/COCO_val2014_000000176649.jpg\" ></img></td></tr><tr><td><b>normal</b></td><td><b>contrastive</b></td></tr><tr><td><ol><li>a close up of a street sign with a sky background</li><li>a close up of a vandalized street sign</li><li>a close up of a street sign on a pole</li><li>a close up of a stop sign with a sky background</li><li>a close up of a street sign with trees in the background</li></ol></td><td><ol><li>a close up of a street sign with a sky background</li><li>a close up of a vandalized street sign</li><li>a close up of a street sign on a pole</li><li>a close up of a stop sign with a sky background</li><li>a close up of a street sign with trees in the background</li></ol></td></tr></table>"
      ],
      "text/plain": [
       "<IPython.core.display.HTML object>"
      ]
     },
     "metadata": {},
     "output_type": "display_data"
    },
    {
     "data": {
      "text/html": [
       "<table><tr><td><img width=300 src=\"val2014/COCO_val2014_000000176649.jpg\" ></img></td><td><img width=300 src=\"val2014/COCO_val2014_000000226128.jpg\" ></img></td></tr></table>"
      ],
      "text/plain": [
       "<IPython.core.display.HTML object>"
      ]
     },
     "metadata": {},
     "output_type": "display_data"
    },
    {
     "data": {
      "text/html": [
       "<table><tr><td><img width=300 src=\"val2014/COCO_val2014_000000136411.jpg\" ></img></td><td><img width=300 src=\"train2014/COCO_train2014_000000112207.jpg\" ></img></td><td><img width=300 src=\"train2014/COCO_train2014_000000037458.jpg\" ></img></td><td><img width=300 src=\"train2014/COCO_train2014_000000247547.jpg\" ></img></td><td><img width=300 src=\"train2014/COCO_train2014_000000389190.jpg\" ></img></td></tr><tr><td><b>0.1168</b></td><td><b>0.0976</b></td><td><b>0.0797</b></td><td><b>0.0919</b></td><td><b>0.1040</b></td></tr><tr><td><img width=300 src=\"val2014/COCO_val2014_000000325368.jpg\" ></img></td><td><img width=300 src=\"val2014/COCO_val2014_000000226128.jpg\" ></img></td><td><img width=300 src=\"train2014/COCO_train2014_000000009176.jpg\" ></img></td><td><img width=300 src=\"train2014/COCO_train2014_000000038435.jpg\" ></img></td><td><img width=300 src=\"train2014/COCO_train2014_000000071217.jpg\" ></img></td></tr><tr><td><b>0.0883</b></td><td><b>0.1170</b></td><td><b>0.1130</b></td><td><b>0.0957</b></td><td><b>0.0960</b></td></tr></table>"
      ],
      "text/plain": [
       "<IPython.core.display.HTML object>"
      ]
     },
     "metadata": {},
     "output_type": "display_data"
    },
    {
     "name": "stdout",
     "output_type": "stream",
     "text": [
      "\n"
     ]
    }
   ],
   "source": [
    "# random + closest trained\n",
    "# display_em_model(batch, k=20, neighbor_types=['random', 'closest'], choose_distractor=True)\n",
    "display_em_model(next(loader.iters['val']), k=10, neighbor_types=['closest'], choose_distractor=True)"
   ]
  },
  {
   "cell_type": "code",
   "execution_count": 92,
   "metadata": {
    "scrolled": false
   },
   "outputs": [
    {
     "data": {
      "text/html": [
       "<table><tr><td><img width=300 src=\"val2014/COCO_val2014_000000173574.jpg\" ></img></td><td><img width=300 src=\"val2014/COCO_val2014_000000173574.jpg\" ></img></td></tr><tr><td><b>normal</b></td><td><b>contrastive</b></td></tr><tr><td><ol><li>a herd of sheep standing on top of a dry grass field</li><li>a herd of sheep standing on top of a grass covered field</li><li>a herd of sheep standing in a field</li><li>a large herd of sheep in a field</li><li>a herd of sheep standing on top of a dirt field</li></ol></td><td><ol><li>a large herd of sheep in a field</li><li>a herd of sheep standing on top of a dry grass field</li><li>a large herd of sheep standing in a field</li><li>a large herd of sheep are standing in a field</li><li>a herd of sheep standing on top of a dirt field</li></ol></td></tr></table>"
      ],
      "text/plain": [
       "<IPython.core.display.HTML object>"
      ]
     },
     "metadata": {},
     "output_type": "display_data"
    },
    {
     "data": {
      "text/html": [
       "<table><tr><td><img width=300 src=\"val2014/COCO_val2014_000000173574.jpg\" ></img></td><td><img width=300 src=\"train2014/COCO_train2014_000000541970.jpg\" ></img></td></tr></table>"
      ],
      "text/plain": [
       "<IPython.core.display.HTML object>"
      ]
     },
     "metadata": {},
     "output_type": "display_data"
    },
    {
     "data": {
      "text/html": [
       "<table><tr><td><img width=300 src=\"val2014/COCO_val2014_000000156397.jpg\" ></img></td><td><img width=300 src=\"train2014/COCO_train2014_000000253615.jpg\" ></img></td><td><img width=300 src=\"train2014/COCO_train2014_000000449307.jpg\" ></img></td><td><img width=300 src=\"train2014/COCO_train2014_000000317172.jpg\" ></img></td><td><img width=300 src=\"train2014/COCO_train2014_000000538748.jpg\" ></img></td></tr><tr><td><b>0.0883</b></td><td><b>0.1167</b></td><td><b>0.0874</b></td><td><b>0.0897</b></td><td><b>0.1004</b></td></tr><tr><td><img width=300 src=\"train2014/COCO_train2014_000000532059.jpg\" ></img></td><td><img width=300 src=\"train2014/COCO_train2014_000000541970.jpg\" ></img></td><td><img width=300 src=\"train2014/COCO_train2014_000000381641.jpg\" ></img></td><td><img width=300 src=\"val2014/COCO_val2014_000000187411.jpg\" ></img></td><td><img width=300 src=\"train2014/COCO_train2014_000000358890.jpg\" ></img></td></tr><tr><td><b>0.1025</b></td><td><b>0.1181</b></td><td><b>0.0961</b></td><td><b>0.0966</b></td><td><b>0.1042</b></td></tr></table>"
      ],
      "text/plain": [
       "<IPython.core.display.HTML object>"
      ]
     },
     "metadata": {},
     "output_type": "display_data"
    },
    {
     "name": "stdout",
     "output_type": "stream",
     "text": [
      "\n"
     ]
    },
    {
     "data": {
      "text/html": [
       "<table><tr><td><img width=300 src=\"val2014/COCO_val2014_000000460347.jpg\" ></img></td><td><img width=300 src=\"val2014/COCO_val2014_000000460347.jpg\" ></img></td></tr><tr><td><b>normal</b></td><td><b>contrastive</b></td></tr><tr><td><ol><li>a double decker bus driving down a street</li><li>a double decker bus driving down the street</li><li>a double decker bus driving down a city street</li><li>a double decker bus driving down a road</li><li>a double decker bus is driving down the street</li></ol></td><td><ol><li>a double decker bus driving down a street</li><li>a double decker bus driving down the street</li><li>a double decker bus driving down a city street</li><li>a double decker bus driving down a road</li><li>a double decker bus is driving down the street</li></ol></td></tr></table>"
      ],
      "text/plain": [
       "<IPython.core.display.HTML object>"
      ]
     },
     "metadata": {},
     "output_type": "display_data"
    },
    {
     "data": {
      "text/html": [
       "<table><tr><td><img width=300 src=\"val2014/COCO_val2014_000000460347.jpg\" ></img></td><td><img width=300 src=\"val2014/COCO_val2014_000000423617.jpg\" ></img></td></tr></table>"
      ],
      "text/plain": [
       "<IPython.core.display.HTML object>"
      ]
     },
     "metadata": {},
     "output_type": "display_data"
    },
    {
     "data": {
      "text/html": [
       "<table><tr><td><img width=300 src=\"val2014/COCO_val2014_000000533378.jpg\" ></img></td><td><img width=300 src=\"train2014/COCO_train2014_000000136461.jpg\" ></img></td><td><img width=300 src=\"val2014/COCO_val2014_000000203257.jpg\" ></img></td><td><img width=300 src=\"train2014/COCO_train2014_000000325366.jpg\" ></img></td><td><img width=300 src=\"val2014/COCO_val2014_000000423617.jpg\" ></img></td></tr><tr><td><b>0.1007</b></td><td><b>0.1050</b></td><td><b>0.0942</b></td><td><b>0.0915</b></td><td><b>0.1066</b></td></tr><tr><td><img width=300 src=\"val2014/COCO_val2014_000000232262.jpg\" ></img></td><td><img width=300 src=\"train2014/COCO_train2014_000000263479.jpg\" ></img></td><td><img width=300 src=\"train2014/COCO_train2014_000000327895.jpg\" ></img></td><td><img width=300 src=\"train2014/COCO_train2014_000000121454.jpg\" ></img></td><td><img width=300 src=\"val2014/COCO_val2014_000000460147.jpg\" ></img></td></tr><tr><td><b>0.1040</b></td><td><b>0.0919</b></td><td><b>0.1055</b></td><td><b>0.0998</b></td><td><b>0.1008</b></td></tr></table>"
      ],
      "text/plain": [
       "<IPython.core.display.HTML object>"
      ]
     },
     "metadata": {},
     "output_type": "display_data"
    },
    {
     "name": "stdout",
     "output_type": "stream",
     "text": [
      "\n"
     ]
    },
    {
     "data": {
      "text/html": [
       "<table><tr><td><img width=300 src=\"val2014/COCO_val2014_000000073830.jpg\" ></img></td><td><img width=300 src=\"val2014/COCO_val2014_000000073830.jpg\" ></img></td></tr><tr><td><b>normal</b></td><td><b>contrastive</b></td></tr><tr><td><ol><li>a couple of giraffe standing next to each other</li><li>a giraffe standing next to a baby giraffe</li><li>a couple of giraffe standing next to each other on a field</li><li>a couple of giraffe standing on top of a dirt field</li><li>a couple of giraffe standing next to each other on a dirt field</li></ol></td><td><ol><li>a group of giraffe standing next to each other</li><li>a giraffe standing next to a baby giraffe</li><li>a group of giraffe standing next to each other on a field</li><li>a group of giraffe standing next to each other on a dirt field</li><li>a group of giraffe standing next to each other in a field</li></ol></td></tr></table>"
      ],
      "text/plain": [
       "<IPython.core.display.HTML object>"
      ]
     },
     "metadata": {},
     "output_type": "display_data"
    },
    {
     "data": {
      "text/html": [
       "<table><tr><td><img width=300 src=\"val2014/COCO_val2014_000000073830.jpg\" ></img></td><td><img width=300 src=\"val2014/COCO_val2014_000000493805.jpg\" ></img></td></tr></table>"
      ],
      "text/plain": [
       "<IPython.core.display.HTML object>"
      ]
     },
     "metadata": {},
     "output_type": "display_data"
    },
    {
     "data": {
      "text/html": [
       "<table><tr><td><img width=300 src=\"train2014/COCO_train2014_000000501612.jpg\" ></img></td><td><img width=300 src=\"val2014/COCO_val2014_000000493805.jpg\" ></img></td><td><img width=300 src=\"train2014/COCO_train2014_000000518098.jpg\" ></img></td><td><img width=300 src=\"train2014/COCO_train2014_000000368686.jpg\" ></img></td><td><img width=300 src=\"val2014/COCO_val2014_000000573291.jpg\" ></img></td></tr><tr><td><b>0.0989</b></td><td><b>0.1068</b></td><td><b>0.0976</b></td><td><b>0.0983</b></td><td><b>0.1028</b></td></tr><tr><td><img width=300 src=\"train2014/COCO_train2014_000000019901.jpg\" ></img></td><td><img width=300 src=\"train2014/COCO_train2014_000000253796.jpg\" ></img></td><td><img width=300 src=\"train2014/COCO_train2014_000000059870.jpg\" ></img></td><td><img width=300 src=\"val2014/COCO_val2014_000000302298.jpg\" ></img></td><td><img width=300 src=\"train2014/COCO_train2014_000000362247.jpg\" ></img></td></tr><tr><td><b>0.1013</b></td><td><b>0.0981</b></td><td><b>0.1023</b></td><td><b>0.1004</b></td><td><b>0.0936</b></td></tr></table>"
      ],
      "text/plain": [
       "<IPython.core.display.HTML object>"
      ]
     },
     "metadata": {},
     "output_type": "display_data"
    },
    {
     "name": "stdout",
     "output_type": "stream",
     "text": [
      "\n"
     ]
    },
    {
     "data": {
      "text/html": [
       "<table><tr><td><img width=300 src=\"val2014/COCO_val2014_000000095022.jpg\" ></img></td><td><img width=300 src=\"val2014/COCO_val2014_000000095022.jpg\" ></img></td></tr><tr><td><b>normal</b></td><td><b>contrastive</b></td></tr><tr><td><ol><li>a bird perched on a branch of a tree</li><li>a bird perched on a branch in a tree</li><li>a small bird perched on a branch of a tree</li><li>a bird is perched on a branch of a tree</li><li>a bird perched on a tree branch in a tree</li></ol></td><td><ol><li>a bird perched on a branch in a tree</li><li>a bird perched on a branch of a tree</li><li>a bird is perched on a branch in a tree</li><li>a bird perched on a tree branch in a tree</li><li>a bird perched on a branch of a tree branch</li></ol></td></tr></table>"
      ],
      "text/plain": [
       "<IPython.core.display.HTML object>"
      ]
     },
     "metadata": {},
     "output_type": "display_data"
    },
    {
     "data": {
      "text/html": [
       "<table><tr><td><img width=300 src=\"val2014/COCO_val2014_000000095022.jpg\" ></img></td><td><img width=300 src=\"val2014/COCO_val2014_000000108982.jpg\" ></img></td></tr></table>"
      ],
      "text/plain": [
       "<IPython.core.display.HTML object>"
      ]
     },
     "metadata": {},
     "output_type": "display_data"
    },
    {
     "data": {
      "text/html": [
       "<table><tr><td><img width=300 src=\"train2014/COCO_train2014_000000141873.jpg\" ></img></td><td><img width=300 src=\"train2014/COCO_train2014_000000045693.jpg\" ></img></td><td><img width=300 src=\"val2014/COCO_val2014_000000402519.jpg\" ></img></td><td><img width=300 src=\"val2014/COCO_val2014_000000108982.jpg\" ></img></td><td><img width=300 src=\"train2014/COCO_train2014_000000429819.jpg\" ></img></td></tr><tr><td><b>0.1023</b></td><td><b>0.0988</b></td><td><b>0.0880</b></td><td><b>0.1099</b></td><td><b>0.0923</b></td></tr><tr><td><img width=300 src=\"val2014/COCO_val2014_000000009553.jpg\" ></img></td><td><img width=300 src=\"train2014/COCO_train2014_000000173538.jpg\" ></img></td><td><img width=300 src=\"train2014/COCO_train2014_000000424029.jpg\" ></img></td><td><img width=300 src=\"val2014/COCO_val2014_000000375087.jpg\" ></img></td><td><img width=300 src=\"train2014/COCO_train2014_000000202129.jpg\" ></img></td></tr><tr><td><b>0.0925</b></td><td><b>0.1096</b></td><td><b>0.1061</b></td><td><b>0.1003</b></td><td><b>0.1002</b></td></tr></table>"
      ],
      "text/plain": [
       "<IPython.core.display.HTML object>"
      ]
     },
     "metadata": {},
     "output_type": "display_data"
    },
    {
     "name": "stdout",
     "output_type": "stream",
     "text": [
      "\n"
     ]
    },
    {
     "data": {
      "text/html": [
       "<table><tr><td><img width=300 src=\"val2014/COCO_val2014_000000125997.jpg\" ></img></td><td><img width=300 src=\"val2014/COCO_val2014_000000125997.jpg\" ></img></td></tr><tr><td><b>normal</b></td><td><b>contrastive</b></td></tr><tr><td><ol><li>a blue sign that is on a pole</li><li>a blue and yellow sign on a pole</li><li>a blue and yellow sign on a street</li><li>a blue and yellow sign on the side of a building</li><li>a blue and yellow sign is on a pole</li></ol></td><td><ol><li>a blue sign that is on a pole</li><li>a blue and yellow sign on a pole</li><li>a blue and yellow sign on a street</li><li>a blue and yellow sign on the side of a building</li><li>a blue and yellow sign is on a pole</li></ol></td></tr></table>"
      ],
      "text/plain": [
       "<IPython.core.display.HTML object>"
      ]
     },
     "metadata": {},
     "output_type": "display_data"
    },
    {
     "data": {
      "text/html": [
       "<table><tr><td><img width=300 src=\"val2014/COCO_val2014_000000125997.jpg\" ></img></td><td><img width=300 src=\"train2014/COCO_train2014_000000457121.jpg\" ></img></td></tr></table>"
      ],
      "text/plain": [
       "<IPython.core.display.HTML object>"
      ]
     },
     "metadata": {},
     "output_type": "display_data"
    },
    {
     "data": {
      "text/html": [
       "<table><tr><td><img width=300 src=\"val2014/COCO_val2014_000000399865.jpg\" ></img></td><td><img width=300 src=\"train2014/COCO_train2014_000000552305.jpg\" ></img></td><td><img width=300 src=\"train2014/COCO_train2014_000000457121.jpg\" ></img></td><td><img width=300 src=\"train2014/COCO_train2014_000000290761.jpg\" ></img></td><td><img width=300 src=\"val2014/COCO_val2014_000000183833.jpg\" ></img></td></tr><tr><td><b>0.0907</b></td><td><b>0.0981</b></td><td><b>0.1073</b></td><td><b>0.1045</b></td><td><b>0.0988</b></td></tr><tr><td><img width=300 src=\"train2014/COCO_train2014_000000198263.jpg\" ></img></td><td><img width=300 src=\"val2014/COCO_val2014_000000224724.jpg\" ></img></td><td><img width=300 src=\"train2014/COCO_train2014_000000276506.jpg\" ></img></td><td><img width=300 src=\"train2014/COCO_train2014_000000266503.jpg\" ></img></td><td><img width=300 src=\"train2014/COCO_train2014_000000152958.jpg\" ></img></td></tr><tr><td><b>0.0946</b></td><td><b>0.1043</b></td><td><b>0.0972</b></td><td><b>0.1071</b></td><td><b>0.0973</b></td></tr></table>"
      ],
      "text/plain": [
       "<IPython.core.display.HTML object>"
      ]
     },
     "metadata": {},
     "output_type": "display_data"
    },
    {
     "name": "stdout",
     "output_type": "stream",
     "text": [
      "\n"
     ]
    },
    {
     "data": {
      "text/html": [
       "<table><tr><td><img width=300 src=\"val2014/COCO_val2014_000000015113.jpg\" ></img></td><td><img width=300 src=\"val2014/COCO_val2014_000000015113.jpg\" ></img></td></tr><tr><td><b>normal</b></td><td><b>contrastive</b></td></tr><tr><td><ol><li>a colorful bird perched on a tree branch</li><li>a colorful bird sitting on a tree branch</li><li>a bird is perched on a tree branch</li><li>a colorful bird perched on a tree limb</li><li>a bird sitting on a tree branch in a tree</li></ol></td><td><ol><li>a colorful bird perched on a tree branch</li><li>a colorful bird sitting on a tree branch</li><li>a colorful bird perched on a tree limb</li><li>a colorful bird sitting on a tree limb</li><li>a colorful bird perched on a branch of a tree</li></ol></td></tr></table>"
      ],
      "text/plain": [
       "<IPython.core.display.HTML object>"
      ]
     },
     "metadata": {},
     "output_type": "display_data"
    },
    {
     "data": {
      "text/html": [
       "<table><tr><td><img width=300 src=\"val2014/COCO_val2014_000000015113.jpg\" ></img></td><td><img width=300 src=\"train2014/COCO_train2014_000000361332.jpg\" ></img></td></tr></table>"
      ],
      "text/plain": [
       "<IPython.core.display.HTML object>"
      ]
     },
     "metadata": {},
     "output_type": "display_data"
    },
    {
     "data": {
      "text/html": [
       "<table><tr><td><img width=300 src=\"train2014/COCO_train2014_000000429819.jpg\" ></img></td><td><img width=300 src=\"train2014/COCO_train2014_000000333738.jpg\" ></img></td><td><img width=300 src=\"train2014/COCO_train2014_000000234834.jpg\" ></img></td><td><img width=300 src=\"val2014/COCO_val2014_000000150987.jpg\" ></img></td><td><img width=300 src=\"val2014/COCO_val2014_000000338203.jpg\" ></img></td></tr><tr><td><b>0.0980</b></td><td><b>0.0937</b></td><td><b>0.1069</b></td><td><b>0.0866</b></td><td><b>0.0907</b></td></tr><tr><td><img width=300 src=\"train2014/COCO_train2014_000000494973.jpg\" ></img></td><td><img width=300 src=\"train2014/COCO_train2014_000000361332.jpg\" ></img></td><td><img width=300 src=\"train2014/COCO_train2014_000000074390.jpg\" ></img></td><td><img width=300 src=\"val2014/COCO_val2014_000000337987.jpg\" ></img></td><td><img width=300 src=\"train2014/COCO_train2014_000000019558.jpg\" ></img></td></tr><tr><td><b>0.1062</b></td><td><b>0.1124</b></td><td><b>0.0965</b></td><td><b>0.0998</b></td><td><b>0.1093</b></td></tr></table>"
      ],
      "text/plain": [
       "<IPython.core.display.HTML object>"
      ]
     },
     "metadata": {},
     "output_type": "display_data"
    },
    {
     "name": "stdout",
     "output_type": "stream",
     "text": [
      "\n"
     ]
    },
    {
     "data": {
      "text/html": [
       "<table><tr><td><img width=300 src=\"val2014/COCO_val2014_000000144053.jpg\" ></img></td><td><img width=300 src=\"val2014/COCO_val2014_000000144053.jpg\" ></img></td></tr><tr><td><b>normal</b></td><td><b>contrastive</b></td></tr><tr><td><ol><li>a street sign with a street sign on it</li><li>a street sign and a street sign on a pole</li><li>a street sign on a pole in a city</li><li>a street sign on a pole in a street</li><li>a street sign on a pole in front of a building</li></ol></td><td><ol><li>the street signs are clearly visible for all of us to see</li><li>the street signs are clearly visible for us to see</li><li>the street signs are clearly visible for all to see</li><li>the street signs are clearly visible for everyone to see</li><li>a street sign that is on a pole</li></ol></td></tr></table>"
      ],
      "text/plain": [
       "<IPython.core.display.HTML object>"
      ]
     },
     "metadata": {},
     "output_type": "display_data"
    },
    {
     "data": {
      "text/html": [
       "<table><tr><td><img width=300 src=\"val2014/COCO_val2014_000000144053.jpg\" ></img></td><td><img width=300 src=\"train2014/COCO_train2014_000000266503.jpg\" ></img></td></tr></table>"
      ],
      "text/plain": [
       "<IPython.core.display.HTML object>"
      ]
     },
     "metadata": {},
     "output_type": "display_data"
    },
    {
     "data": {
      "text/html": [
       "<table><tr><td><img width=300 src=\"train2014/COCO_train2014_000000255271.jpg\" ></img></td><td><img width=300 src=\"train2014/COCO_train2014_000000551185.jpg\" ></img></td><td><img width=300 src=\"val2014/COCO_val2014_000000206290.jpg\" ></img></td><td><img width=300 src=\"train2014/COCO_train2014_000000533356.jpg\" ></img></td><td><img width=300 src=\"train2014/COCO_train2014_000000266503.jpg\" ></img></td></tr><tr><td><b>0.0933</b></td><td><b>0.0947</b></td><td><b>0.0939</b></td><td><b>0.0960</b></td><td><b>0.1144</b></td></tr><tr><td><img width=300 src=\"val2014/COCO_val2014_000000241010.jpg\" ></img></td><td><img width=300 src=\"train2014/COCO_train2014_000000366385.jpg\" ></img></td><td><img width=300 src=\"train2014/COCO_train2014_000000290489.jpg\" ></img></td><td><img width=300 src=\"val2014/COCO_val2014_000000462211.jpg\" ></img></td><td><img width=300 src=\"train2014/COCO_train2014_000000188139.jpg\" ></img></td></tr><tr><td><b>0.0896</b></td><td><b>0.1061</b></td><td><b>0.1025</b></td><td><b>0.0995</b></td><td><b>0.1100</b></td></tr></table>"
      ],
      "text/plain": [
       "<IPython.core.display.HTML object>"
      ]
     },
     "metadata": {},
     "output_type": "display_data"
    },
    {
     "name": "stdout",
     "output_type": "stream",
     "text": [
      "\n"
     ]
    },
    {
     "data": {
      "text/html": [
       "<table><tr><td><img width=300 src=\"val2014/COCO_val2014_000000329486.jpg\" ></img></td><td><img width=300 src=\"val2014/COCO_val2014_000000329486.jpg\" ></img></td></tr><tr><td><b>normal</b></td><td><b>contrastive</b></td></tr><tr><td><ol><li>a train traveling over a bridge over a river</li><li>a train traveling over a bridge over a body of water</li><li>a train on a bridge over a body of water</li><li>a train on a bridge over a river</li><li>a train on a train track on a bridge</li></ol></td><td><ol><li>a train traveling over a bridge over a river</li><li>a train traveling over a bridge over a body of water</li><li>a train on a bridge over a body of water</li><li>a train on a bridge over a river</li><li>a train traveling over a bridge over a lake</li></ol></td></tr></table>"
      ],
      "text/plain": [
       "<IPython.core.display.HTML object>"
      ]
     },
     "metadata": {},
     "output_type": "display_data"
    },
    {
     "data": {
      "text/html": [
       "<table><tr><td><img width=300 src=\"val2014/COCO_val2014_000000329486.jpg\" ></img></td><td><img width=300 src=\"val2014/COCO_val2014_000000108440.jpg\" ></img></td></tr></table>"
      ],
      "text/plain": [
       "<IPython.core.display.HTML object>"
      ]
     },
     "metadata": {},
     "output_type": "display_data"
    },
    {
     "data": {
      "text/html": [
       "<table><tr><td><img width=300 src=\"val2014/COCO_val2014_000000111096.jpg\" ></img></td><td><img width=300 src=\"train2014/COCO_train2014_000000439236.jpg\" ></img></td><td><img width=300 src=\"train2014/COCO_train2014_000000498510.jpg\" ></img></td><td><img width=300 src=\"train2014/COCO_train2014_000000135618.jpg\" ></img></td><td><img width=300 src=\"train2014/COCO_train2014_000000374533.jpg\" ></img></td></tr><tr><td><b>0.0880</b></td><td><b>0.1034</b></td><td><b>0.1007</b></td><td><b>0.1027</b></td><td><b>0.0988</b></td></tr><tr><td><img width=300 src=\"val2014/COCO_val2014_000000492562.jpg\" ></img></td><td><img width=300 src=\"train2014/COCO_train2014_000000104142.jpg\" ></img></td><td><img width=300 src=\"val2014/COCO_val2014_000000108440.jpg\" ></img></td><td><img width=300 src=\"train2014/COCO_train2014_000000181463.jpg\" ></img></td><td><img width=300 src=\"val2014/COCO_val2014_000000081264.jpg\" ></img></td></tr><tr><td><b>0.0927</b></td><td><b>0.1105</b></td><td><b>0.1145</b></td><td><b>0.0961</b></td><td><b>0.0927</b></td></tr></table>"
      ],
      "text/plain": [
       "<IPython.core.display.HTML object>"
      ]
     },
     "metadata": {},
     "output_type": "display_data"
    },
    {
     "name": "stdout",
     "output_type": "stream",
     "text": [
      "\n"
     ]
    },
    {
     "data": {
      "text/html": [
       "<table><tr><td><img width=300 src=\"val2014/COCO_val2014_000000231163.jpg\" ></img></td><td><img width=300 src=\"val2014/COCO_val2014_000000231163.jpg\" ></img></td></tr><tr><td><b>normal</b></td><td><b>contrastive</b></td></tr><tr><td><ol><li>a group of people standing next to a train</li><li>a group of people standing on a platform next to a train</li><li>a group of people standing next to a train train</li><li>a group of people standing on a platform near a train</li><li>a group of people standing next to a train on a train track</li></ol></td><td><ol><li>a group of people standing next to a train</li><li>a group of people standing on a platform next to a train</li><li>a group of people standing next to a train train</li><li>a group of people standing on a platform near a train</li><li>a group of people standing next to a train on a train track</li></ol></td></tr></table>"
      ],
      "text/plain": [
       "<IPython.core.display.HTML object>"
      ]
     },
     "metadata": {},
     "output_type": "display_data"
    },
    {
     "data": {
      "text/html": [
       "<table><tr><td><img width=300 src=\"val2014/COCO_val2014_000000231163.jpg\" ></img></td><td><img width=300 src=\"train2014/COCO_train2014_000000094996.jpg\" ></img></td></tr></table>"
      ],
      "text/plain": [
       "<IPython.core.display.HTML object>"
      ]
     },
     "metadata": {},
     "output_type": "display_data"
    },
    {
     "data": {
      "text/html": [
       "<table><tr><td><img width=300 src=\"train2014/COCO_train2014_000000284342.jpg\" ></img></td><td><img width=300 src=\"val2014/COCO_val2014_000000082085.jpg\" ></img></td><td><img width=300 src=\"train2014/COCO_train2014_000000308535.jpg\" ></img></td><td><img width=300 src=\"train2014/COCO_train2014_000000021083.jpg\" ></img></td><td><img width=300 src=\"val2014/COCO_val2014_000000554767.jpg\" ></img></td></tr><tr><td><b>0.1010</b></td><td><b>0.0996</b></td><td><b>0.0962</b></td><td><b>0.0982</b></td><td><b>0.0970</b></td></tr><tr><td><img width=300 src=\"val2014/COCO_val2014_000000187144.jpg\" ></img></td><td><img width=300 src=\"train2014/COCO_train2014_000000290812.jpg\" ></img></td><td><img width=300 src=\"train2014/COCO_train2014_000000411028.jpg\" ></img></td><td><img width=300 src=\"train2014/COCO_train2014_000000094996.jpg\" ></img></td><td><img width=300 src=\"val2014/COCO_val2014_000000492102.jpg\" ></img></td></tr><tr><td><b>0.0992</b></td><td><b>0.0973</b></td><td><b>0.1073</b></td><td><b>0.1082</b></td><td><b>0.0961</b></td></tr></table>"
      ],
      "text/plain": [
       "<IPython.core.display.HTML object>"
      ]
     },
     "metadata": {},
     "output_type": "display_data"
    },
    {
     "name": "stdout",
     "output_type": "stream",
     "text": [
      "\n"
     ]
    },
    {
     "data": {
      "text/html": [
       "<table><tr><td><img width=300 src=\"val2014/COCO_val2014_000000463633.jpg\" ></img></td><td><img width=300 src=\"val2014/COCO_val2014_000000463633.jpg\" ></img></td></tr><tr><td><b>normal</b></td><td><b>contrastive</b></td></tr><tr><td><ol><li>a stop sign with graffiti written on it</li><li>a stop sign that has graffiti on it</li><li>a red stop sign with graffiti on it</li><li>a stop sign with graffiti on it on a street</li><li>a stop sign with graffiti on it on a city street</li></ol></td><td><ol><li>a stop sign with graffiti written on it</li><li>a stop sign that has graffiti on it</li><li>a stop stop sign with graffiti on it</li><li>a stop sign with graffiti on it on a street</li><li>a stop sign with graffiti on it on a city street</li></ol></td></tr></table>"
      ],
      "text/plain": [
       "<IPython.core.display.HTML object>"
      ]
     },
     "metadata": {},
     "output_type": "display_data"
    },
    {
     "data": {
      "text/html": [
       "<table><tr><td><img width=300 src=\"val2014/COCO_val2014_000000463633.jpg\" ></img></td><td><img width=300 src=\"train2014/COCO_train2014_000000225392.jpg\" ></img></td></tr></table>"
      ],
      "text/plain": [
       "<IPython.core.display.HTML object>"
      ]
     },
     "metadata": {},
     "output_type": "display_data"
    },
    {
     "data": {
      "text/html": [
       "<table><tr><td><img width=300 src=\"train2014/COCO_train2014_000000506394.jpg\" ></img></td><td><img width=300 src=\"train2014/COCO_train2014_000000339403.jpg\" ></img></td><td><img width=300 src=\"train2014/COCO_train2014_000000440298.jpg\" ></img></td><td><img width=300 src=\"train2014/COCO_train2014_000000418811.jpg\" ></img></td><td><img width=300 src=\"train2014/COCO_train2014_000000225392.jpg\" ></img></td></tr><tr><td><b>0.1020</b></td><td><b>0.1010</b></td><td><b>0.1039</b></td><td><b>0.0968</b></td><td><b>0.1079</b></td></tr><tr><td><img width=300 src=\"val2014/COCO_val2014_000000283038.jpg\" ></img></td><td><img width=300 src=\"val2014/COCO_val2014_000000015157.jpg\" ></img></td><td><img width=300 src=\"train2014/COCO_train2014_000000301405.jpg\" ></img></td><td><img width=300 src=\"train2014/COCO_train2014_000000151277.jpg\" ></img></td><td><img width=300 src=\"val2014/COCO_val2014_000000214200.jpg\" ></img></td></tr><tr><td><b>0.0935</b></td><td><b>0.1036</b></td><td><b>0.0937</b></td><td><b>0.0955</b></td><td><b>0.1021</b></td></tr></table>"
      ],
      "text/plain": [
       "<IPython.core.display.HTML object>"
      ]
     },
     "metadata": {},
     "output_type": "display_data"
    },
    {
     "name": "stdout",
     "output_type": "stream",
     "text": [
      "\n"
     ]
    }
   ],
   "source": [
    "# random + closest trained\n",
    "# display_em_model(batch, k=20, neighbor_types=['random', 'closest'], choose_distractor=True)\n",
    "display_em_model(next(loader.iters['val']), k=10, neighbor_types=['closest'], choose_distractor=True)"
   ]
  },
  {
   "cell_type": "code",
   "execution_count": 63,
   "metadata": {},
   "outputs": [
    {
     "data": {
      "text/plain": [
       "Namespace(att_feat_size=2048, att_hid_size=512, batch_size=10, beam_size=5, bleu_reward_weight=0, block_trigrams=0, cached_tokens='coco-train-idxs', cached_transformer=False, caption_model='updown', cfg='configs/updown/updown_contrastive.yml', checkpoint_path='./log_updown_contrastive_distr-10_dct-closest+random_cbs_mlp_soft-em', cider_reward_weight=1, coco_json='', contrastive_after=0, contrastive_em='soft', current_lr=0.0004, data_in_memory=False, decoding_constraint=0, diversity_lambda=0.5, drop_prob_lm=0.5, dump_images=1, dump_json=1, dump_path=0, entropy_reward_weight=0, eval_oracle=1, fc_feat_size=2048, grad_clip_mode='value', grad_clip_value=0.1, group_size=1, id='updown_contrastive_distr-10_dct-closest+random_cbs_mlp_soft-em', image_folder='', image_root='', index_serialization_root_path='data/cocobu_indices', input_att_dir='data/cocobu_att', input_box_dir='data/cocotalk_box', input_encoding_size=1000, input_fc_dir='data/cocotalk_fc', input_json='data/cocotalk.json', input_label_h5='data/cocotalk_label.h5', label_smoothing=0, language_eval=0, learning_rate=0.0005, learning_rate_decay_every=3, learning_rate_decay_rate=0.8, learning_rate_decay_start=0, length_penalty='', load_best_score=1, logit_layers=1, losses_log_every=25, max_epochs=30, max_images_per_split=None, max_length=20, noamopt=False, noamopt_factor=1, noamopt_warmup=2000, norm_att_feat=0, norm_box_feat=0, num_images=-1, num_layers=1, num_workers=0, optim='adam', optim_alpha=0.9, optim_beta=0.999, optim_epsilon=1e-08, pragmatic_distractor_candidate_type='closest', pragmatic_distractor_candidate_types=['closest'], pragmatic_distractor_scoring='mlp', pragmatic_distractor_scoring_hidden_size=200, pragmatic_distractor_split='train', pragmatic_distractor_type='choose_within_closest', pragmatic_distractors=10, pragmatic_distractors_to_choose=1, pragmatic_incremental_alpha=1.0, pragmatic_incremental_l1_uses='s0', pragmatic_inference=0, pragmatic_s0_weight=0.0, pragmatic_serialize_all_scores=0, reduce_on_plateau=False, reduce_on_plateau_factor=0.5, reduce_on_plateau_patience=3, remove_bad_endings=0, rnn_size=1000, rnn_type='lstm', sample_method='greedy', sample_n=1, sample_n_method='sample', save_checkpoint_every=3000, save_every_epoch=False, save_history_ckpt=0, sc_beam_size=1, sc_sample_method='greedy', scheduled_sampling_increase_every=5, scheduled_sampling_increase_prob=0.05, scheduled_sampling_max_prob=0.25, scheduled_sampling_start=0, self_cider_reward_weight=0, self_critical_after=-1, seq_length=16, seq_per_img=5, set_cfgs=[], split='test', ss_prob=0.0, struc_use_logsoftmax=False, structure_after=-1, structure_loss_type='seqnll', structure_loss_weight=1, suppress_UNK=1, temperature=1.0, train_beam_size=1, train_only=0, train_sample_method='sample', train_sample_n=5, use_att=True, use_bn=0, use_box=0, use_fc=True, use_warmup=False, val_images_use=5000, verbose=1, verbose_beam=1, verbose_captions=0, verbose_loss=0, vocab_size=9487, weight_decay=0)"
      ]
     },
     "execution_count": 63,
     "metadata": {},
     "output_type": "execute_result"
    }
   ],
   "source": [
    "model.op"
   ]
  },
  {
   "cell_type": "code",
   "execution_count": 61,
   "metadata": {
    "scrolled": false
   },
   "outputs": [
    {
     "data": {
      "text/html": [
       "<table><tr><td><img width=300 src=\"val2014/COCO_val2014_000000009426.jpg\" ></img></td><td><img width=300 src=\"val2014/COCO_val2014_000000009426.jpg\" ></img></td></tr><tr><td><b>normal</b></td><td><b>contrastive</b></td></tr><tr><td><ol><li>a red and white plane flying in the sky</li><li>a red and white plane flying through the sky</li><li>a red and white airplane is flying in the sky</li><li>a red and white plane is flying in the sky</li><li>a red and white plane flying through the air</li></ol></td><td><ol><li>a red and white plane flying in the sky</li><li>a red and white plane flying through the sky</li><li>a red and white airplane is flying in the sky</li><li>a red and white plane is flying in the sky</li><li>a red and white plane flying through the air</li></ol></td></tr></table>"
      ],
      "text/plain": [
       "<IPython.core.display.HTML object>"
      ]
     },
     "metadata": {},
     "output_type": "display_data"
    },
    {
     "data": {
      "text/html": [
       "<table><tr><td><img width=300 src=\"val2014/COCO_val2014_000000009426.jpg\" ></img></td><td><img width=300 src=\"train2014/COCO_train2014_000000512438.jpg\" ></img></td></tr></table>"
      ],
      "text/plain": [
       "<IPython.core.display.HTML object>"
      ]
     },
     "metadata": {},
     "output_type": "display_data"
    },
    {
     "data": {
      "text/html": [
       "<table><tr><td><img width=300 src=\"train2014/COCO_train2014_000000512438.jpg\" ></img></td><td><img width=300 src=\"val2014/COCO_val2014_000000183500.jpg\" ></img></td><td><img width=300 src=\"train2014/COCO_train2014_000000440786.jpg\" ></img></td><td><img width=300 src=\"train2014/COCO_train2014_000000331738.jpg\" ></img></td><td><img width=300 src=\"val2014/COCO_val2014_000000295765.jpg\" ></img></td></tr><tr><td><b>0.1058</b></td><td><b>0.0904</b></td><td><b>0.0801</b></td><td><b>0.1058</b></td><td><b>0.1058</b></td></tr><tr><td><img width=300 src=\"train2014/COCO_train2014_000000329097.jpg\" ></img></td><td><img width=300 src=\"val2014/COCO_val2014_000000560272.jpg\" ></img></td><td><img width=300 src=\"train2014/COCO_train2014_000000091118.jpg\" ></img></td><td><img width=300 src=\"train2014/COCO_train2014_000000321577.jpg\" ></img></td><td><img width=300 src=\"train2014/COCO_train2014_000000128752.jpg\" ></img></td></tr><tr><td><b>0.0906</b></td><td><b>0.1044</b></td><td><b>0.1058</b></td><td><b>0.1058</b></td><td><b>0.1058</b></td></tr></table>"
      ],
      "text/plain": [
       "<IPython.core.display.HTML object>"
      ]
     },
     "metadata": {},
     "output_type": "display_data"
    },
    {
     "name": "stdout",
     "output_type": "stream",
     "text": [
      "\n"
     ]
    },
    {
     "data": {
      "text/html": [
       "<table><tr><td><img width=300 src=\"val2014/COCO_val2014_000000242139.jpg\" ></img></td><td><img width=300 src=\"val2014/COCO_val2014_000000242139.jpg\" ></img></td></tr><tr><td><b>normal</b></td><td><b>contrastive</b></td></tr><tr><td><ol><li>a city street filled with lots of traffic</li><li>a city street filled with lots of tall buildings</li><li>a city street filled with lots of traffic and tall buildings</li><li>a city street filled with lots of traffic next to tall buildings</li><li>a city street filled with lots of traffic on a city street</li></ol></td><td><ol><li>a city street filled with lots of traffic</li><li>a city street filled with lots of tall buildings</li><li>a city street filled with lots of traffic and tall buildings</li><li>a city street filled with traffic and tall buildings</li><li>a city street filled with lots of traffic next to tall buildings</li></ol></td></tr></table>"
      ],
      "text/plain": [
       "<IPython.core.display.HTML object>"
      ]
     },
     "metadata": {},
     "output_type": "display_data"
    },
    {
     "data": {
      "text/html": [
       "<table><tr><td><img width=300 src=\"val2014/COCO_val2014_000000242139.jpg\" ></img></td><td><img width=300 src=\"val2014/COCO_val2014_000000230615.jpg\" ></img></td></tr></table>"
      ],
      "text/plain": [
       "<IPython.core.display.HTML object>"
      ]
     },
     "metadata": {},
     "output_type": "display_data"
    },
    {
     "data": {
      "text/html": [
       "<table><tr><td><img width=300 src=\"train2014/COCO_train2014_000000533739.jpg\" ></img></td><td><img width=300 src=\"train2014/COCO_train2014_000000219750.jpg\" ></img></td><td><img width=300 src=\"val2014/COCO_val2014_000000230615.jpg\" ></img></td><td><img width=300 src=\"train2014/COCO_train2014_000000219225.jpg\" ></img></td><td><img width=300 src=\"train2014/COCO_train2014_000000263826.jpg\" ></img></td></tr><tr><td><b>0.0699</b></td><td><b>0.1023</b></td><td><b>0.1144</b></td><td><b>0.0946</b></td><td><b>0.1144</b></td></tr><tr><td><img width=300 src=\"val2014/COCO_val2014_000000553511.jpg\" ></img></td><td><img width=300 src=\"val2014/COCO_val2014_000000308388.jpg\" ></img></td><td><img width=300 src=\"train2014/COCO_train2014_000000087113.jpg\" ></img></td><td><img width=300 src=\"train2014/COCO_train2014_000000293308.jpg\" ></img></td><td><img width=300 src=\"train2014/COCO_train2014_000000258182.jpg\" ></img></td></tr><tr><td><b>0.1144</b></td><td><b>0.0860</b></td><td><b>0.1144</b></td><td><b>0.0782</b></td><td><b>0.1114</b></td></tr></table>"
      ],
      "text/plain": [
       "<IPython.core.display.HTML object>"
      ]
     },
     "metadata": {},
     "output_type": "display_data"
    },
    {
     "name": "stdout",
     "output_type": "stream",
     "text": [
      "\n"
     ]
    },
    {
     "data": {
      "text/html": [
       "<table><tr><td><img width=300 src=\"val2014/COCO_val2014_000000143931.jpg\" ></img></td><td><img width=300 src=\"val2014/COCO_val2014_000000143931.jpg\" ></img></td></tr><tr><td><b>normal</b></td><td><b>contrastive</b></td></tr><tr><td><ol><li>a bus that is sitting in the street</li><li>a bus that is parked in front of a building</li><li>a bus that is parked on the street</li><li>a bus that is parked in a parking lot</li><li>a bus that is parked on the side of the road</li></ol></td><td><ol><li>a bus that is sitting in the street</li><li>a bus that is parked in front of a building</li><li>a bus that is parked on the street</li><li>a bus that is parked in a parking lot</li><li>a bus that is parked on the side of the road</li></ol></td></tr></table>"
      ],
      "text/plain": [
       "<IPython.core.display.HTML object>"
      ]
     },
     "metadata": {},
     "output_type": "display_data"
    },
    {
     "data": {
      "text/html": [
       "<table><tr><td><img width=300 src=\"val2014/COCO_val2014_000000143931.jpg\" ></img></td><td><img width=300 src=\"train2014/COCO_train2014_000000381759.jpg\" ></img></td></tr></table>"
      ],
      "text/plain": [
       "<IPython.core.display.HTML object>"
      ]
     },
     "metadata": {},
     "output_type": "display_data"
    },
    {
     "data": {
      "text/html": [
       "<table><tr><td><img width=300 src=\"train2014/COCO_train2014_000000550874.jpg\" ></img></td><td><img width=300 src=\"train2014/COCO_train2014_000000381759.jpg\" ></img></td><td><img width=300 src=\"val2014/COCO_val2014_000000048196.jpg\" ></img></td><td><img width=300 src=\"train2014/COCO_train2014_000000382854.jpg\" ></img></td><td><img width=300 src=\"train2014/COCO_train2014_000000514801.jpg\" ></img></td></tr><tr><td><b>0.0655</b></td><td><b>0.1053</b></td><td><b>0.0956</b></td><td><b>0.1053</b></td><td><b>0.1053</b></td></tr><tr><td><img width=300 src=\"val2014/COCO_val2014_000000196759.jpg\" ></img></td><td><img width=300 src=\"train2014/COCO_train2014_000000360500.jpg\" ></img></td><td><img width=300 src=\"val2014/COCO_val2014_000000501379.jpg\" ></img></td><td><img width=300 src=\"train2014/COCO_train2014_000000366907.jpg\" ></img></td><td><img width=300 src=\"train2014/COCO_train2014_000000023066.jpg\" ></img></td></tr><tr><td><b>0.1053</b></td><td><b>0.1053</b></td><td><b>0.1053</b></td><td><b>0.1021</b></td><td><b>0.1048</b></td></tr></table>"
      ],
      "text/plain": [
       "<IPython.core.display.HTML object>"
      ]
     },
     "metadata": {},
     "output_type": "display_data"
    },
    {
     "name": "stdout",
     "output_type": "stream",
     "text": [
      "\n"
     ]
    },
    {
     "data": {
      "text/html": [
       "<table><tr><td><img width=300 src=\"val2014/COCO_val2014_000000040102.jpg\" ></img></td><td><img width=300 src=\"val2014/COCO_val2014_000000040102.jpg\" ></img></td></tr><tr><td><b>normal</b></td><td><b>contrastive</b></td></tr><tr><td><ol><li>two giraffes are standing in a grassy field</li><li>two giraffes standing in a field with trees in the background</li><li>two giraffes are standing in a field of grass</li><li>two giraffes are standing in a field with trees</li><li>two giraffes standing in a grassy field with trees in the background</li></ol></td><td><ol><li>two giraffes standing next to each other in a field</li><li>two giraffes are standing in a grassy field</li><li>two giraffes standing next to each other on a field</li><li>two giraffes standing next to each other in the grass</li><li>two giraffes standing in a field with trees in the background</li></ol></td></tr></table>"
      ],
      "text/plain": [
       "<IPython.core.display.HTML object>"
      ]
     },
     "metadata": {},
     "output_type": "display_data"
    },
    {
     "data": {
      "text/html": [
       "<table><tr><td><img width=300 src=\"val2014/COCO_val2014_000000040102.jpg\" ></img></td><td><img width=300 src=\"train2014/COCO_train2014_000000238713.jpg\" ></img></td></tr></table>"
      ],
      "text/plain": [
       "<IPython.core.display.HTML object>"
      ]
     },
     "metadata": {},
     "output_type": "display_data"
    },
    {
     "data": {
      "text/html": [
       "<table><tr><td><img width=300 src=\"train2014/COCO_train2014_000000238713.jpg\" ></img></td><td><img width=300 src=\"val2014/COCO_val2014_000000022257.jpg\" ></img></td><td><img width=300 src=\"train2014/COCO_train2014_000000508969.jpg\" ></img></td><td><img width=300 src=\"train2014/COCO_train2014_000000172426.jpg\" ></img></td><td><img width=300 src=\"train2014/COCO_train2014_000000257983.jpg\" ></img></td></tr><tr><td><b>0.1065</b></td><td><b>0.1065</b></td><td><b>0.1065</b></td><td><b>0.1059</b></td><td><b>0.0759</b></td></tr><tr><td><img width=300 src=\"train2014/COCO_train2014_000000094045.jpg\" ></img></td><td><img width=300 src=\"train2014/COCO_train2014_000000466790.jpg\" ></img></td><td><img width=300 src=\"train2014/COCO_train2014_000000063587.jpg\" ></img></td><td><img width=300 src=\"train2014/COCO_train2014_000000119529.jpg\" ></img></td><td><img width=300 src=\"train2014/COCO_train2014_000000021061.jpg\" ></img></td></tr><tr><td><b>0.1010</b></td><td><b>0.1065</b></td><td><b>0.0816</b></td><td><b>0.1028</b></td><td><b>0.1065</b></td></tr></table>"
      ],
      "text/plain": [
       "<IPython.core.display.HTML object>"
      ]
     },
     "metadata": {},
     "output_type": "display_data"
    },
    {
     "name": "stdout",
     "output_type": "stream",
     "text": [
      "\n"
     ]
    },
    {
     "data": {
      "text/html": [
       "<table><tr><td><img width=300 src=\"val2014/COCO_val2014_000000403020.jpg\" ></img></td><td><img width=300 src=\"val2014/COCO_val2014_000000403020.jpg\" ></img></td></tr><tr><td><b>normal</b></td><td><b>contrastive</b></td></tr><tr><td><ol><li>a giraffe laying on the ground next to a building</li><li>a giraffe laying on the ground next to a stone wall</li><li>a giraffe laying on the ground next to a brick wall</li><li>a giraffe laying on the ground next to a wall</li><li>a giraffe laying on the ground in front of a building</li></ol></td><td><ol><li>a giraffe laying on the ground next to a building</li><li>a giraffe laying on the ground next to a stone wall</li><li>a giraffe laying on the ground next to a brick wall</li><li>a giraffe laying on the ground next to a wall</li><li>a giraffe laying on the ground in front of a building</li></ol></td></tr></table>"
      ],
      "text/plain": [
       "<IPython.core.display.HTML object>"
      ]
     },
     "metadata": {},
     "output_type": "display_data"
    },
    {
     "data": {
      "text/html": [
       "<table><tr><td><img width=300 src=\"val2014/COCO_val2014_000000403020.jpg\" ></img></td><td><img width=300 src=\"train2014/COCO_train2014_000000050101.jpg\" ></img></td></tr></table>"
      ],
      "text/plain": [
       "<IPython.core.display.HTML object>"
      ]
     },
     "metadata": {},
     "output_type": "display_data"
    },
    {
     "data": {
      "text/html": [
       "<table><tr><td><img width=300 src=\"train2014/COCO_train2014_000000050101.jpg\" ></img></td><td><img width=300 src=\"train2014/COCO_train2014_000000334957.jpg\" ></img></td><td><img width=300 src=\"train2014/COCO_train2014_000000067572.jpg\" ></img></td><td><img width=300 src=\"train2014/COCO_train2014_000000476871.jpg\" ></img></td><td><img width=300 src=\"val2014/COCO_val2014_000000196650.jpg\" ></img></td></tr><tr><td><b>0.1207</b></td><td><b>0.0466</b></td><td><b>0.1073</b></td><td><b>0.0526</b></td><td><b>0.0983</b></td></tr><tr><td><img width=300 src=\"train2014/COCO_train2014_000000262098.jpg\" ></img></td><td><img width=300 src=\"train2014/COCO_train2014_000000517045.jpg\" ></img></td><td><img width=300 src=\"val2014/COCO_val2014_000000134160.jpg\" ></img></td><td><img width=300 src=\"train2014/COCO_train2014_000000532147.jpg\" ></img></td><td><img width=300 src=\"val2014/COCO_val2014_000000494679.jpg\" ></img></td></tr><tr><td><b>0.1195</b></td><td><b>0.1207</b></td><td><b>0.1204</b></td><td><b>0.0933</b></td><td><b>0.1207</b></td></tr></table>"
      ],
      "text/plain": [
       "<IPython.core.display.HTML object>"
      ]
     },
     "metadata": {},
     "output_type": "display_data"
    },
    {
     "name": "stdout",
     "output_type": "stream",
     "text": [
      "\n"
     ]
    },
    {
     "data": {
      "text/html": [
       "<table><tr><td><img width=300 src=\"val2014/COCO_val2014_000000505440.jpg\" ></img></td><td><img width=300 src=\"val2014/COCO_val2014_000000505440.jpg\" ></img></td></tr><tr><td><b>normal</b></td><td><b>contrastive</b></td></tr><tr><td><ol><li>two giraffes are standing in a grassy field</li><li>two giraffes standing in a field with trees in the background</li><li>two giraffes are standing in a grassy area</li><li>two giraffes are standing in a field with trees</li><li>two giraffes standing in a grassy field with trees in the background</li></ol></td><td><ol><li>two giraffes are standing in a grassy field</li><li>two giraffes standing in a field with trees in the background</li><li>two giraffes are standing in a grassy area</li><li>two giraffes are standing in a field with trees</li><li>two giraffes standing in a grassy field with trees in the background</li></ol></td></tr></table>"
      ],
      "text/plain": [
       "<IPython.core.display.HTML object>"
      ]
     },
     "metadata": {},
     "output_type": "display_data"
    },
    {
     "data": {
      "text/html": [
       "<table><tr><td><img width=300 src=\"val2014/COCO_val2014_000000505440.jpg\" ></img></td><td><img width=300 src=\"train2014/COCO_train2014_000000340345.jpg\" ></img></td></tr></table>"
      ],
      "text/plain": [
       "<IPython.core.display.HTML object>"
      ]
     },
     "metadata": {},
     "output_type": "display_data"
    },
    {
     "data": {
      "text/html": [
       "<table><tr><td><img width=300 src=\"train2014/COCO_train2014_000000340345.jpg\" ></img></td><td><img width=300 src=\"train2014/COCO_train2014_000000359189.jpg\" ></img></td><td><img width=300 src=\"train2014/COCO_train2014_000000119529.jpg\" ></img></td><td><img width=300 src=\"train2014/COCO_train2014_000000444464.jpg\" ></img></td><td><img width=300 src=\"train2014/COCO_train2014_000000024095.jpg\" ></img></td></tr><tr><td><b>0.1014</b></td><td><b>0.1014</b></td><td><b>0.1014</b></td><td><b>0.0958</b></td><td><b>0.0929</b></td></tr><tr><td><img width=300 src=\"train2014/COCO_train2014_000000541264.jpg\" ></img></td><td><img width=300 src=\"train2014/COCO_train2014_000000506078.jpg\" ></img></td><td><img width=300 src=\"train2014/COCO_train2014_000000427129.jpg\" ></img></td><td><img width=300 src=\"train2014/COCO_train2014_000000021061.jpg\" ></img></td><td><img width=300 src=\"train2014/COCO_train2014_000000031411.jpg\" ></img></td></tr><tr><td><b>0.1014</b></td><td><b>0.1014</b></td><td><b>0.1014</b></td><td><b>0.1014</b></td><td><b>0.1014</b></td></tr></table>"
      ],
      "text/plain": [
       "<IPython.core.display.HTML object>"
      ]
     },
     "metadata": {},
     "output_type": "display_data"
    },
    {
     "name": "stdout",
     "output_type": "stream",
     "text": [
      "\n"
     ]
    },
    {
     "data": {
      "text/html": [
       "<table><tr><td><img width=300 src=\"val2014/COCO_val2014_000000029913.jpg\" ></img></td><td><img width=300 src=\"val2014/COCO_val2014_000000029913.jpg\" ></img></td></tr><tr><td><b>normal</b></td><td><b>contrastive</b></td></tr><tr><td><ol><li>a fire hydrant sitting on the side of a road</li><li>a fire hydrant on the side of the road</li><li>a fire hydrant sitting on the side of a street</li><li>a fire hydrant sitting on the side of the road</li><li>a fire hydrant on the side of the street</li></ol></td><td><ol><li>a fire hydrant sitting on the side of a road</li><li>a fire hydrant on the side of the road</li><li>a fire hydrant sitting on the side of a street</li><li>a fire hydrant sitting on the side of the road</li><li>a fire hydrant on the side of the street</li></ol></td></tr></table>"
      ],
      "text/plain": [
       "<IPython.core.display.HTML object>"
      ]
     },
     "metadata": {},
     "output_type": "display_data"
    },
    {
     "data": {
      "text/html": [
       "<table><tr><td><img width=300 src=\"val2014/COCO_val2014_000000029913.jpg\" ></img></td><td><img width=300 src=\"train2014/COCO_train2014_000000328662.jpg\" ></img></td></tr></table>"
      ],
      "text/plain": [
       "<IPython.core.display.HTML object>"
      ]
     },
     "metadata": {},
     "output_type": "display_data"
    },
    {
     "data": {
      "text/html": [
       "<table><tr><td><img width=300 src=\"train2014/COCO_train2014_000000328662.jpg\" ></img></td><td><img width=300 src=\"train2014/COCO_train2014_000000490887.jpg\" ></img></td><td><img width=300 src=\"train2014/COCO_train2014_000000016805.jpg\" ></img></td><td><img width=300 src=\"train2014/COCO_train2014_000000236769.jpg\" ></img></td><td><img width=300 src=\"train2014/COCO_train2014_000000517835.jpg\" ></img></td></tr><tr><td><b>0.1333</b></td><td><b>0.0639</b></td><td><b>0.0872</b></td><td><b>0.1072</b></td><td><b>0.0589</b></td></tr><tr><td><img width=300 src=\"train2014/COCO_train2014_000000359695.jpg\" ></img></td><td><img width=300 src=\"train2014/COCO_train2014_000000373898.jpg\" ></img></td><td><img width=300 src=\"train2014/COCO_train2014_000000110616.jpg\" ></img></td><td><img width=300 src=\"train2014/COCO_train2014_000000262747.jpg\" ></img></td><td><img width=300 src=\"train2014/COCO_train2014_000000292283.jpg\" ></img></td></tr><tr><td><b>0.1333</b></td><td><b>0.1333</b></td><td><b>0.0164</b></td><td><b>0.1333</b></td><td><b>0.1333</b></td></tr></table>"
      ],
      "text/plain": [
       "<IPython.core.display.HTML object>"
      ]
     },
     "metadata": {},
     "output_type": "display_data"
    },
    {
     "name": "stdout",
     "output_type": "stream",
     "text": [
      "\n"
     ]
    },
    {
     "data": {
      "text/html": [
       "<table><tr><td><img width=300 src=\"val2014/COCO_val2014_000000431573.jpg\" ></img></td><td><img width=300 src=\"val2014/COCO_val2014_000000431573.jpg\" ></img></td></tr><tr><td><b>normal</b></td><td><b>contrastive</b></td></tr><tr><td><ol><li>a red fire hydrant sitting next to a tree</li><li>a red fire hydrant in the middle of a park</li><li>a red fire hydrant sitting in the middle of a park</li><li>a red and white fire hydrant in a park</li><li>a red fire hydrant sitting in the middle of a street</li></ol></td><td><ol><li>a red fire hydrant sitting next to a tree</li><li>a red fire hydrant in the middle of a park</li><li>a red fire hydrant sitting in the middle of a park</li><li>a red and white fire hydrant in a park</li><li>a red fire hydrant sitting in the middle of a street</li></ol></td></tr></table>"
      ],
      "text/plain": [
       "<IPython.core.display.HTML object>"
      ]
     },
     "metadata": {},
     "output_type": "display_data"
    },
    {
     "data": {
      "text/html": [
       "<table><tr><td><img width=300 src=\"val2014/COCO_val2014_000000431573.jpg\" ></img></td><td><img width=300 src=\"train2014/COCO_train2014_000000082523.jpg\" ></img></td></tr></table>"
      ],
      "text/plain": [
       "<IPython.core.display.HTML object>"
      ]
     },
     "metadata": {},
     "output_type": "display_data"
    },
    {
     "data": {
      "text/html": [
       "<table><tr><td><img width=300 src=\"train2014/COCO_train2014_000000430144.jpg\" ></img></td><td><img width=300 src=\"train2014/COCO_train2014_000000148318.jpg\" ></img></td><td><img width=300 src=\"val2014/COCO_val2014_000000127455.jpg\" ></img></td><td><img width=300 src=\"val2014/COCO_val2014_000000522015.jpg\" ></img></td><td><img width=300 src=\"train2014/COCO_train2014_000000536884.jpg\" ></img></td></tr><tr><td><b>0.1602</b></td><td><b>0.0458</b></td><td><b>0.0344</b></td><td><b>0.0074</b></td><td><b>0.0776</b></td></tr><tr><td><img width=300 src=\"train2014/COCO_train2014_000000068826.jpg\" ></img></td><td><img width=300 src=\"train2014/COCO_train2014_000000365648.jpg\" ></img></td><td><img width=300 src=\"train2014/COCO_train2014_000000082523.jpg\" ></img></td><td><img width=300 src=\"val2014/COCO_val2014_000000302512.jpg\" ></img></td><td><img width=300 src=\"val2014/COCO_val2014_000000515785.jpg\" ></img></td></tr><tr><td><b>0.0973</b></td><td><b>0.1303</b></td><td><b>0.1862</b></td><td><b>0.0746</b></td><td><b>0.1862</b></td></tr></table>"
      ],
      "text/plain": [
       "<IPython.core.display.HTML object>"
      ]
     },
     "metadata": {},
     "output_type": "display_data"
    },
    {
     "name": "stdout",
     "output_type": "stream",
     "text": [
      "\n"
     ]
    },
    {
     "data": {
      "text/html": [
       "<table><tr><td><img width=300 src=\"val2014/COCO_val2014_000000332654.jpg\" ></img></td><td><img width=300 src=\"val2014/COCO_val2014_000000332654.jpg\" ></img></td></tr><tr><td><b>normal</b></td><td><b>contrastive</b></td></tr><tr><td><ol><li>a yellow fire hydrant sitting on the side of a road</li><li>a yellow fire hydrant on a city street</li><li>a yellow fire hydrant sitting on the side of a street</li><li>a yellow fire hydrant on the side of the street</li><li>a yellow fire hydrant on the side of the road</li></ol></td><td><ol><li>a yellow fire hydrant sitting on the side of a road</li><li>a yellow fire hydrant sitting on the side of a street</li><li>a yellow fire hydrant on the corner of a street</li><li>a yellow fire hydrant on the side of the street</li><li>a yellow and blue fire hydrant sitting on the side of a road</li></ol></td></tr></table>"
      ],
      "text/plain": [
       "<IPython.core.display.HTML object>"
      ]
     },
     "metadata": {},
     "output_type": "display_data"
    },
    {
     "data": {
      "text/html": [
       "<table><tr><td><img width=300 src=\"val2014/COCO_val2014_000000332654.jpg\" ></img></td><td><img width=300 src=\"train2014/COCO_train2014_000000532482.jpg\" ></img></td></tr></table>"
      ],
      "text/plain": [
       "<IPython.core.display.HTML object>"
      ]
     },
     "metadata": {},
     "output_type": "display_data"
    },
    {
     "data": {
      "text/html": [
       "<table><tr><td><img width=300 src=\"val2014/COCO_val2014_000000338560.jpg\" ></img></td><td><img width=300 src=\"train2014/COCO_train2014_000000532482.jpg\" ></img></td><td><img width=300 src=\"val2014/COCO_val2014_000000190664.jpg\" ></img></td><td><img width=300 src=\"train2014/COCO_train2014_000000316993.jpg\" ></img></td><td><img width=300 src=\"train2014/COCO_train2014_000000336040.jpg\" ></img></td></tr><tr><td><b>0.0722</b></td><td><b>0.1201</b></td><td><b>0.0754</b></td><td><b>0.1201</b></td><td><b>0.0643</b></td></tr><tr><td><img width=300 src=\"train2014/COCO_train2014_000000236769.jpg\" ></img></td><td><img width=300 src=\"val2014/COCO_val2014_000000091909.jpg\" ></img></td><td><img width=300 src=\"train2014/COCO_train2014_000000383158.jpg\" ></img></td><td><img width=300 src=\"val2014/COCO_val2014_000000088432.jpg\" ></img></td><td><img width=300 src=\"train2014/COCO_train2014_000000403270.jpg\" ></img></td></tr><tr><td><b>0.0698</b></td><td><b>0.1201</b></td><td><b>0.1201</b></td><td><b>0.1179</b></td><td><b>0.1201</b></td></tr></table>"
      ],
      "text/plain": [
       "<IPython.core.display.HTML object>"
      ]
     },
     "metadata": {},
     "output_type": "display_data"
    },
    {
     "name": "stdout",
     "output_type": "stream",
     "text": [
      "\n"
     ]
    },
    {
     "data": {
      "text/html": [
       "<table><tr><td><img width=300 src=\"val2014/COCO_val2014_000000176649.jpg\" ></img></td><td><img width=300 src=\"val2014/COCO_val2014_000000176649.jpg\" ></img></td></tr><tr><td><b>normal</b></td><td><b>contrastive</b></td></tr><tr><td><ol><li>a close up of a street sign on a pole</li><li>a close up of a street sign with a sky background</li><li>a close up of a street sign with a street sign</li><li>a close up of a street sign with a sign on it</li><li>a close up of a street sign with a street sign on it</li></ol></td><td><ol><li>a close up of a street sign on a pole</li><li>a close up of a street sign with a sky background</li><li>a close up of a street sign with a street sign</li><li>a close up of a street sign with a sign on it</li><li>a close up of a street sign with a street sign on it</li></ol></td></tr></table>"
      ],
      "text/plain": [
       "<IPython.core.display.HTML object>"
      ]
     },
     "metadata": {},
     "output_type": "display_data"
    },
    {
     "data": {
      "text/html": [
       "<table><tr><td><img width=300 src=\"val2014/COCO_val2014_000000176649.jpg\" ></img></td><td><img width=300 src=\"val2014/COCO_val2014_000000136411.jpg\" ></img></td></tr></table>"
      ],
      "text/plain": [
       "<IPython.core.display.HTML object>"
      ]
     },
     "metadata": {},
     "output_type": "display_data"
    },
    {
     "data": {
      "text/html": [
       "<table><tr><td><img width=300 src=\"val2014/COCO_val2014_000000136411.jpg\" ></img></td><td><img width=300 src=\"train2014/COCO_train2014_000000112207.jpg\" ></img></td><td><img width=300 src=\"train2014/COCO_train2014_000000037458.jpg\" ></img></td><td><img width=300 src=\"train2014/COCO_train2014_000000247547.jpg\" ></img></td><td><img width=300 src=\"train2014/COCO_train2014_000000389190.jpg\" ></img></td></tr><tr><td><b>0.1133</b></td><td><b>0.0578</b></td><td><b>0.0991</b></td><td><b>0.1133</b></td><td><b>0.1133</b></td></tr><tr><td><img width=300 src=\"val2014/COCO_val2014_000000325368.jpg\" ></img></td><td><img width=300 src=\"val2014/COCO_val2014_000000226128.jpg\" ></img></td><td><img width=300 src=\"train2014/COCO_train2014_000000009176.jpg\" ></img></td><td><img width=300 src=\"train2014/COCO_train2014_000000038435.jpg\" ></img></td><td><img width=300 src=\"train2014/COCO_train2014_000000071217.jpg\" ></img></td></tr><tr><td><b>0.1133</b></td><td><b>0.0920</b></td><td><b>0.1133</b></td><td><b>0.0712</b></td><td><b>0.1133</b></td></tr></table>"
      ],
      "text/plain": [
       "<IPython.core.display.HTML object>"
      ]
     },
     "metadata": {},
     "output_type": "display_data"
    },
    {
     "name": "stdout",
     "output_type": "stream",
     "text": [
      "\n"
     ]
    }
   ],
   "source": [
    "# random + closest trained\n",
    "# display_em_model(batch, k=20, neighbor_types=['random', 'closest'], choose_distractor=True)\n",
    "display_em_model(next(loader.iters['val']), k=10, neighbor_types=['closest'], choose_distractor=True)"
   ]
  },
  {
   "cell_type": "code",
   "execution_count": 37,
   "metadata": {
    "scrolled": true
   },
   "outputs": [
    {
     "data": {
      "text/html": [
       "<table><tr><td><img width=300 src=\"val2014/COCO_val2014_000000184613.jpg\" ></img></td><td><img width=300 src=\"val2014/COCO_val2014_000000184613.jpg\" ></img></td></tr><tr><td><b>normal</b></td><td><b>contrastive</b></td></tr><tr><td><ol><li>a group of people standing next to a herd of sheep</li><li>a group of people standing around a herd of sheep</li><li>a group of people standing next to a herd of animals</li><li>a group of people standing next to a herd of goats</li><li>a group of people in a field with a herd of sheep</li></ol></td><td><ol><li>a group of people standing next to a herd of sheep</li><li>a group of people standing around a herd of sheep</li><li>a group of people standing next to a herd of animals</li><li>a group of people standing next to a herd of goats</li><li>a group of people in a field with a herd of sheep</li></ol></td></tr></table>"
      ],
      "text/plain": [
       "<IPython.core.display.HTML object>"
      ]
     },
     "metadata": {},
     "output_type": "display_data"
    },
    {
     "data": {
      "text/html": [
       "<table><tr><td><img width=300 src=\"val2014/COCO_val2014_000000184613.jpg\" ></img></td><td><img width=300 src=\"train2014/COCO_train2014_000000496179.jpg\" ></img></td></tr></table>"
      ],
      "text/plain": [
       "<IPython.core.display.HTML object>"
      ]
     },
     "metadata": {},
     "output_type": "display_data"
    },
    {
     "data": {
      "text/html": [
       "<table><tr><td><img width=300 src=\"val2014/COCO_val2014_000000250804.jpg\" ></img></td><td><img width=300 src=\"train2014/COCO_train2014_000000433662.jpg\" ></img></td><td><img width=300 src=\"train2014/COCO_train2014_000000020966.jpg\" ></img></td><td><img width=300 src=\"train2014/COCO_train2014_000000063043.jpg\" ></img></td><td><img width=300 src=\"train2014/COCO_train2014_000000077693.jpg\" ></img></td></tr><tr><td><b>0.0004</b></td><td><b>0.0004</b></td><td><b>0.0009</b></td><td><b>0.0000</b></td><td><b>0.0000</b></td></tr><tr><td><img width=300 src=\"train2014/COCO_train2014_000000378214.jpg\" ></img></td><td><img width=300 src=\"train2014/COCO_train2014_000000407590.jpg\" ></img></td><td><img width=300 src=\"val2014/COCO_val2014_000000031471.jpg\" ></img></td><td><img width=300 src=\"train2014/COCO_train2014_000000007953.jpg\" ></img></td><td><img width=300 src=\"train2014/COCO_train2014_000000086329.jpg\" ></img></td></tr><tr><td><b>0.0003</b></td><td><b>0.0011</b></td><td><b>0.0016</b></td><td><b>0.0019</b></td><td><b>0.0000</b></td></tr><tr><td><img width=300 src=\"train2014/COCO_train2014_000000496179.jpg\" ></img></td><td><img width=300 src=\"train2014/COCO_train2014_000000201508.jpg\" ></img></td><td><img width=300 src=\"train2014/COCO_train2014_000000411975.jpg\" ></img></td><td><img width=300 src=\"train2014/COCO_train2014_000000449598.jpg\" ></img></td><td><img width=300 src=\"train2014/COCO_train2014_000000418652.jpg\" ></img></td></tr><tr><td><b>0.3913</b></td><td><b>0.1622</b></td><td><b>0.0003</b></td><td><b>0.0070</b></td><td><b>0.0473</b></td></tr><tr><td><img width=300 src=\"train2014/COCO_train2014_000000284861.jpg\" ></img></td><td><img width=300 src=\"train2014/COCO_train2014_000000060289.jpg\" ></img></td><td><img width=300 src=\"val2014/COCO_val2014_000000334391.jpg\" ></img></td><td><img width=300 src=\"train2014/COCO_train2014_000000401569.jpg\" ></img></td><td><img width=300 src=\"val2014/COCO_val2014_000000059239.jpg\" ></img></td></tr><tr><td><b>0.0007</b></td><td><b>0.0509</b></td><td><b>0.1348</b></td><td><b>0.1899</b></td><td><b>0.0090</b></td></tr></table>"
      ],
      "text/plain": [
       "<IPython.core.display.HTML object>"
      ]
     },
     "metadata": {},
     "output_type": "display_data"
    },
    {
     "name": "stdout",
     "output_type": "stream",
     "text": [
      "\n"
     ]
    },
    {
     "data": {
      "text/html": [
       "<table><tr><td><img width=300 src=\"val2014/COCO_val2014_000000403013.jpg\" ></img></td><td><img width=300 src=\"val2014/COCO_val2014_000000403013.jpg\" ></img></td></tr><tr><td><b>normal</b></td><td><b>contrastive</b></td></tr><tr><td><ol><li>a kitchen with a stove and a stove</li><li>a kitchen with a stove and a sink</li><li>a kitchen with a stove and a refrigerator</li><li>a kitchen with a stove and a stove top oven</li><li>a kitchen that has a stove and a stove</li></ol></td><td><ol><li>a kitchen with a stove and a stove</li><li>a kitchen with a stove and a sink</li><li>a kitchen with a stove and a refrigerator</li><li>a kitchen with a stove and a stove top oven</li><li>a kitchen that has a stove and a stove</li></ol></td></tr></table>"
      ],
      "text/plain": [
       "<IPython.core.display.HTML object>"
      ]
     },
     "metadata": {},
     "output_type": "display_data"
    },
    {
     "data": {
      "text/html": [
       "<table><tr><td><img width=300 src=\"val2014/COCO_val2014_000000403013.jpg\" ></img></td><td><img width=300 src=\"train2014/COCO_train2014_000000041475.jpg\" ></img></td></tr></table>"
      ],
      "text/plain": [
       "<IPython.core.display.HTML object>"
      ]
     },
     "metadata": {},
     "output_type": "display_data"
    },
    {
     "data": {
      "text/html": [
       "<table><tr><td><img width=300 src=\"val2014/COCO_val2014_000000048910.jpg\" ></img></td><td><img width=300 src=\"train2014/COCO_train2014_000000266273.jpg\" ></img></td><td><img width=300 src=\"train2014/COCO_train2014_000000229962.jpg\" ></img></td><td><img width=300 src=\"train2014/COCO_train2014_000000332202.jpg\" ></img></td><td><img width=300 src=\"val2014/COCO_val2014_000000409855.jpg\" ></img></td></tr><tr><td><b>0.0048</b></td><td><b>0.0094</b></td><td><b>0.0063</b></td><td><b>0.0049</b></td><td><b>0.0039</b></td></tr><tr><td><img width=300 src=\"train2014/COCO_train2014_000000312850.jpg\" ></img></td><td><img width=300 src=\"train2014/COCO_train2014_000000130180.jpg\" ></img></td><td><img width=300 src=\"val2014/COCO_val2014_000000553129.jpg\" ></img></td><td><img width=300 src=\"train2014/COCO_train2014_000000138536.jpg\" ></img></td><td><img width=300 src=\"train2014/COCO_train2014_000000524838.jpg\" ></img></td></tr><tr><td><b>0.0051</b></td><td><b>0.0045</b></td><td><b>0.0046</b></td><td><b>0.0067</b></td><td><b>0.0042</b></td></tr><tr><td><img width=300 src=\"train2014/COCO_train2014_000000383637.jpg\" ></img></td><td><img width=300 src=\"train2014/COCO_train2014_000000088723.jpg\" ></img></td><td><img width=300 src=\"train2014/COCO_train2014_000000008559.jpg\" ></img></td><td><img width=300 src=\"train2014/COCO_train2014_000000041475.jpg\" ></img></td><td><img width=300 src=\"train2014/COCO_train2014_000000507148.jpg\" ></img></td></tr><tr><td><b>0.0069</b></td><td><b>0.0042</b></td><td><b>0.0730</b></td><td><b>0.2962</b></td><td><b>0.0046</b></td></tr><tr><td><img width=300 src=\"train2014/COCO_train2014_000000500271.jpg\" ></img></td><td><img width=300 src=\"train2014/COCO_train2014_000000288846.jpg\" ></img></td><td><img width=300 src=\"train2014/COCO_train2014_000000564952.jpg\" ></img></td><td><img width=300 src=\"val2014/COCO_val2014_000000441218.jpg\" ></img></td><td><img width=300 src=\"train2014/COCO_train2014_000000450863.jpg\" ></img></td></tr><tr><td><b>0.1385</b></td><td><b>0.0496</b></td><td><b>0.0985</b></td><td><b>0.1853</b></td><td><b>0.0889</b></td></tr></table>"
      ],
      "text/plain": [
       "<IPython.core.display.HTML object>"
      ]
     },
     "metadata": {},
     "output_type": "display_data"
    },
    {
     "name": "stdout",
     "output_type": "stream",
     "text": [
      "\n"
     ]
    },
    {
     "data": {
      "text/html": [
       "<table><tr><td><img width=300 src=\"val2014/COCO_val2014_000000562150.jpg\" ></img></td><td><img width=300 src=\"val2014/COCO_val2014_000000562150.jpg\" ></img></td></tr><tr><td><b>normal</b></td><td><b>contrastive</b></td></tr><tr><td><ol><li>a little girl sitting on a bench holding a cat</li><li>a little girl holding a cat and a cat</li><li>a little girl sitting on a bench with a cat</li><li>a little girl holding a cat in her lap</li><li>a little girl holding a cat in her hands</li></ol></td><td><ol><li>a little girl sitting on a bench holding a cat</li><li>a little girl holding a cat and a cat</li><li>a little girl sitting on a bench with a cat</li><li>a little girl holding a cat in her lap</li><li>a little girl holding a cat in her hands</li></ol></td></tr></table>"
      ],
      "text/plain": [
       "<IPython.core.display.HTML object>"
      ]
     },
     "metadata": {},
     "output_type": "display_data"
    },
    {
     "data": {
      "text/html": [
       "<table><tr><td><img width=300 src=\"val2014/COCO_val2014_000000562150.jpg\" ></img></td><td><img width=300 src=\"train2014/COCO_train2014_000000465018.jpg\" ></img></td></tr></table>"
      ],
      "text/plain": [
       "<IPython.core.display.HTML object>"
      ]
     },
     "metadata": {},
     "output_type": "display_data"
    },
    {
     "data": {
      "text/html": [
       "<table><tr><td><img width=300 src=\"train2014/COCO_train2014_000000277050.jpg\" ></img></td><td><img width=300 src=\"train2014/COCO_train2014_000000184937.jpg\" ></img></td><td><img width=300 src=\"train2014/COCO_train2014_000000478675.jpg\" ></img></td><td><img width=300 src=\"val2014/COCO_val2014_000000361217.jpg\" ></img></td><td><img width=300 src=\"val2014/COCO_val2014_000000363321.jpg\" ></img></td></tr><tr><td><b>0.0066</b></td><td><b>0.0063</b></td><td><b>0.0073</b></td><td><b>0.0063</b></td><td><b>0.0066</b></td></tr><tr><td><img width=300 src=\"val2014/COCO_val2014_000000194716.jpg\" ></img></td><td><img width=300 src=\"val2014/COCO_val2014_000000169690.jpg\" ></img></td><td><img width=300 src=\"train2014/COCO_train2014_000000430394.jpg\" ></img></td><td><img width=300 src=\"train2014/COCO_train2014_000000390934.jpg\" ></img></td><td><img width=300 src=\"train2014/COCO_train2014_000000334039.jpg\" ></img></td></tr><tr><td><b>0.0055</b></td><td><b>0.0069</b></td><td><b>0.0066</b></td><td><b>0.0086</b></td><td><b>0.0063</b></td></tr><tr><td><img width=300 src=\"train2014/COCO_train2014_000000465018.jpg\" ></img></td><td><img width=300 src=\"train2014/COCO_train2014_000000224959.jpg\" ></img></td><td><img width=300 src=\"train2014/COCO_train2014_000000516263.jpg\" ></img></td><td><img width=300 src=\"train2014/COCO_train2014_000000220485.jpg\" ></img></td><td><img width=300 src=\"train2014/COCO_train2014_000000049058.jpg\" ></img></td></tr><tr><td><b>0.1870</b></td><td><b>0.1374</b></td><td><b>0.0478</b></td><td><b>0.0116</b></td><td><b>0.1419</b></td></tr><tr><td><img width=300 src=\"train2014/COCO_train2014_000000258119.jpg\" ></img></td><td><img width=300 src=\"val2014/COCO_val2014_000000443605.jpg\" ></img></td><td><img width=300 src=\"train2014/COCO_train2014_000000502700.jpg\" ></img></td><td><img width=300 src=\"val2014/COCO_val2014_000000458255.jpg\" ></img></td><td><img width=300 src=\"train2014/COCO_train2014_000000236349.jpg\" ></img></td></tr><tr><td><b>0.0956</b></td><td><b>0.1340</b></td><td><b>0.0154</b></td><td><b>0.0156</b></td><td><b>0.1467</b></td></tr></table>"
      ],
      "text/plain": [
       "<IPython.core.display.HTML object>"
      ]
     },
     "metadata": {},
     "output_type": "display_data"
    },
    {
     "name": "stdout",
     "output_type": "stream",
     "text": [
      "\n"
     ]
    },
    {
     "data": {
      "text/html": [
       "<table><tr><td><img width=300 src=\"val2014/COCO_val2014_000000360772.jpg\" ></img></td><td><img width=300 src=\"val2014/COCO_val2014_000000360772.jpg\" ></img></td></tr><tr><td><b>normal</b></td><td><b>contrastive</b></td></tr><tr><td><ol><li>a bathroom with a toilet and a sink</li><li>a small bathroom with a toilet and a sink</li><li>a white toilet sitting next to a white toilet</li><li>a white toilet sitting in a bathroom next to a wall</li><li>a white toilet sitting in a bathroom next to a toilet</li></ol></td><td><ol><li>a bathroom with a toilet and a sink</li><li>a small bathroom with a toilet and a sink</li><li>a white toilet sitting next to a white toilet</li><li>a white toilet sitting in a bathroom next to a wall</li><li>a white toilet sitting in a bathroom next to a toilet</li></ol></td></tr></table>"
      ],
      "text/plain": [
       "<IPython.core.display.HTML object>"
      ]
     },
     "metadata": {},
     "output_type": "display_data"
    },
    {
     "data": {
      "text/html": [
       "<table><tr><td><img width=300 src=\"val2014/COCO_val2014_000000360772.jpg\" ></img></td><td><img width=300 src=\"val2014/COCO_val2014_000000212895.jpg\" ></img></td></tr></table>"
      ],
      "text/plain": [
       "<IPython.core.display.HTML object>"
      ]
     },
     "metadata": {},
     "output_type": "display_data"
    },
    {
     "data": {
      "text/html": [
       "<table><tr><td><img width=300 src=\"val2014/COCO_val2014_000000012323.jpg\" ></img></td><td><img width=300 src=\"train2014/COCO_train2014_000000386560.jpg\" ></img></td><td><img width=300 src=\"train2014/COCO_train2014_000000567179.jpg\" ></img></td><td><img width=300 src=\"train2014/COCO_train2014_000000208754.jpg\" ></img></td><td><img width=300 src=\"train2014/COCO_train2014_000000005277.jpg\" ></img></td></tr><tr><td><b>0.0053</b></td><td><b>0.0053</b></td><td><b>0.0054</b></td><td><b>0.0068</b></td><td><b>0.0053</b></td></tr><tr><td><img width=300 src=\"val2014/COCO_val2014_000000126941.jpg\" ></img></td><td><img width=300 src=\"train2014/COCO_train2014_000000472831.jpg\" ></img></td><td><img width=300 src=\"train2014/COCO_train2014_000000132454.jpg\" ></img></td><td><img width=300 src=\"train2014/COCO_train2014_000000201686.jpg\" ></img></td><td><img width=300 src=\"train2014/COCO_train2014_000000428120.jpg\" ></img></td></tr><tr><td><b>0.0053</b></td><td><b>0.0053</b></td><td><b>0.0053</b></td><td><b>0.0053</b></td><td><b>0.0053</b></td></tr><tr><td><img width=300 src=\"train2014/COCO_train2014_000000441674.jpg\" ></img></td><td><img width=300 src=\"train2014/COCO_train2014_000000552374.jpg\" ></img></td><td><img width=300 src=\"train2014/COCO_train2014_000000137717.jpg\" ></img></td><td><img width=300 src=\"train2014/COCO_train2014_000000534312.jpg\" ></img></td><td><img width=300 src=\"train2014/COCO_train2014_000000385168.jpg\" ></img></td></tr><tr><td><b>0.0725</b></td><td><b>0.1096</b></td><td><b>0.1090</b></td><td><b>0.1065</b></td><td><b>0.1352</b></td></tr><tr><td><img width=300 src=\"val2014/COCO_val2014_000000212895.jpg\" ></img></td><td><img width=300 src=\"val2014/COCO_val2014_000000455343.jpg\" ></img></td><td><img width=300 src=\"val2014/COCO_val2014_000000271795.jpg\" ></img></td><td><img width=300 src=\"val2014/COCO_val2014_000000234500.jpg\" ></img></td><td><img width=300 src=\"train2014/COCO_train2014_000000551327.jpg\" ></img></td></tr><tr><td><b>0.1735</b></td><td><b>0.0053</b></td><td><b>0.0084</b></td><td><b>0.0879</b></td><td><b>0.1375</b></td></tr></table>"
      ],
      "text/plain": [
       "<IPython.core.display.HTML object>"
      ]
     },
     "metadata": {},
     "output_type": "display_data"
    },
    {
     "name": "stdout",
     "output_type": "stream",
     "text": [
      "\n"
     ]
    },
    {
     "data": {
      "text/html": [
       "<table><tr><td><img width=300 src=\"val2014/COCO_val2014_000000340559.jpg\" ></img></td><td><img width=300 src=\"val2014/COCO_val2014_000000340559.jpg\" ></img></td></tr><tr><td><b>normal</b></td><td><b>contrastive</b></td></tr><tr><td><ol><li>a kitchen with a sink and a sink</li><li>a bathroom with a sink and a sink</li><li>a large kitchen with a sink and a sink</li><li>a kitchen with a sink a sink and a sink</li><li>a kitchen with a sink and a large mirror</li></ol></td><td><ol><li>a kitchen with a sink and a sink</li><li>a bathroom with a sink and a sink</li><li>a large kitchen with a sink and a sink</li><li>a kitchen with a sink a sink and a sink</li><li>a kitchen with a sink and a large mirror</li></ol></td></tr></table>"
      ],
      "text/plain": [
       "<IPython.core.display.HTML object>"
      ]
     },
     "metadata": {},
     "output_type": "display_data"
    },
    {
     "data": {
      "text/html": [
       "<table><tr><td><img width=300 src=\"val2014/COCO_val2014_000000340559.jpg\" ></img></td><td><img width=300 src=\"val2014/COCO_val2014_000000015565.jpg\" ></img></td></tr></table>"
      ],
      "text/plain": [
       "<IPython.core.display.HTML object>"
      ]
     },
     "metadata": {},
     "output_type": "display_data"
    },
    {
     "data": {
      "text/html": [
       "<table><tr><td><img width=300 src=\"train2014/COCO_train2014_000000432201.jpg\" ></img></td><td><img width=300 src=\"val2014/COCO_val2014_000000042568.jpg\" ></img></td><td><img width=300 src=\"val2014/COCO_val2014_000000229311.jpg\" ></img></td><td><img width=300 src=\"val2014/COCO_val2014_000000078266.jpg\" ></img></td><td><img width=300 src=\"val2014/COCO_val2014_000000070434.jpg\" ></img></td></tr><tr><td><b>0.0065</b></td><td><b>0.0041</b></td><td><b>0.0030</b></td><td><b>0.0058</b></td><td><b>0.0030</b></td></tr><tr><td><img width=300 src=\"val2014/COCO_val2014_000000452793.jpg\" ></img></td><td><img width=300 src=\"train2014/COCO_train2014_000000504336.jpg\" ></img></td><td><img width=300 src=\"train2014/COCO_train2014_000000375728.jpg\" ></img></td><td><img width=300 src=\"train2014/COCO_train2014_000000083878.jpg\" ></img></td><td><img width=300 src=\"val2014/COCO_val2014_000000121828.jpg\" ></img></td></tr><tr><td><b>0.0045</b></td><td><b>0.0030</b></td><td><b>0.0039</b></td><td><b>0.0033</b></td><td><b>0.0058</b></td></tr><tr><td><img width=300 src=\"train2014/COCO_train2014_000000167490.jpg\" ></img></td><td><img width=300 src=\"train2014/COCO_train2014_000000453629.jpg\" ></img></td><td><img width=300 src=\"val2014/COCO_val2014_000000140634.jpg\" ></img></td><td><img width=300 src=\"train2014/COCO_train2014_000000430076.jpg\" ></img></td><td><img width=300 src=\"train2014/COCO_train2014_000000132120.jpg\" ></img></td></tr><tr><td><b>0.1123</b></td><td><b>0.0307</b></td><td><b>0.1626</b></td><td><b>0.1461</b></td><td><b>0.1652</b></td></tr><tr><td><img width=300 src=\"val2014/COCO_val2014_000000245440.jpg\" ></img></td><td><img width=300 src=\"train2014/COCO_train2014_000000127921.jpg\" ></img></td><td><img width=300 src=\"train2014/COCO_train2014_000000526927.jpg\" ></img></td><td><img width=300 src=\"val2014/COCO_val2014_000000015565.jpg\" ></img></td><td><img width=300 src=\"train2014/COCO_train2014_000000078729.jpg\" ></img></td></tr><tr><td><b>0.0422</b></td><td><b>0.0036</b></td><td><b>0.0062</b></td><td><b>0.2200</b></td><td><b>0.0680</b></td></tr></table>"
      ],
      "text/plain": [
       "<IPython.core.display.HTML object>"
      ]
     },
     "metadata": {},
     "output_type": "display_data"
    },
    {
     "name": "stdout",
     "output_type": "stream",
     "text": [
      "\n"
     ]
    },
    {
     "data": {
      "text/html": [
       "<table><tr><td><img width=300 src=\"val2014/COCO_val2014_000000321107.jpg\" ></img></td><td><img width=300 src=\"val2014/COCO_val2014_000000321107.jpg\" ></img></td></tr><tr><td><b>normal</b></td><td><b>contrastive</b></td></tr><tr><td><ol><li>a group of people riding bikes down a street</li><li>a couple of people riding bikes down a street</li><li>a woman riding a bike down a street</li><li>a woman riding a bike down the street</li><li>a woman riding a bike down a street next to a bike</li></ol></td><td><ol><li>a woman riding a bike down a street</li><li>a group of people riding bikes down a street</li><li>a woman riding a bike down the street</li><li>a person riding a bike down a street</li><li>a woman riding a bike down a street next to a bike</li></ol></td></tr></table>"
      ],
      "text/plain": [
       "<IPython.core.display.HTML object>"
      ]
     },
     "metadata": {},
     "output_type": "display_data"
    },
    {
     "data": {
      "text/html": [
       "<table><tr><td><img width=300 src=\"val2014/COCO_val2014_000000321107.jpg\" ></img></td><td><img width=300 src=\"train2014/COCO_train2014_000000154815.jpg\" ></img></td></tr></table>"
      ],
      "text/plain": [
       "<IPython.core.display.HTML object>"
      ]
     },
     "metadata": {},
     "output_type": "display_data"
    },
    {
     "data": {
      "text/html": [
       "<table><tr><td><img width=300 src=\"train2014/COCO_train2014_000000329755.jpg\" ></img></td><td><img width=300 src=\"val2014/COCO_val2014_000000493846.jpg\" ></img></td><td><img width=300 src=\"val2014/COCO_val2014_000000016961.jpg\" ></img></td><td><img width=300 src=\"val2014/COCO_val2014_000000087920.jpg\" ></img></td><td><img width=300 src=\"train2014/COCO_train2014_000000304134.jpg\" ></img></td></tr><tr><td><b>0.0001</b></td><td><b>0.0013</b></td><td><b>0.0000</b></td><td><b>0.0001</b></td><td><b>0.0000</b></td></tr><tr><td><img width=300 src=\"train2014/COCO_train2014_000000262967.jpg\" ></img></td><td><img width=300 src=\"train2014/COCO_train2014_000000489107.jpg\" ></img></td><td><img width=300 src=\"train2014/COCO_train2014_000000363455.jpg\" ></img></td><td><img width=300 src=\"train2014/COCO_train2014_000000151778.jpg\" ></img></td><td><img width=300 src=\"train2014/COCO_train2014_000000380820.jpg\" ></img></td></tr><tr><td><b>0.0000</b></td><td><b>0.0000</b></td><td><b>0.0000</b></td><td><b>0.0000</b></td><td><b>0.0000</b></td></tr><tr><td><img width=300 src=\"train2014/COCO_train2014_000000415280.jpg\" ></img></td><td><img width=300 src=\"train2014/COCO_train2014_000000511103.jpg\" ></img></td><td><img width=300 src=\"train2014/COCO_train2014_000000334232.jpg\" ></img></td><td><img width=300 src=\"train2014/COCO_train2014_000000166233.jpg\" ></img></td><td><img width=300 src=\"train2014/COCO_train2014_000000267834.jpg\" ></img></td></tr><tr><td><b>0.0968</b></td><td><b>0.0001</b></td><td><b>0.0001</b></td><td><b>0.1343</b></td><td><b>0.0002</b></td></tr><tr><td><img width=300 src=\"train2014/COCO_train2014_000000254432.jpg\" ></img></td><td><img width=300 src=\"val2014/COCO_val2014_000000337375.jpg\" ></img></td><td><img width=300 src=\"val2014/COCO_val2014_000000517617.jpg\" ></img></td><td><img width=300 src=\"train2014/COCO_train2014_000000154815.jpg\" ></img></td><td><img width=300 src=\"train2014/COCO_train2014_000000567000.jpg\" ></img></td></tr><tr><td><b>0.1532</b></td><td><b>0.0036</b></td><td><b>0.2850</b></td><td><b>0.3160</b></td><td><b>0.0092</b></td></tr></table>"
      ],
      "text/plain": [
       "<IPython.core.display.HTML object>"
      ]
     },
     "metadata": {},
     "output_type": "display_data"
    },
    {
     "name": "stdout",
     "output_type": "stream",
     "text": [
      "\n"
     ]
    },
    {
     "data": {
      "text/html": [
       "<table><tr><td><img width=300 src=\"val2014/COCO_val2014_000000129001.jpg\" ></img></td><td><img width=300 src=\"val2014/COCO_val2014_000000129001.jpg\" ></img></td></tr><tr><td><b>normal</b></td><td><b>contrastive</b></td></tr><tr><td><ol><li>a bathroom with a shower and a sink</li><li>a bathroom with a shower and a shower</li><li>a bathroom with a sink and a shower</li><li>a bath room with a sink and a shower</li><li>a bath room with a shower and a sink</li></ol></td><td><ol><li>a bathroom with a shower and a sink</li><li>a bathroom with a shower and a shower</li><li>a bathroom with a sink and a shower</li><li>a bath room with a sink and a shower</li><li>a bath room with a shower and a sink</li></ol></td></tr></table>"
      ],
      "text/plain": [
       "<IPython.core.display.HTML object>"
      ]
     },
     "metadata": {},
     "output_type": "display_data"
    },
    {
     "data": {
      "text/html": [
       "<table><tr><td><img width=300 src=\"val2014/COCO_val2014_000000129001.jpg\" ></img></td><td><img width=300 src=\"val2014/COCO_val2014_000000028676.jpg\" ></img></td></tr></table>"
      ],
      "text/plain": [
       "<IPython.core.display.HTML object>"
      ]
     },
     "metadata": {},
     "output_type": "display_data"
    },
    {
     "data": {
      "text/html": [
       "<table><tr><td><img width=300 src=\"train2014/COCO_train2014_000000037126.jpg\" ></img></td><td><img width=300 src=\"train2014/COCO_train2014_000000187972.jpg\" ></img></td><td><img width=300 src=\"val2014/COCO_val2014_000000383606.jpg\" ></img></td><td><img width=300 src=\"val2014/COCO_val2014_000000134715.jpg\" ></img></td><td><img width=300 src=\"train2014/COCO_train2014_000000491063.jpg\" ></img></td></tr><tr><td><b>0.0065</b></td><td><b>0.0056</b></td><td><b>0.0092</b></td><td><b>0.0056</b></td><td><b>0.0056</b></td></tr><tr><td><img width=300 src=\"train2014/COCO_train2014_000000042086.jpg\" ></img></td><td><img width=300 src=\"val2014/COCO_val2014_000000356299.jpg\" ></img></td><td><img width=300 src=\"val2014/COCO_val2014_000000303928.jpg\" ></img></td><td><img width=300 src=\"val2014/COCO_val2014_000000449731.jpg\" ></img></td><td><img width=300 src=\"train2014/COCO_train2014_000000522620.jpg\" ></img></td></tr><tr><td><b>0.0059</b></td><td><b>0.0056</b></td><td><b>0.0056</b></td><td><b>0.0056</b></td><td><b>0.0073</b></td></tr><tr><td><img width=300 src=\"train2014/COCO_train2014_000000388740.jpg\" ></img></td><td><img width=300 src=\"train2014/COCO_train2014_000000341437.jpg\" ></img></td><td><img width=300 src=\"train2014/COCO_train2014_000000352601.jpg\" ></img></td><td><img width=300 src=\"train2014/COCO_train2014_000000197656.jpg\" ></img></td><td><img width=300 src=\"train2014/COCO_train2014_000000284994.jpg\" ></img></td></tr><tr><td><b>0.0213</b></td><td><b>0.0056</b></td><td><b>0.1025</b></td><td><b>0.0968</b></td><td><b>0.0557</b></td></tr><tr><td><img width=300 src=\"val2014/COCO_val2014_000000028676.jpg\" ></img></td><td><img width=300 src=\"train2014/COCO_train2014_000000524547.jpg\" ></img></td><td><img width=300 src=\"val2014/COCO_val2014_000000274613.jpg\" ></img></td><td><img width=300 src=\"train2014/COCO_train2014_000000209005.jpg\" ></img></td><td><img width=300 src=\"train2014/COCO_train2014_000000450173.jpg\" ></img></td></tr><tr><td><b>0.2251</b></td><td><b>0.1844</b></td><td><b>0.2120</b></td><td><b>0.0178</b></td><td><b>0.0161</b></td></tr></table>"
      ],
      "text/plain": [
       "<IPython.core.display.HTML object>"
      ]
     },
     "metadata": {},
     "output_type": "display_data"
    },
    {
     "name": "stdout",
     "output_type": "stream",
     "text": [
      "\n"
     ]
    },
    {
     "data": {
      "text/html": [
       "<table><tr><td><img width=300 src=\"val2014/COCO_val2014_000000556616.jpg\" ></img></td><td><img width=300 src=\"val2014/COCO_val2014_000000556616.jpg\" ></img></td></tr><tr><td><b>normal</b></td><td><b>contrastive</b></td></tr><tr><td><ol><li>a row of parking meters on a city street</li><li>a parking meter on the side of a street</li><li>a row of parking meters on the side of a street</li><li>a row of parking meters sitting on the side of a road</li><li>a row of parking meters sitting on the side of a street</li></ol></td><td><ol><li>a row of parking meters on a city street</li><li>a parking meter on the side of a street</li><li>a parking meter on the side of a road</li><li>a row of parking meters on the side of a street</li><li>a row of parking meters sitting on the side of a road</li></ol></td></tr></table>"
      ],
      "text/plain": [
       "<IPython.core.display.HTML object>"
      ]
     },
     "metadata": {},
     "output_type": "display_data"
    },
    {
     "data": {
      "text/html": [
       "<table><tr><td><img width=300 src=\"val2014/COCO_val2014_000000556616.jpg\" ></img></td><td><img width=300 src=\"train2014/COCO_train2014_000000058572.jpg\" ></img></td></tr></table>"
      ],
      "text/plain": [
       "<IPython.core.display.HTML object>"
      ]
     },
     "metadata": {},
     "output_type": "display_data"
    },
    {
     "data": {
      "text/html": [
       "<table><tr><td><img width=300 src=\"train2014/COCO_train2014_000000253528.jpg\" ></img></td><td><img width=300 src=\"train2014/COCO_train2014_000000539767.jpg\" ></img></td><td><img width=300 src=\"val2014/COCO_val2014_000000135410.jpg\" ></img></td><td><img width=300 src=\"train2014/COCO_train2014_000000068789.jpg\" ></img></td><td><img width=300 src=\"val2014/COCO_val2014_000000145039.jpg\" ></img></td></tr><tr><td><b>0.0000</b></td><td><b>0.0001</b></td><td><b>0.0000</b></td><td><b>0.0001</b></td><td><b>0.0001</b></td></tr><tr><td><img width=300 src=\"train2014/COCO_train2014_000000375053.jpg\" ></img></td><td><img width=300 src=\"val2014/COCO_val2014_000000302200.jpg\" ></img></td><td><img width=300 src=\"train2014/COCO_train2014_000000488367.jpg\" ></img></td><td><img width=300 src=\"train2014/COCO_train2014_000000172637.jpg\" ></img></td><td><img width=300 src=\"train2014/COCO_train2014_000000357790.jpg\" ></img></td></tr><tr><td><b>0.0000</b></td><td><b>0.0002</b></td><td><b>0.0058</b></td><td><b>0.0002</b></td><td><b>0.0003</b></td></tr><tr><td><img width=300 src=\"train2014/COCO_train2014_000000152614.jpg\" ></img></td><td><img width=300 src=\"train2014/COCO_train2014_000000215994.jpg\" ></img></td><td><img width=300 src=\"train2014/COCO_train2014_000000058572.jpg\" ></img></td><td><img width=300 src=\"train2014/COCO_train2014_000000176925.jpg\" ></img></td><td><img width=300 src=\"train2014/COCO_train2014_000000509047.jpg\" ></img></td></tr><tr><td><b>0.1370</b></td><td><b>0.1677</b></td><td><b>0.2666</b></td><td><b>0.0008</b></td><td><b>0.0216</b></td></tr><tr><td><img width=300 src=\"train2014/COCO_train2014_000000117608.jpg\" ></img></td><td><img width=300 src=\"train2014/COCO_train2014_000000292440.jpg\" ></img></td><td><img width=300 src=\"val2014/COCO_val2014_000000223874.jpg\" ></img></td><td><img width=300 src=\"train2014/COCO_train2014_000000476380.jpg\" ></img></td><td><img width=300 src=\"val2014/COCO_val2014_000000351557.jpg\" ></img></td></tr><tr><td><b>0.1192</b></td><td><b>0.1942</b></td><td><b>0.0000</b></td><td><b>0.0860</b></td><td><b>0.0001</b></td></tr></table>"
      ],
      "text/plain": [
       "<IPython.core.display.HTML object>"
      ]
     },
     "metadata": {},
     "output_type": "display_data"
    },
    {
     "name": "stdout",
     "output_type": "stream",
     "text": [
      "\n"
     ]
    },
    {
     "data": {
      "text/html": [
       "<table><tr><td><img width=300 src=\"val2014/COCO_val2014_000000472621.jpg\" ></img></td><td><img width=300 src=\"val2014/COCO_val2014_000000472621.jpg\" ></img></td></tr><tr><td><b>normal</b></td><td><b>contrastive</b></td></tr><tr><td><ol><li>a bathroom with a sink and a sink</li><li>a bathroom with two sinks and a sink</li><li>a bathroom with a bath tub and a sink</li><li>a bath room with a sink and a sink</li><li>a bathroom with a tub and a sink</li></ol></td><td><ol><li>a bathroom with a sink and a sink</li><li>a bathroom with two sinks and a sink</li><li>a bathroom with a bath tub and a sink</li><li>a bath room with a sink and a sink</li><li>a bathroom with a tub and a sink</li></ol></td></tr></table>"
      ],
      "text/plain": [
       "<IPython.core.display.HTML object>"
      ]
     },
     "metadata": {},
     "output_type": "display_data"
    },
    {
     "data": {
      "text/html": [
       "<table><tr><td><img width=300 src=\"val2014/COCO_val2014_000000472621.jpg\" ></img></td><td><img width=300 src=\"train2014/COCO_train2014_000000040470.jpg\" ></img></td></tr></table>"
      ],
      "text/plain": [
       "<IPython.core.display.HTML object>"
      ]
     },
     "metadata": {},
     "output_type": "display_data"
    },
    {
     "data": {
      "text/html": [
       "<table><tr><td><img width=300 src=\"train2014/COCO_train2014_000000515287.jpg\" ></img></td><td><img width=300 src=\"train2014/COCO_train2014_000000188343.jpg\" ></img></td><td><img width=300 src=\"train2014/COCO_train2014_000000343670.jpg\" ></img></td><td><img width=300 src=\"train2014/COCO_train2014_000000474732.jpg\" ></img></td><td><img width=300 src=\"train2014/COCO_train2014_000000412267.jpg\" ></img></td></tr><tr><td><b>0.0030</b></td><td><b>0.0038</b></td><td><b>0.0027</b></td><td><b>0.0030</b></td><td><b>0.0027</b></td></tr><tr><td><img width=300 src=\"train2014/COCO_train2014_000000175291.jpg\" ></img></td><td><img width=300 src=\"train2014/COCO_train2014_000000401458.jpg\" ></img></td><td><img width=300 src=\"train2014/COCO_train2014_000000371490.jpg\" ></img></td><td><img width=300 src=\"train2014/COCO_train2014_000000504907.jpg\" ></img></td><td><img width=300 src=\"train2014/COCO_train2014_000000155993.jpg\" ></img></td></tr><tr><td><b>0.0027</b></td><td><b>0.0030</b></td><td><b>0.0027</b></td><td><b>0.0036</b></td><td><b>0.0027</b></td></tr><tr><td><img width=300 src=\"train2014/COCO_train2014_000000095213.jpg\" ></img></td><td><img width=300 src=\"train2014/COCO_train2014_000000147429.jpg\" ></img></td><td><img width=300 src=\"train2014/COCO_train2014_000000136945.jpg\" ></img></td><td><img width=300 src=\"train2014/COCO_train2014_000000473910.jpg\" ></img></td><td><img width=300 src=\"train2014/COCO_train2014_000000040470.jpg\" ></img></td></tr><tr><td><b>0.0049</b></td><td><b>0.1674</b></td><td><b>0.0440</b></td><td><b>0.1349</b></td><td><b>0.2565</b></td></tr><tr><td><img width=300 src=\"train2014/COCO_train2014_000000071716.jpg\" ></img></td><td><img width=300 src=\"train2014/COCO_train2014_000000308095.jpg\" ></img></td><td><img width=300 src=\"val2014/COCO_val2014_000000216581.jpg\" ></img></td><td><img width=300 src=\"train2014/COCO_train2014_000000275988.jpg\" ></img></td><td><img width=300 src=\"train2014/COCO_train2014_000000471332.jpg\" ></img></td></tr><tr><td><b>0.0620</b></td><td><b>0.0520</b></td><td><b>0.0601</b></td><td><b>0.1486</b></td><td><b>0.0395</b></td></tr></table>"
      ],
      "text/plain": [
       "<IPython.core.display.HTML object>"
      ]
     },
     "metadata": {},
     "output_type": "display_data"
    },
    {
     "name": "stdout",
     "output_type": "stream",
     "text": [
      "\n"
     ]
    },
    {
     "data": {
      "text/html": [
       "<table><tr><td><img width=300 src=\"val2014/COCO_val2014_000000364521.jpg\" ></img></td><td><img width=300 src=\"val2014/COCO_val2014_000000364521.jpg\" ></img></td></tr><tr><td><b>normal</b></td><td><b>contrastive</b></td></tr><tr><td><ol><li>a yellow banana sitting on top of a green field</li><li>a yellow and yellow fire hydrant sitting on a sidewalk</li><li>a yellow banana sitting on top of a yellow fire hydrant</li><li>a yellow banana sitting on top of a pile of bananas</li><li>a yellow and yellow fire hydrant sitting on top of a field</li></ol></td><td><ol><li>a yellow banana sitting on top of a green field</li><li>a yellow and yellow fire hydrant sitting on a sidewalk</li><li>a yellow banana sitting on top of a yellow fire hydrant</li><li>a yellow banana sitting on top of a pile of bananas</li><li>a yellow and yellow fire hydrant sitting on top of a field</li></ol></td></tr></table>"
      ],
      "text/plain": [
       "<IPython.core.display.HTML object>"
      ]
     },
     "metadata": {},
     "output_type": "display_data"
    },
    {
     "data": {
      "text/html": [
       "<table><tr><td><img width=300 src=\"val2014/COCO_val2014_000000364521.jpg\" ></img></td><td><img width=300 src=\"train2014/COCO_train2014_000000446271.jpg\" ></img></td></tr></table>"
      ],
      "text/plain": [
       "<IPython.core.display.HTML object>"
      ]
     },
     "metadata": {},
     "output_type": "display_data"
    },
    {
     "data": {
      "text/html": [
       "<table><tr><td><img width=300 src=\"val2014/COCO_val2014_000000358345.jpg\" ></img></td><td><img width=300 src=\"train2014/COCO_train2014_000000147196.jpg\" ></img></td><td><img width=300 src=\"train2014/COCO_train2014_000000086071.jpg\" ></img></td><td><img width=300 src=\"train2014/COCO_train2014_000000424739.jpg\" ></img></td><td><img width=300 src=\"train2014/COCO_train2014_000000108602.jpg\" ></img></td></tr><tr><td><b>0.0441</b></td><td><b>0.0306</b></td><td><b>0.0350</b></td><td><b>0.0086</b></td><td><b>0.0463</b></td></tr><tr><td><img width=300 src=\"train2014/COCO_train2014_000000395703.jpg\" ></img></td><td><img width=300 src=\"val2014/COCO_val2014_000000052005.jpg\" ></img></td><td><img width=300 src=\"train2014/COCO_train2014_000000405630.jpg\" ></img></td><td><img width=300 src=\"train2014/COCO_train2014_000000172654.jpg\" ></img></td><td><img width=300 src=\"train2014/COCO_train2014_000000355647.jpg\" ></img></td></tr><tr><td><b>0.0336</b></td><td><b>0.0222</b></td><td><b>0.0220</b></td><td><b>0.0339</b></td><td><b>0.0182</b></td></tr><tr><td><img width=300 src=\"train2014/COCO_train2014_000000198788.jpg\" ></img></td><td><img width=300 src=\"train2014/COCO_train2014_000000237186.jpg\" ></img></td><td><img width=300 src=\"train2014/COCO_train2014_000000446271.jpg\" ></img></td><td><img width=300 src=\"val2014/COCO_val2014_000000243857.jpg\" ></img></td><td><img width=300 src=\"train2014/COCO_train2014_000000062261.jpg\" ></img></td></tr><tr><td><b>0.0560</b></td><td><b>0.0401</b></td><td><b>0.2152</b></td><td><b>0.0257</b></td><td><b>0.0098</b></td></tr><tr><td><img width=300 src=\"train2014/COCO_train2014_000000580149.jpg\" ></img></td><td><img width=300 src=\"train2014/COCO_train2014_000000421228.jpg\" ></img></td><td><img width=300 src=\"val2014/COCO_val2014_000000511002.jpg\" ></img></td><td><img width=300 src=\"train2014/COCO_train2014_000000189156.jpg\" ></img></td><td><img width=300 src=\"train2014/COCO_train2014_000000202004.jpg\" ></img></td></tr><tr><td><b>0.0084</b></td><td><b>0.1820</b></td><td><b>0.0497</b></td><td><b>0.0290</b></td><td><b>0.0895</b></td></tr></table>"
      ],
      "text/plain": [
       "<IPython.core.display.HTML object>"
      ]
     },
     "metadata": {},
     "output_type": "display_data"
    },
    {
     "name": "stdout",
     "output_type": "stream",
     "text": [
      "\n"
     ]
    }
   ],
   "source": [
    "# random + closest trained\n",
    "# display_em_model(batch, k=20, neighbor_types=['random', 'closest'], choose_distractor=True)\n",
    "display_em_model(batch, k=10, neighbor_types=['closest', 'random'], choose_distractor=True)"
   ]
  },
  {
   "cell_type": "code",
   "execution_count": 38,
   "metadata": {
    "scrolled": false
   },
   "outputs": [
    {
     "data": {
      "text/html": [
       "<table><tr><td><img width=300 src=\"val2014/COCO_val2014_000000310391.jpg\" ></img></td><td><img width=300 src=\"val2014/COCO_val2014_000000310391.jpg\" ></img></td></tr><tr><td><b>normal</b></td><td><b>contrastive</b></td></tr><tr><td><ol><li>a green truck is parked in the grass</li><li>a green truck is parked in a field</li><li>a green truck parked in the grass near a forest</li><li>a green truck parked in the grass next to a forest</li><li>a green truck parked in the grass next to a tree</li></ol></td><td><ol><li>a green truck is parked in the grass</li><li>a green truck is parked in a field</li><li>a green truck parked in the grass near a forest</li><li>a green truck parked in the grass next to a forest</li><li>a green truck parked in the grass next to a tree</li></ol></td></tr></table>"
      ],
      "text/plain": [
       "<IPython.core.display.HTML object>"
      ]
     },
     "metadata": {},
     "output_type": "display_data"
    },
    {
     "data": {
      "text/html": [
       "<table><tr><td><img width=300 src=\"val2014/COCO_val2014_000000310391.jpg\" ></img></td><td><img width=300 src=\"train2014/COCO_train2014_000000442982.jpg\" ></img></td></tr></table>"
      ],
      "text/plain": [
       "<IPython.core.display.HTML object>"
      ]
     },
     "metadata": {},
     "output_type": "display_data"
    },
    {
     "data": {
      "text/html": [
       "<table><tr><td><img width=300 src=\"train2014/COCO_train2014_000000224753.jpg\" ></img></td><td><img width=300 src=\"train2014/COCO_train2014_000000355987.jpg\" ></img></td><td><img width=300 src=\"train2014/COCO_train2014_000000496874.jpg\" ></img></td><td><img width=300 src=\"train2014/COCO_train2014_000000044491.jpg\" ></img></td><td><img width=300 src=\"train2014/COCO_train2014_000000079563.jpg\" ></img></td></tr><tr><td><b>0.0002</b></td><td><b>0.0000</b></td><td><b>0.0000</b></td><td><b>0.0001</b></td><td><b>0.0000</b></td></tr><tr><td><img width=300 src=\"train2014/COCO_train2014_000000401235.jpg\" ></img></td><td><img width=300 src=\"val2014/COCO_val2014_000000235788.jpg\" ></img></td><td><img width=300 src=\"train2014/COCO_train2014_000000419645.jpg\" ></img></td><td><img width=300 src=\"val2014/COCO_val2014_000000503765.jpg\" ></img></td><td><img width=300 src=\"val2014/COCO_val2014_000000516798.jpg\" ></img></td></tr><tr><td><b>0.0000</b></td><td><b>0.0000</b></td><td><b>0.0001</b></td><td><b>0.0000</b></td><td><b>0.0000</b></td></tr><tr><td><img width=300 src=\"train2014/COCO_train2014_000000575758.jpg\" ></img></td><td><img width=300 src=\"train2014/COCO_train2014_000000214676.jpg\" ></img></td><td><img width=300 src=\"train2014/COCO_train2014_000000005683.jpg\" ></img></td><td><img width=300 src=\"train2014/COCO_train2014_000000512282.jpg\" ></img></td><td><img width=300 src=\"train2014/COCO_train2014_000000442982.jpg\" ></img></td></tr><tr><td><b>0.2270</b></td><td><b>0.0315</b></td><td><b>0.0116</b></td><td><b>0.1412</b></td><td><b>0.2665</b></td></tr><tr><td><img width=300 src=\"train2014/COCO_train2014_000000039446.jpg\" ></img></td><td><img width=300 src=\"train2014/COCO_train2014_000000516889.jpg\" ></img></td><td><img width=300 src=\"train2014/COCO_train2014_000000362282.jpg\" ></img></td><td><img width=300 src=\"train2014/COCO_train2014_000000329024.jpg\" ></img></td><td><img width=300 src=\"train2014/COCO_train2014_000000324315.jpg\" ></img></td></tr><tr><td><b>0.1549</b></td><td><b>0.1106</b></td><td><b>0.0000</b></td><td><b>0.0081</b></td><td><b>0.0481</b></td></tr></table>"
      ],
      "text/plain": [
       "<IPython.core.display.HTML object>"
      ]
     },
     "metadata": {},
     "output_type": "display_data"
    },
    {
     "name": "stdout",
     "output_type": "stream",
     "text": [
      "\n"
     ]
    },
    {
     "data": {
      "text/html": [
       "<table><tr><td><img width=300 src=\"val2014/COCO_val2014_000000241876.jpg\" ></img></td><td><img width=300 src=\"val2014/COCO_val2014_000000241876.jpg\" ></img></td></tr><tr><td><b>normal</b></td><td><b>contrastive</b></td></tr><tr><td><ol><li>a black cat laying on top of a toilet</li><li>a black cat laying on top of a toilet seat</li><li>a black cat sitting on a toilet seat</li><li>a black cat laying on a toilet seat</li><li>a black cat is sitting on the rim of a toilet</li></ol></td><td><ol><li>a black cat laying on top of a toilet</li><li>a black cat laying on top of a toilet seat</li><li>a black cat sitting on a toilet seat</li><li>a black cat laying on a toilet seat</li><li>a black cat is sitting on the rim of a toilet</li></ol></td></tr></table>"
      ],
      "text/plain": [
       "<IPython.core.display.HTML object>"
      ]
     },
     "metadata": {},
     "output_type": "display_data"
    },
    {
     "data": {
      "text/html": [
       "<table><tr><td><img width=300 src=\"val2014/COCO_val2014_000000241876.jpg\" ></img></td><td><img width=300 src=\"train2014/COCO_train2014_000000094817.jpg\" ></img></td></tr></table>"
      ],
      "text/plain": [
       "<IPython.core.display.HTML object>"
      ]
     },
     "metadata": {},
     "output_type": "display_data"
    },
    {
     "data": {
      "text/html": [
       "<table><tr><td><img width=300 src=\"train2014/COCO_train2014_000000012102.jpg\" ></img></td><td><img width=300 src=\"val2014/COCO_val2014_000000098302.jpg\" ></img></td><td><img width=300 src=\"train2014/COCO_train2014_000000473793.jpg\" ></img></td><td><img width=300 src=\"train2014/COCO_train2014_000000447985.jpg\" ></img></td><td><img width=300 src=\"train2014/COCO_train2014_000000382056.jpg\" ></img></td></tr><tr><td><b>0.0082</b></td><td><b>0.0082</b></td><td><b>0.0103</b></td><td><b>0.0082</b></td><td><b>0.0082</b></td></tr><tr><td><img width=300 src=\"val2014/COCO_val2014_000000562289.jpg\" ></img></td><td><img width=300 src=\"train2014/COCO_train2014_000000126810.jpg\" ></img></td><td><img width=300 src=\"train2014/COCO_train2014_000000479780.jpg\" ></img></td><td><img width=300 src=\"train2014/COCO_train2014_000000012315.jpg\" ></img></td><td><img width=300 src=\"train2014/COCO_train2014_000000225713.jpg\" ></img></td></tr><tr><td><b>0.0082</b></td><td><b>0.0082</b></td><td><b>0.0082</b></td><td><b>0.0085</b></td><td><b>0.0085</b></td></tr><tr><td><img width=300 src=\"train2014/COCO_train2014_000000518772.jpg\" ></img></td><td><img width=300 src=\"train2014/COCO_train2014_000000549962.jpg\" ></img></td><td><img width=300 src=\"train2014/COCO_train2014_000000094817.jpg\" ></img></td><td><img width=300 src=\"train2014/COCO_train2014_000000096365.jpg\" ></img></td><td><img width=300 src=\"val2014/COCO_val2014_000000321390.jpg\" ></img></td></tr><tr><td><b>0.0157</b></td><td><b>0.0208</b></td><td><b>0.2536</b></td><td><b>0.0228</b></td><td><b>0.1487</b></td></tr><tr><td><img width=300 src=\"train2014/COCO_train2014_000000394359.jpg\" ></img></td><td><img width=300 src=\"val2014/COCO_val2014_000000166037.jpg\" ></img></td><td><img width=300 src=\"train2014/COCO_train2014_000000147941.jpg\" ></img></td><td><img width=300 src=\"train2014/COCO_train2014_000000194909.jpg\" ></img></td><td><img width=300 src=\"train2014/COCO_train2014_000000552929.jpg\" ></img></td></tr><tr><td><b>0.0973</b></td><td><b>0.0213</b></td><td><b>0.1524</b></td><td><b>0.1699</b></td><td><b>0.0128</b></td></tr></table>"
      ],
      "text/plain": [
       "<IPython.core.display.HTML object>"
      ]
     },
     "metadata": {},
     "output_type": "display_data"
    },
    {
     "name": "stdout",
     "output_type": "stream",
     "text": [
      "\n"
     ]
    },
    {
     "data": {
      "text/html": [
       "<table><tr><td><img width=300 src=\"val2014/COCO_val2014_000000462341.jpg\" ></img></td><td><img width=300 src=\"val2014/COCO_val2014_000000462341.jpg\" ></img></td></tr><tr><td><b>normal</b></td><td><b>contrastive</b></td></tr><tr><td><ol><li>a large building with a clock on it</li><li>a very tall tower with a clock on it</li><li>a large building with a clock on top of it</li><li>a building with a clock on the top of it</li><li>a large building with a clock on the top of it</li></ol></td><td><ol><li>a large building with a clock on it</li><li>a very tall tower with a clock on it</li><li>a large building with a clock on top of it</li><li>a building with a clock on the top of it</li><li>a large building with a clock on the top of it</li></ol></td></tr></table>"
      ],
      "text/plain": [
       "<IPython.core.display.HTML object>"
      ]
     },
     "metadata": {},
     "output_type": "display_data"
    },
    {
     "data": {
      "text/html": [
       "<table><tr><td><img width=300 src=\"val2014/COCO_val2014_000000462341.jpg\" ></img></td><td><img width=300 src=\"train2014/COCO_train2014_000000026576.jpg\" ></img></td></tr></table>"
      ],
      "text/plain": [
       "<IPython.core.display.HTML object>"
      ]
     },
     "metadata": {},
     "output_type": "display_data"
    },
    {
     "data": {
      "text/html": [
       "<table><tr><td><img width=300 src=\"train2014/COCO_train2014_000000103513.jpg\" ></img></td><td><img width=300 src=\"train2014/COCO_train2014_000000452259.jpg\" ></img></td><td><img width=300 src=\"val2014/COCO_val2014_000000578786.jpg\" ></img></td><td><img width=300 src=\"train2014/COCO_train2014_000000450426.jpg\" ></img></td><td><img width=300 src=\"train2014/COCO_train2014_000000347312.jpg\" ></img></td></tr><tr><td><b>0.0002</b></td><td><b>0.0000</b></td><td><b>0.0000</b></td><td><b>0.0001</b></td><td><b>0.0001</b></td></tr><tr><td><img width=300 src=\"train2014/COCO_train2014_000000506910.jpg\" ></img></td><td><img width=300 src=\"train2014/COCO_train2014_000000481042.jpg\" ></img></td><td><img width=300 src=\"val2014/COCO_val2014_000000050965.jpg\" ></img></td><td><img width=300 src=\"train2014/COCO_train2014_000000345357.jpg\" ></img></td><td><img width=300 src=\"train2014/COCO_train2014_000000021945.jpg\" ></img></td></tr><tr><td><b>0.0000</b></td><td><b>0.0002</b></td><td><b>0.0002</b></td><td><b>0.0000</b></td><td><b>0.0002</b></td></tr><tr><td><img width=300 src=\"train2014/COCO_train2014_000000568840.jpg\" ></img></td><td><img width=300 src=\"train2014/COCO_train2014_000000259371.jpg\" ></img></td><td><img width=300 src=\"train2014/COCO_train2014_000000088034.jpg\" ></img></td><td><img width=300 src=\"train2014/COCO_train2014_000000380797.jpg\" ></img></td><td><img width=300 src=\"train2014/COCO_train2014_000000381025.jpg\" ></img></td></tr><tr><td><b>0.1218</b></td><td><b>0.0455</b></td><td><b>0.1186</b></td><td><b>0.0039</b></td><td><b>0.1686</b></td></tr><tr><td><img width=300 src=\"train2014/COCO_train2014_000000259886.jpg\" ></img></td><td><img width=300 src=\"train2014/COCO_train2014_000000026576.jpg\" ></img></td><td><img width=300 src=\"train2014/COCO_train2014_000000509626.jpg\" ></img></td><td><img width=300 src=\"train2014/COCO_train2014_000000421102.jpg\" ></img></td><td><img width=300 src=\"train2014/COCO_train2014_000000207751.jpg\" ></img></td></tr><tr><td><b>0.0208</b></td><td><b>0.3190</b></td><td><b>0.1159</b></td><td><b>0.0842</b></td><td><b>0.0008</b></td></tr></table>"
      ],
      "text/plain": [
       "<IPython.core.display.HTML object>"
      ]
     },
     "metadata": {},
     "output_type": "display_data"
    },
    {
     "name": "stdout",
     "output_type": "stream",
     "text": [
      "\n"
     ]
    },
    {
     "data": {
      "text/html": [
       "<table><tr><td><img width=300 src=\"val2014/COCO_val2014_000000268556.jpg\" ></img></td><td><img width=300 src=\"val2014/COCO_val2014_000000268556.jpg\" ></img></td></tr><tr><td><b>normal</b></td><td><b>contrastive</b></td></tr><tr><td><ol><li>a woman riding a motorcycle down a street</li><li>a woman riding on the back of a motorcycle</li><li>a woman riding a motorcycle down the street</li><li>a person riding a motorcycle down a street</li><li>a woman riding a motorcycle on a city street</li></ol></td><td><ol><li>a woman riding a motorcycle down a street</li><li>a woman riding on the back of a motorcycle</li><li>a woman riding a motorcycle down the street</li><li>a person riding a motorcycle down a street</li><li>a woman riding a motorcycle on a city street</li></ol></td></tr></table>"
      ],
      "text/plain": [
       "<IPython.core.display.HTML object>"
      ]
     },
     "metadata": {},
     "output_type": "display_data"
    },
    {
     "data": {
      "text/html": [
       "<table><tr><td><img width=300 src=\"val2014/COCO_val2014_000000268556.jpg\" ></img></td><td><img width=300 src=\"train2014/COCO_train2014_000000543541.jpg\" ></img></td></tr></table>"
      ],
      "text/plain": [
       "<IPython.core.display.HTML object>"
      ]
     },
     "metadata": {},
     "output_type": "display_data"
    },
    {
     "data": {
      "text/html": [
       "<table><tr><td><img width=300 src=\"val2014/COCO_val2014_000000045110.jpg\" ></img></td><td><img width=300 src=\"train2014/COCO_train2014_000000482252.jpg\" ></img></td><td><img width=300 src=\"train2014/COCO_train2014_000000540840.jpg\" ></img></td><td><img width=300 src=\"train2014/COCO_train2014_000000174354.jpg\" ></img></td><td><img width=300 src=\"train2014/COCO_train2014_000000255604.jpg\" ></img></td></tr><tr><td><b>0.0001</b></td><td><b>0.0001</b></td><td><b>0.0000</b></td><td><b>0.0003</b></td><td><b>0.0000</b></td></tr><tr><td><img width=300 src=\"val2014/COCO_val2014_000000007325.jpg\" ></img></td><td><img width=300 src=\"val2014/COCO_val2014_000000340778.jpg\" ></img></td><td><img width=300 src=\"val2014/COCO_val2014_000000175831.jpg\" ></img></td><td><img width=300 src=\"train2014/COCO_train2014_000000366430.jpg\" ></img></td><td><img width=300 src=\"train2014/COCO_train2014_000000148727.jpg\" ></img></td></tr><tr><td><b>0.0001</b></td><td><b>0.0000</b></td><td><b>0.0000</b></td><td><b>0.0000</b></td><td><b>0.0000</b></td></tr><tr><td><img width=300 src=\"train2014/COCO_train2014_000000178319.jpg\" ></img></td><td><img width=300 src=\"train2014/COCO_train2014_000000166764.jpg\" ></img></td><td><img width=300 src=\"train2014/COCO_train2014_000000543541.jpg\" ></img></td><td><img width=300 src=\"train2014/COCO_train2014_000000363942.jpg\" ></img></td><td><img width=300 src=\"val2014/COCO_val2014_000000154173.jpg\" ></img></td></tr><tr><td><b>0.0090</b></td><td><b>0.0051</b></td><td><b>0.2298</b></td><td><b>0.1109</b></td><td><b>0.2185</b></td></tr><tr><td><img width=300 src=\"train2014/COCO_train2014_000000339020.jpg\" ></img></td><td><img width=300 src=\"val2014/COCO_val2014_000000116068.jpg\" ></img></td><td><img width=300 src=\"train2014/COCO_train2014_000000137386.jpg\" ></img></td><td><img width=300 src=\"val2014/COCO_val2014_000000174402.jpg\" ></img></td><td><img width=300 src=\"val2014/COCO_val2014_000000445295.jpg\" ></img></td></tr><tr><td><b>0.1425</b></td><td><b>0.0007</b></td><td><b>0.1846</b></td><td><b>0.0260</b></td><td><b>0.0721</b></td></tr></table>"
      ],
      "text/plain": [
       "<IPython.core.display.HTML object>"
      ]
     },
     "metadata": {},
     "output_type": "display_data"
    },
    {
     "name": "stdout",
     "output_type": "stream",
     "text": [
      "\n"
     ]
    },
    {
     "data": {
      "text/html": [
       "<table><tr><td><img width=300 src=\"val2014/COCO_val2014_000000386912.jpg\" ></img></td><td><img width=300 src=\"val2014/COCO_val2014_000000386912.jpg\" ></img></td></tr><tr><td><b>normal</b></td><td><b>contrastive</b></td></tr><tr><td><ol><li>a woman sitting at a desk with a laptop</li><li>a woman sitting at a desk with a computer</li><li>a woman sitting at a desk in front of a computer</li><li>a woman is sitting at a desk with a computer</li><li>a woman sitting at a desk in front of a desk</li></ol></td><td><ol><li>a woman sitting at a desk with a laptop</li><li>a woman sitting at a desk with a computer</li><li>a woman sitting at a desk in front of a computer</li><li>a woman is sitting at a desk with a computer</li><li>a woman sitting at a desk in front of a desk</li></ol></td></tr></table>"
      ],
      "text/plain": [
       "<IPython.core.display.HTML object>"
      ]
     },
     "metadata": {},
     "output_type": "display_data"
    },
    {
     "data": {
      "text/html": [
       "<table><tr><td><img width=300 src=\"val2014/COCO_val2014_000000386912.jpg\" ></img></td><td><img width=300 src=\"val2014/COCO_val2014_000000001761.jpg\" ></img></td></tr></table>"
      ],
      "text/plain": [
       "<IPython.core.display.HTML object>"
      ]
     },
     "metadata": {},
     "output_type": "display_data"
    },
    {
     "data": {
      "text/html": [
       "<table><tr><td><img width=300 src=\"train2014/COCO_train2014_000000272647.jpg\" ></img></td><td><img width=300 src=\"train2014/COCO_train2014_000000336839.jpg\" ></img></td><td><img width=300 src=\"train2014/COCO_train2014_000000275997.jpg\" ></img></td><td><img width=300 src=\"val2014/COCO_val2014_000000121586.jpg\" ></img></td><td><img width=300 src=\"train2014/COCO_train2014_000000563391.jpg\" ></img></td></tr><tr><td><b>0.0186</b></td><td><b>0.0153</b></td><td><b>0.0164</b></td><td><b>0.0173</b></td><td><b>0.0176</b></td></tr><tr><td><img width=300 src=\"train2014/COCO_train2014_000000096723.jpg\" ></img></td><td><img width=300 src=\"train2014/COCO_train2014_000000136185.jpg\" ></img></td><td><img width=300 src=\"train2014/COCO_train2014_000000003685.jpg\" ></img></td><td><img width=300 src=\"train2014/COCO_train2014_000000031587.jpg\" ></img></td><td><img width=300 src=\"train2014/COCO_train2014_000000497010.jpg\" ></img></td></tr><tr><td><b>0.0112</b></td><td><b>0.0159</b></td><td><b>0.0127</b></td><td><b>0.0231</b></td><td><b>0.0182</b></td></tr><tr><td><img width=300 src=\"val2014/COCO_val2014_000000182611.jpg\" ></img></td><td><img width=300 src=\"val2014/COCO_val2014_000000001761.jpg\" ></img></td><td><img width=300 src=\"train2014/COCO_train2014_000000256341.jpg\" ></img></td><td><img width=300 src=\"train2014/COCO_train2014_000000007592.jpg\" ></img></td><td><img width=300 src=\"train2014/COCO_train2014_000000372714.jpg\" ></img></td></tr><tr><td><b>0.0125</b></td><td><b>0.1671</b></td><td><b>0.0913</b></td><td><b>0.1616</b></td><td><b>0.0309</b></td></tr><tr><td><img width=300 src=\"train2014/COCO_train2014_000000437756.jpg\" ></img></td><td><img width=300 src=\"val2014/COCO_val2014_000000177842.jpg\" ></img></td><td><img width=300 src=\"train2014/COCO_train2014_000000281631.jpg\" ></img></td><td><img width=300 src=\"val2014/COCO_val2014_000000035899.jpg\" ></img></td><td><img width=300 src=\"train2014/COCO_train2014_000000576799.jpg\" ></img></td></tr><tr><td><b>0.0157</b></td><td><b>0.0483</b></td><td><b>0.1595</b></td><td><b>0.1248</b></td><td><b>0.0220</b></td></tr></table>"
      ],
      "text/plain": [
       "<IPython.core.display.HTML object>"
      ]
     },
     "metadata": {},
     "output_type": "display_data"
    },
    {
     "name": "stdout",
     "output_type": "stream",
     "text": [
      "\n"
     ]
    },
    {
     "data": {
      "text/html": [
       "<table><tr><td><img width=300 src=\"val2014/COCO_val2014_000000074331.jpg\" ></img></td><td><img width=300 src=\"val2014/COCO_val2014_000000074331.jpg\" ></img></td></tr><tr><td><b>normal</b></td><td><b>contrastive</b></td></tr><tr><td><ol><li>a close up of a basket of bananas</li><li>a close up of a bunch of bananas</li><li>a close up of a bag of bananas</li><li>a close up of a bunch of bananas in a basket</li><li>a close up of a bunch of bananas in a bin</li></ol></td><td><ol><li>a close up of a basket of bananas</li><li>a close up of a bunch of bananas</li><li>a close up of a bag of bananas</li><li>a close up of a bunch of bananas in a basket</li><li>a close up of a bunch of bananas in a bin</li></ol></td></tr></table>"
      ],
      "text/plain": [
       "<IPython.core.display.HTML object>"
      ]
     },
     "metadata": {},
     "output_type": "display_data"
    },
    {
     "data": {
      "text/html": [
       "<table><tr><td><img width=300 src=\"val2014/COCO_val2014_000000074331.jpg\" ></img></td><td><img width=300 src=\"train2014/COCO_train2014_000000093357.jpg\" ></img></td></tr></table>"
      ],
      "text/plain": [
       "<IPython.core.display.HTML object>"
      ]
     },
     "metadata": {},
     "output_type": "display_data"
    },
    {
     "data": {
      "text/html": [
       "<table><tr><td><img width=300 src=\"train2014/COCO_train2014_000000537862.jpg\" ></img></td><td><img width=300 src=\"train2014/COCO_train2014_000000110886.jpg\" ></img></td><td><img width=300 src=\"train2014/COCO_train2014_000000436354.jpg\" ></img></td><td><img width=300 src=\"train2014/COCO_train2014_000000259297.jpg\" ></img></td><td><img width=300 src=\"train2014/COCO_train2014_000000544687.jpg\" ></img></td></tr><tr><td><b>0.0091</b></td><td><b>0.0097</b></td><td><b>0.0089</b></td><td><b>0.0083</b></td><td><b>0.0083</b></td></tr><tr><td><img width=300 src=\"train2014/COCO_train2014_000000514902.jpg\" ></img></td><td><img width=300 src=\"val2014/COCO_val2014_000000504541.jpg\" ></img></td><td><img width=300 src=\"train2014/COCO_train2014_000000332891.jpg\" ></img></td><td><img width=300 src=\"val2014/COCO_val2014_000000114504.jpg\" ></img></td><td><img width=300 src=\"train2014/COCO_train2014_000000364748.jpg\" ></img></td></tr><tr><td><b>0.0083</b></td><td><b>0.0083</b></td><td><b>0.0101</b></td><td><b>0.0303</b></td><td><b>0.0086</b></td></tr><tr><td><img width=300 src=\"train2014/COCO_train2014_000000084512.jpg\" ></img></td><td><img width=300 src=\"train2014/COCO_train2014_000000235269.jpg\" ></img></td><td><img width=300 src=\"train2014/COCO_train2014_000000258772.jpg\" ></img></td><td><img width=300 src=\"val2014/COCO_val2014_000000382030.jpg\" ></img></td><td><img width=300 src=\"train2014/COCO_train2014_000000093357.jpg\" ></img></td></tr><tr><td><b>0.0101</b></td><td><b>0.1199</b></td><td><b>0.1325</b></td><td><b>0.0126</b></td><td><b>0.1795</b></td></tr><tr><td><img width=300 src=\"val2014/COCO_val2014_000000423617.jpg\" ></img></td><td><img width=300 src=\"train2014/COCO_train2014_000000485840.jpg\" ></img></td><td><img width=300 src=\"train2014/COCO_train2014_000000269235.jpg\" ></img></td><td><img width=300 src=\"train2014/COCO_train2014_000000294933.jpg\" ></img></td><td><img width=300 src=\"val2014/COCO_val2014_000000092014.jpg\" ></img></td></tr><tr><td><b>0.0765</b></td><td><b>0.0557</b></td><td><b>0.1598</b></td><td><b>0.1296</b></td><td><b>0.0137</b></td></tr></table>"
      ],
      "text/plain": [
       "<IPython.core.display.HTML object>"
      ]
     },
     "metadata": {},
     "output_type": "display_data"
    },
    {
     "name": "stdout",
     "output_type": "stream",
     "text": [
      "\n"
     ]
    },
    {
     "data": {
      "text/html": [
       "<table><tr><td><img width=300 src=\"val2014/COCO_val2014_000000078371.jpg\" ></img></td><td><img width=300 src=\"val2014/COCO_val2014_000000078371.jpg\" ></img></td></tr><tr><td><b>normal</b></td><td><b>contrastive</b></td></tr><tr><td><ol><li>a fighter jet sitting on top of a runway</li><li>a fighter jet sitting on top of an airport runway</li><li>a fighter jet sitting on top of an airport tarmac</li><li>a fighter jet sitting on top of a tarmac</li><li>a fighter jet is sitting on the runway</li></ol></td><td><ol><li>a fighter jet sitting on top of a runway</li><li>a fighter jet sitting on top of an airport runway</li><li>a fighter jet sitting on top of an airport tarmac</li><li>a fighter jet sitting on top of a tarmac</li><li>a fighter jet is sitting on the runway</li></ol></td></tr></table>"
      ],
      "text/plain": [
       "<IPython.core.display.HTML object>"
      ]
     },
     "metadata": {},
     "output_type": "display_data"
    },
    {
     "data": {
      "text/html": [
       "<table><tr><td><img width=300 src=\"val2014/COCO_val2014_000000078371.jpg\" ></img></td><td><img width=300 src=\"train2014/COCO_train2014_000000209794.jpg\" ></img></td></tr></table>"
      ],
      "text/plain": [
       "<IPython.core.display.HTML object>"
      ]
     },
     "metadata": {},
     "output_type": "display_data"
    },
    {
     "data": {
      "text/html": [
       "<table><tr><td><img width=300 src=\"train2014/COCO_train2014_000000427803.jpg\" ></img></td><td><img width=300 src=\"val2014/COCO_val2014_000000437370.jpg\" ></img></td><td><img width=300 src=\"val2014/COCO_val2014_000000024790.jpg\" ></img></td><td><img width=300 src=\"train2014/COCO_train2014_000000050294.jpg\" ></img></td><td><img width=300 src=\"train2014/COCO_train2014_000000101626.jpg\" ></img></td></tr><tr><td><b>0.0001</b></td><td><b>0.0002</b></td><td><b>0.0005</b></td><td><b>0.0003</b></td><td><b>0.0001</b></td></tr><tr><td><img width=300 src=\"val2014/COCO_val2014_000000395849.jpg\" ></img></td><td><img width=300 src=\"val2014/COCO_val2014_000000109045.jpg\" ></img></td><td><img width=300 src=\"val2014/COCO_val2014_000000515043.jpg\" ></img></td><td><img width=300 src=\"train2014/COCO_train2014_000000250920.jpg\" ></img></td><td><img width=300 src=\"train2014/COCO_train2014_000000255728.jpg\" ></img></td></tr><tr><td><b>0.0000</b></td><td><b>0.0003</b></td><td><b>0.0000</b></td><td><b>0.0020</b></td><td><b>0.0000</b></td></tr><tr><td><img width=300 src=\"train2014/COCO_train2014_000000510977.jpg\" ></img></td><td><img width=300 src=\"train2014/COCO_train2014_000000468284.jpg\" ></img></td><td><img width=300 src=\"val2014/COCO_val2014_000000478175.jpg\" ></img></td><td><img width=300 src=\"val2014/COCO_val2014_000000441862.jpg\" ></img></td><td><img width=300 src=\"val2014/COCO_val2014_000000203215.jpg\" ></img></td></tr><tr><td><b>0.1594</b></td><td><b>0.1530</b></td><td><b>0.0555</b></td><td><b>0.1467</b></td><td><b>0.0678</b></td></tr><tr><td><img width=300 src=\"train2014/COCO_train2014_000000009696.jpg\" ></img></td><td><img width=300 src=\"train2014/COCO_train2014_000000144522.jpg\" ></img></td><td><img width=300 src=\"train2014/COCO_train2014_000000209794.jpg\" ></img></td><td><img width=300 src=\"train2014/COCO_train2014_000000268643.jpg\" ></img></td><td><img width=300 src=\"val2014/COCO_val2014_000000420878.jpg\" ></img></td></tr><tr><td><b>0.1446</b></td><td><b>0.0000</b></td><td><b>0.1974</b></td><td><b>0.0033</b></td><td><b>0.0687</b></td></tr></table>"
      ],
      "text/plain": [
       "<IPython.core.display.HTML object>"
      ]
     },
     "metadata": {},
     "output_type": "display_data"
    },
    {
     "name": "stdout",
     "output_type": "stream",
     "text": [
      "\n"
     ]
    },
    {
     "data": {
      "text/html": [
       "<table><tr><td><img width=300 src=\"val2014/COCO_val2014_000000052759.jpg\" ></img></td><td><img width=300 src=\"val2014/COCO_val2014_000000052759.jpg\" ></img></td></tr><tr><td><b>normal</b></td><td><b>contrastive</b></td></tr><tr><td><ol><li>a large jetliner sitting on top of an airport tarmac</li><li>a large jetliner sitting on top of an airport runway</li><li>a large jetliner sitting on top of a tarmac</li><li>a group of airplanes parked on the tarmac</li><li>a large jetliner sitting on top of a runway</li></ol></td><td><ol><li>a group of airplanes parked on the tarmac</li><li>a group of airplanes parked on a runway</li><li>a group of planes parked on the tarmac</li><li>a group of planes parked on a runway</li><li>a group of airplanes are parked on the tarmac</li></ol></td></tr></table>"
      ],
      "text/plain": [
       "<IPython.core.display.HTML object>"
      ]
     },
     "metadata": {},
     "output_type": "display_data"
    },
    {
     "data": {
      "text/html": [
       "<table><tr><td><img width=300 src=\"val2014/COCO_val2014_000000052759.jpg\" ></img></td><td><img width=300 src=\"train2014/COCO_train2014_000000110540.jpg\" ></img></td></tr></table>"
      ],
      "text/plain": [
       "<IPython.core.display.HTML object>"
      ]
     },
     "metadata": {},
     "output_type": "display_data"
    },
    {
     "data": {
      "text/html": [
       "<table><tr><td><img width=300 src=\"train2014/COCO_train2014_000000518305.jpg\" ></img></td><td><img width=300 src=\"val2014/COCO_val2014_000000289173.jpg\" ></img></td><td><img width=300 src=\"train2014/COCO_train2014_000000581797.jpg\" ></img></td><td><img width=300 src=\"train2014/COCO_train2014_000000387161.jpg\" ></img></td><td><img width=300 src=\"val2014/COCO_val2014_000000513681.jpg\" ></img></td></tr><tr><td><b>0.0000</b></td><td><b>0.0001</b></td><td><b>0.0000</b></td><td><b>0.0000</b></td><td><b>0.0000</b></td></tr><tr><td><img width=300 src=\"train2014/COCO_train2014_000000322350.jpg\" ></img></td><td><img width=300 src=\"train2014/COCO_train2014_000000421314.jpg\" ></img></td><td><img width=300 src=\"train2014/COCO_train2014_000000190338.jpg\" ></img></td><td><img width=300 src=\"train2014/COCO_train2014_000000538285.jpg\" ></img></td><td><img width=300 src=\"train2014/COCO_train2014_000000252132.jpg\" ></img></td></tr><tr><td><b>0.0000</b></td><td><b>0.0000</b></td><td><b>0.0000</b></td><td><b>0.0000</b></td><td><b>0.0000</b></td></tr><tr><td><img width=300 src=\"train2014/COCO_train2014_000000514426.jpg\" ></img></td><td><img width=300 src=\"train2014/COCO_train2014_000000467902.jpg\" ></img></td><td><img width=300 src=\"val2014/COCO_val2014_000000191342.jpg\" ></img></td><td><img width=300 src=\"train2014/COCO_train2014_000000190942.jpg\" ></img></td><td><img width=300 src=\"train2014/COCO_train2014_000000355345.jpg\" ></img></td></tr><tr><td><b>0.0000</b></td><td><b>0.0125</b></td><td><b>0.1330</b></td><td><b>0.1688</b></td><td><b>0.0001</b></td></tr><tr><td><img width=300 src=\"train2014/COCO_train2014_000000110540.jpg\" ></img></td><td><img width=300 src=\"train2014/COCO_train2014_000000143420.jpg\" ></img></td><td><img width=300 src=\"train2014/COCO_train2014_000000542316.jpg\" ></img></td><td><img width=300 src=\"train2014/COCO_train2014_000000358828.jpg\" ></img></td><td><img width=300 src=\"train2014/COCO_train2014_000000493578.jpg\" ></img></td></tr><tr><td><b>0.1982</b></td><td><b>0.1097</b></td><td><b>0.1916</b></td><td><b>0.1721</b></td><td><b>0.0139</b></td></tr></table>"
      ],
      "text/plain": [
       "<IPython.core.display.HTML object>"
      ]
     },
     "metadata": {},
     "output_type": "display_data"
    },
    {
     "name": "stdout",
     "output_type": "stream",
     "text": [
      "\n"
     ]
    },
    {
     "data": {
      "text/html": [
       "<table><tr><td><img width=300 src=\"val2014/COCO_val2014_000000128939.jpg\" ></img></td><td><img width=300 src=\"val2014/COCO_val2014_000000128939.jpg\" ></img></td></tr><tr><td><b>normal</b></td><td><b>contrastive</b></td></tr><tr><td><ol><li>a car is parked on the side of the road</li><li>a car parked on the side of the road</li><li>a car is parked on the side of the street</li><li>a car parked on the side of a street</li><li>a car parked on the side of the road with a traffic light</li></ol></td><td><ol><li>a car is parked on the side of the road</li><li>a car parked on the side of the road</li><li>a car is parked on the side of the street</li><li>a car parked on the side of a street</li><li>a car parked on the side of the road with a traffic light</li></ol></td></tr></table>"
      ],
      "text/plain": [
       "<IPython.core.display.HTML object>"
      ]
     },
     "metadata": {},
     "output_type": "display_data"
    },
    {
     "data": {
      "text/html": [
       "<table><tr><td><img width=300 src=\"val2014/COCO_val2014_000000128939.jpg\" ></img></td><td><img width=300 src=\"val2014/COCO_val2014_000000116461.jpg\" ></img></td></tr></table>"
      ],
      "text/plain": [
       "<IPython.core.display.HTML object>"
      ]
     },
     "metadata": {},
     "output_type": "display_data"
    },
    {
     "data": {
      "text/html": [
       "<table><tr><td><img width=300 src=\"val2014/COCO_val2014_000000267224.jpg\" ></img></td><td><img width=300 src=\"train2014/COCO_train2014_000000326320.jpg\" ></img></td><td><img width=300 src=\"train2014/COCO_train2014_000000296489.jpg\" ></img></td><td><img width=300 src=\"train2014/COCO_train2014_000000494574.jpg\" ></img></td><td><img width=300 src=\"train2014/COCO_train2014_000000435929.jpg\" ></img></td></tr><tr><td><b>0.0051</b></td><td><b>0.0036</b></td><td><b>0.0007</b></td><td><b>0.0005</b></td><td><b>0.0001</b></td></tr><tr><td><img width=300 src=\"train2014/COCO_train2014_000000323489.jpg\" ></img></td><td><img width=300 src=\"train2014/COCO_train2014_000000178181.jpg\" ></img></td><td><img width=300 src=\"train2014/COCO_train2014_000000417607.jpg\" ></img></td><td><img width=300 src=\"val2014/COCO_val2014_000000263594.jpg\" ></img></td><td><img width=300 src=\"val2014/COCO_val2014_000000201859.jpg\" ></img></td></tr><tr><td><b>0.0001</b></td><td><b>0.0003</b></td><td><b>0.0001</b></td><td><b>0.0001</b></td><td><b>0.0000</b></td></tr><tr><td><img width=300 src=\"val2014/COCO_val2014_000000116461.jpg\" ></img></td><td><img width=300 src=\"train2014/COCO_train2014_000000372199.jpg\" ></img></td><td><img width=300 src=\"train2014/COCO_train2014_000000031434.jpg\" ></img></td><td><img width=300 src=\"train2014/COCO_train2014_000000007228.jpg\" ></img></td><td><img width=300 src=\"train2014/COCO_train2014_000000280666.jpg\" ></img></td></tr><tr><td><b>0.2172</b></td><td><b>0.0446</b></td><td><b>0.0632</b></td><td><b>0.0001</b></td><td><b>0.0419</b></td></tr><tr><td><img width=300 src=\"train2014/COCO_train2014_000000436295.jpg\" ></img></td><td><img width=300 src=\"train2014/COCO_train2014_000000345562.jpg\" ></img></td><td><img width=300 src=\"val2014/COCO_val2014_000000289415.jpg\" ></img></td><td><img width=300 src=\"val2014/COCO_val2014_000000042551.jpg\" ></img></td><td><img width=300 src=\"val2014/COCO_val2014_000000401682.jpg\" ></img></td></tr><tr><td><b>0.1488</b></td><td><b>0.0820</b></td><td><b>0.1472</b></td><td><b>0.1223</b></td><td><b>0.1223</b></td></tr></table>"
      ],
      "text/plain": [
       "<IPython.core.display.HTML object>"
      ]
     },
     "metadata": {},
     "output_type": "display_data"
    },
    {
     "name": "stdout",
     "output_type": "stream",
     "text": [
      "\n"
     ]
    },
    {
     "data": {
      "text/html": [
       "<table><tr><td><img width=300 src=\"val2014/COCO_val2014_000000339974.jpg\" ></img></td><td><img width=300 src=\"val2014/COCO_val2014_000000339974.jpg\" ></img></td></tr><tr><td><b>normal</b></td><td><b>contrastive</b></td></tr><tr><td><ol><li>a couple of traffic lights on a pole</li><li>a traffic light sitting on the side of a road</li><li>a traffic light sitting on the side of a street</li><li>a couple of traffic lights on a street</li><li>a couple of traffic lights sitting on top of a pole</li></ol></td><td><ol><li>a traffic light sitting on the side of a road</li><li>a traffic light sitting on the side of a street</li><li>a traffic light sitting next to a traffic light</li><li>a traffic light sitting next to a street</li><li>a traffic light sitting next to a street sign</li></ol></td></tr></table>"
      ],
      "text/plain": [
       "<IPython.core.display.HTML object>"
      ]
     },
     "metadata": {},
     "output_type": "display_data"
    },
    {
     "data": {
      "text/html": [
       "<table><tr><td><img width=300 src=\"val2014/COCO_val2014_000000339974.jpg\" ></img></td><td><img width=300 src=\"train2014/COCO_train2014_000000112409.jpg\" ></img></td></tr></table>"
      ],
      "text/plain": [
       "<IPython.core.display.HTML object>"
      ]
     },
     "metadata": {},
     "output_type": "display_data"
    },
    {
     "data": {
      "text/html": [
       "<table><tr><td><img width=300 src=\"train2014/COCO_train2014_000000108536.jpg\" ></img></td><td><img width=300 src=\"train2014/COCO_train2014_000000473741.jpg\" ></img></td><td><img width=300 src=\"train2014/COCO_train2014_000000157029.jpg\" ></img></td><td><img width=300 src=\"train2014/COCO_train2014_000000138807.jpg\" ></img></td><td><img width=300 src=\"val2014/COCO_val2014_000000518574.jpg\" ></img></td></tr><tr><td><b>0.0000</b></td><td><b>0.0000</b></td><td><b>0.0000</b></td><td><b>0.0000</b></td><td><b>0.0000</b></td></tr><tr><td><img width=300 src=\"val2014/COCO_val2014_000000168234.jpg\" ></img></td><td><img width=300 src=\"train2014/COCO_train2014_000000061945.jpg\" ></img></td><td><img width=300 src=\"train2014/COCO_train2014_000000301769.jpg\" ></img></td><td><img width=300 src=\"train2014/COCO_train2014_000000132621.jpg\" ></img></td><td><img width=300 src=\"val2014/COCO_val2014_000000513646.jpg\" ></img></td></tr><tr><td><b>0.0000</b></td><td><b>0.0000</b></td><td><b>0.0000</b></td><td><b>0.0000</b></td><td><b>0.0001</b></td></tr><tr><td><img width=300 src=\"train2014/COCO_train2014_000000437806.jpg\" ></img></td><td><img width=300 src=\"train2014/COCO_train2014_000000242827.jpg\" ></img></td><td><img width=300 src=\"train2014/COCO_train2014_000000112409.jpg\" ></img></td><td><img width=300 src=\"train2014/COCO_train2014_000000027008.jpg\" ></img></td><td><img width=300 src=\"train2014/COCO_train2014_000000384034.jpg\" ></img></td></tr><tr><td><b>0.0045</b></td><td><b>0.1784</b></td><td><b>0.2399</b></td><td><b>0.0000</b></td><td><b>0.1401</b></td></tr><tr><td><img width=300 src=\"train2014/COCO_train2014_000000357543.jpg\" ></img></td><td><img width=300 src=\"train2014/COCO_train2014_000000053900.jpg\" ></img></td><td><img width=300 src=\"val2014/COCO_val2014_000000291861.jpg\" ></img></td><td><img width=300 src=\"train2014/COCO_train2014_000000330054.jpg\" ></img></td><td><img width=300 src=\"train2014/COCO_train2014_000000318506.jpg\" ></img></td></tr><tr><td><b>0.2305</b></td><td><b>0.0000</b></td><td><b>0.1365</b></td><td><b>0.0694</b></td><td><b>0.0006</b></td></tr></table>"
      ],
      "text/plain": [
       "<IPython.core.display.HTML object>"
      ]
     },
     "metadata": {},
     "output_type": "display_data"
    },
    {
     "name": "stdout",
     "output_type": "stream",
     "text": [
      "\n"
     ]
    }
   ],
   "source": [
    "# display_em_model(batch, k=20, neighbor_types=['random', 'closest'], choose_distractor=True)\n",
    "display_em_model(next(loader.iters['val']), k=10, neighbor_types=['closest', 'random'], choose_distractor=True)"
   ]
  },
  {
   "cell_type": "code",
   "execution_count": 39,
   "metadata": {
    "scrolled": false
   },
   "outputs": [
    {
     "data": {
      "text/html": [
       "<table><tr><td><img width=300 src=\"val2014/COCO_val2014_000000009426.jpg\" ></img></td><td><img width=300 src=\"val2014/COCO_val2014_000000009426.jpg\" ></img></td></tr><tr><td><b>normal</b></td><td><b>contrastive</b></td></tr><tr><td><ol><li>a red and white biplane flying through a blue sky</li><li>a red and white airplane flying through a blue sky</li><li>a red and white plane flying through a blue sky</li><li>a red and white biplane flying through the air</li><li>a red and white airplane flying through the air</li></ol></td><td><ol><li>a red and white biplane flying through a blue sky</li><li>a red and white airplane flying through a blue sky</li><li>a red and white plane flying through a blue sky</li><li>a red and white biplane flying through the air</li><li>a red and white airplane flying through the air</li></ol></td></tr></table>"
      ],
      "text/plain": [
       "<IPython.core.display.HTML object>"
      ]
     },
     "metadata": {},
     "output_type": "display_data"
    },
    {
     "data": {
      "text/html": [
       "<table><tr><td><img width=300 src=\"val2014/COCO_val2014_000000009426.jpg\" ></img></td><td><img width=300 src=\"train2014/COCO_train2014_000000471238.jpg\" ></img></td></tr></table>"
      ],
      "text/plain": [
       "<IPython.core.display.HTML object>"
      ]
     },
     "metadata": {},
     "output_type": "display_data"
    },
    {
     "data": {
      "text/html": [
       "<table><tr><td><img width=300 src=\"train2014/COCO_train2014_000000512438.jpg\" ></img></td><td><img width=300 src=\"val2014/COCO_val2014_000000183500.jpg\" ></img></td><td><img width=300 src=\"train2014/COCO_train2014_000000440786.jpg\" ></img></td><td><img width=300 src=\"train2014/COCO_train2014_000000331738.jpg\" ></img></td><td><img width=300 src=\"val2014/COCO_val2014_000000295765.jpg\" ></img></td></tr><tr><td><b>0.0000</b></td><td><b>0.0000</b></td><td><b>0.0000</b></td><td><b>0.0000</b></td><td><b>0.0000</b></td></tr><tr><td><img width=300 src=\"train2014/COCO_train2014_000000329097.jpg\" ></img></td><td><img width=300 src=\"val2014/COCO_val2014_000000560272.jpg\" ></img></td><td><img width=300 src=\"train2014/COCO_train2014_000000091118.jpg\" ></img></td><td><img width=300 src=\"train2014/COCO_train2014_000000321577.jpg\" ></img></td><td><img width=300 src=\"train2014/COCO_train2014_000000128752.jpg\" ></img></td></tr><tr><td><b>0.0000</b></td><td><b>0.0000</b></td><td><b>0.0001</b></td><td><b>0.0000</b></td><td><b>0.0001</b></td></tr><tr><td><img width=300 src=\"train2014/COCO_train2014_000000471238.jpg\" ></img></td><td><img width=300 src=\"train2014/COCO_train2014_000000216191.jpg\" ></img></td><td><img width=300 src=\"train2014/COCO_train2014_000000373373.jpg\" ></img></td><td><img width=300 src=\"train2014/COCO_train2014_000000510771.jpg\" ></img></td><td><img width=300 src=\"train2014/COCO_train2014_000000322827.jpg\" ></img></td></tr><tr><td><b>0.2752</b></td><td><b>0.0000</b></td><td><b>0.0003</b></td><td><b>0.0092</b></td><td><b>0.1791</b></td></tr><tr><td><img width=300 src=\"train2014/COCO_train2014_000000109591.jpg\" ></img></td><td><img width=300 src=\"val2014/COCO_val2014_000000390298.jpg\" ></img></td><td><img width=300 src=\"val2014/COCO_val2014_000000440434.jpg\" ></img></td><td><img width=300 src=\"train2014/COCO_train2014_000000502015.jpg\" ></img></td><td><img width=300 src=\"train2014/COCO_train2014_000000258770.jpg\" ></img></td></tr><tr><td><b>0.0832</b></td><td><b>0.0000</b></td><td><b>0.1496</b></td><td><b>0.1404</b></td><td><b>0.1626</b></td></tr></table>"
      ],
      "text/plain": [
       "<IPython.core.display.HTML object>"
      ]
     },
     "metadata": {},
     "output_type": "display_data"
    },
    {
     "name": "stdout",
     "output_type": "stream",
     "text": [
      "\n"
     ]
    },
    {
     "data": {
      "text/html": [
       "<table><tr><td><img width=300 src=\"val2014/COCO_val2014_000000242139.jpg\" ></img></td><td><img width=300 src=\"val2014/COCO_val2014_000000242139.jpg\" ></img></td></tr><tr><td><b>normal</b></td><td><b>contrastive</b></td></tr><tr><td><ol><li>a city street filled with lots of traffic</li><li>a busy city street filled with lots of traffic</li><li>a busy city street filled with lots of cars</li><li>a city street filled with lots of traffic and traffic</li><li>a city street filled with lots of cars and traffic</li></ol></td><td><ol><li>a city street filled with lots of traffic</li><li>a busy city street filled with lots of traffic</li><li>a busy city street filled with lots of cars</li><li>a city street filled with lots of traffic and traffic</li><li>a city street filled with lots of cars and traffic</li></ol></td></tr></table>"
      ],
      "text/plain": [
       "<IPython.core.display.HTML object>"
      ]
     },
     "metadata": {},
     "output_type": "display_data"
    },
    {
     "data": {
      "text/html": [
       "<table><tr><td><img width=300 src=\"val2014/COCO_val2014_000000242139.jpg\" ></img></td><td><img width=300 src=\"train2014/COCO_train2014_000000323717.jpg\" ></img></td></tr></table>"
      ],
      "text/plain": [
       "<IPython.core.display.HTML object>"
      ]
     },
     "metadata": {},
     "output_type": "display_data"
    },
    {
     "data": {
      "text/html": [
       "<table><tr><td><img width=300 src=\"train2014/COCO_train2014_000000533739.jpg\" ></img></td><td><img width=300 src=\"train2014/COCO_train2014_000000219750.jpg\" ></img></td><td><img width=300 src=\"val2014/COCO_val2014_000000230615.jpg\" ></img></td><td><img width=300 src=\"train2014/COCO_train2014_000000219225.jpg\" ></img></td><td><img width=300 src=\"train2014/COCO_train2014_000000263826.jpg\" ></img></td></tr><tr><td><b>0.0000</b></td><td><b>0.0000</b></td><td><b>0.0000</b></td><td><b>0.0000</b></td><td><b>0.0000</b></td></tr><tr><td><img width=300 src=\"val2014/COCO_val2014_000000553511.jpg\" ></img></td><td><img width=300 src=\"val2014/COCO_val2014_000000308388.jpg\" ></img></td><td><img width=300 src=\"train2014/COCO_train2014_000000087113.jpg\" ></img></td><td><img width=300 src=\"train2014/COCO_train2014_000000293308.jpg\" ></img></td><td><img width=300 src=\"train2014/COCO_train2014_000000258182.jpg\" ></img></td></tr><tr><td><b>0.0000</b></td><td><b>0.0000</b></td><td><b>0.0000</b></td><td><b>0.0000</b></td><td><b>0.0000</b></td></tr><tr><td><img width=300 src=\"train2014/COCO_train2014_000000285678.jpg\" ></img></td><td><img width=300 src=\"val2014/COCO_val2014_000000270852.jpg\" ></img></td><td><img width=300 src=\"val2014/COCO_val2014_000000430473.jpg\" ></img></td><td><img width=300 src=\"train2014/COCO_train2014_000000529470.jpg\" ></img></td><td><img width=300 src=\"val2014/COCO_val2014_000000185768.jpg\" ></img></td></tr><tr><td><b>0.1852</b></td><td><b>0.0052</b></td><td><b>0.0011</b></td><td><b>0.0065</b></td><td><b>0.1519</b></td></tr><tr><td><img width=300 src=\"train2014/COCO_train2014_000000093657.jpg\" ></img></td><td><img width=300 src=\"train2014/COCO_train2014_000000323717.jpg\" ></img></td><td><img width=300 src=\"train2014/COCO_train2014_000000189587.jpg\" ></img></td><td><img width=300 src=\"val2014/COCO_val2014_000000087383.jpg\" ></img></td><td><img width=300 src=\"train2014/COCO_train2014_000000426007.jpg\" ></img></td></tr><tr><td><b>0.0002</b></td><td><b>0.2368</b></td><td><b>0.1876</b></td><td><b>0.2252</b></td><td><b>0.0002</b></td></tr></table>"
      ],
      "text/plain": [
       "<IPython.core.display.HTML object>"
      ]
     },
     "metadata": {},
     "output_type": "display_data"
    },
    {
     "name": "stdout",
     "output_type": "stream",
     "text": [
      "\n"
     ]
    },
    {
     "data": {
      "text/html": [
       "<table><tr><td><img width=300 src=\"val2014/COCO_val2014_000000143931.jpg\" ></img></td><td><img width=300 src=\"val2014/COCO_val2014_000000143931.jpg\" ></img></td></tr><tr><td><b>normal</b></td><td><b>contrastive</b></td></tr><tr><td><ol><li>a bus is parked on the side of the road</li><li>a bus is parked in a parking lot</li><li>a bus is parked on the side of a road</li><li>a bus is parked on the side of the street</li><li>a bus is parked on the side of a street</li></ol></td><td><ol><li>a bus is parked on the side of the road</li><li>a bus that is parked in a parking lot</li><li>a bus is parked on the side of a road</li><li>a bus is parked on the side of the street</li><li>a bus that is parked on the side of the road</li></ol></td></tr></table>"
      ],
      "text/plain": [
       "<IPython.core.display.HTML object>"
      ]
     },
     "metadata": {},
     "output_type": "display_data"
    },
    {
     "data": {
      "text/html": [
       "<table><tr><td><img width=300 src=\"val2014/COCO_val2014_000000143931.jpg\" ></img></td><td><img width=300 src=\"val2014/COCO_val2014_000000344773.jpg\" ></img></td></tr></table>"
      ],
      "text/plain": [
       "<IPython.core.display.HTML object>"
      ]
     },
     "metadata": {},
     "output_type": "display_data"
    },
    {
     "data": {
      "text/html": [
       "<table><tr><td><img width=300 src=\"train2014/COCO_train2014_000000550874.jpg\" ></img></td><td><img width=300 src=\"train2014/COCO_train2014_000000381759.jpg\" ></img></td><td><img width=300 src=\"val2014/COCO_val2014_000000048196.jpg\" ></img></td><td><img width=300 src=\"train2014/COCO_train2014_000000382854.jpg\" ></img></td><td><img width=300 src=\"train2014/COCO_train2014_000000514801.jpg\" ></img></td></tr><tr><td><b>0.0021</b></td><td><b>0.0001</b></td><td><b>0.0017</b></td><td><b>0.0002</b></td><td><b>0.0000</b></td></tr><tr><td><img width=300 src=\"val2014/COCO_val2014_000000196759.jpg\" ></img></td><td><img width=300 src=\"train2014/COCO_train2014_000000360500.jpg\" ></img></td><td><img width=300 src=\"val2014/COCO_val2014_000000501379.jpg\" ></img></td><td><img width=300 src=\"train2014/COCO_train2014_000000366907.jpg\" ></img></td><td><img width=300 src=\"train2014/COCO_train2014_000000023066.jpg\" ></img></td></tr><tr><td><b>0.0010</b></td><td><b>0.0006</b></td><td><b>0.0031</b></td><td><b>0.0003</b></td><td><b>0.0009</b></td></tr><tr><td><img width=300 src=\"train2014/COCO_train2014_000000427389.jpg\" ></img></td><td><img width=300 src=\"train2014/COCO_train2014_000000340489.jpg\" ></img></td><td><img width=300 src=\"val2014/COCO_val2014_000000205251.jpg\" ></img></td><td><img width=300 src=\"val2014/COCO_val2014_000000344773.jpg\" ></img></td><td><img width=300 src=\"val2014/COCO_val2014_000000238332.jpg\" ></img></td></tr><tr><td><b>0.1439</b></td><td><b>0.0312</b></td><td><b>0.0068</b></td><td><b>0.4057</b></td><td><b>0.0005</b></td></tr><tr><td><img width=300 src=\"train2014/COCO_train2014_000000444037.jpg\" ></img></td><td><img width=300 src=\"train2014/COCO_train2014_000000339373.jpg\" ></img></td><td><img width=300 src=\"train2014/COCO_train2014_000000575055.jpg\" ></img></td><td><img width=300 src=\"val2014/COCO_val2014_000000547886.jpg\" ></img></td><td><img width=300 src=\"train2014/COCO_train2014_000000342812.jpg\" ></img></td></tr><tr><td><b>0.0000</b></td><td><b>0.1305</b></td><td><b>0.2668</b></td><td><b>0.0015</b></td><td><b>0.0029</b></td></tr></table>"
      ],
      "text/plain": [
       "<IPython.core.display.HTML object>"
      ]
     },
     "metadata": {},
     "output_type": "display_data"
    },
    {
     "name": "stdout",
     "output_type": "stream",
     "text": [
      "\n"
     ]
    },
    {
     "data": {
      "text/html": [
       "<table><tr><td><img width=300 src=\"val2014/COCO_val2014_000000040102.jpg\" ></img></td><td><img width=300 src=\"val2014/COCO_val2014_000000040102.jpg\" ></img></td></tr><tr><td><b>normal</b></td><td><b>contrastive</b></td></tr><tr><td><ol><li>a couple of giraffe standing next to each other</li><li>a couple of giraffe standing next to each other on a field</li><li>a couple of giraffe standing on top of a lush green field</li><li>a couple of giraffe standing on top of a grass covered field</li><li>a group of giraffes standing in a field</li></ol></td><td><ol><li>two giraffes are standing in a grassy field</li><li>a couple of giraffe standing next to each other</li><li>a couple of giraffe standing next to each other on a field</li><li>a group of giraffes standing in a field</li><li>a group of giraffes standing in a grassy field</li></ol></td></tr></table>"
      ],
      "text/plain": [
       "<IPython.core.display.HTML object>"
      ]
     },
     "metadata": {},
     "output_type": "display_data"
    },
    {
     "data": {
      "text/html": [
       "<table><tr><td><img width=300 src=\"val2014/COCO_val2014_000000040102.jpg\" ></img></td><td><img width=300 src=\"train2014/COCO_train2014_000000575133.jpg\" ></img></td></tr></table>"
      ],
      "text/plain": [
       "<IPython.core.display.HTML object>"
      ]
     },
     "metadata": {},
     "output_type": "display_data"
    },
    {
     "data": {
      "text/html": [
       "<table><tr><td><img width=300 src=\"train2014/COCO_train2014_000000238713.jpg\" ></img></td><td><img width=300 src=\"val2014/COCO_val2014_000000022257.jpg\" ></img></td><td><img width=300 src=\"train2014/COCO_train2014_000000508969.jpg\" ></img></td><td><img width=300 src=\"train2014/COCO_train2014_000000172426.jpg\" ></img></td><td><img width=300 src=\"train2014/COCO_train2014_000000257983.jpg\" ></img></td></tr><tr><td><b>0.0008</b></td><td><b>0.0007</b></td><td><b>0.0010</b></td><td><b>0.0010</b></td><td><b>0.0011</b></td></tr><tr><td><img width=300 src=\"train2014/COCO_train2014_000000094045.jpg\" ></img></td><td><img width=300 src=\"train2014/COCO_train2014_000000466790.jpg\" ></img></td><td><img width=300 src=\"train2014/COCO_train2014_000000063587.jpg\" ></img></td><td><img width=300 src=\"train2014/COCO_train2014_000000119529.jpg\" ></img></td><td><img width=300 src=\"train2014/COCO_train2014_000000021061.jpg\" ></img></td></tr><tr><td><b>0.0011</b></td><td><b>0.0008</b></td><td><b>0.0007</b></td><td><b>0.0010</b></td><td><b>0.0008</b></td></tr><tr><td><img width=300 src=\"train2014/COCO_train2014_000000212089.jpg\" ></img></td><td><img width=300 src=\"train2014/COCO_train2014_000000480115.jpg\" ></img></td><td><img width=300 src=\"val2014/COCO_val2014_000000289486.jpg\" ></img></td><td><img width=300 src=\"train2014/COCO_train2014_000000575133.jpg\" ></img></td><td><img width=300 src=\"train2014/COCO_train2014_000000444769.jpg\" ></img></td></tr><tr><td><b>0.0028</b></td><td><b>0.0444</b></td><td><b>0.0008</b></td><td><b>0.2665</b></td><td><b>0.0543</b></td></tr><tr><td><img width=300 src=\"train2014/COCO_train2014_000000358064.jpg\" ></img></td><td><img width=300 src=\"val2014/COCO_val2014_000000243912.jpg\" ></img></td><td><img width=300 src=\"val2014/COCO_val2014_000000183204.jpg\" ></img></td><td><img width=300 src=\"train2014/COCO_train2014_000000235783.jpg\" ></img></td><td><img width=300 src=\"train2014/COCO_train2014_000000329480.jpg\" ></img></td></tr><tr><td><b>0.2120</b></td><td><b>0.1379</b></td><td><b>0.2071</b></td><td><b>0.0192</b></td><td><b>0.0461</b></td></tr></table>"
      ],
      "text/plain": [
       "<IPython.core.display.HTML object>"
      ]
     },
     "metadata": {},
     "output_type": "display_data"
    },
    {
     "name": "stdout",
     "output_type": "stream",
     "text": [
      "\n"
     ]
    },
    {
     "data": {
      "text/html": [
       "<table><tr><td><img width=300 src=\"val2014/COCO_val2014_000000403020.jpg\" ></img></td><td><img width=300 src=\"val2014/COCO_val2014_000000403020.jpg\" ></img></td></tr><tr><td><b>normal</b></td><td><b>contrastive</b></td></tr><tr><td><ol><li>a giraffe laying on the ground next to a stone wall</li><li>a giraffe laying on the ground in a zoo</li><li>a giraffe laying on the ground next to a rock wall</li><li>a giraffe laying on the ground in front of a building</li><li>a giraffe laying on the ground next to a pile of rocks</li></ol></td><td><ol><li>a giraffe laying on the ground next to a stone wall</li><li>a giraffe laying on the ground in a zoo</li><li>a giraffe laying on the ground next to a rock wall</li><li>a giraffe laying on the ground in front of a building</li><li>a giraffe laying on the ground next to a pile of rocks</li></ol></td></tr></table>"
      ],
      "text/plain": [
       "<IPython.core.display.HTML object>"
      ]
     },
     "metadata": {},
     "output_type": "display_data"
    },
    {
     "data": {
      "text/html": [
       "<table><tr><td><img width=300 src=\"val2014/COCO_val2014_000000403020.jpg\" ></img></td><td><img width=300 src=\"val2014/COCO_val2014_000000548126.jpg\" ></img></td></tr></table>"
      ],
      "text/plain": [
       "<IPython.core.display.HTML object>"
      ]
     },
     "metadata": {},
     "output_type": "display_data"
    },
    {
     "data": {
      "text/html": [
       "<table><tr><td><img width=300 src=\"train2014/COCO_train2014_000000050101.jpg\" ></img></td><td><img width=300 src=\"train2014/COCO_train2014_000000334957.jpg\" ></img></td><td><img width=300 src=\"train2014/COCO_train2014_000000067572.jpg\" ></img></td><td><img width=300 src=\"train2014/COCO_train2014_000000476871.jpg\" ></img></td><td><img width=300 src=\"val2014/COCO_val2014_000000196650.jpg\" ></img></td></tr><tr><td><b>0.0025</b></td><td><b>0.0041</b></td><td><b>0.0024</b></td><td><b>0.0026</b></td><td><b>0.0032</b></td></tr><tr><td><img width=300 src=\"train2014/COCO_train2014_000000262098.jpg\" ></img></td><td><img width=300 src=\"train2014/COCO_train2014_000000517045.jpg\" ></img></td><td><img width=300 src=\"val2014/COCO_val2014_000000134160.jpg\" ></img></td><td><img width=300 src=\"train2014/COCO_train2014_000000532147.jpg\" ></img></td><td><img width=300 src=\"val2014/COCO_val2014_000000494679.jpg\" ></img></td></tr><tr><td><b>0.0028</b></td><td><b>0.0021</b></td><td><b>0.0021</b></td><td><b>0.0096</b></td><td><b>0.0026</b></td></tr><tr><td><img width=300 src=\"train2014/COCO_train2014_000000335871.jpg\" ></img></td><td><img width=300 src=\"train2014/COCO_train2014_000000165063.jpg\" ></img></td><td><img width=300 src=\"val2014/COCO_val2014_000000340329.jpg\" ></img></td><td><img width=300 src=\"train2014/COCO_train2014_000000355717.jpg\" ></img></td><td><img width=300 src=\"val2014/COCO_val2014_000000264338.jpg\" ></img></td></tr><tr><td><b>0.0217</b></td><td><b>0.0677</b></td><td><b>0.0451</b></td><td><b>0.1618</b></td><td><b>0.1797</b></td></tr><tr><td><img width=300 src=\"train2014/COCO_train2014_000000305227.jpg\" ></img></td><td><img width=300 src=\"train2014/COCO_train2014_000000416555.jpg\" ></img></td><td><img width=300 src=\"train2014/COCO_train2014_000000001947.jpg\" ></img></td><td><img width=300 src=\"val2014/COCO_val2014_000000548126.jpg\" ></img></td><td><img width=300 src=\"train2014/COCO_train2014_000000277203.jpg\" ></img></td></tr><tr><td><b>0.0259</b></td><td><b>0.0892</b></td><td><b>0.1541</b></td><td><b>0.1821</b></td><td><b>0.0385</b></td></tr></table>"
      ],
      "text/plain": [
       "<IPython.core.display.HTML object>"
      ]
     },
     "metadata": {},
     "output_type": "display_data"
    },
    {
     "name": "stdout",
     "output_type": "stream",
     "text": [
      "\n"
     ]
    },
    {
     "data": {
      "text/html": [
       "<table><tr><td><img width=300 src=\"val2014/COCO_val2014_000000505440.jpg\" ></img></td><td><img width=300 src=\"val2014/COCO_val2014_000000505440.jpg\" ></img></td></tr><tr><td><b>normal</b></td><td><b>contrastive</b></td></tr><tr><td><ol><li>a couple of giraffes are standing in a field</li><li>a couple of giraffe standing next to each other on a field</li><li>a couple of giraffes are standing in the grass</li><li>a couple of giraffe standing next to each other</li><li>a couple of giraffe standing in a field</li></ol></td><td><ol><li>two giraffes are standing in a grassy field</li><li>two giraffes are standing in a grassy area</li><li>two giraffes standing in a grassy field with trees in the background</li><li>two giraffes standing in a grassy area with trees in the background</li><li>two giraffes standing in a grassy area with trees</li></ol></td></tr></table>"
      ],
      "text/plain": [
       "<IPython.core.display.HTML object>"
      ]
     },
     "metadata": {},
     "output_type": "display_data"
    },
    {
     "data": {
      "text/html": [
       "<table><tr><td><img width=300 src=\"val2014/COCO_val2014_000000505440.jpg\" ></img></td><td><img width=300 src=\"train2014/COCO_train2014_000000173474.jpg\" ></img></td></tr></table>"
      ],
      "text/plain": [
       "<IPython.core.display.HTML object>"
      ]
     },
     "metadata": {},
     "output_type": "display_data"
    },
    {
     "data": {
      "text/html": [
       "<table><tr><td><img width=300 src=\"train2014/COCO_train2014_000000340345.jpg\" ></img></td><td><img width=300 src=\"train2014/COCO_train2014_000000359189.jpg\" ></img></td><td><img width=300 src=\"train2014/COCO_train2014_000000119529.jpg\" ></img></td><td><img width=300 src=\"train2014/COCO_train2014_000000444464.jpg\" ></img></td><td><img width=300 src=\"train2014/COCO_train2014_000000024095.jpg\" ></img></td></tr><tr><td><b>0.0008</b></td><td><b>0.0010</b></td><td><b>0.0010</b></td><td><b>0.0007</b></td><td><b>0.0008</b></td></tr><tr><td><img width=300 src=\"train2014/COCO_train2014_000000541264.jpg\" ></img></td><td><img width=300 src=\"train2014/COCO_train2014_000000506078.jpg\" ></img></td><td><img width=300 src=\"train2014/COCO_train2014_000000427129.jpg\" ></img></td><td><img width=300 src=\"train2014/COCO_train2014_000000021061.jpg\" ></img></td><td><img width=300 src=\"train2014/COCO_train2014_000000031411.jpg\" ></img></td></tr><tr><td><b>0.0005</b></td><td><b>0.0011</b></td><td><b>0.0005</b></td><td><b>0.0008</b></td><td><b>0.0011</b></td></tr><tr><td><img width=300 src=\"train2014/COCO_train2014_000000173474.jpg\" ></img></td><td><img width=300 src=\"train2014/COCO_train2014_000000150562.jpg\" ></img></td><td><img width=300 src=\"train2014/COCO_train2014_000000220062.jpg\" ></img></td><td><img width=300 src=\"train2014/COCO_train2014_000000273919.jpg\" ></img></td><td><img width=300 src=\"train2014/COCO_train2014_000000503687.jpg\" ></img></td></tr><tr><td><b>0.3689</b></td><td><b>0.0069</b></td><td><b>0.0921</b></td><td><b>0.0020</b></td><td><b>0.0245</b></td></tr><tr><td><img width=300 src=\"train2014/COCO_train2014_000000400398.jpg\" ></img></td><td><img width=300 src=\"val2014/COCO_val2014_000000271917.jpg\" ></img></td><td><img width=300 src=\"train2014/COCO_train2014_000000487139.jpg\" ></img></td><td><img width=300 src=\"train2014/COCO_train2014_000000014027.jpg\" ></img></td><td><img width=300 src=\"train2014/COCO_train2014_000000365759.jpg\" ></img></td></tr><tr><td><b>0.2038</b></td><td><b>0.1124</b></td><td><b>0.0048</b></td><td><b>0.0852</b></td><td><b>0.0911</b></td></tr></table>"
      ],
      "text/plain": [
       "<IPython.core.display.HTML object>"
      ]
     },
     "metadata": {},
     "output_type": "display_data"
    },
    {
     "name": "stdout",
     "output_type": "stream",
     "text": [
      "\n"
     ]
    },
    {
     "data": {
      "text/html": [
       "<table><tr><td><img width=300 src=\"val2014/COCO_val2014_000000029913.jpg\" ></img></td><td><img width=300 src=\"val2014/COCO_val2014_000000029913.jpg\" ></img></td></tr><tr><td><b>normal</b></td><td><b>contrastive</b></td></tr><tr><td><ol><li>a fire hydrant sitting on the side of a road</li><li>a fire hydrant sitting on the side of a street</li><li>a fire hydrant sitting on the side of the road</li><li>a fire hydrant sitting on the side of the street</li><li>a black and white fire hydrant sitting on the side of a road</li></ol></td><td><ol><li>a fire hydrant sitting on the side of a road</li><li>a fire hydrant sitting on the side of a street</li><li>a fire hydrant sitting on the side of the road</li><li>a red fire hydrant sitting on the side of a road</li><li>a black and white fire hydrant sitting on the side of a road</li></ol></td></tr></table>"
      ],
      "text/plain": [
       "<IPython.core.display.HTML object>"
      ]
     },
     "metadata": {},
     "output_type": "display_data"
    },
    {
     "data": {
      "text/html": [
       "<table><tr><td><img width=300 src=\"val2014/COCO_val2014_000000029913.jpg\" ></img></td><td><img width=300 src=\"train2014/COCO_train2014_000000525153.jpg\" ></img></td></tr></table>"
      ],
      "text/plain": [
       "<IPython.core.display.HTML object>"
      ]
     },
     "metadata": {},
     "output_type": "display_data"
    },
    {
     "data": {
      "text/html": [
       "<table><tr><td><img width=300 src=\"train2014/COCO_train2014_000000328662.jpg\" ></img></td><td><img width=300 src=\"train2014/COCO_train2014_000000490887.jpg\" ></img></td><td><img width=300 src=\"train2014/COCO_train2014_000000016805.jpg\" ></img></td><td><img width=300 src=\"train2014/COCO_train2014_000000236769.jpg\" ></img></td><td><img width=300 src=\"train2014/COCO_train2014_000000517835.jpg\" ></img></td></tr><tr><td><b>0.0000</b></td><td><b>0.0000</b></td><td><b>0.0002</b></td><td><b>0.0001</b></td><td><b>0.0001</b></td></tr><tr><td><img width=300 src=\"train2014/COCO_train2014_000000359695.jpg\" ></img></td><td><img width=300 src=\"train2014/COCO_train2014_000000373898.jpg\" ></img></td><td><img width=300 src=\"train2014/COCO_train2014_000000110616.jpg\" ></img></td><td><img width=300 src=\"train2014/COCO_train2014_000000262747.jpg\" ></img></td><td><img width=300 src=\"train2014/COCO_train2014_000000292283.jpg\" ></img></td></tr><tr><td><b>0.0000</b></td><td><b>0.0001</b></td><td><b>0.0005</b></td><td><b>0.0001</b></td><td><b>0.0000</b></td></tr><tr><td><img width=300 src=\"train2014/COCO_train2014_000000067566.jpg\" ></img></td><td><img width=300 src=\"train2014/COCO_train2014_000000065962.jpg\" ></img></td><td><img width=300 src=\"train2014/COCO_train2014_000000370816.jpg\" ></img></td><td><img width=300 src=\"train2014/COCO_train2014_000000465057.jpg\" ></img></td><td><img width=300 src=\"val2014/COCO_val2014_000000108898.jpg\" ></img></td></tr><tr><td><b>0.0070</b></td><td><b>0.0000</b></td><td><b>0.2337</b></td><td><b>0.0000</b></td><td><b>0.0970</b></td></tr><tr><td><img width=300 src=\"train2014/COCO_train2014_000000139958.jpg\" ></img></td><td><img width=300 src=\"train2014/COCO_train2014_000000021190.jpg\" ></img></td><td><img width=300 src=\"train2014/COCO_train2014_000000525153.jpg\" ></img></td><td><img width=300 src=\"train2014/COCO_train2014_000000284706.jpg\" ></img></td><td><img width=300 src=\"val2014/COCO_val2014_000000114183.jpg\" ></img></td></tr><tr><td><b>0.0829</b></td><td><b>0.1157</b></td><td><b>0.3353</b></td><td><b>0.0286</b></td><td><b>0.0988</b></td></tr></table>"
      ],
      "text/plain": [
       "<IPython.core.display.HTML object>"
      ]
     },
     "metadata": {},
     "output_type": "display_data"
    },
    {
     "name": "stdout",
     "output_type": "stream",
     "text": [
      "\n"
     ]
    },
    {
     "data": {
      "text/html": [
       "<table><tr><td><img width=300 src=\"val2014/COCO_val2014_000000431573.jpg\" ></img></td><td><img width=300 src=\"val2014/COCO_val2014_000000431573.jpg\" ></img></td></tr><tr><td><b>normal</b></td><td><b>contrastive</b></td></tr><tr><td><ol><li>a red fire hydrant sitting on the side of a road</li><li>a red fire hydrant sitting next to a tree</li><li>a red fire hydrant sitting next to a fire hydrant</li><li>a red fire hydrant sitting on the side of a street</li><li>a red fire hydrant in the middle of a park</li></ol></td><td><ol><li>a red fire hydrant sitting on the side of a road</li><li>a red fire hydrant sitting next to a tree</li><li>a red fire hydrant sitting next to a fire hydrant</li><li>a red fire hydrant sitting on the side of a street</li><li>a red fire hydrant in the middle of a park</li></ol></td></tr></table>"
      ],
      "text/plain": [
       "<IPython.core.display.HTML object>"
      ]
     },
     "metadata": {},
     "output_type": "display_data"
    },
    {
     "data": {
      "text/html": [
       "<table><tr><td><img width=300 src=\"val2014/COCO_val2014_000000431573.jpg\" ></img></td><td><img width=300 src=\"val2014/COCO_val2014_000000020650.jpg\" ></img></td></tr></table>"
      ],
      "text/plain": [
       "<IPython.core.display.HTML object>"
      ]
     },
     "metadata": {},
     "output_type": "display_data"
    },
    {
     "data": {
      "text/html": [
       "<table><tr><td><img width=300 src=\"train2014/COCO_train2014_000000430144.jpg\" ></img></td><td><img width=300 src=\"train2014/COCO_train2014_000000148318.jpg\" ></img></td><td><img width=300 src=\"val2014/COCO_val2014_000000127455.jpg\" ></img></td><td><img width=300 src=\"val2014/COCO_val2014_000000522015.jpg\" ></img></td><td><img width=300 src=\"train2014/COCO_train2014_000000536884.jpg\" ></img></td></tr><tr><td><b>0.0126</b></td><td><b>0.0182</b></td><td><b>0.0078</b></td><td><b>0.0167</b></td><td><b>0.0142</b></td></tr><tr><td><img width=300 src=\"train2014/COCO_train2014_000000068826.jpg\" ></img></td><td><img width=300 src=\"train2014/COCO_train2014_000000365648.jpg\" ></img></td><td><img width=300 src=\"train2014/COCO_train2014_000000082523.jpg\" ></img></td><td><img width=300 src=\"val2014/COCO_val2014_000000302512.jpg\" ></img></td><td><img width=300 src=\"val2014/COCO_val2014_000000515785.jpg\" ></img></td></tr><tr><td><b>0.0137</b></td><td><b>0.0021</b></td><td><b>0.0136</b></td><td><b>0.0249</b></td><td><b>0.0207</b></td></tr><tr><td><img width=300 src=\"train2014/COCO_train2014_000000515125.jpg\" ></img></td><td><img width=300 src=\"train2014/COCO_train2014_000000329118.jpg\" ></img></td><td><img width=300 src=\"val2014/COCO_val2014_000000020650.jpg\" ></img></td><td><img width=300 src=\"train2014/COCO_train2014_000000184215.jpg\" ></img></td><td><img width=300 src=\"val2014/COCO_val2014_000000460866.jpg\" ></img></td></tr><tr><td><b>0.0417</b></td><td><b>0.0167</b></td><td><b>0.3577</b></td><td><b>0.0097</b></td><td><b>0.0693</b></td></tr><tr><td><img width=300 src=\"train2014/COCO_train2014_000000428809.jpg\" ></img></td><td><img width=300 src=\"train2014/COCO_train2014_000000201517.jpg\" ></img></td><td><img width=300 src=\"train2014/COCO_train2014_000000013547.jpg\" ></img></td><td><img width=300 src=\"train2014/COCO_train2014_000000307583.jpg\" ></img></td><td><img width=300 src=\"train2014/COCO_train2014_000000234666.jpg\" ></img></td></tr><tr><td><b>0.0053</b></td><td><b>0.0301</b></td><td><b>0.2553</b></td><td><b>0.0602</b></td><td><b>0.0097</b></td></tr></table>"
      ],
      "text/plain": [
       "<IPython.core.display.HTML object>"
      ]
     },
     "metadata": {},
     "output_type": "display_data"
    },
    {
     "name": "stdout",
     "output_type": "stream",
     "text": [
      "\n"
     ]
    },
    {
     "data": {
      "text/html": [
       "<table><tr><td><img width=300 src=\"val2014/COCO_val2014_000000332654.jpg\" ></img></td><td><img width=300 src=\"val2014/COCO_val2014_000000332654.jpg\" ></img></td></tr><tr><td><b>normal</b></td><td><b>contrastive</b></td></tr><tr><td><ol><li>a yellow fire hydrant sitting on the side of a road</li><li>a yellow fire hydrant sitting on the side of a street</li><li>a yellow fire hydrant sitting next to a street</li><li>a yellow and blue fire hydrant sitting on the side of a road</li><li>a yellow fire hydrant sitting on the side of a sidewalk</li></ol></td><td><ol><li>a yellow fire hydrant sitting on the side of a road</li><li>a yellow fire hydrant sitting on the side of a street</li><li>a yellow fire hydrant sitting next to a street</li><li>a yellow and blue fire hydrant sitting on the side of a road</li><li>a yellow fire hydrant sitting on the side of a sidewalk</li></ol></td></tr></table>"
      ],
      "text/plain": [
       "<IPython.core.display.HTML object>"
      ]
     },
     "metadata": {},
     "output_type": "display_data"
    },
    {
     "data": {
      "text/html": [
       "<table><tr><td><img width=300 src=\"val2014/COCO_val2014_000000332654.jpg\" ></img></td><td><img width=300 src=\"train2014/COCO_train2014_000000459576.jpg\" ></img></td></tr></table>"
      ],
      "text/plain": [
       "<IPython.core.display.HTML object>"
      ]
     },
     "metadata": {},
     "output_type": "display_data"
    },
    {
     "data": {
      "text/html": [
       "<table><tr><td><img width=300 src=\"val2014/COCO_val2014_000000338560.jpg\" ></img></td><td><img width=300 src=\"train2014/COCO_train2014_000000532482.jpg\" ></img></td><td><img width=300 src=\"val2014/COCO_val2014_000000190664.jpg\" ></img></td><td><img width=300 src=\"train2014/COCO_train2014_000000316993.jpg\" ></img></td><td><img width=300 src=\"train2014/COCO_train2014_000000336040.jpg\" ></img></td></tr><tr><td><b>0.0000</b></td><td><b>0.0000</b></td><td><b>0.0001</b></td><td><b>0.0000</b></td><td><b>0.0000</b></td></tr><tr><td><img width=300 src=\"train2014/COCO_train2014_000000236769.jpg\" ></img></td><td><img width=300 src=\"val2014/COCO_val2014_000000091909.jpg\" ></img></td><td><img width=300 src=\"train2014/COCO_train2014_000000383158.jpg\" ></img></td><td><img width=300 src=\"val2014/COCO_val2014_000000088432.jpg\" ></img></td><td><img width=300 src=\"train2014/COCO_train2014_000000403270.jpg\" ></img></td></tr><tr><td><b>0.0001</b></td><td><b>0.0000</b></td><td><b>0.0000</b></td><td><b>0.0000</b></td><td><b>0.0000</b></td></tr><tr><td><img width=300 src=\"val2014/COCO_val2014_000000181065.jpg\" ></img></td><td><img width=300 src=\"train2014/COCO_train2014_000000576883.jpg\" ></img></td><td><img width=300 src=\"train2014/COCO_train2014_000000503416.jpg\" ></img></td><td><img width=300 src=\"train2014/COCO_train2014_000000260973.jpg\" ></img></td><td><img width=300 src=\"train2014/COCO_train2014_000000539734.jpg\" ></img></td></tr><tr><td><b>0.0172</b></td><td><b>0.0005</b></td><td><b>0.2649</b></td><td><b>0.0001</b></td><td><b>0.0774</b></td></tr><tr><td><img width=300 src=\"train2014/COCO_train2014_000000420692.jpg\" ></img></td><td><img width=300 src=\"train2014/COCO_train2014_000000459576.jpg\" ></img></td><td><img width=300 src=\"val2014/COCO_val2014_000000553320.jpg\" ></img></td><td><img width=300 src=\"train2014/COCO_train2014_000000448494.jpg\" ></img></td><td><img width=300 src=\"train2014/COCO_train2014_000000476971.jpg\" ></img></td></tr><tr><td><b>0.1071</b></td><td><b>0.2726</b></td><td><b>0.0013</b></td><td><b>0.0943</b></td><td><b>0.1642</b></td></tr></table>"
      ],
      "text/plain": [
       "<IPython.core.display.HTML object>"
      ]
     },
     "metadata": {},
     "output_type": "display_data"
    },
    {
     "name": "stdout",
     "output_type": "stream",
     "text": [
      "\n"
     ]
    },
    {
     "data": {
      "text/html": [
       "<table><tr><td><img width=300 src=\"val2014/COCO_val2014_000000176649.jpg\" ></img></td><td><img width=300 src=\"val2014/COCO_val2014_000000176649.jpg\" ></img></td></tr><tr><td><b>normal</b></td><td><b>contrastive</b></td></tr><tr><td><ol><li>a close up of a street sign on a pole</li><li>a close up of a street sign with a sky background</li><li>a close up of a street sign with a sign on it</li><li>a close up of a street sign in front of a building</li><li>a close up of a street sign with a street sign</li></ol></td><td><ol><li>a close up of a street sign on a pole</li><li>a close up of a street sign with a sky background</li><li>a close up of a street sign with a sign on it</li><li>a close up of a street sign in front of a building</li><li>a close up of a street sign with a street sign</li></ol></td></tr></table>"
      ],
      "text/plain": [
       "<IPython.core.display.HTML object>"
      ]
     },
     "metadata": {},
     "output_type": "display_data"
    },
    {
     "data": {
      "text/html": [
       "<table><tr><td><img width=300 src=\"val2014/COCO_val2014_000000176649.jpg\" ></img></td><td><img width=300 src=\"train2014/COCO_train2014_000000265356.jpg\" ></img></td></tr></table>"
      ],
      "text/plain": [
       "<IPython.core.display.HTML object>"
      ]
     },
     "metadata": {},
     "output_type": "display_data"
    },
    {
     "data": {
      "text/html": [
       "<table><tr><td><img width=300 src=\"val2014/COCO_val2014_000000136411.jpg\" ></img></td><td><img width=300 src=\"train2014/COCO_train2014_000000112207.jpg\" ></img></td><td><img width=300 src=\"train2014/COCO_train2014_000000037458.jpg\" ></img></td><td><img width=300 src=\"train2014/COCO_train2014_000000247547.jpg\" ></img></td><td><img width=300 src=\"train2014/COCO_train2014_000000389190.jpg\" ></img></td></tr><tr><td><b>0.0007</b></td><td><b>0.0005</b></td><td><b>0.0003</b></td><td><b>0.0003</b></td><td><b>0.0014</b></td></tr><tr><td><img width=300 src=\"val2014/COCO_val2014_000000325368.jpg\" ></img></td><td><img width=300 src=\"val2014/COCO_val2014_000000226128.jpg\" ></img></td><td><img width=300 src=\"train2014/COCO_train2014_000000009176.jpg\" ></img></td><td><img width=300 src=\"train2014/COCO_train2014_000000038435.jpg\" ></img></td><td><img width=300 src=\"train2014/COCO_train2014_000000071217.jpg\" ></img></td></tr><tr><td><b>0.0030</b></td><td><b>0.0005</b></td><td><b>0.0009</b></td><td><b>0.0019</b></td><td><b>0.0015</b></td></tr><tr><td><img width=300 src=\"val2014/COCO_val2014_000000275392.jpg\" ></img></td><td><img width=300 src=\"train2014/COCO_train2014_000000528147.jpg\" ></img></td><td><img width=300 src=\"train2014/COCO_train2014_000000265356.jpg\" ></img></td><td><img width=300 src=\"train2014/COCO_train2014_000000441599.jpg\" ></img></td><td><img width=300 src=\"train2014/COCO_train2014_000000208880.jpg\" ></img></td></tr><tr><td><b>0.0367</b></td><td><b>0.1394</b></td><td><b>0.2850</b></td><td><b>0.0205</b></td><td><b>0.1103</b></td></tr><tr><td><img width=300 src=\"train2014/COCO_train2014_000000430335.jpg\" ></img></td><td><img width=300 src=\"train2014/COCO_train2014_000000014928.jpg\" ></img></td><td><img width=300 src=\"train2014/COCO_train2014_000000486571.jpg\" ></img></td><td><img width=300 src=\"train2014/COCO_train2014_000000365142.jpg\" ></img></td><td><img width=300 src=\"train2014/COCO_train2014_000000123074.jpg\" ></img></td></tr><tr><td><b>0.1181</b></td><td><b>0.0438</b></td><td><b>0.0003</b></td><td><b>0.0007</b></td><td><b>0.2342</b></td></tr></table>"
      ],
      "text/plain": [
       "<IPython.core.display.HTML object>"
      ]
     },
     "metadata": {},
     "output_type": "display_data"
    },
    {
     "name": "stdout",
     "output_type": "stream",
     "text": [
      "\n"
     ]
    }
   ],
   "source": [
    "# display_em_model(batch, k=20, neighbor_types=['random', 'closest'], choose_distractor=True)\n",
    "display_em_model(next(loader.iters['val']), k=10, neighbor_types=['closest', 'random'], choose_distractor=True)"
   ]
  },
  {
   "cell_type": "code",
   "execution_count": 39,
   "metadata": {
    "scrolled": true
   },
   "outputs": [
    {
     "data": {
      "text/html": [
       "<table><tr><td><img width=300 src=\"val2014/COCO_val2014_000000184613.jpg\" ></img></td><td><img width=300 src=\"val2014/COCO_val2014_000000184613.jpg\" ></img></td></tr><tr><td><b>normal</b></td><td><b>contrastive</b></td></tr><tr><td><ol><li>a group of people standing on top of a lush green field</li><li>a group of people standing on top of a grass covered field</li><li>a group of people standing on top of a field</li><li>a group of people standing next to a herd of sheep</li><li>a group of people standing next to a group of cows</li></ol></td><td><ol><li>a woman holding an umbrella in a field</li><li>a woman holding an umbrella and a cow</li><li>a little girl holding an umbrella in a field</li><li>a little girl holding an umbrella and a cow</li><li>a woman holding an umbrella and a cow in a field</li></ol></td></tr></table>"
      ],
      "text/plain": [
       "<IPython.core.display.HTML object>"
      ]
     },
     "metadata": {},
     "output_type": "display_data"
    },
    {
     "data": {
      "text/html": [
       "<table><tr><td><img width=300 src=\"val2014/COCO_val2014_000000250804.jpg\" ></img></td><td><img width=300 src=\"train2014/COCO_train2014_000000433662.jpg\" ></img></td><td><img width=300 src=\"train2014/COCO_train2014_000000020966.jpg\" ></img></td><td><img width=300 src=\"train2014/COCO_train2014_000000063043.jpg\" ></img></td><td><img width=300 src=\"train2014/COCO_train2014_000000077693.jpg\" ></img></td></tr><tr><td><b>0.2000</b></td><td><b>0.2000</b></td><td><b>0.2000</b></td><td><b>0.2000</b></td><td><b>0.2000</b></td></tr></table>"
      ],
      "text/plain": [
       "<IPython.core.display.HTML object>"
      ]
     },
     "metadata": {},
     "output_type": "display_data"
    },
    {
     "name": "stdout",
     "output_type": "stream",
     "text": [
      "\n"
     ]
    },
    {
     "data": {
      "text/html": [
       "<table><tr><td><img width=300 src=\"val2014/COCO_val2014_000000403013.jpg\" ></img></td><td><img width=300 src=\"val2014/COCO_val2014_000000403013.jpg\" ></img></td></tr><tr><td><b>normal</b></td><td><b>contrastive</b></td></tr><tr><td><ol><li>a kitchen with a stove and a refrigerator</li><li>a kitchen with a stove and a sink</li><li>a kitchen with a refrigerator and a sink</li><li>a kitchen with a refrigerator and a stove</li><li>a kitchen with a stove a sink and a stove</li></ol></td><td><ol><li>a kitchen with a stove and a sink</li><li>a kitchen with a stove and a refrigerator</li><li>a kitchen with a refrigerator and a sink</li><li>a kitchen with a stove a sink and a stove</li><li>a kitchen with a stove a sink and a refrigerator</li></ol></td></tr></table>"
      ],
      "text/plain": [
       "<IPython.core.display.HTML object>"
      ]
     },
     "metadata": {},
     "output_type": "display_data"
    },
    {
     "data": {
      "text/html": [
       "<table><tr><td><img width=300 src=\"val2014/COCO_val2014_000000048910.jpg\" ></img></td><td><img width=300 src=\"train2014/COCO_train2014_000000266273.jpg\" ></img></td><td><img width=300 src=\"train2014/COCO_train2014_000000229962.jpg\" ></img></td><td><img width=300 src=\"train2014/COCO_train2014_000000332202.jpg\" ></img></td><td><img width=300 src=\"val2014/COCO_val2014_000000409855.jpg\" ></img></td></tr><tr><td><b>0.2000</b></td><td><b>0.2000</b></td><td><b>0.2000</b></td><td><b>0.2000</b></td><td><b>0.2000</b></td></tr></table>"
      ],
      "text/plain": [
       "<IPython.core.display.HTML object>"
      ]
     },
     "metadata": {},
     "output_type": "display_data"
    },
    {
     "name": "stdout",
     "output_type": "stream",
     "text": [
      "\n"
     ]
    },
    {
     "data": {
      "text/html": [
       "<table><tr><td><img width=300 src=\"val2014/COCO_val2014_000000562150.jpg\" ></img></td><td><img width=300 src=\"val2014/COCO_val2014_000000562150.jpg\" ></img></td></tr><tr><td><b>normal</b></td><td><b>contrastive</b></td></tr><tr><td><ol><li>a little girl holding a cat in her hand</li><li>a little girl holding a cat in her lap</li><li>a little girl holding a cat in her hands</li><li>a little girl holding a cat and a cat</li><li>a little girl is holding a cat in her hand</li></ol></td><td><ol><li>a little girl holding a cat on a leash</li><li>a little girl holding a cat in her hand</li><li>a little girl sitting on a bench with a cat</li><li>a little girl holding a cat in her lap</li><li>a little girl holding a cat and a cat</li></ol></td></tr></table>"
      ],
      "text/plain": [
       "<IPython.core.display.HTML object>"
      ]
     },
     "metadata": {},
     "output_type": "display_data"
    },
    {
     "data": {
      "text/html": [
       "<table><tr><td><img width=300 src=\"train2014/COCO_train2014_000000277050.jpg\" ></img></td><td><img width=300 src=\"train2014/COCO_train2014_000000184937.jpg\" ></img></td><td><img width=300 src=\"train2014/COCO_train2014_000000478675.jpg\" ></img></td><td><img width=300 src=\"val2014/COCO_val2014_000000361217.jpg\" ></img></td><td><img width=300 src=\"val2014/COCO_val2014_000000363321.jpg\" ></img></td></tr><tr><td><b>0.2000</b></td><td><b>0.2000</b></td><td><b>0.2000</b></td><td><b>0.2000</b></td><td><b>0.2000</b></td></tr></table>"
      ],
      "text/plain": [
       "<IPython.core.display.HTML object>"
      ]
     },
     "metadata": {},
     "output_type": "display_data"
    },
    {
     "name": "stdout",
     "output_type": "stream",
     "text": [
      "\n"
     ]
    },
    {
     "data": {
      "text/html": [
       "<table><tr><td><img width=300 src=\"val2014/COCO_val2014_000000360772.jpg\" ></img></td><td><img width=300 src=\"val2014/COCO_val2014_000000360772.jpg\" ></img></td></tr><tr><td><b>normal</b></td><td><b>contrastive</b></td></tr><tr><td><ol><li>a bathroom with a toilet and a sink</li><li>a white toilet sitting in a bathroom next to a sink</li><li>a white toilet sitting next to a bathroom sink</li><li>a white toilet sitting in a bathroom next to a toilet</li><li>a white toilet sitting in a bathroom next to a wall</li></ol></td><td><ol><li>a white toilet sitting in a bathroom next to a sink</li><li>a white toilet sitting in a bathroom next to a wall</li><li>a bathroom with a toilet and a sink</li><li>a white toilet sitting in a bathroom next to a window</li><li>a white toilet sitting in a bathroom next to a toilet</li></ol></td></tr></table>"
      ],
      "text/plain": [
       "<IPython.core.display.HTML object>"
      ]
     },
     "metadata": {},
     "output_type": "display_data"
    },
    {
     "data": {
      "text/html": [
       "<table><tr><td><img width=300 src=\"val2014/COCO_val2014_000000012323.jpg\" ></img></td><td><img width=300 src=\"train2014/COCO_train2014_000000386560.jpg\" ></img></td><td><img width=300 src=\"train2014/COCO_train2014_000000567179.jpg\" ></img></td><td><img width=300 src=\"train2014/COCO_train2014_000000208754.jpg\" ></img></td><td><img width=300 src=\"train2014/COCO_train2014_000000005277.jpg\" ></img></td></tr><tr><td><b>0.2000</b></td><td><b>0.2000</b></td><td><b>0.2000</b></td><td><b>0.2000</b></td><td><b>0.2000</b></td></tr></table>"
      ],
      "text/plain": [
       "<IPython.core.display.HTML object>"
      ]
     },
     "metadata": {},
     "output_type": "display_data"
    },
    {
     "name": "stdout",
     "output_type": "stream",
     "text": [
      "\n"
     ]
    },
    {
     "data": {
      "text/html": [
       "<table><tr><td><img width=300 src=\"val2014/COCO_val2014_000000340559.jpg\" ></img></td><td><img width=300 src=\"val2014/COCO_val2014_000000340559.jpg\" ></img></td></tr><tr><td><b>normal</b></td><td><b>contrastive</b></td></tr><tr><td><ol><li>a kitchen with a sink and a sink</li><li>a bathroom with a sink and a sink</li><li>a kitchen with a sink and a refrigerator</li><li>a kitchen that has a sink and a sink</li><li>a kitchen with a sink a sink and a sink</li></ol></td><td><ol><li>a stainless steel refrigerator in a small kitchen</li><li>a kitchen with a sink and a sink</li><li>a stainless steel bathroom with a sink and a sink</li><li>a stainless steel bathroom with a sink and a</li><li>a stainless steel refrigerator in a kitchen with a sink</li></ol></td></tr></table>"
      ],
      "text/plain": [
       "<IPython.core.display.HTML object>"
      ]
     },
     "metadata": {},
     "output_type": "display_data"
    },
    {
     "data": {
      "text/html": [
       "<table><tr><td><img width=300 src=\"train2014/COCO_train2014_000000432201.jpg\" ></img></td><td><img width=300 src=\"val2014/COCO_val2014_000000042568.jpg\" ></img></td><td><img width=300 src=\"val2014/COCO_val2014_000000229311.jpg\" ></img></td><td><img width=300 src=\"val2014/COCO_val2014_000000078266.jpg\" ></img></td><td><img width=300 src=\"val2014/COCO_val2014_000000070434.jpg\" ></img></td></tr><tr><td><b>0.2000</b></td><td><b>0.2000</b></td><td><b>0.2000</b></td><td><b>0.2000</b></td><td><b>0.2000</b></td></tr></table>"
      ],
      "text/plain": [
       "<IPython.core.display.HTML object>"
      ]
     },
     "metadata": {},
     "output_type": "display_data"
    },
    {
     "name": "stdout",
     "output_type": "stream",
     "text": [
      "\n"
     ]
    },
    {
     "data": {
      "text/html": [
       "<table><tr><td><img width=300 src=\"val2014/COCO_val2014_000000321107.jpg\" ></img></td><td><img width=300 src=\"val2014/COCO_val2014_000000321107.jpg\" ></img></td></tr><tr><td><b>normal</b></td><td><b>contrastive</b></td></tr><tr><td><ol><li>a woman riding a bike down a street</li><li>a man riding a bike down a street</li><li>a person riding a bike down a street</li><li>a woman riding a bicycle down a street</li><li>a woman riding a bike down a street next to a street</li></ol></td><td><ol><li>a woman riding a bike down a street</li><li>a woman riding a bicycle down a street</li><li>a woman riding a bike down the street</li><li>a person riding a bike down a street</li><li>a woman riding a bike down a street next to a street</li></ol></td></tr></table>"
      ],
      "text/plain": [
       "<IPython.core.display.HTML object>"
      ]
     },
     "metadata": {},
     "output_type": "display_data"
    },
    {
     "data": {
      "text/html": [
       "<table><tr><td><img width=300 src=\"train2014/COCO_train2014_000000329755.jpg\" ></img></td><td><img width=300 src=\"val2014/COCO_val2014_000000493846.jpg\" ></img></td><td><img width=300 src=\"val2014/COCO_val2014_000000016961.jpg\" ></img></td><td><img width=300 src=\"val2014/COCO_val2014_000000087920.jpg\" ></img></td><td><img width=300 src=\"train2014/COCO_train2014_000000304134.jpg\" ></img></td></tr><tr><td><b>0.2000</b></td><td><b>0.2000</b></td><td><b>0.2000</b></td><td><b>0.2000</b></td><td><b>0.2000</b></td></tr></table>"
      ],
      "text/plain": [
       "<IPython.core.display.HTML object>"
      ]
     },
     "metadata": {},
     "output_type": "display_data"
    },
    {
     "name": "stdout",
     "output_type": "stream",
     "text": [
      "\n"
     ]
    },
    {
     "data": {
      "text/html": [
       "<table><tr><td><img width=300 src=\"val2014/COCO_val2014_000000129001.jpg\" ></img></td><td><img width=300 src=\"val2014/COCO_val2014_000000129001.jpg\" ></img></td></tr><tr><td><b>normal</b></td><td><b>contrastive</b></td></tr><tr><td><ol><li>a bathroom with a toilet and a sink</li><li>a bath room with a toilet and a sink</li><li>a bathroom with a toilet and a shower</li><li>a bathroom with a toilet sink and shower</li><li>a bath room with a toilet and a shower</li></ol></td><td><ol><li>a bathroom with a toilet and a shower</li><li>a bathroom with a toilet and a tub</li><li>a bathroom with a blue and white shower curtain</li><li>a bath room with a toilet and a sink</li><li>a bath room with a toilet and a shower</li></ol></td></tr></table>"
      ],
      "text/plain": [
       "<IPython.core.display.HTML object>"
      ]
     },
     "metadata": {},
     "output_type": "display_data"
    },
    {
     "data": {
      "text/html": [
       "<table><tr><td><img width=300 src=\"train2014/COCO_train2014_000000037126.jpg\" ></img></td><td><img width=300 src=\"train2014/COCO_train2014_000000187972.jpg\" ></img></td><td><img width=300 src=\"val2014/COCO_val2014_000000383606.jpg\" ></img></td><td><img width=300 src=\"val2014/COCO_val2014_000000134715.jpg\" ></img></td><td><img width=300 src=\"train2014/COCO_train2014_000000491063.jpg\" ></img></td></tr><tr><td><b>0.2000</b></td><td><b>0.2000</b></td><td><b>0.2000</b></td><td><b>0.2000</b></td><td><b>0.2000</b></td></tr></table>"
      ],
      "text/plain": [
       "<IPython.core.display.HTML object>"
      ]
     },
     "metadata": {},
     "output_type": "display_data"
    },
    {
     "name": "stdout",
     "output_type": "stream",
     "text": [
      "\n"
     ]
    },
    {
     "data": {
      "text/html": [
       "<table><tr><td><img width=300 src=\"val2014/COCO_val2014_000000556616.jpg\" ></img></td><td><img width=300 src=\"val2014/COCO_val2014_000000556616.jpg\" ></img></td></tr><tr><td><b>normal</b></td><td><b>contrastive</b></td></tr><tr><td><ol><li>a parking meter on the side of the road</li><li>a parking meter on the side of a street</li><li>a close up of a parking meter on a city street</li><li>a close up of a parking meter on a street</li><li>a parking meter on the side of a road</li></ol></td><td><ol><li>a row of parking meters on a city street</li><li>a row of parking meters on a street</li><li>a close up of a parking meter on a city street</li><li>a close up of a parking meter on a street</li><li>a close up of a parking meter in a parking lot</li></ol></td></tr></table>"
      ],
      "text/plain": [
       "<IPython.core.display.HTML object>"
      ]
     },
     "metadata": {},
     "output_type": "display_data"
    },
    {
     "data": {
      "text/html": [
       "<table><tr><td><img width=300 src=\"train2014/COCO_train2014_000000253528.jpg\" ></img></td><td><img width=300 src=\"train2014/COCO_train2014_000000539767.jpg\" ></img></td><td><img width=300 src=\"val2014/COCO_val2014_000000135410.jpg\" ></img></td><td><img width=300 src=\"train2014/COCO_train2014_000000068789.jpg\" ></img></td><td><img width=300 src=\"val2014/COCO_val2014_000000145039.jpg\" ></img></td></tr><tr><td><b>0.2000</b></td><td><b>0.2000</b></td><td><b>0.2000</b></td><td><b>0.2000</b></td><td><b>0.2000</b></td></tr></table>"
      ],
      "text/plain": [
       "<IPython.core.display.HTML object>"
      ]
     },
     "metadata": {},
     "output_type": "display_data"
    },
    {
     "name": "stdout",
     "output_type": "stream",
     "text": [
      "\n"
     ]
    },
    {
     "data": {
      "text/html": [
       "<table><tr><td><img width=300 src=\"val2014/COCO_val2014_000000472621.jpg\" ></img></td><td><img width=300 src=\"val2014/COCO_val2014_000000472621.jpg\" ></img></td></tr><tr><td><b>normal</b></td><td><b>contrastive</b></td></tr><tr><td><ol><li>a bathroom with a sink and a mirror</li><li>a bathroom with a sink and a sink</li><li>a bathroom with a sink and a tub</li><li>a bath room with a sink and a mirror</li><li>a bathroom that has a sink and a mirror</li></ol></td><td><ol><li>a bathroom with a tub sink and mirror</li><li>a bathroom with a sink and a tub</li><li>a bath room with a sink and a mirror</li><li>a bath room with a sink and a sink</li><li>a bath room with a sink and a tub</li></ol></td></tr></table>"
      ],
      "text/plain": [
       "<IPython.core.display.HTML object>"
      ]
     },
     "metadata": {},
     "output_type": "display_data"
    },
    {
     "data": {
      "text/html": [
       "<table><tr><td><img width=300 src=\"train2014/COCO_train2014_000000515287.jpg\" ></img></td><td><img width=300 src=\"train2014/COCO_train2014_000000188343.jpg\" ></img></td><td><img width=300 src=\"train2014/COCO_train2014_000000343670.jpg\" ></img></td><td><img width=300 src=\"train2014/COCO_train2014_000000474732.jpg\" ></img></td><td><img width=300 src=\"train2014/COCO_train2014_000000412267.jpg\" ></img></td></tr><tr><td><b>0.2000</b></td><td><b>0.2000</b></td><td><b>0.2000</b></td><td><b>0.2000</b></td><td><b>0.2000</b></td></tr></table>"
      ],
      "text/plain": [
       "<IPython.core.display.HTML object>"
      ]
     },
     "metadata": {},
     "output_type": "display_data"
    },
    {
     "name": "stdout",
     "output_type": "stream",
     "text": [
      "\n"
     ]
    },
    {
     "data": {
      "text/html": [
       "<table><tr><td><img width=300 src=\"val2014/COCO_val2014_000000364521.jpg\" ></img></td><td><img width=300 src=\"val2014/COCO_val2014_000000364521.jpg\" ></img></td></tr><tr><td><b>normal</b></td><td><b>contrastive</b></td></tr><tr><td><ol><li>there is a banana peel on the ground</li><li>a yellow fire hydrant sitting on the side of a road</li><li>a yellow fire hydrant sitting on the ground</li><li>a yellow fire hydrant sitting on the side of the road</li><li>a yellow fire hydrant sitting on top of a sidewalk</li></ol></td><td><ol><li>there is a banana peel on the ground</li><li>a banana peel sitting on top of a yellow fire hydrant</li><li>a banana sitting on the ground next to a banana</li><li>a banana sitting on the ground next to a fire hydrant</li><li>a banana sitting on the ground next to a yellow fire hydrant</li></ol></td></tr></table>"
      ],
      "text/plain": [
       "<IPython.core.display.HTML object>"
      ]
     },
     "metadata": {},
     "output_type": "display_data"
    },
    {
     "data": {
      "text/html": [
       "<table><tr><td><img width=300 src=\"val2014/COCO_val2014_000000358345.jpg\" ></img></td><td><img width=300 src=\"train2014/COCO_train2014_000000147196.jpg\" ></img></td><td><img width=300 src=\"train2014/COCO_train2014_000000086071.jpg\" ></img></td><td><img width=300 src=\"train2014/COCO_train2014_000000424739.jpg\" ></img></td><td><img width=300 src=\"train2014/COCO_train2014_000000108602.jpg\" ></img></td></tr><tr><td><b>0.2000</b></td><td><b>0.2000</b></td><td><b>0.2000</b></td><td><b>0.2000</b></td><td><b>0.2000</b></td></tr></table>"
      ],
      "text/plain": [
       "<IPython.core.display.HTML object>"
      ]
     },
     "metadata": {},
     "output_type": "display_data"
    },
    {
     "name": "stdout",
     "output_type": "stream",
     "text": [
      "\n"
     ]
    }
   ],
   "source": [
    "display_em_model(batch, k=5, neighbor_type='closest', choose_distractor=False)"
   ]
  },
  {
   "cell_type": "code",
   "execution_count": 37,
   "metadata": {
    "scrolled": true
   },
   "outputs": [
    {
     "ename": "AttributeError",
     "evalue": "'UpDownModel' object has no attribute 'distractor_infos'",
     "output_type": "error",
     "traceback": [
      "\u001b[0;31m---------------------------------------------------------------------------\u001b[0m",
      "\u001b[0;31mAttributeError\u001b[0m                            Traceback (most recent call last)",
      "\u001b[0;32m<ipython-input-37-8cc31a34f81b>\u001b[0m in \u001b[0;36m<module>\u001b[0;34m\u001b[0m\n\u001b[0;32m----> 1\u001b[0;31m \u001b[0mmodel\u001b[0m\u001b[0;34m.\u001b[0m\u001b[0mdistractor_infos\u001b[0m\u001b[0;34m\u001b[0m\u001b[0;34m\u001b[0m\u001b[0m\n\u001b[0m",
      "\u001b[0;32m~/miniconda3/envs/image_captioning_pytorch/lib/python3.7/site-packages/torch/nn/modules/module.py\u001b[0m in \u001b[0;36m__getattr__\u001b[0;34m(self, name)\u001b[0m\n\u001b[1;32m    583\u001b[0m                 \u001b[0;32mreturn\u001b[0m \u001b[0mmodules\u001b[0m\u001b[0;34m[\u001b[0m\u001b[0mname\u001b[0m\u001b[0;34m]\u001b[0m\u001b[0;34m\u001b[0m\u001b[0;34m\u001b[0m\u001b[0m\n\u001b[1;32m    584\u001b[0m         raise AttributeError(\"'{}' object has no attribute '{}'\".format(\n\u001b[0;32m--> 585\u001b[0;31m             type(self).__name__, name))\n\u001b[0m\u001b[1;32m    586\u001b[0m \u001b[0;34m\u001b[0m\u001b[0m\n\u001b[1;32m    587\u001b[0m     \u001b[0;32mdef\u001b[0m \u001b[0m__setattr__\u001b[0m\u001b[0;34m(\u001b[0m\u001b[0mself\u001b[0m\u001b[0;34m,\u001b[0m \u001b[0mname\u001b[0m\u001b[0;34m,\u001b[0m \u001b[0mvalue\u001b[0m\u001b[0;34m)\u001b[0m\u001b[0;34m:\u001b[0m\u001b[0;34m\u001b[0m\u001b[0;34m\u001b[0m\u001b[0m\n",
      "\u001b[0;31mAttributeError\u001b[0m: 'UpDownModel' object has no attribute 'distractor_infos'"
     ]
    },
    {
     "name": "stdout",
     "output_type": "stream",
     "text": [
      "> \u001b[0;32m/home/dfried/miniconda3/envs/image_captioning_pytorch/lib/python3.7/site-packages/torch/nn/modules/module.py\u001b[0m(585)\u001b[0;36m__getattr__\u001b[0;34m()\u001b[0m\n",
      "\u001b[0;32m    583 \u001b[0;31m                \u001b[0;32mreturn\u001b[0m \u001b[0mmodules\u001b[0m\u001b[0;34m[\u001b[0m\u001b[0mname\u001b[0m\u001b[0;34m]\u001b[0m\u001b[0;34m\u001b[0m\u001b[0;34m\u001b[0m\u001b[0m\n",
      "\u001b[0m\u001b[0;32m    584 \u001b[0;31m        raise AttributeError(\"'{}' object has no attribute '{}'\".format(\n",
      "\u001b[0m\u001b[0;32m--> 585 \u001b[0;31m            type(self).__name__, name))\n",
      "\u001b[0m\u001b[0;32m    586 \u001b[0;31m\u001b[0;34m\u001b[0m\u001b[0m\n",
      "\u001b[0m\u001b[0;32m    587 \u001b[0;31m    \u001b[0;32mdef\u001b[0m \u001b[0m__setattr__\u001b[0m\u001b[0;34m(\u001b[0m\u001b[0mself\u001b[0m\u001b[0;34m,\u001b[0m \u001b[0mname\u001b[0m\u001b[0;34m,\u001b[0m \u001b[0mvalue\u001b[0m\u001b[0;34m)\u001b[0m\u001b[0;34m:\u001b[0m\u001b[0;34m\u001b[0m\u001b[0;34m\u001b[0m\u001b[0m\n",
      "\u001b[0m\n",
      "ipdb> \n",
      "ipdb> q\n"
     ]
    }
   ],
   "source": [
    "model.distractor_infos"
   ]
  },
  {
   "cell_type": "code",
   "execution_count": 51,
   "metadata": {
    "scrolled": true
   },
   "outputs": [
    {
     "data": {
      "text/plain": [
       "[[{'ix': tensor(37203),\n",
       "   'id': 250804,\n",
       "   'file_path': 'val2014/COCO_val2014_000000250804.jpg'}],\n",
       " [{'ix': tensor(72565),\n",
       "   'id': 20966,\n",
       "   'file_path': 'train2014/COCO_train2014_000000020966.jpg'}],\n",
       " [{'ix': tensor(45832),\n",
       "   'id': 77693,\n",
       "   'file_path': 'train2014/COCO_train2014_000000077693.jpg'}],\n",
       " [{'ix': tensor(7200),\n",
       "   'id': 48910,\n",
       "   'file_path': 'val2014/COCO_val2014_000000048910.jpg'}],\n",
       " [{'ix': tensor(56906),\n",
       "   'id': 229962,\n",
       "   'file_path': 'train2014/COCO_train2014_000000229962.jpg'}],\n",
       " [{'ix': tensor(9233),\n",
       "   'id': 409855,\n",
       "   'file_path': 'val2014/COCO_val2014_000000409855.jpg'}],\n",
       " [{'ix': tensor(97177),\n",
       "   'id': 277050,\n",
       "   'file_path': 'train2014/COCO_train2014_000000277050.jpg'}],\n",
       " [{'ix': tensor(54246),\n",
       "   'id': 478675,\n",
       "   'file_path': 'train2014/COCO_train2014_000000478675.jpg'}],\n",
       " [{'ix': tensor(19456),\n",
       "   'id': 363321,\n",
       "   'file_path': 'val2014/COCO_val2014_000000363321.jpg'}],\n",
       " [{'ix': tensor(2100),\n",
       "   'id': 12323,\n",
       "   'file_path': 'val2014/COCO_val2014_000000012323.jpg'}]]"
      ]
     },
     "execution_count": 51,
     "metadata": {},
     "output_type": "execute_result"
    }
   ],
   "source": [
    "model.neighbor_infos"
   ]
  },
  {
   "cell_type": "code",
   "execution_count": 85,
   "metadata": {},
   "outputs": [
    {
     "data": {
      "text/plain": [
       "tensor([0.6026, 0.6102, 0.6137, 0.5967, 0.6030, 0.6111, 0.6166, 0.6101, 0.6100,\n",
       "        0.5992, 0.6018, 0.6147, 0.5993, 0.6145, 0.6118, 0.6105, 0.6007, 0.6031,\n",
       "        0.6045, 0.5957, 0.6020, 0.6081, 0.6077, 0.6051, 0.5998, 1.1390, 0.6043,\n",
       "        0.6162, 0.6023, 0.6040, 0.6152, 0.6034, 0.6006, 0.5940, 0.7514, 0.5928,\n",
       "        0.6147, 0.6074, 0.6116, 0.6148, 0.6010, 0.6115, 0.6109, 0.6097, 0.6141,\n",
       "        0.6119, 0.5952, 0.6209, 0.6084, 0.5976, 0.6089, 0.6116, 0.6126, 0.6000,\n",
       "        0.6146, 0.6141, 0.6067, 0.6163, 0.6192, 0.5979, 0.5961, 0.6064, 0.6114,\n",
       "        0.5971, 0.5947, 0.6004, 0.5953, 0.6098, 0.6064, 1.0470, 0.6025, 0.6158,\n",
       "        0.6044, 0.6151, 0.6055, 0.5994, 0.6419, 0.6100, 0.6038, 0.6050, 0.5956,\n",
       "        0.5979, 0.6115, 0.6025, 0.6198, 0.5984, 0.6649, 1.1684, 0.5947, 0.6083,\n",
       "        0.6156, 0.6136, 0.6199, 0.5962, 0.6016, 0.6144, 0.6130, 0.6060, 0.6106,\n",
       "        0.6102, 0.5972, 0.6144, 0.6051, 0.5952, 0.6119, 0.6029, 0.6189, 0.6045,\n",
       "        0.6128, 0.6073, 0.6073, 0.5941, 0.6012, 0.6087, 0.5982, 0.6013, 0.6170,\n",
       "        0.5959, 0.6058, 0.6011, 0.6105, 0.6018, 0.6022, 0.6081, 0.6057, 0.6164,\n",
       "        0.6015, 0.5856, 0.6123, 0.6113, 0.6048, 0.6076, 0.6005, 0.6055, 0.6093,\n",
       "        0.6025, 0.6044, 0.6135, 0.5883, 0.6087, 0.6013, 0.6084, 0.6093, 0.6103,\n",
       "        0.6054, 0.6076, 0.6183, 0.6172, 0.6156, 0.6143, 0.6063, 0.6060, 0.6145,\n",
       "        0.6059, 0.6052, 0.6103, 0.6066, 0.5959, 0.6201, 0.6028, 1.1274, 0.6013,\n",
       "        0.6628, 0.6179, 0.6182, 0.6109, 0.5970, 0.5988, 0.6009, 0.6096, 0.6001,\n",
       "        0.5944, 0.6005, 0.6223, 0.6017, 0.5897, 0.6107, 0.6041, 0.6043, 0.6109,\n",
       "        0.6085, 0.6019, 0.6056, 0.6137, 0.6182, 0.6016, 0.6407, 0.6185, 0.6073,\n",
       "        0.6119, 0.6120, 0.6124, 0.6050, 0.6095, 0.6249, 0.6138, 0.6054, 0.5960,\n",
       "        0.6028, 0.6101], device='cuda:0', grad_fn=<NormBackward1>)"
      ]
     },
     "execution_count": 85,
     "metadata": {},
     "output_type": "execute_result"
    }
   ],
   "source": [
    "model.distractor_scorer.scorer[0].weight.norm(2, -1)"
   ]
  },
  {
   "cell_type": "code",
   "execution_count": 53,
   "metadata": {},
   "outputs": [],
   "source": [
    "# this_pred_captions = []\n",
    "# for sent in seq:\n",
    "#     this_pred_captions.append([\n",
    "#         [model.vocab.get(str(ix.item()), 'IX_{}'.format(ix.item())) for ix in sent if ix.item() != 0]\n",
    "#     ])"
   ]
  },
  {
   "cell_type": "code",
   "execution_count": 54,
   "metadata": {},
   "outputs": [],
   "source": [
    "from itertools import groupby"
   ]
  },
  {
   "cell_type": "code",
   "execution_count": 55,
   "metadata": {},
   "outputs": [],
   "source": [
    "from IPython.core.debugger import set_trace"
   ]
  },
  {
   "cell_type": "code",
   "execution_count": 56,
   "metadata": {},
   "outputs": [],
   "source": [
    "def caption_scores(fc_feats, att_feats, att_masks, seq, add_bos=True):\n",
    "    if add_bos:\n",
    "        seq = torch.cat([torch.zeros(seq.size(0), 1).long().to(seq), seq], 1)\n",
    "    with torch.no_grad():\n",
    "        scores = model(fc_feats, att_feats, seq, att_masks)\n",
    "    mask = (seq[:,:-1] > 0) | (seq[:,1:] > 0)\n",
    "    # TODO: does this include the EOS score?\n",
    "    # seq_t: words input at each position, with 0 for pad\n",
    "    # seq_t: 0, w_0, w_1, w_2, ..., w_k, 0, ...\n",
    "    # mask : 1, 1  , 1  , 1  , 1  , 1  , 0, ...\n",
    "    # selected_scores: w_0 + ... + w_k\n",
    "#     return scores[:,:-1].gather(2, seq[:,1:].unsqueeze(2)).squeeze(2)\n",
    "    selected_scores = (scores[:,:-1].gather(2, seq[:,1:].unsqueeze(2)).squeeze(2) * mask)\n",
    "    return selected_scores"
   ]
  },
  {
   "cell_type": "code",
   "execution_count": 57,
   "metadata": {},
   "outputs": [],
   "source": [
    "def cross_product_scores(fc_feats, att_feats, att_masks, seq, add_bos=True):\n",
    "    n_captions = seq.size(0)\n",
    "    n_images = fc_feats.size(0)\n",
    "    assert att_feats.size(0) == n_images\n",
    "    assert att_masks.size(0) == n_images\n",
    "    fc_feats_t = fc_feats.unsqueeze(0).repeat_interleave(n_captions, dim=0)\n",
    "    att_feats_t = att_feats.unsqueeze(0).repeat_interleave(n_captions, dim=0)\n",
    "    att_masks_t = att_masks.unsqueeze(0).repeat_interleave(n_captions, dim=0)\n",
    "    \n",
    "    fc_feats_t = einops.rearrange(fc_feats_t, 'caps imgs d -> (caps imgs) d')\n",
    "    att_feats_t = einops.rearrange(att_feats_t, 'caps imgs obj d -> (caps imgs) obj d')\n",
    "    att_masks_t = einops.rearrange(att_masks_t, 'caps imgs obj -> (caps imgs) obj')\n",
    "    seq_t = seq.unsqueeze(1).repeat_interleave(n_images, dim=1)\n",
    "    seq_t = einops.rearrange(seq_t, 'caps imgs d -> (caps imgs) d')\n",
    "    \n",
    "    scores_per_timestep = caption_scores(fc_feats_t, att_feats_t, att_masks_t, seq_t, add_bos=add_bos)\n",
    "    scores = scores_per_timestep.sum(1)\n",
    "    scores = einops.rearrange(scores, '(caps imgs) -> caps imgs', caps=n_captions, imgs=n_images)\n",
    "    return scores"
   ]
  },
  {
   "cell_type": "code",
   "execution_count": 58,
   "metadata": {},
   "outputs": [
    {
     "name": "stdout",
     "output_type": "stream",
     "text": [
      "Automatic pdb calling has been turned ON\n"
     ]
    }
   ],
   "source": [
    "pdb on"
   ]
  },
  {
   "cell_type": "code",
   "execution_count": 37,
   "metadata": {},
   "outputs": [],
   "source": [
    "loader.reset_iterator('val')"
   ]
  },
  {
   "cell_type": "code",
   "execution_count": 61,
   "metadata": {},
   "outputs": [],
   "source": [
    "data = loader.get_batch('val')"
   ]
  },
  {
   "cell_type": "code",
   "execution_count": 62,
   "metadata": {},
   "outputs": [],
   "source": [
    "this_feats = data['fc_feats']\n",
    "this_ixs = [d['ix'] for d in data['infos']]\n",
    "this_ids = [d['id'] for d in data['infos']]\n",
    "this_paths = [d['file_path'] for d in data['infos']]"
   ]
  },
  {
   "cell_type": "code",
   "execution_count": 67,
   "metadata": {},
   "outputs": [],
   "source": [
    "# set_trace()\n",
    "sample_n = 10\n",
    "input_data = data['fc_feats'].cuda(), data['att_feats'].cuda(), data['att_masks'].cuda(), data\n",
    "n_predictions = []\n",
    "eval_kwargs = {\n",
    "    'sample_n_method': 'bs',\n",
    "    'sample_n': sample_n,\n",
    "    'temperature': 0.25,\n",
    "    'verbose': False,\n",
    "}\n",
    "eval_utils.eval_split_n(model, n_predictions, input_data=input_data, eval_kwargs=eval_kwargs)\n",
    "captions_by_id = {}\n",
    "log_prob_by_id = {}\n",
    "seq_by_id = {}\n",
    "for k, ds in groupby(n_predictions, lambda d: d['image_id']):\n",
    "    ds = list(ds)\n",
    "    captions_by_id[k] = [d['caption'] for d in ds]\n",
    "    log_prob_by_id[k] = [d['log_prob'] for d in ds]\n",
    "    seq_by_id[k] = [d['seq'] for d in ds]\n",
    "this_captions = [\n",
    "    captions_by_id[id_]  for id_ in this_ids\n",
    "]\n",
    "this_log_probs = [\n",
    "    log_prob_by_id[id_] for id_ in this_ids\n",
    "]\n",
    "this_seq = [\n",
    "    torch.stack(seq_by_id[id_], 0) for id_ in this_ids\n",
    "]"
   ]
  },
  {
   "cell_type": "code",
   "execution_count": 68,
   "metadata": {
    "scrolled": false
   },
   "outputs": [
    {
     "data": {
      "text/html": [
       "<table><tr><td><img width=300 src=\"val2014/COCO_val2014_000000009426.jpg\" ></img></td><td><img width=300 src=\"val2014/COCO_val2014_000000009426.jpg\" ></img></td></tr><tr><td><ol><li>a red and white airplane flying in the sky  -5.3846</li><li>a red and white plane flying in the sky  -5.6425</li><li>a red and white airplane flying in the air  -6.2955</li><li>a red and white airplane flying through a blue sky  -6.4906</li><li>a red and white airplane flying in a blue sky  -6.7558</li><li>a red and white plane flying in a blue sky  -6.8799</li><li>the red and white airplane is flying in the sky  -7.9610</li><li>there is a red and white plane flying in the sky  -8.8055</li><li>an airplane flying in the sky with a red tail  -12.0166</li><li>an airplane is flying in the sky with a red tail  -12.4322</li></ol></td><td><ol><li>a red and white airplane flying in a blue sky  -2.2066</li><li>a red and white airplane flying in the sky  -2.2307</li><li>there is a red and white plane flying in the sky  -2.2577</li><li>the red and white airplane is flying in the sky  -2.2766</li><li>an airplane flying in the sky with a red tail  -2.2893</li><li>an airplane is flying in the sky with a red tail  -2.3098</li><li>a red and white plane flying in a blue sky  -2.3132</li><li>a red and white airplane flying in the air  -2.3209</li><li>a red and white airplane flying through a blue sky  -2.4151</li><li>a red and white plane flying in the sky  -2.4287</li></ol></td></tr></table>"
      ],
      "text/plain": [
       "<IPython.core.display.HTML object>"
      ]
     },
     "metadata": {},
     "output_type": "display_data"
    },
    {
     "data": {
      "text/html": [
       "<table><tr><td><img width=300 src=\"train2014/COCO_train2014_000000512438.jpg\" ></img></td><td><img width=300 src=\"val2014/COCO_val2014_000000183500.jpg\" ></img></td><td><img width=300 src=\"train2014/COCO_train2014_000000440786.jpg\" ></img></td><td><img width=300 src=\"train2014/COCO_train2014_000000331738.jpg\" ></img></td></tr><tr><td><ol><li>a white and black plane flying with sky in background</li><li>a small passenger plane flying on a sunny day</li><li>a propeller airplane flying under a cloudy blue sky</li><li>looking under an airplane as it flies in the air</li><li>the airplane is flying near the clouds in the sky</li></ol></td><td><ol><li>a person is flying a biplane in the sky</li><li>an old biplane that is flying low for the crowd</li><li>a red and white plane flying through a cloudy sky</li><li>a propeller plane that is flying in the sky</li><li>white and red biplane flying through the air</li></ol></td><td><ol><li>a bed and white propeller plane flying through a blue sky</li><li>a plane in the middle of the air its a propeller plane</li><li>the old plane has been recently painted in red and white</li><li>a very small red and white air plane</li><li>a plane flying in the air on a clear day</li></ol></td><td><ol><li>a yellow and blue biplane flying through the ski</li><li>a small single engine plane in flying in the sky</li><li>a blue red and white airplane is flying</li><li>a small biplane flies through the blue sky</li><li>an old airplane flies through the sky on a nice day</li></ol></td></tr><tr><td><img width=300 src=\"val2014/COCO_val2014_000000295765.jpg\" ></img></td></tr><tr><td><ol><li>an airplane flying through the air on a clear day</li><li>the airplane is flying high in the clear blue sky</li><li>a white airplane with a single propeller and double stacked wings</li><li>a red white and blue airplane flying in the sky</li><li>a small aircraft flying low on a clear sky</li></ol></td></tr></table>"
      ],
      "text/plain": [
       "<IPython.core.display.HTML object>"
      ]
     },
     "metadata": {},
     "output_type": "display_data"
    },
    {
     "name": "stdout",
     "output_type": "stream",
     "text": [
      "\n"
     ]
    },
    {
     "data": {
      "text/html": [
       "<table><tr><td><img width=300 src=\"val2014/COCO_val2014_000000242139.jpg\" ></img></td><td><img width=300 src=\"val2014/COCO_val2014_000000242139.jpg\" ></img></td></tr><tr><td><ol><li>a city street with lots of tall buildings  -7.8097</li><li>a city street with a large building in the background  -10.1655</li><li>a city street with a tall building in the background  -10.6663</li><li>a city street with a large city in the background  -10.7126</li><li>a city street with tall buildings and a large city  -11.6744</li><li>a city street with cars and a tall building  -12.1900</li><li>a city street with tall buildings and a large building  -12.2099</li><li>a city street with tall buildings and a large building in the background  -12.6306</li><li>a city street with cars and people walking on the sidewalk  -13.4368</li><li>a city street with a tall building and a large city  -15.2348</li></ol></td><td><ol><li>a city street with tall buildings and a large building in the background  -1.9513</li><li>a city street with a tall building and a large city  -1.9794</li><li>a city street with tall buildings and a large city  -2.0439</li><li>a city street with tall buildings and a large building  -2.1185</li><li>a city street with a large city in the background  -2.2861</li><li>a city street with a tall building in the background  -2.4150</li><li>a city street with a large building in the background  -2.5029</li><li>a city street with lots of tall buildings  -2.5392</li><li>a city street with cars and a tall building  -2.5657</li><li>a city street with cars and people walking on the sidewalk  -3.1856</li></ol></td></tr></table>"
      ],
      "text/plain": [
       "<IPython.core.display.HTML object>"
      ]
     },
     "metadata": {},
     "output_type": "display_data"
    },
    {
     "data": {
      "text/html": [
       "<table><tr><td><img width=300 src=\"train2014/COCO_train2014_000000533739.jpg\" ></img></td><td><img width=300 src=\"train2014/COCO_train2014_000000219750.jpg\" ></img></td><td><img width=300 src=\"val2014/COCO_val2014_000000230615.jpg\" ></img></td><td><img width=300 src=\"train2014/COCO_train2014_000000219225.jpg\" ></img></td></tr><tr><td><ol><li>heavy traffic in a city with a UNK bank building</li><li>a busy downtown street is filled with cars waiting to move</li><li>a green light is shown on this busy multi lane street</li><li>there are many tall buildings and cars in this city</li><li>a large city with UNK buildings and a green light</li></ol></td><td><ol><li>a red and yellow double decker bus on street next to trees</li><li>a double deck tour bus riding down a street through a traffic light</li><li>a large red bus driving down the street</li><li>a double deck bus that is driving down the road</li><li>a red double decker bus driving down a street</li></ol></td><td><ol><li>a man riding down the street in a horse and carriage</li><li>a group of cars parked in a lot</li><li>a horse drawn carriage comes down the street on a clear day</li><li>a horse drawn carriage on a city street</li><li>the cars are sharing the busy road with the horse</li></ol></td><td><ol><li>traffic and people are standing in the downtown area</li><li>a busy 2 way downtown intersection in the city</li><li>there is a very tall tower with a clock on it on this street</li><li>a busy semi busy street with three yellow taxis going down it</li><li>a tall clock tower on a city street near buildings</li></ol></td></tr><tr><td><img width=300 src=\"train2014/COCO_train2014_000000263826.jpg\" ></img></td></tr><tr><td><ol><li>a transit bus moves through a crowded street</li><li>the buses are lined up on the busy street</li><li>view of down town in a city and traffic driving on the opposite side of the</li><li>two public transit buses on a city street</li><li>a picture of an outdoor area that seems great</li></ol></td></tr></table>"
      ],
      "text/plain": [
       "<IPython.core.display.HTML object>"
      ]
     },
     "metadata": {},
     "output_type": "display_data"
    },
    {
     "name": "stdout",
     "output_type": "stream",
     "text": [
      "\n"
     ]
    },
    {
     "data": {
      "text/html": [
       "<table><tr><td><img width=300 src=\"val2014/COCO_val2014_000000143931.jpg\" ></img></td><td><img width=300 src=\"val2014/COCO_val2014_000000143931.jpg\" ></img></td></tr><tr><td><ol><li>a bus with a advertisement on the side of it  -9.9457</li><li>a truck with a mural on the side of it  -10.0262</li><li>a bus with a mural on the side of it  -10.1005</li><li>a blue truck with a advertisement on the side of it  -10.2522</li><li>a blue bus with a advertisement on the side of it  -10.5892</li><li>a blue truck with a sign on the side of it  -11.0073</li><li>a bus with a large advertisement on the side of it  -11.2638</li><li>a blue truck with a blue and white bus  -14.9023</li><li>a blue truck with a blue and white bus on the side  -16.5830</li><li>a blue truck with a blue and white bus on the side of it  -17.4545</li></ol></td><td><ol><li>a blue truck with a advertisement on the side of it  -1.9789</li><li>a blue truck with a blue and white bus on the side of it  -2.0041</li><li>a blue truck with a blue and white bus on the side  -2.0087</li><li>a blue truck with a blue and white bus  -2.1525</li><li>a truck with a mural on the side of it  -2.2120</li><li>a blue truck with a sign on the side of it  -2.2145</li><li>a blue bus with a advertisement on the side of it  -2.3565</li><li>a bus with a mural on the side of it  -2.7477</li><li>a bus with a large advertisement on the side of it  -2.9925</li><li>a bus with a advertisement on the side of it  -3.0165</li></ol></td></tr></table>"
      ],
      "text/plain": [
       "<IPython.core.display.HTML object>"
      ]
     },
     "metadata": {},
     "output_type": "display_data"
    },
    {
     "data": {
      "text/html": [
       "<table><tr><td><img width=300 src=\"train2014/COCO_train2014_000000550874.jpg\" ></img></td><td><img width=300 src=\"train2014/COCO_train2014_000000381759.jpg\" ></img></td><td><img width=300 src=\"val2014/COCO_val2014_000000048196.jpg\" ></img></td><td><img width=300 src=\"train2014/COCO_train2014_000000382854.jpg\" ></img></td></tr><tr><td><ol><li>a bus that is sitting in the street with its door open</li><li>a bus traveling down the street in a city</li><li>the political tour bus serves as home base during the UNK</li><li>a bus decorated for a presidential political campaign</li><li>a bus for a politician driving down the street</li></ol></td><td><ol><li>a large truck driving down a busy street filled with traffic</li><li>a refrigerated semi truck drives on a rode beside a smaller car</li><li>the semi truck and car turn the corner close to each other</li><li>small car rides behind a large semi truck with a large bed</li><li>a car and truck are navigating a turn together</li></ol></td><td><ol><li>a long yellow bus advertising a musical play</li><li>a yellow bus with a lion king ad on it</li><li>a large yellow bus with pictures of people in lion costumes and the words the lion</li><li>a bus is covered in an advertisement for a broadway show</li><li>a bus with advertisement painted on the side</li></ol></td><td><ol><li>a black bus on street with flags and buildings in background</li><li>a black bus driving down the road in the middle of the city</li><li>the team bus is parked at the building</li><li>the large tour bus is painted with a dog mascot</li><li>a large black truck driving down a city street</li></ol></td></tr><tr><td><img width=300 src=\"train2014/COCO_train2014_000000514801.jpg\" ></img></td></tr><tr><td><ol><li>a vehicle pulls up next to a building</li><li>the large blue truck is parked at the curb</li><li>a truck that is driving on the road</li><li>a large blue tow truck sitting on the side of a road</li><li>a truck is on the city street</li></ol></td></tr></table>"
      ],
      "text/plain": [
       "<IPython.core.display.HTML object>"
      ]
     },
     "metadata": {},
     "output_type": "display_data"
    },
    {
     "name": "stdout",
     "output_type": "stream",
     "text": [
      "\n"
     ]
    },
    {
     "data": {
      "text/html": [
       "<table><tr><td><img width=300 src=\"val2014/COCO_val2014_000000040102.jpg\" ></img></td><td><img width=300 src=\"val2014/COCO_val2014_000000040102.jpg\" ></img></td></tr><tr><td><ol><li>a couple of giraffe standing next to each other  -5.7969</li><li>a couple of giraffe standing on top of a lush green field  -6.3289</li><li>a couple of giraffes are standing in a field  -6.6013</li><li>a couple of giraffe standing next to each other on a field  -6.6032</li><li>two giraffes are standing in a grassy field  -6.6232</li><li>two giraffes standing in the grass near trees  -7.4514</li><li>two giraffes standing in a field of grass  -8.3326</li><li>two giraffes standing in a grassy field next to trees  -8.4241</li><li>two giraffes standing in a field with trees  -8.5482</li><li>two giraffes standing in a grassy field with trees  -8.6169</li></ol></td><td><ol><li>two giraffes standing in a grassy field with trees  -1.8652</li><li>two giraffes standing in the grass near trees  -1.9938</li><li>two giraffes are standing in a grassy field  -2.0416</li><li>two giraffes standing in a grassy field next to trees  -2.0757</li><li>two giraffes standing in a field of grass  -2.2234</li><li>two giraffes standing in a field with trees  -2.2874</li><li>a couple of giraffe standing on top of a lush green field  -2.4703</li><li>a couple of giraffes are standing in a field  -2.8429</li><li>a couple of giraffe standing next to each other  -2.9213</li><li>a couple of giraffe standing next to each other on a field  -3.0531</li></ol></td></tr></table>"
      ],
      "text/plain": [
       "<IPython.core.display.HTML object>"
      ]
     },
     "metadata": {},
     "output_type": "display_data"
    },
    {
     "data": {
      "text/html": [
       "<table><tr><td><img width=300 src=\"train2014/COCO_train2014_000000238713.jpg\" ></img></td><td><img width=300 src=\"val2014/COCO_val2014_000000022257.jpg\" ></img></td><td><img width=300 src=\"train2014/COCO_train2014_000000508969.jpg\" ></img></td><td><img width=300 src=\"train2014/COCO_train2014_000000172426.jpg\" ></img></td></tr><tr><td><ol><li>a group of zebras on a grassy area next to trees</li><li>a group of giraffes stand next in a field by a tree</li><li>a group of giraffes in a field near trees</li><li>a group of four giraffes standing next to each other</li><li>a herd of giraffe walking across a field</li></ol></td><td><ol><li>a herd of giraffe standing next to each other near a forested hillside</li><li>a group of giraffes are standing together on the UNK</li><li>an image of a herd of giraffes in a plain</li><li>half a dozen healthy giraffes hanging out in a field</li><li>a group of giraffes faces and stare in the same direction while one of the faces</li></ol></td><td><ol><li>the giraffes stood together next to the bush</li><li>two giraffes standing in open field with trees</li><li>two giraffes are heading towards trees for leaves</li><li>one giraffe is behind another giraffe on the grass</li><li>two giraffes stand right next to each other</li></ol></td><td><ol><li>two giraffes walking through a spacious grassy field</li><li>two giraffes that are walking together in a field</li><li>two giraffes next to one another near a rock</li><li>two giraffes standing next to each other under a group of trees</li><li>two giraffes standing on all fours next to one another with grass bushes and trees around</li></ol></td></tr><tr><td><img width=300 src=\"train2014/COCO_train2014_000000257983.jpg\" ></img></td></tr><tr><td><ol><li>several giraffes are standing on the short grass</li><li>group of giraffes standing in grass lands</li><li>adult giraffe surrounded by three younger giraffe in the wild</li><li>the three giraffes are standing in the grassy field together</li><li>some giraffes in a field with trees in the background</li></ol></td></tr></table>"
      ],
      "text/plain": [
       "<IPython.core.display.HTML object>"
      ]
     },
     "metadata": {},
     "output_type": "display_data"
    },
    {
     "name": "stdout",
     "output_type": "stream",
     "text": [
      "\n"
     ]
    },
    {
     "data": {
      "text/html": [
       "<table><tr><td><img width=300 src=\"val2014/COCO_val2014_000000403020.jpg\" ></img></td><td><img width=300 src=\"val2014/COCO_val2014_000000403020.jpg\" ></img></td></tr><tr><td><ol><li>a giraffe is laying down in the dirt  -5.5802</li><li>the giraffe is laying down in the dirt  -6.8027</li><li>a giraffe laying on the ground next to a building  -7.1025</li><li>a giraffe laying down in the dirt near a building  -7.6570</li><li>a giraffe laying down in the dirt next to a building  -8.2647</li><li>a giraffe laying on the ground in a zoo  -8.3065</li><li>a giraffe laying on the ground in a dirt  -8.6407</li><li>a giraffe laying down in the dirt in a zoo  -8.9004</li><li>a giraffe laying down on the ground in a zoo  -9.0528</li><li>a giraffe laying down on the ground in a dirt  -9.4864</li></ol></td><td><ol><li>a giraffe laying down in the dirt near a building  -2.1925</li><li>a giraffe laying down in the dirt next to a building  -2.1933</li><li>a giraffe laying on the ground next to a building  -2.1935</li><li>a giraffe laying down on the ground in a dirt  -2.3129</li><li>the giraffe is laying down in the dirt  -2.3140</li><li>a giraffe laying down on the ground in a zoo  -2.3565</li><li>a giraffe laying on the ground in a dirt  -2.3627</li><li>a giraffe laying down in the dirt in a zoo  -2.3633</li><li>a giraffe laying on the ground in a zoo  -2.3737</li><li>a giraffe is laying down in the dirt  -2.3938</li></ol></td></tr></table>"
      ],
      "text/plain": [
       "<IPython.core.display.HTML object>"
      ]
     },
     "metadata": {},
     "output_type": "display_data"
    },
    {
     "data": {
      "text/html": [
       "<table><tr><td><img width=300 src=\"train2014/COCO_train2014_000000050101.jpg\" ></img></td><td><img width=300 src=\"train2014/COCO_train2014_000000334957.jpg\" ></img></td><td><img width=300 src=\"train2014/COCO_train2014_000000067572.jpg\" ></img></td><td><img width=300 src=\"train2014/COCO_train2014_000000476871.jpg\" ></img></td></tr><tr><td><ol><li>four giraffes out in a field of some sort</li><li>three large giraffes with one small standing next to a building</li><li>a group of giraffes in a large enclosure next to a stone barn</li><li>three adult and one baby giraffe standing outside</li><li>a stone barn at a zoo with four giraffe standing around</li></ol></td><td><ol><li>a giraffe kneeling down on the ground next to a tree</li><li>a giraffe on its knees in the sand</li><li>a giraffe whose knees a UNK beneath itself</li><li>a giraffe kneeling down on its front legs on sand in a fenced in area</li><li>a giraffe in a fenced area down on its knees</li></ol></td><td><ol><li>several giraffes are on display in a zoo exhibit</li><li>four giraffes standing and lounging in an enclosure</li><li>the giraffes are standing in the sand beside a fence</li><li>four giraffes standing and sitting in an enclosure</li><li>a herd of giraffe standing around an enclosure at a zoo</li></ol></td><td><ol><li>giraffes standing in a dirt lot near a pool of water</li><li>giraffes in a zoo enclosure with a stone wall</li><li>two giraffes and a rhino in an enclosure</li><li>two giraffes look over a fence in a zoo</li><li>giraffes in an enclosure stand together by the water</li></ol></td></tr><tr><td><img width=300 src=\"val2014/COCO_val2014_000000196650.jpg\" ></img></td></tr><tr><td><ol><li>a giraffe standing next to another animal in a field</li><li>a giraffe and a deer standing near a ravine</li><li>a giraffe doing an odd pose in a field in front of a forest</li><li>a giraffe with its back legs spread while it leans forward</li><li>a giraffe is posing for the camera</li></ol></td></tr></table>"
      ],
      "text/plain": [
       "<IPython.core.display.HTML object>"
      ]
     },
     "metadata": {},
     "output_type": "display_data"
    },
    {
     "name": "stdout",
     "output_type": "stream",
     "text": [
      "\n"
     ]
    },
    {
     "data": {
      "text/html": [
       "<table><tr><td><img width=300 src=\"val2014/COCO_val2014_000000505440.jpg\" ></img></td><td><img width=300 src=\"val2014/COCO_val2014_000000505440.jpg\" ></img></td></tr><tr><td><ol><li>a couple of giraffe standing next to each other  -6.3707</li><li>a couple of giraffe standing on top of a lush green field  -6.4391</li><li>a couple of giraffes are standing in a field  -7.0572</li><li>a couple of giraffe standing next to each other on a lush green field  -7.4226</li><li>two giraffes standing in the grass near trees  -8.1003</li><li>two giraffes standing in a grassy area next to trees  -8.6406</li><li>two giraffes standing in a field next to trees  -9.1155</li><li>two giraffes standing in a field with trees  -9.2221</li><li>two giraffes standing in a grassy field next to trees  -9.4280</li><li>two giraffes standing in a field of grass and trees  -9.8691</li></ol></td><td><ol><li>two giraffes standing in a grassy area next to trees  -1.8909</li><li>two giraffes standing in the grass near trees  -1.9922</li><li>two giraffes standing in a field of grass and trees  -2.0097</li><li>two giraffes standing in a field with trees  -2.1959</li><li>two giraffes standing in a grassy field next to trees  -2.1976</li><li>two giraffes standing in a field next to trees  -2.2443</li><li>a couple of giraffe standing on top of a lush green field  -2.4730</li><li>a couple of giraffe standing next to each other on a lush green field  -2.6140</li><li>a couple of giraffes are standing in a field  -2.8668</li><li>a couple of giraffe standing next to each other  -3.3280</li></ol></td></tr></table>"
      ],
      "text/plain": [
       "<IPython.core.display.HTML object>"
      ]
     },
     "metadata": {},
     "output_type": "display_data"
    },
    {
     "data": {
      "text/html": [
       "<table><tr><td><img width=300 src=\"train2014/COCO_train2014_000000340345.jpg\" ></img></td><td><img width=300 src=\"train2014/COCO_train2014_000000359189.jpg\" ></img></td><td><img width=300 src=\"train2014/COCO_train2014_000000119529.jpg\" ></img></td><td><img width=300 src=\"train2014/COCO_train2014_000000444464.jpg\" ></img></td></tr><tr><td><ol><li>a group of giraffe standing next to each other in an open field</li><li>a herd of giraffe standing around a large tree stump</li><li>a group of giraffes are nibbling on a large tree trunk</li><li>group of giraffes outside standing around a stump</li><li>a group of giraffes standing around a short UNK tree</li></ol></td><td><ol><li>three giraffes are standing together surrounded by trees and shrubbery</li><li>a group of three giraffe in the wilderness</li><li>a group of giraffes foraging among the grass</li><li>three giraffes gathered together in their own habitat</li><li>giraffes standing next to each other near a forest</li></ol></td><td><ol><li>three giraffes standing in grass with their heads in a tree</li><li>a group of giraffes standing in front of a tree</li><li>three giraffes who are eating from a large tree</li><li>the three giraffes are standing by the tree</li><li>a family of three giraffes is standing under a big tree</li></ol></td><td><ol><li>a group of giraffe standing on top of a field</li><li>one adult giraffe and two kid giraffes standing in the woods</li><li>giraffes in the wild under trees on a sunny day</li><li>the adult giraffe is in the field feeding with the two offspring</li><li>three giraffes standing in the grass among trees and bushes</li></ol></td></tr><tr><td><img width=300 src=\"train2014/COCO_train2014_000000024095.jpg\" ></img></td></tr><tr><td><ol><li>two giraffe in a wooded area with an orange fence</li><li>two giraffes standing on rocks in the middle of a field</li><li>two giraffes in a wooded and grassy area</li><li>two giraffes standing in a green shady field</li><li>two giraffes standing next to each other in front of trees</li></ol></td></tr></table>"
      ],
      "text/plain": [
       "<IPython.core.display.HTML object>"
      ]
     },
     "metadata": {},
     "output_type": "display_data"
    },
    {
     "name": "stdout",
     "output_type": "stream",
     "text": [
      "\n"
     ]
    },
    {
     "data": {
      "text/html": [
       "<table><tr><td><img width=300 src=\"val2014/COCO_val2014_000000029913.jpg\" ></img></td><td><img width=300 src=\"val2014/COCO_val2014_000000029913.jpg\" ></img></td></tr><tr><td><ol><li>a fire hydrant with a hose attached to it  -7.4004</li><li>a fire hydrant is on the side of the road  -8.1863</li><li>a fire hydrant that is on the side of the road  -8.7289</li><li>a fire hydrant that is on the side of a road  -9.0019</li><li>the fire hydrant is on the side of the road  -9.0924</li><li>a fire hydrant is painted white and blue  -10.1041</li><li>a fire hydrant is painted white and black  -10.1185</li><li>a fire hydrant is on the sidewalk next to a car  -10.4407</li><li>a fire hydrant is on a sidewalk next to a car  -10.7089</li><li>a fire hydrant that has been painted white and blue  -11.2274</li></ol></td><td><ol><li>a fire hydrant is on the sidewalk next to a car  -1.4475</li><li>a fire hydrant is on a sidewalk next to a car  -1.4559</li><li>a fire hydrant with a hose attached to it  -1.5761</li><li>a fire hydrant is painted white and black  -2.6243</li><li>a fire hydrant that has been painted white and blue  -2.8812</li><li>a fire hydrant is on the side of the road  -2.9437</li><li>the fire hydrant is on the side of the road  -3.1696</li><li>a fire hydrant that is on the side of a road  -3.2031</li><li>a fire hydrant that is on the side of the road  -3.2978</li><li>a fire hydrant is painted white and blue  -3.7296</li></ol></td></tr></table>"
      ],
      "text/plain": [
       "<IPython.core.display.HTML object>"
      ]
     },
     "metadata": {},
     "output_type": "display_data"
    },
    {
     "data": {
      "text/html": [
       "<table><tr><td><img width=300 src=\"train2014/COCO_train2014_000000328662.jpg\" ></img></td><td><img width=300 src=\"train2014/COCO_train2014_000000490887.jpg\" ></img></td><td><img width=300 src=\"train2014/COCO_train2014_000000016805.jpg\" ></img></td><td><img width=300 src=\"train2014/COCO_train2014_000000236769.jpg\" ></img></td></tr><tr><td><ol><li>a motorcycle parked in a parking lot next to a car</li><li>an antique indian motorcycle is parked next to the sidewalk</li><li>motorcycle parked on the edge of a street</li><li>an old indian motorcycle parked at the curb of a street</li><li>a motorcycle parked on a sidewalk next to a street</li></ol></td><td><ol><li>a motorcycle parked next to a sidewalk on the street</li><li>the motorcycle is parked at the curb near the bicycles</li><li>a street scene with the motorcycle and bicycles on the side of the road</li><li>bicycles and a motorcycle parked on a city sidewalk</li><li>a motorcycle and bicycles parked on a city street</li></ol></td><td><ol><li>the yellow fire hydrant is on the curb as cars pass by</li><li>a yellow fire hydrant sitting on the side of a road</li><li>a yellow fire hydrant next to a street</li><li>a yellow fire hydrant that is on a sidewalk</li><li>a fire hydrant sits next to a city street</li></ol></td><td><ol><li>a red white and blue fire hydrant covered in stars</li><li>the fire hydrant is painted red white and blue</li><li>a close up of a fire hydrant UNK red white and blue with stars</li><li>a fire hydrant painted red white and blue are on the curb</li><li>a fire hydrant painted red white and blue with white stars</li></ol></td></tr><tr><td><img width=300 src=\"train2014/COCO_train2014_000000517835.jpg\" ></img></td></tr><tr><td><ol><li>a hydrant that is sitting on the sidewalk</li><li>a fire hydrant is next to a cone on a sidewalk</li><li>a pipe sticking out of a paved surface next to a street grate</li><li>there is a water hole on the street</li><li>there is construction work being done on an urban street</li></ol></td></tr></table>"
      ],
      "text/plain": [
       "<IPython.core.display.HTML object>"
      ]
     },
     "metadata": {},
     "output_type": "display_data"
    },
    {
     "name": "stdout",
     "output_type": "stream",
     "text": [
      "\n"
     ]
    },
    {
     "data": {
      "text/html": [
       "<table><tr><td><img width=300 src=\"val2014/COCO_val2014_000000431573.jpg\" ></img></td><td><img width=300 src=\"val2014/COCO_val2014_000000431573.jpg\" ></img></td></tr><tr><td><ol><li>a red fire hydrant sitting in the middle of a sidewalk  -7.0782</li><li>a red fire hydrant in front of a tree  -7.2148</li><li>a red fire hydrant in the middle of a park  -7.5111</li><li>a fire hydrant in the middle of a park  -7.6126</li><li>a red fire hydrant in the middle of a sidewalk  -7.9263</li><li>a fire hydrant in the middle of a sidewalk  -8.0315</li><li>a fire hydrant is spraying water onto a street  -8.3755</li><li>a red fire hydrant is in the middle of a sidewalk  -9.2053</li><li>a red fire hydrant in a city street  -9.6061</li><li>a red fire hydrant in a park next to a tree  -10.1319</li></ol></td><td><ol><li>a red fire hydrant in a park next to a tree  -2.0400</li><li>a red fire hydrant in a city street  -2.0684</li><li>a red fire hydrant in front of a tree  -2.0851</li><li>a red fire hydrant is in the middle of a sidewalk  -2.0884</li><li>a red fire hydrant in the middle of a park  -2.0914</li><li>a red fire hydrant in the middle of a sidewalk  -2.1153</li><li>a red fire hydrant sitting in the middle of a sidewalk  -2.1219</li><li>a fire hydrant in the middle of a park  -2.7492</li><li>a fire hydrant in the middle of a sidewalk  -3.1231</li><li>a fire hydrant is spraying water onto a street  -3.7515</li></ol></td></tr></table>"
      ],
      "text/plain": [
       "<IPython.core.display.HTML object>"
      ]
     },
     "metadata": {},
     "output_type": "display_data"
    },
    {
     "data": {
      "text/html": [
       "<table><tr><td><img width=300 src=\"train2014/COCO_train2014_000000430144.jpg\" ></img></td><td><img width=300 src=\"train2014/COCO_train2014_000000148318.jpg\" ></img></td><td><img width=300 src=\"val2014/COCO_val2014_000000127455.jpg\" ></img></td><td><img width=300 src=\"val2014/COCO_val2014_000000522015.jpg\" ></img></td></tr><tr><td><ol><li>a blue and white fire hydrant on the sidewalk</li><li>a blue and white fire hydrant on the side of the street</li><li>a blue fire hydrant with a white top sits beside a road</li><li>a blue fire hydrant sits in the middle of a sidewalk</li><li>a blue and white fire hydrant sitting on top of a sidewalk</li></ol></td><td><ol><li>a fire hydrant in a city with water pouring out of both sides</li><li>a fire hydrant has water streaming out of two holes on its side</li><li>a green fire hydrant pouring water from two of its spouts</li><li>a fire hydrant that is open with water coming out of two holes</li><li>a fire hydrant with water pouring out of it</li></ol></td><td><ol><li>a fire hydrant next to a bush at a park</li><li>a parking meter on the side of a wooded street</li><li>a fire hydrant on a neighborhood street with trees and shrubs around it</li><li>a street corner with a blue fire hydrant</li><li>a scenic view of a wooded area with parking meter</li></ol></td><td><ol><li>a blue and pink fire hydrant spewing out water onto a street</li><li>a fire hydrant open spilling water onto the street</li><li>a pink faded fire hydrant with dirty water coming out of it</li><li>a fire hydrant is open with water coming out</li><li>open fire hydrant with warning cone in urban city setting</li></ol></td></tr><tr><td><img width=300 src=\"train2014/COCO_train2014_000000536884.jpg\" ></img></td></tr><tr><td><ol><li>a fire hydrant on the corner of a neighborhood street</li><li>a fire hydrant on the corner of a street</li><li>a yellow and green fire hydrant sitting on the side of a road</li><li>the fire hydrant is green and yellow</li><li>a fire hydrant sitting near a sign beside the street</li></ol></td></tr></table>"
      ],
      "text/plain": [
       "<IPython.core.display.HTML object>"
      ]
     },
     "metadata": {},
     "output_type": "display_data"
    },
    {
     "name": "stdout",
     "output_type": "stream",
     "text": [
      "\n"
     ]
    },
    {
     "data": {
      "text/html": [
       "<table><tr><td><img width=300 src=\"val2014/COCO_val2014_000000332654.jpg\" ></img></td><td><img width=300 src=\"val2014/COCO_val2014_000000332654.jpg\" ></img></td></tr><tr><td><ol><li>a yellow and blue fire hydrant sitting on the side of a road  -4.9590</li><li>a yellow fire hydrant sitting on the side of a road  -5.1579</li><li>a blue and yellow fire hydrant sitting on the side of a road  -5.4978</li><li>a yellow and blue fire hydrant on a sidewalk  -5.8938</li><li>a blue and yellow fire hydrant on a sidewalk  -6.5236</li><li>the fire hydrant is on the side of the road  -8.2083</li><li>a fire hydrant on a sidewalk next to a street  -8.2193</li><li>a yellow fire hydrant on a sidewalk next to a street  -8.2990</li><li>a fire hydrant on a sidewalk near a street  -8.3000</li><li>a yellow fire hydrant on a sidewalk near a street  -8.9389</li></ol></td><td><ol><li>a blue and yellow fire hydrant sitting on the side of a road  -1.7379</li><li>a blue and yellow fire hydrant on a sidewalk  -1.9939</li><li>a yellow and blue fire hydrant sitting on the side of a road  -2.1876</li><li>a yellow fire hydrant sitting on the side of a road  -2.2820</li><li>a yellow fire hydrant on a sidewalk near a street  -2.4456</li><li>a yellow fire hydrant on a sidewalk next to a street  -2.4725</li><li>a yellow and blue fire hydrant on a sidewalk  -2.5455</li><li>a fire hydrant on a sidewalk next to a street  -2.5564</li><li>the fire hydrant is on the side of the road  -2.5935</li><li>a fire hydrant on a sidewalk near a street  -2.6334</li></ol></td></tr></table>"
      ],
      "text/plain": [
       "<IPython.core.display.HTML object>"
      ]
     },
     "metadata": {},
     "output_type": "display_data"
    },
    {
     "data": {
      "text/html": [
       "<table><tr><td><img width=300 src=\"val2014/COCO_val2014_000000338560.jpg\" ></img></td><td><img width=300 src=\"train2014/COCO_train2014_000000532482.jpg\" ></img></td><td><img width=300 src=\"val2014/COCO_val2014_000000190664.jpg\" ></img></td><td><img width=300 src=\"train2014/COCO_train2014_000000316993.jpg\" ></img></td></tr><tr><td><ol><li>a blue fire hydrant posed on a street corner in a city</li><li>a blue water hydrant on a pavement near the road</li><li>a blue and yellow fire hydrant sitting on the sidewalk next to a quiet street</li><li>a blue and yellow fire hydrant on the side of a road</li><li>a fire hydrant on a sidewalk of a city</li></ol></td><td><ol><li>a green fire hydrant with three yellow concrete barriers around it</li><li>pavement level view of green hydrant near a street corner</li><li>a green fire hydrant surrounded by three yellow poles</li><li>a green fire hydrant sitting between three yellow post</li><li>a green fire hydrant and a bus on the road</li></ol></td><td><ol><li>a fire hydrant that is sitting on the sidewalk</li><li>an orange fire hydrant near the side of the street</li><li>an orange fire hydrant sitting at the side of the street</li><li>a fire hydrant on a sidewalk next to a street</li><li>a UNK hydrant on a side walk near a city street</li></ol></td><td><ol><li>a street intersection that has a traffic light and a direction sign on the corner along</li><li>there is a telescope in the middle of a street</li><li>a street sign near a traffic light pole</li><li>that is a picture of an outside region</li><li>a closeup of a telescope next to a street</li></ol></td></tr><tr><td><img width=300 src=\"train2014/COCO_train2014_000000336040.jpg\" ></img></td></tr><tr><td><ol><li>a fire hydrant is painted silver and blue</li><li>two fire hydrants that are by the street</li><li>two silver and blue fire hydrants side on either side of a road</li><li>silver and blue fire hydrants are placed parallel to each other</li><li>a fire hydrant is painted blue and grey</li></ol></td></tr></table>"
      ],
      "text/plain": [
       "<IPython.core.display.HTML object>"
      ]
     },
     "metadata": {},
     "output_type": "display_data"
    },
    {
     "name": "stdout",
     "output_type": "stream",
     "text": [
      "\n"
     ]
    },
    {
     "data": {
      "text/html": [
       "<table><tr><td><img width=300 src=\"val2014/COCO_val2014_000000176649.jpg\" ></img></td><td><img width=300 src=\"val2014/COCO_val2014_000000176649.jpg\" ></img></td></tr><tr><td><ol><li>a close up of a street sign with a sky background  -5.2408</li><li>a street sign that is on a pole  -9.8394</li><li>a street sign with a sticker on it  -10.0734</li><li>a street sign that says UNK and UNK  -11.1867</li><li>a street sign with a sign on it  -12.2090</li><li>a street sign with a sign that reads UNK  -13.1063</li><li>a sign that says UNK and UNK UNK  -13.5002</li><li>a street sign with a sign that says UNK  -13.5340</li><li>a street sign with a sticker of a man on it  -14.0173</li><li>a sign that says UNK UNK and a street  -15.6800</li></ol></td><td><ol><li>a sign that says UNK UNK and a street  -1.8236</li><li>a street sign with a sticker of a man on it  -2.0566</li><li>a sign that says UNK and UNK UNK  -2.0826</li><li>a close up of a street sign with a sky background  -2.1726</li><li>a street sign with a sticker on it  -2.3357</li><li>a street sign with a sign that says UNK  -2.3788</li><li>a street sign with a sign that reads UNK  -2.3977</li><li>a street sign that is on a pole  -2.7060</li><li>a street sign with a sign on it  -2.7338</li><li>a street sign that says UNK and UNK  -2.8123</li></ol></td></tr></table>"
      ],
      "text/plain": [
       "<IPython.core.display.HTML object>"
      ]
     },
     "metadata": {},
     "output_type": "display_data"
    },
    {
     "data": {
      "text/html": [
       "<table><tr><td><img width=300 src=\"val2014/COCO_val2014_000000136411.jpg\" ></img></td><td><img width=300 src=\"train2014/COCO_train2014_000000112207.jpg\" ></img></td><td><img width=300 src=\"train2014/COCO_train2014_000000037458.jpg\" ></img></td><td><img width=300 src=\"train2014/COCO_train2014_000000247547.jpg\" ></img></td></tr><tr><td><ol><li>a stop sign with graffiti on the UNK block of UNK street</li><li>a close up of a vandalized stop sign on a pole</li><li>a stop sign and street sign attached to a pole at an intersection</li><li>a stop sign on UNK street has graffiti</li><li>stop sign with intended UNK written in below it</li></ol></td><td><ol><li>a sign prohibiting bicycle parking with UNK of towing</li><li>a sign indicating that bicycle parking is not allowed</li><li>a red and white street sign stating no bicycle parking</li><li>a picture of a no bicycle parking sign</li><li>a street sign that tells UNK not to park</li></ol></td><td><ol><li>a black and white street sign that reads end bird</li><li>looking up at a street sign that reads end bird</li><li>sign on a street pole saying end bird</li><li>a street sign stands under some power lines</li><li>a sign on a post that reads end bird on it</li></ol></td><td><ol><li>a red stop sign with the word them under it</li><li>a one way sign is attached to a stop sign</li><li>a stop sign with the word stop them on it below a one way</li><li>a stop sign vandalized to read stop them</li><li>a street stop sign with a one way sign attached on top</li></ol></td></tr><tr><td><img width=300 src=\"train2014/COCO_train2014_000000389190.jpg\" ></img></td></tr><tr><td><ol><li>a red sign warning people about pedestrians UNK hit by a crossing guard</li><li>a round red danger railroad crossing sign with a red umbrella in the background</li><li>a warning sign about danger at a railroad crossing</li><li>a sign show that there is danger ahead</li><li>a red danger sign with a person on it</li></ol></td></tr></table>"
      ],
      "text/plain": [
       "<IPython.core.display.HTML object>"
      ]
     },
     "metadata": {},
     "output_type": "display_data"
    },
    {
     "name": "stdout",
     "output_type": "stream",
     "text": [
      "\n"
     ]
    }
   ],
   "source": [
    "K = 5\n",
    "for i in range(10):\n",
    "    caps = this_captions[i]\n",
    "#     this_s0_scores = this_log_probs[i]\n",
    "    seq = this_seq[i]\n",
    "    neighbor_batch = get_neighbor_batch(this_feats[i].numpy(), K, include_self=True, self_ix=this_ixs[i])\n",
    "    \n",
    "    # num_sampled_captions x (1+K)\n",
    "    cp_scores = cross_product_scores(\n",
    "        neighbor_batch['fc_feats'].cuda(),\n",
    "        neighbor_batch['att_feats'].cuda(), \n",
    "        neighbor_batch['att_masks'].cuda(),\n",
    "        this_seq[i].cuda()\n",
    "    )\n",
    "    this_s0_scores = cp_scores[:,0].detach().cpu().tolist()\n",
    "    \n",
    "    l1_scores = cp_scores.log_softmax(1)\n",
    "    s1_scores = l1_scores.log_softmax(0)\n",
    "    \n",
    "    this_s1_scores = s1_scores[:,0].detach().cpu().tolist()\n",
    "    \n",
    "    def make_strings(lps, caps):\n",
    "        scored_caps = sorted(list(zip(lps, caps)), reverse=True)\n",
    "        deduped_caps = [next(g) for k, g in groupby(scored_caps, lambda t: t[1])]\n",
    "        cap_strings = [\"{}  {:.4f}\".format(cap, lp) for lp, cap in deduped_caps]\n",
    "        return cap_strings\n",
    "    \n",
    "    display_images([this_paths[i], this_paths[i]], \n",
    "                   captions=[\n",
    "                       make_strings(this_s0_scores, caps)[:10],\n",
    "                       make_strings(this_s1_scores, caps)[:10],\n",
    "                   ])\n",
    "    display_neighbors(data['fc_feats'][i].numpy(), k=min(K, 12), num_per_row=4)\n",
    "    print()"
   ]
  }
 ],
 "metadata": {
  "kernelspec": {
   "display_name": "Python 3",
   "language": "python",
   "name": "python3"
  },
  "language_info": {
   "codemirror_mode": {
    "name": "ipython",
    "version": 3
   },
   "file_extension": ".py",
   "mimetype": "text/x-python",
   "name": "python",
   "nbconvert_exporter": "python",
   "pygments_lexer": "ipython3",
   "version": "3.7.9"
  }
 },
 "nbformat": 4,
 "nbformat_minor": 4
}
