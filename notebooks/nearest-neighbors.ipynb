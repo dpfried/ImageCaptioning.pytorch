{
 "cells": [
  {
   "cell_type": "code",
   "execution_count": 1,
   "metadata": {},
   "outputs": [
    {
     "data": {
      "text/html": [
       "<style>.container { width:100% !important; }</style>"
      ],
      "text/plain": [
       "<IPython.core.display.HTML object>"
      ]
     },
     "metadata": {},
     "output_type": "display_data"
    }
   ],
   "source": [
    "from IPython.core.display import display, HTML\n",
    "display(HTML(\"<style>.container { width:100% !important; }</style>\"))"
   ]
  },
  {
   "cell_type": "code",
   "execution_count": 2,
   "metadata": {},
   "outputs": [
    {
     "name": "stdout",
     "output_type": "stream",
     "text": [
      "/home/dfried/projects/ImageCaptioning.pytorch\n"
     ]
    }
   ],
   "source": [
    "cd /home/dfried/projects/ImageCaptioning.pytorch"
   ]
  },
  {
   "cell_type": "code",
   "execution_count": 3,
   "metadata": {},
   "outputs": [],
   "source": [
    "import sys"
   ]
  },
  {
   "cell_type": "code",
   "execution_count": 4,
   "metadata": {},
   "outputs": [],
   "source": [
    "sys.path.append(\"/home/dfried/projects/ImageCaptioning.pytorch\")"
   ]
  },
  {
   "cell_type": "code",
   "execution_count": 5,
   "metadata": {},
   "outputs": [],
   "source": [
    "import numpy as np\n",
    "import torch\n",
    "import einops"
   ]
  },
  {
   "cell_type": "code",
   "execution_count": 6,
   "metadata": {},
   "outputs": [],
   "source": [
    "import tqdm"
   ]
  },
  {
   "cell_type": "code",
   "execution_count": 7,
   "metadata": {},
   "outputs": [],
   "source": [
    "import pickle"
   ]
  },
  {
   "cell_type": "code",
   "execution_count": 8,
   "metadata": {},
   "outputs": [],
   "source": [
    "import argparse\n",
    "import captioning.utils.opts as opts\n",
    "import captioning.utils.misc as utils\n",
    "import captioning.models as models\n",
    "from captioning.utils import eval_utils"
   ]
  },
  {
   "cell_type": "code",
   "execution_count": 9,
   "metadata": {},
   "outputs": [],
   "source": [
    "from captioning.data.dataloader import DataLoader\n",
    "from captioning.data.dataloaderraw import DataLoaderRaw"
   ]
  },
  {
   "cell_type": "code",
   "execution_count": 10,
   "metadata": {},
   "outputs": [],
   "source": [
    "parser = argparse.ArgumentParser()\n",
    "opts.add_eval_options(parser)\n",
    "opts.add_diversity_opts(parser)"
   ]
  },
  {
   "cell_type": "code",
   "execution_count": 11,
   "metadata": {},
   "outputs": [],
   "source": [
    "opt = parser.parse_args([])"
   ]
  },
  {
   "cell_type": "code",
   "execution_count": 12,
   "metadata": {},
   "outputs": [
    {
     "data": {
      "text/plain": [
       "Namespace(batch_size=0, beam_size=1, block_trigrams=0, coco_json='', decoding_constraint=0, diversity_lambda=0.5, dump_images=1, dump_json=1, dump_path=0, eval_oracle=1, group_size=1, id='', image_folder='', image_root='', input_att_dir='', input_box_dir='', input_fc_dir='', input_json='', input_label_h5='', language_eval=0, length_penalty='', max_length=20, num_images=-1, remove_bad_endings=0, sample_method='greedy', sample_n=1, sample_n_method='sample', split='test', suppress_UNK=1, temperature=1.0, verbose_beam=1, verbose_loss=0)"
      ]
     },
     "execution_count": 12,
     "metadata": {},
     "output_type": "execute_result"
    }
   ],
   "source": [
    "opt"
   ]
  },
  {
   "cell_type": "code",
   "execution_count": 13,
   "metadata": {},
   "outputs": [],
   "source": [
    "model_fname = 'models/updown/model-best.pth'\n",
    "infos_fname = 'models/updown/infos_tds-best.pkl'"
   ]
  },
  {
   "cell_type": "code",
   "execution_count": 14,
   "metadata": {},
   "outputs": [
    {
     "data": {
      "text/plain": [
       "dict_keys(['vocab', 'opt', 'best_val_score', 'iter', 'iterators', 'epoch', 'split_ix'])"
      ]
     },
     "execution_count": 14,
     "metadata": {},
     "output_type": "execute_result"
    }
   ],
   "source": [
    "with open(infos_fname, 'rb') as f:\n",
    "    infos = utils.pickle_load(f)\n",
    "infos.keys()"
   ]
  },
  {
   "cell_type": "code",
   "execution_count": 15,
   "metadata": {},
   "outputs": [],
   "source": [
    "replace = ['input_fc_dir', 'input_att_dir', 'input_box_dir', 'input_label_h5', 'input_json', 'batch_size', 'id']\n",
    "ignore = ['start_from']\n",
    "\n",
    "for k in vars(infos['opt']).keys():\n",
    "    if k in replace:\n",
    "        setattr(opt, k, getattr(opt, k) or getattr(infos['opt'], k, ''))\n",
    "    elif k not in ignore:\n",
    "        if not k in vars(opt):\n",
    "            vars(opt).update({k: vars(infos['opt'])[k]}) # copy over options from model"
   ]
  },
  {
   "cell_type": "code",
   "execution_count": 16,
   "metadata": {},
   "outputs": [],
   "source": [
    "opt.vocab = infos['vocab']"
   ]
  },
  {
   "cell_type": "code",
   "execution_count": 17,
   "metadata": {},
   "outputs": [],
   "source": [
    "model = models.setup(opt)"
   ]
  },
  {
   "cell_type": "code",
   "execution_count": 18,
   "metadata": {},
   "outputs": [],
   "source": [
    "del opt.vocab"
   ]
  },
  {
   "cell_type": "code",
   "execution_count": 20,
   "metadata": {},
   "outputs": [],
   "source": [
    "CUDA = True"
   ]
  },
  {
   "cell_type": "code",
   "execution_count": 21,
   "metadata": {},
   "outputs": [
    {
     "data": {
      "text/plain": [
       "UpDownModel(\n",
       "  (embed): Sequential(\n",
       "    (0): Embedding(9488, 1000)\n",
       "    (1): ReLU()\n",
       "    (2): Dropout(p=0.5, inplace=False)\n",
       "  )\n",
       "  (fc_embed): Sequential(\n",
       "    (0): Linear(in_features=2048, out_features=1000, bias=True)\n",
       "    (1): ReLU()\n",
       "    (2): Dropout(p=0.5, inplace=False)\n",
       "  )\n",
       "  (att_embed): Sequential(\n",
       "    (0): Linear(in_features=2048, out_features=1000, bias=True)\n",
       "    (1): ReLU()\n",
       "    (2): Dropout(p=0.5, inplace=False)\n",
       "  )\n",
       "  (logit): Linear(in_features=1000, out_features=9488, bias=True)\n",
       "  (ctx2att): Linear(in_features=1000, out_features=512, bias=True)\n",
       "  (core): UpDownCore(\n",
       "    (att_lstm): LSTMCell(3000, 1000)\n",
       "    (lang_lstm): LSTMCell(2000, 1000)\n",
       "    (attention): Attention(\n",
       "      (h2att): Linear(in_features=1000, out_features=512, bias=True)\n",
       "      (alpha_net): Linear(in_features=512, out_features=1, bias=True)\n",
       "    )\n",
       "  )\n",
       ")"
      ]
     },
     "execution_count": 21,
     "metadata": {},
     "output_type": "execute_result"
    }
   ],
   "source": [
    "model.load_state_dict(torch.load(model_fname, map_location='cpu'))\n",
    "if CUDA:\n",
    "    model.cuda()\n",
    "model.eval()"
   ]
  },
  {
   "cell_type": "code",
   "execution_count": 22,
   "metadata": {},
   "outputs": [
    {
     "name": "stdout",
     "output_type": "stream",
     "text": [
      "DataLoader loading json file:  data/cocotalk.json\n",
      "vocab size is  9487\n",
      "DataLoader loading h5 file:  data/cocobu_fc data/cocobu_att data/cocotalk_box data/cocotalk_label.h5\n",
      "max sequence length in data is 16\n",
      "read 123287 image features\n",
      "assigned 113287 images to split train\n",
      "assigned 5000 images to split val\n",
      "assigned 5000 images to split test\n"
     ]
    }
   ],
   "source": [
    "loader = DataLoader(opt, shuffle_override=False, wrap_override=False)"
   ]
  },
  {
   "cell_type": "code",
   "execution_count": 23,
   "metadata": {},
   "outputs": [],
   "source": [
    "vocab = loader.get_vocab()"
   ]
  },
  {
   "cell_type": "code",
   "execution_count": 24,
   "metadata": {},
   "outputs": [],
   "source": [
    "PAD_ID = 0"
   ]
  },
  {
   "cell_type": "code",
   "execution_count": 25,
   "metadata": {},
   "outputs": [],
   "source": [
    "REGENERATE = False"
   ]
  },
  {
   "cell_type": "code",
   "execution_count": 26,
   "metadata": {},
   "outputs": [],
   "source": [
    "split = 'train'"
   ]
  },
  {
   "cell_type": "code",
   "execution_count": 27,
   "metadata": {},
   "outputs": [],
   "source": [
    "if REGENERATE:\n",
    "    ixs = []\n",
    "    ids = []\n",
    "    file_paths = []\n",
    "    features = []\n",
    "    captions = []\n",
    "\n",
    "    loader.reset_iterator(split)\n",
    "\n",
    "    for batch_ix in tqdm.trange(len(loader.loaders[split])):\n",
    "        data = loader.get_batch(split)\n",
    "        infos = data['infos']\n",
    "        ixs.extend([d['ix'] for d in infos])\n",
    "        ids.extend([d['id'] for d in infos])\n",
    "        file_paths.extend([d['file_path'] for d in infos])\n",
    "        features.append(data['fc_feats'])\n",
    "\n",
    "        batch_captions = []\n",
    "        for batch_labels in data['labels']:\n",
    "            instance_captions = []\n",
    "            for img_labels in batch_labels:\n",
    "                caption = [vocab[str(ix.item())] for ix in img_labels if ix != 0]\n",
    "                instance_captions.append(caption)\n",
    "            batch_captions.append(instance_captions)\n",
    "        captions.extend(batch_captions)\n",
    "    features_array = torch.cat(features, 0).numpy()"
   ]
  },
  {
   "cell_type": "code",
   "execution_count": 113,
   "metadata": {},
   "outputs": [],
   "source": [
    "def get_captions_from_batch(data):\n",
    "    batch_captions = []\n",
    "    for batch_labels in data['labels']:\n",
    "        instance_captions = []\n",
    "        for img_labels in batch_labels:\n",
    "            caption = [vocab[str(ix.item())] for ix in img_labels if ix != 0]\n",
    "            instance_captions.append(caption)\n",
    "        batch_captions.append(instance_captions)\n",
    "    return batch_captions"
   ]
  },
  {
   "cell_type": "code",
   "execution_count": 28,
   "metadata": {},
   "outputs": [],
   "source": [
    "fname = 'data/cocobu_fc/all_{}.pkl'.format(split)\n",
    "if REGENERATE:\n",
    "    with open(fname, 'wb') as f:\n",
    "        d = {\n",
    "            'ixs': ixs,\n",
    "            'ids': ids,\n",
    "            'file_paths': file_paths,\n",
    "            'features': features_array,\n",
    "            'captions': captions,\n",
    "        }\n",
    "        pickle.dump(d, f)\n",
    "else:\n",
    "    with open(fname, 'rb') as f:\n",
    "        d = pickle.load(f)\n",
    "    ixs, ids, file_paths, features_array, captions = d['ixs'], d['ids'], d['file_paths'], d['features'], d['captions']"
   ]
  },
  {
   "cell_type": "code",
   "execution_count": 29,
   "metadata": {},
   "outputs": [],
   "source": [
    "import faiss"
   ]
  },
  {
   "cell_type": "code",
   "execution_count": 30,
   "metadata": {},
   "outputs": [],
   "source": [
    "index = faiss.IndexFlatL2(2048)"
   ]
  },
  {
   "cell_type": "code",
   "execution_count": 31,
   "metadata": {},
   "outputs": [],
   "source": [
    "index.add(features_array)"
   ]
  },
  {
   "cell_type": "code",
   "execution_count": 32,
   "metadata": {},
   "outputs": [
    {
     "data": {
      "text/plain": [
       "113287"
      ]
     },
     "execution_count": 32,
     "metadata": {},
     "output_type": "execute_result"
    }
   ],
   "source": [
    "index.ntotal"
   ]
  },
  {
   "cell_type": "code",
   "execution_count": 33,
   "metadata": {},
   "outputs": [],
   "source": [
    "def wrap_tag(tag, inner):\n",
    "    return f'<{tag}>{inner}</{tag}>'\n",
    "\n",
    "def image_html(image_path, width=300, border=False):\n",
    "    if border:\n",
    "        style = ' style=\"border: 5px solid #0FF\" '\n",
    "    else:\n",
    "        style = ''\n",
    "    return f'<img width={width} src=\"{image_path}\" {style}></img>'\n",
    "\n",
    "def captions_html(captions):\n",
    "    #return wrap_tag('p', '<br>'.join(' '.join(cap) for cap in captions))\n",
    "    return wrap_tag('ol', ''.join(wrap_tag('li', cap) for cap in captions))\n",
    "\n",
    "def images_html(image_paths, width=300, num_per_row=5, target=None, captions=None):\n",
    "    rows = []\n",
    "    for ix in range(0, len(image_paths), num_per_row):\n",
    "        items = [wrap_tag('td', image_html(image_paths[image_ix], width=width, border=image_ix == target)) \n",
    "                 for image_ix in range(ix, ix+num_per_row) if image_ix < len(image_paths)]\n",
    "        rows.append(wrap_tag('tr', ''.join(items)))\n",
    "        if captions is not None:\n",
    "            cap_html = [\n",
    "                wrap_tag('td', captions_html(captions[image_ix]))\n",
    "                for image_ix in range(ix, ix+num_per_row)\n",
    "                if image_ix < len(image_paths)\n",
    "            ]\n",
    "            rows.append(wrap_tag('tr', ''.join(cap_html)))\n",
    "    return wrap_tag('table', ''.join(rows))\n",
    "\n",
    "def display_images(image_paths, width=300, num_per_row=5, target=None, captions=None):\n",
    "    display(HTML(images_html(image_paths, width=width, num_per_row=num_per_row, target=target, captions=captions)))"
   ]
  },
  {
   "cell_type": "code",
   "execution_count": 147,
   "metadata": {},
   "outputs": [],
   "source": [
    "def get_neighbor_batch(img_fc_feat, k, include_self=False, self_ix=None):\n",
    "    assert len(img_fc_feat.shape) == 1, \"should be the features for a single image\"\n",
    "    D, I = index.search(img_fc_feat[None], k)\n",
    "    n_images, k_ = D.shape\n",
    "    assert n_images == 1\n",
    "    indices = []\n",
    "    if include_self:\n",
    "        assert ix is not None\n",
    "        indices.append(ix)\n",
    "    indices.extend([ixs[i] for i in I.flatten()])\n",
    "    data = [loader.dataset[ix, 0, False] for ix in indices]\n",
    "    batch = loader.dataset.collate_func(data, 'train')\n",
    "    return batch"
   ]
  },
  {
   "cell_type": "code",
   "execution_count": 122,
   "metadata": {},
   "outputs": [],
   "source": [
    "def display_neighbors(features, k=5, num_per_row=5):\n",
    "    neighbor_batch = get_neighbor_batch(features.flatten(), k)\n",
    "    paths_k = [d['file_path'] for d in neighbor_batch['infos']]\n",
    "    captions_k = [[' '.join(c) for c in cs] for cs in get_captions_from_batch(neighbor_batch)]\n",
    "    display_images(paths_k, captions=captions_k, num_per_row=num_per_row)"
   ]
  },
  {
   "cell_type": "code",
   "execution_count": 127,
   "metadata": {},
   "outputs": [
    {
     "data": {
      "text/html": [
       "<table><tr><td><img width=300 src=\"val2014/COCO_val2014_000000318219.jpg\" ></img></td><td><img width=300 src=\"val2014/COCO_val2014_000000554625.jpg\" ></img></td><td><img width=300 src=\"train2014/COCO_train2014_000000445810.jpg\" ></img></td><td><img width=300 src=\"val2014/COCO_val2014_000000407121.jpg\" ></img></td></tr><tr><td><ol><li>a young boy standing in front of a computer keyboard</li><li>a little boy wearing headphones and looking at a computer monitor</li><li>he is listening intently to the computer at school</li><li>a young boy stares up at the computer monitor</li><li>a young kid with head phones on using a computer</li></ol></td><td><ol><li>a boy wearing headphones using one computer in a long row of computers</li><li>a little boy with earphones on listening to something</li><li>a group of people sitting at desk using computers</li><li>children sitting at computer stations on a long table</li><li>a small child wearing headphones plays on the computer</li></ol></td><td><ol><li>some small children playing on laptop games excited</li><li>two children work at a desk on laptop computers</li><li>two young ladies work on laptops on a white counter top</li><li>a little girl sitting in front of a laptop computer</li><li>two girls who are sitting in front of laptops</li></ol></td><td><ol><li>a man with glasses sitting at a desktop computer</li><li>two men at a computer playing game with headphones on</li><li>two men are wearing headphones and playing a computer game</li><li>two men are in the dark by a laptop computer</li><li>dark haired man playing a video game on computer</li></ol></td></tr><tr><td><img width=300 src=\"train2014/COCO_train2014_000000412657.jpg\" ></img></td><td><img width=300 src=\"train2014/COCO_train2014_000000356922.jpg\" ></img></td><td><img width=300 src=\"train2014/COCO_train2014_000000156471.jpg\" ></img></td><td><img width=300 src=\"val2014/COCO_val2014_000000467931.jpg\" ></img></td></tr><tr><td><ol><li>a man with a hoodie and headphones on in front of a computer</li><li>a person sitting in front of a laptop computer wearing glasses</li><li>a man with headphones sitting at a desk looking at a computer</li><li>a young man in a red sweatshirt is on the computer</li><li>a man is sitting at the computer desk with a laptop on it</li></ol></td><td><ol><li>people at a work bench table with laptops and other electronic equipment</li><li>two people on computers amongst a table full of debris</li><li>three people are working on two laptops</li><li>hands are at work at a table repairing laptop computers</li><li>a group of people sitting around a pair of laptops</li></ol></td><td><ol><li>a man holding a smart phone while standing next to a credit card reader</li><li>a man looking at something in his hands</li><li>a young man is at a workstation with a phone</li><li>an image of man that is looking at his cellphone</li><li>a young man is using a cell phone near electronics</li></ol></td><td><ol><li>two men sitting around a laptop looking at the screen</li><li>a man at a laptop with another looking on at his screen</li><li>two men stare intently at a computer screen while one works at the keyboard</li><li>two men at a desk working with a laptop computer</li><li>two people looking at a laptop on a desk</li></ol></td></tr></table>"
      ],
      "text/plain": [
       "<IPython.core.display.HTML object>"
      ]
     },
     "metadata": {},
     "output_type": "display_data"
    }
   ],
   "source": [
    "display_neighbors(features_array[1], k=8, num_per_row=4)"
   ]
  },
  {
   "cell_type": "code",
   "execution_count": 36,
   "metadata": {},
   "outputs": [],
   "source": [
    "loader.reset_iterator('val')"
   ]
  },
  {
   "cell_type": "code",
   "execution_count": 37,
   "metadata": {},
   "outputs": [],
   "source": [
    "data = loader.get_batch('val')"
   ]
  },
  {
   "cell_type": "code",
   "execution_count": 145,
   "metadata": {},
   "outputs": [],
   "source": [
    "this_feats = data['fc_feats']\n",
    "this_ixs = [d['ix'] for d in data['infos']]\n",
    "this_ids = [d['id'] for d in data['infos']]\n",
    "this_paths = [d['file_path'] for d in data['infos']]"
   ]
  },
  {
   "cell_type": "code",
   "execution_count": 39,
   "metadata": {},
   "outputs": [],
   "source": [
    "# this_pred_captions = []\n",
    "# for sent in seq:\n",
    "#     this_pred_captions.append([\n",
    "#         [model.vocab.get(str(ix.item()), 'IX_{}'.format(ix.item())) for ix in sent if ix.item() != 0]\n",
    "#     ])"
   ]
  },
  {
   "cell_type": "code",
   "execution_count": 40,
   "metadata": {},
   "outputs": [],
   "source": [
    "from itertools import groupby"
   ]
  },
  {
   "cell_type": "code",
   "execution_count": 41,
   "metadata": {},
   "outputs": [],
   "source": [
    "from IPython.core.debugger import set_trace"
   ]
  },
  {
   "cell_type": "code",
   "execution_count": 46,
   "metadata": {},
   "outputs": [],
   "source": [
    "def caption_scores(fc_feats, att_feats, att_masks, seq, add_bos=True):\n",
    "    if add_bos:\n",
    "        seq = torch.cat([torch.zeros(seq.size(0), 1).long().to(seq), seq], 1)\n",
    "    with torch.no_grad():\n",
    "        scores = model(fc_feats, att_feats, seq, att_masks)\n",
    "    mask = (seq[:,:-1] > 0) | (seq[:,1:] > 0)\n",
    "    # TODO: does this include the EOS score?\n",
    "    # seq_t: words input at each position, with 0 for pad\n",
    "    # seq_t: 0, w_0, w_1, w_2, ..., w_k, 0, ...\n",
    "    # mask : 1, 1  , 1  , 1  , 1  , 1  , 0, ...\n",
    "    # selected_scores: w_0 + ... + w_k\n",
    "#     return scores[:,:-1].gather(2, seq[:,1:].unsqueeze(2)).squeeze(2)\n",
    "    selected_scores = (scores[:,:-1].gather(2, seq[:,1:].unsqueeze(2)).squeeze(2) * mask)\n",
    "    return selected_scores"
   ]
  },
  {
   "cell_type": "code",
   "execution_count": 47,
   "metadata": {},
   "outputs": [],
   "source": [
    "def cross_product_scores(fc_feats, att_feats, att_masks, seq, add_bos=True):\n",
    "    n_captions = seq.size(0)\n",
    "    n_images = fc_feats.size(0)\n",
    "    assert att_feats.size(0) == n_images\n",
    "    assert att_masks.size(0) == n_images\n",
    "    fc_feats_t = fc_feats.unsqueeze(0).repeat_interleave(n_captions, dim=0)\n",
    "    att_feats_t = att_feats.unsqueeze(0).repeat_interleave(n_captions, dim=0)\n",
    "    att_masks_t = att_masks.unsqueeze(0).repeat_interleave(n_captions, dim=0)\n",
    "    \n",
    "    fc_feats_t = einops.rearrange(fc_feats_t, 'caps imgs d -> (caps imgs) d')\n",
    "    att_feats_t = einops.rearrange(att_feats_t, 'caps imgs obj d -> (caps imgs) obj d')\n",
    "    att_masks_t = einops.rearrange(att_masks_t, 'caps imgs obj -> (caps imgs) obj')\n",
    "    seq_t = seq.unsqueeze(1).repeat_interleave(n_images, dim=1)\n",
    "    seq_t = einops.rearrange(seq_t, 'caps imgs d -> (caps imgs) d')\n",
    "    \n",
    "    scores_per_timestep = caption_scores(fc_feats_t, att_feats_t, att_masks_t, seq_t, add_bos=add_bos)\n",
    "    scores = scores_per_timestep.sum(1)\n",
    "    scores = einops.rearrange(scores, '(caps imgs) -> caps imgs', caps=n_captions, imgs=n_images)\n",
    "    return scores"
   ]
  },
  {
   "cell_type": "code",
   "execution_count": 50,
   "metadata": {},
   "outputs": [],
   "source": [
    "bix = 1\n",
    "fc_feats_t = data['fc_feats'][bix].unsqueeze(0).repeat_interleave(sample_n, dim=0)\n",
    "att_feats_t = data['att_feats'][bix].unsqueeze(0).repeat_interleave(sample_n, dim=0)\n",
    "att_masks_t = data['att_masks'][bix].unsqueeze(0).repeat_interleave(sample_n, dim=0)\n",
    "seq_t = torch.stack(seq_by_id[this_ids[bix]], 0)"
   ]
  },
  {
   "cell_type": "code",
   "execution_count": 52,
   "metadata": {},
   "outputs": [],
   "source": [
    "cp_scores = cross_product_scores(\n",
    "    data['fc_feats'][bix].unsqueeze(0).cuda(),\n",
    "    data['att_feats'][bix].unsqueeze(0).cuda(),\n",
    "    data['att_masks'][bix].unsqueeze(0).cuda(),\n",
    "    torch.stack(seq_by_id[this_ids[bix]], 0).cuda(),\n",
    ")"
   ]
  },
  {
   "cell_type": "code",
   "execution_count": 53,
   "metadata": {},
   "outputs": [
    {
     "data": {
      "text/plain": [
       "torch.Size([100, 1])"
      ]
     },
     "execution_count": 53,
     "metadata": {},
     "output_type": "execute_result"
    }
   ],
   "source": [
    "cp_scores.size()"
   ]
  },
  {
   "cell_type": "code",
   "execution_count": 55,
   "metadata": {},
   "outputs": [],
   "source": [
    "# set_trace()\n",
    "selected_scores = caption_scores(fc_feats_t.cuda(), att_feats_t.cuda(), att_masks_t.cuda(), seq_t.cuda(), add_bos=True)"
   ]
  },
  {
   "cell_type": "code",
   "execution_count": 57,
   "metadata": {},
   "outputs": [
    {
     "data": {
      "text/plain": [
       "True"
      ]
     },
     "execution_count": 57,
     "metadata": {},
     "output_type": "execute_result"
    }
   ],
   "source": [
    "torch.allclose(selected_scores.sum(1), torch.tensor(log_prob_by_id[this_ids[bix]]).cuda())"
   ]
  },
  {
   "cell_type": "code",
   "execution_count": 67,
   "metadata": {},
   "outputs": [
    {
     "data": {
      "text/plain": [
       "True"
      ]
     },
     "execution_count": 67,
     "metadata": {},
     "output_type": "execute_result"
    }
   ],
   "source": [
    "torch.allclose(selected_scores.sum(1), cp_scores.flatten())"
   ]
  },
  {
   "cell_type": "code",
   "execution_count": 150,
   "metadata": {},
   "outputs": [
    {
     "name": "stdout",
     "output_type": "stream",
     "text": [
      "Automatic pdb calling has been turned ON\n"
     ]
    }
   ],
   "source": [
    "pdb on"
   ]
  },
  {
   "cell_type": "code",
   "execution_count": 172,
   "metadata": {},
   "outputs": [],
   "source": [
    "# set_trace()\n",
    "sample_n = 100\n",
    "input_data = data['fc_feats'].cuda(), data['att_feats'].cuda(), data['att_masks'].cuda(), data\n",
    "n_predictions = []\n",
    "eval_kwargs = {\n",
    "    'sample_n_method': 'top20',\n",
    "    'sample_n': sample_n,\n",
    "    'temperature': 0.25,\n",
    "    'verbose': False,\n",
    "}\n",
    "eval_utils.eval_split_n(model, n_predictions, input_data=input_data, eval_kwargs=eval_kwargs)\n",
    "captions_by_id = {}\n",
    "log_prob_by_id = {}\n",
    "seq_by_id = {}\n",
    "for k, ds in groupby(n_predictions, lambda d: d['image_id']):\n",
    "    ds = list(ds)\n",
    "    captions_by_id[k] = [d['caption'] for d in ds]\n",
    "    log_prob_by_id[k] = [d['log_prob'] for d in ds]\n",
    "    seq_by_id[k] = [d['seq'] for d in ds]\n",
    "this_captions = [\n",
    "    captions_by_id[id_]  for id_ in this_ids\n",
    "]\n",
    "this_log_probs = [\n",
    "    log_prob_by_id[id_] for id_ in this_ids\n",
    "]\n",
    "this_seq = [\n",
    "    torch.stack(seq_by_id[id_], 0) for id_ in this_ids\n",
    "]"
   ]
  },
  {
   "cell_type": "code",
   "execution_count": 173,
   "metadata": {
    "scrolled": false
   },
   "outputs": [
    {
     "data": {
      "text/html": [
       "<table><tr><td><img width=300 src=\"val2014/COCO_val2014_000000184613.jpg\" ></img></td><td><img width=300 src=\"val2014/COCO_val2014_000000184613.jpg\" ></img></td></tr><tr><td><ol><li>a person is a woman with a umbrella  -24.7715</li><li>a person with a hat and a horse in a field  -26.1781</li><li>a group of people with a large animal  -26.5000</li><li>a woman is standing in the middle of a field  -26.9216</li><li>a woman with a hat is holding a umbrella  -27.1677</li><li>a person is a a cow in a field  -27.3825</li><li>a person with a umbrella and a man with a hat  -27.8283</li><li>a group of people in a field with animals  -28.1359</li><li>a woman is holding a a in a field  -28.7658</li><li>a woman is holding a umbrella in a field  -28.7914</li></ol></td><td><ol><li>a person with a umbrella and a man with a hat  -3.2552</li><li>a woman with a hat is holding a umbrella  -3.2565</li><li>a woman with a umbrella and a child in the background  -3.2656</li><li>a woman is holding a a umbrella in the middle of a field  -3.2690</li><li>a woman with a umbrella and a child in a field  -3.2777</li><li>a person is a woman with a umbrella  -3.2795</li><li>a person with a hat and a horse in a field  -3.2810</li><li>a young boy is holding a a umbrella in a field  -3.2914</li><li>a woman with a umbrella and a a field  -3.2955</li><li>a young boy is holding a umbrella in a field  -3.3223</li></ol></td></tr></table>"
      ],
      "text/plain": [
       "<IPython.core.display.HTML object>"
      ]
     },
     "metadata": {},
     "output_type": "display_data"
    },
    {
     "data": {
      "text/html": [
       "<table><tr><td><img width=300 src=\"val2014/COCO_val2014_000000250804.jpg\" ></img></td></tr><tr><td><ol><li>bulls dogs and people all share the same street</li><li>a black and white cow standing in a market</li><li>two cows and two small dogs hang out in front a street market</li><li>two cows and two dogs and people at an open air market</li><li>two dogs and two cows are amongst people in a market</li></ol></td></tr></table>"
      ],
      "text/plain": [
       "<IPython.core.display.HTML object>"
      ]
     },
     "metadata": {},
     "output_type": "display_data"
    },
    {
     "name": "stdout",
     "output_type": "stream",
     "text": [
      "\n"
     ]
    },
    {
     "data": {
      "text/html": [
       "<table><tr><td><img width=300 src=\"val2014/COCO_val2014_000000403013.jpg\" ></img></td><td><img width=300 src=\"val2014/COCO_val2014_000000403013.jpg\" ></img></td></tr><tr><td><ol><li>a kitchen with a stove sink and a  -38.9223</li><li>a kitchen with a stove and a refrigerator  -38.9788</li><li>a kitchen with a stove and a sink  -39.5902</li><li>a kitchen with a sink and a stove  -39.8934</li><li>a small kitchen with a stove and sink  -40.6425</li><li>a kitchen with a stove and sink in it  -42.4259</li><li>a small kitchen with a sink stove and a  -43.3192</li><li>a kitchen with a white refrigerator and a stove  -44.4663</li><li>a kitchen with a stove sink and refrigerator  -45.6828</li><li>a kitchen with a stove sink and a stove  -46.3870</li></ol></td><td><ol><li>a kitchen with a stove sink and a  -0.9799</li><li>a kitchen with a stove and a refrigerator  -2.8873</li><li>a small kitchen with a stove and sink  -3.0006</li><li>a small kitchen with a sink stove and a  -3.0762</li><li>a kitchen with a stove and a sink  -4.0069</li><li>a kitchen with a sink and a stove  -4.7592</li><li>a kitchen with a white refrigerator and a stove  -5.1837</li><li>a kitchen with a stove and sink in it  -5.7590</li><li>a kitchen with a white stove and a white refrigerator  -8.3965</li><li>a kitchen with a stove sink and a stove  -8.4501</li></ol></td></tr></table>"
      ],
      "text/plain": [
       "<IPython.core.display.HTML object>"
      ]
     },
     "metadata": {},
     "output_type": "display_data"
    },
    {
     "data": {
      "text/html": [
       "<table><tr><td><img width=300 src=\"val2014/COCO_val2014_000000048910.jpg\" ></img></td></tr><tr><td><ol><li>a kitchen with a sink a shelf and a chair</li><li>an all white kitchen with a sink and stove</li><li>a kitchen with a shelf cabinets a sink and stove</li><li>a home kitchen with a door leading to the living room</li><li>a narrow kitchen with beams in the ceiling leads to a family room</li></ol></td></tr></table>"
      ],
      "text/plain": [
       "<IPython.core.display.HTML object>"
      ]
     },
     "metadata": {},
     "output_type": "display_data"
    },
    {
     "name": "stdout",
     "output_type": "stream",
     "text": [
      "\n"
     ]
    },
    {
     "data": {
      "text/html": [
       "<table><tr><td><img width=300 src=\"val2014/COCO_val2014_000000562150.jpg\" ></img></td><td><img width=300 src=\"val2014/COCO_val2014_000000562150.jpg\" ></img></td></tr><tr><td><ol><li>a woman holding a cat in a basket  -28.3589</li><li>a woman holding a cat on a leash  -28.5323</li><li>a woman holding a cat and a bicycle  -29.1850</li><li>a woman holding a cat and a a  -30.1537</li><li>a woman holding a cat in her hands  -31.4688</li><li>a woman holding a cat in her arms  -31.9383</li><li>a woman holding a baby in a arms  -32.0679</li><li>a woman holds a cat in her arms  -32.9392</li><li>a woman holding a cat and a dog  -33.0225</li><li>a woman holding a cat in her lap  -33.7553</li></ol></td><td><ol><li>a woman holding a cat and a bicycle  -0.1860</li><li>a woman holding a cat in a basket  -1.9174</li><li>a woman holding a small kitten in a basket  -5.0324</li><li>a woman holding a cat and a a  -5.2350</li><li>a woman holding a cat and a cat in a basket  -5.5424</li><li>a woman holding a cat in a basket on her lap  -6.3499</li><li>a woman holding a cat on a leash  -6.8700</li><li>a woman holding a baby in a arms  -8.5367</li><li>a woman holding a cat and a a dog  -8.9630</li><li>a woman holding a cat in her arms in front of a bicycle  -9.1674</li></ol></td></tr></table>"
      ],
      "text/plain": [
       "<IPython.core.display.HTML object>"
      ]
     },
     "metadata": {},
     "output_type": "display_data"
    },
    {
     "data": {
      "text/html": [
       "<table><tr><td><img width=300 src=\"train2014/COCO_train2014_000000277050.jpg\" ></img></td></tr><tr><td><ol><li>a young lady is looking on while petting an owl</li><li>animal keeper with owl perched on one arm</li><li>a woman holding and petting an owl on a lush green field</li><li>a woman holding an owl on her arm</li><li>a woman outside holding a small owl on her arm</li></ol></td></tr></table>"
      ],
      "text/plain": [
       "<IPython.core.display.HTML object>"
      ]
     },
     "metadata": {},
     "output_type": "display_data"
    },
    {
     "name": "stdout",
     "output_type": "stream",
     "text": [
      "\n"
     ]
    },
    {
     "data": {
      "text/html": [
       "<table><tr><td><img width=300 src=\"val2014/COCO_val2014_000000360772.jpg\" ></img></td><td><img width=300 src=\"val2014/COCO_val2014_000000360772.jpg\" ></img></td></tr><tr><td><ol><li>a bathroom with a toilet and a sink  -38.2843</li><li>a toilet in a bathroom with a wall  -38.6034</li><li>a bathroom with a toilet and a toilet  -40.4891</li><li>a toilet with a toilet and a sink  -41.5786</li><li>a bathroom with a toilet and a small sink  -42.6662</li><li>a small bathroom with a toilet and a toilet  -43.3413</li><li>a toilet in a bathroom next to a sink  -43.5103</li><li>a white toilet in a bathroom next to a wall  -44.5916</li><li>a toilet in a bathroom with a tile wall  -45.1341</li><li>a toilet with a toilet and a sink in it  -45.6993</li></ol></td><td><ol><li>a toilet in a bathroom with a wall  -0.4038</li><li>a bathroom with a toilet and a sink  -4.0447</li><li>a toilet with a toilet and a sink  -4.2839</li><li>a bathroom with a toilet and a small sink  -5.3289</li><li>a toilet is shown with a toilet and a sink  -5.4665</li><li>a toilet in a bathroom with a tile wall  -5.4744</li><li>a bathroom with a toilet and a toilet  -5.7245</li><li>a toilet with a toilet and a sink in it  -6.5518</li><li>a small bathroom with a toilet and a toilet  -7.6298</li><li>a toilet in a bathroom next to a sink  -8.2185</li></ol></td></tr></table>"
      ],
      "text/plain": [
       "<IPython.core.display.HTML object>"
      ]
     },
     "metadata": {},
     "output_type": "display_data"
    },
    {
     "data": {
      "text/html": [
       "<table><tr><td><img width=300 src=\"val2014/COCO_val2014_000000012323.jpg\" ></img></td></tr><tr><td><ol><li>a toilet and two rolls of toilet paper in a small room with ledge and window</li><li>a toilet inside a small bathroom being UNK</li><li>a bath room with a toilet and two rolls of toilet paper</li><li>the bathroom with a toilet having an unfinished wall behind it</li><li>a picture of a toilet seat with the lid up in an unfinished bathroom</li></ol></td></tr></table>"
      ],
      "text/plain": [
       "<IPython.core.display.HTML object>"
      ]
     },
     "metadata": {},
     "output_type": "display_data"
    },
    {
     "name": "stdout",
     "output_type": "stream",
     "text": [
      "\n"
     ]
    },
    {
     "data": {
      "text/html": [
       "<table><tr><td><img width=300 src=\"val2014/COCO_val2014_000000340559.jpg\" ></img></td><td><img width=300 src=\"val2014/COCO_val2014_000000340559.jpg\" ></img></td></tr><tr><td><ol><li>a small bathroom with a sink and a  -33.9481</li><li>a large sink in a large kitchen  -38.7090</li><li>a bathroom with a sink and a sink  -41.4140</li><li>a kitchen with a sink and a sink  -41.7821</li><li>a large kitchen with a stainless steel sink  -42.9061</li><li>a small kitchen with a sink and a sink  -43.1514</li><li>a large white sink in a large kitchen  -43.5843</li><li>a large bathroom with a sink and a sink  -43.8319</li><li>a large kitchen with a sink and a sink  -44.6087</li><li>a very small bathroom with a sink and a sink  -46.1798</li></ol></td><td><ol><li>a small bathroom with a sink and a  -0.0003</li><li>a very small bathroom with a sink and a sink  -9.7150</li><li>a modern bathroom with a white sink and a red wall  -10.1235</li><li>a bathroom with a sink and a sink  -10.6101</li><li>a large sink in a large bathroom with a red door  -10.8854</li><li>a large bathroom with a sink and a sink  -11.2730</li><li>a large sink in a large kitchen  -11.8519</li><li>a very large bathroom with a sink and a sink  -11.8809</li><li>a sink and a sink in a bathroom  -12.1449</li><li>a large sink with a sink and a sink  -13.4419</li></ol></td></tr></table>"
      ],
      "text/plain": [
       "<IPython.core.display.HTML object>"
      ]
     },
     "metadata": {},
     "output_type": "display_data"
    },
    {
     "data": {
      "text/html": [
       "<table><tr><td><img width=300 src=\"train2014/COCO_train2014_000000432201.jpg\" ></img></td></tr><tr><td><ol><li>clean stainless steel kitchen with large cabinets and counter</li><li>a small spotless and clean stainless steel kitchen</li><li>a stainless UNK kitchen with sinks and lots of storage</li><li>a restaurant kitchen stocked with stainless steel appliances</li><li>a kitchen with a sink ovens and dishes in it</li></ol></td></tr></table>"
      ],
      "text/plain": [
       "<IPython.core.display.HTML object>"
      ]
     },
     "metadata": {},
     "output_type": "display_data"
    },
    {
     "name": "stdout",
     "output_type": "stream",
     "text": [
      "\n"
     ]
    },
    {
     "data": {
      "text/html": [
       "<table><tr><td><img width=300 src=\"val2014/COCO_val2014_000000321107.jpg\" ></img></td><td><img width=300 src=\"val2014/COCO_val2014_000000321107.jpg\" ></img></td></tr><tr><td><ol><li>a woman riding a bike down the street  -16.9553</li><li>a woman riding a bike down a street  -17.9947</li><li>a woman riding a bike down a street next to a street  -23.3147</li><li>a woman riding a bike down a street next to a man  -24.8562</li><li>a woman riding a bike down a street next to a bike  -25.0222</li><li>a woman riding a bike down a street next to a bicycle  -26.8202</li><li>a woman riding a bicycle down a street next to a man  -27.0532</li><li>a woman riding a bike down a street next to a woman  -27.1616</li><li>a woman riding a bicycle down a street next to a bike  -27.3754</li></ol></td><td><ol><li>a woman riding a bike down the street  -1.7665</li><li>a woman riding a bike down a street  -3.1868</li><li>a woman riding a bike down a street next to a man  -4.6602</li><li>a woman riding a bicycle down a street next to a man  -5.3676</li><li>a woman riding a bike down a street next to a street  -6.2195</li><li>a woman riding a bike down a street next to a woman  -6.2873</li><li>a woman riding a bike down a street next to a bike  -6.8412</li><li>a woman riding a bicycle down a street next to a bike  -7.8685</li><li>a woman riding a bike down a street next to a bicycle  -8.3499</li></ol></td></tr></table>"
      ],
      "text/plain": [
       "<IPython.core.display.HTML object>"
      ]
     },
     "metadata": {},
     "output_type": "display_data"
    },
    {
     "data": {
      "text/html": [
       "<table><tr><td><img width=300 src=\"train2014/COCO_train2014_000000329755.jpg\" ></img></td></tr><tr><td><ol><li>a man on a bicycle stopped at an intersection</li><li>a man with an orange vest on a bicycle is at an intersection</li><li>a man in an orange vest riding a bike</li><li>man on bike smiling at camera while sitting in intersection</li><li>a man is riding his bike that has packages strapped to the back</li></ol></td></tr></table>"
      ],
      "text/plain": [
       "<IPython.core.display.HTML object>"
      ]
     },
     "metadata": {},
     "output_type": "display_data"
    },
    {
     "name": "stdout",
     "output_type": "stream",
     "text": [
      "\n"
     ]
    },
    {
     "data": {
      "text/html": [
       "<table><tr><td><img width=300 src=\"val2014/COCO_val2014_000000129001.jpg\" ></img></td><td><img width=300 src=\"val2014/COCO_val2014_000000129001.jpg\" ></img></td></tr><tr><td><ol><li>a bathroom with a toilet and a sink  -38.2843</li><li>a bathroom with a toilet and a shower  -41.6663</li><li>a bathroom with a tub and a sink  -43.0375</li><li>a bathroom with a sink and a shower  -43.2209</li><li>a bathroom with a shower and a sink  -45.6509</li><li>a bathroom with a tub and a shower  -46.1327</li><li>a bathroom with a bathtub and a shower  -47.9137</li><li>a bathroom with a shower toilet and sink  -47.9336</li><li>a bathroom with a shower curtain and a toilet  -51.2545</li><li>a bathroom with a sink and toilet and a shower  -51.8795</li></ol></td><td><ol><li>a bathroom with a tub and a sink  -2.5594</li><li>a bathroom with a tub and a shower  -3.0613</li><li>a bathroom with a sink and a shower  -4.2805</li><li>a bathroom with a toilet and a sink  -4.3276</li><li>a bathroom with a bathtub and a shower  -5.0024</li><li>a bathroom with a toilet and a shower  -5.3676</li><li>a bathroom with a shower and a sink  -7.5681</li><li>a bathroom with a shower curtain and a toilet  -9.2703</li><li>a bathroom with a shower curtain and a sink  -9.9595</li><li>a bathroom with a shower toilet and sink  -10.1178</li></ol></td></tr></table>"
      ],
      "text/plain": [
       "<IPython.core.display.HTML object>"
      ]
     },
     "metadata": {},
     "output_type": "display_data"
    },
    {
     "data": {
      "text/html": [
       "<table><tr><td><img width=300 src=\"train2014/COCO_train2014_000000037126.jpg\" ></img></td></tr><tr><td><ol><li>camera flash reflected in a mirror in a small tiled bathroom</li><li>flash from camera glares in the mirror above the toilet</li><li>a very small rest room with a toilet and sink</li><li>a bath room with a toilet a sink and a mirror</li><li>a person take a picture of a bathroom</li></ol></td></tr></table>"
      ],
      "text/plain": [
       "<IPython.core.display.HTML object>"
      ]
     },
     "metadata": {},
     "output_type": "display_data"
    },
    {
     "name": "stdout",
     "output_type": "stream",
     "text": [
      "\n"
     ]
    },
    {
     "data": {
      "text/html": [
       "<table><tr><td><img width=300 src=\"val2014/COCO_val2014_000000556616.jpg\" ></img></td><td><img width=300 src=\"val2014/COCO_val2014_000000556616.jpg\" ></img></td></tr><tr><td><ol><li>a parking meter sitting on the side of a road  -22.2553</li><li>a parking meter on the side of a street  -25.4413</li><li>a parking meter with a car in the background  -28.4582</li><li>a parking meter with a car parked on it  -30.3765</li><li>a parking meter with a car parked on the side of the road  -30.7128</li><li>a parking meter with a bunch of cars on it  -31.0611</li><li>a parking meter with a car parked on the side of it  -31.2554</li><li>a parking meter on a sidewalk next to a street  -31.5793</li><li>a parking meter is shown with cars on it  -31.8675</li><li>a parking meter with a car parked next to it  -32.1088</li></ol></td><td><ol><li>a parking meter with a car in the background  -0.8978</li><li>a parking meter with a car parked on the side of the road  -1.8912</li><li>a parking meter sitting on the side of a road  -1.9419</li><li>a parking meter with a car parked on the side of it  -2.8375</li><li>a parking meter with a car parked on it  -3.5139</li><li>a parking meter on the side of a street  -3.6486</li><li>a parking meter is shown in front of a car  -4.0199</li><li>a parking meter is shown with cars on it  -4.5903</li><li>a parking meter with a car parked on the street  -5.3067</li><li>a parking meter with a car parked in front of it  -5.5350</li></ol></td></tr></table>"
      ],
      "text/plain": [
       "<IPython.core.display.HTML object>"
      ]
     },
     "metadata": {},
     "output_type": "display_data"
    },
    {
     "data": {
      "text/html": [
       "<table><tr><td><img width=300 src=\"train2014/COCO_train2014_000000253528.jpg\" ></img></td></tr><tr><td><ol><li>a row of parking meters sitting next to parked cars</li><li>a row of parking meters along a road</li><li>a sidewalk with many parking meters going all the way down the street</li><li>a boy in red is walking past change meters</li><li>a city street lined with parking meters and parked cars</li></ol></td></tr></table>"
      ],
      "text/plain": [
       "<IPython.core.display.HTML object>"
      ]
     },
     "metadata": {},
     "output_type": "display_data"
    },
    {
     "name": "stdout",
     "output_type": "stream",
     "text": [
      "\n"
     ]
    },
    {
     "data": {
      "text/html": [
       "<table><tr><td><img width=300 src=\"val2014/COCO_val2014_000000472621.jpg\" ></img></td><td><img width=300 src=\"val2014/COCO_val2014_000000472621.jpg\" ></img></td></tr><tr><td><ol><li>a bathroom with a sink and a tub  -41.1858</li><li>a bathroom with a sink and a bathtub  -41.9194</li><li>a bathroom with a large tub and a large mirror  -42.5270</li><li>a bathroom with a tub and a sink  -43.0375</li><li>a bathroom with a large tub and a sink  -44.0381</li><li>a bathroom with a large mirror and a bathtub  -44.2123</li><li>a bathroom with a sink and bathtub in it  -44.9599</li><li>a bathroom with a tub and a sink in it  -45.9691</li><li>a bathroom with a sink tub and a mirror  -46.1609</li><li>a bathroom with a tub sink and mirror  -46.9045</li></ol></td><td><ol><li>a bathroom with a large tub and a large mirror  -1.6105</li><li>a bathroom with a sink and a tub  -3.2735</li><li>a bathroom with a large mirror and a bathtub  -3.4322</li><li>a bathroom with a large tub and a sink  -4.0986</li><li>a bathroom with a sink and a bathtub  -4.6236</li><li>a bathroom with a tub and a sink  -5.3396</li><li>a bathroom with a sink and bathtub in it  -5.9001</li><li>a bathroom with a sink tub and a mirror  -6.7377</li><li>a bathroom with a tub and a sink in it  -6.7702</li><li>a bathroom with a sink mirror and bathtub  -9.0348</li></ol></td></tr></table>"
      ],
      "text/plain": [
       "<IPython.core.display.HTML object>"
      ]
     },
     "metadata": {},
     "output_type": "display_data"
    },
    {
     "data": {
      "text/html": [
       "<table><tr><td><img width=300 src=\"train2014/COCO_train2014_000000515287.jpg\" ></img></td></tr><tr><td><ol><li>a white bathroom with a tub sink and mirror</li><li>a bathroom has a sink and bathtub and open door</li><li>a bathroom scene with photo taken above the bath tub</li><li>a bathroom with a sink and mirror and a bathtub</li><li>a bathroom has a sink and a tub</li></ol></td></tr></table>"
      ],
      "text/plain": [
       "<IPython.core.display.HTML object>"
      ]
     },
     "metadata": {},
     "output_type": "display_data"
    },
    {
     "name": "stdout",
     "output_type": "stream",
     "text": [
      "\n"
     ]
    },
    {
     "data": {
      "text/html": [
       "<table><tr><td><img width=300 src=\"val2014/COCO_val2014_000000364521.jpg\" ></img></td><td><img width=300 src=\"val2014/COCO_val2014_000000364521.jpg\" ></img></td></tr><tr><td><ol><li>a yellow fire hydrant sitting on top of a dirt road  -23.0894</li><li>a yellow fire hydrant sitting on top of a dirt field  -28.4946</li><li>a yellow fire hydrant sitting on top of a dirt ground  -30.2587</li><li>a yellow fire hydrant sitting on top of a pile of dirt  -30.2970</li><li>a yellow fire hydrant sitting on top of a sidewalk  -30.9152</li><li>a yellow fire hydrant with a red face on it  -35.7516</li><li>a yellow and green fire hydrant sitting on top of a dirt field  -36.2607</li><li>a yellow fire hydrant with a yellow face on it  -36.8840</li><li>a yellow fire hydrant next to a yellow fire hydrant  -37.1026</li><li>a yellow fire hydrant with a red and yellow hat  -37.8449</li></ol></td><td><ol><li>a yellow fire hydrant sitting on top of a dirt road  -0.7975</li><li>a yellow fire hydrant sitting on top of a dirt field  -4.8924</li><li>a yellow and green fire hydrant sitting on top of a dirt field  -5.5811</li><li>a yellow fire hydrant sitting on top of a dirt ground  -6.3418</li><li>a yellow fire hydrant sitting on top of a pile of dirt  -6.8982</li><li>a yellow fire hydrant with a red and yellow hat  -9.2386</li><li>a yellow fire hydrant with a red apple on top of it  -9.2887</li><li>a yellow fire hydrant with a red and yellow UNK  -11.0112</li><li>a yellow fire hydrant with a red and yellow toy  -11.5835</li><li>a yellow fire hydrant with a red and yellow frisbee  -12.0618</li></ol></td></tr></table>"
      ],
      "text/plain": [
       "<IPython.core.display.HTML object>"
      ]
     },
     "metadata": {},
     "output_type": "display_data"
    },
    {
     "data": {
      "text/html": [
       "<table><tr><td><img width=300 src=\"val2014/COCO_val2014_000000358345.jpg\" ></img></td></tr><tr><td><ol><li>a water hydrant on the side of the road</li><li>a dog s diaper is attached to a fire hydrant</li><li>a baby bib hangs on a yellow fire hydrant</li><li>yellow fire hydrant with a babys garment hanging on it</li><li>a fire hydrant with a piece of clothing draped over one edge</li></ol></td></tr></table>"
      ],
      "text/plain": [
       "<IPython.core.display.HTML object>"
      ]
     },
     "metadata": {},
     "output_type": "display_data"
    },
    {
     "name": "stdout",
     "output_type": "stream",
     "text": [
      "\n"
     ]
    }
   ],
   "source": [
    "K = 1\n",
    "for i in range(10):\n",
    "    caps = this_captions[i]\n",
    "#     this_s0_scores = this_log_probs[i]\n",
    "    seq = this_seq[i]\n",
    "    neighbor_batch = get_neighbor_batch(this_feats[i].numpy(), K, include_self=True, self_ix=this_ixs[i])\n",
    "    \n",
    "    # num_sampled_captions x (1+K)\n",
    "    cp_scores = cross_product_scores(\n",
    "        neighbor_batch['fc_feats'].cuda(),\n",
    "        neighbor_batch['att_feats'].cuda(), \n",
    "        neighbor_batch['att_masks'].cuda(),\n",
    "        this_seq[i].cuda()\n",
    "    )\n",
    "    this_s0_scores = cp_scores[:,0].detach().cpu().tolist()\n",
    "    \n",
    "    l1_scores = cp_scores.log_softmax(1)\n",
    "    s1_scores = l1_scores.log_softmax(0)\n",
    "    \n",
    "    this_s1_scores = s1_scores[:,0].detach().cpu().tolist()\n",
    "    \n",
    "    def make_strings(lps, caps):\n",
    "        scored_caps = sorted(list(zip(lps, caps)), reverse=True)\n",
    "        deduped_caps = [next(g) for k, g in groupby(scored_caps, lambda t: t[1])]\n",
    "        cap_strings = [\"{}  {:.4f}\".format(cap, lp) for lp, cap in deduped_caps]\n",
    "        return cap_strings\n",
    "    \n",
    "    display_images([this_paths[i], this_paths[i]], \n",
    "                   captions=[\n",
    "                       make_strings(this_s0_scores, caps)[:10],\n",
    "                       make_strings(this_s1_scores, caps)[:10],\n",
    "                   ])\n",
    "    display_neighbors(data['fc_feats'][i].numpy(), k=min(K, 12), num_per_row=4)\n",
    "    print()"
   ]
  },
  {
   "cell_type": "code",
   "execution_count": 66,
   "metadata": {
    "scrolled": true
   },
   "outputs": [
    {
     "data": {
      "text/html": [
       "<table><tr><td><img width=300 src=\"val2014/COCO_val2014_000000184613.jpg\" ></img></td></tr><tr><td><ol><li>a woman is standing in the middle of a field with a herd of cows  -18.4205</li><li>a woman is a a field with a bunch of cows  -17.4574</li><li>a woman is a a field with a herd of cattle  -17.2435</li><li>a woman is holding a a umbrella in a field  -17.2175</li><li>a woman is holding a a umbrella in a field  -17.2175</li><li>a woman is a a field with a herd of cows  -17.1366</li><li>a woman is a a field with a herd of cows  -17.1366</li><li>a woman is a a field with a herd of cows  -17.1366</li><li>a woman is a a field with a herd of cows  -17.1366</li><li>a woman is a a field with a herd of cows  -17.1366</li><li>a woman is a a field with a herd of cows  -17.1366</li><li>a woman is a a field with a herd of cows  -17.1366</li><li>a woman is a a field with a herd of cows  -17.1366</li><li>a woman is a a field with a herd of cows  -17.1366</li><li>a woman is a a field with a herd of cows  -17.1366</li><li>a woman is holding a a goat in a field  -16.5684</li><li>a woman is holding a a goat in a field  -16.5684</li><li>a woman is holding a a goat in a field  -16.5684</li><li>a woman is holding a a goat in a field  -16.5684</li><li>a woman is holding a a goat in a field  -16.5684</li><li>a woman is holding a a goat in a field  -16.5684</li><li>a woman with a umbrella and a goat in a field  -16.5486</li><li>a woman is holding a a cow in a field  -16.1530</li><li>a woman is holding a a cow in a field  -16.1530</li><li>a woman is holding a a cow in a field  -16.1530</li><li>a woman is holding a a cow in a field  -16.1530</li><li>a woman is holding a a cow in a field  -16.1530</li><li>a woman is holding a a cow in a field  -16.1530</li><li>a woman is holding a a cow in a field  -16.1530</li><li>a woman is holding a a cow in a field  -16.1530</li><li>a woman is holding a a cow in a field  -16.1530</li><li>a woman is a a field with a cow  -16.1336</li><li>a woman is a a field with a cow  -16.1336</li><li>a woman is a a field with a cow  -16.1336</li><li>a woman with a umbrella and a cow in a field  -16.0932</li><li>a woman with a hat and a goat in a field  -15.8064</li><li>a woman with a hat and a goat in a field  -15.8064</li><li>a woman is holding a a in a field  -15.7982</li><li>a woman is standing in a field with a herd of cows  -15.3634</li><li>a woman is standing in a field with a herd of cows  -15.3634</li><li>a woman is standing in a field with a bull  -14.4210</li><li>a woman is standing in a field with a cow  -14.0149</li><li>a woman is standing in a field with a cow  -14.0149</li><li>a woman is standing in a field with a cow  -14.0149</li><li>a woman is standing in a field with a cow  -14.0149</li><li>a woman is standing in a field with a cow  -14.0149</li><li>a woman is standing in a field with a cow  -14.0149</li><li>a woman is standing in a field with a cow  -14.0149</li><li>a woman is standing in a field with a cow  -14.0149</li><li>a woman is standing in a field with a cow  -14.0149</li><li>a woman is standing in a field with a cow  -14.0149</li><li>a woman is standing in a field with a cow  -14.0149</li><li>a woman is standing in a field with a cow  -14.0149</li><li>a woman is standing in a field with a cow  -14.0149</li><li>a woman is standing in a field with a cow  -14.0149</li><li>a woman is standing in a field with a cow  -14.0149</li><li>a woman is standing in a field with a cow  -14.0149</li><li>a woman is standing in a field with a cow  -14.0149</li><li>a woman is standing in a field with a cow  -14.0149</li><li>a woman is standing in a field with a cow  -14.0149</li><li>a woman is standing in a field with a cow  -14.0149</li><li>a woman is standing in a field with a cow  -14.0149</li><li>a woman is standing in a field with a cow  -14.0149</li><li>a woman is standing in a field with a cow  -14.0149</li><li>a woman is standing in a field with a cow  -14.0149</li><li>a woman is standing in a field with a cow  -14.0149</li><li>a woman is standing in a field with a cow  -14.0149</li><li>a woman is standing in a field with a cow  -14.0149</li><li>a woman is standing in a field with a cow  -14.0149</li><li>a woman is standing in a field with a cow  -14.0149</li><li>a woman is standing in a field with a cow  -14.0149</li><li>a woman is standing in a field with a cow  -14.0149</li><li>a woman is holding a umbrella in a field  -13.8720</li><li>a woman is holding a umbrella in a field  -13.8720</li><li>a woman is holding a umbrella in a field  -13.8720</li><li>a woman is holding a umbrella in a field  -13.8720</li><li>a woman is holding a umbrella in a field  -13.8720</li><li>a woman is holding a umbrella in a field  -13.8720</li><li>a woman is holding a umbrella in a field  -13.8720</li><li>a woman is holding a umbrella in a field  -13.8720</li><li>a woman is holding a umbrella in a field  -13.8720</li><li>a woman is holding a umbrella in a field  -13.8720</li><li>a woman is holding a umbrella in a field  -13.8720</li><li>a woman is holding a umbrella in a field  -13.8720</li><li>a woman is holding a umbrella in a field  -13.8720</li><li>a woman is holding a umbrella in a field  -13.8720</li><li>a woman is holding a umbrella in a field  -13.8720</li><li>a woman is holding a umbrella in a field  -13.8720</li><li>a woman is holding a umbrella in a field  -13.8720</li><li>a woman is holding a umbrella in a field  -13.8720</li><li>a woman is holding a umbrella in a field  -13.8720</li><li>a woman is holding a umbrella in a field  -13.8720</li><li>a woman is holding a umbrella in a field  -13.8720</li><li>a woman is holding a umbrella in a field  -13.8720</li><li>a woman is holding a umbrella in a field  -13.8720</li><li>a woman is holding a umbrella in a field  -13.8720</li><li>a woman is holding a umbrella in a field  -13.8720</li><li>a woman is holding a umbrella in a field  -13.8720</li><li>a woman is holding a cow in a field  -13.2469</li><li>a woman is standing next to a herd of cattle  -12.5150</li></ol></td></tr></table>"
      ],
      "text/plain": [
       "<IPython.core.display.HTML object>"
      ]
     },
     "metadata": {},
     "output_type": "display_data"
    },
    {
     "data": {
      "text/html": [
       "<table><tr><td><img width=300 src=\"val2014/COCO_val2014_000000250804.jpg\" ></img></td><td><img width=300 src=\"train2014/COCO_train2014_000000433662.jpg\" ></img></td><td><img width=300 src=\"train2014/COCO_train2014_000000020966.jpg\" ></img></td><td><img width=300 src=\"train2014/COCO_train2014_000000063043.jpg\" ></img></td></tr><tr><td><ol><li>bulls dogs and people all share the same street</li><li>a black and white cow standing in a market</li><li>two cows and two small dogs hang out in front a street market</li><li>two cows and two dogs and people at an open air market</li><li>two dogs and two cows are amongst people in a market</li></ol></td><td><ol><li>two people standing next to two huge elephants</li><li>two elephants standing near two people with mountains background</li><li>two elephants in the foreground and people in a dirt field</li><li>3 saddled elephants and people in a dirt field</li><li>there are two people standing near two elephants</li></ol></td><td><ol><li>a herd of bulls walking through a town guided by men</li><li>a herd of cattle is pushed through a street past people and vendors</li><li>cows walking in a row down an indian street</li><li>a herd of cattle being led down a dirt road</li><li>a bunch of cows are standing in a pin</li></ol></td><td><ol><li>a huge crowd of people gathered around small tents and livestock</li><li>a very large festival in a rural country with man leading cattle</li><li>a crowd of people standing around a herd of cows</li><li>a man pulling two cows by ropes with a lot of people gathered together</li><li>UNK and animals standing around a campground near a city</li></ol></td></tr></table>"
      ],
      "text/plain": [
       "<IPython.core.display.HTML object>"
      ]
     },
     "metadata": {},
     "output_type": "display_data"
    },
    {
     "name": "stdout",
     "output_type": "stream",
     "text": [
      "\n"
     ]
    },
    {
     "data": {
      "text/html": [
       "<table><tr><td><img width=300 src=\"val2014/COCO_val2014_000000403013.jpg\" ></img></td></tr><tr><td><ol><li>a kitchen with a white stove top oven next to a stove top oven  -9.2088</li><li>a kitchen with a white stove top oven next to a stove  -8.7764</li><li>a kitchen with a white stove top oven next to a stove  -8.7764</li><li>a kitchen with a white stove top oven next to a stove  -8.7764</li><li>a kitchen with a white stove top oven next to a stove  -8.7764</li><li>a kitchen with a white stove top oven next to a stove  -8.7764</li><li>a kitchen with a white stove top oven next to a stove  -8.7764</li><li>a kitchen with a white stove top oven next to a stove  -8.7764</li><li>a kitchen with a white stove top oven next to a stove  -8.7764</li><li>a kitchen with a white stove top oven next to a stove  -8.7764</li><li>a kitchen with a white stove top oven next to a stove  -8.7764</li><li>a kitchen with a white stove top oven next to a stove  -8.7764</li><li>a kitchen with a white stove top oven next to a stove  -8.7764</li><li>a kitchen with a white stove top oven next to a stove  -8.7764</li><li>a kitchen with a white stove top oven next to a stove  -8.7764</li><li>a kitchen with a white stove top oven next to a stove  -8.7764</li><li>a kitchen with a white stove top oven next to a sink  -8.3284</li><li>a kitchen with a white stove top oven next to a sink  -8.3284</li><li>a kitchen with a white stove top oven next to a sink  -8.3284</li><li>a kitchen with a stove sink and refrigerator  -8.1132</li><li>a kitchen with a stove a sink and a stove  -7.6983</li><li>a kitchen with a stove a sink and a stove  -7.6983</li><li>a kitchen with a stove a sink and a stove  -7.6983</li><li>a kitchen with a stove a sink and a stove  -7.6983</li><li>a kitchen with a stove a sink and a stove  -7.6983</li><li>a kitchen with a stove a sink and a stove  -7.6983</li><li>a kitchen with a stove a sink and a stove  -7.6983</li><li>a kitchen with a stove a sink and a stove  -7.6983</li><li>a kitchen with a stove a sink and a stove  -7.6983</li><li>a kitchen with a stove a sink and a stove  -7.6983</li><li>a kitchen with a stove a sink and a stove  -7.6983</li><li>a kitchen with a stove a sink and a stove  -7.6983</li><li>a kitchen with a stove a sink and a stove  -7.6983</li><li>a kitchen with a stove a sink and a stove  -7.6983</li><li>a kitchen with a stove a sink and a stove  -7.6983</li><li>a kitchen with a stove a sink and a stove  -7.6983</li><li>a kitchen with a stove a sink and a stove  -7.6983</li><li>a kitchen with a stove and a sink  -7.4287</li><li>a kitchen with a stove and a sink  -7.4287</li><li>a kitchen with a stove and a sink  -7.4287</li><li>a kitchen with a stove and a sink  -7.4287</li><li>a kitchen with a stove and a sink  -7.4287</li><li>a kitchen with a stove and a sink  -7.4287</li><li>a kitchen with a stove and a sink  -7.4287</li><li>a kitchen with a stove and a sink  -7.4287</li><li>a kitchen with a stove and a sink  -7.4287</li><li>a kitchen with a stove and a sink  -7.4287</li><li>a kitchen with a stove and a sink  -7.4287</li><li>a kitchen with a stove and a sink  -7.4287</li><li>a kitchen with a stove and a sink  -7.4287</li><li>a kitchen with a stove and a sink  -7.4287</li><li>a kitchen with a stove and a sink  -7.4287</li><li>a kitchen with a stove and a sink  -7.4287</li><li>a kitchen with a stove and a sink  -7.4287</li><li>a kitchen with a stove and a sink  -7.4287</li><li>a kitchen with a stove and a sink  -7.4287</li><li>a kitchen with a stove and a sink  -7.4287</li><li>a kitchen with a stove and a sink  -7.4287</li><li>a kitchen with a stove and a sink  -7.4287</li><li>a kitchen with a stove and a sink  -7.4287</li><li>a kitchen with a stove and a sink  -7.4287</li><li>a kitchen with a stove and a sink  -7.4287</li><li>a kitchen with a stove and a sink  -7.4287</li><li>a kitchen with a stove and a sink  -7.4287</li><li>a kitchen with a stove and a sink  -7.4287</li><li>a kitchen with a stove and a sink  -7.4287</li><li>a kitchen with a stove and a sink  -7.4287</li><li>a kitchen with a stove and a sink  -7.4287</li><li>a kitchen with a stove and a sink  -7.4287</li><li>a kitchen with a stove and a sink  -7.4287</li><li>a kitchen with a stove and a sink  -7.4287</li><li>a kitchen with a stove and a sink  -7.4287</li><li>a kitchen with a stove and a sink  -7.4287</li><li>a kitchen with a stove and a sink  -7.4287</li><li>a kitchen with a stove and a sink  -7.4287</li><li>a kitchen with a stove and a sink  -7.4287</li><li>a kitchen with a stove and a sink  -7.4287</li><li>a kitchen with a stove and a sink  -7.4287</li><li>a kitchen with a stove and a sink  -7.4287</li><li>a kitchen with a stove and a sink  -7.4287</li><li>a kitchen with a stove and a sink  -7.4287</li><li>a kitchen with a stove and a sink  -7.4287</li><li>a kitchen with a stove and a sink  -7.4287</li><li>a kitchen with a stove and a sink  -7.4287</li><li>a kitchen with a white stove top oven  -6.8686</li><li>a kitchen with a white stove top oven  -6.8686</li><li>a kitchen with a white stove top oven  -6.8686</li><li>a kitchen with a white stove top oven  -6.8686</li><li>a kitchen with a white stove top oven  -6.8686</li><li>a kitchen with a white stove top oven  -6.8686</li><li>a kitchen with a white stove top oven  -6.8686</li><li>a kitchen with a white stove top oven  -6.8686</li><li>a kitchen with a white stove top oven  -6.8686</li><li>a kitchen with a white stove top oven  -6.8686</li><li>a kitchen with a white stove top oven  -6.8686</li><li>a kitchen with a white stove top oven  -6.8686</li><li>a kitchen with a white stove top oven  -6.8686</li><li>a kitchen with a white stove top oven  -6.8686</li><li>a kitchen with a white stove top oven  -6.8686</li><li>a kitchen with a white stove top oven  -6.8686</li></ol></td></tr></table>"
      ],
      "text/plain": [
       "<IPython.core.display.HTML object>"
      ]
     },
     "metadata": {},
     "output_type": "display_data"
    },
    {
     "data": {
      "text/html": [
       "<table><tr><td><img width=300 src=\"val2014/COCO_val2014_000000048910.jpg\" ></img></td><td><img width=300 src=\"train2014/COCO_train2014_000000266273.jpg\" ></img></td><td><img width=300 src=\"train2014/COCO_train2014_000000229962.jpg\" ></img></td><td><img width=300 src=\"train2014/COCO_train2014_000000332202.jpg\" ></img></td></tr><tr><td><ol><li>a kitchen with a sink a shelf and a chair</li><li>an all white kitchen with a sink and stove</li><li>a kitchen with a shelf cabinets a sink and stove</li><li>a home kitchen with a door leading to the living room</li><li>a narrow kitchen with beams in the ceiling leads to a family room</li></ol></td><td><ol><li>a toddler in a kitchen trying to use a vacuum cleaner</li><li>a mom and a kid in a green kitchen</li><li>a toddler standing around in a kitchen with his mom at the door</li><li>a small boy standing in a kitchen next to a counter</li><li>a mother and baby in the kitchen next to a cabinet and oven</li></ol></td><td><ol><li>a woman standing next to a kitchen sink</li><li>w woman is at the sink in a clean kitchen</li><li>a woman is standing in a kitchen next to the sink</li><li>bright kitchen with woman doing something at the sink</li><li>a person in a very big kitchen by the sink</li></ol></td><td><ol><li>a kitchen filled with appliances and dishes on counters</li><li>a somewhat disorganized looking kitchen with old wooden flooring</li><li>some of the cabinets in the kitchen were left open</li><li>a kitchen has white cabinets and a wood floor</li><li>an l shaped white kitchen with green marble counter tops gets plenty of natural light from</li></ol></td></tr></table>"
      ],
      "text/plain": [
       "<IPython.core.display.HTML object>"
      ]
     },
     "metadata": {},
     "output_type": "display_data"
    },
    {
     "name": "stdout",
     "output_type": "stream",
     "text": [
      "\n"
     ]
    },
    {
     "data": {
      "text/html": [
       "<table><tr><td><img width=300 src=\"val2014/COCO_val2014_000000562150.jpg\" ></img></td></tr><tr><td><ol><li>a woman holding a cat and a dog  -10.6636</li><li>a woman holding a cat and a dog  -10.6636</li><li>a woman holding a cat and a dog  -10.6636</li><li>a woman holding a cat and a dog  -10.6636</li><li>a woman holding a cat and a dog  -10.6636</li><li>a woman holding a cat and a dog  -10.6636</li><li>a woman holding a cat in her lap  -8.9127</li><li>a woman holding a cat in her lap  -8.9127</li><li>a woman holding a cat in her lap  -8.9127</li><li>a woman holding a cat in her lap  -8.9127</li><li>a woman holding a cat in her lap  -8.9127</li><li>a woman holding a cat in her lap  -8.9127</li><li>a woman holding a cat in her lap  -8.9127</li><li>a woman holding a cat in her lap  -8.9127</li><li>a woman holding a cat in her lap  -8.9127</li><li>a woman holding a cat in her lap  -8.9127</li><li>a woman holding a cat in her lap  -8.9127</li><li>a woman holding a cat in her lap  -8.9127</li><li>a woman holding a cat in her lap  -8.9127</li><li>a woman holding a cat in her lap  -8.9127</li><li>a woman holding a cat in her lap  -8.9127</li><li>a woman holding a cat in her lap  -8.9127</li><li>a woman holding a cat in her lap  -8.9127</li><li>a woman holding a cat in her lap  -8.9127</li><li>a woman holding a cat in her hands  -8.4598</li><li>a woman holding a cat in her hands  -8.4598</li><li>a woman holding a cat in her arms  -8.3452</li><li>a woman holding a cat in her arms  -8.3452</li><li>a woman holding a cat in her arms  -8.3452</li><li>a woman holding a cat in her arms  -8.3452</li><li>a woman holding a cat in her arms  -8.3452</li><li>a woman holding a cat in her arms  -8.3452</li><li>a woman holding a cat in her arms  -8.3452</li><li>a woman holding a cat in her arms  -8.3452</li><li>a woman holding a cat in her arms  -8.3452</li><li>a woman holding a cat in her arms  -8.3452</li><li>a woman holding a cat in her arms  -8.3452</li><li>a woman holding a cat in her arms  -8.3452</li><li>a woman holding a cat in her arms  -8.3452</li><li>a woman holding a cat in her arms  -8.3452</li><li>a woman holding a cat in her arms  -8.3452</li><li>a woman holding a cat in her arms  -8.3452</li><li>a woman holding a cat in her arms  -8.3452</li><li>a woman holding a cat in her arms  -8.3452</li><li>a woman holding a cat in her arms  -8.3452</li><li>a woman holding a cat in her arms  -8.3452</li><li>a woman holding a cat in her arms  -8.3452</li><li>a woman holding a cat in her arms  -8.3452</li><li>a woman holding a cat in her arms  -8.3452</li><li>a woman holding a cat in her arms  -8.3452</li><li>a woman holding a cat in her arms  -8.3452</li><li>a woman holding a cat in her arms  -8.3452</li><li>a woman holding a cat in her arms  -8.3452</li><li>a woman holding a cat in her arms  -8.3452</li><li>a woman holding a cat in her arms  -8.3452</li><li>a woman holding a cat in her arms  -8.3452</li><li>a woman holding a cat in her arms  -8.3452</li><li>a woman holding a cat in her arms  -8.3452</li><li>a woman holding a cat in her arms  -8.3452</li><li>a woman holding a cat in her arms  -8.3452</li><li>a woman holding a cat in her arms  -8.3452</li><li>a woman holding a cat in her arms  -8.3452</li><li>a woman holding a cat in her arms  -8.3452</li><li>a woman holding a cat in her arms  -8.3452</li><li>a woman holding a cat in her arms  -8.3452</li><li>a woman holding a cat in her arms  -8.3452</li><li>a woman holding a cat in her arms  -8.3452</li><li>a woman holding a cat in her arms  -8.3452</li><li>a woman holding a cat in her arms  -8.3452</li><li>a woman holding a cat in her arms  -8.3452</li><li>a woman holding a cat in her arms  -8.3452</li><li>a woman holding a cat in her arms  -8.3452</li><li>a woman holding a cat in her arms  -8.3452</li><li>a woman holding a cat in her arms  -8.3452</li><li>a woman holding a cat in her arms  -8.3452</li><li>a woman holding a cat in her arms  -8.3452</li><li>a woman holding a cat in her arms  -8.3452</li><li>a woman holding a cat in her arms  -8.3452</li><li>a woman holding a cat in her arms  -8.3452</li><li>a woman holding a cat in her arms  -8.3452</li><li>a woman holding a cat in her arms  -8.3452</li><li>a woman holding a cat in her arms  -8.3452</li><li>a woman holding a cat in her arms  -8.3452</li><li>a woman holding a cat in her arms  -8.3452</li><li>a woman holding a cat in her arms  -8.3452</li><li>a woman holding a cat in her arms  -8.3452</li><li>a woman holding a cat in her arms  -8.3452</li><li>a woman holding a cat in her arms  -8.3452</li><li>a woman holding a cat in her arms  -8.3452</li><li>a woman holding a cat in her arms  -8.3452</li><li>a woman holding a cat in her arms  -8.3452</li><li>a woman holding a cat in her arms  -8.3452</li><li>a woman holding a cat in her arms  -8.3452</li><li>a woman holding a cat in her arms  -8.3452</li><li>a woman holding a cat in her arms  -8.3452</li><li>a woman holding a cat in her arms  -8.3452</li><li>a woman holding a cat in her arms  -8.3452</li><li>a woman holding a cat in her arms  -8.3452</li><li>a woman holding a cat in her arms  -8.3452</li><li>a woman holding a cat in her arms  -8.3452</li></ol></td></tr></table>"
      ],
      "text/plain": [
       "<IPython.core.display.HTML object>"
      ]
     },
     "metadata": {},
     "output_type": "display_data"
    },
    {
     "data": {
      "text/html": [
       "<table><tr><td><img width=300 src=\"train2014/COCO_train2014_000000277050.jpg\" ></img></td><td><img width=300 src=\"train2014/COCO_train2014_000000184937.jpg\" ></img></td><td><img width=300 src=\"train2014/COCO_train2014_000000478675.jpg\" ></img></td><td><img width=300 src=\"val2014/COCO_val2014_000000361217.jpg\" ></img></td></tr><tr><td><ol><li>a young lady is looking on while petting an owl</li><li>animal keeper with owl perched on one arm</li><li>a woman holding and petting an owl on a lush green field</li><li>a woman holding an owl on her arm</li><li>a woman outside holding a small owl on her arm</li></ol></td><td><ol><li>a woman is petting a cat and drinking coffee</li><li>a woman sitting on steps petting a cat</li><li>a woman sitting and holding a cup while petting a cat</li><li>a woman holding a beverage petting a cat</li><li>a woman sitting on steps outside is petting a cat</li></ol></td><td><ol><li>a guy holds a cat who is wearing antlers</li><li>man holding a cat that is wearing a costume</li><li>a man is holding a cat in his hands</li><li>a man holding onto a cat and a plant</li><li>there is a man holding a cat but theres something on the cat</li></ol></td><td><ol><li>a couple of pretty young ladies holding kittens</li><li>girls holding kittens while they are being pet</li><li>two women hold cats while others pet the cats</li><li>girls holding kittens in an outdoor space</li><li>girls holding up small white and grey kittens together</li></ol></td></tr></table>"
      ],
      "text/plain": [
       "<IPython.core.display.HTML object>"
      ]
     },
     "metadata": {},
     "output_type": "display_data"
    },
    {
     "name": "stdout",
     "output_type": "stream",
     "text": [
      "\n"
     ]
    },
    {
     "data": {
      "text/html": [
       "<table><tr><td><img width=300 src=\"val2014/COCO_val2014_000000360772.jpg\" ></img></td></tr><tr><td><ol><li>a toilet with a toilet paper roll and a toilet paper roll  -15.4081</li><li>a toilet with a toilet and a toilet paper roll  -12.8076</li><li>a toilet with a toilet and a toilet paper roll  -12.8076</li><li>a toilet with a toilet and a toilet paper roll  -12.8076</li><li>a toilet with a toilet and a toilet paper roll  -12.8076</li><li>a toilet with a toilet and a toilet paper roll  -12.8076</li><li>a toilet with a toilet and a toilet paper roll  -12.8076</li><li>a toilet with a toilet and a toilet paper roll  -12.8076</li><li>a toilet with a toilet and a toilet paper roll  -12.8076</li><li>a toilet with a toilet and a toilet paper roll  -12.8076</li><li>a toilet with a toilet and a toilet paper roll  -12.8076</li><li>a toilet with a toilet and a toilet paper roll  -12.8076</li><li>a toilet with a toilet and a toilet paper roll  -12.8076</li><li>a toilet with a toilet and a toilet paper roll  -12.8076</li><li>a toilet with a toilet and a toilet paper roll  -12.8076</li><li>a toilet with a toilet and a toilet paper roll  -12.8076</li><li>a toilet with a toilet and a toilet paper roll  -12.8076</li><li>a toilet with a toilet and a toilet paper roll  -12.8076</li><li>a toilet in a bathroom with a toilet paper roll  -12.5193</li><li>a toilet in a bathroom with a toilet paper roll  -12.5193</li><li>a toilet in a bathroom with a toilet paper roll  -12.5193</li><li>a toilet in a bathroom with a toilet paper dispenser  -12.3496</li><li>a toilet in a bathroom with a toilet paper dispenser  -12.3496</li><li>a toilet in a bathroom with a toilet paper dispenser  -12.3496</li><li>a toilet in a bathroom with a toilet paper dispenser  -12.3496</li><li>a toilet in a bathroom with a toilet paper dispenser  -12.3496</li><li>a toilet in a bathroom with a toilet paper dispenser  -12.3496</li><li>a toilet in a bathroom with a toilet paper dispenser  -12.3496</li><li>a toilet in a bathroom with a toilet paper dispenser  -12.3496</li><li>a toilet in a bathroom with a toilet paper dispenser  -12.3496</li><li>a toilet in a bathroom with a white toilet  -11.9636</li><li>a toilet in a bathroom with a white toilet  -11.9636</li><li>a toilet with a toilet and a sink  -11.5867</li><li>a bathroom with a toilet and a toilet paper roll  -9.1417</li><li>a bathroom with a toilet and a toilet paper roll  -9.1417</li><li>a bathroom with a toilet and a toilet paper roll  -9.1417</li><li>a bathroom with a toilet and a toilet paper roll  -9.1417</li><li>a bathroom with a toilet and a toilet paper roll  -9.1417</li><li>a bathroom with a toilet and a toilet paper roll  -9.1417</li><li>a bathroom with a toilet and a toilet paper roll  -9.1417</li><li>a bathroom with a toilet and a toilet paper roll  -9.1417</li><li>a bathroom with a toilet and a toilet paper roll  -9.1417</li><li>a bathroom with a toilet and a toilet paper roll  -9.1417</li><li>a bathroom with a toilet and a toilet paper roll  -9.1417</li><li>a bathroom with a toilet and a toilet paper roll  -9.1417</li><li>a bathroom with a toilet and a toilet paper roll  -9.1417</li><li>a bathroom with a toilet and a toilet paper roll  -9.1417</li><li>a bathroom with a toilet and a toilet paper roll  -9.1417</li><li>a bathroom with a toilet and a toilet paper roll  -9.1417</li><li>a bathroom with a toilet and a toilet paper roll  -9.1417</li><li>a bathroom with a toilet and a toilet paper roll  -9.1417</li><li>a bathroom with a toilet and a toilet paper roll  -9.1417</li><li>a bathroom with a toilet and a toilet paper roll  -9.1417</li><li>a bathroom with a toilet and a toilet paper roll  -9.1417</li><li>a bathroom with a toilet and a toilet paper roll  -9.1417</li><li>a bathroom with a toilet and a toilet paper roll  -9.1417</li><li>a bathroom with a toilet and a toilet paper roll  -9.1417</li><li>a bathroom with a toilet and a toilet paper roll  -9.1417</li><li>a bathroom with a toilet and a toilet paper roll  -9.1417</li><li>a bathroom with a toilet and a toilet paper roll  -9.1417</li><li>a bathroom with a toilet and a toilet paper roll  -9.1417</li><li>a bathroom with a toilet and a toilet paper roll  -9.1417</li><li>a bathroom with a toilet and a toilet paper roll  -9.1417</li><li>a bathroom with a toilet and a toilet paper roll  -9.1417</li><li>a bathroom with a toilet and a toilet paper roll  -9.1417</li><li>a bathroom with a toilet and a toilet paper roll  -9.1417</li><li>a bathroom with a toilet and a toilet paper roll  -9.1417</li><li>a bathroom with a toilet and a toilet paper roll  -9.1417</li><li>a bathroom with a toilet and a toilet paper roll  -9.1417</li><li>a bathroom with a toilet and a toilet paper roll  -9.1417</li><li>a bathroom with a toilet and a toilet paper roll  -9.1417</li><li>a bathroom with a toilet and a toilet paper roll  -9.1417</li><li>a bathroom with a toilet and a toilet paper roll  -9.1417</li><li>a bathroom with a toilet and a toilet paper roll  -9.1417</li><li>a bathroom with a toilet and a toilet paper roll  -9.1417</li><li>a bathroom with a toilet and a toilet paper roll  -9.1417</li><li>a bathroom with a toilet and a toilet paper roll  -9.1417</li><li>a bathroom with a toilet and a toilet paper roll  -9.1417</li><li>a bathroom with a toilet and a toilet paper roll  -9.1417</li><li>a bathroom with a toilet and a toilet paper roll  -9.1417</li><li>a bathroom with a toilet and a toilet paper roll  -9.1417</li><li>a bathroom with a toilet and a toilet paper roll  -9.1417</li><li>a bathroom with a toilet and a toilet paper roll  -9.1417</li><li>a bathroom with a toilet and a toilet paper roll  -9.1417</li><li>a bathroom with a toilet and a toilet paper roll  -9.1417</li><li>a bathroom with a toilet and a toilet paper roll  -9.1417</li><li>a bathroom with a toilet and a toilet paper roll  -9.1417</li><li>a bathroom with a toilet and a toilet paper roll  -9.1417</li><li>a bathroom with a toilet and a toilet paper roll  -9.1417</li><li>a bathroom with a toilet and a toilet paper roll  -9.1417</li><li>a bathroom with a toilet and a toilet paper roll  -9.1417</li><li>a bathroom with a toilet and a toilet paper roll  -9.1417</li><li>a bathroom with a toilet and a toilet paper roll  -9.1417</li><li>a bathroom with a toilet and a toilet paper roll  -9.1417</li><li>a bathroom with a toilet and a toilet paper roll  -9.1417</li><li>a bathroom with a toilet and a toilet paper roll  -9.1417</li><li>a bathroom with a toilet and a toilet paper roll  -9.1417</li><li>a bathroom with a toilet and a toilet paper roll  -9.1417</li><li>a bathroom with a toilet and a toilet paper roll  -9.1417</li><li>a bathroom with a toilet and a sink  -8.0460</li></ol></td></tr></table>"
      ],
      "text/plain": [
       "<IPython.core.display.HTML object>"
      ]
     },
     "metadata": {},
     "output_type": "display_data"
    },
    {
     "data": {
      "text/html": [
       "<table><tr><td><img width=300 src=\"val2014/COCO_val2014_000000012323.jpg\" ></img></td><td><img width=300 src=\"train2014/COCO_train2014_000000386560.jpg\" ></img></td><td><img width=300 src=\"train2014/COCO_train2014_000000567179.jpg\" ></img></td><td><img width=300 src=\"train2014/COCO_train2014_000000208754.jpg\" ></img></td></tr><tr><td><ol><li>a toilet and two rolls of toilet paper in a small room with ledge and window</li><li>a toilet inside a small bathroom being UNK</li><li>a bath room with a toilet and two rolls of toilet paper</li><li>the bathroom with a toilet having an unfinished wall behind it</li><li>a picture of a toilet seat with the lid up in an unfinished bathroom</li></ol></td><td><ol><li>a bathroom with a toilet a roll of UNK and a counter with a missing cabinet</li><li>a bathroom with a toilet and sink sitting on a tiled floor</li><li>a toilet in a bathroom that is being remodeled</li><li>a bathroom toilet with a mirror above and toilet roll</li><li>a single roll of toilet paper sits on top of the toilet tank</li></ol></td><td><ol><li>a bathroom with a toilet sink and toilet paper roll</li><li>a toilet a cabinet a sink a mirror and tan tiles</li><li>a small bathroom with a sink and a toilet</li><li>a bathroom displays a toilet and a sink</li><li>a bathroom with a toilet bowl and sink</li></ol></td><td><ol><li>a young man laying on top of a white toilet seat near a sink</li><li>a toddler playing near the toilet in a bathroom</li><li>a toddler is leaning against a closed toilet</li><li>a little boy playing with a toilet</li><li>a bath room with a toilet and a child on the toilet</li></ol></td></tr></table>"
      ],
      "text/plain": [
       "<IPython.core.display.HTML object>"
      ]
     },
     "metadata": {},
     "output_type": "display_data"
    },
    {
     "name": "stdout",
     "output_type": "stream",
     "text": [
      "\n"
     ]
    },
    {
     "data": {
      "text/html": [
       "<table><tr><td><img width=300 src=\"val2014/COCO_val2014_000000340559.jpg\" ></img></td></tr><tr><td><ol><li>a very clean bathroom with a sink and a sink  -13.2240</li><li>a very small bathroom with a sink and a sink  -12.4419</li><li>a large kitchen with a sink and a sink  -10.5665</li><li>a large kitchen with a sink and a sink  -10.5665</li><li>a large kitchen with a sink and a sink  -10.5665</li><li>a large kitchen with a sink and a sink  -10.5665</li><li>a large kitchen with a sink and a sink  -10.5665</li><li>a large kitchen with a sink and a sink  -10.5665</li><li>a large kitchen with a sink and a sink  -10.5665</li><li>a large kitchen with a sink and a sink  -10.5665</li><li>a large kitchen with a sink and a sink  -10.5665</li><li>a large kitchen with a sink and a sink  -10.5665</li><li>a large kitchen with a sink and a sink  -10.5665</li><li>a large kitchen with a sink and a sink  -10.5665</li><li>a large kitchen with a sink and a sink  -10.5665</li><li>a large kitchen with a sink and a sink  -10.5665</li><li>a large kitchen with a sink and a sink  -10.5665</li><li>a large kitchen with a sink and a sink  -10.5665</li><li>a large kitchen with a sink and a sink  -10.5665</li><li>a large kitchen with a sink and a sink  -10.5665</li><li>a large kitchen with a sink and a sink  -10.5665</li><li>a large kitchen with a sink and a sink  -10.5665</li><li>a large kitchen with a sink and a sink  -10.5665</li><li>a large kitchen with a sink and a sink  -10.5665</li><li>a large kitchen with a sink and a sink  -10.5665</li><li>a large kitchen with a sink and a sink  -10.5665</li><li>a large kitchen with a sink and a sink  -10.5665</li><li>a large kitchen with a sink and a sink  -10.5665</li><li>a large kitchen with a sink and a sink  -10.5665</li><li>a large kitchen with a sink and a sink  -10.5665</li><li>a large kitchen with a sink and a sink  -10.5665</li><li>a large kitchen with a sink and a sink  -10.5665</li><li>a large kitchen with a sink and a sink  -10.5665</li><li>a large kitchen with a sink and a sink  -10.5665</li><li>a large kitchen with a sink and a sink  -10.5665</li><li>a large kitchen with a sink and a sink  -10.5665</li><li>a large kitchen with a sink and a sink  -10.5665</li><li>a large kitchen with a sink and a sink  -10.5665</li><li>a large kitchen with a sink and a sink  -10.5665</li><li>a large kitchen with a sink and a sink  -10.5665</li><li>a large kitchen with a sink and a sink  -10.5665</li><li>a large kitchen with a sink and a sink  -10.5665</li><li>a large kitchen with a sink and a sink  -10.5665</li><li>a large kitchen with a sink and a sink  -10.5665</li><li>a large stainless steel sink in a kitchen  -9.7204</li><li>a large stainless steel sink in a kitchen  -9.7204</li><li>a large stainless steel sink in a kitchen  -9.7204</li><li>a large stainless steel sink in a kitchen  -9.7204</li><li>a large stainless steel sink in a kitchen  -9.7204</li><li>a large stainless steel sink in a kitchen  -9.7204</li><li>a large stainless steel sink in a kitchen  -9.7204</li><li>a large stainless steel sink in a kitchen  -9.7204</li><li>a large stainless steel sink in a kitchen  -9.7204</li><li>a large stainless steel sink in a kitchen  -9.7204</li><li>a large stainless steel sink in a kitchen  -9.7204</li><li>a kitchen with a sink and a sink  -7.9142</li><li>a kitchen with a sink and a sink  -7.9142</li><li>a kitchen with a sink and a sink  -7.9142</li><li>a kitchen with a sink and a sink  -7.9142</li><li>a kitchen with a sink and a sink  -7.9142</li><li>a kitchen with a sink and a sink  -7.9142</li><li>a kitchen with a sink and a sink  -7.9142</li><li>a kitchen with a sink and a sink  -7.9142</li><li>a kitchen with a sink and a sink  -7.9142</li><li>a kitchen with a sink and a sink  -7.9142</li><li>a kitchen with a sink and a sink  -7.9142</li><li>a kitchen with a sink and a sink  -7.9142</li><li>a kitchen with a sink and a sink  -7.9142</li><li>a kitchen with a sink and a sink  -7.9142</li><li>a kitchen with a sink and a sink  -7.9142</li><li>a kitchen with a sink and a sink  -7.9142</li><li>a kitchen with a sink and a sink  -7.9142</li><li>a kitchen with a sink and a sink  -7.9142</li><li>a kitchen with a sink and a sink  -7.9142</li><li>a kitchen with a sink and a sink  -7.9142</li><li>a kitchen with a sink and a sink  -7.9142</li><li>a kitchen with a sink and a sink  -7.9142</li><li>a kitchen with a sink and a sink  -7.9142</li><li>a kitchen with a sink and a sink  -7.9142</li><li>a kitchen with a sink and a sink  -7.9142</li><li>a kitchen with a sink and a sink  -7.9142</li><li>a kitchen with a sink and a sink  -7.9142</li><li>a kitchen with a sink and a sink  -7.9142</li><li>a kitchen with a sink and a sink  -7.9142</li><li>a kitchen with a sink and a sink  -7.9142</li><li>a kitchen with a sink and a sink  -7.9142</li><li>a kitchen with a sink and a sink  -7.9142</li><li>a kitchen with a sink and a sink  -7.9142</li><li>a kitchen with a sink and a sink  -7.9142</li><li>a kitchen with a sink and a sink  -7.9142</li><li>a kitchen with a sink and a sink  -7.9142</li><li>a kitchen with a sink and a sink  -7.9142</li><li>a kitchen with a sink and a sink  -7.9142</li><li>a kitchen with a sink and a sink  -7.9142</li><li>a kitchen with a sink and a sink  -7.9142</li><li>a kitchen with a sink and a sink  -7.9142</li><li>a kitchen with a sink and a sink  -7.9142</li><li>a kitchen with a sink and a sink  -7.9142</li><li>a kitchen with a sink and a sink  -7.9142</li><li>a kitchen with a sink and a sink  -7.9142</li></ol></td></tr></table>"
      ],
      "text/plain": [
       "<IPython.core.display.HTML object>"
      ]
     },
     "metadata": {},
     "output_type": "display_data"
    },
    {
     "data": {
      "text/html": [
       "<table><tr><td><img width=300 src=\"train2014/COCO_train2014_000000432201.jpg\" ></img></td><td><img width=300 src=\"val2014/COCO_val2014_000000042568.jpg\" ></img></td><td><img width=300 src=\"val2014/COCO_val2014_000000229311.jpg\" ></img></td><td><img width=300 src=\"val2014/COCO_val2014_000000078266.jpg\" ></img></td></tr><tr><td><ol><li>clean stainless steel kitchen with large cabinets and counter</li><li>a small spotless and clean stainless steel kitchen</li><li>a stainless UNK kitchen with sinks and lots of storage</li><li>a restaurant kitchen stocked with stainless steel appliances</li><li>a kitchen with a sink ovens and dishes in it</li></ol></td><td><ol><li>large shower sectional of a bathroom in a brown and white photograph</li><li>a open shower stall that has a robe next to it</li><li>a bathroom with a stand up shower and tub</li><li>a bathroom with a tub next to a fancy shower stall</li><li>a walk in shower sitting next to a bath tub</li></ol></td><td><ol><li>a stainless steel kitchen sink on a black granite countertop</li><li>a kitchen with a sink on a counter top</li><li>a kitchen with a sink near a window</li><li>a kitchen area with a large stainless steel sink</li><li>an empty kitchen sink underneath a window on the counter</li></ol></td><td><ol><li>kitchen utensils and appliances have been left unattended</li><li>a work room that looks like a dry UNK</li><li>the cramped interior of a passenger ships kitchen</li><li>a room with a bunch of stainless steel items and other accessories</li><li>a clean industrial kitchen with no one in it</li></ol></td></tr></table>"
      ],
      "text/plain": [
       "<IPython.core.display.HTML object>"
      ]
     },
     "metadata": {},
     "output_type": "display_data"
    },
    {
     "name": "stdout",
     "output_type": "stream",
     "text": [
      "\n"
     ]
    },
    {
     "data": {
      "text/html": [
       "<table><tr><td><img width=300 src=\"val2014/COCO_val2014_000000321107.jpg\" ></img></td></tr><tr><td><ol><li>a woman riding a bike down a street next to a man  -7.8015</li><li>a woman riding a bike down a street next to a man  -7.8015</li><li>a woman riding a bike down a street next to a man  -7.8015</li><li>a woman riding a bike down a street next to a man  -7.8015</li><li>a woman riding a bike down a street next to a man  -7.8015</li><li>a woman riding a bike down a street next to a man  -7.8015</li><li>a woman riding a bike down a street next to a man  -7.8015</li><li>a woman riding a bike down a street next to a man  -7.8015</li><li>a woman riding a bike down a street next to a man  -7.8015</li><li>a woman riding a bike down a street next to a man  -7.8015</li><li>a woman riding a bike down a street next to a man  -7.8015</li><li>a woman riding a bike down a street next to a man  -7.8015</li><li>a woman riding a bike down a street next to a man  -7.8015</li><li>a woman riding a bike down a street next to a man  -7.8015</li><li>a woman riding a bike down a street next to a man  -7.8015</li><li>a woman riding a bike down a street next to a man  -7.8015</li><li>a woman riding a bike down a street next to a man  -7.8015</li><li>a woman riding a bike down a street next to a man  -7.8015</li><li>a woman riding a bike down a street next to a man  -7.8015</li><li>a woman riding a bike down a street next to a man  -7.8015</li><li>a woman riding a bike down a street next to a man  -7.8015</li><li>a woman riding a bike down a street next to a man  -7.8015</li><li>a woman riding a bike down a street next to a man  -7.8015</li><li>a woman riding a bike down a street next to a man  -7.8015</li><li>a woman riding a bike down a street next to a man  -7.8015</li><li>a woman riding a bike down a street next to a man  -7.8015</li><li>a woman riding a bike down a street next to a man  -7.8015</li><li>a woman riding a bike down a street next to a man  -7.8015</li><li>a woman riding a bike down a street next to a man  -7.8015</li><li>a woman riding a bike down a street next to a man  -7.8015</li><li>a woman riding a bike down a street next to a man  -7.8015</li><li>a woman riding a bike down a street next to a man  -7.8015</li><li>a woman riding a bike down a street next to a man  -7.8015</li><li>a woman riding a bike down a street next to a man  -7.8015</li><li>a woman riding a bike down a street next to a man  -7.8015</li><li>a woman riding a bike down a street next to a man  -7.8015</li><li>a woman riding a bike down a street next to a man  -7.8015</li><li>a woman riding a bike down a street next to a man  -7.8015</li><li>a woman riding a bike down a street next to a man  -7.8015</li><li>a woman riding a bike down a street next to a man  -7.8015</li><li>a woman riding a bike down a street next to a man  -7.8015</li><li>a woman riding a bike down a street next to a man  -7.8015</li><li>a woman riding a bike down a street next to a man  -7.8015</li><li>a woman riding a bike down a street next to a man  -7.8015</li><li>a woman riding a bike down a street next to a man  -7.8015</li><li>a woman riding a bike down a street next to a man  -7.8015</li><li>a woman riding a bike down a street next to a man  -7.8015</li><li>a woman riding a bike down a street next to a man  -7.8015</li><li>a woman riding a bike down a street next to a man  -7.8015</li><li>a woman riding a bike down a street next to a man  -7.8015</li><li>a woman riding a bike down a street next to a man  -7.8015</li><li>a woman riding a bike down a street next to a man  -7.8015</li><li>a woman riding a bike down a street next to a man  -7.8015</li><li>a woman riding a bike down a street next to a man  -7.8015</li><li>a woman riding a bike down a street next to a man  -7.8015</li><li>a woman riding a bike down a street next to a man  -7.8015</li><li>a woman riding a bike down a street next to a man  -7.8015</li><li>a woman riding a bike down a street next to a man  -7.8015</li><li>a woman riding a bike down a street next to a man  -7.8015</li><li>a woman riding a bike down a street next to a man  -7.8015</li><li>a woman riding a bike down a street next to a man  -7.8015</li><li>a woman riding a bike down a street next to a man  -7.8015</li><li>a woman riding a bike down a street next to a man  -7.8015</li><li>a woman riding a bike down a street next to a man  -7.8015</li><li>a woman riding a bike down a street next to a man  -7.8015</li><li>a woman riding a bike down a street next to a man  -7.8015</li><li>a woman riding a bike down a street next to a man  -7.8015</li><li>a woman riding a bike down a street next to a man  -7.8015</li><li>a woman riding a bike down a street next to a man  -7.8015</li><li>a woman riding a bike down a street next to a man  -7.8015</li><li>a woman riding a bike down a street next to a man  -7.8015</li><li>a woman riding a bike down a street next to a man  -7.8015</li><li>a woman riding a bike down a street next to a man  -7.8015</li><li>a woman riding a bike down a street next to a man  -7.8015</li><li>a woman riding a bike down a street next to a man  -7.8015</li><li>a woman riding a bike down a street next to a man  -7.8015</li><li>a woman riding a bike down a street next to a man  -7.8015</li><li>a woman riding a bike down a street next to a man  -7.8015</li><li>a woman riding a bike down a street next to a man  -7.8015</li><li>a woman riding a bike down a street next to a man  -7.8015</li><li>a woman riding a bike down a street next to a man  -7.8015</li><li>a woman riding a bike down a street next to a man  -7.8015</li><li>a woman riding a bike down a street next to a man  -7.8015</li><li>a woman riding a bike down a street next to a man  -7.8015</li><li>a woman riding a bike down a street next to a man  -7.8015</li><li>a woman riding a bike down a street next to a man  -7.8015</li><li>a woman riding a bike down a street next to a man  -7.8015</li><li>a woman riding a bike down a street next to a man  -7.8015</li><li>a woman riding a bike down a street next to a man  -7.8015</li><li>a woman riding a bike down a street next to a man  -7.8015</li><li>a woman riding a bike down a street next to a man  -7.8015</li><li>a woman riding a bike down a street next to a man  -7.8015</li><li>a woman riding a bike down a street next to a man  -7.8015</li><li>a woman riding a bike down a street next to a man  -7.8015</li><li>a woman riding a bike down a street next to a man  -7.8015</li><li>a woman riding a bike down a street next to a man  -7.8015</li><li>a woman riding a bike down a street next to a man  -7.8015</li><li>a woman riding a bike down a street next to a man  -7.8015</li><li>a woman riding a bike down a street next to a man  -7.8015</li><li>a woman riding a bike down a street next to a woman  -7.7876</li></ol></td></tr></table>"
      ],
      "text/plain": [
       "<IPython.core.display.HTML object>"
      ]
     },
     "metadata": {},
     "output_type": "display_data"
    },
    {
     "data": {
      "text/html": [
       "<table><tr><td><img width=300 src=\"train2014/COCO_train2014_000000329755.jpg\" ></img></td><td><img width=300 src=\"val2014/COCO_val2014_000000493846.jpg\" ></img></td><td><img width=300 src=\"val2014/COCO_val2014_000000016961.jpg\" ></img></td><td><img width=300 src=\"val2014/COCO_val2014_000000087920.jpg\" ></img></td></tr><tr><td><ol><li>a man on a bicycle stopped at an intersection</li><li>a man with an orange vest on a bicycle is at an intersection</li><li>a man in an orange vest riding a bike</li><li>man on bike smiling at camera while sitting in intersection</li><li>a man is riding his bike that has packages strapped to the back</li></ol></td><td><ol><li>a man riding a bike down a street past a young man</li><li>an out of shape man rides a bicycle</li><li>an older man is riding his bike down the road</li><li>a person riding a bike on a city street</li><li>an older man riding a bike on a street</li></ol></td><td><ol><li>a guy riding a skateboard on the road with a long pole</li><li>a man long boarding with a stick to propel him</li><li>a man with a stick pushing himself by skateboard</li><li>guy riding skateboard with a long stick while others ride bikes around him</li><li>adult male pushing himself on a skateboard with a stick</li></ol></td><td><ol><li>a lady is riding a bicycle while talking on a cell phone</li><li>a woman rides her bike and talks on the phone</li><li>woman on cell phone bicycling down the street</li><li>a woman on a bike while on a cell phone</li><li>a woman riding a bicycle making a call on the road near a building with cars</li></ol></td></tr></table>"
      ],
      "text/plain": [
       "<IPython.core.display.HTML object>"
      ]
     },
     "metadata": {},
     "output_type": "display_data"
    },
    {
     "name": "stdout",
     "output_type": "stream",
     "text": [
      "\n"
     ]
    },
    {
     "data": {
      "text/html": [
       "<table><tr><td><img width=300 src=\"val2014/COCO_val2014_000000129001.jpg\" ></img></td></tr><tr><td><ol><li>a bathroom with a shower curtain and a shower  -10.5233</li><li>a bathroom with a shower curtain and a shower  -10.5233</li><li>a bathroom with a shower curtain and a shower  -10.5233</li><li>a bathroom with a shower curtain and a shower  -10.5233</li><li>a bathroom with a shower curtain and a shower  -10.5233</li><li>a bathroom with a shower curtain and a sink  -9.9499</li><li>a bathroom with a shower curtain and a sink  -9.9499</li><li>a bathroom with a shower curtain and a sink  -9.9499</li><li>a bathroom with a shower curtain and a sink  -9.9499</li><li>a bathroom with a shower curtain and a sink  -9.9499</li><li>a bathroom with a shower curtain and a sink  -9.9499</li><li>a bathroom with a shower curtain and a sink  -9.9499</li><li>a bathroom with a shower curtain and a sink  -9.9499</li><li>a bathroom with a shower curtain and a sink  -9.9499</li><li>a bathroom with a shower curtain and a sink  -9.9499</li><li>a bathroom with a shower curtain and a sink  -9.9499</li><li>a bathroom with a shower curtain and a sink  -9.9499</li><li>a bathroom with a shower curtain and a sink  -9.9499</li><li>a bathroom with a shower curtain and a sink  -9.9499</li><li>a bathroom with a shower curtain and a sink  -9.9499</li><li>a bathroom with a shower curtain and a sink  -9.9499</li><li>a bathroom with a shower curtain and a sink  -9.9499</li><li>a bathroom with a shower curtain and a sink  -9.9499</li><li>a bathroom with a shower curtain and a sink  -9.9499</li><li>a bathroom with a shower curtain and a sink  -9.9499</li><li>a bathroom with a shower curtain and a sink  -9.9499</li><li>a bathroom with a shower curtain and a sink  -9.9499</li><li>a bathroom with a shower curtain and a sink  -9.9499</li><li>a bathroom with a shower curtain and a sink  -9.9499</li><li>a bathroom with a shower curtain and a sink  -9.9499</li><li>a bathroom with a shower curtain and a sink  -9.9499</li><li>a bathroom with a shower curtain and a sink  -9.9499</li><li>a bathroom with a shower curtain and a sink  -9.9499</li><li>a bathroom with a shower curtain and a sink  -9.9499</li><li>a bathroom with a shower curtain and a sink  -9.9499</li><li>a bathroom with a shower curtain and a sink  -9.9499</li><li>a bathroom with a shower curtain and a sink  -9.9499</li><li>a bathroom with a shower curtain and a sink  -9.9499</li><li>a bathroom with a shower curtain and a sink  -9.9499</li><li>a bathroom with a shower curtain and a sink  -9.9499</li><li>a bathroom with a shower curtain and a sink  -9.9499</li><li>a bathroom with a shower curtain and a sink  -9.9499</li><li>a bathroom with a shower curtain and a sink  -9.9499</li><li>a bathroom with a shower curtain and a sink  -9.9499</li><li>a bathroom with a shower curtain and a sink  -9.9499</li><li>a bathroom with a shower curtain and a sink  -9.9499</li><li>a bathroom with a shower curtain and a sink  -9.9499</li><li>a bathroom with a shower curtain and a sink  -9.9499</li><li>a bathroom with a shower curtain and a sink  -9.9499</li><li>a bathroom with a tub and a sink  -8.7185</li><li>a bathroom with a tub and a sink  -8.7185</li><li>a bathroom with a sink and a shower  -8.5851</li><li>a bathroom with a sink and a shower  -8.5851</li><li>a bathroom with a shower and a sink  -8.0559</li><li>a bathroom with a shower and a sink  -8.0559</li><li>a bathroom with a shower and a sink  -8.0559</li><li>a bathroom with a shower and a sink  -8.0559</li><li>a bathroom with a shower and a sink  -8.0559</li><li>a bathroom with a shower and a sink  -8.0559</li><li>a bathroom with a shower and a sink  -8.0559</li><li>a bathroom with a shower and a sink  -8.0559</li><li>a bathroom with a shower and a sink  -8.0559</li><li>a bathroom with a shower and a sink  -8.0559</li><li>a bathroom with a shower and a sink  -8.0559</li><li>a bathroom with a shower and a sink  -8.0559</li><li>a bathroom with a shower and a sink  -8.0559</li><li>a bathroom with a shower and a sink  -8.0559</li><li>a bathroom with a shower and a sink  -8.0559</li><li>a bathroom with a shower and a sink  -8.0559</li><li>a bathroom with a shower and a sink  -8.0559</li><li>a bathroom with a shower and a sink  -8.0559</li><li>a bathroom with a shower and a sink  -8.0559</li><li>a bathroom with a shower and a sink  -8.0559</li><li>a bathroom with a shower and a sink  -8.0559</li><li>a bathroom with a shower and a sink  -8.0559</li><li>a bathroom with a shower and a sink  -8.0559</li><li>a bathroom with a shower and a sink  -8.0559</li><li>a bathroom with a shower and a sink  -8.0559</li><li>a bathroom with a shower and a sink  -8.0559</li><li>a bathroom with a shower and a sink  -8.0559</li><li>a bathroom with a shower and a sink  -8.0559</li><li>a bathroom with a shower and a sink  -8.0559</li><li>a bathroom with a shower and a sink  -8.0559</li><li>a bathroom with a shower and a sink  -8.0559</li><li>a bathroom with a shower and a sink  -8.0559</li><li>a bathroom with a shower and a sink  -8.0559</li><li>a bathroom with a shower and a sink  -8.0559</li><li>a bathroom with a shower and a sink  -8.0559</li><li>a bathroom with a shower and a sink  -8.0559</li><li>a bathroom with a shower and a sink  -8.0559</li><li>a bathroom with a shower and a sink  -8.0559</li><li>a bathroom with a shower and a sink  -8.0559</li><li>a bathroom with a shower and a sink  -8.0559</li><li>a bathroom with a shower and a sink  -8.0559</li><li>a bathroom with a shower and a sink  -8.0559</li><li>a bathroom with a shower and a sink  -8.0559</li><li>a bathroom with a shower and a sink  -8.0559</li><li>a bathroom with a shower and a sink  -8.0559</li><li>a bathroom with a shower and a sink  -8.0559</li><li>a bathroom with a shower and a sink  -8.0559</li></ol></td></tr></table>"
      ],
      "text/plain": [
       "<IPython.core.display.HTML object>"
      ]
     },
     "metadata": {},
     "output_type": "display_data"
    },
    {
     "data": {
      "text/html": [
       "<table><tr><td><img width=300 src=\"train2014/COCO_train2014_000000037126.jpg\" ></img></td><td><img width=300 src=\"train2014/COCO_train2014_000000187972.jpg\" ></img></td><td><img width=300 src=\"val2014/COCO_val2014_000000383606.jpg\" ></img></td><td><img width=300 src=\"val2014/COCO_val2014_000000134715.jpg\" ></img></td></tr><tr><td><ol><li>camera flash reflected in a mirror in a small tiled bathroom</li><li>flash from camera glares in the mirror above the toilet</li><li>a very small rest room with a toilet and sink</li><li>a bath room with a toilet a sink and a mirror</li><li>a person take a picture of a bathroom</li></ol></td><td><ol><li>a bathroom that has its lights turned on</li><li>a simple modern bathroom is displayed in the dim light</li><li>a bathroom has a window and a glass door</li><li>a modern bathroom offers visitors a touch of privacy during toiletry</li><li>a bathroom that is very white with a light on</li></ol></td><td><ol><li>a blue corner sink with a man reflected in the above mirrors</li><li>a bathroom with a sink and a mirror</li><li>a person taking a picture inside a bathroom with a blue sink and a brown door</li><li>compact hotel bathroom with corner basin and mirrors</li><li>a man holding a camera reflected in a bathroom mirror that sits above a sink and</li></ol></td><td><ol><li>a large mirror above a sink in a bathroom</li><li>a view of a bathroom that looks very elegant</li><li>a bathroom with vanity toilet and tub is decorated in UNK and browns</li><li>a bathroom showing sink toilet and shower</li><li>a shower that has a bar in it</li></ol></td></tr></table>"
      ],
      "text/plain": [
       "<IPython.core.display.HTML object>"
      ]
     },
     "metadata": {},
     "output_type": "display_data"
    },
    {
     "name": "stdout",
     "output_type": "stream",
     "text": [
      "\n"
     ]
    },
    {
     "data": {
      "text/html": [
       "<table><tr><td><img width=300 src=\"val2014/COCO_val2014_000000556616.jpg\" ></img></td></tr><tr><td><ol><li>a parking meter is shown with a car parked in front of it  -16.3455</li><li>a parking meter with a car parked on the side of it  -12.9902</li><li>a parking meter with a car parked on the side of it  -12.9902</li><li>a parking meter with a car parked on the side of it  -12.9902</li><li>a parking meter is shown in the middle of a street  -12.6297</li><li>a parking meter with a parking meter on the side of it  -12.3834</li><li>a parking meter with a parking meter on the side of it  -12.3834</li><li>a parking meter with a parking meter on the side of it  -12.3834</li><li>a parking meter with a parking meter on the side of it  -12.3834</li><li>a parking meter with a parking meter on the side of it  -12.3834</li><li>a parking meter with a parking meter on the side of it  -12.3834</li><li>a parking meter with a parking meter on the side of it  -12.3834</li><li>a parking meter with a parking meter on the side of it  -12.3834</li><li>a parking meter with a parking meter on the side of it  -12.3834</li><li>a parking meter with a parking meter on the side of it  -12.3834</li><li>a parking meter with a parking meter on the side of it  -12.3834</li><li>a parking meter with a parking meter on the side of it  -12.3834</li><li>a parking meter with a parking meter on the side of it  -12.3834</li><li>a parking meter with a parking meter on the side of it  -12.3834</li><li>a parking meter with a parking meter on the side of it  -12.3834</li><li>a parking meter with a parking meter on the side of it  -12.3834</li><li>a parking meter with a parking meter on the side of it  -12.3834</li><li>a parking meter with a parking meter on the side of it  -12.3834</li><li>a parking meter with a parking meter on the side of it  -12.3834</li><li>a parking meter with a parking meter on the side of it  -12.3834</li><li>a parking meter with a parking meter on the side of it  -12.3834</li><li>a parking meter with a parking meter on the side of it  -12.3834</li><li>a parking meter with a parking meter on the side of it  -12.3834</li><li>a parking meter with a parking meter on the side of it  -12.3834</li><li>a parking meter with a parking meter on the side of it  -12.3834</li><li>a parking meter with a parking meter on the side of it  -12.3834</li><li>a parking meter with a parking meter on the side of it  -12.3834</li><li>a parking meter with a parking meter on the side of it  -12.3834</li><li>a parking meter with a bunch of cars parked on it  -11.7802</li><li>a parking meter with a bunch of cars parked on it  -11.7802</li><li>a parking meter with a bunch of cars parked on it  -11.7802</li><li>a parking meter with a bunch of cars parked on it  -11.7802</li><li>a parking meter with a bunch of cars parked on it  -11.7802</li><li>a parking meter with a bunch of parked cars on it  -11.6945</li><li>a parking meter with a bunch of parked cars on it  -11.6945</li><li>a parking meter with a bunch of parked cars on it  -11.6945</li><li>a parking meter with a bunch of parked cars on it  -11.6945</li><li>a parking meter with a bunch of parked on it  -11.0147</li><li>a parking meter with a bunch of parked cars  -10.9903</li><li>a parking meter with a bunch of parked cars  -10.9903</li><li>a parking meter with a bunch of parked cars  -10.9903</li><li>a parking meter with a bunch of parked cars  -10.9903</li><li>a parking meter with a parking meter on it  -10.5553</li><li>a parking meter with a parking meter on it  -10.5553</li><li>a parking meter with a parking meter on it  -10.5553</li><li>a parking meter with a parking meter on it  -10.5553</li><li>a parking meter with a parking meter on it  -10.5553</li><li>a parking meter with a parking meter on it  -10.5553</li><li>a parking meter with a parking meter on it  -10.5553</li><li>a parking meter with a parking meter on it  -10.5553</li><li>a parking meter with a parking meter on it  -10.5553</li><li>a parking meter with a parking meter on it  -10.5553</li><li>a parking meter with a parking meter on it  -10.5553</li><li>a parking meter with a parking meter on it  -10.5553</li><li>a parking meter with a parking meter on it  -10.5553</li><li>a parking meter with a parking meter on it  -10.5553</li><li>a parking meter with a parking meter on it  -10.5553</li><li>a parking meter with a parking meter on it  -10.5553</li><li>a parking meter with a parking meter on it  -10.5553</li><li>a parking meter with a parking meter on it  -10.5553</li><li>a parking meter with a car parked next to it  -10.5458</li><li>a parking meter with a car parked next to it  -10.5458</li><li>a parking meter with a bunch of cars on it  -10.2263</li><li>a parking meter with a bunch of cars on it  -10.2263</li><li>a parking meter with a bunch of cars on it  -10.2263</li><li>a parking meter with a bunch of cars on it  -10.2263</li><li>a parking meter with a bunch of cars on it  -10.2263</li><li>a parking meter with a bunch of cars on it  -10.2263</li><li>a parking meter with a bunch of cars on it  -10.2263</li><li>a parking meter with a bunch of parking meters on it  -10.1800</li><li>a parking meter with a bunch of parking meters on it  -10.1800</li><li>a parking meter with a bunch of parking meters on it  -10.1800</li><li>a parking meter with a bunch of parking meters on it  -10.1800</li><li>a parking meter with a bunch of parking meters on it  -10.1800</li><li>a parking meter with a bunch of parking meters on it  -10.1800</li><li>a parking meter with a bunch of parking meters on it  -10.1800</li><li>a parking meter with a bunch of parking meters on it  -10.1800</li><li>a parking meter with a bunch of parking meters on it  -10.1800</li><li>a parking meter with a bunch of parking meters on it  -10.1800</li><li>a parking meter with a bunch of parking meters on it  -10.1800</li><li>a parking meter with a bunch of parking meters on it  -10.1800</li><li>a parking meter with a bunch of parking meters on it  -10.1800</li><li>a parking meter with a bunch of parking meters on it  -10.1800</li><li>a parking meter with a bunch of parking meters on it  -10.1800</li><li>a parking meter with a bunch of parking meters on it  -10.1800</li><li>a parking meter with a bunch of parking meters on it  -10.1800</li><li>a parking meter with a bunch of parking meters on it  -10.1800</li><li>a parking meter with a bunch of parking meters on it  -10.1800</li><li>a parking meter with a bunch of parking meters on it  -10.1800</li><li>a parking meter with a bunch of parking meters on it  -10.1800</li><li>a parking meter with a bunch of parking meters on it  -10.1800</li><li>a parking meter with a bunch of parking meters on it  -10.1800</li><li>a parking meter with a bunch of parking meters on it  -10.1800</li><li>a parking meter with a bunch of parking meters on it  -10.1800</li><li>a parking meter with a bunch of parking meters on it  -10.1800</li></ol></td></tr></table>"
      ],
      "text/plain": [
       "<IPython.core.display.HTML object>"
      ]
     },
     "metadata": {},
     "output_type": "display_data"
    },
    {
     "data": {
      "text/html": [
       "<table><tr><td><img width=300 src=\"train2014/COCO_train2014_000000253528.jpg\" ></img></td><td><img width=300 src=\"train2014/COCO_train2014_000000539767.jpg\" ></img></td><td><img width=300 src=\"val2014/COCO_val2014_000000135410.jpg\" ></img></td><td><img width=300 src=\"train2014/COCO_train2014_000000068789.jpg\" ></img></td></tr><tr><td><ol><li>a row of parking meters sitting next to parked cars</li><li>a row of parking meters along a road</li><li>a sidewalk with many parking meters going all the way down the street</li><li>a boy in red is walking past change meters</li><li>a city street lined with parking meters and parked cars</li></ol></td><td><ol><li>a red bike parked in a parking lot next to buildings</li><li>a view of a parked motorcycle from behind</li><li>a close up of a red parked motorcycle on pavement</li><li>a view of a motorcycle from its back end</li><li>the large motorcycle has two cup holders on it</li></ol></td><td><ol><li>a bike leaning up to a parking meter</li><li>a coin meter that is next to a ladder with balls on it</li><li>a parking meter is on the street in front of a building</li><li>a stack of balls that is next to a parking meter</li><li>a parking meter next to a ladder with bowling balls on each UNK</li></ol></td><td><ol><li>a bunch of cars are passing by a couple meters</li><li>a street wet from rain and crowded with cars</li><li>some parking meters sitting on the side of the road</li><li>a wet street with moving cars parked cars and parking meters</li><li>there are many cars and UNK on this street</li></ol></td></tr></table>"
      ],
      "text/plain": [
       "<IPython.core.display.HTML object>"
      ]
     },
     "metadata": {},
     "output_type": "display_data"
    },
    {
     "name": "stdout",
     "output_type": "stream",
     "text": [
      "\n"
     ]
    },
    {
     "data": {
      "text/html": [
       "<table><tr><td><img width=300 src=\"val2014/COCO_val2014_000000472621.jpg\" ></img></td></tr><tr><td><ol><li>a bathroom with a sink tub and a mirror  -9.8032</li><li>a bathroom with a sink and a tub  -8.1933</li><li>a bathroom with a sink and a tub  -8.1933</li><li>a bathroom with a sink and a bathtub  -7.6831</li><li>a bathroom with a sink and a bathtub  -7.6831</li><li>a bathroom with a sink and a bathtub  -7.6831</li><li>a bathroom with a sink and a bathtub  -7.6831</li><li>a bathroom with a sink and a bathtub  -7.6831</li><li>a bathroom with a sink and a bathtub  -7.6831</li><li>a bathroom with a sink and a bathtub  -7.6831</li><li>a bathroom with a sink and a bathtub  -7.6831</li><li>a bathroom with a sink and a bathtub  -7.6831</li><li>a bathroom with a sink and a bathtub  -7.6831</li><li>a bathroom with a sink and a bathtub  -7.6831</li><li>a bathroom with a sink and a bathtub  -7.6831</li><li>a bathroom with a sink and a bathtub  -7.6831</li><li>a bathroom with a sink and a bathtub  -7.6831</li><li>a bathroom with a sink and a bathtub  -7.6831</li><li>a bathroom with a sink and a bathtub  -7.6831</li><li>a bathroom with a sink and a bathtub  -7.6831</li><li>a bathroom with a sink and a bathtub  -7.6831</li><li>a bathroom with a sink and a bathtub  -7.6831</li><li>a bathroom with a sink and a bathtub  -7.6831</li><li>a bathroom with a sink and a bathtub  -7.6831</li><li>a bathroom with a sink and a bathtub  -7.6831</li><li>a bathroom with a sink and a bathtub  -7.6831</li><li>a bathroom with a sink and a bathtub  -7.6831</li><li>a bathroom with a sink and a bathtub  -7.6831</li><li>a bathroom with a sink and a bathtub  -7.6831</li><li>a bathroom with a sink and a bathtub  -7.6831</li><li>a bathroom with a tub sink and mirror  -7.6725</li><li>a bathroom with a tub and a sink  -7.5532</li><li>a bathroom with a tub and a sink  -7.5532</li><li>a bathroom with a tub and a sink  -7.5532</li><li>a bathroom with a tub and a sink  -7.5532</li><li>a bathroom with a tub and a sink  -7.5532</li><li>a bathroom with a tub and a sink  -7.5532</li><li>a bathroom with a tub and a sink  -7.5532</li><li>a bathroom with a tub and a sink  -7.5532</li><li>a bathroom with a tub and a sink  -7.5532</li><li>a bathroom with a tub and a sink  -7.5532</li><li>a bathroom with a tub and a sink  -7.5532</li><li>a bathroom with a tub and a sink  -7.5532</li><li>a bathroom with a tub and a sink  -7.5532</li><li>a bathroom with a tub and a sink  -7.5532</li><li>a bathroom with a tub and a sink  -7.5532</li><li>a bathroom with a tub and a sink  -7.5532</li><li>a bathroom with a tub and a sink  -7.5532</li><li>a bathroom with a tub and a sink  -7.5532</li><li>a bathroom with a tub and a sink  -7.5532</li><li>a bathroom with a tub and a sink  -7.5532</li><li>a bathroom with a tub and a sink  -7.5532</li><li>a bathroom with a tub and a sink  -7.5532</li><li>a bathroom with a tub and a sink  -7.5532</li><li>a bathroom with a tub and a sink  -7.5532</li><li>a bathroom with a tub and a sink  -7.5532</li><li>a bathroom with a tub and a sink  -7.5532</li><li>a bathroom with a tub and a sink  -7.5532</li><li>a bathroom with a tub and a sink  -7.5532</li><li>a bathroom with a tub and a sink  -7.5532</li><li>a bathroom with a tub and a sink  -7.5532</li><li>a bathroom with a tub and a sink  -7.5532</li><li>a bathroom with a tub and a sink  -7.5532</li><li>a bathroom with a tub and a sink  -7.5532</li><li>a bathroom with a tub and a sink  -7.5532</li><li>a bathroom with a tub and a sink  -7.5532</li><li>a bathroom with a tub and a sink  -7.5532</li><li>a bathroom with a tub and a sink  -7.5532</li><li>a bathroom with a tub and a sink  -7.5532</li><li>a bathroom with a tub and a sink  -7.5532</li><li>a bathroom with a tub and a sink  -7.5532</li><li>a bathroom with a tub and a sink  -7.5532</li><li>a bathroom with a tub and a sink  -7.5532</li><li>a bathroom with a tub and a sink  -7.5532</li><li>a bathroom with a tub and a sink  -7.5532</li><li>a bathroom with a tub and a sink  -7.5532</li><li>a bathroom with a tub and a sink  -7.5532</li><li>a bathroom with a tub and a sink  -7.5532</li><li>a bathroom with a tub and a sink  -7.5532</li><li>a bathroom with a tub and a sink  -7.5532</li><li>a bathroom with a tub and a sink  -7.5532</li><li>a bathroom with a tub and a sink  -7.5532</li><li>a bathroom with a tub and a sink  -7.5532</li><li>a bathroom with a tub and a sink  -7.5532</li><li>a bathroom with a tub and a sink  -7.5532</li><li>a bathroom with a tub and a sink  -7.5532</li><li>a bathroom with a tub and a sink  -7.5532</li><li>a bathroom with a tub and a sink  -7.5532</li><li>a bathroom with a tub and a sink  -7.5532</li><li>a bathroom with a tub and a sink  -7.5532</li><li>a bathroom with a tub and a sink  -7.5532</li><li>a bathroom with a tub and a sink  -7.5532</li><li>a bathroom with a tub and a sink  -7.5532</li><li>a bathroom with a tub and a sink  -7.5532</li><li>a bathroom with a tub and a sink  -7.5532</li><li>a bathroom with a tub and a sink  -7.5532</li><li>a bathroom with a tub and a sink  -7.5532</li><li>a bathroom with a tub and a sink  -7.5532</li><li>a bathroom with a tub and a sink  -7.5532</li><li>a bathroom with a tub and a sink  -7.5532</li></ol></td></tr></table>"
      ],
      "text/plain": [
       "<IPython.core.display.HTML object>"
      ]
     },
     "metadata": {},
     "output_type": "display_data"
    },
    {
     "data": {
      "text/html": [
       "<table><tr><td><img width=300 src=\"train2014/COCO_train2014_000000515287.jpg\" ></img></td><td><img width=300 src=\"train2014/COCO_train2014_000000188343.jpg\" ></img></td><td><img width=300 src=\"train2014/COCO_train2014_000000343670.jpg\" ></img></td><td><img width=300 src=\"train2014/COCO_train2014_000000474732.jpg\" ></img></td></tr><tr><td><ol><li>a white bathroom with a tub sink and mirror</li><li>a bathroom has a sink and bathtub and open door</li><li>a bathroom scene with photo taken above the bath tub</li><li>a bathroom with a sink and mirror and a bathtub</li><li>a bathroom has a sink and a tub</li></ol></td><td><ol><li>there is a hairdryer mounted on the wall next to the double sink vanity</li><li>the bathroom has two sinks a large mirror and a hair dryer</li><li>a bathroom counter topped with personal care items</li><li>a modern residential bathroom with walk in shower</li><li>a bathroom with double marble sinks is equipped with a wall hanging blow dryer</li></ol></td><td><ol><li>a bathroom with his and her sinks under a large mirror</li><li>two round sinks are in a wooden counter top next to a large mirror</li><li>a shiny white bathroom with a wood decorated counter</li><li>a bathroom with two sinks and a mirror</li><li>the double sink in the bathroom is nice and clean</li></ol></td><td><ol><li>a bathroom with a sink a mirror and a UNK</li><li>a bathroom with a sink mirror and towel rack</li><li>a white sink under a mirror and red walls</li><li>a bathroom with red walls a sink and a table</li><li>a bathroom painted red with a sink and wall light</li></ol></td></tr></table>"
      ],
      "text/plain": [
       "<IPython.core.display.HTML object>"
      ]
     },
     "metadata": {},
     "output_type": "display_data"
    },
    {
     "name": "stdout",
     "output_type": "stream",
     "text": [
      "\n"
     ]
    },
    {
     "data": {
      "text/html": [
       "<table><tr><td><img width=300 src=\"val2014/COCO_val2014_000000364521.jpg\" ></img></td></tr><tr><td><ol><li>a yellow fire hydrant with a red and yellow UNK on top  -17.3136</li><li>a yellow fire hydrant with a red and yellow UNK on top  -17.3136</li><li>a yellow fire hydrant with a red and yellow UNK on top  -17.3136</li><li>a yellow fire hydrant with a red and yellow toy on top of it  -17.1617</li><li>a yellow fire hydrant with a red and yellow toy on top of it  -17.1617</li><li>a yellow fire hydrant with a red and yellow toy on top of it  -17.1617</li><li>a yellow fire hydrant with a red and yellow toy on top of it  -17.1617</li><li>a yellow fire hydrant with a red and yellow toy on top of it  -17.1617</li><li>a yellow fire hydrant with a red and yellow toy on top of it  -17.1617</li><li>a yellow fire hydrant with a red and yellow toy on top of it  -17.1617</li><li>a yellow fire hydrant with a red and yellow toy on top of it  -17.1617</li><li>a yellow fire hydrant with a red and yellow UNK on it  -16.7873</li><li>a yellow fire hydrant with a red and yellow fire hydrant  -16.7535</li><li>a yellow fire hydrant with a red and yellow fire hydrant  -16.7535</li><li>a yellow fire hydrant with a red and yellow fire hydrant  -16.7535</li><li>a yellow fire hydrant with a red and yellow fire hydrant  -16.7535</li><li>a yellow fire hydrant with a red and yellow toy  -15.5369</li><li>a yellow fire hydrant with a red and yellow toy  -15.5369</li><li>a yellow fire hydrant with a red and yellow toy  -15.5369</li><li>a yellow fire hydrant with a red and yellow toy  -15.5369</li><li>a yellow fire hydrant with a red and yellow toy  -15.5369</li><li>a yellow fire hydrant with a red and yellow toy  -15.5369</li><li>a yellow fire hydrant with a red and yellow toy  -15.5369</li><li>a yellow fire hydrant with a red and yellow toy  -15.5369</li><li>a yellow fire hydrant with a red and yellow toy  -15.5369</li><li>a yellow fire hydrant with a red and yellow toy  -15.5369</li><li>a yellow fire hydrant with a red and yellow toy  -15.5369</li><li>a yellow fire hydrant with a red and yellow toy  -15.5369</li><li>a yellow fire hydrant with a red and yellow toy  -15.5369</li><li>a yellow fire hydrant with a red and yellow toy  -15.5369</li><li>a yellow fire hydrant with a red and yellow toy  -15.5369</li><li>a yellow fire hydrant with a red and yellow toy  -15.5369</li><li>a yellow fire hydrant with a red and yellow toy  -15.5369</li><li>a yellow fire hydrant with a red and yellow toy  -15.5369</li><li>a yellow fire hydrant with a red and yellow toy  -15.5369</li><li>a yellow fire hydrant with a red and yellow toy  -15.5369</li><li>a yellow fire hydrant with a red and yellow toy  -15.5369</li><li>a yellow fire hydrant with a red and yellow toy  -15.5369</li><li>a yellow fire hydrant with a red and yellow toy  -15.5369</li><li>a yellow fire hydrant with a red and yellow toy  -15.5369</li><li>a yellow fire hydrant with a red and yellow toy  -15.5369</li><li>a yellow fire hydrant with a red and yellow toy  -15.5369</li><li>a yellow fire hydrant with a red and yellow smiley face  -15.4896</li><li>a yellow fire hydrant with a red and yellow top  -15.4328</li><li>a yellow fire hydrant with a red and yellow top  -15.4328</li><li>a yellow fire hydrant with a red and yellow top  -15.4328</li><li>a yellow fire hydrant with a red and yellow top  -15.4328</li><li>a yellow fire hydrant with a red and yellow top  -15.4328</li><li>a yellow fire hydrant with a red and yellow top  -15.4328</li><li>a yellow fire hydrant with a red and yellow UNK  -15.4077</li><li>a yellow fire hydrant with a red and yellow UNK  -15.4077</li><li>a yellow fire hydrant with a red and yellow UNK  -15.4077</li><li>a yellow fire hydrant with a red and yellow UNK  -15.4077</li><li>a yellow fire hydrant with a red and yellow UNK  -15.4077</li><li>a yellow fire hydrant with a red and yellow UNK  -15.4077</li><li>a yellow fire hydrant with a red and yellow UNK  -15.4077</li><li>a yellow fire hydrant with a red and yellow UNK  -15.4077</li><li>a yellow fire hydrant with a red and yellow UNK  -15.4077</li><li>a yellow fire hydrant with a red and yellow UNK  -15.4077</li><li>a yellow fire hydrant with a red and yellow UNK  -15.4077</li><li>a yellow fire hydrant with a red and yellow UNK  -15.4077</li><li>a yellow fire hydrant with a red and yellow UNK  -15.4077</li><li>a yellow fire hydrant with a red and yellow UNK  -15.4077</li><li>a yellow fire hydrant with a red and yellow UNK  -15.4077</li><li>a yellow fire hydrant with a red and yellow UNK  -15.4077</li><li>a yellow fire hydrant with a red and yellow UNK  -15.4077</li><li>a yellow fire hydrant with a red and yellow UNK  -15.4077</li><li>a yellow fire hydrant with a red and yellow UNK  -15.4077</li><li>a yellow fire hydrant with a red and yellow UNK  -15.4077</li><li>a yellow fire hydrant with a red and yellow UNK  -15.4077</li><li>a yellow fire hydrant with a red and yellow UNK  -15.4077</li><li>a yellow fire hydrant with a red and yellow UNK  -15.4077</li><li>a yellow fire hydrant with a red and yellow UNK  -15.4077</li><li>a yellow fire hydrant with a red and yellow UNK  -15.4077</li><li>a yellow fire hydrant with a red and yellow UNK  -15.4077</li><li>a yellow fire hydrant with a red and yellow UNK  -15.4077</li><li>a yellow fire hydrant with a red and yellow UNK  -15.4077</li><li>a yellow fire hydrant with a red and yellow UNK  -15.4077</li><li>a yellow fire hydrant with a red and yellow UNK  -15.4077</li><li>a yellow fire hydrant with a red and yellow UNK  -15.4077</li><li>a yellow fire hydrant with a red and yellow UNK  -15.4077</li><li>a yellow fire hydrant with a yellow and red  -14.8418</li><li>a yellow fire hydrant with a red apple on top of it  -11.9712</li><li>a yellow fire hydrant sitting on top of a pile of dirt  -9.0280</li><li>a yellow fire hydrant sitting on top of a pile of dirt  -9.0280</li><li>a yellow fire hydrant sitting on top of a dirt field  -9.0111</li><li>a yellow fire hydrant sitting on top of a dirt field  -9.0111</li><li>a yellow fire hydrant sitting on top of a dirt field  -9.0111</li><li>a yellow fire hydrant sitting on top of a dirt field  -9.0111</li><li>a yellow fire hydrant sitting on top of a dirt field  -9.0111</li><li>a yellow fire hydrant sitting on top of a dirt field  -9.0111</li><li>a yellow fire hydrant sitting on top of a dirt field  -9.0111</li><li>a yellow fire hydrant sitting on top of a dirt field  -9.0111</li><li>a yellow fire hydrant sitting on top of a dirt field  -9.0111</li><li>a yellow fire hydrant sitting on top of a dirt field  -9.0111</li><li>a yellow fire hydrant sitting on top of a dirt field  -9.0111</li><li>a yellow fire hydrant sitting on top of a dirt field  -9.0111</li><li>a yellow fire hydrant sitting on top of a dirt field  -9.0111</li><li>a yellow fire hydrant sitting on top of a dirt field  -9.0111</li><li>a yellow fire hydrant sitting on top of a dirt field  -9.0111</li></ol></td></tr></table>"
      ],
      "text/plain": [
       "<IPython.core.display.HTML object>"
      ]
     },
     "metadata": {},
     "output_type": "display_data"
    },
    {
     "data": {
      "text/html": [
       "<table><tr><td><img width=300 src=\"val2014/COCO_val2014_000000358345.jpg\" ></img></td><td><img width=300 src=\"train2014/COCO_train2014_000000147196.jpg\" ></img></td><td><img width=300 src=\"train2014/COCO_train2014_000000086071.jpg\" ></img></td><td><img width=300 src=\"train2014/COCO_train2014_000000424739.jpg\" ></img></td></tr><tr><td><ol><li>a water hydrant on the side of the road</li><li>a dog s diaper is attached to a fire hydrant</li><li>a baby bib hangs on a yellow fire hydrant</li><li>yellow fire hydrant with a babys garment hanging on it</li><li>a fire hydrant with a piece of clothing draped over one edge</li></ol></td><td><ol><li>a green and black fire hydrant with a red top in the dry grass</li><li>a black and white fire hydrant topped with a red ball</li><li>a black and white fire hydrant with a red foam clown nose on top</li><li>a painted fire hydrant sitting in dead grass</li><li>black and white fire hydrant surrounded by dead grass</li></ol></td><td><ol><li>a yellow fire hydrant is sitting on a gravel road</li><li>a yellow fire hydrant sitting next to a red fire hydrant</li><li>the fire hydrant is being capped off by something different</li><li>a yellow fire hydrant in a gravel area</li><li>a fire hydrant is attached to a separated shut off apparatus</li></ol></td><td><ol><li>a tree trunk having some UNK tools and containers resting on top</li><li>camping equipment including a portable stove a UNK and a multi tool</li><li>a large glass jar sitting on top of a wooden table next to construction items</li><li>a knife a lighter and several other UNK items sit on the ground</li><li>items placed on a tree stump for making a cooking stove</li></ol></td></tr></table>"
      ],
      "text/plain": [
       "<IPython.core.display.HTML object>"
      ]
     },
     "metadata": {},
     "output_type": "display_data"
    },
    {
     "name": "stdout",
     "output_type": "stream",
     "text": [
      "\n"
     ]
    }
   ],
   "source": [
    "for i in range(10):\n",
    "    caps = this_captions[i]\n",
    "    lps = this_log_probs[i]\n",
    "    scored_caps = sorted(list(zip(lps, caps)))\n",
    "    cap_strings = [\"{}  {:.4f}\".format(cap, lp) for lp, cap in scored_caps]\n",
    "    display_images(this_paths[i:i+1], captions=[cap_strings])\n",
    "    display_neighbors(data['fc_feats'][i].numpy(), k=4, num_per_row=4)\n",
    "    print()"
   ]
  }
 ],
 "metadata": {
  "kernelspec": {
   "display_name": "Python 3",
   "language": "python",
   "name": "python3"
  },
  "language_info": {
   "codemirror_mode": {
    "name": "ipython",
    "version": 3
   },
   "file_extension": ".py",
   "mimetype": "text/x-python",
   "name": "python",
   "nbconvert_exporter": "python",
   "pygments_lexer": "ipython3",
   "version": "3.7.9"
  }
 },
 "nbformat": 4,
 "nbformat_minor": 4
}
